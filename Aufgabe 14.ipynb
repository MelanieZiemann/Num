{
 "cells": [
  {
   "cell_type": "markdown",
   "id": "employed-kidney",
   "metadata": {},
   "source": [
    "# Aufgabe 14: Lösungsvorschlag"
   ]
  },
  {
   "cell_type": "code",
   "execution_count": 1,
   "id": "comprehensive-medium",
   "metadata": {
    "ExecuteTime": {
     "end_time": "2021-11-15T12:56:25.788000+01:00",
     "start_time": "2021-11-15T11:56:24.050Z"
    }
   },
   "outputs": [
    {
     "data": {
      "text/plain": [
       "Inf"
      ]
     },
     "execution_count": 1,
     "metadata": {},
     "output_type": "execute_result"
    }
   ],
   "source": [
    "using LinearAlgebra\n",
    "using Random\n",
    "using Permutations\n",
    "\n",
    "Random.seed!(0815)\n",
    "m = 4000\n",
    "A = randn(m, m)\n",
    "\n",
    "det(A)"
   ]
  },
  {
   "cell_type": "markdown",
   "id": "incomplete-ready",
   "metadata": {},
   "source": [
    "Da Überlauf und Rechnen mit `Inf` das Vorzeichen korrekt behandelt, ist sicherlich $s=1$. Wer es nicht glaubt, rechnet halt nochmal nach..."
   ]
  },
  {
   "cell_type": "code",
   "execution_count": 2,
   "id": "laden-holiday",
   "metadata": {
    "ExecuteTime": {
     "end_time": "2021-11-15T12:56:27.919000+01:00",
     "start_time": "2021-11-15T11:56:27.268Z"
    }
   },
   "outputs": [
    {
     "data": {
      "text/plain": [
       "1.0"
      ]
     },
     "execution_count": 2,
     "metadata": {},
     "output_type": "execute_result"
    }
   ],
   "source": [
    "F = lu(A);                                        # die Grundlage der Determinanten-Berechnung\n",
    "s = sign(Permutation(F.p))*prod(sign.(diag(F.U))) # Vorzeichen"
   ]
  },
  {
   "cell_type": "code",
   "execution_count": 3,
   "id": "familiar-canal",
   "metadata": {
    "ExecuteTime": {
     "end_time": "2021-11-15T12:56:29.822000+01:00",
     "start_time": "2021-11-15T11:56:29.643Z"
    }
   },
   "outputs": [
    {
     "data": {
      "text/plain": [
       "6334.56580228379"
      ]
     },
     "execution_count": 3,
     "metadata": {},
     "output_type": "execute_result"
    }
   ],
   "source": [
    "λ = sum(log10.(abs.(diag(F.U)))) # log₁₀(|det(A)|)"
   ]
  },
  {
   "cell_type": "markdown",
   "id": "familiar-thriller",
   "metadata": {},
   "source": [
    "Dieses Verfahren steckt auch hinter dem Befehl `logabsdet` (natürlicher Logarithmus), der als Argument die Faktorisierung von $A$ akzeptiert:"
   ]
  },
  {
   "cell_type": "code",
   "execution_count": 4,
   "id": "fifteen-charity",
   "metadata": {
    "ExecuteTime": {
     "end_time": "2021-11-15T12:56:31.716000+01:00",
     "start_time": "2021-11-15T11:56:31.451Z"
    }
   },
   "outputs": [
    {
     "data": {
      "text/plain": [
       "(6334.56580228379, 1.0)"
      ]
     },
     "execution_count": 4,
     "metadata": {},
     "output_type": "execute_result"
    }
   ],
   "source": [
    "logabsdet(F)./(log(10), 1)  # Umrechnung auf log₁₀ : ergibt (λ, s)"
   ]
  },
  {
   "cell_type": "markdown",
   "id": "virgin-campbell",
   "metadata": {},
   "source": [
    "Für die Beurteilung der Genauigkeit (bei gegebenem $R$-Faktor...) ermitteln wir die Kondition der Summe für $\\lambda$"
   ]
  },
  {
   "cell_type": "code",
   "execution_count": 5,
   "id": "conceptual-circuit",
   "metadata": {
    "ExecuteTime": {
     "end_time": "2021-11-15T12:56:32.797000+01:00",
     "start_time": "2021-11-15T11:56:32.703Z"
    }
   },
   "outputs": [
    {
     "data": {
      "text/plain": [
       "1.0"
      ]
     },
     "execution_count": 5,
     "metadata": {},
     "output_type": "execute_result"
    }
   ],
   "source": [
    "κ = sum(abs.(log10.(abs.(diag(F.U)))))/abs(λ)  # Kondition der Summe für λ"
   ]
  },
  {
   "cell_type": "markdown",
   "id": "incorporated-energy",
   "metadata": {},
   "source": [
    "Und hier die Mantisse (auf $9 = 1+8$ Stellen gerundet, wie im PDF des Lösungsvorschlags erläutert) und der Exponent von $\\det(\\hat A)=s\\cdot 10^\\lambda$:"
   ]
  },
  {
   "cell_type": "code",
   "execution_count": 6,
   "id": "attractive-television",
   "metadata": {
    "ExecuteTime": {
     "end_time": "2021-11-15T12:56:34.153000+01:00",
     "start_time": "2021-11-15T11:56:34.114Z"
    }
   },
   "outputs": [
    {
     "data": {
      "text/plain": [
       "(3.67961418, 6334.0)"
      ]
     },
     "execution_count": 6,
     "metadata": {},
     "output_type": "execute_result"
    }
   ],
   "source": [
    "ex = floor(λ)\n",
    "round(10^(λ-ex), digits=8), ex"
   ]
  },
  {
   "cell_type": "markdown",
   "id": "annoying-congress",
   "metadata": {},
   "source": [
    "### Alternative Lösung: Skalierung\n",
    "\n",
    "Über- und Unterlauf lassen sich auch durch _Skalierung_ vermeiden. Diese ist für Determinanten wegen des Skalierungsverhaltens $\\det(A)= \\alpha^{m}\\det(\\alpha^{-1} A)$ für große Dimensionen $m$ aber notorisch schwierig. Ohne Verwendung von `logabsdet` ist es daher äußerst schwer, ein brauchbares $\\alpha$ zu finden. Aber in Kenntnis der Größenordnung $10^{6334}$ ist dies jetzt möglich:"
   ]
  },
  {
   "cell_type": "code",
   "execution_count": 7,
   "id": "premier-poker",
   "metadata": {
    "ExecuteTime": {
     "end_time": "2021-11-15T12:56:39.681000+01:00",
     "start_time": "2021-11-15T11:56:39.246Z"
    }
   },
   "outputs": [
    {
     "data": {
      "text/plain": [
       "(3.679614179785332, 6334.0)"
      ]
     },
     "execution_count": 7,
     "metadata": {},
     "output_type": "execute_result"
    }
   ],
   "source": [
    "logα = round(ex/m, digits=4)\n",
    "(det(A/10^logα), m*logα)"
   ]
  },
  {
   "cell_type": "markdown",
   "id": "radical-pizza",
   "metadata": {},
   "source": [
    "Wir können so aber kaum an Genauigkeit gewinnen: Zwar entfällt die Subtraktion des ganzzahligen Anteils $6334$, im Gegenzug erhöht sich aber die Kondition der Summe für $\\lambda$ um den Faktor $\\approx 1000$ (dies ist bei näherem Nachdenken natürlich kein Zufall), was einer Einbuße von 3 Ziffern entspricht: "
   ]
  },
  {
   "cell_type": "code",
   "execution_count": 8,
   "id": "simple-trainer",
   "metadata": {
    "ExecuteTime": {
     "end_time": "2021-11-15T12:56:41.401000+01:00",
     "start_time": "2021-11-15T11:56:40.952Z"
    }
   },
   "outputs": [
    {
     "data": {
      "text/plain": [
       "1178.3184615554235"
      ]
     },
     "execution_count": 8,
     "metadata": {},
     "output_type": "execute_result"
    }
   ],
   "source": [
    "F = lu(A/10^logα)\n",
    "λ = sum(log10.(abs.(diag(F.U))))\n",
    "κ = sum(abs.(log10.(abs.(diag(F.U)))))/abs(λ)"
   ]
  },
  {
   "cell_type": "markdown",
   "id": "informational-mileage",
   "metadata": {},
   "source": [
    "Wir erhalten so eine Genauigkeit von $13-3 = 10$ Ziffern für $\\det(\\hat A)$:"
   ]
  },
  {
   "cell_type": "code",
   "execution_count": 9,
   "id": "active-discipline",
   "metadata": {
    "ExecuteTime": {
     "end_time": "2021-11-15T12:56:42.084000+01:00",
     "start_time": "2021-11-15T11:56:42.080Z"
    }
   },
   "outputs": [
    {
     "data": {
      "text/plain": [
       "(3.67961418, 6334.0)"
      ]
     },
     "execution_count": 9,
     "metadata": {},
     "output_type": "execute_result"
    }
   ],
   "source": [
    "(round(det(F), digits=9), m*logα)"
   ]
  },
  {
   "cell_type": "markdown",
   "id": "invalid-lincoln",
   "metadata": {},
   "source": [
    "## Weitergehende Diskussion der erzielten Genauigkeit\n",
    "\n",
    "Wenn die Angabe der belastbaren Ziffern eines numerisch stabilen Resultats nicht ausreicht und eine  Stabilitäts- und Konditionsanalyse mit realistischen Abschätzungen nicht zur Verfügung steht, dann muss man die Sensitivität von Problem & Algorithmus durch den Vergleich mit einer _zweiten_ Maschinengenauigkeit „auf den Prüfstand stellen“. Für eine solche Kontrollrechnung gibt es zwei Möglichkeiten: weniger genau oder genauer.\n",
    "\n",
    "#### Variante 1 der Kontrollrechnung: einfach genau"
   ]
  },
  {
   "cell_type": "code",
   "execution_count": 10,
   "id": "becoming-smooth",
   "metadata": {
    "ExecuteTime": {
     "end_time": "2021-11-15T12:56:45.400000+01:00",
     "start_time": "2021-11-15T11:56:44.403Z"
    },
    "run_control": {
     "marked": false
    }
   },
   "outputs": [
    {
     "data": {
      "text/plain": [
       "(3.6353555f0, 6334.0f0)"
      ]
     },
     "execution_count": 10,
     "metadata": {},
     "output_type": "execute_result"
    }
   ],
   "source": [
    "AA = Float32.(A)\n",
    "\n",
    "λλ, s = logabsdet(AA)./(log(10.f0), 1) \n",
    "\n",
    "ee = floor(λλ)\n",
    "10.f0^(λλ-ee), ee"
   ]
  },
  {
   "cell_type": "markdown",
   "id": "anonymous-organ",
   "metadata": {},
   "source": [
    "Wir sehen eine Übereinstimmung von etwas weniger als 2 Ziffern mit dem doppelt-genauen Resultat. Bei einer Mantissenlänge von etwas weniger als 8 Ziffern haben wir hier also in etwa 6 Ziffern Genauigkeit durch die Kondition des Problems _und_ das Rundungsfehlerverhalten des Algorithmus verloren. Setzen wir den gleichen Verlust auch bei der doppelt-genauen Rechnung an, so gelangen wir zu mindestens 10 korrekten Ziffern \n",
    "\n",
    "$$\\det(A) \\Doteq 3.679614180 \\cdot 10^{6334}.$$\n",
    "\n",
    "Beachte, dass nun wirklich auch $\\det(A)$ und nicht wie oben $\\det(\\hat A)$ (das ja von der gewählten Maschinengenauigkeit abhängt) gemeint ist.\n",
    "\n",
    "#### Variante 2 der Kontrollrechnung: vierfach genau (sehr sehr viel langsamer und völlig unnötig...)"
   ]
  },
  {
   "cell_type": "code",
   "execution_count": 11,
   "id": "acute-handling",
   "metadata": {
    "ExecuteTime": {
     "end_time": "2021-11-15T13:14:23.109000+01:00",
     "start_time": "2021-11-15T11:56:58.522Z"
    }
   },
   "outputs": [
    {
     "data": {
      "text/plain": [
       "3.67961417978457225472287975862788323e+00"
      ]
     },
     "execution_count": 11,
     "metadata": {},
     "output_type": "execute_result"
    }
   ],
   "source": [
    "using Quadmath       # implementiert IEEE754-2008 quadruple precision in Software (gnu libquadmath)\n",
    "                     # (entspricht einer Genauigkeit von ca. 34 Dezimalstellen) \n",
    "\n",
    "AA = Float128.(A)\n",
    "\n",
    "λλ, s = logabsdet(AA)./(log(Float128(10)), 1) \n",
    "ee = floor(λλ)\n",
    "Float128(10)^(λλ-ee)"
   ]
  },
  {
   "cell_type": "markdown",
   "id": "mobile-morris",
   "metadata": {},
   "source": [
    "Wir beobachten hier eine Übereinstimmung von etwas mehr als 11 Ziffern mit der doppelt-genauen Rechnung, d.h. diese hatte tatsächlich nur etwas mehr als 5 Ziffern verloren. Beachte die Konsistenz dieses Ergebnisses mit der Variante 1 unserer Kontrollrechnung: vierfache Genauigkeit ist im vorliegenden Fall allein zur Beurteilung der Genauigkeit der doppelt-genauen Rechnung völliger „Overkill“. \n",
    "\n",
    "Variante 2 ist nur dann empfehlenswert, wenn sich mit Variante 1 kein Ergebnis erzielen lässt (d.h. im Fall, dass das betrachtete Problem zu schlecht konditioniert und/oder der verwendete Algorithmus zu instabil ist)."
   ]
  }
 ],
 "metadata": {
  "@webio": {
   "lastCommId": null,
   "lastKernelId": null
  },
  "kernelspec": {
   "display_name": "Julia 1.6.3",
   "language": "julia",
   "name": "julia-1.6"
  },
  "language_info": {
   "file_extension": ".jl",
   "mimetype": "application/julia",
   "name": "julia",
   "version": "1.6.3"
  },
  "toc": {
   "base_numbering": 1,
   "nav_menu": {},
   "number_sections": false,
   "sideBar": true,
   "skip_h1_title": false,
   "title_cell": "Table of Contents",
   "title_sidebar": "Contents",
   "toc_cell": false,
   "toc_position": {
    "height": "calc(100% - 180px)",
    "left": "10px",
    "top": "150px",
    "width": "288px"
   },
   "toc_section_display": true,
   "toc_window_display": false
  }
 },
 "nbformat": 4,
 "nbformat_minor": 5
}
