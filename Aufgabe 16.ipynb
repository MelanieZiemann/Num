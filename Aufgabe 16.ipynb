{
 "cells": [
  {
   "cell_type": "markdown",
   "metadata": {},
   "source": [
    "## Aufgabe 16: Lösungsvorschlag"
   ]
  },
  {
   "cell_type": "code",
   "execution_count": 1,
   "metadata": {
    "ExecuteTime": {
     "end_time": "2021-11-19T13:22:02.179000+01:00",
     "start_time": "2021-11-19T12:22:01.425Z"
    }
   },
   "outputs": [],
   "source": [
    "using LinearAlgebra"
   ]
  },
  {
   "cell_type": "markdown",
   "metadata": {},
   "source": [
    "### (c) "
   ]
  },
  {
   "cell_type": "markdown",
   "metadata": {},
   "source": [
    "Um den Rückwärtsfehler $\\omega$ zu berechnen, verwenden wir den Satz von Rigal-Gaches [B, §15.2]:"
   ]
  },
  {
   "cell_type": "code",
   "execution_count": 2,
   "metadata": {
    "ExecuteTime": {
     "end_time": "2021-11-19T13:22:02.230000+01:00",
     "start_time": "2021-11-19T12:22:01.427Z"
    },
    "run_control": {
     "marked": false
    }
   },
   "outputs": [],
   "source": [
    "# Rückwärtsfehler in x nach Rigal-Gaches, numerisch aber mindestens die Maschinengenauigkeit\n",
    "\n",
    "ω(A,b,x) = max(norm(b - A*x,Inf)/(opnorm(A,Inf)*norm(x,Inf)), eps()/2); "
   ]
  },
  {
   "cell_type": "markdown",
   "metadata": {},
   "source": [
    "Wir konstruieren eine schlecht konditionierte $2 \\times 2$ Matrix mit fast linear abhängigen Zeilen, achten aber darauf, keine einfachen Zahlen wie $1$, $2$, etc. zu verwenden. Damit erhalten wir (achte auf die Wiederverwendung der $PLR$-Zerlegung `F` von $A$) z.B.:"
   ]
  },
  {
   "cell_type": "code",
   "execution_count": 3,
   "metadata": {
    "ExecuteTime": {
     "end_time": "2021-11-19T13:22:03.351000+01:00",
     "start_time": "2021-11-19T12:22:01.429Z"
    }
   },
   "outputs": [
    {
     "name": "stdout",
     "output_type": "stream",
     "text": [
      "κ = 1 / LAPACK.gecon!('I', ALR, opnorm(A, Inf)) = 3.973764377091614e14\n",
      "Dimension = 2; ω_Backslash = 1.1102230246251565e-16; ω_Kunstfehler = 0.001937984496124031\n"
     ]
    }
   ],
   "source": [
    "m = 2\n",
    "A = 3.0*[1 1; 1-1e-14 1]\n",
    "\n",
    "ALR = copy(A)\n",
    "F = lu!(ALR)   # zur Wiederverwendung der Dreieckszerlegung von A\n",
    "@show κ = 1/LAPACK.gecon!('I', ALR, opnorm(A, Inf)) # sehr schlecht konditioniert, aber nicht numerisch singulär\n",
    "\n",
    "b = ones(m,1)\n",
    "x_std = F\\b; \n",
    "x_Kunstfehler = inv(F)*b\n",
    "\n",
    "ω_Backslash = ω(A,b,x_std)            # Rückwärtsfehler für x = A\\b\n",
    "ω_Kunstfehler = ω(A,b,x_Kunstfehler)  # Rückwärtsfehler für x = inv(A)*b\n",
    "\n",
    "println(\"Dimension = \",m,\"; ω_Backslash = \",ω_Backslash,\"; ω_Kunstfehler = \",ω_Kunstfehler)"
   ]
  },
  {
   "cell_type": "markdown",
   "metadata": {},
   "source": [
    "Das Ergebnis des Kunstfehlers besitzt einen Rückwärtsfehler $\\omega \\gg \\epsilon_\\text{mach}$, ist also **nicht** rückwärtsstabil.\n",
    "\n",
    "### (d) \n",
    "\n",
    "Wir schätzen die Vorwärtsfehler über die Formel aus [B, §15.3] ab:\n",
    "\n",
    "$$\n",
    "  \\text{Vorwärtsfehler}\\le\\kappa(A)\\cdot\\text{Rückwärtsfehler}\n",
    "$$"
   ]
  },
  {
   "cell_type": "code",
   "execution_count": 4,
   "metadata": {
    "ExecuteTime": {
     "end_time": "2021-11-19T13:22:03.887000+01:00",
     "start_time": "2021-11-19T12:22:01.431Z"
    }
   },
   "outputs": [
    {
     "data": {
      "text/plain": [
       "(0.044117647058823525, 7.701093754053514e11)"
      ]
     },
     "execution_count": 4,
     "metadata": {},
     "output_type": "execute_result"
    }
   ],
   "source": [
    "η_Backslash = κ*ω_Backslash     # Vorwärtsfehlerschätzung für x = A\\b\n",
    "η_Kunstfehler = κ*ω_Kunstfehler # Vorwärtsfehlerschätzung für x = inv(A)*b\n",
    "\n",
    "η_Backslash, η_Kunstfehler"
   ]
  },
  {
   "cell_type": "markdown",
   "metadata": {
    "ExecuteTime": {
     "end_time": "2017-01-07T17:06:58.142572",
     "start_time": "2017-01-07T16:06:58.137Z"
    }
   },
   "source": [
    "Da wir die _Abschätzung_ des Vorwärtsfehler immer mit dem *unvermeidbaren Vorwärtsfehler* $\\kappa(A)\\epsilon_\\text{mach}$ vergleichen müssen, fällt die Beurteilung natürlich genau wie beim Rückwärtsfehler aus (die Konditionszahl kürzt sich heraus):\n",
    "die $PLR$-Zerlegung liefert ein stabiles, der Kunstfehler ein instabiles Resultat. \n",
    "\n",
    "Es ist aber davon auszugehen, dass insbesondere die zweite Abschätzung den Vorwärtsfehler beträchtlich _überschätzt_. Einen Hinweis hierfür liefert der unmittelbare Vergleich der beiden Lösungen:"
   ]
  },
  {
   "cell_type": "code",
   "execution_count": 5,
   "metadata": {
    "ExecuteTime": {
     "end_time": "2021-11-19T13:22:04.071000+01:00",
     "start_time": "2021-11-19T12:22:01.434Z"
    }
   },
   "outputs": [
    {
     "data": {
      "text/plain": [
       "0.008012820512820526"
      ]
     },
     "execution_count": 5,
     "metadata": {},
     "output_type": "execute_result"
    }
   ],
   "source": [
    "norm(x_std - x_Kunstfehler,Inf)/norm(x_std,Inf)"
   ]
  },
  {
   "cell_type": "code",
   "execution_count": null,
   "metadata": {},
   "outputs": [],
   "source": []
  }
 ],
 "metadata": {
  "@webio": {
   "lastCommId": null,
   "lastKernelId": null
  },
  "kernelspec": {
   "display_name": "Julia 1.6.3",
   "language": "julia",
   "name": "julia-1.6"
  },
  "language_info": {
   "file_extension": ".jl",
   "mimetype": "application/julia",
   "name": "julia",
   "version": "1.6.3"
  },
  "nav_menu": {},
  "toc": {
   "base_numbering": 1,
   "nav_menu": {},
   "number_sections": false,
   "sideBar": true,
   "skip_h1_title": false,
   "title_cell": "Table of Contents",
   "title_sidebar": "Contents",
   "toc_cell": false,
   "toc_position": {},
   "toc_section_display": "block",
   "toc_window_display": false
  }
 },
 "nbformat": 4,
 "nbformat_minor": 1
}
