{
 "cells": [
  {
   "cell_type": "markdown",
   "id": "dedicated-mounting",
   "metadata": {},
   "source": [
    "# Lösungsvorschlag für Aufgabe 6"
   ]
  },
  {
   "cell_type": "code",
   "execution_count": 1,
   "id": "bearing-favor",
   "metadata": {
    "ExecuteTime": {
     "end_time": "2021-10-29T17:58:42.444000+02:00",
     "start_time": "2021-10-29T15:58:41.780Z"
    }
   },
   "outputs": [],
   "source": [
    "using LinearAlgebra"
   ]
  },
  {
   "cell_type": "markdown",
   "id": "dental-probe",
   "metadata": {},
   "source": [
    "#### A) Das Wissen über die Cholesky-Zerlegung aus dem Beweis von [B, Satz 8.3]\n",
    "\n",
    "Das Programm aus der Vorlesung, d.h."
   ]
  },
  {
   "cell_type": "code",
   "execution_count": 2,
   "id": "hollow-giant",
   "metadata": {
    "ExecuteTime": {
     "end_time": "2021-10-29T17:58:42.498000+02:00",
     "start_time": "2021-10-29T15:58:41.782Z"
    }
   },
   "outputs": [],
   "source": [
    "function CholeskyVL(A) \n",
    "    m,~ = size(A)\n",
    "    L = zeros(eltype(A),m,m)\n",
    "    for k = 1:m\n",
    "        lk = L[1:k-1,1:k-1]\\A[1:k-1,k]\n",
    "        L[k,1:k-1] = lk'\n",
    "        L[k,k] = sqrt(A[k,k] - lk'*lk)\n",
    "    end\n",
    "    return L\n",
    "end;"
   ]
  },
  {
   "cell_type": "markdown",
   "id": "potential-church",
   "metadata": {},
   "source": [
    "basiert auf der Partitionierung\n",
    "$$\n",
    "A_k = \n",
    "\\begin{pmatrix}\n",
    "A_{k-1} & a_k \\\\\n",
    "a'_k    & \\alpha_k \n",
    "\\end{pmatrix},\\quad\n",
    "L_k = \n",
    "\\begin{pmatrix}\n",
    "L_{k-1} &  \\\\\n",
    "l'_k    & \\lambda_k \n",
    "\\end{pmatrix},\\quad\n",
    "L'_k = \n",
    "\\begin{pmatrix}\n",
    "L'_{k-1} & l_k \\\\\n",
    "  & \\lambda_k \n",
    "\\end{pmatrix}.\n",
    "$$\n",
    "\n",
    "Weiterhin ist bekannt, dass die Lösung $x_k$ des linearen Hilfssystems $L'_{k-1}x_k=-l_k$ die Beziehung\n",
    "$$\n",
    "\\tau_k := \\alpha_k - l'_kl_k =\n",
    "\\begin{pmatrix}\n",
    "x_k\\\\ \n",
    "1\n",
    "\\end{pmatrix}'\n",
    "A_k\n",
    "\\begin{pmatrix}\n",
    "x_k\\\\ \n",
    "1\n",
    "\\end{pmatrix}\n",
    "$$\n",
    "erfüllt. Der Beweis von [B, Satz 8.3] zeigt nun: \n",
    "\n",
    "> Ist $A$ (und damit alle Hauptuntermatrizen $A_k$) s.p.d., dann ist $\\tau_k>0$ für $k=1:m$. \n",
    "\n",
    "#### B) Beweis der Umkehrung\n",
    "Umgekehrt gilt (für _selbstadjungiertes_ $A$ ist der Term $\\tau_k$ auch im Fall $\\mathbb{K} = \\mathbb{C}$ immer _reell_): \n",
    "\n",
    "> Ist $A$ selbstadjungiert, aber _nicht_ positiv definit, dann muss es ein $k$ mit $\\tau_k\\le 0$\n",
    "geben. \n",
    "\n",
    "Denn wäre dem nicht so, dann würde der Cholesky-Algorithmus mit $\\lambda_k = \\sqrt{\\tau_k}>0$ für alle $k$ durchlaufen und man hätte nach Konstruktion am Schluss $A=LL'$, so dass $A$ nach [B, Lemma 9.1] tatsächlich s.p.d sein müsste.\n",
    "\n",
    "#### C) Zusammenfassung\n",
    "\n",
    "Also gilt:  \n",
    "\n",
    "> Ein selbstadjungiertes $A$ ist genau dann _nicht_ s.p.d., wenn für ein $k$ gilt $\\tau_k \\le 0$. \n",
    "\n",
    "Für dieses $k$ hat man dann mit dem oben definierten Vektor $x_k$ alle in der Aufgabe gesuchten Informationen: für den daraus konstruierten Vektor\n",
    "\n",
    "$$\n",
    "x = \n",
    "\\begin{pmatrix}\n",
    "x_k\\\\ \n",
    "1\\\\\n",
    "0\n",
    "\\end{pmatrix}\\quad\\text{gilt nämlich}\\quad\n",
    "x'Ax = \n",
    "\\begin{pmatrix}\n",
    "x_k\\\\ \n",
    "1\n",
    "\\end{pmatrix}'\n",
    "A_k\n",
    "\\begin{pmatrix}\n",
    "x_k\\\\ \n",
    "1\n",
    "\\end{pmatrix} = \\tau_k  \\le 0.\n",
    "$$\n",
    "\n",
    "#### D) Programm\n",
    "\n",
    "Die Beobachtung aus (c) führt zu folgender einfachen Modifikation des Programms:"
   ]
  },
  {
   "cell_type": "code",
   "execution_count": 3,
   "id": "turned-variance",
   "metadata": {
    "ExecuteTime": {
     "end_time": "2021-10-29T17:58:42.503000+02:00",
     "start_time": "2021-10-29T15:58:41.784Z"
    }
   },
   "outputs": [],
   "source": [
    "function CholeskyTest(A) \n",
    "    m,~ = size(A)\n",
    "    L = zeros(eltype(A),m,m)\n",
    "    for k = 1:m\n",
    "        lk = L[1:k-1,1:k-1]\\A[1:k-1,k]\n",
    "        L[k,1:k-1] = lk'\n",
    "        # --------- Beginn der Modifikation ---------\n",
    "        if (τₖ = real(A[k,k] - dot(lk,lk))) > 0\n",
    "            L[k,k] = sqrt(τₖ)\n",
    "        else\n",
    "            @warn \"A ist nicht positiv definit\"\n",
    "            x = zeros(eltype(A),m); x[1:k-1] = -L[1:k-1,1:k-1]'\\lk; x[k] = 1;            \n",
    "            return L, x # Ausgabe von L enthält evtl. wertvolle Information\n",
    "        end  \n",
    "        # --------- Ende der Modifikation ---------\n",
    "    end\n",
    "    return L, nothing\n",
    "end;"
   ]
  },
  {
   "cell_type": "markdown",
   "id": "available-dallas",
   "metadata": {},
   "source": [
    "#### E) Ergänzung: Test\n",
    "\n",
    "Ein Test des Programms war zwar in der Aufgabe nicht gefordert, sollte aber grundsätzlich immer Bestandteil einer _Eigenkorrektur_ sein. Vorschlag: "
   ]
  },
  {
   "cell_type": "code",
   "execution_count": 6,
   "id": "close-genre",
   "metadata": {
    "ExecuteTime": {
     "end_time": "2021-10-29T17:59:01.486000+02:00",
     "start_time": "2021-10-29T15:59:01.478Z"
    }
   },
   "outputs": [
    {
     "name": "stderr",
     "output_type": "stream",
     "text": [
      "┌ Warning: A ist nicht positiv definit\n",
      "└ @ Main In[3]:11\n"
     ]
    },
    {
     "name": "stdout",
     "output_type": "stream",
     "text": [
      ">>> x≠0 mit x'Ax = -0.050889982626297015 ≤ 0 gefunden:\n",
      "x = [-0.5511158041801816, 1.8507897329350114, 0.6142373389987632, 0.1666243242025426, -1.5822208658695711, -1.1161188460352587, -0.02501552727512851, 0.8381448139938666, 1.0, 0.0]\n"
     ]
    }
   ],
   "source": [
    "# ruhig mehrfach wiederholen: wo steht jeweils die 1 in x...\n",
    "\n",
    "m = 10\n",
    "A = randn(m,m)\n",
    "A = (A+A')/2 + (sqrt(2m)-2)I # selbstadjungiert, aber mit sehr hoher W-keit nicht p.d.\n",
    "# A = A + 3I # mit sehr hoher W-keit s.p.d.\n",
    "\n",
    "L, x = CholeskyTest(A);\n",
    "\n",
    "if x == nothing\n",
    "    println(\"A ist positiv definit\")\n",
    "else\n",
    "    println(\">>> x≠0 mit x'Ax = $(dot(x,A*x)) ≤ 0 gefunden:\")\n",
    "    println(\"x = \",x)\n",
    "end"
   ]
  },
  {
   "cell_type": "code",
   "execution_count": null,
   "id": "alone-blank",
   "metadata": {},
   "outputs": [],
   "source": []
  }
 ],
 "metadata": {
  "@webio": {
   "lastCommId": null,
   "lastKernelId": null
  },
  "kernelspec": {
   "display_name": "Julia 1.6.3",
   "language": "julia",
   "name": "julia-1.6"
  },
  "language_info": {
   "file_extension": ".jl",
   "mimetype": "application/julia",
   "name": "julia",
   "version": "1.6.3"
  },
  "toc": {
   "base_numbering": 1,
   "nav_menu": {},
   "number_sections": false,
   "sideBar": true,
   "skip_h1_title": false,
   "title_cell": "Table of Contents",
   "title_sidebar": "Contents",
   "toc_cell": false,
   "toc_position": {},
   "toc_section_display": true,
   "toc_window_display": false
  }
 },
 "nbformat": 4,
 "nbformat_minor": 5
}
