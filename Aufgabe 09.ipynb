{
 "cells": [
  {
   "cell_type": "markdown",
   "metadata": {},
   "source": [
    "## Lösungsvorschlag für Aufgabe 9\n",
    "\n",
    "Für die ganze Aufgabe ist folgende Permutation hilfreich\n",
    "$$\n",
    "T=\n",
    "\\begin{pmatrix}\n",
    " & & 1\\\\\n",
    " &\\kern3mu\\raise1mu{.}\\kern3mu\\raise6mu{.}\\kern3mu\\raise12mu{.}& \\\\\n",
    " 1 & & \n",
    "\\end{pmatrix}.\n",
    "$$\n",
    "\n",
    "In Julia wird man diese Permutationsmatrix niemals aufstellen, sondern stets mit einem Permutationsvektor arbeiten."
   ]
  },
  {
   "cell_type": "code",
   "execution_count": 1,
   "metadata": {
    "ExecuteTime": {
     "end_time": "2021-11-05T12:29:39.997000+01:00",
     "start_time": "2021-11-05T11:29:39.169Z"
    }
   },
   "outputs": [],
   "source": [
    "using LinearAlgebra"
   ]
  },
  {
   "cell_type": "code",
   "execution_count": 2,
   "metadata": {
    "ExecuteTime": {
     "end_time": "2021-11-05T12:29:41.264000+01:00",
     "start_time": "2021-11-05T11:29:41.260Z"
    }
   },
   "outputs": [],
   "source": [
    "function PRL(A)\n",
    "    m = size(A, 1)\n",
    "    τ = m:-1:1\n",
    "    F = lu(A[τ,τ])\n",
    "    return τ[F.p[τ]], F.L[τ,τ], F.U[τ,τ]    \n",
    "end;"
   ]
  },
  {
   "cell_type": "code",
   "execution_count": 3,
   "metadata": {
    "ExecuteTime": {
     "end_time": "2021-11-05T12:29:47.874000+01:00",
     "start_time": "2021-11-05T11:29:45.713Z"
    }
   },
   "outputs": [
    {
     "data": {
      "text/plain": [
       "true"
      ]
     },
     "execution_count": 3,
     "metadata": {},
     "output_type": "execute_result"
    }
   ],
   "source": [
    "A = rand(5,5); p, R, L = PRL(A);\n",
    "isapprox(R*L, A[p,:])"
   ]
  },
  {
   "cell_type": "code",
   "execution_count": 4,
   "metadata": {
    "ExecuteTime": {
     "end_time": "2021-11-05T12:29:48.912000+01:00",
     "start_time": "2021-11-05T11:29:48.909Z"
    }
   },
   "outputs": [],
   "source": [
    "function cholRR´(A)\n",
    "    m = size(A,1)\n",
    "    τ = m:-1:1\n",
    "    F = cholesky(A[τ,τ])\n",
    "    return F.L[τ,τ]\n",
    "end;"
   ]
  },
  {
   "cell_type": "code",
   "execution_count": 5,
   "metadata": {
    "ExecuteTime": {
     "end_time": "2021-11-05T12:29:53.026000+01:00",
     "start_time": "2021-11-05T11:29:52.584Z"
    }
   },
   "outputs": [
    {
     "data": {
      "text/plain": [
       "true"
      ]
     },
     "execution_count": 5,
     "metadata": {},
     "output_type": "execute_result"
    }
   ],
   "source": [
    "m = 5; A = randn(m,m); A = (A+A')/2; A = A + (sqrt(2*m)+1)*I;\n",
    "R = cholRR´(A);\n",
    "isapprox(R*R', A)"
   ]
  },
  {
   "cell_type": "code",
   "execution_count": 6,
   "metadata": {
    "ExecuteTime": {
     "end_time": "2021-11-05T12:29:58.388000+01:00",
     "start_time": "2021-11-05T11:29:58.385Z"
    }
   },
   "outputs": [],
   "source": [
    "function QL(A)\n",
    "    n = size(A,2)\n",
    "    τ = n:-1:1\n",
    "    F = qr(A[:,τ])\n",
    "    return F.Q[:,τ], F.R[τ,τ]\n",
    "end;"
   ]
  },
  {
   "cell_type": "code",
   "execution_count": 7,
   "metadata": {
    "ExecuteTime": {
     "end_time": "2021-11-05T12:29:59.919000+01:00",
     "start_time": "2021-11-05T11:29:59.733Z"
    }
   },
   "outputs": [
    {
     "data": {
      "text/plain": [
       "true"
      ]
     },
     "execution_count": 7,
     "metadata": {},
     "output_type": "execute_result"
    }
   ],
   "source": [
    "A=rand(5,3); Q, L = QL(A);\n",
    "isapprox(Q*L, A)"
   ]
  },
  {
   "cell_type": "code",
   "execution_count": 8,
   "metadata": {
    "ExecuteTime": {
     "end_time": "2021-11-05T12:30:01.106000+01:00",
     "start_time": "2021-11-05T11:30:01.103Z"
    }
   },
   "outputs": [],
   "source": [
    "function LQ(A)\n",
    "    F = qr(A')\n",
    "    return F.R', F.Q'\n",
    "end;"
   ]
  },
  {
   "cell_type": "code",
   "execution_count": 9,
   "metadata": {
    "ExecuteTime": {
     "end_time": "2021-11-05T12:30:02.405000+01:00",
     "start_time": "2021-11-05T11:30:02.298Z"
    }
   },
   "outputs": [
    {
     "data": {
      "text/plain": [
       "true"
      ]
     },
     "execution_count": 9,
     "metadata": {},
     "output_type": "execute_result"
    }
   ],
   "source": [
    "A=rand(5,3); L, Q = LQ(A);\n",
    "isapprox(L*Q, A)"
   ]
  },
  {
   "cell_type": "code",
   "execution_count": 10,
   "metadata": {
    "ExecuteTime": {
     "end_time": "2021-11-05T12:30:03.812000+01:00",
     "start_time": "2021-11-05T11:30:03.807Z"
    }
   },
   "outputs": [],
   "source": [
    "function RQ(A)\n",
    "    m = size(A,1)\n",
    "    τₘ = m:-1:1\n",
    "    F = qr(A'[:,τₘ])\n",
    "    return F.R'[τₘ,τₘ], F.Q'[τₘ,:]\n",
    "end;"
   ]
  },
  {
   "cell_type": "code",
   "execution_count": 11,
   "metadata": {
    "ExecuteTime": {
     "end_time": "2021-11-05T12:30:04.818000+01:00",
     "start_time": "2021-11-05T11:30:04.680Z"
    }
   },
   "outputs": [
    {
     "data": {
      "text/plain": [
       "true"
      ]
     },
     "execution_count": 11,
     "metadata": {},
     "output_type": "execute_result"
    }
   ],
   "source": [
    "A=rand(3,5); R, Q = RQ(A);\n",
    "isapprox(R*Q, A)"
   ]
  },
  {
   "cell_type": "code",
   "execution_count": null,
   "metadata": {
    "collapsed": true
   },
   "outputs": [],
   "source": []
  }
 ],
 "metadata": {
  "kernelspec": {
   "display_name": "Julia 1.6.3",
   "language": "julia",
   "name": "julia-1.6"
  },
  "language_info": {
   "file_extension": ".jl",
   "mimetype": "application/julia",
   "name": "julia",
   "version": "1.6.3"
  },
  "toc": {
   "base_numbering": 1,
   "nav_menu": {},
   "number_sections": true,
   "sideBar": true,
   "skip_h1_title": false,
   "title_cell": "Table of Contents",
   "title_sidebar": "Contents",
   "toc_cell": false,
   "toc_position": {},
   "toc_section_display": true,
   "toc_window_display": false
  }
 },
 "nbformat": 4,
 "nbformat_minor": 1
}
