{
 "cells": [
  {
   "cell_type": "markdown",
   "metadata": {},
   "source": [
    "### Lösungsvorschlag für Aufgabe 3\n",
    "\n",
    "#### Vorbereitungen"
   ]
  },
  {
   "cell_type": "code",
   "execution_count": 1,
   "metadata": {
    "ExecuteTime": {
     "end_time": "2021-10-23T14:11:06.427000+02:00",
     "start_time": "2021-10-23T12:11:05.586Z"
    }
   },
   "outputs": [],
   "source": [
    "using LinearAlgebra\n",
    "using BenchmarkTools\n",
    "using Test\n",
    "\n",
    "m, n = (1000,1234)\n",
    "A = randn(m,m); lu!(A); # Trick für schöne Testmatrizen\n",
    "B = randn(m,n);"
   ]
  },
  {
   "cell_type": "markdown",
   "metadata": {},
   "source": [
    "#### Das zu analysierende Programm"
   ]
  },
  {
   "cell_type": "code",
   "execution_count": 2,
   "metadata": {
    "ExecuteTime": {
     "end_time": "2021-10-23T14:11:06.487000+02:00",
     "start_time": "2021-10-23T12:11:05.588Z"
    }
   },
   "outputs": [],
   "source": [
    "function wastutdas!(A,B)\n",
    "    m,n = size(B)\n",
    "    for i=n:-1:1\n",
    "        for j=m:-1:1\n",
    "            B[j,i] /= A[j,j]\n",
    "            for k=1:j-1\n",
    "                B[k,i] -= B[j,i]*A[k,j]\n",
    "            end\n",
    "        end\n",
    "    end\n",
    "end;"
   ]
  },
  {
   "cell_type": "markdown",
   "metadata": {
    "collapsed": true
   },
   "source": [
    "#### Die Analyse: Schritt 1\n",
    "\n",
    "Da \n",
    "\n",
    "   * $i$ nur als Spaltenindex von $B$ auftaucht und \n",
    "   * die Spalten von $B$ auch nur über dieses $i$ angesprochen werden und\n",
    "   * die Reihenfolge der $i$-Durchlaufs egal ist,\n",
    "   \n",
    "können wir die äußere `for`-Schleife durch ein `:` für alle Spalten ersetzen:"
   ]
  },
  {
   "cell_type": "code",
   "execution_count": 3,
   "metadata": {
    "ExecuteTime": {
     "end_time": "2021-10-23T14:11:06.490000+02:00",
     "start_time": "2021-10-23T12:11:05.590Z"
    }
   },
   "outputs": [],
   "source": [
    "function wastutdas2!(A,B)\n",
    "    m,n = size(B)\n",
    "    # for i=n:-1:1\n",
    "        for j=m:-1:1\n",
    "            B[j,:] /= A[j,j]\n",
    "            for k=1:j-1\n",
    "                B[k,:] -= B[j,:]*A[k,j]\n",
    "            end\n",
    "        end\n",
    "    # end\n",
    "end;"
   ]
  },
  {
   "cell_type": "markdown",
   "metadata": {},
   "source": [
    "#### Die Analyse: Schritt 2\n",
    "\n",
    "Die innere `for`-Schleife über $k$ können wir  als `1:j` im Zeilenindex „vektorisieren“: $k$ hat nämlich stets die Rolle eines Zeilenindex. Beim Produkt `B[j,:]*A[k,j]` müssen wir mit der Reihenfolge der Multiplikation aufpassen:\n",
    "Die $j$-te Zeile von $B$ wird mit `A[k,j]` multipliziert und von der $k$-ten Zeile abgezogen:"
   ]
  },
  {
   "cell_type": "code",
   "execution_count": 4,
   "metadata": {
    "ExecuteTime": {
     "end_time": "2021-10-23T14:11:06.492000+02:00",
     "start_time": "2021-10-23T12:11:05.591Z"
    }
   },
   "outputs": [],
   "source": [
    "function wastutdas3!(A,B)\n",
    "    m,n = size(B)\n",
    "    # for i=n:-1:1\n",
    "        for j=m:-1:1\n",
    "            B[j,:] /= A[j,j]\n",
    "            # for k=1:j-1\n",
    "            B[1:j-1,:] -= A[1:j-1,j]*B[[j],:]  # B[[j],:] ist eine weitere Variante für den j-ten Zeilenvektor - nicht ganz so schnell wie conj(B[j,:]')\n",
    "            # end\n",
    "        end\n",
    "    # end\n",
    "end;"
   ]
  },
  {
   "cell_type": "markdown",
   "metadata": {},
   "source": [
    "Kleiner Test, ob noch alles passt:"
   ]
  },
  {
   "cell_type": "code",
   "execution_count": 5,
   "metadata": {
    "ExecuteTime": {
     "end_time": "2021-10-23T14:11:13.721000+02:00",
     "start_time": "2021-10-23T12:11:05.592Z"
    }
   },
   "outputs": [
    {
     "data": {
      "text/plain": [
       "\u001b[32m\u001b[1mTest Passed\u001b[22m\u001b[39m"
      ]
     },
     "execution_count": 5,
     "metadata": {},
     "output_type": "execute_result"
    }
   ],
   "source": [
    "B₀=copy(B); B₃=copy(B);\n",
    "wastutdas!(A,B₀);\n",
    "wastutdas3!(A,B₃);\n",
    "@test isapprox(B₀, B₃)"
   ]
  },
  {
   "cell_type": "markdown",
   "metadata": {},
   "source": [
    "----------\n",
    "Zwischenergebnis:"
   ]
  },
  {
   "cell_type": "code",
   "execution_count": 6,
   "metadata": {
    "ExecuteTime": {
     "end_time": "2021-10-23T14:11:13.724000+02:00",
     "start_time": "2021-10-23T12:11:05.594Z"
    }
   },
   "outputs": [],
   "source": [
    "function wastutdas4!(A,B)\n",
    "    m,n = size(B)\n",
    "    for j=m:-1:1\n",
    "        B[j,:] /= A[j,j]\n",
    "        B[1:j-1,:] -= A[1:j-1,j]*B[[j],:]\n",
    "    end\n",
    "end;"
   ]
  },
  {
   "cell_type": "markdown",
   "metadata": {},
   "source": [
    "#### Die Analyse: Schritt 3\n",
    "\n",
    "Es geht hier nur die obere Dreiecksmatrix von $A$ ein. Die Umkehrung lautet:"
   ]
  },
  {
   "cell_type": "code",
   "execution_count": 7,
   "metadata": {
    "ExecuteTime": {
     "end_time": "2021-10-23T14:11:13.726000+02:00",
     "start_time": "2021-10-23T12:11:05.596Z"
    }
   },
   "outputs": [],
   "source": [
    "if false\n",
    "    # Nur zu Doku-Zwecken\n",
    "    for j=1:m\n",
    "        X[1:j-1,:] += A[1:j-1,j]*X[[j],:]\n",
    "        X[j,:] *= A[j,j]\n",
    "    end\n",
    "end"
   ]
  },
  {
   "cell_type": "markdown",
   "metadata": {},
   "source": [
    "Das ist `B=R*X` für `R=UpperTriangular(A)`.\n",
    "Folglich ist das ursprüngliche Programm eine Form der spaltenweisen Rückwärtssubstitution von $RX=B$."
   ]
  },
  {
   "cell_type": "code",
   "execution_count": 8,
   "metadata": {
    "ExecuteTime": {
     "end_time": "2021-10-23T14:11:13.727000+02:00",
     "start_time": "2021-10-23T12:11:05.597Z"
    }
   },
   "outputs": [],
   "source": [
    "function wastutdas5!(A,B)\n",
    "    B[:,:] = UpperTriangular(A)\\B\n",
    "end;"
   ]
  },
  {
   "cell_type": "code",
   "execution_count": 9,
   "metadata": {
    "ExecuteTime": {
     "end_time": "2021-10-23T14:11:14.413000+02:00",
     "start_time": "2021-10-23T12:11:05.599Z"
    }
   },
   "outputs": [
    {
     "data": {
      "text/plain": [
       "\u001b[32m\u001b[1mTest Passed\u001b[22m\u001b[39m"
      ]
     },
     "execution_count": 9,
     "metadata": {},
     "output_type": "execute_result"
    }
   ],
   "source": [
    "B₀=copy(B); B₅=copy(B);\n",
    "wastutdas!(A,B₀);\n",
    "wastutdas5!(A,B₅);\n",
    "@test isapprox(B₀, B₅)"
   ]
  },
  {
   "cell_type": "markdown",
   "metadata": {},
   "source": [
    "#### Zugehörige BLAS-Routinge\n",
    "\n",
    "Mit der BLAS-Routine `TRSM`, siehe (3.5),"
   ]
  },
  {
   "cell_type": "code",
   "execution_count": 10,
   "metadata": {
    "ExecuteTime": {
     "end_time": "2021-10-23T14:11:15.123000+02:00",
     "start_time": "2021-10-23T12:11:05.600Z"
    }
   },
   "outputs": [
    {
     "data": {
      "text/latex": [
       "\\begin{verbatim}\n",
       "trsm(side, ul, tA, dA, alpha, A, B)\n",
       "\\end{verbatim}\n",
       "Return the solution to \\texttt{A*X = alpha*B} or one of the other three variants determined by determined by \\href{@ref stdlib-blas-side}{\\texttt{side}} and \\href{@ref stdlib-blas-trans}{\\texttt{tA}}. Only the \\href{@ref stdlib-blas-uplo}{\\texttt{ul}} triangle of \\texttt{A} is used. \\href{@ref stdlib-blas-diag}{\\texttt{dA}} determines if the diagonal values are read or are assumed to be all ones.\n",
       "\n"
      ],
      "text/markdown": [
       "```\n",
       "trsm(side, ul, tA, dA, alpha, A, B)\n",
       "```\n",
       "\n",
       "Return the solution to `A*X = alpha*B` or one of the other three variants determined by determined by [`side`](@ref stdlib-blas-side) and [`tA`](@ref stdlib-blas-trans). Only the [`ul`](@ref stdlib-blas-uplo) triangle of `A` is used. [`dA`](@ref stdlib-blas-diag) determines if the diagonal values are read or are assumed to be all ones.\n"
      ],
      "text/plain": [
       "\u001b[36m  trsm(side, ul, tA, dA, alpha, A, B)\u001b[39m\n",
       "\n",
       "  Return the solution to \u001b[36mA*X = alpha*B\u001b[39m or one of the other three variants\n",
       "  determined by determined by \u001b[36mside\u001b[39m and \u001b[36mtA\u001b[39m. Only the \u001b[36mul\u001b[39m triangle of \u001b[36mA\u001b[39m is used.\n",
       "  \u001b[36mdA\u001b[39m determines if the diagonal values are read or are assumed to be all ones."
      ]
     },
     "execution_count": 10,
     "metadata": {},
     "output_type": "execute_result"
    }
   ],
   "source": [
    "?BLAS.trsm"
   ]
  },
  {
   "cell_type": "code",
   "execution_count": 11,
   "metadata": {
    "ExecuteTime": {
     "end_time": "2021-10-23T14:11:15.156000+02:00",
     "start_time": "2021-10-23T12:11:05.602Z"
    }
   },
   "outputs": [],
   "source": [
    "blas_parameter = [\n",
    "    'L', # side: gegebene Dreiecksmatrix steht im linearen Gleichungssystem links von der unbekannten Matrix\n",
    "    'U', # ul: relevant ist das obere Dreieck in A\n",
    "    'N', # tA: keine Adjunktion\n",
    "    'N', # da: keine Einheitsdiagonale \n",
    "    1.0 # α\n",
    "    ];"
   ]
  },
  {
   "cell_type": "code",
   "execution_count": 12,
   "metadata": {
    "ExecuteTime": {
     "end_time": "2021-10-23T14:11:15.824000+02:00",
     "start_time": "2021-10-23T12:11:05.603Z"
    }
   },
   "outputs": [
    {
     "data": {
      "text/plain": [
       "\u001b[32m\u001b[1mTest Passed\u001b[22m\u001b[39m"
      ]
     },
     "execution_count": 12,
     "metadata": {},
     "output_type": "execute_result"
    }
   ],
   "source": [
    "X₁ = copy(B)\n",
    "wastutdas!(A,X₁)\n",
    "\n",
    "X₂ = copy(B)\n",
    "BLAS.trsm!(blas_parameter...,A,X₂)\n",
    "\n",
    "@test isapprox(X₁, X₂)"
   ]
  },
  {
   "cell_type": "markdown",
   "metadata": {},
   "source": [
    "#### Messung der Laufzeiten"
   ]
  },
  {
   "cell_type": "code",
   "execution_count": 13,
   "metadata": {
    "ExecuteTime": {
     "end_time": "2021-10-23T14:11:32.128000+02:00",
     "start_time": "2021-10-23T12:11:05.605Z"
    }
   },
   "outputs": [
    {
     "data": {
      "text/plain": [
       "BenchmarkTools.Trial: 8 samples with 1 evaluation.\n",
       " Range \u001b[90m(\u001b[39m\u001b[36m\u001b[1mmin\u001b[22m\u001b[39m … \u001b[35mmax\u001b[39m\u001b[90m):  \u001b[39m\u001b[36m\u001b[1m571.935 ms\u001b[22m\u001b[39m … \u001b[35m794.764 ms\u001b[39m  \u001b[90m┊\u001b[39m GC \u001b[90m(\u001b[39mmin … max\u001b[90m): \u001b[39m0.00% … 0.00%\n",
       " Time  \u001b[90m(\u001b[39m\u001b[34m\u001b[1mmedian\u001b[22m\u001b[39m\u001b[90m):     \u001b[39m\u001b[34m\u001b[1m667.553 ms               \u001b[22m\u001b[39m\u001b[90m┊\u001b[39m GC \u001b[90m(\u001b[39mmedian\u001b[90m):    \u001b[39m0.00%\n",
       " Time  \u001b[90m(\u001b[39m\u001b[32m\u001b[1mmean\u001b[22m\u001b[39m ± \u001b[32mσ\u001b[39m\u001b[90m):   \u001b[39m\u001b[32m\u001b[1m678.022 ms\u001b[22m\u001b[39m ± \u001b[32m 79.055 ms\u001b[39m  \u001b[90m┊\u001b[39m GC \u001b[90m(\u001b[39mmean ± σ\u001b[90m):  \u001b[39m0.00% ± 0.00%\n",
       "\n",
       "  \u001b[39m█\u001b[39m \u001b[39m \u001b[39m \u001b[39m \u001b[39m \u001b[39m \u001b[39m \u001b[39m \u001b[39m \u001b[39m \u001b[39m█\u001b[39m \u001b[39m█\u001b[39m \u001b[39m \u001b[39m \u001b[39m \u001b[34m█\u001b[39m\u001b[39m \u001b[39m \u001b[39m \u001b[39m \u001b[39m \u001b[39m \u001b[39m \u001b[39m \u001b[39m \u001b[39m \u001b[32m \u001b[39m\u001b[39m \u001b[39m \u001b[39m \u001b[39m█\u001b[39m \u001b[39m \u001b[39m \u001b[39m \u001b[39m \u001b[39m \u001b[39m█\u001b[39m \u001b[39m \u001b[39m \u001b[39m \u001b[39m \u001b[39m \u001b[39m \u001b[39m \u001b[39m \u001b[39m \u001b[39m \u001b[39m \u001b[39m█\u001b[39m \u001b[39m \u001b[39m \u001b[39m \u001b[39m \u001b[39m \u001b[39m█\u001b[39m \u001b[39m \n",
       "  \u001b[39m█\u001b[39m▁\u001b[39m▁\u001b[39m▁\u001b[39m▁\u001b[39m▁\u001b[39m▁\u001b[39m▁\u001b[39m▁\u001b[39m▁\u001b[39m▁\u001b[39m█\u001b[39m▁\u001b[39m█\u001b[39m▁\u001b[39m▁\u001b[39m▁\u001b[39m▁\u001b[34m█\u001b[39m\u001b[39m▁\u001b[39m▁\u001b[39m▁\u001b[39m▁\u001b[39m▁\u001b[39m▁\u001b[39m▁\u001b[39m▁\u001b[39m▁\u001b[39m▁\u001b[32m▁\u001b[39m\u001b[39m▁\u001b[39m▁\u001b[39m▁\u001b[39m█\u001b[39m▁\u001b[39m▁\u001b[39m▁\u001b[39m▁\u001b[39m▁\u001b[39m▁\u001b[39m█\u001b[39m▁\u001b[39m▁\u001b[39m▁\u001b[39m▁\u001b[39m▁\u001b[39m▁\u001b[39m▁\u001b[39m▁\u001b[39m▁\u001b[39m▁\u001b[39m▁\u001b[39m▁\u001b[39m█\u001b[39m▁\u001b[39m▁\u001b[39m▁\u001b[39m▁\u001b[39m▁\u001b[39m▁\u001b[39m█\u001b[39m \u001b[39m▁\n",
       "  572 ms\u001b[90m           Histogram: frequency by time\u001b[39m          795 ms \u001b[0m\u001b[1m<\u001b[22m\n",
       "\n",
       " Memory estimate\u001b[90m: \u001b[39m\u001b[33m0 bytes\u001b[39m, allocs estimate\u001b[90m: \u001b[39m\u001b[33m0\u001b[39m."
      ]
     },
     "execution_count": 13,
     "metadata": {},
     "output_type": "execute_result"
    }
   ],
   "source": [
    "@benchmark wastutdas!(A,X) setup=(X = copy($B))"
   ]
  },
  {
   "cell_type": "code",
   "execution_count": 14,
   "metadata": {
    "ExecuteTime": {
     "end_time": "2021-10-23T14:11:43.015000+02:00",
     "start_time": "2021-10-23T12:11:05.607Z"
    }
   },
   "outputs": [
    {
     "data": {
      "text/plain": [
       "BenchmarkTools.Trial: 321 samples with 1 evaluation.\n",
       " Range \u001b[90m(\u001b[39m\u001b[36m\u001b[1mmin\u001b[22m\u001b[39m … \u001b[35mmax\u001b[39m\u001b[90m):  \u001b[39m\u001b[36m\u001b[1m11.309 ms\u001b[22m\u001b[39m … \u001b[35m20.669 ms\u001b[39m  \u001b[90m┊\u001b[39m GC \u001b[90m(\u001b[39mmin … max\u001b[90m): \u001b[39m 0.00% … 23.61%\n",
       " Time  \u001b[90m(\u001b[39m\u001b[34m\u001b[1mmedian\u001b[22m\u001b[39m\u001b[90m):     \u001b[39m\u001b[34m\u001b[1m12.917 ms              \u001b[22m\u001b[39m\u001b[90m┊\u001b[39m GC \u001b[90m(\u001b[39mmedian\u001b[90m):    \u001b[39m 0.00%\n",
       " Time  \u001b[90m(\u001b[39m\u001b[32m\u001b[1mmean\u001b[22m\u001b[39m ± \u001b[32mσ\u001b[39m\u001b[90m):   \u001b[39m\u001b[32m\u001b[1m14.122 ms\u001b[22m\u001b[39m ± \u001b[32m 2.536 ms\u001b[39m  \u001b[90m┊\u001b[39m GC \u001b[90m(\u001b[39mmean ± σ\u001b[90m):  \u001b[39m11.61% ± 13.64%\n",
       "\n",
       "  \u001b[39m \u001b[39m \u001b[39m▃\u001b[39m█\u001b[39m▄\u001b[39m \u001b[39m \u001b[39m \u001b[39m \u001b[39m \u001b[34m \u001b[39m\u001b[39m \u001b[39m \u001b[39m \u001b[39m \u001b[39m \u001b[39m \u001b[39m \u001b[32m \u001b[39m\u001b[39m \u001b[39m \u001b[39m \u001b[39m \u001b[39m \u001b[39m \u001b[39m \u001b[39m \u001b[39m \u001b[39m \u001b[39m \u001b[39m \u001b[39m \u001b[39m \u001b[39m▁\u001b[39m \u001b[39m \u001b[39m \u001b[39m \u001b[39m \u001b[39m \u001b[39m \u001b[39m \u001b[39m \u001b[39m \u001b[39m \u001b[39m \u001b[39m \u001b[39m \u001b[39m \u001b[39m \u001b[39m \u001b[39m \u001b[39m \u001b[39m \u001b[39m \u001b[39m \u001b[39m \u001b[39m \u001b[39m \u001b[39m \u001b[39m \n",
       "  \u001b[39m▄\u001b[39m▇\u001b[39m█\u001b[39m█\u001b[39m█\u001b[39m▆\u001b[39m▆\u001b[39m▃\u001b[39m▄\u001b[39m▄\u001b[34m▄\u001b[39m\u001b[39m▃\u001b[39m▂\u001b[39m▄\u001b[39m▄\u001b[39m▃\u001b[39m▃\u001b[39m▂\u001b[32m▃\u001b[39m\u001b[39m▃\u001b[39m▃\u001b[39m▁\u001b[39m▂\u001b[39m▁\u001b[39m▂\u001b[39m▃\u001b[39m▃\u001b[39m▁\u001b[39m▁\u001b[39m▂\u001b[39m▃\u001b[39m▆\u001b[39m▆\u001b[39m█\u001b[39m▇\u001b[39m▅\u001b[39m▃\u001b[39m▃\u001b[39m▃\u001b[39m▃\u001b[39m▃\u001b[39m▂\u001b[39m▃\u001b[39m▂\u001b[39m▁\u001b[39m▂\u001b[39m▃\u001b[39m▃\u001b[39m▃\u001b[39m▁\u001b[39m▂\u001b[39m▂\u001b[39m▁\u001b[39m▃\u001b[39m▃\u001b[39m▁\u001b[39m▃\u001b[39m▁\u001b[39m▃\u001b[39m \u001b[39m▃\n",
       "  11.3 ms\u001b[90m         Histogram: frequency by time\u001b[39m        20.4 ms \u001b[0m\u001b[1m<\u001b[22m\n",
       "\n",
       " Memory estimate\u001b[90m: \u001b[39m\u001b[33m9.41 MiB\u001b[39m, allocs estimate\u001b[90m: \u001b[39m\u001b[33m2\u001b[39m."
      ]
     },
     "execution_count": 14,
     "metadata": {},
     "output_type": "execute_result"
    }
   ],
   "source": [
    "@benchmark wastutdas5!(A,X) setup=(X = copy($B))"
   ]
  },
  {
   "cell_type": "code",
   "execution_count": 15,
   "metadata": {
    "ExecuteTime": {
     "end_time": "2021-10-23T14:11:53.590000+02:00",
     "start_time": "2021-10-23T12:11:05.608Z"
    }
   },
   "outputs": [
    {
     "data": {
      "text/plain": [
       "BenchmarkTools.Trial: 379 samples with 1 evaluation.\n",
       " Range \u001b[90m(\u001b[39m\u001b[36m\u001b[1mmin\u001b[22m\u001b[39m … \u001b[35mmax\u001b[39m\u001b[90m):  \u001b[39m\u001b[36m\u001b[1m 8.086 ms\u001b[22m\u001b[39m … \u001b[35m18.188 ms\u001b[39m  \u001b[90m┊\u001b[39m GC \u001b[90m(\u001b[39mmin … max\u001b[90m): \u001b[39m0.00% … 0.00%\n",
       " Time  \u001b[90m(\u001b[39m\u001b[34m\u001b[1mmedian\u001b[22m\u001b[39m\u001b[90m):     \u001b[39m\u001b[34m\u001b[1m10.187 ms              \u001b[22m\u001b[39m\u001b[90m┊\u001b[39m GC \u001b[90m(\u001b[39mmedian\u001b[90m):    \u001b[39m0.00%\n",
       " Time  \u001b[90m(\u001b[39m\u001b[32m\u001b[1mmean\u001b[22m\u001b[39m ± \u001b[32mσ\u001b[39m\u001b[90m):   \u001b[39m\u001b[32m\u001b[1m10.727 ms\u001b[22m\u001b[39m ± \u001b[32m 1.343 ms\u001b[39m  \u001b[90m┊\u001b[39m GC \u001b[90m(\u001b[39mmean ± σ\u001b[90m):  \u001b[39m0.00% ± 0.00%\n",
       "\n",
       "  \u001b[39m \u001b[39m \u001b[39m \u001b[39m \u001b[39m \u001b[39m \u001b[39m \u001b[39m \u001b[39m \u001b[39m \u001b[39m \u001b[39m▂\u001b[39m▃\u001b[39m▄\u001b[39m▆\u001b[39m█\u001b[39m▆\u001b[34m▆\u001b[39m\u001b[39m▂\u001b[39m▃\u001b[39m▃\u001b[39m▁\u001b[32m▁\u001b[39m\u001b[39m▂\u001b[39m \u001b[39m▁\u001b[39m \u001b[39m▂\u001b[39m▁\u001b[39m \u001b[39m \u001b[39m \u001b[39m \u001b[39m \u001b[39m \u001b[39m \u001b[39m \u001b[39m \u001b[39m \u001b[39m \u001b[39m \u001b[39m \u001b[39m \u001b[39m \u001b[39m \u001b[39m \u001b[39m \u001b[39m \u001b[39m \u001b[39m \u001b[39m \u001b[39m \u001b[39m \u001b[39m \u001b[39m \u001b[39m \u001b[39m \u001b[39m \u001b[39m \u001b[39m \u001b[39m \n",
       "  \u001b[39m▄\u001b[39m▁\u001b[39m▁\u001b[39m▁\u001b[39m▁\u001b[39m▁\u001b[39m▁\u001b[39m▁\u001b[39m▁\u001b[39m▇\u001b[39m▄\u001b[39m█\u001b[39m█\u001b[39m█\u001b[39m█\u001b[39m█\u001b[39m█\u001b[34m█\u001b[39m\u001b[39m█\u001b[39m█\u001b[39m█\u001b[39m█\u001b[32m█\u001b[39m\u001b[39m█\u001b[39m▇\u001b[39m█\u001b[39m▇\u001b[39m█\u001b[39m█\u001b[39m█\u001b[39m▇\u001b[39m▇\u001b[39m▇\u001b[39m█\u001b[39m▇\u001b[39m▇\u001b[39m▆\u001b[39m▆\u001b[39m▇\u001b[39m▄\u001b[39m▇\u001b[39m▆\u001b[39m▄\u001b[39m▄\u001b[39m▄\u001b[39m▆\u001b[39m▆\u001b[39m▄\u001b[39m▁\u001b[39m▆\u001b[39m▄\u001b[39m▄\u001b[39m▁\u001b[39m▁\u001b[39m▄\u001b[39m▆\u001b[39m▁\u001b[39m▇\u001b[39m▆\u001b[39m \u001b[39m▇\n",
       "  8.09 ms\u001b[90m      \u001b[39m\u001b[90mHistogram: \u001b[39m\u001b[90m\u001b[1mlog(\u001b[22m\u001b[39m\u001b[90mfrequency\u001b[39m\u001b[90m\u001b[1m)\u001b[22m\u001b[39m\u001b[90m by time\u001b[39m      15.3 ms \u001b[0m\u001b[1m<\u001b[22m\n",
       "\n",
       " Memory estimate\u001b[90m: \u001b[39m\u001b[33m32 bytes\u001b[39m, allocs estimate\u001b[90m: \u001b[39m\u001b[33m1\u001b[39m."
      ]
     },
     "execution_count": 15,
     "metadata": {},
     "output_type": "execute_result"
    }
   ],
   "source": [
    "@benchmark BLAS.trsm!(blas_parameter...,A,X) setup=(X=copy($B))"
   ]
  },
  {
   "cell_type": "markdown",
   "metadata": {},
   "source": [
    "Unsere Analsyse hat uns nicht nur dazu gebracht, das ursprüngliche Programm mathematisch zu _verstehen_ und viel _kürzer_ zu formulieren, wir haben es gleich auch noch um etwa einen Faktor 50 für die gegebenen Daten _beschleunigt_."
   ]
  },
  {
   "cell_type": "code",
   "execution_count": null,
   "metadata": {},
   "outputs": [],
   "source": []
  }
 ],
 "metadata": {
  "@webio": {
   "lastCommId": null,
   "lastKernelId": null
  },
  "anaconda-cloud": {},
  "kernelspec": {
   "display_name": "Julia 1.6.3",
   "language": "julia",
   "name": "julia-1.6"
  },
  "language_info": {
   "file_extension": ".jl",
   "mimetype": "application/julia",
   "name": "julia",
   "version": "1.6.3"
  },
  "toc": {
   "base_numbering": 1,
   "nav_menu": {},
   "number_sections": false,
   "sideBar": true,
   "skip_h1_title": false,
   "title_cell": "Table of Contents",
   "title_sidebar": "Contents",
   "toc_cell": false,
   "toc_position": {
    "height": "calc(100% - 180px)",
    "left": "10px",
    "top": "150px",
    "width": "288px"
   },
   "toc_section_display": true,
   "toc_window_display": false
  }
 },
 "nbformat": 4,
 "nbformat_minor": 1
}
