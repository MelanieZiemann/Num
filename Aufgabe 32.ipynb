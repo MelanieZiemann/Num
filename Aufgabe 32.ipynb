{
 "cells": [
  {
   "cell_type": "markdown",
   "id": "subject-vampire",
   "metadata": {},
   "source": [
    "# Lösungsvorschlag Aufgabe 32"
   ]
  },
  {
   "cell_type": "code",
   "execution_count": 1,
   "id": "competitive-nitrogen",
   "metadata": {
    "ExecuteTime": {
     "end_time": "2021-12-14T19:26:01.104000+01:00",
     "start_time": "2021-12-14T18:25:47.593Z"
    }
   },
   "outputs": [],
   "source": [
    "using LinearAlgebra\n",
    "using ForwardDiff     "
   ]
  },
  {
   "cell_type": "markdown",
   "id": "personal-proxy",
   "metadata": {},
   "source": [
    "### Relaxierte Newton-Iteration"
   ]
  },
  {
   "cell_type": "code",
   "execution_count": 2,
   "id": "collective-mexico",
   "metadata": {
    "ExecuteTime": {
     "end_time": "2021-12-14T19:26:03.214000+01:00",
     "start_time": "2021-12-14T18:26:02.972Z"
    }
   },
   "outputs": [],
   "source": [
    "macro stop(name, test)                                     \n",
    "    return esc(:(if ($test) info = $name; break; end))\n",
    "end\n",
    "\n",
    "function NewtonRelax(f, x; tol=1e-14, max_steps=25, λ_min=1e-6)\n",
    "    y, λ, steps, info = f(x), 1., 0, Nothing\n",
    "    while info == Nothing\n",
    "        @stop(:MAXSTEPS, steps >= max_steps) \n",
    "        steps += 1\n",
    "        J = lu!(ForwardDiff.jacobian(f, x), check=false) \n",
    "        @stop(:JSING, !issuccess(J))\n",
    "        Δx = J\\y\n",
    "        Δx_norm = norm(Δx)\n",
    "        @stop(:CONV, Δx_norm <= tol)\n",
    "        x₀ = x\n",
    "        while true\n",
    "            x = x₀ - λ*Δx\n",
    "            y = f(x)\n",
    "            Δx̄ = J\\y\n",
    "            if (norm(Δx̄) <= (1-λ/2)*Δx_norm) \n",
    "                λ = min(1.0, 2λ); break; \n",
    "            end\n",
    "            λ = λ/2\n",
    "            @stop(:NOCONV, λ < λ_min)\n",
    "        end\n",
    "    end\n",
    "    \n",
    "    return x, steps, info\n",
    "end;"
   ]
  },
  {
   "cell_type": "markdown",
   "id": "piano-texas",
   "metadata": {},
   "source": [
    "## Formel für Volumen"
   ]
  },
  {
   "cell_type": "code",
   "execution_count": 3,
   "id": "careful-chancellor",
   "metadata": {},
   "outputs": [
    {
     "data": {
      "text/plain": [
       "V (generic function with 1 method)"
      ]
     },
     "execution_count": 3,
     "metadata": {},
     "output_type": "execute_result"
    }
   ],
   "source": [
    "# z = [x, y]; s und h eliminiert\n",
    "V(z) = ((x,y) = z; π/3*(x^2+x*y+y^2)*sqrt((1-x^2)^2/(x+y)^2-(y-x)^2))"
   ]
  },
  {
   "cell_type": "markdown",
   "id": "checked-favor",
   "metadata": {},
   "source": [
    "### Vereinfachte Geometrie mit Zylinder"
   ]
  },
  {
   "cell_type": "code",
   "execution_count": 4,
   "id": "comparative-sleep",
   "metadata": {
    "ExecuteTime": {
     "end_time": "2021-12-14T19:26:12.437000+01:00",
     "start_time": "2021-12-14T18:26:09.463Z"
    },
    "run_control": {
     "marked": false
    }
   },
   "outputs": [
    {
     "data": {
      "text/plain": [
       "([0.5773502691896257], 7, :CONV)"
      ]
     },
     "execution_count": 4,
     "metadata": {},
     "output_type": "execute_result"
    }
   ],
   "source": [
    "# Zylinder mit x = y\n",
    "# z = [x]\n",
    "VZylinder(z) = V([z[1], z[1]])\n",
    "∇VZylinder(z) = ForwardDiff.gradient(VZylinder, z)\n",
    "\n",
    "z_zylinder, = NewtonRelax(∇VZylinder, [2.]) # jeder Startwert 0 < x ≠ 1 taugt"
   ]
  },
  {
   "cell_type": "markdown",
   "id": "fantastic-coordinate",
   "metadata": {},
   "source": [
    "### Eimer"
   ]
  },
  {
   "cell_type": "code",
   "execution_count": 5,
   "id": "becoming-suite",
   "metadata": {
    "ExecuteTime": {
     "end_time": "2021-12-14T19:26:51.618000+01:00",
     "start_time": "2021-12-14T18:26:50.624Z"
    }
   },
   "outputs": [
    {
     "data": {
      "text/plain": [
       "([0.40337827902317364, 0.7353084448018562], 7, :CONV)"
      ]
     },
     "execution_count": 5,
     "metadata": {},
     "output_type": "execute_result"
    }
   ],
   "source": [
    "# z = [x, y] \n",
    "∇V(z) = ForwardDiff.gradient(V, z)\n",
    "\n",
    "z₀ = [1.0, 1.0]*z_zylinder[1] # Startwert aus Zylinder-Geometrie\n",
    "z_Eimer, = NewtonRelax(∇V, z₀)"
   ]
  },
  {
   "cell_type": "code",
   "execution_count": 6,
   "id": "convenient-athletics",
   "metadata": {
    "ExecuteTime": {
     "end_time": "2021-12-14T19:26:52.868000+01:00",
     "start_time": "2021-12-14T18:26:52.552Z"
    }
   },
   "outputs": [
    {
     "name": "stdout",
     "output_type": "stream",
     "text": [
      "V(z₀) = 0.6045997880780727\n",
      "V(z_Eimer) = 0.6870931783105633\n",
      "Volumen_Gewinn_in_Prozent = round(100 * (V(z_Eimer) / V(z₀) - 1), digits = 1) = 13.6\n"
     ]
    },
    {
     "data": {
      "text/plain": [
       "13.6"
      ]
     },
     "execution_count": 6,
     "metadata": {},
     "output_type": "execute_result"
    }
   ],
   "source": [
    "@show V(z₀) \n",
    "@show V(z_Eimer)\n",
    "@show Volumen_Gewinn_in_Prozent=round(100(V(z_Eimer)/V(z₀)-1), digits=1)"
   ]
  },
  {
   "cell_type": "code",
   "execution_count": null,
   "id": "reserved-jefferson",
   "metadata": {},
   "outputs": [],
   "source": []
  }
 ],
 "metadata": {
  "@webio": {
   "lastCommId": null,
   "lastKernelId": null
  },
  "kernelspec": {
   "display_name": "Julia 1.6.3",
   "language": "julia",
   "name": "julia-1.6"
  },
  "language_info": {
   "file_extension": ".jl",
   "mimetype": "application/julia",
   "name": "julia",
   "version": "1.6.3"
  },
  "toc": {
   "base_numbering": 1,
   "nav_menu": {},
   "number_sections": false,
   "sideBar": true,
   "skip_h1_title": false,
   "title_cell": "Table of Contents",
   "title_sidebar": "Contents",
   "toc_cell": false,
   "toc_position": {},
   "toc_section_display": true,
   "toc_window_display": false
  }
 },
 "nbformat": 4,
 "nbformat_minor": 5
}
