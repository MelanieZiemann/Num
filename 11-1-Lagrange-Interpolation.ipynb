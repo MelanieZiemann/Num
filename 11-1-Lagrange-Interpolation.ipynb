{
 "cells": [
  {
   "cell_type": "markdown",
   "metadata": {},
   "source": [
    "# Vorlesung 11-1"
   ]
  },
  {
   "cell_type": "code",
   "execution_count": 1,
   "metadata": {
    "ExecuteTime": {
     "end_time": "2022-01-10T19:16:25.662000+01:00",
     "start_time": "2022-01-10T18:16:13.525Z"
    }
   },
   "outputs": [
    {
     "data": {
      "application/vnd.webio.node+json": {
       "children": [],
       "instanceArgs": {
        "namespace": "html",
        "tag": "div"
       },
       "nodeType": "DOM",
       "props": {},
       "type": "node"
      },
      "text/html": [
       "<div style=\"padding: 1em; background-color: #f8d6da; border: 1px solid #f5c6cb; font-weight: bold;\">\n",
       "<p>The WebIO Jupyter extension was not detected. See the\n",
       "<a href=\"https://juliagizmos.github.io/WebIO.jl/latest/providers/ijulia/\" target=\"_blank\">\n",
       "    WebIO Jupyter integration documentation\n",
       "</a>\n",
       "for more information.\n",
       "</div>\n"
      ],
      "text/plain": [
       "WebIO._IJuliaInit()"
      ]
     },
     "metadata": {
      "application/vnd.webio.node+json": {
       "kernelId": "0b9f4c21-30f4-4e5c-a287-dbb1369d0740"
      }
     },
     "output_type": "display_data"
    }
   ],
   "source": [
    "using Interact\n",
    "using Plots\n",
    "using LaTeXStrings\n",
    "using LinearAlgebra\n",
    "using Random"
   ]
  },
  {
   "cell_type": "markdown",
   "metadata": {},
   "source": [
    "## (23.4) Zweite baryzentrische Formel für die Lagrange-Form der Interpolation"
   ]
  },
  {
   "cell_type": "code",
   "execution_count": 2,
   "metadata": {
    "ExecuteTime": {
     "end_time": "2022-01-10T19:16:27.080000+01:00",
     "start_time": "2022-01-10T18:16:14.583Z"
    }
   },
   "outputs": [],
   "source": [
    "mutable struct Lagrange{T<:AbstractFloat}\n",
    "    n             # order of polynomial\n",
    "    x::Vector{T}  # nodes \n",
    "    λ::Vector{T}  # weights for barycentric formula\n",
    "    f::Vector{T}  # f-values\n",
    "    \n",
    "    function Lagrange(x::Vector{T}) where T<:AbstractFloat\n",
    "    # construction of weights\n",
    "        n, λ = length(x), ones(T, size(x))\n",
    "        for k = 2:n\n",
    "            d = x[1:k-1] .- x[k]\n",
    "            λ[1:k-1] ./=  d\n",
    "            λ[k] /= prod(-d)\n",
    "        end\n",
    "        return new{T}(n, x, λ, zeros(T, size(x)))\n",
    "    end\n",
    "end\n",
    "\n",
    "function LagrangeEval(p::Lagrange{T}, x::AbstractArray{T}) where {T<:AbstractFloat}\n",
    "    num = den = zeros(T, size(x))\n",
    "    for j=1:p.n                                         # 2nd barycentric formula\n",
    "        num += (c = p.λ[j]./(x .- p.x[j]))*p.f[j]\n",
    "        den += c\n",
    "    end\n",
    "    y = num./den\n",
    "    ind = isnan.(y); y[ind] = p.f[indexin(x, p.x)[ind]] # evaluation at the nodes themselves\n",
    "    return y\n",
    "end\n",
    "\n",
    "setf!(p::Lagrange{T}, f::Vector{T}) where {T<:AbstractFloat} = (p.f = f; p)\n",
    "\n",
    "setf!(p::Lagrange{T}, f::Function)  where {T<:AbstractFloat} = setf!(p,f.(p.x))\n",
    "\n",
    "Lagrange(x::Vector{T}, f) where {T<:AbstractFloat} = setf!(Lagrange(x), f)\n",
    "\n",
    "LagrangeEval(p::Lagrange{T}, x::T) where {T<:AbstractFloat} = LagrangeEval(p, [x])[1]\n",
    "\n",
    "(p::Lagrange)(x) = LagrangeEval(p, x) # enables calls of the form p(x)"
   ]
  },
  {
   "cell_type": "markdown",
   "metadata": {},
   "source": [
    "## (23.7) Illustration der Formel von Taylor (1945)"
   ]
  },
  {
   "cell_type": "code",
   "execution_count": 3,
   "metadata": {
    "ExecuteTime": {
     "end_time": "2022-01-10T19:16:27.082000+01:00",
     "start_time": "2022-01-10T18:16:15.685Z"
    }
   },
   "outputs": [],
   "source": [
    "EquidistantKnots(a, b, n) = range(a, b, length=n+1) |> collect;"
   ]
  },
  {
   "cell_type": "code",
   "execution_count": 4,
   "metadata": {
    "ExecuteTime": {
     "end_time": "2022-01-10T19:16:36.980000+01:00",
     "start_time": "2022-01-10T18:16:16.134Z"
    }
   },
   "outputs": [
    {
     "data": {
      "application/vnd.webio.node+json": {
       "children": [
        {
         "children": [
          {
           "children": [
            {
             "children": [
              {
               "children": [
                {
                 "children": [
                  "n"
                 ],
                 "instanceArgs": {
                  "namespace": "html",
                  "tag": "label"
                 },
                 "nodeType": "DOM",
                 "props": {
                  "className": "interact ",
                  "style": {
                   "padding": "5px 10px 0px 10px"
                  }
                 },
                 "type": "node"
                }
               ],
               "instanceArgs": {
                "namespace": "html",
                "tag": "div"
               },
               "nodeType": "DOM",
               "props": {
                "className": "interact-flex-row-left"
               },
               "type": "node"
              },
              {
               "children": [
                {
                 "children": [],
                 "instanceArgs": {
                  "namespace": "html",
                  "tag": "input"
                 },
                 "nodeType": "DOM",
                 "props": {
                  "attributes": {
                   "data-bind": "numericValue: index, valueUpdate: 'input', event: {change: function (){this.changes(this.changes()+1)}}",
                   "orient": "horizontal",
                   "type": "range"
                  },
                  "className": "slider slider is-fullwidth",
                  "max": 12,
                  "min": 6,
                  "step": 1,
                  "style": {}
                 },
                 "type": "node"
                }
               ],
               "instanceArgs": {
                "namespace": "html",
                "tag": "div"
               },
               "nodeType": "DOM",
               "props": {
                "className": "interact-flex-row-center"
               },
               "type": "node"
              },
              {
               "children": [
                {
                 "children": [],
                 "instanceArgs": {
                  "namespace": "html",
                  "tag": "p"
                 },
                 "nodeType": "DOM",
                 "props": {
                  "attributes": {
                   "data-bind": "text: formatted_val"
                  }
                 },
                 "type": "node"
                }
               ],
               "instanceArgs": {
                "namespace": "html",
                "tag": "div"
               },
               "nodeType": "DOM",
               "props": {
                "className": "interact-flex-row-right"
               },
               "type": "node"
              }
             ],
             "instanceArgs": {
              "namespace": "html",
              "tag": "div"
             },
             "nodeType": "DOM",
             "props": {
              "className": "interact-flex-row interact-widget"
             },
             "type": "node"
            }
           ],
           "instanceArgs": {
            "handlers": {
             "changes": [
              "(function (val){return (val!=this.model[\"changes\"]()) ? (this.valueFromJulia[\"changes\"]=true, this.model[\"changes\"](val)) : undefined})"
             ],
             "index": [
              "(function (val){return (val!=this.model[\"index\"]()) ? (this.valueFromJulia[\"index\"]=true, this.model[\"index\"](val)) : undefined})"
             ]
            },
            "id": "17446391288049318870",
            "imports": {
             "data": [
              {
               "name": "knockout",
               "type": "js",
               "url": "/assetserver/c7e9525c60334db1a679535c544de0605a206866-knockout.js"
              },
              {
               "name": "knockout_punches",
               "type": "js",
               "url": "/assetserver/25d986356c2356e73454f2b9198affa4b0e07e2e-knockout_punches.js"
              },
              {
               "name": null,
               "type": "js",
               "url": "/assetserver/a371ad546c7103190b2a50e7b48d9321e4ff74ac-all.js"
              },
              {
               "name": null,
               "type": "css",
               "url": "/assetserver/5762da8363b7bdc341622051ef36e5d544811e67-style.css"
              },
              {
               "name": null,
               "type": "css",
               "url": "/assetserver/3adddd1658906b22aee092f05eeb7474fa7ba7b4-bulma_confined.min.css"
              }
             ],
             "type": "async_block"
            },
            "mount_callbacks": [
             "function () {\n    var handler = (function (ko, koPunches) {\n    ko.punches.enableAll();\n    ko.bindingHandlers.numericValue = {\n        init: function(element, valueAccessor, allBindings, data, context) {\n            var stringified = ko.observable(ko.unwrap(valueAccessor()));\n            stringified.subscribe(function(value) {\n                var val = parseFloat(value);\n                if (!isNaN(val)) {\n                    valueAccessor()(val);\n                }\n            });\n            valueAccessor().subscribe(function(value) {\n                var str = JSON.stringify(value);\n                if ((str == \"0\") && ([\"-0\", \"-0.\"].indexOf(stringified()) >= 0))\n                     return;\n                 if ([\"null\", \"\"].indexOf(str) >= 0)\n                     return;\n                stringified(str);\n            });\n            ko.applyBindingsToNode(\n                element,\n                {\n                    value: stringified,\n                    valueUpdate: allBindings.get('valueUpdate'),\n                },\n                context,\n            );\n        }\n    };\n    var json_data = {\"formatted_vals\":[\"6\",\"7\",\"8\",\"9\",\"10\",\"11\",\"12\"],\"changes\":WebIO.getval({\"name\":\"changes\",\"scope\":\"17446391288049318870\",\"id\":\"16330975497148248021\",\"type\":\"observable\"}),\"index\":WebIO.getval({\"name\":\"index\",\"scope\":\"17446391288049318870\",\"id\":\"5782144614753844123\",\"type\":\"observable\"})};\n    var self = this;\n    function AppViewModel() {\n        for (var key in json_data) {\n            var el = json_data[key];\n            this[key] = Array.isArray(el) ? ko.observableArray(el) : ko.observable(el);\n        }\n        \n        [this[\"formatted_val\"]=ko.computed(    function(){\n        return this.formatted_vals()[parseInt(this.index())-(6)];\n    }\n,this)]\n        [this[\"changes\"].subscribe((function (val){!(this.valueFromJulia[\"changes\"]) ? (WebIO.setval({\"name\":\"changes\",\"scope\":\"17446391288049318870\",\"id\":\"16330975497148248021\",\"type\":\"observable\"},val)) : undefined; return this.valueFromJulia[\"changes\"]=false}),self),this[\"index\"].subscribe((function (val){!(this.valueFromJulia[\"index\"]) ? (WebIO.setval({\"name\":\"index\",\"scope\":\"17446391288049318870\",\"id\":\"5782144614753844123\",\"type\":\"observable\"},val)) : undefined; return this.valueFromJulia[\"index\"]=false}),self)]\n        \n    }\n    self.model = new AppViewModel();\n    self.valueFromJulia = {};\n    for (var key in json_data) {\n        self.valueFromJulia[key] = false;\n    }\n    ko.applyBindings(self.model, self.dom);\n}\n);\n    (WebIO.importBlock({\"data\":[{\"name\":\"knockout\",\"type\":\"js\",\"url\":\"/assetserver/c7e9525c60334db1a679535c544de0605a206866-knockout.js\"},{\"name\":\"knockout_punches\",\"type\":\"js\",\"url\":\"/assetserver/25d986356c2356e73454f2b9198affa4b0e07e2e-knockout_punches.js\"}],\"type\":\"async_block\"})).then((imports) => handler.apply(this, imports));\n}\n"
            ],
            "observables": {
             "changes": {
              "id": "16330975497148248021",
              "sync": false,
              "value": 0
             },
             "index": {
              "id": "5782144614753844123",
              "sync": true,
              "value": 9
             }
            },
            "systemjs_options": null
           },
           "nodeType": "Scope",
           "props": {},
           "type": "node"
          }
         ],
         "instanceArgs": {
          "namespace": "html",
          "tag": "div"
         },
         "nodeType": "DOM",
         "props": {
          "className": "field interact-widget"
         },
         "type": "node"
        },
        {
         "children": [
          {
           "children": [],
           "instanceArgs": {
            "id": "15563721596009983330",
            "name": "obs-node"
           },
           "nodeType": "ObservableNode",
           "props": {},
           "type": "node"
          }
         ],
         "instanceArgs": {
          "handlers": {},
          "id": "4833581864390599336",
          "imports": {
           "data": [],
           "type": "async_block"
          },
          "mount_callbacks": [],
          "observables": {
           "obs-node": {
            "id": "15563721596009983330",
            "sync": false,
            "value": {
             "children": [
              {
               "children": [],
               "instanceArgs": {
                "namespace": "html",
                "tag": "div"
               },
               "nodeType": "DOM",
               "props": {
                "setInnerHtml": "<pre>2×10 Matrix{Float64}:\n 1.0  -9.0  36.0  -84.0  126.0  -126.0  84.0  -36.0  9.0  -1.0\n 1.0  -9.0  36.0  -84.0  126.0  -126.0  84.0  -36.0  9.0  -1.0</pre>"
               },
               "type": "node"
              }
             ],
             "instanceArgs": {
              "namespace": "html",
              "tag": "div"
             },
             "nodeType": "DOM",
             "props": {
              "className": "interact-flex-row interact-widget"
             },
             "type": "node"
            }
           }
          },
          "systemjs_options": null
         },
         "nodeType": "Scope",
         "props": {},
         "type": "node"
        }
       ],
       "instanceArgs": {
        "namespace": "html",
        "tag": "div"
       },
       "nodeType": "DOM",
       "props": {},
       "type": "node"
      },
      "text/html": [
       "<div\n",
       "    class=\"webio-mountpoint\"\n",
       "    data-webio-mountpoint=\"5026221605359235845\"\n",
       ">\n",
       "    <script>\n",
       "    (function(){\n",
       "    // Some integrations (namely, IJulia/Jupyter) use an alternate render pathway than\n",
       "    // just putting the html on the page. If WebIO isn't defined, then it's pretty likely\n",
       "    // that we're in one of those situations and the integration just isn't installed\n",
       "    // correctly.\n",
       "    if (typeof window.WebIO === \"undefined\") {\n",
       "        document\n",
       "            .querySelector('[data-webio-mountpoint=\"5026221605359235845\"]')\n",
       "            .innerHTML = (\n",
       "                '<div style=\"padding: 1em; background-color: #f8d6da; border: 1px solid #f5c6cb; font-weight: bold;\">' +\n",
       "                '<p><strong>WebIO not detected.</strong></p>' +\n",
       "                '<p>Please read ' +\n",
       "                '<a href=\"https://juliagizmos.github.io/WebIO.jl/latest/troubleshooting/not-detected/\" target=\"_blank\">the troubleshooting guide</a> ' +\n",
       "                'for more information on how to resolve this issue.</p>' +\n",
       "                '<p><a href=\"https://juliagizmos.github.io/WebIO.jl/latest/troubleshooting/not-detected/\" target=\"_blank\">https://juliagizmos.github.io/WebIO.jl/latest/troubleshooting/not-detected/</a></p>' +\n",
       "                '</div>'\n",
       "            );\n",
       "        return;\n",
       "    }\n",
       "    WebIO.mount(\n",
       "        document.querySelector('[data-webio-mountpoint=\"5026221605359235845\"]'),\n",
       "        {\"props\":{},\"nodeType\":\"DOM\",\"type\":\"node\",\"instanceArgs\":{\"namespace\":\"html\",\"tag\":\"div\"},\"children\":[{\"props\":{\"className\":\"field interact-widget\"},\"nodeType\":\"DOM\",\"type\":\"node\",\"instanceArgs\":{\"namespace\":\"html\",\"tag\":\"div\"},\"children\":[{\"props\":{},\"nodeType\":\"Scope\",\"type\":\"node\",\"instanceArgs\":{\"imports\":{\"data\":[{\"name\":\"knockout\",\"type\":\"js\",\"url\":\"\\/assetserver\\/c7e9525c60334db1a679535c544de0605a206866-knockout.js\"},{\"name\":\"knockout_punches\",\"type\":\"js\",\"url\":\"\\/assetserver\\/25d986356c2356e73454f2b9198affa4b0e07e2e-knockout_punches.js\"},{\"name\":null,\"type\":\"js\",\"url\":\"\\/assetserver\\/a371ad546c7103190b2a50e7b48d9321e4ff74ac-all.js\"},{\"name\":null,\"type\":\"css\",\"url\":\"\\/assetserver\\/5762da8363b7bdc341622051ef36e5d544811e67-style.css\"},{\"name\":null,\"type\":\"css\",\"url\":\"\\/assetserver\\/3adddd1658906b22aee092f05eeb7474fa7ba7b4-bulma_confined.min.css\"}],\"type\":\"async_block\"},\"id\":\"17446391288049318870\",\"handlers\":{\"changes\":[\"(function (val){return (val!=this.model[\\\"changes\\\"]()) ? (this.valueFromJulia[\\\"changes\\\"]=true, this.model[\\\"changes\\\"](val)) : undefined})\"],\"index\":[\"(function (val){return (val!=this.model[\\\"index\\\"]()) ? (this.valueFromJulia[\\\"index\\\"]=true, this.model[\\\"index\\\"](val)) : undefined})\"]},\"systemjs_options\":null,\"mount_callbacks\":[\"function () {\\n    var handler = (function (ko, koPunches) {\\n    ko.punches.enableAll();\\n    ko.bindingHandlers.numericValue = {\\n        init: function(element, valueAccessor, allBindings, data, context) {\\n            var stringified = ko.observable(ko.unwrap(valueAccessor()));\\n            stringified.subscribe(function(value) {\\n                var val = parseFloat(value);\\n                if (!isNaN(val)) {\\n                    valueAccessor()(val);\\n                }\\n            });\\n            valueAccessor().subscribe(function(value) {\\n                var str = JSON.stringify(value);\\n                if ((str == \\\"0\\\") && ([\\\"-0\\\", \\\"-0.\\\"].indexOf(stringified()) >= 0))\\n                     return;\\n                 if ([\\\"null\\\", \\\"\\\"].indexOf(str) >= 0)\\n                     return;\\n                stringified(str);\\n            });\\n            ko.applyBindingsToNode(\\n                element,\\n                {\\n                    value: stringified,\\n                    valueUpdate: allBindings.get('valueUpdate'),\\n                },\\n                context,\\n            );\\n        }\\n    };\\n    var json_data = {\\\"formatted_vals\\\":[\\\"6\\\",\\\"7\\\",\\\"8\\\",\\\"9\\\",\\\"10\\\",\\\"11\\\",\\\"12\\\"],\\\"changes\\\":WebIO.getval({\\\"name\\\":\\\"changes\\\",\\\"scope\\\":\\\"17446391288049318870\\\",\\\"id\\\":\\\"16330975497148248021\\\",\\\"type\\\":\\\"observable\\\"}),\\\"index\\\":WebIO.getval({\\\"name\\\":\\\"index\\\",\\\"scope\\\":\\\"17446391288049318870\\\",\\\"id\\\":\\\"5782144614753844123\\\",\\\"type\\\":\\\"observable\\\"})};\\n    var self = this;\\n    function AppViewModel() {\\n        for (var key in json_data) {\\n            var el = json_data[key];\\n            this[key] = Array.isArray(el) ? ko.observableArray(el) : ko.observable(el);\\n        }\\n        \\n        [this[\\\"formatted_val\\\"]=ko.computed(    function(){\\n        return this.formatted_vals()[parseInt(this.index())-(6)];\\n    }\\n,this)]\\n        [this[\\\"changes\\\"].subscribe((function (val){!(this.valueFromJulia[\\\"changes\\\"]) ? (WebIO.setval({\\\"name\\\":\\\"changes\\\",\\\"scope\\\":\\\"17446391288049318870\\\",\\\"id\\\":\\\"16330975497148248021\\\",\\\"type\\\":\\\"observable\\\"},val)) : undefined; return this.valueFromJulia[\\\"changes\\\"]=false}),self),this[\\\"index\\\"].subscribe((function (val){!(this.valueFromJulia[\\\"index\\\"]) ? (WebIO.setval({\\\"name\\\":\\\"index\\\",\\\"scope\\\":\\\"17446391288049318870\\\",\\\"id\\\":\\\"5782144614753844123\\\",\\\"type\\\":\\\"observable\\\"},val)) : undefined; return this.valueFromJulia[\\\"index\\\"]=false}),self)]\\n        \\n    }\\n    self.model = new AppViewModel();\\n    self.valueFromJulia = {};\\n    for (var key in json_data) {\\n        self.valueFromJulia[key] = false;\\n    }\\n    ko.applyBindings(self.model, self.dom);\\n}\\n);\\n    (WebIO.importBlock({\\\"data\\\":[{\\\"name\\\":\\\"knockout\\\",\\\"type\\\":\\\"js\\\",\\\"url\\\":\\\"\\/assetserver\\/c7e9525c60334db1a679535c544de0605a206866-knockout.js\\\"},{\\\"name\\\":\\\"knockout_punches\\\",\\\"type\\\":\\\"js\\\",\\\"url\\\":\\\"\\/assetserver\\/25d986356c2356e73454f2b9198affa4b0e07e2e-knockout_punches.js\\\"}],\\\"type\\\":\\\"async_block\\\"})).then((imports) => handler.apply(this, imports));\\n}\\n\"],\"observables\":{\"changes\":{\"sync\":false,\"id\":\"16330975497148248021\",\"value\":0},\"index\":{\"sync\":true,\"id\":\"5782144614753844123\",\"value\":9}}},\"children\":[{\"props\":{\"className\":\"interact-flex-row interact-widget\"},\"nodeType\":\"DOM\",\"type\":\"node\",\"instanceArgs\":{\"namespace\":\"html\",\"tag\":\"div\"},\"children\":[{\"props\":{\"className\":\"interact-flex-row-left\"},\"nodeType\":\"DOM\",\"type\":\"node\",\"instanceArgs\":{\"namespace\":\"html\",\"tag\":\"div\"},\"children\":[{\"props\":{\"className\":\"interact \",\"style\":{\"padding\":\"5px 10px 0px 10px\"}},\"nodeType\":\"DOM\",\"type\":\"node\",\"instanceArgs\":{\"namespace\":\"html\",\"tag\":\"label\"},\"children\":[\"n\"]}]},{\"props\":{\"className\":\"interact-flex-row-center\"},\"nodeType\":\"DOM\",\"type\":\"node\",\"instanceArgs\":{\"namespace\":\"html\",\"tag\":\"div\"},\"children\":[{\"props\":{\"max\":12,\"min\":6,\"attributes\":{\"type\":\"range\",\"data-bind\":\"numericValue: index, valueUpdate: 'input', event: {change: function (){this.changes(this.changes()+1)}}\",\"orient\":\"horizontal\"},\"step\":1,\"className\":\"slider slider is-fullwidth\",\"style\":{}},\"nodeType\":\"DOM\",\"type\":\"node\",\"instanceArgs\":{\"namespace\":\"html\",\"tag\":\"input\"},\"children\":[]}]},{\"props\":{\"className\":\"interact-flex-row-right\"},\"nodeType\":\"DOM\",\"type\":\"node\",\"instanceArgs\":{\"namespace\":\"html\",\"tag\":\"div\"},\"children\":[{\"props\":{\"attributes\":{\"data-bind\":\"text: formatted_val\"}},\"nodeType\":\"DOM\",\"type\":\"node\",\"instanceArgs\":{\"namespace\":\"html\",\"tag\":\"p\"},\"children\":[]}]}]}]}]},{\"props\":{},\"nodeType\":\"Scope\",\"type\":\"node\",\"instanceArgs\":{\"imports\":{\"data\":[],\"type\":\"async_block\"},\"id\":\"3914236598492516240\",\"handlers\":{},\"systemjs_options\":null,\"mount_callbacks\":[],\"observables\":{\"obs-node\":{\"sync\":false,\"id\":\"18152133206615296308\",\"value\":{\"props\":{\"className\":\"interact-flex-row interact-widget\"},\"nodeType\":\"DOM\",\"type\":\"node\",\"instanceArgs\":{\"namespace\":\"html\",\"tag\":\"div\"},\"children\":[{\"props\":{\"setInnerHtml\":\"<pre>2×10 Matrix{Float64}:\\n 1.0  -9.0  36.0  -84.0  126.0  -126.0  84.0  -36.0  9.0  -1.0\\n 1.0  -9.0  36.0  -84.0  126.0  -126.0  84.0  -36.0  9.0  -1.0<\\/pre>\"},\"nodeType\":\"DOM\",\"type\":\"node\",\"instanceArgs\":{\"namespace\":\"html\",\"tag\":\"div\"},\"children\":[]}]}}}},\"children\":[{\"props\":{},\"nodeType\":\"ObservableNode\",\"type\":\"node\",\"instanceArgs\":{\"id\":\"18152133206615296308\",\"name\":\"obs-node\"},\"children\":[]}]}]},\n",
       "        window,\n",
       "    );\n",
       "    })()\n",
       "    </script>\n",
       "</div>\n"
      ],
      "text/plain": [
       "Node{WebIO.DOM}(WebIO.DOM(:html, :div), Any[Node{WebIO.DOM}(WebIO.DOM(:html, :div), Any[Scope(Node{WebIO.DOM}(WebIO.DOM(:html, :div), Any[Node{WebIO.DOM}(WebIO.DOM(:html, :div), Any[Node{WebIO.DOM}(WebIO.DOM(:html, :label), Any[\"n\"], Dict{Symbol, Any}(:className => \"interact \", :style => Dict{Any, Any}(:padding => \"5px 10px 0px 10px\")))], Dict{Symbol, Any}(:className => \"interact-flex-row-left\")), Node{WebIO.DOM}(WebIO.DOM(:html, :div), Any[Node{WebIO.DOM}(WebIO.DOM(:html, :input), Any[], Dict{Symbol, Any}(:max => 12, :min => 6, :attributes => Dict{Any, Any}(:type => \"range\", Symbol(\"data-bind\") => \"numericValue: index, valueUpdate: 'input', event: {change: function (){this.changes(this.changes()+1)}}\", \"orient\" => \"horizontal\"), :step => 1, :className => \"slider slider is-fullwidth\", :style => Dict{Any, Any}()))], Dict{Symbol, Any}(:className => \"interact-flex-row-center\")), Node{WebIO.DOM}(WebIO.DOM(:html, :div), Any[Node{WebIO.DOM}(WebIO.DOM(:html, :p), Any[], Dict{Symbol, Any}(:attributes => Dict(\"data-bind\" => \"text: formatted_val\")))], Dict{Symbol, Any}(:className => \"interact-flex-row-right\"))], Dict{Symbol, Any}(:className => \"interact-flex-row interact-widget\")), Dict{String, Tuple{Observables.AbstractObservable, Union{Nothing, Bool}}}(\"changes\" => (Observable{Int64} with 1 listeners. Value:\n",
       "0, nothing), \"index\" => (Observable{Int64} with 2 listeners. Value:\n",
       "9, nothing)), Set{String}(), nothing, Asset[Asset(\"js\", \"knockout\", \"/Users/Folkmar/.julia/packages/Knockout/3gjS1/src/../assets/knockout.js\"), Asset(\"js\", \"knockout_punches\", \"/Users/Folkmar/.julia/packages/Knockout/3gjS1/src/../assets/knockout_punches.js\"), Asset(\"js\", nothing, \"/Users/Folkmar/.julia/packages/InteractBase/o1I6G/src/../assets/all.js\"), Asset(\"css\", nothing, \"/Users/Folkmar/.julia/packages/InteractBase/o1I6G/src/../assets/style.css\"), Asset(\"css\", nothing, \"/Users/Folkmar/.julia/packages/Interact/pVyN2/src/../assets/bulma_confined.min.css\")], Dict{Any, Any}(\"changes\" => Any[WebIO.JSString(\"(function (val){return (val!=this.model[\\\"changes\\\"]()) ? (this.valueFromJulia[\\\"changes\\\"]=true, this.model[\\\"changes\\\"](val)) : undefined})\")], \"index\" => Any[WebIO.JSString(\"(function (val){return (val!=this.model[\\\"index\\\"]()) ? (this.valueFromJulia[\\\"index\\\"]=true, this.model[\\\"index\\\"](val)) : undefined})\")]), WebIO.ConnectionPool(Channel{Any}(32), Set{AbstractConnection}(), Condition(Base.InvasiveLinkedList{Task}(Task (runnable) @0x0000000110872cb0, Task (runnable) @0x0000000110872cb0), Base.AlwaysLockedST(1))), WebIO.JSString[WebIO.JSString(\"function () {\\n    var handler = (function (ko, koPunches) {\\n    ko.punches.enableAll();\\n    ko.bindingHandlers.numericValue = {\\n        init: function(element, valueAccessor, allBindings, data, context) {\\n            var stringified = ko.observable(ko.unwrap(valueAccessor()));\\n            stringified.subscribe(function(value) {\\n                var val = parseFloat(value);\\n                if (!isNaN(val)) {\\n                    valueAccessor()(val);\\n                }\\n            });\\n            valueAccessor().subscribe(function(value) {\\n                var str = JSON.stringify(value);\\n                if ((str == \\\"0\\\") && ([\\\"-0\\\", \\\"-0.\\\"].indexOf(stringified()) >= 0))\\n                     return;\\n                 if ([\\\"null\\\", \\\"\\\"].indexOf(str) >= 0)\\n                     return;\\n                stringified(str);\\n            });\\n            ko.applyBindingsToNode(\\n                element,\\n                {\\n                    value: stringified,\\n                    valueUpdate: allBindings.get('valueUpdate'),\\n                },\\n                context,\\n            );\\n        }\\n    };\\n    var json_data = {\\\"formatted_vals\\\":[\\\"6\\\",\\\"7\\\",\\\"8\\\",\\\"9\\\",\\\"10\\\",\\\"11\\\",\\\"12\\\"],\\\"changes\\\":WebIO.getval({\\\"name\\\":\\\"changes\\\",\\\"scope\\\":\\\"17446391288049318870\\\",\\\"id\\\":\\\"16330975497148248021\\\",\\\"type\\\":\\\"observable\\\"}),\\\"index\\\":WebIO.getval({\\\"name\\\":\\\"index\\\",\\\"scope\\\":\\\"17446391288049318870\\\",\\\"id\\\":\\\"5782144614753844123\\\",\\\"type\\\":\\\"observable\\\"})};\\n    var self = this;\\n    function AppViewModel() {\\n        for (var key in json_data) {\\n            var el = json_data[key];\\n            this[key] = Array.isArray(el) ? ko.observableArray(el) : ko.observable(el);\\n        }\\n        \\n        [this[\\\"formatted_val\\\"]=ko.computed(    function(){\\n        return this.formatted_vals()[parseInt(this.index())-(6)];\\n    }\\n,this)]\\n        [this[\\\"changes\\\"].subscribe((function (val){!(this.valueFromJulia[\\\"changes\\\"]) ? (WebIO.setval({\\\"name\\\":\\\"changes\\\",\\\"scope\\\":\\\"17446391288049318870\\\",\\\"id\\\":\\\"16330975497148248021\\\",\\\"type\\\":\\\"observable\\\"},val)) : undefined; return this.valueFromJulia[\\\"changes\\\"]=false}),self),this[\\\"index\\\"].subscribe((function (val){!(this.valueFromJulia[\\\"index\\\"]) ? (WebIO.setval({\\\"name\\\":\\\"index\\\",\\\"scope\\\":\\\"17446391288049318870\\\",\\\"id\\\":\\\"5782144614753844123\\\",\\\"type\\\":\\\"observable\\\"},val)) : undefined; return this.valueFromJulia[\\\"index\\\"]=false}),self)]\\n        \\n    }\\n    self.model = new AppViewModel();\\n    self.valueFromJulia = {};\\n    for (var key in json_data) {\\n        self.valueFromJulia[key] = false;\\n    }\\n    ko.applyBindings(self.model, self.dom);\\n}\\n);\\n    (WebIO.importBlock({\\\"data\\\":[{\\\"name\\\":\\\"knockout\\\",\\\"type\\\":\\\"js\\\",\\\"url\\\":\\\"/assetserver/c7e9525c60334db1a679535c544de0605a206866-knockout.js\\\"},{\\\"name\\\":\\\"knockout_punches\\\",\\\"type\\\":\\\"js\\\",\\\"url\\\":\\\"/assetserver/25d986356c2356e73454f2b9198affa4b0e07e2e-knockout_punches.js\\\"}],\\\"type\\\":\\\"async_block\\\"})).then((imports) => handler.apply(this, imports));\\n}\\n\")])], Dict{Symbol, Any}(:className => \"field interact-widget\")), Observable{Node{WebIO.DOM}} with 0 listeners. Value:\n",
       "Node{WebIO.DOM}(WebIO.DOM(:html, :div), Any[[1.0 -9.000000000000002 … 9.000000000000004 -1.0; 1.0 -9.0 … 9.0 -1.0]], Dict{Symbol, Any}(:className => \"interact-flex-row interact-widget\"))], Dict{Symbol, Any}())"
      ]
     },
     "execution_count": 4,
     "metadata": {
      "application/vnd.webio.node+json": {
       "kernelId": "0b9f4c21-30f4-4e5c-a287-dbb1369d0740"
      }
     },
     "output_type": "execute_result"
    }
   ],
   "source": [
    "@manipulate for n=6:12\n",
    "    x = EquidistantKnots(-π,π,n)\n",
    "    λ = Lagrange(x).λ'\n",
    "    [λ/(λ[1]); ((-1).^(0:n).*binomial.(n,0:n))']\n",
    "end"
   ]
  },
  {
   "cell_type": "markdown",
   "metadata": {},
   "source": [
    "## Sensitivität der Polynominterpolation"
   ]
  },
  {
   "cell_type": "code",
   "execution_count": 5,
   "metadata": {
    "ExecuteTime": {
     "end_time": "2022-01-10T19:17:51.127000+01:00",
     "start_time": "2022-01-10T18:17:51.124Z"
    }
   },
   "outputs": [],
   "source": [
    "ChebyshevKnots(a, b, n) = (a+b)/2 .+ (b-a)/2*cos.(range(0,π,length=n+1));"
   ]
  },
  {
   "cell_type": "code",
   "execution_count": 6,
   "metadata": {
    "ExecuteTime": {
     "end_time": "2022-01-10T19:18:10.142000+01:00",
     "start_time": "2022-01-10T18:17:52.320Z"
    },
    "run_control": {
     "marked": false
    }
   },
   "outputs": [
    {
     "data": {
      "application/vnd.webio.node+json": {
       "children": [
        {
         "children": [
          {
           "children": [
            {
             "children": [
              {
               "children": [
                {
                 "children": [
                  "log10ϵ"
                 ],
                 "instanceArgs": {
                  "namespace": "html",
                  "tag": "label"
                 },
                 "nodeType": "DOM",
                 "props": {
                  "className": "interact ",
                  "style": {
                   "padding": "5px 10px 0px 10px"
                  }
                 },
                 "type": "node"
                }
               ],
               "instanceArgs": {
                "namespace": "html",
                "tag": "div"
               },
               "nodeType": "DOM",
               "props": {
                "className": "interact-flex-row-left"
               },
               "type": "node"
              },
              {
               "children": [
                {
                 "children": [],
                 "instanceArgs": {
                  "namespace": "html",
                  "tag": "input"
                 },
                 "nodeType": "DOM",
                 "props": {
                  "attributes": {
                   "data-bind": "numericValue: index, valueUpdate: 'input', event: {change: function (){this.changes(this.changes()+1)}}",
                   "orient": "horizontal",
                   "type": "range"
                  },
                  "className": "slider slider is-fullwidth",
                  "max": 61,
                  "min": 1,
                  "step": 1,
                  "style": {}
                 },
                 "type": "node"
                }
               ],
               "instanceArgs": {
                "namespace": "html",
                "tag": "div"
               },
               "nodeType": "DOM",
               "props": {
                "className": "interact-flex-row-center"
               },
               "type": "node"
              },
              {
               "children": [
                {
                 "children": [],
                 "instanceArgs": {
                  "namespace": "html",
                  "tag": "p"
                 },
                 "nodeType": "DOM",
                 "props": {
                  "attributes": {
                   "data-bind": "text: formatted_val"
                  }
                 },
                 "type": "node"
                }
               ],
               "instanceArgs": {
                "namespace": "html",
                "tag": "div"
               },
               "nodeType": "DOM",
               "props": {
                "className": "interact-flex-row-right"
               },
               "type": "node"
              }
             ],
             "instanceArgs": {
              "namespace": "html",
              "tag": "div"
             },
             "nodeType": "DOM",
             "props": {
              "className": "interact-flex-row interact-widget"
             },
             "type": "node"
            }
           ],
           "instanceArgs": {
            "handlers": {
             "changes": [
              "(function (val){return (val!=this.model[\"changes\"]()) ? (this.valueFromJulia[\"changes\"]=true, this.model[\"changes\"](val)) : undefined})"
             ],
             "index": [
              "(function (val){return (val!=this.model[\"index\"]()) ? (this.valueFromJulia[\"index\"]=true, this.model[\"index\"](val)) : undefined})"
             ]
            },
            "id": "17199008411268149501",
            "imports": {
             "data": [
              {
               "name": "knockout",
               "type": "js",
               "url": "/assetserver/c7e9525c60334db1a679535c544de0605a206866-knockout.js"
              },
              {
               "name": "knockout_punches",
               "type": "js",
               "url": "/assetserver/25d986356c2356e73454f2b9198affa4b0e07e2e-knockout_punches.js"
              },
              {
               "name": null,
               "type": "js",
               "url": "/assetserver/a371ad546c7103190b2a50e7b48d9321e4ff74ac-all.js"
              },
              {
               "name": null,
               "type": "css",
               "url": "/assetserver/5762da8363b7bdc341622051ef36e5d544811e67-style.css"
              },
              {
               "name": null,
               "type": "css",
               "url": "/assetserver/3adddd1658906b22aee092f05eeb7474fa7ba7b4-bulma_confined.min.css"
              }
             ],
             "type": "async_block"
            },
            "mount_callbacks": [
             "function () {\n    var handler = (function (ko, koPunches) {\n    ko.punches.enableAll();\n    ko.bindingHandlers.numericValue = {\n        init: function(element, valueAccessor, allBindings, data, context) {\n            var stringified = ko.observable(ko.unwrap(valueAccessor()));\n            stringified.subscribe(function(value) {\n                var val = parseFloat(value);\n                if (!isNaN(val)) {\n                    valueAccessor()(val);\n                }\n            });\n            valueAccessor().subscribe(function(value) {\n                var str = JSON.stringify(value);\n                if ((str == \"0\") && ([\"-0\", \"-0.\"].indexOf(stringified()) >= 0))\n                     return;\n                 if ([\"null\", \"\"].indexOf(str) >= 0)\n                     return;\n                stringified(str);\n            });\n            ko.applyBindingsToNode(\n                element,\n                {\n                    value: stringified,\n                    valueUpdate: allBindings.get('valueUpdate'),\n                },\n                context,\n            );\n        }\n    };\n    var json_data = {\"formatted_vals\":[\"-7.0\",\"-6.9\",\"-6.8\",\"-6.7\",\"-6.6\",\"-6.5\",\"-6.4\",\"-6.3\",\"-6.2\",\"-6.1\",\"-6.0\",\"-5.9\",\"-5.8\",\"-5.7\",\"-5.6\",\"-5.5\",\"-5.4\",\"-5.3\",\"-5.2\",\"-5.1\",\"-5.0\",\"-4.9\",\"-4.8\",\"-4.7\",\"-4.6\",\"-4.5\",\"-4.4\",\"-4.3\",\"-4.2\",\"-4.1\",\"-4.0\",\"-3.9\",\"-3.8\",\"-3.7\",\"-3.6\",\"-3.5\",\"-3.4\",\"-3.3\",\"-3.2\",\"-3.1\",\"-3.0\",\"-2.9\",\"-2.8\",\"-2.7\",\"-2.6\",\"-2.5\",\"-2.4\",\"-2.3\",\"-2.2\",\"-2.1\",\"-2.0\",\"-1.9\",\"-1.8\",\"-1.7\",\"-1.6\",\"-1.5\",\"-1.4\",\"-1.3\",\"-1.2\",\"-1.1\",\"-1.0\"],\"changes\":WebIO.getval({\"name\":\"changes\",\"scope\":\"17199008411268149501\",\"id\":\"3014228823405310257\",\"type\":\"observable\"}),\"index\":WebIO.getval({\"name\":\"index\",\"scope\":\"17199008411268149501\",\"id\":\"13416814726795587654\",\"type\":\"observable\"})};\n    var self = this;\n    function AppViewModel() {\n        for (var key in json_data) {\n            var el = json_data[key];\n            this[key] = Array.isArray(el) ? ko.observableArray(el) : ko.observable(el);\n        }\n        \n        [this[\"formatted_val\"]=ko.computed(    function(){\n        return this.formatted_vals()[parseInt(this.index())-(1)];\n    }\n,this)]\n        [this[\"changes\"].subscribe((function (val){!(this.valueFromJulia[\"changes\"]) ? (WebIO.setval({\"name\":\"changes\",\"scope\":\"17199008411268149501\",\"id\":\"3014228823405310257\",\"type\":\"observable\"},val)) : undefined; return this.valueFromJulia[\"changes\"]=false}),self),this[\"index\"].subscribe((function (val){!(this.valueFromJulia[\"index\"]) ? (WebIO.setval({\"name\":\"index\",\"scope\":\"17199008411268149501\",\"id\":\"13416814726795587654\",\"type\":\"observable\"},val)) : undefined; return this.valueFromJulia[\"index\"]=false}),self)]\n        \n    }\n    self.model = new AppViewModel();\n    self.valueFromJulia = {};\n    for (var key in json_data) {\n        self.valueFromJulia[key] = false;\n    }\n    ko.applyBindings(self.model, self.dom);\n}\n);\n    (WebIO.importBlock({\"data\":[{\"name\":\"knockout\",\"type\":\"js\",\"url\":\"/assetserver/c7e9525c60334db1a679535c544de0605a206866-knockout.js\"},{\"name\":\"knockout_punches\",\"type\":\"js\",\"url\":\"/assetserver/25d986356c2356e73454f2b9198affa4b0e07e2e-knockout_punches.js\"}],\"type\":\"async_block\"})).then((imports) => handler.apply(this, imports));\n}\n"
            ],
            "observables": {
             "changes": {
              "id": "3014228823405310257",
              "sync": false,
              "value": 0
             },
             "index": {
              "id": "13416814726795587654",
              "sync": true,
              "value": 31
             }
            },
            "systemjs_options": null
           },
           "nodeType": "Scope",
           "props": {},
           "type": "node"
          }
         ],
         "instanceArgs": {
          "namespace": "html",
          "tag": "div"
         },
         "nodeType": "DOM",
         "props": {
          "className": "field interact-widget"
         },
         "type": "node"
        },
        {
         "children": [
          {
           "children": [
            {
             "children": [
              {
               "children": [
                {
                 "children": [
                  "knots"
                 ],
                 "instanceArgs": {
                  "namespace": "html",
                  "tag": "label"
                 },
                 "nodeType": "DOM",
                 "props": {
                  "className": "interact ",
                  "style": {
                   "padding": "5px 10px 0px 10px"
                  }
                 },
                 "type": "node"
                }
               ],
               "instanceArgs": {
                "namespace": "html",
                "tag": "div"
               },
               "nodeType": "DOM",
               "props": {
                "className": "interact-flex-row-left"
               },
               "type": "node"
              },
              {
               "children": [
                {
                 "children": [
                  {
                   "children": [
                    {
                     "children": [],
                     "instanceArgs": {
                      "namespace": "html",
                      "tag": "label"
                     },
                     "nodeType": "DOM",
                     "props": {
                      "attributes": {
                       "data-bind": "text : key"
                      }
                     },
                     "type": "node"
                    }
                   ],
                   "instanceArgs": {
                    "namespace": "html",
                    "tag": "span"
                   },
                   "nodeType": "DOM",
                   "props": {
                    "attributes": {
                     "data-bind": "click: function (){$root.update(val)}, css: {'is-primary is-selected' : $root.index() == val, 'interact-widget is-medium button ' : true}"
                    }
                   },
                   "type": "node"
                  }
                 ],
                 "instanceArgs": {
                  "namespace": "html",
                  "tag": "div"
                 },
                 "nodeType": "DOM",
                 "props": {
                  "attributes": {
                   "data-bind": "foreach : options_js"
                  },
                  "className": "buttons has-addons is-centered"
                 },
                 "type": "node"
                }
               ],
               "instanceArgs": {
                "namespace": "html",
                "tag": "div"
               },
               "nodeType": "DOM",
               "props": {
                "className": "interact-flex-row-center"
               },
               "type": "node"
              },
              {
               "children": [
                {
                 "children": [],
                 "instanceArgs": {
                  "namespace": "html",
                  "tag": "div"
                 },
                 "nodeType": "DOM",
                 "props": {},
                 "type": "node"
                }
               ],
               "instanceArgs": {
                "namespace": "html",
                "tag": "div"
               },
               "nodeType": "DOM",
               "props": {
                "className": "interact-flex-row-right"
               },
               "type": "node"
              }
             ],
             "instanceArgs": {
              "namespace": "html",
              "tag": "div"
             },
             "nodeType": "DOM",
             "props": {
              "className": "interact-flex-row interact-widget"
             },
             "type": "node"
            }
           ],
           "instanceArgs": {
            "handlers": {
             "index": [
              "(function (val){return (val!=this.model[\"index\"]()) ? (this.valueFromJulia[\"index\"]=true, this.model[\"index\"](val)) : undefined})"
             ],
             "options_js": [
              "(function (val){return (val!=this.model[\"options_js\"]()) ? (this.valueFromJulia[\"options_js\"]=true, this.model[\"options_js\"](val)) : undefined})"
             ]
            },
            "id": "6187409947775397986",
            "imports": {
             "data": [
              {
               "name": "knockout",
               "type": "js",
               "url": "/assetserver/c7e9525c60334db1a679535c544de0605a206866-knockout.js"
              },
              {
               "name": "knockout_punches",
               "type": "js",
               "url": "/assetserver/25d986356c2356e73454f2b9198affa4b0e07e2e-knockout_punches.js"
              },
              {
               "name": null,
               "type": "js",
               "url": "/assetserver/a371ad546c7103190b2a50e7b48d9321e4ff74ac-all.js"
              },
              {
               "name": null,
               "type": "css",
               "url": "/assetserver/5762da8363b7bdc341622051ef36e5d544811e67-style.css"
              },
              {
               "name": null,
               "type": "css",
               "url": "/assetserver/3adddd1658906b22aee092f05eeb7474fa7ba7b4-bulma_confined.min.css"
              }
             ],
             "type": "async_block"
            },
            "mount_callbacks": [
             "function () {\n    var handler = (function (ko, koPunches) {\n    ko.punches.enableAll();\n    ko.bindingHandlers.numericValue = {\n        init: function(element, valueAccessor, allBindings, data, context) {\n            var stringified = ko.observable(ko.unwrap(valueAccessor()));\n            stringified.subscribe(function(value) {\n                var val = parseFloat(value);\n                if (!isNaN(val)) {\n                    valueAccessor()(val);\n                }\n            });\n            valueAccessor().subscribe(function(value) {\n                var str = JSON.stringify(value);\n                if ((str == \"0\") && ([\"-0\", \"-0.\"].indexOf(stringified()) >= 0))\n                     return;\n                 if ([\"null\", \"\"].indexOf(str) >= 0)\n                     return;\n                stringified(str);\n            });\n            ko.applyBindingsToNode(\n                element,\n                {\n                    value: stringified,\n                    valueUpdate: allBindings.get('valueUpdate'),\n                },\n                context,\n            );\n        }\n    };\n    var json_data = {\"options_js\":WebIO.getval({\"name\":\"options_js\",\"scope\":\"6187409947775397986\",\"id\":\"13194127505694575580\",\"type\":\"observable\"}),\"index\":WebIO.getval({\"name\":\"index\",\"scope\":\"6187409947775397986\",\"id\":\"5408008006465122439\",\"type\":\"observable\"})};\n    var self = this;\n    function AppViewModel() {\n        for (var key in json_data) {\n            var el = json_data[key];\n            this[key] = Array.isArray(el) ? ko.observableArray(el) : ko.observable(el);\n        }\n        [this[\"update\"]=function (val) {this.index(val)}]\n        \n        [this[\"options_js\"].subscribe((function (val){!(this.valueFromJulia[\"options_js\"]) ? (WebIO.setval({\"name\":\"options_js\",\"scope\":\"6187409947775397986\",\"id\":\"13194127505694575580\",\"type\":\"observable\"},val)) : undefined; return this.valueFromJulia[\"options_js\"]=false}),self),this[\"index\"].subscribe((function (val){!(this.valueFromJulia[\"index\"]) ? (WebIO.setval({\"name\":\"index\",\"scope\":\"6187409947775397986\",\"id\":\"5408008006465122439\",\"type\":\"observable\"},val)) : undefined; return this.valueFromJulia[\"index\"]=false}),self)]\n        \n    }\n    self.model = new AppViewModel();\n    self.valueFromJulia = {};\n    for (var key in json_data) {\n        self.valueFromJulia[key] = false;\n    }\n    ko.applyBindings(self.model, self.dom);\n}\n);\n    (WebIO.importBlock({\"data\":[{\"name\":\"knockout\",\"type\":\"js\",\"url\":\"/assetserver/c7e9525c60334db1a679535c544de0605a206866-knockout.js\"},{\"name\":\"knockout_punches\",\"type\":\"js\",\"url\":\"/assetserver/25d986356c2356e73454f2b9198affa4b0e07e2e-knockout_punches.js\"}],\"type\":\"async_block\"})).then((imports) => handler.apply(this, imports));\n}\n"
            ],
            "observables": {
             "index": {
              "id": "5408008006465122439",
              "sync": true,
              "value": 1
             },
             "options_js": {
              "id": "13194127505694575580",
              "sync": false,
              "value": [
               {
                "id": "idOPpgyCY4",
                "key": "equidistant",
                "val": 1
               },
               {
                "id": "idwb5zvLVl",
                "key": "Chebyshev",
                "val": 2
               }
              ]
             }
            },
            "systemjs_options": null
           },
           "nodeType": "Scope",
           "props": {},
           "type": "node"
          }
         ],
         "instanceArgs": {
          "namespace": "html",
          "tag": "div"
         },
         "nodeType": "DOM",
         "props": {
          "className": "interact-widget"
         },
         "type": "node"
        },
        {
         "children": [
          {
           "children": [
            {
             "children": [
              {
               "children": [
                {
                 "children": [
                  "clipped"
                 ],
                 "instanceArgs": {
                  "namespace": "html",
                  "tag": "label"
                 },
                 "nodeType": "DOM",
                 "props": {
                  "className": "interact ",
                  "style": {
                   "padding": "5px 10px 0px 10px"
                  }
                 },
                 "type": "node"
                }
               ],
               "instanceArgs": {
                "namespace": "html",
                "tag": "div"
               },
               "nodeType": "DOM",
               "props": {
                "className": "interact-flex-row-left"
               },
               "type": "node"
              },
              {
               "children": [
                {
                 "children": [
                  {
                   "children": [
                    {
                     "children": [],
                     "instanceArgs": {
                      "namespace": "html",
                      "tag": "label"
                     },
                     "nodeType": "DOM",
                     "props": {
                      "attributes": {
                       "data-bind": "text : key"
                      }
                     },
                     "type": "node"
                    }
                   ],
                   "instanceArgs": {
                    "namespace": "html",
                    "tag": "span"
                   },
                   "nodeType": "DOM",
                   "props": {
                    "attributes": {
                     "data-bind": "click: function (){$root.update(val)}, css: {'is-primary is-selected' : $root.index() == val, 'interact-widget is-medium button ' : true}"
                    }
                   },
                   "type": "node"
                  }
                 ],
                 "instanceArgs": {
                  "namespace": "html",
                  "tag": "div"
                 },
                 "nodeType": "DOM",
                 "props": {
                  "attributes": {
                   "data-bind": "foreach : options_js"
                  },
                  "className": "buttons has-addons is-centered"
                 },
                 "type": "node"
                }
               ],
               "instanceArgs": {
                "namespace": "html",
                "tag": "div"
               },
               "nodeType": "DOM",
               "props": {
                "className": "interact-flex-row-center"
               },
               "type": "node"
              },
              {
               "children": [
                {
                 "children": [],
                 "instanceArgs": {
                  "namespace": "html",
                  "tag": "div"
                 },
                 "nodeType": "DOM",
                 "props": {},
                 "type": "node"
                }
               ],
               "instanceArgs": {
                "namespace": "html",
                "tag": "div"
               },
               "nodeType": "DOM",
               "props": {
                "className": "interact-flex-row-right"
               },
               "type": "node"
              }
             ],
             "instanceArgs": {
              "namespace": "html",
              "tag": "div"
             },
             "nodeType": "DOM",
             "props": {
              "className": "interact-flex-row interact-widget"
             },
             "type": "node"
            }
           ],
           "instanceArgs": {
            "handlers": {
             "index": [
              "(function (val){return (val!=this.model[\"index\"]()) ? (this.valueFromJulia[\"index\"]=true, this.model[\"index\"](val)) : undefined})"
             ],
             "options_js": [
              "(function (val){return (val!=this.model[\"options_js\"]()) ? (this.valueFromJulia[\"options_js\"]=true, this.model[\"options_js\"](val)) : undefined})"
             ]
            },
            "id": "7790836811235525535",
            "imports": {
             "data": [
              {
               "name": "knockout",
               "type": "js",
               "url": "/assetserver/c7e9525c60334db1a679535c544de0605a206866-knockout.js"
              },
              {
               "name": "knockout_punches",
               "type": "js",
               "url": "/assetserver/25d986356c2356e73454f2b9198affa4b0e07e2e-knockout_punches.js"
              },
              {
               "name": null,
               "type": "js",
               "url": "/assetserver/a371ad546c7103190b2a50e7b48d9321e4ff74ac-all.js"
              },
              {
               "name": null,
               "type": "css",
               "url": "/assetserver/5762da8363b7bdc341622051ef36e5d544811e67-style.css"
              },
              {
               "name": null,
               "type": "css",
               "url": "/assetserver/3adddd1658906b22aee092f05eeb7474fa7ba7b4-bulma_confined.min.css"
              }
             ],
             "type": "async_block"
            },
            "mount_callbacks": [
             "function () {\n    var handler = (function (ko, koPunches) {\n    ko.punches.enableAll();\n    ko.bindingHandlers.numericValue = {\n        init: function(element, valueAccessor, allBindings, data, context) {\n            var stringified = ko.observable(ko.unwrap(valueAccessor()));\n            stringified.subscribe(function(value) {\n                var val = parseFloat(value);\n                if (!isNaN(val)) {\n                    valueAccessor()(val);\n                }\n            });\n            valueAccessor().subscribe(function(value) {\n                var str = JSON.stringify(value);\n                if ((str == \"0\") && ([\"-0\", \"-0.\"].indexOf(stringified()) >= 0))\n                     return;\n                 if ([\"null\", \"\"].indexOf(str) >= 0)\n                     return;\n                stringified(str);\n            });\n            ko.applyBindingsToNode(\n                element,\n                {\n                    value: stringified,\n                    valueUpdate: allBindings.get('valueUpdate'),\n                },\n                context,\n            );\n        }\n    };\n    var json_data = {\"options_js\":WebIO.getval({\"name\":\"options_js\",\"scope\":\"7790836811235525535\",\"id\":\"7913276931992494113\",\"type\":\"observable\"}),\"index\":WebIO.getval({\"name\":\"index\",\"scope\":\"7790836811235525535\",\"id\":\"15555566178932693964\",\"type\":\"observable\"})};\n    var self = this;\n    function AppViewModel() {\n        for (var key in json_data) {\n            var el = json_data[key];\n            this[key] = Array.isArray(el) ? ko.observableArray(el) : ko.observable(el);\n        }\n        [this[\"update\"]=function (val) {this.index(val)}]\n        \n        [this[\"options_js\"].subscribe((function (val){!(this.valueFromJulia[\"options_js\"]) ? (WebIO.setval({\"name\":\"options_js\",\"scope\":\"7790836811235525535\",\"id\":\"7913276931992494113\",\"type\":\"observable\"},val)) : undefined; return this.valueFromJulia[\"options_js\"]=false}),self),this[\"index\"].subscribe((function (val){!(this.valueFromJulia[\"index\"]) ? (WebIO.setval({\"name\":\"index\",\"scope\":\"7790836811235525535\",\"id\":\"15555566178932693964\",\"type\":\"observable\"},val)) : undefined; return this.valueFromJulia[\"index\"]=false}),self)]\n        \n    }\n    self.model = new AppViewModel();\n    self.valueFromJulia = {};\n    for (var key in json_data) {\n        self.valueFromJulia[key] = false;\n    }\n    ko.applyBindings(self.model, self.dom);\n}\n);\n    (WebIO.importBlock({\"data\":[{\"name\":\"knockout\",\"type\":\"js\",\"url\":\"/assetserver/c7e9525c60334db1a679535c544de0605a206866-knockout.js\"},{\"name\":\"knockout_punches\",\"type\":\"js\",\"url\":\"/assetserver/25d986356c2356e73454f2b9198affa4b0e07e2e-knockout_punches.js\"}],\"type\":\"async_block\"})).then((imports) => handler.apply(this, imports));\n}\n"
            ],
            "observables": {
             "index": {
              "id": "15555566178932693964",
              "sync": true,
              "value": 1
             },
             "options_js": {
              "id": "7913276931992494113",
              "sync": false,
              "value": [
               {
                "id": "idnqK2TTv8",
                "key": "clipped",
                "val": 1
               },
               {
                "id": "idMyUyZDtB",
                "key": "fill",
                "val": 2
               }
              ]
             }
            },
            "systemjs_options": null
           },
           "nodeType": "Scope",
           "props": {},
           "type": "node"
          }
         ],
         "instanceArgs": {
          "namespace": "html",
          "tag": "div"
         },
         "nodeType": "DOM",
         "props": {
          "className": "interact-widget"
         },
         "type": "node"
        },
        {
         "children": [
          {
           "children": [],
           "instanceArgs": {
            "id": "8333831608669830741",
            "name": "obs-node"
           },
           "nodeType": "ObservableNode",
           "props": {},
           "type": "node"
          }
         ],
         "instanceArgs": {
          "handlers": {},
          "id": "5733783973746747147",
          "imports": {
           "data": [],
           "type": "async_block"
          },
          "mount_callbacks": [],
          "observables": {
           "obs-node": {
            "id": "8333831608669830741",
            "sync": false,
            "value": {
             "children": [
              {
               "children": [],
               "instanceArgs": {
                "namespace": "html",
                "tag": "div"
               },
               "nodeType": "DOM",
               "props": {
                "setInnerHtml": "<?xml version=\"1.0\" encoding=\"utf-8\"?>\n<svg xmlns=\"http://www.w3.org/2000/svg\" xmlns:xlink=\"http://www.w3.org/1999/xlink\" width=\"600\" height=\"400\" viewBox=\"0 0 2400 1600\">\n<defs>\n  <clipPath id=\"clip980\">\n    <rect x=\"0\" y=\"0\" width=\"2400\" height=\"1600\"/>\n  </clipPath>\n</defs>\n<path clip-path=\"url(#clip980)\" d=\"\nM0 1600 L2400 1600 L2400 0 L0 0  Z\n  \" fill=\"#ffffff\" fill-rule=\"evenodd\" fill-opacity=\"1\"/>\n<defs>\n  <clipPath id=\"clip981\">\n    <rect x=\"480\" y=\"0\" width=\"1681\" height=\"1600\"/>\n  </clipPath>\n</defs>\n<defs>\n  <clipPath id=\"clip982\">\n    <rect x=\"212\" y=\"47\" width=\"2141\" height=\"1377\"/>\n  </clipPath>\n</defs>\n<path clip-path=\"url(#clip980)\" d=\"\nM212.459 1423.18 L2352.76 1423.18 L2352.76 47.2441 L212.459 47.2441  Z\n  \" fill=\"#ffffff\" fill-rule=\"evenodd\" fill-opacity=\"1\"/>\n<polyline clip-path=\"url(#clip982)\" style=\"stroke:#000000; stroke-linecap:butt; stroke-linejoin:round; stroke-width:2; stroke-opacity:0.1; fill:none\" points=\"\n  273.033,1423.18 273.033,47.2441 \n  \"/>\n<polyline clip-path=\"url(#clip982)\" style=\"stroke:#000000; stroke-linecap:butt; stroke-linejoin:round; stroke-width:2; stroke-opacity:0.1; fill:none\" points=\"\n  525.427,1423.18 525.427,47.2441 \n  \"/>\n<polyline clip-path=\"url(#clip982)\" style=\"stroke:#000000; stroke-linecap:butt; stroke-linejoin:round; stroke-width:2; stroke-opacity:0.1; fill:none\" points=\"\n  777.82,1423.18 777.82,47.2441 \n  \"/>\n<polyline clip-path=\"url(#clip982)\" style=\"stroke:#000000; stroke-linecap:butt; stroke-linejoin:round; stroke-width:2; stroke-opacity:0.1; fill:none\" points=\"\n  1030.21,1423.18 1030.21,47.2441 \n  \"/>\n<polyline clip-path=\"url(#clip982)\" style=\"stroke:#000000; stroke-linecap:butt; stroke-linejoin:round; stroke-width:2; stroke-opacity:0.1; fill:none\" points=\"\n  1282.61,1423.18 1282.61,47.2441 \n  \"/>\n<polyline clip-path=\"url(#clip982)\" style=\"stroke:#000000; stroke-linecap:butt; stroke-linejoin:round; stroke-width:2; stroke-opacity:0.1; fill:none\" points=\"\n  1535,1423.18 1535,47.2441 \n  \"/>\n<polyline clip-path=\"url(#clip982)\" style=\"stroke:#000000; stroke-linecap:butt; stroke-linejoin:round; stroke-width:2; stroke-opacity:0.1; fill:none\" points=\"\n  1787.39,1423.18 1787.39,47.2441 \n  \"/>\n<polyline clip-path=\"url(#clip982)\" style=\"stroke:#000000; stroke-linecap:butt; stroke-linejoin:round; stroke-width:2; stroke-opacity:0.1; fill:none\" points=\"\n  2039.79,1423.18 2039.79,47.2441 \n  \"/>\n<polyline clip-path=\"url(#clip982)\" style=\"stroke:#000000; stroke-linecap:butt; stroke-linejoin:round; stroke-width:2; stroke-opacity:0.1; fill:none\" points=\"\n  2292.18,1423.18 2292.18,47.2441 \n  \"/>\n<polyline clip-path=\"url(#clip980)\" style=\"stroke:#000000; stroke-linecap:butt; stroke-linejoin:round; stroke-width:4; stroke-opacity:1; fill:none\" points=\"\n  212.459,1423.18 2352.76,1423.18 \n  \"/>\n<polyline clip-path=\"url(#clip980)\" style=\"stroke:#000000; stroke-linecap:butt; stroke-linejoin:round; stroke-width:4; stroke-opacity:1; fill:none\" points=\"\n  273.033,1423.18 273.033,1404.28 \n  \"/>\n<polyline clip-path=\"url(#clip980)\" style=\"stroke:#000000; stroke-linecap:butt; stroke-linejoin:round; stroke-width:4; stroke-opacity:1; fill:none\" points=\"\n  525.427,1423.18 525.427,1404.28 \n  \"/>\n<polyline clip-path=\"url(#clip980)\" style=\"stroke:#000000; stroke-linecap:butt; stroke-linejoin:round; stroke-width:4; stroke-opacity:1; fill:none\" points=\"\n  777.82,1423.18 777.82,1404.28 \n  \"/>\n<polyline clip-path=\"url(#clip980)\" style=\"stroke:#000000; stroke-linecap:butt; stroke-linejoin:round; stroke-width:4; stroke-opacity:1; fill:none\" points=\"\n  1030.21,1423.18 1030.21,1404.28 \n  \"/>\n<polyline clip-path=\"url(#clip980)\" style=\"stroke:#000000; stroke-linecap:butt; stroke-linejoin:round; stroke-width:4; stroke-opacity:1; fill:none\" points=\"\n  1282.61,1423.18 1282.61,1404.28 \n  \"/>\n<polyline clip-path=\"url(#clip980)\" style=\"stroke:#000000; stroke-linecap:butt; stroke-linejoin:round; stroke-width:4; stroke-opacity:1; fill:none\" points=\"\n  1535,1423.18 1535,1404.28 \n  \"/>\n<polyline clip-path=\"url(#clip980)\" style=\"stroke:#000000; stroke-linecap:butt; stroke-linejoin:round; stroke-width:4; stroke-opacity:1; fill:none\" points=\"\n  1787.39,1423.18 1787.39,1404.28 \n  \"/>\n<polyline clip-path=\"url(#clip980)\" style=\"stroke:#000000; stroke-linecap:butt; stroke-linejoin:round; stroke-width:4; stroke-opacity:1; fill:none\" points=\"\n  2039.79,1423.18 2039.79,1404.28 \n  \"/>\n<polyline clip-path=\"url(#clip980)\" style=\"stroke:#000000; stroke-linecap:butt; stroke-linejoin:round; stroke-width:4; stroke-opacity:1; fill:none\" points=\"\n  2292.18,1423.18 2292.18,1404.28 \n  \"/>\n<path clip-path=\"url(#clip980)\" d=\"M273.033 1454.1 Q269.422 1454.1 267.594 1457.66 Q265.788 1461.2 265.788 1468.33 Q265.788 1475.44 267.594 1479.01 Q269.422 1482.55 273.033 1482.55 Q276.668 1482.55 278.473 1479.01 Q280.302 1475.44 280.302 1468.33 Q280.302 1461.2 278.473 1457.66 Q276.668 1454.1 273.033 1454.1 M273.033 1450.39 Q278.843 1450.39 281.899 1455 Q284.978 1459.58 284.978 1468.33 Q284.978 1477.06 281.899 1481.67 Q278.843 1486.25 273.033 1486.25 Q267.223 1486.25 264.145 1481.67 Q261.089 1477.06 261.089 1468.33 Q261.089 1459.58 264.145 1455 Q267.223 1450.39 273.033 1450.39 Z\" fill=\"#000000\" fill-rule=\"evenodd\" fill-opacity=\"1\" /><path clip-path=\"url(#clip980)\" d=\"M490.277 1459.65 L515.114 1459.65 L515.114 1463.91 L511.851 1463.91 L511.851 1479.84 Q511.851 1481.51 512.406 1482.25 Q512.985 1482.96 514.258 1482.96 Q514.605 1482.96 515.114 1482.92 Q515.624 1482.85 515.786 1482.83 L515.786 1485.9 Q514.976 1486.2 514.119 1486.34 Q513.263 1486.48 512.406 1486.48 Q509.628 1486.48 508.564 1484.98 Q507.499 1483.45 507.499 1479.38 L507.499 1463.91 L497.939 1463.91 L497.939 1485.58 L493.587 1485.58 L493.587 1463.91 L490.277 1463.91 L490.277 1459.65 Z\" fill=\"#000000\" fill-rule=\"evenodd\" fill-opacity=\"1\" /><path clip-path=\"url(#clip980)\" d=\"M529.142 1451.02 L533.077 1451.02 L521.04 1489.98 L517.105 1489.98 L529.142 1451.02 Z\" fill=\"#000000\" fill-rule=\"evenodd\" fill-opacity=\"1\" /><path clip-path=\"url(#clip980)\" d=\"M550.994 1455.09 L539.188 1473.54 L550.994 1473.54 L550.994 1455.09 M549.767 1451.02 L555.647 1451.02 L555.647 1473.54 L560.577 1473.54 L560.577 1477.43 L555.647 1477.43 L555.647 1485.58 L550.994 1485.58 L550.994 1477.43 L535.392 1477.43 L535.392 1472.92 L549.767 1451.02 Z\" fill=\"#000000\" fill-rule=\"evenodd\" fill-opacity=\"1\" /><path clip-path=\"url(#clip980)\" d=\"M743.712 1459.65 L768.55 1459.65 L768.55 1463.91 L765.286 1463.91 L765.286 1479.84 Q765.286 1481.51 765.841 1482.25 Q766.42 1482.96 767.693 1482.96 Q768.04 1482.96 768.55 1482.92 Q769.059 1482.85 769.221 1482.83 L769.221 1485.9 Q768.411 1486.2 767.554 1486.34 Q766.698 1486.48 765.841 1486.48 Q763.064 1486.48 761.999 1484.98 Q760.934 1483.45 760.934 1479.38 L760.934 1463.91 L751.374 1463.91 L751.374 1485.58 L747.022 1485.58 L747.022 1463.91 L743.712 1463.91 L743.712 1459.65 Z\" fill=\"#000000\" fill-rule=\"evenodd\" fill-opacity=\"1\" /><path clip-path=\"url(#clip980)\" d=\"M782.577 1451.02 L786.512 1451.02 L774.475 1489.98 L770.54 1489.98 L782.577 1451.02 Z\" fill=\"#000000\" fill-rule=\"evenodd\" fill-opacity=\"1\" /><path clip-path=\"url(#clip980)\" d=\"M795.61 1481.64 L811.929 1481.64 L811.929 1485.58 L789.985 1485.58 L789.985 1481.64 Q792.647 1478.89 797.23 1474.26 Q801.836 1469.61 803.017 1468.27 Q805.262 1465.74 806.142 1464.01 Q807.045 1462.25 807.045 1460.56 Q807.045 1457.8 805.1 1456.07 Q803.179 1454.33 800.077 1454.33 Q797.878 1454.33 795.424 1455.09 Q792.994 1455.86 790.216 1457.41 L790.216 1452.69 Q793.04 1451.55 795.494 1450.97 Q797.948 1450.39 799.985 1450.39 Q805.355 1450.39 808.549 1453.08 Q811.744 1455.77 811.744 1460.26 Q811.744 1462.39 810.934 1464.31 Q810.147 1466.2 808.04 1468.8 Q807.461 1469.47 804.36 1472.69 Q801.258 1475.88 795.61 1481.64 Z\" fill=\"#000000\" fill-rule=\"evenodd\" fill-opacity=\"1\" /><path clip-path=\"url(#clip980)\" d=\"M996.557 1466.95 Q999.913 1467.66 1001.79 1469.93 Q1003.69 1472.2 1003.69 1475.53 Q1003.69 1480.65 1000.17 1483.45 Q996.649 1486.25 990.168 1486.25 Q987.992 1486.25 985.677 1485.81 Q983.385 1485.39 980.932 1484.54 L980.932 1480.02 Q982.876 1481.16 985.191 1481.74 Q987.506 1482.32 990.029 1482.32 Q994.427 1482.32 996.719 1480.58 Q999.033 1478.84 999.033 1475.53 Q999.033 1472.48 996.881 1470.77 Q994.751 1469.03 990.932 1469.03 L986.904 1469.03 L986.904 1465.19 L991.117 1465.19 Q994.566 1465.19 996.395 1463.82 Q998.223 1462.43 998.223 1459.84 Q998.223 1457.18 996.325 1455.77 Q994.45 1454.33 990.932 1454.33 Q989.01 1454.33 986.811 1454.75 Q984.612 1455.16 981.973 1456.04 L981.973 1451.88 Q984.635 1451.14 986.95 1450.77 Q989.288 1450.39 991.348 1450.39 Q996.672 1450.39 999.774 1452.83 Q1002.88 1455.23 1002.88 1459.35 Q1002.88 1462.22 1001.23 1464.21 Q999.589 1466.18 996.557 1466.95 Z\" fill=\"#000000\" fill-rule=\"evenodd\" fill-opacity=\"1\" /><path clip-path=\"url(#clip980)\" d=\"M1009.2 1459.65 L1034.03 1459.65 L1034.03 1463.91 L1030.77 1463.91 L1030.77 1479.84 Q1030.77 1481.51 1031.32 1482.25 Q1031.9 1482.96 1033.18 1482.96 Q1033.52 1482.96 1034.03 1482.92 Q1034.54 1482.85 1034.7 1482.83 L1034.7 1485.9 Q1033.89 1486.2 1033.04 1486.34 Q1032.18 1486.48 1031.32 1486.48 Q1028.55 1486.48 1027.48 1484.98 Q1026.42 1483.45 1026.42 1479.38 L1026.42 1463.91 L1016.86 1463.91 L1016.86 1485.58 L1012.51 1485.58 L1012.51 1463.91 L1009.2 1463.91 L1009.2 1459.65 Z\" fill=\"#000000\" fill-rule=\"evenodd\" fill-opacity=\"1\" /><path clip-path=\"url(#clip980)\" d=\"M1048.06 1451.02 L1052 1451.02 L1039.96 1489.98 L1036.02 1489.98 L1048.06 1451.02 Z\" fill=\"#000000\" fill-rule=\"evenodd\" fill-opacity=\"1\" /><path clip-path=\"url(#clip980)\" d=\"M1069.91 1455.09 L1058.11 1473.54 L1069.91 1473.54 L1069.91 1455.09 M1068.69 1451.02 L1074.57 1451.02 L1074.57 1473.54 L1079.5 1473.54 L1079.5 1477.43 L1074.57 1477.43 L1074.57 1485.58 L1069.91 1485.58 L1069.91 1477.43 L1054.31 1477.43 L1054.31 1472.92 L1068.69 1451.02 Z\" fill=\"#000000\" fill-rule=\"evenodd\" fill-opacity=\"1\" /><path clip-path=\"url(#clip980)\" d=\"M1269.85 1459.65 L1294.69 1459.65 L1294.69 1463.91 L1291.43 1463.91 L1291.43 1479.84 Q1291.43 1481.51 1291.98 1482.25 Q1292.56 1482.96 1293.83 1482.96 Q1294.18 1482.96 1294.69 1482.92 Q1295.2 1482.85 1295.36 1482.83 L1295.36 1485.9 Q1294.55 1486.2 1293.7 1486.34 Q1292.84 1486.48 1291.98 1486.48 Q1289.2 1486.48 1288.14 1484.98 Q1287.07 1483.45 1287.07 1479.38 L1287.07 1463.91 L1277.51 1463.91 L1277.51 1485.58 L1273.16 1485.58 L1273.16 1463.91 L1269.85 1463.91 L1269.85 1459.65 Z\" fill=\"#000000\" fill-rule=\"evenodd\" fill-opacity=\"1\" /><path clip-path=\"url(#clip980)\" d=\"M1487.2 1451.02 L1505.56 1451.02 L1505.56 1454.96 L1491.48 1454.96 L1491.48 1463.43 Q1492.5 1463.08 1493.52 1462.92 Q1494.54 1462.73 1495.56 1462.73 Q1501.34 1462.73 1504.72 1465.9 Q1508.1 1469.08 1508.1 1474.49 Q1508.1 1480.07 1504.63 1483.17 Q1501.16 1486.25 1494.84 1486.25 Q1492.66 1486.25 1490.39 1485.88 Q1488.15 1485.51 1485.74 1484.77 L1485.74 1480.07 Q1487.83 1481.2 1490.05 1481.76 Q1492.27 1482.32 1494.75 1482.32 Q1498.75 1482.32 1501.09 1480.21 Q1503.43 1478.1 1503.43 1474.49 Q1503.43 1470.88 1501.09 1468.77 Q1498.75 1466.67 1494.75 1466.67 Q1492.87 1466.67 1491 1467.08 Q1489.14 1467.5 1487.2 1468.38 L1487.2 1451.02 Z\" fill=\"#000000\" fill-rule=\"evenodd\" fill-opacity=\"1\" /><path clip-path=\"url(#clip980)\" d=\"M1513.96 1459.65 L1538.8 1459.65 L1538.8 1463.91 L1535.53 1463.91 L1535.53 1479.84 Q1535.53 1481.51 1536.09 1482.25 Q1536.67 1482.96 1537.94 1482.96 Q1538.29 1482.96 1538.8 1482.92 Q1539.31 1482.85 1539.47 1482.83 L1539.47 1485.9 Q1538.66 1486.2 1537.8 1486.34 Q1536.95 1486.48 1536.09 1486.48 Q1533.31 1486.48 1532.25 1484.98 Q1531.18 1483.45 1531.18 1479.38 L1531.18 1463.91 L1521.62 1463.91 L1521.62 1485.58 L1517.27 1485.58 L1517.27 1463.91 L1513.96 1463.91 L1513.96 1459.65 Z\" fill=\"#000000\" fill-rule=\"evenodd\" fill-opacity=\"1\" /><path clip-path=\"url(#clip980)\" d=\"M1552.82 1451.02 L1556.76 1451.02 L1544.72 1489.98 L1540.79 1489.98 L1552.82 1451.02 Z\" fill=\"#000000\" fill-rule=\"evenodd\" fill-opacity=\"1\" /><path clip-path=\"url(#clip980)\" d=\"M1574.68 1455.09 L1562.87 1473.54 L1574.68 1473.54 L1574.68 1455.09 M1573.45 1451.02 L1579.33 1451.02 L1579.33 1473.54 L1584.26 1473.54 L1584.26 1477.43 L1579.33 1477.43 L1579.33 1485.58 L1574.68 1485.58 L1574.68 1477.43 L1559.07 1477.43 L1559.07 1472.92 L1573.45 1451.02 Z\" fill=\"#000000\" fill-rule=\"evenodd\" fill-opacity=\"1\" /><path clip-path=\"url(#clip980)\" d=\"M1754.78 1466.95 Q1758.14 1467.66 1760.01 1469.93 Q1761.91 1472.2 1761.91 1475.53 Q1761.91 1480.65 1758.39 1483.45 Q1754.87 1486.25 1748.39 1486.25 Q1746.21 1486.25 1743.9 1485.81 Q1741.61 1485.39 1739.15 1484.54 L1739.15 1480.02 Q1741.1 1481.16 1743.41 1481.74 Q1745.73 1482.32 1748.25 1482.32 Q1752.65 1482.32 1754.94 1480.58 Q1757.26 1478.84 1757.26 1475.53 Q1757.26 1472.48 1755.1 1470.77 Q1752.97 1469.03 1749.15 1469.03 L1745.13 1469.03 L1745.13 1465.19 L1749.34 1465.19 Q1752.79 1465.19 1754.62 1463.82 Q1756.45 1462.43 1756.45 1459.84 Q1756.45 1457.18 1754.55 1455.77 Q1752.67 1454.33 1749.15 1454.33 Q1747.23 1454.33 1745.03 1454.75 Q1742.83 1455.16 1740.2 1456.04 L1740.2 1451.88 Q1742.86 1451.14 1745.17 1450.77 Q1747.51 1450.39 1749.57 1450.39 Q1754.89 1450.39 1758 1452.83 Q1761.1 1455.23 1761.1 1459.35 Q1761.1 1462.22 1759.45 1464.21 Q1757.81 1466.18 1754.78 1466.95 Z\" fill=\"#000000\" fill-rule=\"evenodd\" fill-opacity=\"1\" /><path clip-path=\"url(#clip980)\" d=\"M1767.42 1459.65 L1792.26 1459.65 L1792.26 1463.91 L1788.99 1463.91 L1788.99 1479.84 Q1788.99 1481.51 1789.55 1482.25 Q1790.13 1482.96 1791.4 1482.96 Q1791.75 1482.96 1792.26 1482.92 Q1792.76 1482.85 1792.93 1482.83 L1792.93 1485.9 Q1792.12 1486.2 1791.26 1486.34 Q1790.4 1486.48 1789.55 1486.48 Q1786.77 1486.48 1785.7 1484.98 Q1784.64 1483.45 1784.64 1479.38 L1784.64 1463.91 L1775.08 1463.91 L1775.08 1485.58 L1770.73 1485.58 L1770.73 1463.91 L1767.42 1463.91 L1767.42 1459.65 Z\" fill=\"#000000\" fill-rule=\"evenodd\" fill-opacity=\"1\" /><path clip-path=\"url(#clip980)\" d=\"M1806.28 1451.02 L1810.22 1451.02 L1798.18 1489.98 L1794.25 1489.98 L1806.28 1451.02 Z\" fill=\"#000000\" fill-rule=\"evenodd\" fill-opacity=\"1\" /><path clip-path=\"url(#clip980)\" d=\"M1819.32 1481.64 L1835.63 1481.64 L1835.63 1485.58 L1813.69 1485.58 L1813.69 1481.64 Q1816.35 1478.89 1820.94 1474.26 Q1825.54 1469.61 1826.72 1468.27 Q1828.97 1465.74 1829.85 1464.01 Q1830.75 1462.25 1830.75 1460.56 Q1830.75 1457.8 1828.81 1456.07 Q1826.88 1454.33 1823.78 1454.33 Q1821.58 1454.33 1819.13 1455.09 Q1816.7 1455.86 1813.92 1457.41 L1813.92 1452.69 Q1816.75 1451.55 1819.2 1450.97 Q1821.65 1450.39 1823.69 1450.39 Q1829.06 1450.39 1832.26 1453.08 Q1835.45 1455.77 1835.45 1460.26 Q1835.45 1462.39 1834.64 1464.31 Q1833.85 1466.2 1831.75 1468.8 Q1831.17 1469.47 1828.07 1472.69 Q1824.96 1475.88 1819.32 1481.64 Z\" fill=\"#000000\" fill-rule=\"evenodd\" fill-opacity=\"1\" /><path clip-path=\"url(#clip980)\" d=\"M1990.64 1451.02 L2012.87 1451.02 L2012.87 1453.01 L2000.32 1485.58 L1995.44 1485.58 L2007.24 1454.96 L1990.64 1454.96 L1990.64 1451.02 Z\" fill=\"#000000\" fill-rule=\"evenodd\" fill-opacity=\"1\" /><path clip-path=\"url(#clip980)\" d=\"M2018.63 1459.65 L2043.47 1459.65 L2043.47 1463.91 L2040.2 1463.91 L2040.2 1479.84 Q2040.2 1481.51 2040.76 1482.25 Q2041.34 1482.96 2042.61 1482.96 Q2042.96 1482.96 2043.47 1482.92 Q2043.98 1482.85 2044.14 1482.83 L2044.14 1485.9 Q2043.33 1486.2 2042.47 1486.34 Q2041.62 1486.48 2040.76 1486.48 Q2037.98 1486.48 2036.92 1484.98 Q2035.85 1483.45 2035.85 1479.38 L2035.85 1463.91 L2026.29 1463.91 L2026.29 1485.58 L2021.94 1485.58 L2021.94 1463.91 L2018.63 1463.91 L2018.63 1459.65 Z\" fill=\"#000000\" fill-rule=\"evenodd\" fill-opacity=\"1\" /><path clip-path=\"url(#clip980)\" d=\"M2057.5 1451.02 L2061.43 1451.02 L2049.39 1489.98 L2045.46 1489.98 L2057.5 1451.02 Z\" fill=\"#000000\" fill-rule=\"evenodd\" fill-opacity=\"1\" /><path clip-path=\"url(#clip980)\" d=\"M2079.35 1455.09 L2067.54 1473.54 L2079.35 1473.54 L2079.35 1455.09 M2078.12 1451.02 L2084 1451.02 L2084 1473.54 L2088.93 1473.54 L2088.93 1477.43 L2084 1477.43 L2084 1485.58 L2079.35 1485.58 L2079.35 1477.43 L2063.75 1477.43 L2063.75 1472.92 L2078.12 1451.02 Z\" fill=\"#000000\" fill-rule=\"evenodd\" fill-opacity=\"1\" /><path clip-path=\"url(#clip980)\" d=\"M2270.85 1481.64 L2287.17 1481.64 L2287.17 1485.58 L2265.23 1485.58 L2265.23 1481.64 Q2267.89 1478.89 2272.47 1474.26 Q2277.08 1469.61 2278.26 1468.27 Q2280.5 1465.74 2281.38 1464.01 Q2282.29 1462.25 2282.29 1460.56 Q2282.29 1457.8 2280.34 1456.07 Q2278.42 1454.33 2275.32 1454.33 Q2273.12 1454.33 2270.67 1455.09 Q2268.23 1455.86 2265.46 1457.41 L2265.46 1452.69 Q2268.28 1451.55 2270.73 1450.97 Q2273.19 1450.39 2275.23 1450.39 Q2280.6 1450.39 2283.79 1453.08 Q2286.98 1455.77 2286.98 1460.26 Q2286.98 1462.39 2286.17 1464.31 Q2285.39 1466.2 2283.28 1468.8 Q2282.7 1469.47 2279.6 1472.69 Q2276.5 1475.88 2270.85 1481.64 Z\" fill=\"#000000\" fill-rule=\"evenodd\" fill-opacity=\"1\" /><path clip-path=\"url(#clip980)\" d=\"M2293.63 1459.65 L2318.47 1459.65 L2318.47 1463.91 L2315.2 1463.91 L2315.2 1479.84 Q2315.2 1481.51 2315.76 1482.25 Q2316.34 1482.96 2317.61 1482.96 Q2317.96 1482.96 2318.47 1482.92 Q2318.98 1482.85 2319.14 1482.83 L2319.14 1485.9 Q2318.33 1486.2 2317.47 1486.34 Q2316.61 1486.48 2315.76 1486.48 Q2312.98 1486.48 2311.92 1484.98 Q2310.85 1483.45 2310.85 1479.38 L2310.85 1463.91 L2301.29 1463.91 L2301.29 1485.58 L2296.94 1485.58 L2296.94 1463.91 L2293.63 1463.91 L2293.63 1459.65 Z\" fill=\"#000000\" fill-rule=\"evenodd\" fill-opacity=\"1\" /><path clip-path=\"url(#clip980)\" d=\"M1296.78 1545.44 Q1296.78 1547.24 1295.65 1548.27 Q1294.53 1549.27 1293.24 1549.27 Q1292.01 1549.27 1291.37 1548.56 Q1290.73 1547.85 1290.73 1546.95 Q1290.73 1545.73 1291.63 1544.66 Q1292.53 1543.6 1293.88 1543.37 Q1292.56 1542.54 1290.6 1542.54 Q1289.31 1542.54 1288.18 1543.21 Q1287.09 1543.89 1286.41 1544.76 Q1285.77 1545.63 1285.19 1546.88 Q1284.64 1548.11 1284.41 1548.85 Q1284.22 1549.56 1284.06 1550.33 L1281.81 1559.35 Q1280.71 1563.63 1280.71 1565.15 Q1280.71 1567.01 1281.61 1568.27 Q1282.51 1569.49 1284.32 1569.49 Q1285.03 1569.49 1285.83 1569.3 Q1286.64 1569.07 1287.67 1568.5 Q1288.73 1567.88 1289.66 1566.98 Q1290.63 1566.05 1291.56 1564.47 Q1292.5 1562.89 1293.11 1560.86 Q1293.3 1560.15 1293.95 1560.15 Q1294.75 1560.15 1294.75 1560.8 Q1294.75 1561.35 1294.3 1562.5 Q1293.88 1563.63 1292.95 1565.11 Q1292.05 1566.56 1290.85 1567.88 Q1289.66 1569.17 1287.89 1570.07 Q1286.12 1570.97 1284.19 1570.97 Q1281.42 1570.97 1279.58 1569.49 Q1277.75 1568.01 1277.07 1565.95 Q1276.91 1566.24 1276.68 1566.63 Q1276.46 1567.01 1275.78 1567.88 Q1275.14 1568.72 1274.4 1569.36 Q1273.66 1569.98 1272.5 1570.46 Q1271.37 1570.97 1270.15 1570.97 Q1268.6 1570.97 1267.22 1570.52 Q1265.86 1570.07 1264.9 1569.04 Q1263.93 1568.01 1263.93 1566.59 Q1263.93 1565.02 1264.99 1563.92 Q1266.09 1562.79 1267.57 1562.79 Q1268.5 1562.79 1269.24 1563.34 Q1270.02 1563.89 1270.02 1565.08 Q1270.02 1566.4 1269.12 1567.4 Q1268.21 1568.4 1266.93 1568.66 Q1268.25 1569.49 1270.21 1569.49 Q1272.34 1569.49 1274.01 1567.63 Q1275.69 1565.76 1276.49 1562.63 Q1278.49 1555.13 1279.26 1551.78 Q1280.03 1548.4 1280.03 1546.95 Q1280.03 1545.6 1279.68 1544.66 Q1279.33 1543.73 1278.71 1543.31 Q1278.13 1542.86 1277.59 1542.7 Q1277.07 1542.54 1276.49 1542.54 Q1275.52 1542.54 1274.43 1542.92 Q1273.37 1543.31 1272.08 1544.21 Q1270.82 1545.08 1269.63 1546.88 Q1268.44 1548.69 1267.63 1551.17 Q1267.47 1551.91 1266.76 1551.91 Q1265.99 1551.88 1265.99 1551.23 Q1265.99 1550.69 1266.41 1549.56 Q1266.86 1548.4 1267.76 1546.95 Q1268.7 1545.5 1269.89 1544.21 Q1271.11 1542.89 1272.88 1541.99 Q1274.69 1541.09 1276.62 1541.09 Q1277.49 1541.09 1278.33 1541.28 Q1279.2 1541.44 1280.23 1541.93 Q1281.29 1542.41 1282.22 1543.47 Q1283.16 1544.53 1283.74 1546.08 Q1284.12 1545.34 1284.64 1544.63 Q1285.19 1543.92 1286.02 1543.05 Q1286.89 1542.15 1288.09 1541.64 Q1289.31 1541.09 1290.66 1541.09 Q1291.98 1541.09 1293.27 1541.44 Q1294.56 1541.76 1295.65 1542.83 Q1296.78 1543.86 1296.78 1545.44 Z\" fill=\"#000000\" fill-rule=\"evenodd\" fill-opacity=\"1\" /><polyline clip-path=\"url(#clip982)\" style=\"stroke:#000000; stroke-linecap:butt; stroke-linejoin:round; stroke-width:2; stroke-opacity:0.1; fill:none\" points=\"\n  212.459,1423.18 2352.76,1423.18 \n  \"/>\n<polyline clip-path=\"url(#clip982)\" style=\"stroke:#000000; stroke-linecap:butt; stroke-linejoin:round; stroke-width:2; stroke-opacity:0.1; fill:none\" points=\"\n  212.459,1079.2 2352.76,1079.2 \n  \"/>\n<polyline clip-path=\"url(#clip982)\" style=\"stroke:#000000; stroke-linecap:butt; stroke-linejoin:round; stroke-width:2; stroke-opacity:0.1; fill:none\" points=\"\n  212.459,735.212 2352.76,735.212 \n  \"/>\n<polyline clip-path=\"url(#clip982)\" style=\"stroke:#000000; stroke-linecap:butt; stroke-linejoin:round; stroke-width:2; stroke-opacity:0.1; fill:none\" points=\"\n  212.459,391.228 2352.76,391.228 \n  \"/>\n<polyline clip-path=\"url(#clip982)\" style=\"stroke:#000000; stroke-linecap:butt; stroke-linejoin:round; stroke-width:2; stroke-opacity:0.1; fill:none\" points=\"\n  212.459,47.2441 2352.76,47.2441 \n  \"/>\n<polyline clip-path=\"url(#clip980)\" style=\"stroke:#000000; stroke-linecap:butt; stroke-linejoin:round; stroke-width:4; stroke-opacity:1; fill:none\" points=\"\n  212.459,1423.18 212.459,47.2441 \n  \"/>\n<polyline clip-path=\"url(#clip980)\" style=\"stroke:#000000; stroke-linecap:butt; stroke-linejoin:round; stroke-width:4; stroke-opacity:1; fill:none\" points=\"\n  212.459,1423.18 231.357,1423.18 \n  \"/>\n<polyline clip-path=\"url(#clip980)\" style=\"stroke:#000000; stroke-linecap:butt; stroke-linejoin:round; stroke-width:4; stroke-opacity:1; fill:none\" points=\"\n  212.459,1079.2 231.357,1079.2 \n  \"/>\n<polyline clip-path=\"url(#clip980)\" style=\"stroke:#000000; stroke-linecap:butt; stroke-linejoin:round; stroke-width:4; stroke-opacity:1; fill:none\" points=\"\n  212.459,735.212 231.357,735.212 \n  \"/>\n<polyline clip-path=\"url(#clip980)\" style=\"stroke:#000000; stroke-linecap:butt; stroke-linejoin:round; stroke-width:4; stroke-opacity:1; fill:none\" points=\"\n  212.459,391.228 231.357,391.228 \n  \"/>\n<polyline clip-path=\"url(#clip980)\" style=\"stroke:#000000; stroke-linecap:butt; stroke-linejoin:round; stroke-width:4; stroke-opacity:1; fill:none\" points=\"\n  212.459,47.2441 231.357,47.2441 \n  \"/>\n<path clip-path=\"url(#clip980)\" d=\"M114.26 1423.63 L143.936 1423.63 L143.936 1427.57 L114.26 1427.57 L114.26 1423.63 Z\" fill=\"#000000\" fill-rule=\"evenodd\" fill-opacity=\"1\" /><path clip-path=\"url(#clip980)\" d=\"M166.876 1409.97 L155.07 1428.42 L166.876 1428.42 L166.876 1409.97 M165.649 1405.9 L171.528 1405.9 L171.528 1428.42 L176.459 1428.42 L176.459 1432.31 L171.528 1432.31 L171.528 1440.46 L166.876 1440.46 L166.876 1432.31 L151.274 1432.31 L151.274 1427.8 L165.649 1405.9 Z\" fill=\"#000000\" fill-rule=\"evenodd\" fill-opacity=\"1\" /><path clip-path=\"url(#clip980)\" d=\"M116.343 1079.65 L146.019 1079.65 L146.019 1083.58 L116.343 1083.58 L116.343 1079.65 Z\" fill=\"#000000\" fill-rule=\"evenodd\" fill-opacity=\"1\" /><path clip-path=\"url(#clip980)\" d=\"M160.14 1092.54 L176.459 1092.54 L176.459 1096.48 L154.515 1096.48 L154.515 1092.54 Q157.177 1089.79 161.76 1085.16 Q166.366 1080.5 167.547 1079.16 Q169.792 1076.64 170.672 1074.9 Q171.575 1073.14 171.575 1071.45 Q171.575 1068.7 169.63 1066.96 Q167.709 1065.23 164.607 1065.23 Q162.408 1065.23 159.954 1065.99 Q157.524 1066.75 154.746 1068.3 L154.746 1063.58 Q157.57 1062.45 160.024 1061.87 Q162.477 1061.29 164.515 1061.29 Q169.885 1061.29 173.079 1063.98 Q176.274 1066.66 176.274 1071.15 Q176.274 1073.28 175.464 1075.2 Q174.677 1077.1 172.57 1079.69 Q171.991 1080.36 168.889 1083.58 Q165.788 1086.78 160.14 1092.54 Z\" fill=\"#000000\" fill-rule=\"evenodd\" fill-opacity=\"1\" /><path clip-path=\"url(#clip980)\" d=\"M164.515 721.011 Q160.903 721.011 159.075 724.575 Q157.269 728.117 157.269 735.247 Q157.269 742.353 159.075 745.918 Q160.903 749.46 164.515 749.46 Q168.149 749.46 169.954 745.918 Q171.783 742.353 171.783 735.247 Q171.783 728.117 169.954 724.575 Q168.149 721.011 164.515 721.011 M164.515 717.307 Q170.325 717.307 173.38 721.913 Q176.459 726.497 176.459 735.247 Q176.459 743.973 173.38 748.58 Q170.325 753.163 164.515 753.163 Q158.704 753.163 155.626 748.58 Q152.57 743.973 152.57 735.247 Q152.57 726.497 155.626 721.913 Q158.704 717.307 164.515 717.307 Z\" fill=\"#000000\" fill-rule=\"evenodd\" fill-opacity=\"1\" /><path clip-path=\"url(#clip980)\" d=\"M160.14 404.573 L176.459 404.573 L176.459 408.508 L154.515 408.508 L154.515 404.573 Q157.177 401.818 161.76 397.189 Q166.366 392.536 167.547 391.193 Q169.792 388.67 170.672 386.934 Q171.575 385.175 171.575 383.485 Q171.575 380.73 169.63 378.994 Q167.709 377.258 164.607 377.258 Q162.408 377.258 159.954 378.022 Q157.524 378.786 154.746 380.337 L154.746 375.615 Q157.57 374.48 160.024 373.902 Q162.477 373.323 164.515 373.323 Q169.885 373.323 173.079 376.008 Q176.274 378.693 176.274 383.184 Q176.274 385.314 175.464 387.235 Q174.677 389.133 172.57 391.726 Q171.991 392.397 168.889 395.615 Q165.788 398.809 160.14 404.573 Z\" fill=\"#000000\" fill-rule=\"evenodd\" fill-opacity=\"1\" /><path clip-path=\"url(#clip980)\" d=\"M166.876 34.0381 L155.07 52.4871 L166.876 52.4871 L166.876 34.0381 M165.649 29.9641 L171.528 29.9641 L171.528 52.4871 L176.459 52.4871 L176.459 56.376 L171.528 56.376 L171.528 64.5241 L166.876 64.5241 L166.876 56.376 L151.274 56.376 L151.274 51.8621 L165.649 29.9641 Z\" fill=\"#000000\" fill-rule=\"evenodd\" fill-opacity=\"1\" /><path clip-path=\"url(#clip980)\" d=\"M49.8451 764.087 Q54.5472 764.087 59.0882 766.471 Q63.6292 768.822 66.4311 772.525 Q69.2008 776.229 69.2008 779.997 Q69.2008 782.252 67.977 783.765 Q66.721 785.247 64.9497 786.052 Q67.1397 786.664 72.3892 787.984 Q77.6388 789.305 78.1541 789.305 Q78.4439 789.305 78.5727 789.24 Q78.7016 789.176 78.8626 788.886 Q79.0558 788.596 79.1202 787.888 Q79.2169 787.179 79.2169 785.987 Q79.2169 785.375 79.2169 785.15 Q79.2491 784.892 79.4101 784.667 Q79.5711 784.409 79.9254 784.409 Q81.2458 784.409 81.2458 785.601 Q81.2458 786.664 81.1492 788.854 Q81.0526 791.044 81.0526 792.139 Q81.0526 793.073 81.1492 794.941 Q81.2458 796.809 81.2458 797.678 Q81.2458 798.548 80.4729 798.548 Q80.022 798.548 79.7321 798.419 Q79.4745 798.322 79.3457 798.065 Q79.2491 797.807 79.2169 797.581 Q79.2169 797.388 79.2169 797.002 Q79.2169 795.52 78.9592 794.876 Q78.7338 794.232 78.2507 794.007 Q77.7998 793.749 76.5116 793.459 L47.1398 786.052 Q45.1753 785.601 43.7904 785.601 Q42.0513 785.601 41.4072 786.148 Q40.7631 786.696 40.7631 787.662 Q40.7631 789.337 42.7598 790.432 Q44.7566 791.527 48.6213 792.461 Q49.6841 792.751 49.9095 792.944 Q50.135 793.105 50.135 793.588 Q50.1028 794.393 49.4586 794.393 Q49.2976 794.393 48.267 794.135 Q47.2042 793.878 45.6583 793.395 Q44.0803 792.879 43.0819 792.332 Q42.4056 792.01 41.9547 791.72 Q41.5038 791.43 40.7953 790.85 Q40.0867 790.239 39.7003 789.369 Q39.3138 788.499 39.3138 787.437 Q39.3138 785.375 40.5376 783.669 Q41.7614 781.962 44.2413 781.511 Q42.0835 779.675 40.6986 777.421 Q39.3138 775.166 39.3138 772.88 Q39.3138 769.079 42.2767 766.599 Q45.2075 764.087 49.8451 764.087 M46.9466 768.854 Q44.0158 768.854 42.4056 769.981 Q40.7631 771.076 40.7631 773.073 Q40.7631 775.553 43.2751 778.419 Q45.6583 781.253 47.8805 781.833 L60.7951 785.086 L61.8579 785.279 Q62.0511 785.279 62.6308 785.182 Q63.1783 785.053 64.0801 784.699 Q64.9819 784.313 65.787 783.797 Q66.5599 783.25 67.1397 782.284 Q67.7194 781.285 67.7194 780.062 Q67.7194 778.097 65.9802 775.971 Q64.2411 773.814 60.9561 772.203 Q58.8305 771.205 54.2573 770.045 Q49.6519 768.854 46.9466 768.854 Z\" fill=\"#000000\" fill-rule=\"evenodd\" fill-opacity=\"1\" /><path clip-path=\"url(#clip980)\" d=\"M51.9707 756.716 Q40.8275 756.716 31.842 752.562 Q28.0739 750.79 24.9178 748.31 Q21.7616 745.831 20.3767 744.188 Q18.9919 742.546 18.9919 742.095 Q18.9919 741.451 19.636 741.418 Q19.9581 741.418 20.7632 742.288 Q31.5844 752.916 51.9707 752.884 Q72.4214 752.884 82.8239 742.546 Q83.9511 741.418 84.3054 741.418 Q84.9495 741.418 84.9495 742.095 Q84.9495 742.546 83.6291 744.124 Q82.3086 745.702 79.2813 748.149 Q76.2539 750.597 72.5502 752.368 Q63.5648 756.716 51.9707 756.716 Z\" fill=\"#000000\" fill-rule=\"evenodd\" fill-opacity=\"1\" /><path clip-path=\"url(#clip980)\" d=\"M43.6616 703.555 Q45.4651 703.555 46.4957 704.682 Q47.4941 705.809 47.4941 707.097 Q47.4941 708.321 46.7856 708.965 Q46.077 709.61 45.1753 709.61 Q43.9514 709.61 42.8886 708.708 Q41.8258 707.806 41.6004 706.453 Q40.7631 707.774 40.7631 709.738 Q40.7631 711.027 41.4394 712.154 Q42.1157 713.249 42.9853 713.925 Q43.8548 714.569 45.1108 715.149 Q46.3347 715.696 47.0754 715.922 Q47.7839 716.115 48.5569 716.276 L57.5745 718.531 Q61.8579 719.626 63.3716 719.626 Q65.2395 719.626 66.4955 718.724 Q67.7194 717.822 67.7194 716.018 Q67.7194 715.31 67.5261 714.505 Q67.3007 713.7 66.721 712.669 Q66.1091 711.606 65.2073 710.672 Q64.2733 709.706 62.6952 708.772 Q61.1172 707.838 59.0882 707.226 Q58.3797 707.033 58.3797 706.389 Q58.3797 705.584 59.0238 705.584 Q59.5713 705.584 60.7307 706.035 Q61.8579 706.453 63.3394 707.387 Q64.7886 708.289 66.1091 709.481 Q67.3973 710.672 68.2991 712.444 Q69.2008 714.215 69.2008 716.147 Q69.2008 718.917 67.7194 720.753 Q66.2379 722.588 64.1767 723.265 Q64.4666 723.426 64.853 723.651 Q65.2395 723.877 66.1091 724.553 Q66.9464 725.197 67.5905 725.938 Q68.2024 726.679 68.6855 727.838 Q69.2008 728.965 69.2008 730.189 Q69.2008 731.735 68.7499 733.12 Q68.2991 734.472 67.2685 735.439 Q66.2379 736.405 64.8208 736.405 Q63.2427 736.405 62.1477 735.342 Q61.0205 734.247 61.0205 732.766 Q61.0205 731.832 61.568 731.091 Q62.1155 730.318 63.3072 730.318 Q64.6276 730.318 65.626 731.22 Q66.6244 732.121 66.882 733.41 Q67.7194 732.089 67.7194 730.125 Q67.7194 727.999 65.8514 726.324 Q63.9835 724.65 60.8595 723.845 Q53.3555 721.848 50.0061 721.075 Q46.6245 720.302 45.1753 720.302 Q43.8226 720.302 42.8886 720.656 Q41.9547 721.01 41.536 721.622 Q41.0851 722.202 40.9241 722.75 Q40.7631 723.265 40.7631 723.845 Q40.7631 724.811 41.1495 725.906 Q41.536 726.968 42.4378 728.257 Q43.3073 729.513 45.1108 730.704 Q46.9144 731.896 49.3942 732.701 Q50.135 732.862 50.135 733.571 Q50.1028 734.344 49.4586 734.344 Q48.9111 734.344 47.7839 733.925 Q46.6245 733.474 45.1753 732.572 Q43.726 731.638 42.4378 730.447 Q41.1173 729.223 40.2156 727.452 Q39.3138 725.648 39.3138 723.716 Q39.3138 722.846 39.507 722.009 Q39.6681 721.139 40.1511 720.109 Q40.6342 719.046 41.697 718.112 Q42.7598 717.178 44.3057 716.598 Q43.565 716.212 42.8564 715.696 Q42.1479 715.149 41.2783 714.312 Q40.3766 713.442 39.8613 712.25 Q39.3138 711.027 39.3138 709.674 Q39.3138 708.354 39.6681 707.065 Q39.9901 705.777 41.0529 704.682 Q42.0835 703.555 43.6616 703.555 Z\" fill=\"#000000\" fill-rule=\"evenodd\" fill-opacity=\"1\" /><path clip-path=\"url(#clip980)\" d=\"M84.3054 697.204 Q83.9833 697.204 83.1782 696.366 Q72.357 685.738 51.9707 685.738 Q31.52 685.738 21.1819 695.948 Q19.9903 697.204 19.636 697.204 Q18.9919 697.204 18.9919 696.56 Q18.9919 696.109 20.3123 694.531 Q21.6328 692.92 24.6601 690.505 Q27.6875 688.057 31.3911 686.254 Q40.3766 681.906 51.9707 681.906 Q63.1139 681.906 72.0994 686.06 Q75.8674 687.832 79.0236 690.312 Q82.1798 692.791 83.5646 694.434 Q84.9495 696.076 84.9495 696.56 Q84.9495 697.204 84.3054 697.204 Z\" fill=\"#000000\" fill-rule=\"evenodd\" fill-opacity=\"1\" /><polyline clip-path=\"url(#clip982)\" style=\"stroke:#009af9; stroke-linecap:butt; stroke-linejoin:round; stroke-width:8; stroke-opacity:1; fill:none\" points=\"\n  273.033,735.211 275.055,926.638 277.076,1084.76 279.097,1213.41 281.118,1316.09 283.139,1395.96 285.16,1455.87 287.182,1498.42 289.203,1525.93 291.224,1540.51 \n  293.245,1544.03 295.266,1538.19 297.287,1524.48 299.309,1504.26 301.33,1478.71 303.351,1448.9 305.372,1415.75 307.393,1380.09 309.414,1342.63 311.436,1304 \n  313.457,1264.73 315.478,1225.29 317.499,1186.08 319.52,1147.43 321.541,1109.62 323.563,1072.88 325.584,1037.41 327.605,1003.35 329.626,970.809 331.647,939.879 \n  333.668,910.616 335.69,883.055 337.711,857.21 339.732,833.078 341.753,810.643 343.774,789.874 345.795,770.731 347.817,753.165 349.838,737.119 351.859,722.531 \n  353.88,709.336 355.901,697.464 357.922,686.843 359.944,677.401 361.965,669.064 363.986,661.759 366.007,655.413 368.028,649.956 370.049,645.317 372.071,641.429 \n  374.092,638.226 376.113,635.646 378.134,633.628 380.155,632.115 382.176,631.053 384.198,630.389 386.219,630.075 388.24,630.066 390.261,630.319 392.282,630.795 \n  394.303,631.456 396.325,632.27 398.346,633.204 400.367,634.231 402.388,635.325 404.409,636.461 406.431,637.62 408.452,638.781 410.473,639.929 412.494,641.049 \n  414.515,642.127 416.536,643.153 418.558,644.117 420.579,645.011 422.6,645.828 424.621,646.563 426.642,647.213 428.663,647.773 430.685,648.243 432.706,648.621 \n  434.727,648.906 436.748,649.1 438.769,649.202 440.79,649.216 442.812,649.143 444.833,648.985 446.854,648.747 448.875,648.43 450.896,648.039 452.917,647.576 \n  454.939,647.047 456.96,646.456 458.981,645.805 461.002,645.1 463.023,644.344 465.044,643.542 467.066,642.697 469.087,641.814 471.108,640.897 473.129,639.949 \n  475.15,638.974 477.171,637.976 479.193,636.958 481.214,635.924 483.235,634.876 485.256,633.817 487.277,632.75 489.298,631.678 491.32,630.604 493.341,629.529 \n  495.362,628.455 497.383,627.385 499.404,626.32 501.425,625.262 503.447,624.212 505.468,623.172 507.489,622.143 509.51,621.125 511.531,620.12 513.552,619.129 \n  515.574,618.151 517.595,617.188 519.616,616.24 521.637,615.307 523.658,614.39 525.68,613.488 527.701,612.602 529.722,611.731 531.743,610.877 533.764,610.037 \n  535.785,609.213 537.807,608.404 539.828,607.609 541.849,606.829 543.87,606.063 545.891,605.31 547.912,604.571 549.934,603.844 551.955,603.13 553.976,602.428 \n  555.997,601.737 558.018,601.057 560.039,600.388 562.061,599.729 564.082,599.08 566.103,598.44 568.124,597.808 570.145,597.185 572.166,596.57 574.188,595.963 \n  576.209,595.363 578.23,594.77 580.251,594.184 582.272,593.604 584.293,593.029 586.315,592.461 588.336,591.898 590.357,591.34 592.378,590.788 594.399,590.24 \n  596.42,589.697 598.442,589.158 600.463,588.624 602.484,588.094 604.505,587.569 606.526,587.047 608.547,586.53 610.569,586.017 612.59,585.507 614.611,585.002 \n  616.632,584.501 618.653,584.003 620.674,583.51 622.696,583.021 624.717,582.536 626.738,582.055 628.759,581.578 630.78,581.106 632.801,580.638 634.823,580.175 \n  636.844,579.716 638.865,579.261 640.886,578.812 642.907,578.367 644.928,577.928 646.95,577.493 648.971,577.064 650.992,576.64 653.013,576.221 655.034,575.808 \n  657.056,575.4 659.077,574.998 661.098,574.602 663.119,574.212 665.14,573.827 667.161,573.449 669.183,573.077 671.204,572.711 673.225,572.352 675.246,571.999 \n  677.267,571.652 679.288,571.312 681.31,570.979 683.331,570.652 685.352,570.333 687.373,570.019 689.394,569.713 691.415,569.414 693.437,569.121 695.458,568.836 \n  697.479,568.558 699.5,568.286 701.521,568.022 703.542,567.765 705.564,567.515 707.585,567.272 709.606,567.036 711.627,566.807 713.648,566.585 715.669,566.371 \n  717.691,566.164 719.712,565.963 721.733,565.77 723.754,565.584 725.775,565.406 727.796,565.234 729.818,565.07 731.839,564.912 733.86,564.762 735.881,564.618 \n  737.902,564.482 739.923,564.353 741.945,564.231 743.966,564.116 745.987,564.007 748.008,563.906 750.029,563.812 752.05,563.724 754.072,563.644 756.093,563.57 \n  758.114,563.503 760.135,563.444 762.156,563.391 764.177,563.344 766.199,563.305 768.22,563.272 770.241,563.247 772.262,563.227 774.283,563.215 776.304,563.21 \n  778.326,563.211 780.347,563.219 782.368,563.233 784.389,563.254 786.41,563.282 788.432,563.317 790.453,563.358 792.474,563.406 794.495,563.461 796.516,563.522 \n  798.537,563.59 800.559,563.665 802.58,563.746 804.601,563.834 806.622,563.929 808.643,564.03 810.664,564.138 812.686,564.252 814.707,564.374 816.728,564.501 \n  818.749,564.636 820.77,564.777 822.791,564.925 824.813,565.079 826.834,565.24 828.855,565.408 830.876,565.582 832.897,565.763 834.918,565.95 836.94,566.144 \n  838.961,566.345 840.982,566.553 843.003,566.767 845.024,566.987 847.045,567.215 849.067,567.449 851.088,567.689 853.109,567.936 855.13,568.19 857.151,568.45 \n  859.172,568.717 861.194,568.991 863.215,569.271 865.236,569.558 867.257,569.851 869.278,570.151 871.299,570.458 873.321,570.77 875.342,571.09 877.363,571.416 \n  879.384,571.748 881.405,572.087 883.426,572.433 885.448,572.785 887.469,573.143 889.49,573.508 891.511,573.879 893.532,574.257 895.553,574.641 897.575,575.032 \n  899.596,575.428 901.617,575.831 903.638,576.241 905.659,576.657 907.68,577.079 909.702,577.507 911.723,577.941 913.744,578.382 915.765,578.829 917.786,579.282 \n  919.808,579.742 921.829,580.207 923.85,580.679 925.871,581.156 927.892,581.64 929.913,582.13 931.935,582.626 933.956,583.128 935.977,583.635 937.998,584.149 \n  940.019,584.669 942.04,585.195 944.062,585.726 946.083,586.264 948.104,586.807 950.125,587.356 952.146,587.911 954.167,588.472 956.189,589.038 958.21,589.611 \n  960.231,590.189 962.252,590.772 964.273,591.362 966.294,591.957 968.316,592.558 970.337,593.164 972.358,593.776 974.379,594.393 976.4,595.016 978.421,595.645 \n  980.443,596.279 982.464,596.918 984.485,597.563 986.506,598.214 988.527,598.869 990.548,599.53 992.57,600.197 994.591,600.869 996.612,601.546 998.633,602.229 \n  1000.65,602.916 1002.68,603.609 1004.7,604.308 1006.72,605.011 1008.74,605.72 1010.76,606.433 1012.78,607.152 1014.8,607.876 1016.82,608.605 1018.84,609.339 \n  1020.87,610.078 1022.89,610.823 1024.91,611.572 1026.93,612.326 1028.95,613.085 1030.97,613.848 1032.99,614.617 1035.01,615.391 1037.04,616.169 1039.06,616.952 \n  1041.08,617.74 1043.1,618.532 1045.12,619.33 1047.14,620.132 1049.16,620.938 1051.18,621.749 1053.2,622.565 1055.23,623.385 1057.25,624.21 1059.27,625.039 \n  1061.29,625.872 1063.31,626.71 1065.33,627.552 1067.35,628.399 1069.37,629.25 1071.4,630.105 1073.42,630.964 1075.44,631.828 1077.46,632.695 1079.48,633.567 \n  1081.5,634.443 1083.52,635.323 1085.54,636.206 1087.56,637.094 1089.59,637.986 1091.61,638.881 1093.63,639.781 1095.65,640.684 1097.67,641.591 1099.69,642.501 \n  1101.71,643.416 1103.73,644.334 1105.76,645.255 1107.78,646.18 1109.8,647.109 1111.82,648.041 1113.84,648.976 1115.86,649.915 1117.88,650.857 1119.9,651.802 \n  1121.92,652.751 1123.95,653.703 1125.97,654.658 1127.99,655.616 1130.01,656.578 1132.03,657.542 1134.05,658.51 1136.07,659.48 1138.09,660.453 1140.11,661.43 \n  1142.14,662.409 1144.16,663.39 1146.18,664.375 1148.2,665.362 1150.22,666.353 1152.24,667.345 1154.26,668.341 1156.28,669.338 1158.31,670.339 1160.33,671.342 \n  1162.35,672.347 1164.37,673.355 1166.39,674.365 1168.41,675.377 1170.43,676.392 1172.45,677.409 1174.47,678.428 1176.5,679.45 1178.52,680.473 1180.54,681.499 \n  1182.56,682.527 1184.58,683.557 1186.6,684.588 1188.62,685.622 1190.64,686.658 1192.67,687.695 1194.69,688.734 1196.71,689.776 1198.73,690.818 1200.75,691.863 \n  1202.77,692.909 1204.79,693.957 1206.81,695.007 1208.83,696.058 1210.86,697.111 1212.88,698.165 1214.9,699.221 1216.92,700.278 1218.94,701.337 1220.96,702.397 \n  1222.98,703.458 1225,704.52 1227.03,705.584 1229.05,706.649 1231.07,707.715 1233.09,708.783 1235.11,709.851 1237.13,710.92 1239.15,711.991 1241.17,713.062 \n  1243.19,714.135 1245.22,715.208 1247.24,716.282 1249.26,717.357 1251.28,718.433 1253.3,719.509 1255.32,720.587 1257.34,721.665 1259.36,722.743 1261.39,723.822 \n  1263.41,724.902 1265.43,725.982 1267.45,727.062 1269.47,728.143 1271.49,729.225 1273.51,730.306 1275.53,731.388 1277.55,732.47 1279.58,733.553 1281.6,734.635 \n  1283.62,735.718 1285.64,736.801 1287.66,737.883 1289.68,738.966 1291.7,740.049 1293.72,741.131 1295.75,742.213 1297.77,743.295 1299.79,744.377 1301.81,745.459 \n  1303.83,746.54 1305.85,747.621 1307.87,748.701 1309.89,749.781 1311.91,750.86 1313.94,751.939 1315.96,753.017 1317.98,754.094 1320,755.171 1322.02,756.247 \n  1324.04,757.322 1326.06,758.396 1328.08,759.469 1330.1,760.541 1332.13,761.612 1334.15,762.683 1336.17,763.752 1338.19,764.82 1340.21,765.886 1342.23,766.952 \n  1344.25,768.016 1346.27,769.079 1348.3,770.14 1350.32,771.2 1352.34,772.259 1354.36,773.316 1356.38,774.371 1358.4,775.425 1360.42,776.477 1362.44,777.527 \n  1364.46,778.576 1366.49,779.623 1368.51,780.668 1370.53,781.711 1372.55,782.753 1374.57,783.792 1376.59,784.829 1378.61,785.864 1380.63,786.898 1382.66,787.929 \n  1384.68,788.957 1386.7,789.984 1388.72,791.009 1390.74,792.031 1392.76,793.05 1394.78,794.068 1396.8,795.083 1398.82,796.095 1400.85,797.106 1402.87,798.113 \n  1404.89,799.118 1406.91,800.121 1408.93,801.12 1410.95,802.117 1412.97,803.112 1414.99,804.104 1417.02,805.093 1419.04,806.079 1421.06,807.062 1423.08,808.042 \n  1425.1,809.02 1427.12,809.994 1429.14,810.966 1431.16,811.935 1433.18,812.9 1435.21,813.863 1437.23,814.822 1439.25,815.778 1441.27,816.731 1443.29,817.681 \n  1445.31,818.628 1447.33,819.571 1449.35,820.511 1451.38,821.447 1453.4,822.381 1455.42,823.31 1457.44,824.237 1459.46,825.16 1461.48,826.079 1463.5,826.995 \n  1465.52,827.907 1467.54,828.816 1469.57,829.721 1471.59,830.622 1473.61,831.52 1475.63,832.414 1477.65,833.304 1479.67,834.19 1481.69,835.072 1483.71,835.951 \n  1485.73,836.825 1487.76,837.696 1489.78,838.562 1491.8,839.425 1493.82,840.284 1495.84,841.138 1497.86,841.988 1499.88,842.834 1501.9,843.676 1503.93,844.514 \n  1505.95,845.347 1507.97,846.176 1509.99,847.001 1512.01,847.821 1514.03,848.637 1516.05,849.449 1518.07,850.256 1520.09,851.058 1522.12,851.856 1524.14,852.649 \n  1526.16,853.437 1528.18,854.221 1530.2,855 1532.22,855.775 1534.24,856.544 1536.26,857.309 1538.29,858.069 1540.31,858.824 1542.33,859.574 1544.35,860.319 \n  1546.37,861.06 1548.39,861.795 1550.41,862.525 1552.43,863.25 1554.45,863.97 1556.48,864.684 1558.5,865.394 1560.52,866.098 1562.54,866.797 1564.56,867.491 \n  1566.58,868.179 1568.6,868.862 1570.62,869.54 1572.65,870.212 1574.67,870.879 1576.69,871.541 1578.71,872.197 1580.73,872.847 1582.75,873.492 1584.77,874.132 \n  1586.79,874.765 1588.81,875.394 1590.84,876.016 1592.86,876.633 1594.88,877.245 1596.9,877.85 1598.92,878.45 1600.94,879.044 1602.96,879.633 1604.98,880.216 \n  1607.01,880.793 1609.03,881.364 1611.05,881.929 1613.07,882.489 1615.09,883.043 1617.11,883.591 1619.13,884.133 1621.15,884.669 1623.17,885.199 1625.2,885.724 \n  1627.22,886.242 1629.24,886.755 1631.26,887.262 1633.28,887.762 1635.3,888.257 1637.32,888.746 1639.34,889.229 1641.36,889.706 1643.39,890.176 1645.41,890.641 \n  1647.43,891.1 1649.45,891.553 1651.47,891.999 1653.49,892.44 1655.51,892.875 1657.53,893.303 1659.56,893.726 1661.58,894.142 1663.6,894.552 1665.62,894.956 \n  1667.64,895.354 1669.66,895.746 1671.68,896.131 1673.7,896.511 1675.72,896.884 1677.75,897.251 1679.77,897.611 1681.79,897.966 1683.81,898.314 1685.83,898.655 \n  1687.85,898.991 1689.87,899.32 1691.89,899.643 1693.92,899.959 1695.94,900.269 1697.96,900.573 1699.98,900.87 1702,901.16 1704.02,901.445 1706.04,901.722 \n  1708.06,901.993 1710.08,902.258 1712.11,902.515 1714.13,902.767 1716.15,903.011 1718.17,903.249 1720.19,903.48 1722.21,903.705 1724.23,903.923 1726.25,904.133 \n  1728.28,904.338 1730.3,904.535 1732.32,904.725 1734.34,904.909 1736.36,905.085 1738.38,905.255 1740.4,905.418 1742.42,905.574 1744.44,905.723 1746.47,905.864 \n  1748.49,905.999 1750.51,906.127 1752.53,906.247 1754.55,906.361 1756.57,906.467 1758.59,906.567 1760.61,906.659 1762.64,906.744 1764.66,906.822 1766.68,906.893 \n  1768.7,906.957 1770.72,907.013 1772.74,907.063 1774.76,907.105 1776.78,907.141 1778.8,907.169 1780.83,907.19 1782.85,907.204 1784.87,907.211 1786.89,907.21 \n  1788.91,907.203 1790.93,907.189 1792.95,907.168 1794.97,907.14 1796.99,907.104 1799.02,907.062 1801.04,907.014 1803.06,906.958 1805.08,906.895 1807.1,906.826 \n  1809.12,906.75 1811.14,906.667 1813.16,906.578 1815.19,906.482 1817.21,906.38 1819.23,906.271 1821.25,906.155 1823.27,906.034 1825.29,905.905 1827.31,905.771 \n  1829.33,905.63 1831.35,905.483 1833.38,905.33 1835.4,905.171 1837.42,905.005 1839.44,904.834 1841.46,904.656 1843.48,904.473 1845.5,904.283 1847.52,904.088 \n  1849.55,903.887 1851.57,903.68 1853.59,903.467 1855.61,903.248 1857.63,903.023 1859.65,902.793 1861.67,902.557 1863.69,902.315 1865.71,902.067 1867.74,901.814 \n  1869.76,901.554 1871.78,901.289 1873.8,901.018 1875.82,900.741 1877.84,900.458 1879.86,900.169 1881.88,899.873 1883.91,899.572 1885.93,899.265 1887.95,898.951 \n  1889.97,898.631 1891.99,898.305 1894.01,897.972 1896.03,897.632 1898.05,897.286 1900.07,896.933 1902.1,896.573 1904.12,896.206 1906.14,895.832 1908.16,895.451 \n  1910.18,895.062 1912.2,894.666 1914.22,894.262 1916.24,893.85 1918.27,893.431 1920.29,893.003 1922.31,892.568 1924.33,892.124 1926.35,891.672 1928.37,891.211 \n  1930.39,890.742 1932.41,890.264 1934.43,889.777 1936.46,889.282 1938.48,888.777 1940.5,888.264 1942.52,887.741 1944.54,887.21 1946.56,886.669 1948.58,886.12 \n  1950.6,885.562 1952.63,884.994 1954.65,884.418 1956.67,883.833 1958.69,883.239 1960.71,882.636 1962.73,882.026 1964.75,881.407 1966.77,880.78 1968.79,880.145 \n  1970.82,879.502 1972.84,878.853 1974.86,878.197 1976.88,877.534 1978.9,876.865 1980.92,876.19 1982.94,875.511 1984.96,874.826 1986.98,874.137 1989.01,873.445 \n  1991.03,872.75 1993.05,872.052 1995.07,871.352 1997.09,870.651 1999.11,869.949 2001.13,869.248 2003.15,868.548 2005.18,867.849 2007.2,867.152 2009.22,866.459 \n  2011.24,865.769 2013.26,865.084 2015.28,864.404 2017.3,863.73 2019.32,863.063 2021.34,862.403 2023.37,861.751 2025.39,861.108 2027.41,860.475 2029.43,859.85 \n  2031.45,859.237 2033.47,858.633 2035.49,858.041 2037.51,857.46 2039.54,856.89 2041.56,856.332 2043.58,855.785 2045.6,855.249 2047.62,854.724 2049.64,854.21 \n  2051.66,853.705 2053.68,853.209 2055.7,852.721 2057.73,852.24 2059.75,851.765 2061.77,851.295 2063.79,850.826 2065.81,850.359 2067.83,849.889 2069.85,849.416 \n  2071.87,848.937 2073.9,848.448 2075.92,847.947 2077.94,847.431 2079.96,846.895 2081.98,846.336 2084,845.751 2086.02,845.134 2088.04,844.482 2090.06,843.789 \n  2092.09,843.052 2094.11,842.263 2096.13,841.42 2098.15,840.515 2100.17,839.544 2102.19,838.5 2104.21,837.379 2106.23,836.173 2108.26,834.878 2110.28,833.488 \n  2112.3,831.996 2114.32,830.398 2116.34,828.688 2118.36,826.861 2120.38,824.912 2122.4,822.836 2124.42,820.631 2126.45,818.292 2128.47,815.816 2130.49,813.203 \n  2132.51,810.45 2134.53,807.557 2136.55,804.525 2138.57,801.357 2140.59,798.056 2142.61,794.626 2144.64,791.074 2146.66,787.407 2148.68,783.637 2150.7,779.774 \n  2152.72,775.833 2154.74,771.831 2156.76,767.786 2158.78,763.72 2160.81,759.657 2162.83,755.624 2164.85,751.653 2166.87,747.776 2168.89,744.031 2170.91,740.458 \n  2172.93,737.103 2174.95,734.012 2176.97,731.238 2179,728.838 2181.02,726.87 2183.04,725.4 2185.06,724.496 2187.08,724.229 2189.1,724.678 2191.12,725.92 \n  2193.14,728.042 2195.17,731.13 2197.19,735.275 2199.21,740.571 2201.23,747.114 2203.25,755.004 2205.27,764.338 2207.29,775.219 2209.31,787.746 2211.33,802.019 \n  2213.36,818.135 2215.38,836.188 2217.4,856.267 2219.42,878.455 2221.44,902.827 2223.46,929.447 2225.48,958.366 2227.5,989.624 2229.53,1023.24 2231.55,1059.21 \n  2233.57,1097.51 2235.59,1138.08 2237.61,1180.85 2239.63,1225.68 2241.65,1272.42 2243.67,1320.84 2245.69,1370.7 2247.72,1421.65 2249.74,1473.31 2251.76,1525.2 \n  2253.78,1576.79 2255.8,1627.41 2257.82,1676.33 2259.84,1722.68 2261.86,1765.46 2263.89,1803.55 2265.91,1835.67 2267.93,1860.37 2269.95,1876 2271.97,1880.72 \n  2273.99,1872.48 2276.01,1848.97 2278.03,1807.63 2280.05,1745.58 2282.08,1659.66 2284.1,1546.35 2286.12,1401.77 2288.14,1221.62 2290.16,1001.17 2292.18,735.23 \n  \n  \"/>\n<circle clip-path=\"url(#clip982)\" cx=\"273.033\" cy=\"735.211\" r=\"14\" fill=\"#e26f46\" fill-rule=\"evenodd\" fill-opacity=\"1\" stroke=\"#000000\" stroke-opacity=\"1\" stroke-width=\"3.2\"/>\n<circle clip-path=\"url(#clip982)\" cx=\"357.165\" cy=\"690.684\" r=\"14\" fill=\"#e26f46\" fill-rule=\"evenodd\" fill-opacity=\"1\" stroke=\"#000000\" stroke-opacity=\"1\" stroke-width=\"3.2\"/>\n<circle clip-path=\"url(#clip982)\" cx=\"441.296\" cy=\"649.206\" r=\"14\" fill=\"#e26f46\" fill-rule=\"evenodd\" fill-opacity=\"1\" stroke=\"#000000\" stroke-opacity=\"1\" stroke-width=\"3.2\"/>\n<circle clip-path=\"url(#clip982)\" cx=\"525.427\" cy=\"613.6\" r=\"14\" fill=\"#e26f46\" fill-rule=\"evenodd\" fill-opacity=\"1\" stroke=\"#000000\" stroke-opacity=\"1\" stroke-width=\"3.2\"/>\n<circle clip-path=\"url(#clip982)\" cx=\"609.558\" cy=\"586.273\" r=\"14\" fill=\"#e26f46\" fill-rule=\"evenodd\" fill-opacity=\"1\" stroke=\"#000000\" stroke-opacity=\"1\" stroke-width=\"3.2\"/>\n<circle clip-path=\"url(#clip982)\" cx=\"693.689\" cy=\"569.085\" r=\"14\" fill=\"#e26f46\" fill-rule=\"evenodd\" fill-opacity=\"1\" stroke=\"#000000\" stroke-opacity=\"1\" stroke-width=\"3.2\"/>\n<circle clip-path=\"url(#clip982)\" cx=\"777.82\" cy=\"563.21\" r=\"14\" fill=\"#e26f46\" fill-rule=\"evenodd\" fill-opacity=\"1\" stroke=\"#000000\" stroke-opacity=\"1\" stroke-width=\"3.2\"/>\n<circle clip-path=\"url(#clip982)\" cx=\"861.952\" cy=\"569.095\" r=\"14\" fill=\"#e26f46\" fill-rule=\"evenodd\" fill-opacity=\"1\" stroke=\"#000000\" stroke-opacity=\"1\" stroke-width=\"3.2\"/>\n<circle clip-path=\"url(#clip982)\" cx=\"946.083\" cy=\"586.264\" r=\"14\" fill=\"#e26f46\" fill-rule=\"evenodd\" fill-opacity=\"1\" stroke=\"#000000\" stroke-opacity=\"1\" stroke-width=\"3.2\"/>\n<circle clip-path=\"url(#clip982)\" cx=\"1030.21\" cy=\"613.561\" r=\"14\" fill=\"#e26f46\" fill-rule=\"evenodd\" fill-opacity=\"1\" stroke=\"#000000\" stroke-opacity=\"1\" stroke-width=\"3.2\"/>\n<circle clip-path=\"url(#clip982)\" cx=\"1114.35\" cy=\"649.21\" r=\"14\" fill=\"#e26f46\" fill-rule=\"evenodd\" fill-opacity=\"1\" stroke=\"#000000\" stroke-opacity=\"1\" stroke-width=\"3.2\"/>\n<circle clip-path=\"url(#clip982)\" cx=\"1198.48\" cy=\"690.688\" r=\"14\" fill=\"#e26f46\" fill-rule=\"evenodd\" fill-opacity=\"1\" stroke=\"#000000\" stroke-opacity=\"1\" stroke-width=\"3.2\"/>\n<circle clip-path=\"url(#clip982)\" cx=\"1282.61\" cy=\"735.177\" r=\"14\" fill=\"#e26f46\" fill-rule=\"evenodd\" fill-opacity=\"1\" stroke=\"#000000\" stroke-opacity=\"1\" stroke-width=\"3.2\"/>\n<circle clip-path=\"url(#clip982)\" cx=\"1366.74\" cy=\"779.754\" r=\"14\" fill=\"#e26f46\" fill-rule=\"evenodd\" fill-opacity=\"1\" stroke=\"#000000\" stroke-opacity=\"1\" stroke-width=\"3.2\"/>\n<circle clip-path=\"url(#clip982)\" cx=\"1450.87\" cy=\"821.214\" r=\"14\" fill=\"#e26f46\" fill-rule=\"evenodd\" fill-opacity=\"1\" stroke=\"#000000\" stroke-opacity=\"1\" stroke-width=\"3.2\"/>\n<circle clip-path=\"url(#clip982)\" cx=\"1535\" cy=\"856.832\" r=\"14\" fill=\"#e26f46\" fill-rule=\"evenodd\" fill-opacity=\"1\" stroke=\"#000000\" stroke-opacity=\"1\" stroke-width=\"3.2\"/>\n<circle clip-path=\"url(#clip982)\" cx=\"1619.13\" cy=\"884.133\" r=\"14\" fill=\"#e26f46\" fill-rule=\"evenodd\" fill-opacity=\"1\" stroke=\"#000000\" stroke-opacity=\"1\" stroke-width=\"3.2\"/>\n<circle clip-path=\"url(#clip982)\" cx=\"1703.26\" cy=\"901.339\" r=\"14\" fill=\"#e26f46\" fill-rule=\"evenodd\" fill-opacity=\"1\" stroke=\"#000000\" stroke-opacity=\"1\" stroke-width=\"3.2\"/>\n<circle clip-path=\"url(#clip982)\" cx=\"1787.39\" cy=\"907.209\" r=\"14\" fill=\"#e26f46\" fill-rule=\"evenodd\" fill-opacity=\"1\" stroke=\"#000000\" stroke-opacity=\"1\" stroke-width=\"3.2\"/>\n<circle clip-path=\"url(#clip982)\" cx=\"1871.53\" cy=\"901.322\" r=\"14\" fill=\"#e26f46\" fill-rule=\"evenodd\" fill-opacity=\"1\" stroke=\"#000000\" stroke-opacity=\"1\" stroke-width=\"3.2\"/>\n<circle clip-path=\"url(#clip982)\" cx=\"1955.66\" cy=\"884.126\" r=\"14\" fill=\"#e26f46\" fill-rule=\"evenodd\" fill-opacity=\"1\" stroke=\"#000000\" stroke-opacity=\"1\" stroke-width=\"3.2\"/>\n<circle clip-path=\"url(#clip982)\" cx=\"2039.79\" cy=\"856.82\" r=\"14\" fill=\"#e26f46\" fill-rule=\"evenodd\" fill-opacity=\"1\" stroke=\"#000000\" stroke-opacity=\"1\" stroke-width=\"3.2\"/>\n<circle clip-path=\"url(#clip982)\" cx=\"2123.92\" cy=\"821.195\" r=\"14\" fill=\"#e26f46\" fill-rule=\"evenodd\" fill-opacity=\"1\" stroke=\"#000000\" stroke-opacity=\"1\" stroke-width=\"3.2\"/>\n<circle clip-path=\"url(#clip982)\" cx=\"2208.05\" cy=\"779.718\" r=\"14\" fill=\"#e26f46\" fill-rule=\"evenodd\" fill-opacity=\"1\" stroke=\"#000000\" stroke-opacity=\"1\" stroke-width=\"3.2\"/>\n<circle clip-path=\"url(#clip982)\" cx=\"2292.18\" cy=\"735.23\" r=\"14\" fill=\"#e26f46\" fill-rule=\"evenodd\" fill-opacity=\"1\" stroke=\"#000000\" stroke-opacity=\"1\" stroke-width=\"3.2\"/>\n</svg>\n"
               },
               "type": "node"
              }
             ],
             "instanceArgs": {
              "namespace": "html",
              "tag": "div"
             },
             "nodeType": "DOM",
             "props": {
              "className": "interact-flex-row interact-widget"
             },
             "type": "node"
            }
           }
          },
          "systemjs_options": null
         },
         "nodeType": "Scope",
         "props": {},
         "type": "node"
        }
       ],
       "instanceArgs": {
        "namespace": "html",
        "tag": "div"
       },
       "nodeType": "DOM",
       "props": {},
       "type": "node"
      },
      "text/html": [
       "<div\n",
       "    class=\"webio-mountpoint\"\n",
       "    data-webio-mountpoint=\"1188491705343281918\"\n",
       ">\n",
       "    <script>\n",
       "    (function(){\n",
       "    // Some integrations (namely, IJulia/Jupyter) use an alternate render pathway than\n",
       "    // just putting the html on the page. If WebIO isn't defined, then it's pretty likely\n",
       "    // that we're in one of those situations and the integration just isn't installed\n",
       "    // correctly.\n",
       "    if (typeof window.WebIO === \"undefined\") {\n",
       "        document\n",
       "            .querySelector('[data-webio-mountpoint=\"1188491705343281918\"]')\n",
       "            .innerHTML = (\n",
       "                '<div style=\"padding: 1em; background-color: #f8d6da; border: 1px solid #f5c6cb; font-weight: bold;\">' +\n",
       "                '<p><strong>WebIO not detected.</strong></p>' +\n",
       "                '<p>Please read ' +\n",
       "                '<a href=\"https://juliagizmos.github.io/WebIO.jl/latest/troubleshooting/not-detected/\" target=\"_blank\">the troubleshooting guide</a> ' +\n",
       "                'for more information on how to resolve this issue.</p>' +\n",
       "                '<p><a href=\"https://juliagizmos.github.io/WebIO.jl/latest/troubleshooting/not-detected/\" target=\"_blank\">https://juliagizmos.github.io/WebIO.jl/latest/troubleshooting/not-detected/</a></p>' +\n",
       "                '</div>'\n",
       "            );\n",
       "        return;\n",
       "    }\n",
       "    WebIO.mount(\n",
       "        document.querySelector('[data-webio-mountpoint=\"1188491705343281918\"]'),\n",
       "        {\"props\":{},\"nodeType\":\"DOM\",\"type\":\"node\",\"instanceArgs\":{\"namespace\":\"html\",\"tag\":\"div\"},\"children\":[{\"props\":{\"className\":\"field interact-widget\"},\"nodeType\":\"DOM\",\"type\":\"node\",\"instanceArgs\":{\"namespace\":\"html\",\"tag\":\"div\"},\"children\":[{\"props\":{},\"nodeType\":\"Scope\",\"type\":\"node\",\"instanceArgs\":{\"imports\":{\"data\":[{\"name\":\"knockout\",\"type\":\"js\",\"url\":\"\\/assetserver\\/c7e9525c60334db1a679535c544de0605a206866-knockout.js\"},{\"name\":\"knockout_punches\",\"type\":\"js\",\"url\":\"\\/assetserver\\/25d986356c2356e73454f2b9198affa4b0e07e2e-knockout_punches.js\"},{\"name\":null,\"type\":\"js\",\"url\":\"\\/assetserver\\/a371ad546c7103190b2a50e7b48d9321e4ff74ac-all.js\"},{\"name\":null,\"type\":\"css\",\"url\":\"\\/assetserver\\/5762da8363b7bdc341622051ef36e5d544811e67-style.css\"},{\"name\":null,\"type\":\"css\",\"url\":\"\\/assetserver\\/3adddd1658906b22aee092f05eeb7474fa7ba7b4-bulma_confined.min.css\"}],\"type\":\"async_block\"},\"id\":\"17199008411268149501\",\"handlers\":{\"changes\":[\"(function (val){return (val!=this.model[\\\"changes\\\"]()) ? (this.valueFromJulia[\\\"changes\\\"]=true, this.model[\\\"changes\\\"](val)) : undefined})\"],\"index\":[\"(function (val){return (val!=this.model[\\\"index\\\"]()) ? (this.valueFromJulia[\\\"index\\\"]=true, this.model[\\\"index\\\"](val)) : undefined})\"]},\"systemjs_options\":null,\"mount_callbacks\":[\"function () {\\n    var handler = (function (ko, koPunches) {\\n    ko.punches.enableAll();\\n    ko.bindingHandlers.numericValue = {\\n        init: function(element, valueAccessor, allBindings, data, context) {\\n            var stringified = ko.observable(ko.unwrap(valueAccessor()));\\n            stringified.subscribe(function(value) {\\n                var val = parseFloat(value);\\n                if (!isNaN(val)) {\\n                    valueAccessor()(val);\\n                }\\n            });\\n            valueAccessor().subscribe(function(value) {\\n                var str = JSON.stringify(value);\\n                if ((str == \\\"0\\\") && ([\\\"-0\\\", \\\"-0.\\\"].indexOf(stringified()) >= 0))\\n                     return;\\n                 if ([\\\"null\\\", \\\"\\\"].indexOf(str) >= 0)\\n                     return;\\n                stringified(str);\\n            });\\n            ko.applyBindingsToNode(\\n                element,\\n                {\\n                    value: stringified,\\n                    valueUpdate: allBindings.get('valueUpdate'),\\n                },\\n                context,\\n            );\\n        }\\n    };\\n    var json_data = {\\\"formatted_vals\\\":[\\\"-7.0\\\",\\\"-6.9\\\",\\\"-6.8\\\",\\\"-6.7\\\",\\\"-6.6\\\",\\\"-6.5\\\",\\\"-6.4\\\",\\\"-6.3\\\",\\\"-6.2\\\",\\\"-6.1\\\",\\\"-6.0\\\",\\\"-5.9\\\",\\\"-5.8\\\",\\\"-5.7\\\",\\\"-5.6\\\",\\\"-5.5\\\",\\\"-5.4\\\",\\\"-5.3\\\",\\\"-5.2\\\",\\\"-5.1\\\",\\\"-5.0\\\",\\\"-4.9\\\",\\\"-4.8\\\",\\\"-4.7\\\",\\\"-4.6\\\",\\\"-4.5\\\",\\\"-4.4\\\",\\\"-4.3\\\",\\\"-4.2\\\",\\\"-4.1\\\",\\\"-4.0\\\",\\\"-3.9\\\",\\\"-3.8\\\",\\\"-3.7\\\",\\\"-3.6\\\",\\\"-3.5\\\",\\\"-3.4\\\",\\\"-3.3\\\",\\\"-3.2\\\",\\\"-3.1\\\",\\\"-3.0\\\",\\\"-2.9\\\",\\\"-2.8\\\",\\\"-2.7\\\",\\\"-2.6\\\",\\\"-2.5\\\",\\\"-2.4\\\",\\\"-2.3\\\",\\\"-2.2\\\",\\\"-2.1\\\",\\\"-2.0\\\",\\\"-1.9\\\",\\\"-1.8\\\",\\\"-1.7\\\",\\\"-1.6\\\",\\\"-1.5\\\",\\\"-1.4\\\",\\\"-1.3\\\",\\\"-1.2\\\",\\\"-1.1\\\",\\\"-1.0\\\"],\\\"changes\\\":WebIO.getval({\\\"name\\\":\\\"changes\\\",\\\"scope\\\":\\\"17199008411268149501\\\",\\\"id\\\":\\\"3014228823405310257\\\",\\\"type\\\":\\\"observable\\\"}),\\\"index\\\":WebIO.getval({\\\"name\\\":\\\"index\\\",\\\"scope\\\":\\\"17199008411268149501\\\",\\\"id\\\":\\\"13416814726795587654\\\",\\\"type\\\":\\\"observable\\\"})};\\n    var self = this;\\n    function AppViewModel() {\\n        for (var key in json_data) {\\n            var el = json_data[key];\\n            this[key] = Array.isArray(el) ? ko.observableArray(el) : ko.observable(el);\\n        }\\n        \\n        [this[\\\"formatted_val\\\"]=ko.computed(    function(){\\n        return this.formatted_vals()[parseInt(this.index())-(1)];\\n    }\\n,this)]\\n        [this[\\\"changes\\\"].subscribe((function (val){!(this.valueFromJulia[\\\"changes\\\"]) ? (WebIO.setval({\\\"name\\\":\\\"changes\\\",\\\"scope\\\":\\\"17199008411268149501\\\",\\\"id\\\":\\\"3014228823405310257\\\",\\\"type\\\":\\\"observable\\\"},val)) : undefined; return this.valueFromJulia[\\\"changes\\\"]=false}),self),this[\\\"index\\\"].subscribe((function (val){!(this.valueFromJulia[\\\"index\\\"]) ? (WebIO.setval({\\\"name\\\":\\\"index\\\",\\\"scope\\\":\\\"17199008411268149501\\\",\\\"id\\\":\\\"13416814726795587654\\\",\\\"type\\\":\\\"observable\\\"},val)) : undefined; return this.valueFromJulia[\\\"index\\\"]=false}),self)]\\n        \\n    }\\n    self.model = new AppViewModel();\\n    self.valueFromJulia = {};\\n    for (var key in json_data) {\\n        self.valueFromJulia[key] = false;\\n    }\\n    ko.applyBindings(self.model, self.dom);\\n}\\n);\\n    (WebIO.importBlock({\\\"data\\\":[{\\\"name\\\":\\\"knockout\\\",\\\"type\\\":\\\"js\\\",\\\"url\\\":\\\"\\/assetserver\\/c7e9525c60334db1a679535c544de0605a206866-knockout.js\\\"},{\\\"name\\\":\\\"knockout_punches\\\",\\\"type\\\":\\\"js\\\",\\\"url\\\":\\\"\\/assetserver\\/25d986356c2356e73454f2b9198affa4b0e07e2e-knockout_punches.js\\\"}],\\\"type\\\":\\\"async_block\\\"})).then((imports) => handler.apply(this, imports));\\n}\\n\"],\"observables\":{\"changes\":{\"sync\":false,\"id\":\"3014228823405310257\",\"value\":0},\"index\":{\"sync\":true,\"id\":\"13416814726795587654\",\"value\":31}}},\"children\":[{\"props\":{\"className\":\"interact-flex-row interact-widget\"},\"nodeType\":\"DOM\",\"type\":\"node\",\"instanceArgs\":{\"namespace\":\"html\",\"tag\":\"div\"},\"children\":[{\"props\":{\"className\":\"interact-flex-row-left\"},\"nodeType\":\"DOM\",\"type\":\"node\",\"instanceArgs\":{\"namespace\":\"html\",\"tag\":\"div\"},\"children\":[{\"props\":{\"className\":\"interact \",\"style\":{\"padding\":\"5px 10px 0px 10px\"}},\"nodeType\":\"DOM\",\"type\":\"node\",\"instanceArgs\":{\"namespace\":\"html\",\"tag\":\"label\"},\"children\":[\"log10ϵ\"]}]},{\"props\":{\"className\":\"interact-flex-row-center\"},\"nodeType\":\"DOM\",\"type\":\"node\",\"instanceArgs\":{\"namespace\":\"html\",\"tag\":\"div\"},\"children\":[{\"props\":{\"max\":61,\"min\":1,\"attributes\":{\"type\":\"range\",\"data-bind\":\"numericValue: index, valueUpdate: 'input', event: {change: function (){this.changes(this.changes()+1)}}\",\"orient\":\"horizontal\"},\"step\":1,\"className\":\"slider slider is-fullwidth\",\"style\":{}},\"nodeType\":\"DOM\",\"type\":\"node\",\"instanceArgs\":{\"namespace\":\"html\",\"tag\":\"input\"},\"children\":[]}]},{\"props\":{\"className\":\"interact-flex-row-right\"},\"nodeType\":\"DOM\",\"type\":\"node\",\"instanceArgs\":{\"namespace\":\"html\",\"tag\":\"div\"},\"children\":[{\"props\":{\"attributes\":{\"data-bind\":\"text: formatted_val\"}},\"nodeType\":\"DOM\",\"type\":\"node\",\"instanceArgs\":{\"namespace\":\"html\",\"tag\":\"p\"},\"children\":[]}]}]}]}]},{\"props\":{\"className\":\"interact-widget\"},\"nodeType\":\"DOM\",\"type\":\"node\",\"instanceArgs\":{\"namespace\":\"html\",\"tag\":\"div\"},\"children\":[{\"props\":{},\"nodeType\":\"Scope\",\"type\":\"node\",\"instanceArgs\":{\"imports\":{\"data\":[{\"name\":\"knockout\",\"type\":\"js\",\"url\":\"\\/assetserver\\/c7e9525c60334db1a679535c544de0605a206866-knockout.js\"},{\"name\":\"knockout_punches\",\"type\":\"js\",\"url\":\"\\/assetserver\\/25d986356c2356e73454f2b9198affa4b0e07e2e-knockout_punches.js\"},{\"name\":null,\"type\":\"js\",\"url\":\"\\/assetserver\\/a371ad546c7103190b2a50e7b48d9321e4ff74ac-all.js\"},{\"name\":null,\"type\":\"css\",\"url\":\"\\/assetserver\\/5762da8363b7bdc341622051ef36e5d544811e67-style.css\"},{\"name\":null,\"type\":\"css\",\"url\":\"\\/assetserver\\/3adddd1658906b22aee092f05eeb7474fa7ba7b4-bulma_confined.min.css\"}],\"type\":\"async_block\"},\"id\":\"6187409947775397986\",\"handlers\":{\"options_js\":[\"(function (val){return (val!=this.model[\\\"options_js\\\"]()) ? (this.valueFromJulia[\\\"options_js\\\"]=true, this.model[\\\"options_js\\\"](val)) : undefined})\"],\"index\":[\"(function (val){return (val!=this.model[\\\"index\\\"]()) ? (this.valueFromJulia[\\\"index\\\"]=true, this.model[\\\"index\\\"](val)) : undefined})\"]},\"systemjs_options\":null,\"mount_callbacks\":[\"function () {\\n    var handler = (function (ko, koPunches) {\\n    ko.punches.enableAll();\\n    ko.bindingHandlers.numericValue = {\\n        init: function(element, valueAccessor, allBindings, data, context) {\\n            var stringified = ko.observable(ko.unwrap(valueAccessor()));\\n            stringified.subscribe(function(value) {\\n                var val = parseFloat(value);\\n                if (!isNaN(val)) {\\n                    valueAccessor()(val);\\n                }\\n            });\\n            valueAccessor().subscribe(function(value) {\\n                var str = JSON.stringify(value);\\n                if ((str == \\\"0\\\") && ([\\\"-0\\\", \\\"-0.\\\"].indexOf(stringified()) >= 0))\\n                     return;\\n                 if ([\\\"null\\\", \\\"\\\"].indexOf(str) >= 0)\\n                     return;\\n                stringified(str);\\n            });\\n            ko.applyBindingsToNode(\\n                element,\\n                {\\n                    value: stringified,\\n                    valueUpdate: allBindings.get('valueUpdate'),\\n                },\\n                context,\\n            );\\n        }\\n    };\\n    var json_data = {\\\"options_js\\\":WebIO.getval({\\\"name\\\":\\\"options_js\\\",\\\"scope\\\":\\\"6187409947775397986\\\",\\\"id\\\":\\\"13194127505694575580\\\",\\\"type\\\":\\\"observable\\\"}),\\\"index\\\":WebIO.getval({\\\"name\\\":\\\"index\\\",\\\"scope\\\":\\\"6187409947775397986\\\",\\\"id\\\":\\\"5408008006465122439\\\",\\\"type\\\":\\\"observable\\\"})};\\n    var self = this;\\n    function AppViewModel() {\\n        for (var key in json_data) {\\n            var el = json_data[key];\\n            this[key] = Array.isArray(el) ? ko.observableArray(el) : ko.observable(el);\\n        }\\n        [this[\\\"update\\\"]=function (val) {this.index(val)}]\\n        \\n        [this[\\\"options_js\\\"].subscribe((function (val){!(this.valueFromJulia[\\\"options_js\\\"]) ? (WebIO.setval({\\\"name\\\":\\\"options_js\\\",\\\"scope\\\":\\\"6187409947775397986\\\",\\\"id\\\":\\\"13194127505694575580\\\",\\\"type\\\":\\\"observable\\\"},val)) : undefined; return this.valueFromJulia[\\\"options_js\\\"]=false}),self),this[\\\"index\\\"].subscribe((function (val){!(this.valueFromJulia[\\\"index\\\"]) ? (WebIO.setval({\\\"name\\\":\\\"index\\\",\\\"scope\\\":\\\"6187409947775397986\\\",\\\"id\\\":\\\"5408008006465122439\\\",\\\"type\\\":\\\"observable\\\"},val)) : undefined; return this.valueFromJulia[\\\"index\\\"]=false}),self)]\\n        \\n    }\\n    self.model = new AppViewModel();\\n    self.valueFromJulia = {};\\n    for (var key in json_data) {\\n        self.valueFromJulia[key] = false;\\n    }\\n    ko.applyBindings(self.model, self.dom);\\n}\\n);\\n    (WebIO.importBlock({\\\"data\\\":[{\\\"name\\\":\\\"knockout\\\",\\\"type\\\":\\\"js\\\",\\\"url\\\":\\\"\\/assetserver\\/c7e9525c60334db1a679535c544de0605a206866-knockout.js\\\"},{\\\"name\\\":\\\"knockout_punches\\\",\\\"type\\\":\\\"js\\\",\\\"url\\\":\\\"\\/assetserver\\/25d986356c2356e73454f2b9198affa4b0e07e2e-knockout_punches.js\\\"}],\\\"type\\\":\\\"async_block\\\"})).then((imports) => handler.apply(this, imports));\\n}\\n\"],\"observables\":{\"options_js\":{\"sync\":false,\"id\":\"13194127505694575580\",\"value\":[{\"key\":\"equidistant\",\"val\":1,\"id\":\"idOPpgyCY4\"},{\"key\":\"Chebyshev\",\"val\":2,\"id\":\"idwb5zvLVl\"}]},\"index\":{\"sync\":true,\"id\":\"5408008006465122439\",\"value\":1}}},\"children\":[{\"props\":{\"className\":\"interact-flex-row interact-widget\"},\"nodeType\":\"DOM\",\"type\":\"node\",\"instanceArgs\":{\"namespace\":\"html\",\"tag\":\"div\"},\"children\":[{\"props\":{\"className\":\"interact-flex-row-left\"},\"nodeType\":\"DOM\",\"type\":\"node\",\"instanceArgs\":{\"namespace\":\"html\",\"tag\":\"div\"},\"children\":[{\"props\":{\"className\":\"interact \",\"style\":{\"padding\":\"5px 10px 0px 10px\"}},\"nodeType\":\"DOM\",\"type\":\"node\",\"instanceArgs\":{\"namespace\":\"html\",\"tag\":\"label\"},\"children\":[\"knots\"]}]},{\"props\":{\"className\":\"interact-flex-row-center\"},\"nodeType\":\"DOM\",\"type\":\"node\",\"instanceArgs\":{\"namespace\":\"html\",\"tag\":\"div\"},\"children\":[{\"props\":{\"attributes\":{\"data-bind\":\"foreach : options_js\"},\"className\":\"buttons has-addons is-centered\"},\"nodeType\":\"DOM\",\"type\":\"node\",\"instanceArgs\":{\"namespace\":\"html\",\"tag\":\"div\"},\"children\":[{\"props\":{\"attributes\":{\"data-bind\":\"click: function (){$root.update(val)}, css: {'is-primary is-selected' : $root.index() == val, 'interact-widget is-medium button ' : true}\"}},\"nodeType\":\"DOM\",\"type\":\"node\",\"instanceArgs\":{\"namespace\":\"html\",\"tag\":\"span\"},\"children\":[{\"props\":{\"attributes\":{\"data-bind\":\"text : key\"}},\"nodeType\":\"DOM\",\"type\":\"node\",\"instanceArgs\":{\"namespace\":\"html\",\"tag\":\"label\"},\"children\":[]}]}]}]},{\"props\":{\"className\":\"interact-flex-row-right\"},\"nodeType\":\"DOM\",\"type\":\"node\",\"instanceArgs\":{\"namespace\":\"html\",\"tag\":\"div\"},\"children\":[{\"props\":{},\"nodeType\":\"DOM\",\"type\":\"node\",\"instanceArgs\":{\"namespace\":\"html\",\"tag\":\"div\"},\"children\":[]}]}]}]}]},{\"props\":{\"className\":\"interact-widget\"},\"nodeType\":\"DOM\",\"type\":\"node\",\"instanceArgs\":{\"namespace\":\"html\",\"tag\":\"div\"},\"children\":[{\"props\":{},\"nodeType\":\"Scope\",\"type\":\"node\",\"instanceArgs\":{\"imports\":{\"data\":[{\"name\":\"knockout\",\"type\":\"js\",\"url\":\"\\/assetserver\\/c7e9525c60334db1a679535c544de0605a206866-knockout.js\"},{\"name\":\"knockout_punches\",\"type\":\"js\",\"url\":\"\\/assetserver\\/25d986356c2356e73454f2b9198affa4b0e07e2e-knockout_punches.js\"},{\"name\":null,\"type\":\"js\",\"url\":\"\\/assetserver\\/a371ad546c7103190b2a50e7b48d9321e4ff74ac-all.js\"},{\"name\":null,\"type\":\"css\",\"url\":\"\\/assetserver\\/5762da8363b7bdc341622051ef36e5d544811e67-style.css\"},{\"name\":null,\"type\":\"css\",\"url\":\"\\/assetserver\\/3adddd1658906b22aee092f05eeb7474fa7ba7b4-bulma_confined.min.css\"}],\"type\":\"async_block\"},\"id\":\"7790836811235525535\",\"handlers\":{\"options_js\":[\"(function (val){return (val!=this.model[\\\"options_js\\\"]()) ? (this.valueFromJulia[\\\"options_js\\\"]=true, this.model[\\\"options_js\\\"](val)) : undefined})\"],\"index\":[\"(function (val){return (val!=this.model[\\\"index\\\"]()) ? (this.valueFromJulia[\\\"index\\\"]=true, this.model[\\\"index\\\"](val)) : undefined})\"]},\"systemjs_options\":null,\"mount_callbacks\":[\"function () {\\n    var handler = (function (ko, koPunches) {\\n    ko.punches.enableAll();\\n    ko.bindingHandlers.numericValue = {\\n        init: function(element, valueAccessor, allBindings, data, context) {\\n            var stringified = ko.observable(ko.unwrap(valueAccessor()));\\n            stringified.subscribe(function(value) {\\n                var val = parseFloat(value);\\n                if (!isNaN(val)) {\\n                    valueAccessor()(val);\\n                }\\n            });\\n            valueAccessor().subscribe(function(value) {\\n                var str = JSON.stringify(value);\\n                if ((str == \\\"0\\\") && ([\\\"-0\\\", \\\"-0.\\\"].indexOf(stringified()) >= 0))\\n                     return;\\n                 if ([\\\"null\\\", \\\"\\\"].indexOf(str) >= 0)\\n                     return;\\n                stringified(str);\\n            });\\n            ko.applyBindingsToNode(\\n                element,\\n                {\\n                    value: stringified,\\n                    valueUpdate: allBindings.get('valueUpdate'),\\n                },\\n                context,\\n            );\\n        }\\n    };\\n    var json_data = {\\\"options_js\\\":WebIO.getval({\\\"name\\\":\\\"options_js\\\",\\\"scope\\\":\\\"7790836811235525535\\\",\\\"id\\\":\\\"7913276931992494113\\\",\\\"type\\\":\\\"observable\\\"}),\\\"index\\\":WebIO.getval({\\\"name\\\":\\\"index\\\",\\\"scope\\\":\\\"7790836811235525535\\\",\\\"id\\\":\\\"15555566178932693964\\\",\\\"type\\\":\\\"observable\\\"})};\\n    var self = this;\\n    function AppViewModel() {\\n        for (var key in json_data) {\\n            var el = json_data[key];\\n            this[key] = Array.isArray(el) ? ko.observableArray(el) : ko.observable(el);\\n        }\\n        [this[\\\"update\\\"]=function (val) {this.index(val)}]\\n        \\n        [this[\\\"options_js\\\"].subscribe((function (val){!(this.valueFromJulia[\\\"options_js\\\"]) ? (WebIO.setval({\\\"name\\\":\\\"options_js\\\",\\\"scope\\\":\\\"7790836811235525535\\\",\\\"id\\\":\\\"7913276931992494113\\\",\\\"type\\\":\\\"observable\\\"},val)) : undefined; return this.valueFromJulia[\\\"options_js\\\"]=false}),self),this[\\\"index\\\"].subscribe((function (val){!(this.valueFromJulia[\\\"index\\\"]) ? (WebIO.setval({\\\"name\\\":\\\"index\\\",\\\"scope\\\":\\\"7790836811235525535\\\",\\\"id\\\":\\\"15555566178932693964\\\",\\\"type\\\":\\\"observable\\\"},val)) : undefined; return this.valueFromJulia[\\\"index\\\"]=false}),self)]\\n        \\n    }\\n    self.model = new AppViewModel();\\n    self.valueFromJulia = {};\\n    for (var key in json_data) {\\n        self.valueFromJulia[key] = false;\\n    }\\n    ko.applyBindings(self.model, self.dom);\\n}\\n);\\n    (WebIO.importBlock({\\\"data\\\":[{\\\"name\\\":\\\"knockout\\\",\\\"type\\\":\\\"js\\\",\\\"url\\\":\\\"\\/assetserver\\/c7e9525c60334db1a679535c544de0605a206866-knockout.js\\\"},{\\\"name\\\":\\\"knockout_punches\\\",\\\"type\\\":\\\"js\\\",\\\"url\\\":\\\"\\/assetserver\\/25d986356c2356e73454f2b9198affa4b0e07e2e-knockout_punches.js\\\"}],\\\"type\\\":\\\"async_block\\\"})).then((imports) => handler.apply(this, imports));\\n}\\n\"],\"observables\":{\"options_js\":{\"sync\":false,\"id\":\"7913276931992494113\",\"value\":[{\"key\":\"clipped\",\"val\":1,\"id\":\"idnqK2TTv8\"},{\"key\":\"fill\",\"val\":2,\"id\":\"idMyUyZDtB\"}]},\"index\":{\"sync\":true,\"id\":\"15555566178932693964\",\"value\":1}}},\"children\":[{\"props\":{\"className\":\"interact-flex-row interact-widget\"},\"nodeType\":\"DOM\",\"type\":\"node\",\"instanceArgs\":{\"namespace\":\"html\",\"tag\":\"div\"},\"children\":[{\"props\":{\"className\":\"interact-flex-row-left\"},\"nodeType\":\"DOM\",\"type\":\"node\",\"instanceArgs\":{\"namespace\":\"html\",\"tag\":\"div\"},\"children\":[{\"props\":{\"className\":\"interact \",\"style\":{\"padding\":\"5px 10px 0px 10px\"}},\"nodeType\":\"DOM\",\"type\":\"node\",\"instanceArgs\":{\"namespace\":\"html\",\"tag\":\"label\"},\"children\":[\"clipped\"]}]},{\"props\":{\"className\":\"interact-flex-row-center\"},\"nodeType\":\"DOM\",\"type\":\"node\",\"instanceArgs\":{\"namespace\":\"html\",\"tag\":\"div\"},\"children\":[{\"props\":{\"attributes\":{\"data-bind\":\"foreach : options_js\"},\"className\":\"buttons has-addons is-centered\"},\"nodeType\":\"DOM\",\"type\":\"node\",\"instanceArgs\":{\"namespace\":\"html\",\"tag\":\"div\"},\"children\":[{\"props\":{\"attributes\":{\"data-bind\":\"click: function (){$root.update(val)}, css: {'is-primary is-selected' : $root.index() == val, 'interact-widget is-medium button ' : true}\"}},\"nodeType\":\"DOM\",\"type\":\"node\",\"instanceArgs\":{\"namespace\":\"html\",\"tag\":\"span\"},\"children\":[{\"props\":{\"attributes\":{\"data-bind\":\"text : key\"}},\"nodeType\":\"DOM\",\"type\":\"node\",\"instanceArgs\":{\"namespace\":\"html\",\"tag\":\"label\"},\"children\":[]}]}]}]},{\"props\":{\"className\":\"interact-flex-row-right\"},\"nodeType\":\"DOM\",\"type\":\"node\",\"instanceArgs\":{\"namespace\":\"html\",\"tag\":\"div\"},\"children\":[{\"props\":{},\"nodeType\":\"DOM\",\"type\":\"node\",\"instanceArgs\":{\"namespace\":\"html\",\"tag\":\"div\"},\"children\":[]}]}]}]}]},{\"props\":{},\"nodeType\":\"Scope\",\"type\":\"node\",\"instanceArgs\":{\"imports\":{\"data\":[],\"type\":\"async_block\"},\"id\":\"18079773832976988409\",\"handlers\":{},\"systemjs_options\":null,\"mount_callbacks\":[],\"observables\":{\"obs-node\":{\"sync\":false,\"id\":\"2809652169312356189\",\"value\":{\"props\":{\"className\":\"interact-flex-row interact-widget\"},\"nodeType\":\"DOM\",\"type\":\"node\",\"instanceArgs\":{\"namespace\":\"html\",\"tag\":\"div\"},\"children\":[{\"props\":{\"setInnerHtml\":\"<?xml version=\\\"1.0\\\" encoding=\\\"utf-8\\\"?>\\n<svg xmlns=\\\"http:\\/\\/www.w3.org\\/2000\\/svg\\\" xmlns:xlink=\\\"http:\\/\\/www.w3.org\\/1999\\/xlink\\\" width=\\\"600\\\" height=\\\"400\\\" viewBox=\\\"0 0 2400 1600\\\">\\n<defs>\\n  <clipPath id=\\\"clip940\\\">\\n    <rect x=\\\"0\\\" y=\\\"0\\\" width=\\\"2400\\\" height=\\\"1600\\\"\\/>\\n  <\\/clipPath>\\n<\\/defs>\\n<path clip-path=\\\"url(#clip940)\\\" d=\\\"\\nM0 1600 L2400 1600 L2400 0 L0 0  Z\\n  \\\" fill=\\\"#ffffff\\\" fill-rule=\\\"evenodd\\\" fill-opacity=\\\"1\\\"\\/>\\n<defs>\\n  <clipPath id=\\\"clip941\\\">\\n    <rect x=\\\"480\\\" y=\\\"0\\\" width=\\\"1681\\\" height=\\\"1600\\\"\\/>\\n  <\\/clipPath>\\n<\\/defs>\\n<path clip-path=\\\"url(#clip940)\\\" d=\\\"\\nM212.459 1423.18 L2352.76 1423.18 L2352.76 47.2441 L212.459 47.2441  Z\\n  \\\" fill=\\\"#ffffff\\\" fill-rule=\\\"evenodd\\\" fill-opacity=\\\"1\\\"\\/>\\n<defs>\\n  <clipPath id=\\\"clip942\\\">\\n    <rect x=\\\"212\\\" y=\\\"47\\\" width=\\\"2141\\\" height=\\\"1377\\\"\\/>\\n  <\\/clipPath>\\n<\\/defs>\\n<polyline clip-path=\\\"url(#clip942)\\\" style=\\\"stroke:#000000; stroke-linecap:butt; stroke-linejoin:round; stroke-width:2; stroke-opacity:0.1; fill:none\\\" points=\\\"\\n  273.033,1423.18 273.033,47.2441 \\n  \\\"\\/>\\n<polyline clip-path=\\\"url(#clip942)\\\" style=\\\"stroke:#000000; stroke-linecap:butt; stroke-linejoin:round; stroke-width:2; stroke-opacity:0.1; fill:none\\\" points=\\\"\\n  525.427,1423.18 525.427,47.2441 \\n  \\\"\\/>\\n<polyline clip-path=\\\"url(#clip942)\\\" style=\\\"stroke:#000000; stroke-linecap:butt; stroke-linejoin:round; stroke-width:2; stroke-opacity:0.1; fill:none\\\" points=\\\"\\n  777.82,1423.18 777.82,47.2441 \\n  \\\"\\/>\\n<polyline clip-path=\\\"url(#clip942)\\\" style=\\\"stroke:#000000; stroke-linecap:butt; stroke-linejoin:round; stroke-width:2; stroke-opacity:0.1; fill:none\\\" points=\\\"\\n  1030.21,1423.18 1030.21,47.2441 \\n  \\\"\\/>\\n<polyline clip-path=\\\"url(#clip942)\\\" style=\\\"stroke:#000000; stroke-linecap:butt; stroke-linejoin:round; stroke-width:2; stroke-opacity:0.1; fill:none\\\" points=\\\"\\n  1282.61,1423.18 1282.61,47.2441 \\n  \\\"\\/>\\n<polyline clip-path=\\\"url(#clip942)\\\" style=\\\"stroke:#000000; stroke-linecap:butt; stroke-linejoin:round; stroke-width:2; stroke-opacity:0.1; fill:none\\\" points=\\\"\\n  1535,1423.18 1535,47.2441 \\n  \\\"\\/>\\n<polyline clip-path=\\\"url(#clip942)\\\" style=\\\"stroke:#000000; stroke-linecap:butt; stroke-linejoin:round; stroke-width:2; stroke-opacity:0.1; fill:none\\\" points=\\\"\\n  1787.39,1423.18 1787.39,47.2441 \\n  \\\"\\/>\\n<polyline clip-path=\\\"url(#clip942)\\\" style=\\\"stroke:#000000; stroke-linecap:butt; stroke-linejoin:round; stroke-width:2; stroke-opacity:0.1; fill:none\\\" points=\\\"\\n  2039.79,1423.18 2039.79,47.2441 \\n  \\\"\\/>\\n<polyline clip-path=\\\"url(#clip942)\\\" style=\\\"stroke:#000000; stroke-linecap:butt; stroke-linejoin:round; stroke-width:2; stroke-opacity:0.1; fill:none\\\" points=\\\"\\n  2292.18,1423.18 2292.18,47.2441 \\n  \\\"\\/>\\n<polyline clip-path=\\\"url(#clip940)\\\" style=\\\"stroke:#000000; stroke-linecap:butt; stroke-linejoin:round; stroke-width:4; stroke-opacity:1; fill:none\\\" points=\\\"\\n  212.459,1423.18 2352.76,1423.18 \\n  \\\"\\/>\\n<polyline clip-path=\\\"url(#clip940)\\\" style=\\\"stroke:#000000; stroke-linecap:butt; stroke-linejoin:round; stroke-width:4; stroke-opacity:1; fill:none\\\" points=\\\"\\n  273.033,1423.18 273.033,1404.28 \\n  \\\"\\/>\\n<polyline clip-path=\\\"url(#clip940)\\\" style=\\\"stroke:#000000; stroke-linecap:butt; stroke-linejoin:round; stroke-width:4; stroke-opacity:1; fill:none\\\" points=\\\"\\n  525.427,1423.18 525.427,1404.28 \\n  \\\"\\/>\\n<polyline clip-path=\\\"url(#clip940)\\\" style=\\\"stroke:#000000; stroke-linecap:butt; stroke-linejoin:round; stroke-width:4; stroke-opacity:1; fill:none\\\" points=\\\"\\n  777.82,1423.18 777.82,1404.28 \\n  \\\"\\/>\\n<polyline clip-path=\\\"url(#clip940)\\\" style=\\\"stroke:#000000; stroke-linecap:butt; stroke-linejoin:round; stroke-width:4; stroke-opacity:1; fill:none\\\" points=\\\"\\n  1030.21,1423.18 1030.21,1404.28 \\n  \\\"\\/>\\n<polyline clip-path=\\\"url(#clip940)\\\" style=\\\"stroke:#000000; stroke-linecap:butt; stroke-linejoin:round; stroke-width:4; stroke-opacity:1; fill:none\\\" points=\\\"\\n  1282.61,1423.18 1282.61,1404.28 \\n  \\\"\\/>\\n<polyline clip-path=\\\"url(#clip940)\\\" style=\\\"stroke:#000000; stroke-linecap:butt; stroke-linejoin:round; stroke-width:4; stroke-opacity:1; fill:none\\\" points=\\\"\\n  1535,1423.18 1535,1404.28 \\n  \\\"\\/>\\n<polyline clip-path=\\\"url(#clip940)\\\" style=\\\"stroke:#000000; stroke-linecap:butt; stroke-linejoin:round; stroke-width:4; stroke-opacity:1; fill:none\\\" points=\\\"\\n  1787.39,1423.18 1787.39,1404.28 \\n  \\\"\\/>\\n<polyline clip-path=\\\"url(#clip940)\\\" style=\\\"stroke:#000000; stroke-linecap:butt; stroke-linejoin:round; stroke-width:4; stroke-opacity:1; fill:none\\\" points=\\\"\\n  2039.79,1423.18 2039.79,1404.28 \\n  \\\"\\/>\\n<polyline clip-path=\\\"url(#clip940)\\\" style=\\\"stroke:#000000; stroke-linecap:butt; stroke-linejoin:round; stroke-width:4; stroke-opacity:1; fill:none\\\" points=\\\"\\n  2292.18,1423.18 2292.18,1404.28 \\n  \\\"\\/>\\n<path clip-path=\\\"url(#clip940)\\\" d=\\\"M273.033 1454.1 Q269.422 1454.1 267.594 1457.66 Q265.788 1461.2 265.788 1468.33 Q265.788 1475.44 267.594 1479.01 Q269.422 1482.55 273.033 1482.55 Q276.668 1482.55 278.473 1479.01 Q280.302 1475.44 280.302 1468.33 Q280.302 1461.2 278.473 1457.66 Q276.668 1454.1 273.033 1454.1 M273.033 1450.39 Q278.843 1450.39 281.899 1455 Q284.978 1459.58 284.978 1468.33 Q284.978 1477.06 281.899 1481.67 Q278.843 1486.25 273.033 1486.25 Q267.223 1486.25 264.145 1481.67 Q261.089 1477.06 261.089 1468.33 Q261.089 1459.58 264.145 1455 Q267.223 1450.39 273.033 1450.39 Z\\\" fill=\\\"#000000\\\" fill-rule=\\\"evenodd\\\" fill-opacity=\\\"1\\\" \\/><path clip-path=\\\"url(#clip940)\\\" d=\\\"M490.277 1459.65 L515.114 1459.65 L515.114 1463.91 L511.851 1463.91 L511.851 1479.84 Q511.851 1481.51 512.406 1482.25 Q512.985 1482.96 514.258 1482.96 Q514.605 1482.96 515.114 1482.92 Q515.624 1482.85 515.786 1482.83 L515.786 1485.9 Q514.976 1486.2 514.119 1486.34 Q513.263 1486.48 512.406 1486.48 Q509.628 1486.48 508.564 1484.98 Q507.499 1483.45 507.499 1479.38 L507.499 1463.91 L497.939 1463.91 L497.939 1485.58 L493.587 1485.58 L493.587 1463.91 L490.277 1463.91 L490.277 1459.65 Z\\\" fill=\\\"#000000\\\" fill-rule=\\\"evenodd\\\" fill-opacity=\\\"1\\\" \\/><path clip-path=\\\"url(#clip940)\\\" d=\\\"M529.142 1451.02 L533.077 1451.02 L521.04 1489.98 L517.105 1489.98 L529.142 1451.02 Z\\\" fill=\\\"#000000\\\" fill-rule=\\\"evenodd\\\" fill-opacity=\\\"1\\\" \\/><path clip-path=\\\"url(#clip940)\\\" d=\\\"M550.994 1455.09 L539.188 1473.54 L550.994 1473.54 L550.994 1455.09 M549.767 1451.02 L555.647 1451.02 L555.647 1473.54 L560.577 1473.54 L560.577 1477.43 L555.647 1477.43 L555.647 1485.58 L550.994 1485.58 L550.994 1477.43 L535.392 1477.43 L535.392 1472.92 L549.767 1451.02 Z\\\" fill=\\\"#000000\\\" fill-rule=\\\"evenodd\\\" fill-opacity=\\\"1\\\" \\/><path clip-path=\\\"url(#clip940)\\\" d=\\\"M743.712 1459.65 L768.55 1459.65 L768.55 1463.91 L765.286 1463.91 L765.286 1479.84 Q765.286 1481.51 765.841 1482.25 Q766.42 1482.96 767.693 1482.96 Q768.04 1482.96 768.55 1482.92 Q769.059 1482.85 769.221 1482.83 L769.221 1485.9 Q768.411 1486.2 767.554 1486.34 Q766.698 1486.48 765.841 1486.48 Q763.064 1486.48 761.999 1484.98 Q760.934 1483.45 760.934 1479.38 L760.934 1463.91 L751.374 1463.91 L751.374 1485.58 L747.022 1485.58 L747.022 1463.91 L743.712 1463.91 L743.712 1459.65 Z\\\" fill=\\\"#000000\\\" fill-rule=\\\"evenodd\\\" fill-opacity=\\\"1\\\" \\/><path clip-path=\\\"url(#clip940)\\\" d=\\\"M782.577 1451.02 L786.512 1451.02 L774.475 1489.98 L770.54 1489.98 L782.577 1451.02 Z\\\" fill=\\\"#000000\\\" fill-rule=\\\"evenodd\\\" fill-opacity=\\\"1\\\" \\/><path clip-path=\\\"url(#clip940)\\\" d=\\\"M795.61 1481.64 L811.929 1481.64 L811.929 1485.58 L789.985 1485.58 L789.985 1481.64 Q792.647 1478.89 797.23 1474.26 Q801.836 1469.61 803.017 1468.27 Q805.262 1465.74 806.142 1464.01 Q807.045 1462.25 807.045 1460.56 Q807.045 1457.8 805.1 1456.07 Q803.179 1454.33 800.077 1454.33 Q797.878 1454.33 795.424 1455.09 Q792.994 1455.86 790.216 1457.41 L790.216 1452.69 Q793.04 1451.55 795.494 1450.97 Q797.948 1450.39 799.985 1450.39 Q805.355 1450.39 808.549 1453.08 Q811.744 1455.77 811.744 1460.26 Q811.744 1462.39 810.934 1464.31 Q810.147 1466.2 808.04 1468.8 Q807.461 1469.47 804.36 1472.69 Q801.258 1475.88 795.61 1481.64 Z\\\" fill=\\\"#000000\\\" fill-rule=\\\"evenodd\\\" fill-opacity=\\\"1\\\" \\/><path clip-path=\\\"url(#clip940)\\\" d=\\\"M996.557 1466.95 Q999.913 1467.66 1001.79 1469.93 Q1003.69 1472.2 1003.69 1475.53 Q1003.69 1480.65 1000.17 1483.45 Q996.649 1486.25 990.168 1486.25 Q987.992 1486.25 985.677 1485.81 Q983.385 1485.39 980.932 1484.54 L980.932 1480.02 Q982.876 1481.16 985.191 1481.74 Q987.506 1482.32 990.029 1482.32 Q994.427 1482.32 996.719 1480.58 Q999.033 1478.84 999.033 1475.53 Q999.033 1472.48 996.881 1470.77 Q994.751 1469.03 990.932 1469.03 L986.904 1469.03 L986.904 1465.19 L991.117 1465.19 Q994.566 1465.19 996.395 1463.82 Q998.223 1462.43 998.223 1459.84 Q998.223 1457.18 996.325 1455.77 Q994.45 1454.33 990.932 1454.33 Q989.01 1454.33 986.811 1454.75 Q984.612 1455.16 981.973 1456.04 L981.973 1451.88 Q984.635 1451.14 986.95 1450.77 Q989.288 1450.39 991.348 1450.39 Q996.672 1450.39 999.774 1452.83 Q1002.88 1455.23 1002.88 1459.35 Q1002.88 1462.22 1001.23 1464.21 Q999.589 1466.18 996.557 1466.95 Z\\\" fill=\\\"#000000\\\" fill-rule=\\\"evenodd\\\" fill-opacity=\\\"1\\\" \\/><path clip-path=\\\"url(#clip940)\\\" d=\\\"M1009.2 1459.65 L1034.03 1459.65 L1034.03 1463.91 L1030.77 1463.91 L1030.77 1479.84 Q1030.77 1481.51 1031.32 1482.25 Q1031.9 1482.96 1033.18 1482.96 Q1033.52 1482.96 1034.03 1482.92 Q1034.54 1482.85 1034.7 1482.83 L1034.7 1485.9 Q1033.89 1486.2 1033.04 1486.34 Q1032.18 1486.48 1031.32 1486.48 Q1028.55 1486.48 1027.48 1484.98 Q1026.42 1483.45 1026.42 1479.38 L1026.42 1463.91 L1016.86 1463.91 L1016.86 1485.58 L1012.51 1485.58 L1012.51 1463.91 L1009.2 1463.91 L1009.2 1459.65 Z\\\" fill=\\\"#000000\\\" fill-rule=\\\"evenodd\\\" fill-opacity=\\\"1\\\" \\/><path clip-path=\\\"url(#clip940)\\\" d=\\\"M1048.06 1451.02 L1052 1451.02 L1039.96 1489.98 L1036.02 1489.98 L1048.06 1451.02 Z\\\" fill=\\\"#000000\\\" fill-rule=\\\"evenodd\\\" fill-opacity=\\\"1\\\" \\/><path clip-path=\\\"url(#clip940)\\\" d=\\\"M1069.91 1455.09 L1058.11 1473.54 L1069.91 1473.54 L1069.91 1455.09 M1068.69 1451.02 L1074.57 1451.02 L1074.57 1473.54 L1079.5 1473.54 L1079.5 1477.43 L1074.57 1477.43 L1074.57 1485.58 L1069.91 1485.58 L1069.91 1477.43 L1054.31 1477.43 L1054.31 1472.92 L1068.69 1451.02 Z\\\" fill=\\\"#000000\\\" fill-rule=\\\"evenodd\\\" fill-opacity=\\\"1\\\" \\/><path clip-path=\\\"url(#clip940)\\\" d=\\\"M1269.85 1459.65 L1294.69 1459.65 L1294.69 1463.91 L1291.43 1463.91 L1291.43 1479.84 Q1291.43 1481.51 1291.98 1482.25 Q1292.56 1482.96 1293.83 1482.96 Q1294.18 1482.96 1294.69 1482.92 Q1295.2 1482.85 1295.36 1482.83 L1295.36 1485.9 Q1294.55 1486.2 1293.7 1486.34 Q1292.84 1486.48 1291.98 1486.48 Q1289.2 1486.48 1288.14 1484.98 Q1287.07 1483.45 1287.07 1479.38 L1287.07 1463.91 L1277.51 1463.91 L1277.51 1485.58 L1273.16 1485.58 L1273.16 1463.91 L1269.85 1463.91 L1269.85 1459.65 Z\\\" fill=\\\"#000000\\\" fill-rule=\\\"evenodd\\\" fill-opacity=\\\"1\\\" \\/><path clip-path=\\\"url(#clip940)\\\" d=\\\"M1487.2 1451.02 L1505.56 1451.02 L1505.56 1454.96 L1491.48 1454.96 L1491.48 1463.43 Q1492.5 1463.08 1493.52 1462.92 Q1494.54 1462.73 1495.56 1462.73 Q1501.34 1462.73 1504.72 1465.9 Q1508.1 1469.08 1508.1 1474.49 Q1508.1 1480.07 1504.63 1483.17 Q1501.16 1486.25 1494.84 1486.25 Q1492.66 1486.25 1490.39 1485.88 Q1488.15 1485.51 1485.74 1484.77 L1485.74 1480.07 Q1487.83 1481.2 1490.05 1481.76 Q1492.27 1482.32 1494.75 1482.32 Q1498.75 1482.32 1501.09 1480.21 Q1503.43 1478.1 1503.43 1474.49 Q1503.43 1470.88 1501.09 1468.77 Q1498.75 1466.67 1494.75 1466.67 Q1492.87 1466.67 1491 1467.08 Q1489.14 1467.5 1487.2 1468.38 L1487.2 1451.02 Z\\\" fill=\\\"#000000\\\" fill-rule=\\\"evenodd\\\" fill-opacity=\\\"1\\\" \\/><path clip-path=\\\"url(#clip940)\\\" d=\\\"M1513.96 1459.65 L1538.8 1459.65 L1538.8 1463.91 L1535.53 1463.91 L1535.53 1479.84 Q1535.53 1481.51 1536.09 1482.25 Q1536.67 1482.96 1537.94 1482.96 Q1538.29 1482.96 1538.8 1482.92 Q1539.31 1482.85 1539.47 1482.83 L1539.47 1485.9 Q1538.66 1486.2 1537.8 1486.34 Q1536.95 1486.48 1536.09 1486.48 Q1533.31 1486.48 1532.25 1484.98 Q1531.18 1483.45 1531.18 1479.38 L1531.18 1463.91 L1521.62 1463.91 L1521.62 1485.58 L1517.27 1485.58 L1517.27 1463.91 L1513.96 1463.91 L1513.96 1459.65 Z\\\" fill=\\\"#000000\\\" fill-rule=\\\"evenodd\\\" fill-opacity=\\\"1\\\" \\/><path clip-path=\\\"url(#clip940)\\\" d=\\\"M1552.82 1451.02 L1556.76 1451.02 L1544.72 1489.98 L1540.79 1489.98 L1552.82 1451.02 Z\\\" fill=\\\"#000000\\\" fill-rule=\\\"evenodd\\\" fill-opacity=\\\"1\\\" \\/><path clip-path=\\\"url(#clip940)\\\" d=\\\"M1574.68 1455.09 L1562.87 1473.54 L1574.68 1473.54 L1574.68 1455.09 M1573.45 1451.02 L1579.33 1451.02 L1579.33 1473.54 L1584.26 1473.54 L1584.26 1477.43 L1579.33 1477.43 L1579.33 1485.58 L1574.68 1485.58 L1574.68 1477.43 L1559.07 1477.43 L1559.07 1472.92 L1573.45 1451.02 Z\\\" fill=\\\"#000000\\\" fill-rule=\\\"evenodd\\\" fill-opacity=\\\"1\\\" \\/><path clip-path=\\\"url(#clip940)\\\" d=\\\"M1754.78 1466.95 Q1758.14 1467.66 1760.01 1469.93 Q1761.91 1472.2 1761.91 1475.53 Q1761.91 1480.65 1758.39 1483.45 Q1754.87 1486.25 1748.39 1486.25 Q1746.21 1486.25 1743.9 1485.81 Q1741.61 1485.39 1739.15 1484.54 L1739.15 1480.02 Q1741.1 1481.16 1743.41 1481.74 Q1745.73 1482.32 1748.25 1482.32 Q1752.65 1482.32 1754.94 1480.58 Q1757.26 1478.84 1757.26 1475.53 Q1757.26 1472.48 1755.1 1470.77 Q1752.97 1469.03 1749.15 1469.03 L1745.13 1469.03 L1745.13 1465.19 L1749.34 1465.19 Q1752.79 1465.19 1754.62 1463.82 Q1756.45 1462.43 1756.45 1459.84 Q1756.45 1457.18 1754.55 1455.77 Q1752.67 1454.33 1749.15 1454.33 Q1747.23 1454.33 1745.03 1454.75 Q1742.83 1455.16 1740.2 1456.04 L1740.2 1451.88 Q1742.86 1451.14 1745.17 1450.77 Q1747.51 1450.39 1749.57 1450.39 Q1754.89 1450.39 1758 1452.83 Q1761.1 1455.23 1761.1 1459.35 Q1761.1 1462.22 1759.45 1464.21 Q1757.81 1466.18 1754.78 1466.95 Z\\\" fill=\\\"#000000\\\" fill-rule=\\\"evenodd\\\" fill-opacity=\\\"1\\\" \\/><path clip-path=\\\"url(#clip940)\\\" d=\\\"M1767.42 1459.65 L1792.26 1459.65 L1792.26 1463.91 L1788.99 1463.91 L1788.99 1479.84 Q1788.99 1481.51 1789.55 1482.25 Q1790.13 1482.96 1791.4 1482.96 Q1791.75 1482.96 1792.26 1482.92 Q1792.76 1482.85 1792.93 1482.83 L1792.93 1485.9 Q1792.12 1486.2 1791.26 1486.34 Q1790.4 1486.48 1789.55 1486.48 Q1786.77 1486.48 1785.7 1484.98 Q1784.64 1483.45 1784.64 1479.38 L1784.64 1463.91 L1775.08 1463.91 L1775.08 1485.58 L1770.73 1485.58 L1770.73 1463.91 L1767.42 1463.91 L1767.42 1459.65 Z\\\" fill=\\\"#000000\\\" fill-rule=\\\"evenodd\\\" fill-opacity=\\\"1\\\" \\/><path clip-path=\\\"url(#clip940)\\\" d=\\\"M1806.28 1451.02 L1810.22 1451.02 L1798.18 1489.98 L1794.25 1489.98 L1806.28 1451.02 Z\\\" fill=\\\"#000000\\\" fill-rule=\\\"evenodd\\\" fill-opacity=\\\"1\\\" \\/><path clip-path=\\\"url(#clip940)\\\" d=\\\"M1819.32 1481.64 L1835.63 1481.64 L1835.63 1485.58 L1813.69 1485.58 L1813.69 1481.64 Q1816.35 1478.89 1820.94 1474.26 Q1825.54 1469.61 1826.72 1468.27 Q1828.97 1465.74 1829.85 1464.01 Q1830.75 1462.25 1830.75 1460.56 Q1830.75 1457.8 1828.81 1456.07 Q1826.88 1454.33 1823.78 1454.33 Q1821.58 1454.33 1819.13 1455.09 Q1816.7 1455.86 1813.92 1457.41 L1813.92 1452.69 Q1816.75 1451.55 1819.2 1450.97 Q1821.65 1450.39 1823.69 1450.39 Q1829.06 1450.39 1832.26 1453.08 Q1835.45 1455.77 1835.45 1460.26 Q1835.45 1462.39 1834.64 1464.31 Q1833.85 1466.2 1831.75 1468.8 Q1831.17 1469.47 1828.07 1472.69 Q1824.96 1475.88 1819.32 1481.64 Z\\\" fill=\\\"#000000\\\" fill-rule=\\\"evenodd\\\" fill-opacity=\\\"1\\\" \\/><path clip-path=\\\"url(#clip940)\\\" d=\\\"M1990.64 1451.02 L2012.87 1451.02 L2012.87 1453.01 L2000.32 1485.58 L1995.44 1485.58 L2007.24 1454.96 L1990.64 1454.96 L1990.64 1451.02 Z\\\" fill=\\\"#000000\\\" fill-rule=\\\"evenodd\\\" fill-opacity=\\\"1\\\" \\/><path clip-path=\\\"url(#clip940)\\\" d=\\\"M2018.63 1459.65 L2043.47 1459.65 L2043.47 1463.91 L2040.2 1463.91 L2040.2 1479.84 Q2040.2 1481.51 2040.76 1482.25 Q2041.34 1482.96 2042.61 1482.96 Q2042.96 1482.96 2043.47 1482.92 Q2043.98 1482.85 2044.14 1482.83 L2044.14 1485.9 Q2043.33 1486.2 2042.47 1486.34 Q2041.62 1486.48 2040.76 1486.48 Q2037.98 1486.48 2036.92 1484.98 Q2035.85 1483.45 2035.85 1479.38 L2035.85 1463.91 L2026.29 1463.91 L2026.29 1485.58 L2021.94 1485.58 L2021.94 1463.91 L2018.63 1463.91 L2018.63 1459.65 Z\\\" fill=\\\"#000000\\\" fill-rule=\\\"evenodd\\\" fill-opacity=\\\"1\\\" \\/><path clip-path=\\\"url(#clip940)\\\" d=\\\"M2057.5 1451.02 L2061.43 1451.02 L2049.39 1489.98 L2045.46 1489.98 L2057.5 1451.02 Z\\\" fill=\\\"#000000\\\" fill-rule=\\\"evenodd\\\" fill-opacity=\\\"1\\\" \\/><path clip-path=\\\"url(#clip940)\\\" d=\\\"M2079.35 1455.09 L2067.54 1473.54 L2079.35 1473.54 L2079.35 1455.09 M2078.12 1451.02 L2084 1451.02 L2084 1473.54 L2088.93 1473.54 L2088.93 1477.43 L2084 1477.43 L2084 1485.58 L2079.35 1485.58 L2079.35 1477.43 L2063.75 1477.43 L2063.75 1472.92 L2078.12 1451.02 Z\\\" fill=\\\"#000000\\\" fill-rule=\\\"evenodd\\\" fill-opacity=\\\"1\\\" \\/><path clip-path=\\\"url(#clip940)\\\" d=\\\"M2270.85 1481.64 L2287.17 1481.64 L2287.17 1485.58 L2265.23 1485.58 L2265.23 1481.64 Q2267.89 1478.89 2272.47 1474.26 Q2277.08 1469.61 2278.26 1468.27 Q2280.5 1465.74 2281.38 1464.01 Q2282.29 1462.25 2282.29 1460.56 Q2282.29 1457.8 2280.34 1456.07 Q2278.42 1454.33 2275.32 1454.33 Q2273.12 1454.33 2270.67 1455.09 Q2268.23 1455.86 2265.46 1457.41 L2265.46 1452.69 Q2268.28 1451.55 2270.73 1450.97 Q2273.19 1450.39 2275.23 1450.39 Q2280.6 1450.39 2283.79 1453.08 Q2286.98 1455.77 2286.98 1460.26 Q2286.98 1462.39 2286.17 1464.31 Q2285.39 1466.2 2283.28 1468.8 Q2282.7 1469.47 2279.6 1472.69 Q2276.5 1475.88 2270.85 1481.64 Z\\\" fill=\\\"#000000\\\" fill-rule=\\\"evenodd\\\" fill-opacity=\\\"1\\\" \\/><path clip-path=\\\"url(#clip940)\\\" d=\\\"M2293.63 1459.65 L2318.47 1459.65 L2318.47 1463.91 L2315.2 1463.91 L2315.2 1479.84 Q2315.2 1481.51 2315.76 1482.25 Q2316.34 1482.96 2317.61 1482.96 Q2317.96 1482.96 2318.47 1482.92 Q2318.98 1482.85 2319.14 1482.83 L2319.14 1485.9 Q2318.33 1486.2 2317.47 1486.34 Q2316.61 1486.48 2315.76 1486.48 Q2312.98 1486.48 2311.92 1484.98 Q2310.85 1483.45 2310.85 1479.38 L2310.85 1463.91 L2301.29 1463.91 L2301.29 1485.58 L2296.94 1485.58 L2296.94 1463.91 L2293.63 1463.91 L2293.63 1459.65 Z\\\" fill=\\\"#000000\\\" fill-rule=\\\"evenodd\\\" fill-opacity=\\\"1\\\" \\/><path clip-path=\\\"url(#clip940)\\\" d=\\\"M1296.78 1545.44 Q1296.78 1547.24 1295.65 1548.27 Q1294.53 1549.27 1293.24 1549.27 Q1292.01 1549.27 1291.37 1548.56 Q1290.73 1547.85 1290.73 1546.95 Q1290.73 1545.73 1291.63 1544.66 Q1292.53 1543.6 1293.88 1543.37 Q1292.56 1542.54 1290.6 1542.54 Q1289.31 1542.54 1288.18 1543.21 Q1287.09 1543.89 1286.41 1544.76 Q1285.77 1545.63 1285.19 1546.88 Q1284.64 1548.11 1284.41 1548.85 Q1284.22 1549.56 1284.06 1550.33 L1281.81 1559.35 Q1280.71 1563.63 1280.71 1565.15 Q1280.71 1567.01 1281.61 1568.27 Q1282.51 1569.49 1284.32 1569.49 Q1285.03 1569.49 1285.83 1569.3 Q1286.64 1569.07 1287.67 1568.5 Q1288.73 1567.88 1289.66 1566.98 Q1290.63 1566.05 1291.56 1564.47 Q1292.5 1562.89 1293.11 1560.86 Q1293.3 1560.15 1293.95 1560.15 Q1294.75 1560.15 1294.75 1560.8 Q1294.75 1561.35 1294.3 1562.5 Q1293.88 1563.63 1292.95 1565.11 Q1292.05 1566.56 1290.85 1567.88 Q1289.66 1569.17 1287.89 1570.07 Q1286.12 1570.97 1284.19 1570.97 Q1281.42 1570.97 1279.58 1569.49 Q1277.75 1568.01 1277.07 1565.95 Q1276.91 1566.24 1276.68 1566.63 Q1276.46 1567.01 1275.78 1567.88 Q1275.14 1568.72 1274.4 1569.36 Q1273.66 1569.98 1272.5 1570.46 Q1271.37 1570.97 1270.15 1570.97 Q1268.6 1570.97 1267.22 1570.52 Q1265.86 1570.07 1264.9 1569.04 Q1263.93 1568.01 1263.93 1566.59 Q1263.93 1565.02 1264.99 1563.92 Q1266.09 1562.79 1267.57 1562.79 Q1268.5 1562.79 1269.24 1563.34 Q1270.02 1563.89 1270.02 1565.08 Q1270.02 1566.4 1269.12 1567.4 Q1268.21 1568.4 1266.93 1568.66 Q1268.25 1569.49 1270.21 1569.49 Q1272.34 1569.49 1274.01 1567.63 Q1275.69 1565.76 1276.49 1562.63 Q1278.49 1555.13 1279.26 1551.78 Q1280.03 1548.4 1280.03 1546.95 Q1280.03 1545.6 1279.68 1544.66 Q1279.33 1543.73 1278.71 1543.31 Q1278.13 1542.86 1277.59 1542.7 Q1277.07 1542.54 1276.49 1542.54 Q1275.52 1542.54 1274.43 1542.92 Q1273.37 1543.31 1272.08 1544.21 Q1270.82 1545.08 1269.63 1546.88 Q1268.44 1548.69 1267.63 1551.17 Q1267.47 1551.91 1266.76 1551.91 Q1265.99 1551.88 1265.99 1551.23 Q1265.99 1550.69 1266.41 1549.56 Q1266.86 1548.4 1267.76 1546.95 Q1268.7 1545.5 1269.89 1544.21 Q1271.11 1542.89 1272.88 1541.99 Q1274.69 1541.09 1276.62 1541.09 Q1277.49 1541.09 1278.33 1541.28 Q1279.2 1541.44 1280.23 1541.93 Q1281.29 1542.41 1282.22 1543.47 Q1283.16 1544.53 1283.74 1546.08 Q1284.12 1545.34 1284.64 1544.63 Q1285.19 1543.92 1286.02 1543.05 Q1286.89 1542.15 1288.09 1541.64 Q1289.31 1541.09 1290.66 1541.09 Q1291.98 1541.09 1293.27 1541.44 Q1294.56 1541.76 1295.65 1542.83 Q1296.78 1543.86 1296.78 1545.44 Z\\\" fill=\\\"#000000\\\" fill-rule=\\\"evenodd\\\" fill-opacity=\\\"1\\\" \\/><polyline clip-path=\\\"url(#clip942)\\\" style=\\\"stroke:#000000; stroke-linecap:butt; stroke-linejoin:round; stroke-width:2; stroke-opacity:0.1; fill:none\\\" points=\\\"\\n  212.459,1423.18 2352.76,1423.18 \\n  \\\"\\/>\\n<polyline clip-path=\\\"url(#clip942)\\\" style=\\\"stroke:#000000; stroke-linecap:butt; stroke-linejoin:round; stroke-width:2; stroke-opacity:0.1; fill:none\\\" points=\\\"\\n  212.459,1079.2 2352.76,1079.2 \\n  \\\"\\/>\\n<polyline clip-path=\\\"url(#clip942)\\\" style=\\\"stroke:#000000; stroke-linecap:butt; stroke-linejoin:round; stroke-width:2; stroke-opacity:0.1; fill:none\\\" points=\\\"\\n  212.459,735.212 2352.76,735.212 \\n  \\\"\\/>\\n<polyline clip-path=\\\"url(#clip942)\\\" style=\\\"stroke:#000000; stroke-linecap:butt; stroke-linejoin:round; stroke-width:2; stroke-opacity:0.1; fill:none\\\" points=\\\"\\n  212.459,391.228 2352.76,391.228 \\n  \\\"\\/>\\n<polyline clip-path=\\\"url(#clip942)\\\" style=\\\"stroke:#000000; stroke-linecap:butt; stroke-linejoin:round; stroke-width:2; stroke-opacity:0.1; fill:none\\\" points=\\\"\\n  212.459,47.2441 2352.76,47.2441 \\n  \\\"\\/>\\n<polyline clip-path=\\\"url(#clip940)\\\" style=\\\"stroke:#000000; stroke-linecap:butt; stroke-linejoin:round; stroke-width:4; stroke-opacity:1; fill:none\\\" points=\\\"\\n  212.459,1423.18 212.459,47.2441 \\n  \\\"\\/>\\n<polyline clip-path=\\\"url(#clip940)\\\" style=\\\"stroke:#000000; stroke-linecap:butt; stroke-linejoin:round; stroke-width:4; stroke-opacity:1; fill:none\\\" points=\\\"\\n  212.459,1423.18 231.357,1423.18 \\n  \\\"\\/>\\n<polyline clip-path=\\\"url(#clip940)\\\" style=\\\"stroke:#000000; stroke-linecap:butt; stroke-linejoin:round; stroke-width:4; stroke-opacity:1; fill:none\\\" points=\\\"\\n  212.459,1079.2 231.357,1079.2 \\n  \\\"\\/>\\n<polyline clip-path=\\\"url(#clip940)\\\" style=\\\"stroke:#000000; stroke-linecap:butt; stroke-linejoin:round; stroke-width:4; stroke-opacity:1; fill:none\\\" points=\\\"\\n  212.459,735.212 231.357,735.212 \\n  \\\"\\/>\\n<polyline clip-path=\\\"url(#clip940)\\\" style=\\\"stroke:#000000; stroke-linecap:butt; stroke-linejoin:round; stroke-width:4; stroke-opacity:1; fill:none\\\" points=\\\"\\n  212.459,391.228 231.357,391.228 \\n  \\\"\\/>\\n<polyline clip-path=\\\"url(#clip940)\\\" style=\\\"stroke:#000000; stroke-linecap:butt; stroke-linejoin:round; stroke-width:4; stroke-opacity:1; fill:none\\\" points=\\\"\\n  212.459,47.2441 231.357,47.2441 \\n  \\\"\\/>\\n<path clip-path=\\\"url(#clip940)\\\" d=\\\"M114.26 1423.63 L143.936 1423.63 L143.936 1427.57 L114.26 1427.57 L114.26 1423.63 Z\\\" fill=\\\"#000000\\\" fill-rule=\\\"evenodd\\\" fill-opacity=\\\"1\\\" \\/><path clip-path=\\\"url(#clip940)\\\" d=\\\"M166.876 1409.97 L155.07 1428.42 L166.876 1428.42 L166.876 1409.97 M165.649 1405.9 L171.528 1405.9 L171.528 1428.42 L176.459 1428.42 L176.459 1432.31 L171.528 1432.31 L171.528 1440.46 L166.876 1440.46 L166.876 1432.31 L151.274 1432.31 L151.274 1427.8 L165.649 1405.9 Z\\\" fill=\\\"#000000\\\" fill-rule=\\\"evenodd\\\" fill-opacity=\\\"1\\\" \\/><path clip-path=\\\"url(#clip940)\\\" d=\\\"M116.343 1079.65 L146.019 1079.65 L146.019 1083.58 L116.343 1083.58 L116.343 1079.65 Z\\\" fill=\\\"#000000\\\" fill-rule=\\\"evenodd\\\" fill-opacity=\\\"1\\\" \\/><path clip-path=\\\"url(#clip940)\\\" d=\\\"M160.14 1092.54 L176.459 1092.54 L176.459 1096.48 L154.515 1096.48 L154.515 1092.54 Q157.177 1089.79 161.76 1085.16 Q166.366 1080.5 167.547 1079.16 Q169.792 1076.64 170.672 1074.9 Q171.575 1073.14 171.575 1071.45 Q171.575 1068.7 169.63 1066.96 Q167.709 1065.23 164.607 1065.23 Q162.408 1065.23 159.954 1065.99 Q157.524 1066.75 154.746 1068.3 L154.746 1063.58 Q157.57 1062.45 160.024 1061.87 Q162.477 1061.29 164.515 1061.29 Q169.885 1061.29 173.079 1063.98 Q176.274 1066.66 176.274 1071.15 Q176.274 1073.28 175.464 1075.2 Q174.677 1077.1 172.57 1079.69 Q171.991 1080.36 168.889 1083.58 Q165.788 1086.78 160.14 1092.54 Z\\\" fill=\\\"#000000\\\" fill-rule=\\\"evenodd\\\" fill-opacity=\\\"1\\\" \\/><path clip-path=\\\"url(#clip940)\\\" d=\\\"M164.515 721.011 Q160.903 721.011 159.075 724.575 Q157.269 728.117 157.269 735.247 Q157.269 742.353 159.075 745.918 Q160.903 749.46 164.515 749.46 Q168.149 749.46 169.954 745.918 Q171.783 742.353 171.783 735.247 Q171.783 728.117 169.954 724.575 Q168.149 721.011 164.515 721.011 M164.515 717.307 Q170.325 717.307 173.38 721.913 Q176.459 726.497 176.459 735.247 Q176.459 743.973 173.38 748.58 Q170.325 753.163 164.515 753.163 Q158.704 753.163 155.626 748.58 Q152.57 743.973 152.57 735.247 Q152.57 726.497 155.626 721.913 Q158.704 717.307 164.515 717.307 Z\\\" fill=\\\"#000000\\\" fill-rule=\\\"evenodd\\\" fill-opacity=\\\"1\\\" \\/><path clip-path=\\\"url(#clip940)\\\" d=\\\"M160.14 404.573 L176.459 404.573 L176.459 408.508 L154.515 408.508 L154.515 404.573 Q157.177 401.818 161.76 397.189 Q166.366 392.536 167.547 391.193 Q169.792 388.67 170.672 386.934 Q171.575 385.175 171.575 383.485 Q171.575 380.73 169.63 378.994 Q167.709 377.258 164.607 377.258 Q162.408 377.258 159.954 378.022 Q157.524 378.786 154.746 380.337 L154.746 375.615 Q157.57 374.48 160.024 373.902 Q162.477 373.323 164.515 373.323 Q169.885 373.323 173.079 376.008 Q176.274 378.693 176.274 383.184 Q176.274 385.314 175.464 387.235 Q174.677 389.133 172.57 391.726 Q171.991 392.397 168.889 395.615 Q165.788 398.809 160.14 404.573 Z\\\" fill=\\\"#000000\\\" fill-rule=\\\"evenodd\\\" fill-opacity=\\\"1\\\" \\/><path clip-path=\\\"url(#clip940)\\\" d=\\\"M166.876 34.0381 L155.07 52.4871 L166.876 52.4871 L166.876 34.0381 M165.649 29.9641 L171.528 29.9641 L171.528 52.4871 L176.459 52.4871 L176.459 56.376 L171.528 56.376 L171.528 64.5241 L166.876 64.5241 L166.876 56.376 L151.274 56.376 L151.274 51.8621 L165.649 29.9641 Z\\\" fill=\\\"#000000\\\" fill-rule=\\\"evenodd\\\" fill-opacity=\\\"1\\\" \\/><path clip-path=\\\"url(#clip940)\\\" d=\\\"M49.8451 764.087 Q54.5472 764.087 59.0882 766.471 Q63.6292 768.822 66.4311 772.525 Q69.2008 776.229 69.2008 779.997 Q69.2008 782.252 67.977 783.765 Q66.721 785.247 64.9497 786.052 Q67.1397 786.664 72.3892 787.984 Q77.6388 789.305 78.1541 789.305 Q78.4439 789.305 78.5727 789.24 Q78.7016 789.176 78.8626 788.886 Q79.0558 788.596 79.1202 787.888 Q79.2169 787.179 79.2169 785.987 Q79.2169 785.375 79.2169 785.15 Q79.2491 784.892 79.4101 784.667 Q79.5711 784.409 79.9254 784.409 Q81.2458 784.409 81.2458 785.601 Q81.2458 786.664 81.1492 788.854 Q81.0526 791.044 81.0526 792.139 Q81.0526 793.073 81.1492 794.941 Q81.2458 796.809 81.2458 797.678 Q81.2458 798.548 80.4729 798.548 Q80.022 798.548 79.7321 798.419 Q79.4745 798.322 79.3457 798.065 Q79.2491 797.807 79.2169 797.581 Q79.2169 797.388 79.2169 797.002 Q79.2169 795.52 78.9592 794.876 Q78.7338 794.232 78.2507 794.007 Q77.7998 793.749 76.5116 793.459 L47.1398 786.052 Q45.1753 785.601 43.7904 785.601 Q42.0513 785.601 41.4072 786.148 Q40.7631 786.696 40.7631 787.662 Q40.7631 789.337 42.7598 790.432 Q44.7566 791.527 48.6213 792.461 Q49.6841 792.751 49.9095 792.944 Q50.135 793.105 50.135 793.588 Q50.1028 794.393 49.4586 794.393 Q49.2976 794.393 48.267 794.135 Q47.2042 793.878 45.6583 793.395 Q44.0803 792.879 43.0819 792.332 Q42.4056 792.01 41.9547 791.72 Q41.5038 791.43 40.7953 790.85 Q40.0867 790.239 39.7003 789.369 Q39.3138 788.499 39.3138 787.437 Q39.3138 785.375 40.5376 783.669 Q41.7614 781.962 44.2413 781.511 Q42.0835 779.675 40.6986 777.421 Q39.3138 775.166 39.3138 772.88 Q39.3138 769.079 42.2767 766.599 Q45.2075 764.087 49.8451 764.087 M46.9466 768.854 Q44.0158 768.854 42.4056 769.981 Q40.7631 771.076 40.7631 773.073 Q40.7631 775.553 43.2751 778.419 Q45.6583 781.253 47.8805 781.833 L60.7951 785.086 L61.8579 785.279 Q62.0511 785.279 62.6308 785.182 Q63.1783 785.053 64.0801 784.699 Q64.9819 784.313 65.787 783.797 Q66.5599 783.25 67.1397 782.284 Q67.7194 781.285 67.7194 780.062 Q67.7194 778.097 65.9802 775.971 Q64.2411 773.814 60.9561 772.203 Q58.8305 771.205 54.2573 770.045 Q49.6519 768.854 46.9466 768.854 Z\\\" fill=\\\"#000000\\\" fill-rule=\\\"evenodd\\\" fill-opacity=\\\"1\\\" \\/><path clip-path=\\\"url(#clip940)\\\" d=\\\"M51.9707 756.716 Q40.8275 756.716 31.842 752.562 Q28.0739 750.79 24.9178 748.31 Q21.7616 745.831 20.3767 744.188 Q18.9919 742.546 18.9919 742.095 Q18.9919 741.451 19.636 741.418 Q19.9581 741.418 20.7632 742.288 Q31.5844 752.916 51.9707 752.884 Q72.4214 752.884 82.8239 742.546 Q83.9511 741.418 84.3054 741.418 Q84.9495 741.418 84.9495 742.095 Q84.9495 742.546 83.6291 744.124 Q82.3086 745.702 79.2813 748.149 Q76.2539 750.597 72.5502 752.368 Q63.5648 756.716 51.9707 756.716 Z\\\" fill=\\\"#000000\\\" fill-rule=\\\"evenodd\\\" fill-opacity=\\\"1\\\" \\/><path clip-path=\\\"url(#clip940)\\\" d=\\\"M43.6616 703.555 Q45.4651 703.555 46.4957 704.682 Q47.4941 705.809 47.4941 707.097 Q47.4941 708.321 46.7856 708.965 Q46.077 709.61 45.1753 709.61 Q43.9514 709.61 42.8886 708.708 Q41.8258 707.806 41.6004 706.453 Q40.7631 707.774 40.7631 709.738 Q40.7631 711.027 41.4394 712.154 Q42.1157 713.249 42.9853 713.925 Q43.8548 714.569 45.1108 715.149 Q46.3347 715.696 47.0754 715.922 Q47.7839 716.115 48.5569 716.276 L57.5745 718.531 Q61.8579 719.626 63.3716 719.626 Q65.2395 719.626 66.4955 718.724 Q67.7194 717.822 67.7194 716.018 Q67.7194 715.31 67.5261 714.505 Q67.3007 713.7 66.721 712.669 Q66.1091 711.606 65.2073 710.672 Q64.2733 709.706 62.6952 708.772 Q61.1172 707.838 59.0882 707.226 Q58.3797 707.033 58.3797 706.389 Q58.3797 705.584 59.0238 705.584 Q59.5713 705.584 60.7307 706.035 Q61.8579 706.453 63.3394 707.387 Q64.7886 708.289 66.1091 709.481 Q67.3973 710.672 68.2991 712.444 Q69.2008 714.215 69.2008 716.147 Q69.2008 718.917 67.7194 720.753 Q66.2379 722.588 64.1767 723.265 Q64.4666 723.426 64.853 723.651 Q65.2395 723.877 66.1091 724.553 Q66.9464 725.197 67.5905 725.938 Q68.2024 726.679 68.6855 727.838 Q69.2008 728.965 69.2008 730.189 Q69.2008 731.735 68.7499 733.12 Q68.2991 734.472 67.2685 735.439 Q66.2379 736.405 64.8208 736.405 Q63.2427 736.405 62.1477 735.342 Q61.0205 734.247 61.0205 732.766 Q61.0205 731.832 61.568 731.091 Q62.1155 730.318 63.3072 730.318 Q64.6276 730.318 65.626 731.22 Q66.6244 732.121 66.882 733.41 Q67.7194 732.089 67.7194 730.125 Q67.7194 727.999 65.8514 726.324 Q63.9835 724.65 60.8595 723.845 Q53.3555 721.848 50.0061 721.075 Q46.6245 720.302 45.1753 720.302 Q43.8226 720.302 42.8886 720.656 Q41.9547 721.01 41.536 721.622 Q41.0851 722.202 40.9241 722.75 Q40.7631 723.265 40.7631 723.845 Q40.7631 724.811 41.1495 725.906 Q41.536 726.968 42.4378 728.257 Q43.3073 729.513 45.1108 730.704 Q46.9144 731.896 49.3942 732.701 Q50.135 732.862 50.135 733.571 Q50.1028 734.344 49.4586 734.344 Q48.9111 734.344 47.7839 733.925 Q46.6245 733.474 45.1753 732.572 Q43.726 731.638 42.4378 730.447 Q41.1173 729.223 40.2156 727.452 Q39.3138 725.648 39.3138 723.716 Q39.3138 722.846 39.507 722.009 Q39.6681 721.139 40.1511 720.109 Q40.6342 719.046 41.697 718.112 Q42.7598 717.178 44.3057 716.598 Q43.565 716.212 42.8564 715.696 Q42.1479 715.149 41.2783 714.312 Q40.3766 713.442 39.8613 712.25 Q39.3138 711.027 39.3138 709.674 Q39.3138 708.354 39.6681 707.065 Q39.9901 705.777 41.0529 704.682 Q42.0835 703.555 43.6616 703.555 Z\\\" fill=\\\"#000000\\\" fill-rule=\\\"evenodd\\\" fill-opacity=\\\"1\\\" \\/><path clip-path=\\\"url(#clip940)\\\" d=\\\"M84.3054 697.204 Q83.9833 697.204 83.1782 696.366 Q72.357 685.738 51.9707 685.738 Q31.52 685.738 21.1819 695.948 Q19.9903 697.204 19.636 697.204 Q18.9919 697.204 18.9919 696.56 Q18.9919 696.109 20.3123 694.531 Q21.6328 692.92 24.6601 690.505 Q27.6875 688.057 31.3911 686.254 Q40.3766 681.906 51.9707 681.906 Q63.1139 681.906 72.0994 686.06 Q75.8674 687.832 79.0236 690.312 Q82.1798 692.791 83.5646 694.434 Q84.9495 696.076 84.9495 696.56 Q84.9495 697.204 84.3054 697.204 Z\\\" fill=\\\"#000000\\\" fill-rule=\\\"evenodd\\\" fill-opacity=\\\"1\\\" \\/><polyline clip-path=\\\"url(#clip942)\\\" style=\\\"stroke:#009af9; stroke-linecap:butt; stroke-linejoin:round; stroke-width:8; stroke-opacity:1; fill:none\\\" points=\\\"\\n  273.033,735.211 275.055,926.638 277.076,1084.76 279.097,1213.41 281.118,1316.09 283.139,1395.96 285.16,1455.87 287.182,1498.42 289.203,1525.93 291.224,1540.51 \\n  293.245,1544.03 295.266,1538.19 297.287,1524.48 299.309,1504.26 301.33,1478.71 303.351,1448.9 305.372,1415.75 307.393,1380.09 309.414,1342.63 311.436,1304 \\n  313.457,1264.73 315.478,1225.29 317.499,1186.08 319.52,1147.43 321.541,1109.62 323.563,1072.88 325.584,1037.41 327.605,1003.35 329.626,970.809 331.647,939.879 \\n  333.668,910.616 335.69,883.055 337.711,857.21 339.732,833.078 341.753,810.643 343.774,789.874 345.795,770.731 347.817,753.165 349.838,737.119 351.859,722.531 \\n  353.88,709.336 355.901,697.464 357.922,686.843 359.944,677.401 361.965,669.064 363.986,661.759 366.007,655.413 368.028,649.956 370.049,645.317 372.071,641.429 \\n  374.092,638.226 376.113,635.646 378.134,633.628 380.155,632.115 382.176,631.053 384.198,630.389 386.219,630.075 388.24,630.066 390.261,630.319 392.282,630.795 \\n  394.303,631.456 396.325,632.27 398.346,633.204 400.367,634.231 402.388,635.325 404.409,636.461 406.431,637.62 408.452,638.781 410.473,639.929 412.494,641.049 \\n  414.515,642.127 416.536,643.153 418.558,644.117 420.579,645.011 422.6,645.828 424.621,646.563 426.642,647.213 428.663,647.773 430.685,648.243 432.706,648.621 \\n  434.727,648.906 436.748,649.1 438.769,649.202 440.79,649.216 442.812,649.143 444.833,648.985 446.854,648.747 448.875,648.43 450.896,648.039 452.917,647.576 \\n  454.939,647.047 456.96,646.456 458.981,645.805 461.002,645.1 463.023,644.344 465.044,643.542 467.066,642.697 469.087,641.814 471.108,640.897 473.129,639.949 \\n  475.15,638.974 477.171,637.976 479.193,636.958 481.214,635.924 483.235,634.876 485.256,633.817 487.277,632.75 489.298,631.678 491.32,630.604 493.341,629.529 \\n  495.362,628.455 497.383,627.385 499.404,626.32 501.425,625.262 503.447,624.212 505.468,623.172 507.489,622.143 509.51,621.125 511.531,620.12 513.552,619.129 \\n  515.574,618.151 517.595,617.188 519.616,616.24 521.637,615.307 523.658,614.39 525.68,613.488 527.701,612.602 529.722,611.731 531.743,610.877 533.764,610.037 \\n  535.785,609.213 537.807,608.404 539.828,607.609 541.849,606.829 543.87,606.063 545.891,605.31 547.912,604.571 549.934,603.844 551.955,603.13 553.976,602.428 \\n  555.997,601.737 558.018,601.057 560.039,600.388 562.061,599.729 564.082,599.08 566.103,598.44 568.124,597.808 570.145,597.185 572.166,596.57 574.188,595.963 \\n  576.209,595.363 578.23,594.77 580.251,594.184 582.272,593.604 584.293,593.029 586.315,592.461 588.336,591.898 590.357,591.34 592.378,590.788 594.399,590.24 \\n  596.42,589.697 598.442,589.158 600.463,588.624 602.484,588.094 604.505,587.569 606.526,587.047 608.547,586.53 610.569,586.017 612.59,585.507 614.611,585.002 \\n  616.632,584.501 618.653,584.003 620.674,583.51 622.696,583.021 624.717,582.536 626.738,582.055 628.759,581.578 630.78,581.106 632.801,580.638 634.823,580.175 \\n  636.844,579.716 638.865,579.261 640.886,578.812 642.907,578.367 644.928,577.928 646.95,577.493 648.971,577.064 650.992,576.64 653.013,576.221 655.034,575.808 \\n  657.056,575.4 659.077,574.998 661.098,574.602 663.119,574.212 665.14,573.827 667.161,573.449 669.183,573.077 671.204,572.711 673.225,572.352 675.246,571.999 \\n  677.267,571.652 679.288,571.312 681.31,570.979 683.331,570.652 685.352,570.333 687.373,570.019 689.394,569.713 691.415,569.414 693.437,569.121 695.458,568.836 \\n  697.479,568.558 699.5,568.286 701.521,568.022 703.542,567.765 705.564,567.515 707.585,567.272 709.606,567.036 711.627,566.807 713.648,566.585 715.669,566.371 \\n  717.691,566.164 719.712,565.963 721.733,565.77 723.754,565.584 725.775,565.406 727.796,565.234 729.818,565.07 731.839,564.912 733.86,564.762 735.881,564.618 \\n  737.902,564.482 739.923,564.353 741.945,564.231 743.966,564.116 745.987,564.007 748.008,563.906 750.029,563.812 752.05,563.724 754.072,563.644 756.093,563.57 \\n  758.114,563.503 760.135,563.444 762.156,563.391 764.177,563.344 766.199,563.305 768.22,563.272 770.241,563.247 772.262,563.227 774.283,563.215 776.304,563.21 \\n  778.326,563.211 780.347,563.219 782.368,563.233 784.389,563.254 786.41,563.282 788.432,563.317 790.453,563.358 792.474,563.406 794.495,563.461 796.516,563.522 \\n  798.537,563.59 800.559,563.665 802.58,563.746 804.601,563.834 806.622,563.929 808.643,564.03 810.664,564.138 812.686,564.252 814.707,564.374 816.728,564.501 \\n  818.749,564.636 820.77,564.777 822.791,564.925 824.813,565.079 826.834,565.24 828.855,565.408 830.876,565.582 832.897,565.763 834.918,565.95 836.94,566.144 \\n  838.961,566.345 840.982,566.553 843.003,566.767 845.024,566.987 847.045,567.215 849.067,567.449 851.088,567.689 853.109,567.936 855.13,568.19 857.151,568.45 \\n  859.172,568.717 861.194,568.991 863.215,569.271 865.236,569.558 867.257,569.851 869.278,570.151 871.299,570.458 873.321,570.77 875.342,571.09 877.363,571.416 \\n  879.384,571.748 881.405,572.087 883.426,572.433 885.448,572.785 887.469,573.143 889.49,573.508 891.511,573.879 893.532,574.257 895.553,574.641 897.575,575.032 \\n  899.596,575.428 901.617,575.831 903.638,576.241 905.659,576.657 907.68,577.079 909.702,577.507 911.723,577.941 913.744,578.382 915.765,578.829 917.786,579.282 \\n  919.808,579.742 921.829,580.207 923.85,580.679 925.871,581.156 927.892,581.64 929.913,582.13 931.935,582.626 933.956,583.128 935.977,583.635 937.998,584.149 \\n  940.019,584.669 942.04,585.195 944.062,585.726 946.083,586.264 948.104,586.807 950.125,587.356 952.146,587.911 954.167,588.472 956.189,589.038 958.21,589.611 \\n  960.231,590.189 962.252,590.772 964.273,591.362 966.294,591.957 968.316,592.558 970.337,593.164 972.358,593.776 974.379,594.393 976.4,595.016 978.421,595.645 \\n  980.443,596.279 982.464,596.918 984.485,597.563 986.506,598.214 988.527,598.869 990.548,599.53 992.57,600.197 994.591,600.869 996.612,601.546 998.633,602.229 \\n  1000.65,602.916 1002.68,603.609 1004.7,604.308 1006.72,605.011 1008.74,605.72 1010.76,606.433 1012.78,607.152 1014.8,607.876 1016.82,608.605 1018.84,609.339 \\n  1020.87,610.078 1022.89,610.823 1024.91,611.572 1026.93,612.326 1028.95,613.085 1030.97,613.848 1032.99,614.617 1035.01,615.391 1037.04,616.169 1039.06,616.952 \\n  1041.08,617.74 1043.1,618.532 1045.12,619.33 1047.14,620.132 1049.16,620.938 1051.18,621.749 1053.2,622.565 1055.23,623.385 1057.25,624.21 1059.27,625.039 \\n  1061.29,625.872 1063.31,626.71 1065.33,627.552 1067.35,628.399 1069.37,629.25 1071.4,630.105 1073.42,630.964 1075.44,631.828 1077.46,632.695 1079.48,633.567 \\n  1081.5,634.443 1083.52,635.323 1085.54,636.206 1087.56,637.094 1089.59,637.986 1091.61,638.881 1093.63,639.781 1095.65,640.684 1097.67,641.591 1099.69,642.501 \\n  1101.71,643.416 1103.73,644.334 1105.76,645.255 1107.78,646.18 1109.8,647.109 1111.82,648.041 1113.84,648.976 1115.86,649.915 1117.88,650.857 1119.9,651.802 \\n  1121.92,652.751 1123.95,653.703 1125.97,654.658 1127.99,655.616 1130.01,656.578 1132.03,657.542 1134.05,658.51 1136.07,659.48 1138.09,660.453 1140.11,661.43 \\n  1142.14,662.409 1144.16,663.39 1146.18,664.375 1148.2,665.362 1150.22,666.353 1152.24,667.345 1154.26,668.341 1156.28,669.338 1158.31,670.339 1160.33,671.342 \\n  1162.35,672.347 1164.37,673.355 1166.39,674.365 1168.41,675.377 1170.43,676.392 1172.45,677.409 1174.47,678.428 1176.5,679.45 1178.52,680.473 1180.54,681.499 \\n  1182.56,682.527 1184.58,683.557 1186.6,684.588 1188.62,685.622 1190.64,686.658 1192.67,687.695 1194.69,688.734 1196.71,689.776 1198.73,690.818 1200.75,691.863 \\n  1202.77,692.909 1204.79,693.957 1206.81,695.007 1208.83,696.058 1210.86,697.111 1212.88,698.165 1214.9,699.221 1216.92,700.278 1218.94,701.337 1220.96,702.397 \\n  1222.98,703.458 1225,704.52 1227.03,705.584 1229.05,706.649 1231.07,707.715 1233.09,708.783 1235.11,709.851 1237.13,710.92 1239.15,711.991 1241.17,713.062 \\n  1243.19,714.135 1245.22,715.208 1247.24,716.282 1249.26,717.357 1251.28,718.433 1253.3,719.509 1255.32,720.587 1257.34,721.665 1259.36,722.743 1261.39,723.822 \\n  1263.41,724.902 1265.43,725.982 1267.45,727.062 1269.47,728.143 1271.49,729.225 1273.51,730.306 1275.53,731.388 1277.55,732.47 1279.58,733.553 1281.6,734.635 \\n  1283.62,735.718 1285.64,736.801 1287.66,737.883 1289.68,738.966 1291.7,740.049 1293.72,741.131 1295.75,742.213 1297.77,743.295 1299.79,744.377 1301.81,745.459 \\n  1303.83,746.54 1305.85,747.621 1307.87,748.701 1309.89,749.781 1311.91,750.86 1313.94,751.939 1315.96,753.017 1317.98,754.094 1320,755.171 1322.02,756.247 \\n  1324.04,757.322 1326.06,758.396 1328.08,759.469 1330.1,760.541 1332.13,761.612 1334.15,762.683 1336.17,763.752 1338.19,764.82 1340.21,765.886 1342.23,766.952 \\n  1344.25,768.016 1346.27,769.079 1348.3,770.14 1350.32,771.2 1352.34,772.259 1354.36,773.316 1356.38,774.371 1358.4,775.425 1360.42,776.477 1362.44,777.527 \\n  1364.46,778.576 1366.49,779.623 1368.51,780.668 1370.53,781.711 1372.55,782.753 1374.57,783.792 1376.59,784.829 1378.61,785.864 1380.63,786.898 1382.66,787.929 \\n  1384.68,788.957 1386.7,789.984 1388.72,791.009 1390.74,792.031 1392.76,793.05 1394.78,794.068 1396.8,795.083 1398.82,796.095 1400.85,797.106 1402.87,798.113 \\n  1404.89,799.118 1406.91,800.121 1408.93,801.12 1410.95,802.117 1412.97,803.112 1414.99,804.104 1417.02,805.093 1419.04,806.079 1421.06,807.062 1423.08,808.042 \\n  1425.1,809.02 1427.12,809.994 1429.14,810.966 1431.16,811.935 1433.18,812.9 1435.21,813.863 1437.23,814.822 1439.25,815.778 1441.27,816.731 1443.29,817.681 \\n  1445.31,818.628 1447.33,819.571 1449.35,820.511 1451.38,821.447 1453.4,822.381 1455.42,823.31 1457.44,824.237 1459.46,825.16 1461.48,826.079 1463.5,826.995 \\n  1465.52,827.907 1467.54,828.816 1469.57,829.721 1471.59,830.622 1473.61,831.52 1475.63,832.414 1477.65,833.304 1479.67,834.19 1481.69,835.072 1483.71,835.951 \\n  1485.73,836.825 1487.76,837.696 1489.78,838.562 1491.8,839.425 1493.82,840.284 1495.84,841.138 1497.86,841.988 1499.88,842.834 1501.9,843.676 1503.93,844.514 \\n  1505.95,845.347 1507.97,846.176 1509.99,847.001 1512.01,847.821 1514.03,848.637 1516.05,849.449 1518.07,850.256 1520.09,851.058 1522.12,851.856 1524.14,852.649 \\n  1526.16,853.437 1528.18,854.221 1530.2,855 1532.22,855.775 1534.24,856.544 1536.26,857.309 1538.29,858.069 1540.31,858.824 1542.33,859.574 1544.35,860.319 \\n  1546.37,861.06 1548.39,861.795 1550.41,862.525 1552.43,863.25 1554.45,863.97 1556.48,864.684 1558.5,865.394 1560.52,866.098 1562.54,866.797 1564.56,867.491 \\n  1566.58,868.179 1568.6,868.862 1570.62,869.54 1572.65,870.212 1574.67,870.879 1576.69,871.541 1578.71,872.197 1580.73,872.847 1582.75,873.492 1584.77,874.132 \\n  1586.79,874.765 1588.81,875.394 1590.84,876.016 1592.86,876.633 1594.88,877.245 1596.9,877.85 1598.92,878.45 1600.94,879.044 1602.96,879.633 1604.98,880.216 \\n  1607.01,880.793 1609.03,881.364 1611.05,881.929 1613.07,882.489 1615.09,883.043 1617.11,883.591 1619.13,884.133 1621.15,884.669 1623.17,885.199 1625.2,885.724 \\n  1627.22,886.242 1629.24,886.755 1631.26,887.262 1633.28,887.762 1635.3,888.257 1637.32,888.746 1639.34,889.229 1641.36,889.706 1643.39,890.176 1645.41,890.641 \\n  1647.43,891.1 1649.45,891.553 1651.47,891.999 1653.49,892.44 1655.51,892.875 1657.53,893.303 1659.56,893.726 1661.58,894.142 1663.6,894.552 1665.62,894.956 \\n  1667.64,895.354 1669.66,895.746 1671.68,896.131 1673.7,896.511 1675.72,896.884 1677.75,897.251 1679.77,897.611 1681.79,897.966 1683.81,898.314 1685.83,898.655 \\n  1687.85,898.991 1689.87,899.32 1691.89,899.643 1693.92,899.959 1695.94,900.269 1697.96,900.573 1699.98,900.87 1702,901.16 1704.02,901.445 1706.04,901.722 \\n  1708.06,901.993 1710.08,902.258 1712.11,902.515 1714.13,902.767 1716.15,903.011 1718.17,903.249 1720.19,903.48 1722.21,903.705 1724.23,903.923 1726.25,904.133 \\n  1728.28,904.338 1730.3,904.535 1732.32,904.725 1734.34,904.909 1736.36,905.085 1738.38,905.255 1740.4,905.418 1742.42,905.574 1744.44,905.723 1746.47,905.864 \\n  1748.49,905.999 1750.51,906.127 1752.53,906.247 1754.55,906.361 1756.57,906.467 1758.59,906.567 1760.61,906.659 1762.64,906.744 1764.66,906.822 1766.68,906.893 \\n  1768.7,906.957 1770.72,907.013 1772.74,907.063 1774.76,907.105 1776.78,907.141 1778.8,907.169 1780.83,907.19 1782.85,907.204 1784.87,907.211 1786.89,907.21 \\n  1788.91,907.203 1790.93,907.189 1792.95,907.168 1794.97,907.14 1796.99,907.104 1799.02,907.062 1801.04,907.014 1803.06,906.958 1805.08,906.895 1807.1,906.826 \\n  1809.12,906.75 1811.14,906.667 1813.16,906.578 1815.19,906.482 1817.21,906.38 1819.23,906.271 1821.25,906.155 1823.27,906.034 1825.29,905.905 1827.31,905.771 \\n  1829.33,905.63 1831.35,905.483 1833.38,905.33 1835.4,905.171 1837.42,905.005 1839.44,904.834 1841.46,904.656 1843.48,904.473 1845.5,904.283 1847.52,904.088 \\n  1849.55,903.887 1851.57,903.68 1853.59,903.467 1855.61,903.248 1857.63,903.023 1859.65,902.793 1861.67,902.557 1863.69,902.315 1865.71,902.067 1867.74,901.814 \\n  1869.76,901.554 1871.78,901.289 1873.8,901.018 1875.82,900.741 1877.84,900.458 1879.86,900.169 1881.88,899.873 1883.91,899.572 1885.93,899.265 1887.95,898.951 \\n  1889.97,898.631 1891.99,898.305 1894.01,897.972 1896.03,897.632 1898.05,897.286 1900.07,896.933 1902.1,896.573 1904.12,896.206 1906.14,895.832 1908.16,895.451 \\n  1910.18,895.062 1912.2,894.666 1914.22,894.262 1916.24,893.85 1918.27,893.431 1920.29,893.003 1922.31,892.568 1924.33,892.124 1926.35,891.672 1928.37,891.211 \\n  1930.39,890.742 1932.41,890.264 1934.43,889.777 1936.46,889.282 1938.48,888.777 1940.5,888.264 1942.52,887.741 1944.54,887.21 1946.56,886.669 1948.58,886.12 \\n  1950.6,885.562 1952.63,884.994 1954.65,884.418 1956.67,883.833 1958.69,883.239 1960.71,882.636 1962.73,882.026 1964.75,881.407 1966.77,880.78 1968.79,880.145 \\n  1970.82,879.502 1972.84,878.853 1974.86,878.197 1976.88,877.534 1978.9,876.865 1980.92,876.19 1982.94,875.511 1984.96,874.826 1986.98,874.137 1989.01,873.445 \\n  1991.03,872.75 1993.05,872.052 1995.07,871.352 1997.09,870.651 1999.11,869.949 2001.13,869.248 2003.15,868.548 2005.18,867.849 2007.2,867.152 2009.22,866.459 \\n  2011.24,865.769 2013.26,865.084 2015.28,864.404 2017.3,863.73 2019.32,863.063 2021.34,862.403 2023.37,861.751 2025.39,861.108 2027.41,860.475 2029.43,859.85 \\n  2031.45,859.237 2033.47,858.633 2035.49,858.041 2037.51,857.46 2039.54,856.89 2041.56,856.332 2043.58,855.785 2045.6,855.249 2047.62,854.724 2049.64,854.21 \\n  2051.66,853.705 2053.68,853.209 2055.7,852.721 2057.73,852.24 2059.75,851.765 2061.77,851.295 2063.79,850.826 2065.81,850.359 2067.83,849.889 2069.85,849.416 \\n  2071.87,848.937 2073.9,848.448 2075.92,847.947 2077.94,847.431 2079.96,846.895 2081.98,846.336 2084,845.751 2086.02,845.134 2088.04,844.482 2090.06,843.789 \\n  2092.09,843.052 2094.11,842.263 2096.13,841.42 2098.15,840.515 2100.17,839.544 2102.19,838.5 2104.21,837.379 2106.23,836.173 2108.26,834.878 2110.28,833.488 \\n  2112.3,831.996 2114.32,830.398 2116.34,828.688 2118.36,826.861 2120.38,824.912 2122.4,822.836 2124.42,820.631 2126.45,818.292 2128.47,815.816 2130.49,813.203 \\n  2132.51,810.45 2134.53,807.557 2136.55,804.525 2138.57,801.357 2140.59,798.056 2142.61,794.626 2144.64,791.074 2146.66,787.407 2148.68,783.637 2150.7,779.774 \\n  2152.72,775.833 2154.74,771.831 2156.76,767.786 2158.78,763.72 2160.81,759.657 2162.83,755.624 2164.85,751.653 2166.87,747.776 2168.89,744.031 2170.91,740.458 \\n  2172.93,737.103 2174.95,734.012 2176.97,731.238 2179,728.838 2181.02,726.87 2183.04,725.4 2185.06,724.496 2187.08,724.229 2189.1,724.678 2191.12,725.92 \\n  2193.14,728.042 2195.17,731.13 2197.19,735.275 2199.21,740.571 2201.23,747.114 2203.25,755.004 2205.27,764.338 2207.29,775.219 2209.31,787.746 2211.33,802.019 \\n  2213.36,818.135 2215.38,836.188 2217.4,856.267 2219.42,878.455 2221.44,902.827 2223.46,929.447 2225.48,958.366 2227.5,989.624 2229.53,1023.24 2231.55,1059.21 \\n  2233.57,1097.51 2235.59,1138.08 2237.61,1180.85 2239.63,1225.68 2241.65,1272.42 2243.67,1320.84 2245.69,1370.7 2247.72,1421.65 2249.74,1473.31 2251.76,1525.2 \\n  2253.78,1576.79 2255.8,1627.41 2257.82,1676.33 2259.84,1722.68 2261.86,1765.46 2263.89,1803.55 2265.91,1835.67 2267.93,1860.37 2269.95,1876 2271.97,1880.72 \\n  2273.99,1872.48 2276.01,1848.97 2278.03,1807.63 2280.05,1745.58 2282.08,1659.66 2284.1,1546.35 2286.12,1401.77 2288.14,1221.62 2290.16,1001.17 2292.18,735.23 \\n  \\n  \\\"\\/>\\n<circle clip-path=\\\"url(#clip942)\\\" cx=\\\"273.033\\\" cy=\\\"735.211\\\" r=\\\"14\\\" fill=\\\"#e26f46\\\" fill-rule=\\\"evenodd\\\" fill-opacity=\\\"1\\\" stroke=\\\"#000000\\\" stroke-opacity=\\\"1\\\" stroke-width=\\\"3.2\\\"\\/>\\n<circle clip-path=\\\"url(#clip942)\\\" cx=\\\"357.165\\\" cy=\\\"690.684\\\" r=\\\"14\\\" fill=\\\"#e26f46\\\" fill-rule=\\\"evenodd\\\" fill-opacity=\\\"1\\\" stroke=\\\"#000000\\\" stroke-opacity=\\\"1\\\" stroke-width=\\\"3.2\\\"\\/>\\n<circle clip-path=\\\"url(#clip942)\\\" cx=\\\"441.296\\\" cy=\\\"649.206\\\" r=\\\"14\\\" fill=\\\"#e26f46\\\" fill-rule=\\\"evenodd\\\" fill-opacity=\\\"1\\\" stroke=\\\"#000000\\\" stroke-opacity=\\\"1\\\" stroke-width=\\\"3.2\\\"\\/>\\n<circle clip-path=\\\"url(#clip942)\\\" cx=\\\"525.427\\\" cy=\\\"613.6\\\" r=\\\"14\\\" fill=\\\"#e26f46\\\" fill-rule=\\\"evenodd\\\" fill-opacity=\\\"1\\\" stroke=\\\"#000000\\\" stroke-opacity=\\\"1\\\" stroke-width=\\\"3.2\\\"\\/>\\n<circle clip-path=\\\"url(#clip942)\\\" cx=\\\"609.558\\\" cy=\\\"586.273\\\" r=\\\"14\\\" fill=\\\"#e26f46\\\" fill-rule=\\\"evenodd\\\" fill-opacity=\\\"1\\\" stroke=\\\"#000000\\\" stroke-opacity=\\\"1\\\" stroke-width=\\\"3.2\\\"\\/>\\n<circle clip-path=\\\"url(#clip942)\\\" cx=\\\"693.689\\\" cy=\\\"569.085\\\" r=\\\"14\\\" fill=\\\"#e26f46\\\" fill-rule=\\\"evenodd\\\" fill-opacity=\\\"1\\\" stroke=\\\"#000000\\\" stroke-opacity=\\\"1\\\" stroke-width=\\\"3.2\\\"\\/>\\n<circle clip-path=\\\"url(#clip942)\\\" cx=\\\"777.82\\\" cy=\\\"563.21\\\" r=\\\"14\\\" fill=\\\"#e26f46\\\" fill-rule=\\\"evenodd\\\" fill-opacity=\\\"1\\\" stroke=\\\"#000000\\\" stroke-opacity=\\\"1\\\" stroke-width=\\\"3.2\\\"\\/>\\n<circle clip-path=\\\"url(#clip942)\\\" cx=\\\"861.952\\\" cy=\\\"569.095\\\" r=\\\"14\\\" fill=\\\"#e26f46\\\" fill-rule=\\\"evenodd\\\" fill-opacity=\\\"1\\\" stroke=\\\"#000000\\\" stroke-opacity=\\\"1\\\" stroke-width=\\\"3.2\\\"\\/>\\n<circle clip-path=\\\"url(#clip942)\\\" cx=\\\"946.083\\\" cy=\\\"586.264\\\" r=\\\"14\\\" fill=\\\"#e26f46\\\" fill-rule=\\\"evenodd\\\" fill-opacity=\\\"1\\\" stroke=\\\"#000000\\\" stroke-opacity=\\\"1\\\" stroke-width=\\\"3.2\\\"\\/>\\n<circle clip-path=\\\"url(#clip942)\\\" cx=\\\"1030.21\\\" cy=\\\"613.561\\\" r=\\\"14\\\" fill=\\\"#e26f46\\\" fill-rule=\\\"evenodd\\\" fill-opacity=\\\"1\\\" stroke=\\\"#000000\\\" stroke-opacity=\\\"1\\\" stroke-width=\\\"3.2\\\"\\/>\\n<circle clip-path=\\\"url(#clip942)\\\" cx=\\\"1114.35\\\" cy=\\\"649.21\\\" r=\\\"14\\\" fill=\\\"#e26f46\\\" fill-rule=\\\"evenodd\\\" fill-opacity=\\\"1\\\" stroke=\\\"#000000\\\" stroke-opacity=\\\"1\\\" stroke-width=\\\"3.2\\\"\\/>\\n<circle clip-path=\\\"url(#clip942)\\\" cx=\\\"1198.48\\\" cy=\\\"690.688\\\" r=\\\"14\\\" fill=\\\"#e26f46\\\" fill-rule=\\\"evenodd\\\" fill-opacity=\\\"1\\\" stroke=\\\"#000000\\\" stroke-opacity=\\\"1\\\" stroke-width=\\\"3.2\\\"\\/>\\n<circle clip-path=\\\"url(#clip942)\\\" cx=\\\"1282.61\\\" cy=\\\"735.177\\\" r=\\\"14\\\" fill=\\\"#e26f46\\\" fill-rule=\\\"evenodd\\\" fill-opacity=\\\"1\\\" stroke=\\\"#000000\\\" stroke-opacity=\\\"1\\\" stroke-width=\\\"3.2\\\"\\/>\\n<circle clip-path=\\\"url(#clip942)\\\" cx=\\\"1366.74\\\" cy=\\\"779.754\\\" r=\\\"14\\\" fill=\\\"#e26f46\\\" fill-rule=\\\"evenodd\\\" fill-opacity=\\\"1\\\" stroke=\\\"#000000\\\" stroke-opacity=\\\"1\\\" stroke-width=\\\"3.2\\\"\\/>\\n<circle clip-path=\\\"url(#clip942)\\\" cx=\\\"1450.87\\\" cy=\\\"821.214\\\" r=\\\"14\\\" fill=\\\"#e26f46\\\" fill-rule=\\\"evenodd\\\" fill-opacity=\\\"1\\\" stroke=\\\"#000000\\\" stroke-opacity=\\\"1\\\" stroke-width=\\\"3.2\\\"\\/>\\n<circle clip-path=\\\"url(#clip942)\\\" cx=\\\"1535\\\" cy=\\\"856.832\\\" r=\\\"14\\\" fill=\\\"#e26f46\\\" fill-rule=\\\"evenodd\\\" fill-opacity=\\\"1\\\" stroke=\\\"#000000\\\" stroke-opacity=\\\"1\\\" stroke-width=\\\"3.2\\\"\\/>\\n<circle clip-path=\\\"url(#clip942)\\\" cx=\\\"1619.13\\\" cy=\\\"884.133\\\" r=\\\"14\\\" fill=\\\"#e26f46\\\" fill-rule=\\\"evenodd\\\" fill-opacity=\\\"1\\\" stroke=\\\"#000000\\\" stroke-opacity=\\\"1\\\" stroke-width=\\\"3.2\\\"\\/>\\n<circle clip-path=\\\"url(#clip942)\\\" cx=\\\"1703.26\\\" cy=\\\"901.339\\\" r=\\\"14\\\" fill=\\\"#e26f46\\\" fill-rule=\\\"evenodd\\\" fill-opacity=\\\"1\\\" stroke=\\\"#000000\\\" stroke-opacity=\\\"1\\\" stroke-width=\\\"3.2\\\"\\/>\\n<circle clip-path=\\\"url(#clip942)\\\" cx=\\\"1787.39\\\" cy=\\\"907.209\\\" r=\\\"14\\\" fill=\\\"#e26f46\\\" fill-rule=\\\"evenodd\\\" fill-opacity=\\\"1\\\" stroke=\\\"#000000\\\" stroke-opacity=\\\"1\\\" stroke-width=\\\"3.2\\\"\\/>\\n<circle clip-path=\\\"url(#clip942)\\\" cx=\\\"1871.53\\\" cy=\\\"901.322\\\" r=\\\"14\\\" fill=\\\"#e26f46\\\" fill-rule=\\\"evenodd\\\" fill-opacity=\\\"1\\\" stroke=\\\"#000000\\\" stroke-opacity=\\\"1\\\" stroke-width=\\\"3.2\\\"\\/>\\n<circle clip-path=\\\"url(#clip942)\\\" cx=\\\"1955.66\\\" cy=\\\"884.126\\\" r=\\\"14\\\" fill=\\\"#e26f46\\\" fill-rule=\\\"evenodd\\\" fill-opacity=\\\"1\\\" stroke=\\\"#000000\\\" stroke-opacity=\\\"1\\\" stroke-width=\\\"3.2\\\"\\/>\\n<circle clip-path=\\\"url(#clip942)\\\" cx=\\\"2039.79\\\" cy=\\\"856.82\\\" r=\\\"14\\\" fill=\\\"#e26f46\\\" fill-rule=\\\"evenodd\\\" fill-opacity=\\\"1\\\" stroke=\\\"#000000\\\" stroke-opacity=\\\"1\\\" stroke-width=\\\"3.2\\\"\\/>\\n<circle clip-path=\\\"url(#clip942)\\\" cx=\\\"2123.92\\\" cy=\\\"821.195\\\" r=\\\"14\\\" fill=\\\"#e26f46\\\" fill-rule=\\\"evenodd\\\" fill-opacity=\\\"1\\\" stroke=\\\"#000000\\\" stroke-opacity=\\\"1\\\" stroke-width=\\\"3.2\\\"\\/>\\n<circle clip-path=\\\"url(#clip942)\\\" cx=\\\"2208.05\\\" cy=\\\"779.718\\\" r=\\\"14\\\" fill=\\\"#e26f46\\\" fill-rule=\\\"evenodd\\\" fill-opacity=\\\"1\\\" stroke=\\\"#000000\\\" stroke-opacity=\\\"1\\\" stroke-width=\\\"3.2\\\"\\/>\\n<circle clip-path=\\\"url(#clip942)\\\" cx=\\\"2292.18\\\" cy=\\\"735.23\\\" r=\\\"14\\\" fill=\\\"#e26f46\\\" fill-rule=\\\"evenodd\\\" fill-opacity=\\\"1\\\" stroke=\\\"#000000\\\" stroke-opacity=\\\"1\\\" stroke-width=\\\"3.2\\\"\\/>\\n<\\/svg>\\n\"},\"nodeType\":\"DOM\",\"type\":\"node\",\"instanceArgs\":{\"namespace\":\"html\",\"tag\":\"div\"},\"children\":[]}]}}}},\"children\":[{\"props\":{},\"nodeType\":\"ObservableNode\",\"type\":\"node\",\"instanceArgs\":{\"id\":\"2809652169312356189\",\"name\":\"obs-node\"},\"children\":[]}]}]},\n",
       "        window,\n",
       "    );\n",
       "    })()\n",
       "    </script>\n",
       "</div>\n"
      ],
      "text/plain": [
       "Node{WebIO.DOM}(WebIO.DOM(:html, :div), Any[Node{WebIO.DOM}(WebIO.DOM(:html, :div), Any[Scope(Node{WebIO.DOM}(WebIO.DOM(:html, :div), Any[Node{WebIO.DOM}(WebIO.DOM(:html, :div), Any[Node{WebIO.DOM}(WebIO.DOM(:html, :label), Any[\"log10ϵ\"], Dict{Symbol, Any}(:className => \"interact \", :style => Dict{Any, Any}(:padding => \"5px 10px 0px 10px\")))], Dict{Symbol, Any}(:className => \"interact-flex-row-left\")), Node{WebIO.DOM}(WebIO.DOM(:html, :div), Any[Node{WebIO.DOM}(WebIO.DOM(:html, :input), Any[], Dict{Symbol, Any}(:max => 61, :min => 1, :attributes => Dict{Any, Any}(:type => \"range\", Symbol(\"data-bind\") => \"numericValue: index, valueUpdate: 'input', event: {change: function (){this.changes(this.changes()+1)}}\", \"orient\" => \"horizontal\"), :step => 1, :className => \"slider slider is-fullwidth\", :style => Dict{Any, Any}()))], Dict{Symbol, Any}(:className => \"interact-flex-row-center\")), Node{WebIO.DOM}(WebIO.DOM(:html, :div), Any[Node{WebIO.DOM}(WebIO.DOM(:html, :p), Any[], Dict{Symbol, Any}(:attributes => Dict(\"data-bind\" => \"text: formatted_val\")))], Dict{Symbol, Any}(:className => \"interact-flex-row-right\"))], Dict{Symbol, Any}(:className => \"interact-flex-row interact-widget\")), Dict{String, Tuple{Observables.AbstractObservable, Union{Nothing, Bool}}}(\"changes\" => (Observable{Int64} with 1 listeners. Value:\n",
       "0, nothing), \"index\" => (Observable{Any} with 2 listeners. Value:\n",
       "31, nothing)), Set{String}(), nothing, Asset[Asset(\"js\", \"knockout\", \"/Users/Folkmar/.julia/packages/Knockout/3gjS1/src/../assets/knockout.js\"), Asset(\"js\", \"knockout_punches\", \"/Users/Folkmar/.julia/packages/Knockout/3gjS1/src/../assets/knockout_punches.js\"), Asset(\"js\", nothing, \"/Users/Folkmar/.julia/packages/InteractBase/o1I6G/src/../assets/all.js\"), Asset(\"css\", nothing, \"/Users/Folkmar/.julia/packages/InteractBase/o1I6G/src/../assets/style.css\"), Asset(\"css\", nothing, \"/Users/Folkmar/.julia/packages/Interact/pVyN2/src/../assets/bulma_confined.min.css\")], Dict{Any, Any}(\"changes\" => Any[WebIO.JSString(\"(function (val){return (val!=this.model[\\\"changes\\\"]()) ? (this.valueFromJulia[\\\"changes\\\"]=true, this.model[\\\"changes\\\"](val)) : undefined})\")], \"index\" => Any[WebIO.JSString(\"(function (val){return (val!=this.model[\\\"index\\\"]()) ? (this.valueFromJulia[\\\"index\\\"]=true, this.model[\\\"index\\\"](val)) : undefined})\")]), WebIO.ConnectionPool(Channel{Any}(32), Set{AbstractConnection}(), Condition(Base.InvasiveLinkedList{Task}(Task (runnable) @0x000000010f10d330, Task (runnable) @0x000000010f10d330), Base.AlwaysLockedST(1))), WebIO.JSString[WebIO.JSString(\"function () {\\n    var handler = (function (ko, koPunches) {\\n    ko.punches.enableAll();\\n    ko.bindingHandlers.numericValue = {\\n        init: function(element, valueAccessor, allBindings, data, context) {\\n            var stringified = ko.observable(ko.unwrap(valueAccessor()));\\n            stringified.subscribe(function(value) {\\n                var val = parseFloat(value);\\n                if (!isNaN(val)) {\\n                    valueAccessor()(val);\\n                }\\n            });\\n            valueAccessor().subscribe(function(value) {\\n                var str = JSON.stringify(value);\\n                if ((str == \\\"0\\\") && ([\\\"-0\\\", \\\"-0.\\\"].indexOf(stringified()) >= 0))\\n                     return;\\n                 if ([\\\"null\\\", \\\"\\\"].indexOf(str) >= 0)\\n                     return;\\n                stringified(str);\\n            });\\n            ko.applyBindingsToNode(\\n                element,\\n                {\\n                    value: stringified,\\n                    valueUpdate: allBindings.get('valueUpdate'),\\n                },\\n                context,\\n            );\\n        }\\n    };\\n    var json_data = {\\\"formatted_vals\\\":[\\\"-7.0\\\",\\\"-6.9\\\",\\\"-6.8\\\",\\\"-6.7\\\",\\\"-6.6\\\",\\\"-6.5\\\",\\\"-6.4\\\",\\\"-6.3\\\",\\\"-6.2\\\",\\\"-6.1\\\",\\\"-6.0\\\",\\\"-5.9\\\",\\\"-5.8\\\",\\\"-5.7\\\",\\\"-5.6\\\",\\\"-5.5\\\",\\\"-5.4\\\",\\\"-5.3\\\",\\\"-5.2\\\",\\\"-5.1\\\",\\\"-5.0\\\",\\\"-4.9\\\",\\\"-4.8\\\",\\\"-4.7\\\",\\\"-4.6\\\",\\\"-4.5\\\",\\\"-4.4\\\",\\\"-4.3\\\",\\\"-4.2\\\",\\\"-4.1\\\",\\\"-4.0\\\",\\\"-3.9\\\",\\\"-3.8\\\",\\\"-3.7\\\",\\\"-3.6\\\",\\\"-3.5\\\",\\\"-3.4\\\",\\\"-3.3\\\",\\\"-3.2\\\",\\\"-3.1\\\",\\\"-3.0\\\",\\\"-2.9\\\",\\\"-2.8\\\",\\\"-2.7\\\",\\\"-2.6\\\",\\\"-2.5\\\",\\\"-2.4\\\",\\\"-2.3\\\",\\\"-2.2\\\",\\\"-2.1\\\",\\\"-2.0\\\",\\\"-1.9\\\",\\\"-1.8\\\",\\\"-1.7\\\",\\\"-1.6\\\",\\\"-1.5\\\",\\\"-1.4\\\",\\\"-1.3\\\",\\\"-1.2\\\",\\\"-1.1\\\",\\\"-1.0\\\"],\\\"changes\\\":WebIO.getval({\\\"name\\\":\\\"changes\\\",\\\"scope\\\":\\\"17199008411268149501\\\",\\\"id\\\":\\\"3014228823405310257\\\",\\\"type\\\":\\\"observable\\\"}),\\\"index\\\":WebIO.getval({\\\"name\\\":\\\"index\\\",\\\"scope\\\":\\\"17199008411268149501\\\",\\\"id\\\":\\\"13416814726795587654\\\",\\\"type\\\":\\\"observable\\\"})};\\n    var self = this;\\n    function AppViewModel() {\\n        for (var key in json_data) {\\n            var el = json_data[key];\\n            this[key] = Array.isArray(el) ? ko.observableArray(el) : ko.observable(el);\\n        }\\n        \\n        [this[\\\"formatted_val\\\"]=ko.computed(    function(){\\n        return this.formatted_vals()[parseInt(this.index())-(1)];\\n    }\\n,this)]\\n        [this[\\\"changes\\\"].subscribe((function (val){!(this.valueFromJulia[\\\"changes\\\"]) ? (WebIO.setval({\\\"name\\\":\\\"changes\\\",\\\"scope\\\":\\\"17199008411268149501\\\",\\\"id\\\":\\\"3014228823405310257\\\",\\\"type\\\":\\\"observable\\\"},val)) : undefined; return this.valueFromJulia[\\\"changes\\\"]=false}),self),this[\\\"index\\\"].subscribe((function (val){!(this.valueFromJulia[\\\"index\\\"]) ? (WebIO.setval({\\\"name\\\":\\\"index\\\",\\\"scope\\\":\\\"17199008411268149501\\\",\\\"id\\\":\\\"13416814726795587654\\\",\\\"type\\\":\\\"observable\\\"},val)) : undefined; return this.valueFromJulia[\\\"index\\\"]=false}),self)]\\n        \\n    }\\n    self.model = new AppViewModel();\\n    self.valueFromJulia = {};\\n    for (var key in json_data) {\\n        self.valueFromJulia[key] = false;\\n    }\\n    ko.applyBindings(self.model, self.dom);\\n}\\n);\\n    (WebIO.importBlock({\\\"data\\\":[{\\\"name\\\":\\\"knockout\\\",\\\"type\\\":\\\"js\\\",\\\"url\\\":\\\"/assetserver/c7e9525c60334db1a679535c544de0605a206866-knockout.js\\\"},{\\\"name\\\":\\\"knockout_punches\\\",\\\"type\\\":\\\"js\\\",\\\"url\\\":\\\"/assetserver/25d986356c2356e73454f2b9198affa4b0e07e2e-knockout_punches.js\\\"}],\\\"type\\\":\\\"async_block\\\"})).then((imports) => handler.apply(this, imports));\\n}\\n\")])], Dict{Symbol, Any}(:className => \"field interact-widget\")), Node{WebIO.DOM}(WebIO.DOM(:html, :div), Any[Scope(Node{WebIO.DOM}(WebIO.DOM(:html, :div), Any[Node{WebIO.DOM}(WebIO.DOM(:html, :div), Any[Node{WebIO.DOM}(WebIO.DOM(:html, :label), Any[\"knots\"], Dict{Symbol, Any}(:className => \"interact \", :style => Dict{Any, Any}(:padding => \"5px 10px 0px 10px\")))], Dict{Symbol, Any}(:className => \"interact-flex-row-left\")), Node{WebIO.DOM}(WebIO.DOM(:html, :div), Any[Node{WebIO.DOM}(WebIO.DOM(:html, :div), Any[Node{WebIO.DOM}(WebIO.DOM(:html, :span), Any[Node{WebIO.DOM}(WebIO.DOM(:html, :label), Any[], Dict{Symbol, Any}(:attributes => Dict(\"data-bind\" => \"text : key\")))], Dict{Symbol, Any}(:attributes => Dict(\"data-bind\" => \"click: function (){\\$root.update(val)}, css: {'is-primary is-selected' : \\$root.index() == val, 'interact-widget is-medium button ' : true}\")))], Dict{Symbol, Any}(:attributes => (\"data-bind\" => \"foreach : options_js\"), :className => \"buttons has-addons is-centered\"))], Dict{Symbol, Any}(:className => \"interact-flex-row-center\")), Node{WebIO.DOM}(WebIO.DOM(:html, :div), Any[Node{WebIO.DOM}(WebIO.DOM(:html, :div), Any[], Dict{Symbol, Any}())], Dict{Symbol, Any}(:className => \"interact-flex-row-right\"))], Dict{Symbol, Any}(:className => \"interact-flex-row interact-widget\")), Dict{String, Tuple{Observables.AbstractObservable, Union{Nothing, Bool}}}(\"options_js\" => (Observable{Vector{OrderedDict}} with 1 listeners. Value:\n",
       "OrderedDict[OrderedDict{String, Any}(\"key\" => \"equidistant\", \"val\" => 1, \"id\" => \"idOPpgyCY4\"), OrderedDict{String, Any}(\"key\" => \"Chebyshev\", \"val\" => 2, \"id\" => \"idwb5zvLVl\")], nothing), \"index\" => (Observable{Any} with 2 listeners. Value:\n",
       "1, nothing)), Set{String}(), nothing, Asset[Asset(\"js\", \"knockout\", \"/Users/Folkmar/.julia/packages/Knockout/3gjS1/src/../assets/knockout.js\"), Asset(\"js\", \"knockout_punches\", \"/Users/Folkmar/.julia/packages/Knockout/3gjS1/src/../assets/knockout_punches.js\"), Asset(\"js\", nothing, \"/Users/Folkmar/.julia/packages/InteractBase/o1I6G/src/../assets/all.js\"), Asset(\"css\", nothing, \"/Users/Folkmar/.julia/packages/InteractBase/o1I6G/src/../assets/style.css\"), Asset(\"css\", nothing, \"/Users/Folkmar/.julia/packages/Interact/pVyN2/src/../assets/bulma_confined.min.css\")], Dict{Any, Any}(\"options_js\" => Any[WebIO.JSString(\"(function (val){return (val!=this.model[\\\"options_js\\\"]()) ? (this.valueFromJulia[\\\"options_js\\\"]=true, this.model[\\\"options_js\\\"](val)) : undefined})\")], \"index\" => Any[WebIO.JSString(\"(function (val){return (val!=this.model[\\\"index\\\"]()) ? (this.valueFromJulia[\\\"index\\\"]=true, this.model[\\\"index\\\"](val)) : undefined})\")]), WebIO.ConnectionPool(Channel{Any}(32), Set{AbstractConnection}(), Condition(Base.InvasiveLinkedList{Task}(Task (runnable) @0x0000000116202ed0, Task (runnable) @0x0000000116202ed0), Base.AlwaysLockedST(1))), WebIO.JSString[WebIO.JSString(\"function () {\\n    var handler = (function (ko, koPunches) {\\n    ko.punches.enableAll();\\n    ko.bindingHandlers.numericValue = {\\n        init: function(element, valueAccessor, allBindings, data, context) {\\n            var stringified = ko.observable(ko.unwrap(valueAccessor()));\\n            stringified.subscribe(function(value) {\\n                var val = parseFloat(value);\\n                if (!isNaN(val)) {\\n                    valueAccessor()(val);\\n                }\\n            });\\n            valueAccessor().subscribe(function(value) {\\n                var str = JSON.stringify(value);\\n                if ((str == \\\"0\\\") && ([\\\"-0\\\", \\\"-0.\\\"].indexOf(stringified()) >= 0))\\n                     return;\\n                 if ([\\\"null\\\", \\\"\\\"].indexOf(str) >= 0)\\n                     return;\\n                stringified(str);\\n            });\\n            ko.applyBindingsToNode(\\n                element,\\n                {\\n                    value: stringified,\\n                    valueUpdate: allBindings.get('valueUpdate'),\\n                },\\n                context,\\n            );\\n        }\\n    };\\n    var json_data = {\\\"options_js\\\":WebIO.getval({\\\"name\\\":\\\"options_js\\\",\\\"scope\\\":\\\"6187409947775397986\\\",\\\"id\\\":\\\"13194127505694575580\\\",\\\"type\\\":\\\"observable\\\"}),\\\"index\\\":WebIO.getval({\\\"name\\\":\\\"index\\\",\\\"scope\\\":\\\"6187409947775397986\\\",\\\"id\\\":\\\"5408008006465122439\\\",\\\"type\\\":\\\"observable\\\"})};\\n    var self = this;\\n    function AppViewModel() {\\n        for (var key in json_data) {\\n            var el = json_data[key];\\n            this[key] = Array.isArray(el) ? ko.observableArray(el) : ko.observable(el);\\n        }\\n        [this[\\\"update\\\"]=function (val) {this.index(val)}]\\n        \\n        [this[\\\"options_js\\\"].subscribe((function (val){!(this.valueFromJulia[\\\"options_js\\\"]) ? (WebIO.setval({\\\"name\\\":\\\"options_js\\\",\\\"scope\\\":\\\"6187409947775397986\\\",\\\"id\\\":\\\"13194127505694575580\\\",\\\"type\\\":\\\"observable\\\"},val)) : undefined; return this.valueFromJulia[\\\"options_js\\\"]=false}),self),this[\\\"index\\\"].subscribe((function (val){!(this.valueFromJulia[\\\"index\\\"]) ? (WebIO.setval({\\\"name\\\":\\\"index\\\",\\\"scope\\\":\\\"6187409947775397986\\\",\\\"id\\\":\\\"5408008006465122439\\\",\\\"type\\\":\\\"observable\\\"},val)) : undefined; return this.valueFromJulia[\\\"index\\\"]=false}),self)]\\n        \\n    }\\n    self.model = new AppViewModel();\\n    self.valueFromJulia = {};\\n    for (var key in json_data) {\\n        self.valueFromJulia[key] = false;\\n    }\\n    ko.applyBindings(self.model, self.dom);\\n}\\n);\\n    (WebIO.importBlock({\\\"data\\\":[{\\\"name\\\":\\\"knockout\\\",\\\"type\\\":\\\"js\\\",\\\"url\\\":\\\"/assetserver/c7e9525c60334db1a679535c544de0605a206866-knockout.js\\\"},{\\\"name\\\":\\\"knockout_punches\\\",\\\"type\\\":\\\"js\\\",\\\"url\\\":\\\"/assetserver/25d986356c2356e73454f2b9198affa4b0e07e2e-knockout_punches.js\\\"}],\\\"type\\\":\\\"async_block\\\"})).then((imports) => handler.apply(this, imports));\\n}\\n\")])], Dict{Symbol, Any}(:className => \"interact-widget\")), Node{WebIO.DOM}(WebIO.DOM(:html, :div), Any[Scope(Node{WebIO.DOM}(WebIO.DOM(:html, :div), Any[Node{WebIO.DOM}(WebIO.DOM(:html, :div), Any[Node{WebIO.DOM}(WebIO.DOM(:html, :label), Any[\"clipped\"], Dict{Symbol, Any}(:className => \"interact \", :style => Dict{Any, Any}(:padding => \"5px 10px 0px 10px\")))], Dict{Symbol, Any}(:className => \"interact-flex-row-left\")), Node{WebIO.DOM}(WebIO.DOM(:html, :div), Any[Node{WebIO.DOM}(WebIO.DOM(:html, :div), Any[Node{WebIO.DOM}(WebIO.DOM(:html, :span), Any[Node{WebIO.DOM}(WebIO.DOM(:html, :label), Any[], Dict{Symbol, Any}(:attributes => Dict(\"data-bind\" => \"text : key\")))], Dict{Symbol, Any}(:attributes => Dict(\"data-bind\" => \"click: function (){\\$root.update(val)}, css: {'is-primary is-selected' : \\$root.index() == val, 'interact-widget is-medium button ' : true}\")))], Dict{Symbol, Any}(:attributes => (\"data-bind\" => \"foreach : options_js\"), :className => \"buttons has-addons is-centered\"))], Dict{Symbol, Any}(:className => \"interact-flex-row-center\")), Node{WebIO.DOM}(WebIO.DOM(:html, :div), Any[Node{WebIO.DOM}(WebIO.DOM(:html, :div), Any[], Dict{Symbol, Any}())], Dict{Symbol, Any}(:className => \"interact-flex-row-right\"))], Dict{Symbol, Any}(:className => \"interact-flex-row interact-widget\")), Dict{String, Tuple{Observables.AbstractObservable, Union{Nothing, Bool}}}(\"options_js\" => (Observable{Vector{OrderedDict}} with 1 listeners. Value:\n",
       "OrderedDict[OrderedDict{String, Any}(\"key\" => \"clipped\", \"val\" => 1, \"id\" => \"idnqK2TTv8\"), OrderedDict{String, Any}(\"key\" => \"fill\", \"val\" => 2, \"id\" => \"idMyUyZDtB\")], nothing), \"index\" => (Observable{Any} with 2 listeners. Value:\n",
       "1, nothing)), Set{String}(), nothing, Asset[Asset(\"js\", \"knockout\", \"/Users/Folkmar/.julia/packages/Knockout/3gjS1/src/../assets/knockout.js\"), Asset(\"js\", \"knockout_punches\", \"/Users/Folkmar/.julia/packages/Knockout/3gjS1/src/../assets/knockout_punches.js\"), Asset(\"js\", nothing, \"/Users/Folkmar/.julia/packages/InteractBase/o1I6G/src/../assets/all.js\"), Asset(\"css\", nothing, \"/Users/Folkmar/.julia/packages/InteractBase/o1I6G/src/../assets/style.css\"), Asset(\"css\", nothing, \"/Users/Folkmar/.julia/packages/Interact/pVyN2/src/../assets/bulma_confined.min.css\")], Dict{Any, Any}(\"options_js\" => Any[WebIO.JSString(\"(function (val){return (val!=this.model[\\\"options_js\\\"]()) ? (this.valueFromJulia[\\\"options_js\\\"]=true, this.model[\\\"options_js\\\"](val)) : undefined})\")], \"index\" => Any[WebIO.JSString(\"(function (val){return (val!=this.model[\\\"index\\\"]()) ? (this.valueFromJulia[\\\"index\\\"]=true, this.model[\\\"index\\\"](val)) : undefined})\")]), WebIO.ConnectionPool(Channel{Any}(32), Set{AbstractConnection}(), Condition(Base.InvasiveLinkedList{Task}(Task (runnable) @0x0000000116388890, Task (runnable) @0x0000000116388890), Base.AlwaysLockedST(1))), WebIO.JSString[WebIO.JSString(\"function () {\\n    var handler = (function (ko, koPunches) {\\n    ko.punches.enableAll();\\n    ko.bindingHandlers.numericValue = {\\n        init: function(element, valueAccessor, allBindings, data, context) {\\n            var stringified = ko.observable(ko.unwrap(valueAccessor()));\\n            stringified.subscribe(function(value) {\\n                var val = parseFloat(value);\\n                if (!isNaN(val)) {\\n                    valueAccessor()(val);\\n                }\\n            });\\n            valueAccessor().subscribe(function(value) {\\n                var str = JSON.stringify(value);\\n                if ((str == \\\"0\\\") && ([\\\"-0\\\", \\\"-0.\\\"].indexOf(stringified()) >= 0))\\n                     return;\\n                 if ([\\\"null\\\", \\\"\\\"].indexOf(str) >= 0)\\n                     return;\\n                stringified(str);\\n            });\\n            ko.applyBindingsToNode(\\n                element,\\n                {\\n                    value: stringified,\\n                    valueUpdate: allBindings.get('valueUpdate'),\\n                },\\n                context,\\n            );\\n        }\\n    };\\n    var json_data = {\\\"options_js\\\":WebIO.getval({\\\"name\\\":\\\"options_js\\\",\\\"scope\\\":\\\"7790836811235525535\\\",\\\"id\\\":\\\"7913276931992494113\\\",\\\"type\\\":\\\"observable\\\"}),\\\"index\\\":WebIO.getval({\\\"name\\\":\\\"index\\\",\\\"scope\\\":\\\"7790836811235525535\\\",\\\"id\\\":\\\"15555566178932693964\\\",\\\"type\\\":\\\"observable\\\"})};\\n    var self = this;\\n    function AppViewModel() {\\n        for (var key in json_data) {\\n            var el = json_data[key];\\n            this[key] = Array.isArray(el) ? ko.observableArray(el) : ko.observable(el);\\n        }\\n        [this[\\\"update\\\"]=function (val) {this.index(val)}]\\n        \\n        [this[\\\"options_js\\\"].subscribe((function (val){!(this.valueFromJulia[\\\"options_js\\\"]) ? (WebIO.setval({\\\"name\\\":\\\"options_js\\\",\\\"scope\\\":\\\"7790836811235525535\\\",\\\"id\\\":\\\"7913276931992494113\\\",\\\"type\\\":\\\"observable\\\"},val)) : undefined; return this.valueFromJulia[\\\"options_js\\\"]=false}),self),this[\\\"index\\\"].subscribe((function (val){!(this.valueFromJulia[\\\"index\\\"]) ? (WebIO.setval({\\\"name\\\":\\\"index\\\",\\\"scope\\\":\\\"7790836811235525535\\\",\\\"id\\\":\\\"15555566178932693964\\\",\\\"type\\\":\\\"observable\\\"},val)) : undefined; return this.valueFromJulia[\\\"index\\\"]=false}),self)]\\n        \\n    }\\n    self.model = new AppViewModel();\\n    self.valueFromJulia = {};\\n    for (var key in json_data) {\\n        self.valueFromJulia[key] = false;\\n    }\\n    ko.applyBindings(self.model, self.dom);\\n}\\n);\\n    (WebIO.importBlock({\\\"data\\\":[{\\\"name\\\":\\\"knockout\\\",\\\"type\\\":\\\"js\\\",\\\"url\\\":\\\"/assetserver/c7e9525c60334db1a679535c544de0605a206866-knockout.js\\\"},{\\\"name\\\":\\\"knockout_punches\\\",\\\"type\\\":\\\"js\\\",\\\"url\\\":\\\"/assetserver/25d986356c2356e73454f2b9198affa4b0e07e2e-knockout_punches.js\\\"}],\\\"type\\\":\\\"async_block\\\"})).then((imports) => handler.apply(this, imports));\\n}\\n\")])], Dict{Symbol, Any}(:className => \"interact-widget\")), Observable{Node{WebIO.DOM}} with 0 listeners. Value:\n",
       "Node{WebIO.DOM}(WebIO.DOM(:html, :div), Any[Plot{Plots.GRBackend() n=2}], Dict{Symbol, Any}(:className => \"interact-flex-row interact-widget\"))], Dict{Symbol, Any}())"
      ]
     },
     "execution_count": 6,
     "metadata": {
      "application/vnd.webio.node+json": {
       "kernelId": "0b9f4c21-30f4-4e5c-a287-dbb1369d0740"
      }
     },
     "output_type": "execute_result"
    }
   ],
   "source": [
    "n = 24 # Polynomgrad\n",
    "Random.seed!(0815); dy = randn(n+1) # zufällige Störung\n",
    "xx = range(0, 2π, length=1000) # x-Werte für Plot\n",
    "\n",
    "@manipulate for log10ϵ=-7:0.1:-1, knots=Dict(\"Chebyshev\" => ChebyshevKnots, \"equidistant\" => EquidistantKnots), \n",
    "                    clipped=Dict(\"clipped\" => true, \"fill\" => false)\n",
    "    x = knots(0, 2π, n)\n",
    "    y = sin.(x) + (10^log10ϵ)*dy\n",
    "    yy = Lagrange(x,y)(xx)\n",
    "    plot(xx, yy, linewidth=2)\n",
    "    clipped && (plot!(ylims = (-4,4)))\n",
    "    scatter!(x,y, xlabel = L\"$x$\", ylabel = L\"$p(x)$\", legend = false, xticks = (range(0,2π,length=9), \n",
    "            [\"0\" \"π/4\" \"π/2\" \"3π/4\" \"π\" \"5π/4\" \"3π/2\" \"7π/4\" \"2π\"]))\n",
    "end"
   ]
  },
  {
   "cell_type": "markdown",
   "metadata": {},
   "source": [
    "## (23.8) Illustration der Formel von Salzer (1972)"
   ]
  },
  {
   "cell_type": "code",
   "execution_count": 7,
   "metadata": {
    "ExecuteTime": {
     "end_time": "2022-01-10T19:18:13.573000+01:00",
     "start_time": "2022-01-10T18:18:12.412Z"
    }
   },
   "outputs": [
    {
     "data": {
      "application/vnd.webio.node+json": {
       "children": [
        {
         "children": [
          {
           "children": [
            {
             "children": [
              {
               "children": [
                {
                 "children": [
                  "n"
                 ],
                 "instanceArgs": {
                  "namespace": "html",
                  "tag": "label"
                 },
                 "nodeType": "DOM",
                 "props": {
                  "className": "interact ",
                  "style": {
                   "padding": "5px 10px 0px 10px"
                  }
                 },
                 "type": "node"
                }
               ],
               "instanceArgs": {
                "namespace": "html",
                "tag": "div"
               },
               "nodeType": "DOM",
               "props": {
                "className": "interact-flex-row-left"
               },
               "type": "node"
              },
              {
               "children": [
                {
                 "children": [],
                 "instanceArgs": {
                  "namespace": "html",
                  "tag": "input"
                 },
                 "nodeType": "DOM",
                 "props": {
                  "attributes": {
                   "data-bind": "numericValue: index, valueUpdate: 'input', event: {change: function (){this.changes(this.changes()+1)}}",
                   "orient": "horizontal",
                   "type": "range"
                  },
                  "className": "slider slider is-fullwidth",
                  "max": 12,
                  "min": 6,
                  "step": 1,
                  "style": {}
                 },
                 "type": "node"
                }
               ],
               "instanceArgs": {
                "namespace": "html",
                "tag": "div"
               },
               "nodeType": "DOM",
               "props": {
                "className": "interact-flex-row-center"
               },
               "type": "node"
              },
              {
               "children": [
                {
                 "children": [],
                 "instanceArgs": {
                  "namespace": "html",
                  "tag": "p"
                 },
                 "nodeType": "DOM",
                 "props": {
                  "attributes": {
                   "data-bind": "text: formatted_val"
                  }
                 },
                 "type": "node"
                }
               ],
               "instanceArgs": {
                "namespace": "html",
                "tag": "div"
               },
               "nodeType": "DOM",
               "props": {
                "className": "interact-flex-row-right"
               },
               "type": "node"
              }
             ],
             "instanceArgs": {
              "namespace": "html",
              "tag": "div"
             },
             "nodeType": "DOM",
             "props": {
              "className": "interact-flex-row interact-widget"
             },
             "type": "node"
            }
           ],
           "instanceArgs": {
            "handlers": {
             "changes": [
              "(function (val){return (val!=this.model[\"changes\"]()) ? (this.valueFromJulia[\"changes\"]=true, this.model[\"changes\"](val)) : undefined})"
             ],
             "index": [
              "(function (val){return (val!=this.model[\"index\"]()) ? (this.valueFromJulia[\"index\"]=true, this.model[\"index\"](val)) : undefined})"
             ]
            },
            "id": "12393633978397353836",
            "imports": {
             "data": [
              {
               "name": "knockout",
               "type": "js",
               "url": "/assetserver/c7e9525c60334db1a679535c544de0605a206866-knockout.js"
              },
              {
               "name": "knockout_punches",
               "type": "js",
               "url": "/assetserver/25d986356c2356e73454f2b9198affa4b0e07e2e-knockout_punches.js"
              },
              {
               "name": null,
               "type": "js",
               "url": "/assetserver/a371ad546c7103190b2a50e7b48d9321e4ff74ac-all.js"
              },
              {
               "name": null,
               "type": "css",
               "url": "/assetserver/5762da8363b7bdc341622051ef36e5d544811e67-style.css"
              },
              {
               "name": null,
               "type": "css",
               "url": "/assetserver/3adddd1658906b22aee092f05eeb7474fa7ba7b4-bulma_confined.min.css"
              }
             ],
             "type": "async_block"
            },
            "mount_callbacks": [
             "function () {\n    var handler = (function (ko, koPunches) {\n    ko.punches.enableAll();\n    ko.bindingHandlers.numericValue = {\n        init: function(element, valueAccessor, allBindings, data, context) {\n            var stringified = ko.observable(ko.unwrap(valueAccessor()));\n            stringified.subscribe(function(value) {\n                var val = parseFloat(value);\n                if (!isNaN(val)) {\n                    valueAccessor()(val);\n                }\n            });\n            valueAccessor().subscribe(function(value) {\n                var str = JSON.stringify(value);\n                if ((str == \"0\") && ([\"-0\", \"-0.\"].indexOf(stringified()) >= 0))\n                     return;\n                 if ([\"null\", \"\"].indexOf(str) >= 0)\n                     return;\n                stringified(str);\n            });\n            ko.applyBindingsToNode(\n                element,\n                {\n                    value: stringified,\n                    valueUpdate: allBindings.get('valueUpdate'),\n                },\n                context,\n            );\n        }\n    };\n    var json_data = {\"formatted_vals\":[\"6\",\"7\",\"8\",\"9\",\"10\",\"11\",\"12\"],\"changes\":WebIO.getval({\"name\":\"changes\",\"scope\":\"12393633978397353836\",\"id\":\"9419216037175924415\",\"type\":\"observable\"}),\"index\":WebIO.getval({\"name\":\"index\",\"scope\":\"12393633978397353836\",\"id\":\"13051675822628980018\",\"type\":\"observable\"})};\n    var self = this;\n    function AppViewModel() {\n        for (var key in json_data) {\n            var el = json_data[key];\n            this[key] = Array.isArray(el) ? ko.observableArray(el) : ko.observable(el);\n        }\n        \n        [this[\"formatted_val\"]=ko.computed(    function(){\n        return this.formatted_vals()[parseInt(this.index())-(6)];\n    }\n,this)]\n        [this[\"changes\"].subscribe((function (val){!(this.valueFromJulia[\"changes\"]) ? (WebIO.setval({\"name\":\"changes\",\"scope\":\"12393633978397353836\",\"id\":\"9419216037175924415\",\"type\":\"observable\"},val)) : undefined; return this.valueFromJulia[\"changes\"]=false}),self),this[\"index\"].subscribe((function (val){!(this.valueFromJulia[\"index\"]) ? (WebIO.setval({\"name\":\"index\",\"scope\":\"12393633978397353836\",\"id\":\"13051675822628980018\",\"type\":\"observable\"},val)) : undefined; return this.valueFromJulia[\"index\"]=false}),self)]\n        \n    }\n    self.model = new AppViewModel();\n    self.valueFromJulia = {};\n    for (var key in json_data) {\n        self.valueFromJulia[key] = false;\n    }\n    ko.applyBindings(self.model, self.dom);\n}\n);\n    (WebIO.importBlock({\"data\":[{\"name\":\"knockout\",\"type\":\"js\",\"url\":\"/assetserver/c7e9525c60334db1a679535c544de0605a206866-knockout.js\"},{\"name\":\"knockout_punches\",\"type\":\"js\",\"url\":\"/assetserver/25d986356c2356e73454f2b9198affa4b0e07e2e-knockout_punches.js\"}],\"type\":\"async_block\"})).then((imports) => handler.apply(this, imports));\n}\n"
            ],
            "observables": {
             "changes": {
              "id": "9419216037175924415",
              "sync": false,
              "value": 0
             },
             "index": {
              "id": "13051675822628980018",
              "sync": true,
              "value": 9
             }
            },
            "systemjs_options": null
           },
           "nodeType": "Scope",
           "props": {},
           "type": "node"
          }
         ],
         "instanceArgs": {
          "namespace": "html",
          "tag": "div"
         },
         "nodeType": "DOM",
         "props": {
          "className": "field interact-widget"
         },
         "type": "node"
        },
        {
         "children": [
          {
           "children": [],
           "instanceArgs": {
            "id": "16296622052757523616",
            "name": "obs-node"
           },
           "nodeType": "ObservableNode",
           "props": {},
           "type": "node"
          }
         ],
         "instanceArgs": {
          "handlers": {},
          "id": "12320026515332412178",
          "imports": {
           "data": [],
           "type": "async_block"
          },
          "mount_callbacks": [],
          "observables": {
           "obs-node": {
            "id": "16296622052757523616",
            "sync": false,
            "value": {
             "children": [
              {
               "children": [],
               "instanceArgs": {
                "namespace": "html",
                "tag": "div"
               },
               "nodeType": "DOM",
               "props": {
                "setInnerHtml": "<pre>1×10 adjoint(::Vector{Float64}) with eltype Float64:\n 0.5  -1.0  1.0  -1.0  1.0  -1.0  1.0  -1.0  1.0  -0.5</pre>"
               },
               "type": "node"
              }
             ],
             "instanceArgs": {
              "namespace": "html",
              "tag": "div"
             },
             "nodeType": "DOM",
             "props": {
              "className": "interact-flex-row interact-widget"
             },
             "type": "node"
            }
           }
          },
          "systemjs_options": null
         },
         "nodeType": "Scope",
         "props": {},
         "type": "node"
        }
       ],
       "instanceArgs": {
        "namespace": "html",
        "tag": "div"
       },
       "nodeType": "DOM",
       "props": {},
       "type": "node"
      },
      "text/html": [
       "<div\n",
       "    class=\"webio-mountpoint\"\n",
       "    data-webio-mountpoint=\"9295906937007626781\"\n",
       ">\n",
       "    <script>\n",
       "    (function(){\n",
       "    // Some integrations (namely, IJulia/Jupyter) use an alternate render pathway than\n",
       "    // just putting the html on the page. If WebIO isn't defined, then it's pretty likely\n",
       "    // that we're in one of those situations and the integration just isn't installed\n",
       "    // correctly.\n",
       "    if (typeof window.WebIO === \"undefined\") {\n",
       "        document\n",
       "            .querySelector('[data-webio-mountpoint=\"9295906937007626781\"]')\n",
       "            .innerHTML = (\n",
       "                '<div style=\"padding: 1em; background-color: #f8d6da; border: 1px solid #f5c6cb; font-weight: bold;\">' +\n",
       "                '<p><strong>WebIO not detected.</strong></p>' +\n",
       "                '<p>Please read ' +\n",
       "                '<a href=\"https://juliagizmos.github.io/WebIO.jl/latest/troubleshooting/not-detected/\" target=\"_blank\">the troubleshooting guide</a> ' +\n",
       "                'for more information on how to resolve this issue.</p>' +\n",
       "                '<p><a href=\"https://juliagizmos.github.io/WebIO.jl/latest/troubleshooting/not-detected/\" target=\"_blank\">https://juliagizmos.github.io/WebIO.jl/latest/troubleshooting/not-detected/</a></p>' +\n",
       "                '</div>'\n",
       "            );\n",
       "        return;\n",
       "    }\n",
       "    WebIO.mount(\n",
       "        document.querySelector('[data-webio-mountpoint=\"9295906937007626781\"]'),\n",
       "        {\"props\":{},\"nodeType\":\"DOM\",\"type\":\"node\",\"instanceArgs\":{\"namespace\":\"html\",\"tag\":\"div\"},\"children\":[{\"props\":{\"className\":\"field interact-widget\"},\"nodeType\":\"DOM\",\"type\":\"node\",\"instanceArgs\":{\"namespace\":\"html\",\"tag\":\"div\"},\"children\":[{\"props\":{},\"nodeType\":\"Scope\",\"type\":\"node\",\"instanceArgs\":{\"imports\":{\"data\":[{\"name\":\"knockout\",\"type\":\"js\",\"url\":\"\\/assetserver\\/c7e9525c60334db1a679535c544de0605a206866-knockout.js\"},{\"name\":\"knockout_punches\",\"type\":\"js\",\"url\":\"\\/assetserver\\/25d986356c2356e73454f2b9198affa4b0e07e2e-knockout_punches.js\"},{\"name\":null,\"type\":\"js\",\"url\":\"\\/assetserver\\/a371ad546c7103190b2a50e7b48d9321e4ff74ac-all.js\"},{\"name\":null,\"type\":\"css\",\"url\":\"\\/assetserver\\/5762da8363b7bdc341622051ef36e5d544811e67-style.css\"},{\"name\":null,\"type\":\"css\",\"url\":\"\\/assetserver\\/3adddd1658906b22aee092f05eeb7474fa7ba7b4-bulma_confined.min.css\"}],\"type\":\"async_block\"},\"id\":\"12393633978397353836\",\"handlers\":{\"changes\":[\"(function (val){return (val!=this.model[\\\"changes\\\"]()) ? (this.valueFromJulia[\\\"changes\\\"]=true, this.model[\\\"changes\\\"](val)) : undefined})\"],\"index\":[\"(function (val){return (val!=this.model[\\\"index\\\"]()) ? (this.valueFromJulia[\\\"index\\\"]=true, this.model[\\\"index\\\"](val)) : undefined})\"]},\"systemjs_options\":null,\"mount_callbacks\":[\"function () {\\n    var handler = (function (ko, koPunches) {\\n    ko.punches.enableAll();\\n    ko.bindingHandlers.numericValue = {\\n        init: function(element, valueAccessor, allBindings, data, context) {\\n            var stringified = ko.observable(ko.unwrap(valueAccessor()));\\n            stringified.subscribe(function(value) {\\n                var val = parseFloat(value);\\n                if (!isNaN(val)) {\\n                    valueAccessor()(val);\\n                }\\n            });\\n            valueAccessor().subscribe(function(value) {\\n                var str = JSON.stringify(value);\\n                if ((str == \\\"0\\\") && ([\\\"-0\\\", \\\"-0.\\\"].indexOf(stringified()) >= 0))\\n                     return;\\n                 if ([\\\"null\\\", \\\"\\\"].indexOf(str) >= 0)\\n                     return;\\n                stringified(str);\\n            });\\n            ko.applyBindingsToNode(\\n                element,\\n                {\\n                    value: stringified,\\n                    valueUpdate: allBindings.get('valueUpdate'),\\n                },\\n                context,\\n            );\\n        }\\n    };\\n    var json_data = {\\\"formatted_vals\\\":[\\\"6\\\",\\\"7\\\",\\\"8\\\",\\\"9\\\",\\\"10\\\",\\\"11\\\",\\\"12\\\"],\\\"changes\\\":WebIO.getval({\\\"name\\\":\\\"changes\\\",\\\"scope\\\":\\\"12393633978397353836\\\",\\\"id\\\":\\\"9419216037175924415\\\",\\\"type\\\":\\\"observable\\\"}),\\\"index\\\":WebIO.getval({\\\"name\\\":\\\"index\\\",\\\"scope\\\":\\\"12393633978397353836\\\",\\\"id\\\":\\\"13051675822628980018\\\",\\\"type\\\":\\\"observable\\\"})};\\n    var self = this;\\n    function AppViewModel() {\\n        for (var key in json_data) {\\n            var el = json_data[key];\\n            this[key] = Array.isArray(el) ? ko.observableArray(el) : ko.observable(el);\\n        }\\n        \\n        [this[\\\"formatted_val\\\"]=ko.computed(    function(){\\n        return this.formatted_vals()[parseInt(this.index())-(6)];\\n    }\\n,this)]\\n        [this[\\\"changes\\\"].subscribe((function (val){!(this.valueFromJulia[\\\"changes\\\"]) ? (WebIO.setval({\\\"name\\\":\\\"changes\\\",\\\"scope\\\":\\\"12393633978397353836\\\",\\\"id\\\":\\\"9419216037175924415\\\",\\\"type\\\":\\\"observable\\\"},val)) : undefined; return this.valueFromJulia[\\\"changes\\\"]=false}),self),this[\\\"index\\\"].subscribe((function (val){!(this.valueFromJulia[\\\"index\\\"]) ? (WebIO.setval({\\\"name\\\":\\\"index\\\",\\\"scope\\\":\\\"12393633978397353836\\\",\\\"id\\\":\\\"13051675822628980018\\\",\\\"type\\\":\\\"observable\\\"},val)) : undefined; return this.valueFromJulia[\\\"index\\\"]=false}),self)]\\n        \\n    }\\n    self.model = new AppViewModel();\\n    self.valueFromJulia = {};\\n    for (var key in json_data) {\\n        self.valueFromJulia[key] = false;\\n    }\\n    ko.applyBindings(self.model, self.dom);\\n}\\n);\\n    (WebIO.importBlock({\\\"data\\\":[{\\\"name\\\":\\\"knockout\\\",\\\"type\\\":\\\"js\\\",\\\"url\\\":\\\"\\/assetserver\\/c7e9525c60334db1a679535c544de0605a206866-knockout.js\\\"},{\\\"name\\\":\\\"knockout_punches\\\",\\\"type\\\":\\\"js\\\",\\\"url\\\":\\\"\\/assetserver\\/25d986356c2356e73454f2b9198affa4b0e07e2e-knockout_punches.js\\\"}],\\\"type\\\":\\\"async_block\\\"})).then((imports) => handler.apply(this, imports));\\n}\\n\"],\"observables\":{\"changes\":{\"sync\":false,\"id\":\"9419216037175924415\",\"value\":0},\"index\":{\"sync\":true,\"id\":\"13051675822628980018\",\"value\":9}}},\"children\":[{\"props\":{\"className\":\"interact-flex-row interact-widget\"},\"nodeType\":\"DOM\",\"type\":\"node\",\"instanceArgs\":{\"namespace\":\"html\",\"tag\":\"div\"},\"children\":[{\"props\":{\"className\":\"interact-flex-row-left\"},\"nodeType\":\"DOM\",\"type\":\"node\",\"instanceArgs\":{\"namespace\":\"html\",\"tag\":\"div\"},\"children\":[{\"props\":{\"className\":\"interact \",\"style\":{\"padding\":\"5px 10px 0px 10px\"}},\"nodeType\":\"DOM\",\"type\":\"node\",\"instanceArgs\":{\"namespace\":\"html\",\"tag\":\"label\"},\"children\":[\"n\"]}]},{\"props\":{\"className\":\"interact-flex-row-center\"},\"nodeType\":\"DOM\",\"type\":\"node\",\"instanceArgs\":{\"namespace\":\"html\",\"tag\":\"div\"},\"children\":[{\"props\":{\"max\":12,\"min\":6,\"attributes\":{\"type\":\"range\",\"data-bind\":\"numericValue: index, valueUpdate: 'input', event: {change: function (){this.changes(this.changes()+1)}}\",\"orient\":\"horizontal\"},\"step\":1,\"className\":\"slider slider is-fullwidth\",\"style\":{}},\"nodeType\":\"DOM\",\"type\":\"node\",\"instanceArgs\":{\"namespace\":\"html\",\"tag\":\"input\"},\"children\":[]}]},{\"props\":{\"className\":\"interact-flex-row-right\"},\"nodeType\":\"DOM\",\"type\":\"node\",\"instanceArgs\":{\"namespace\":\"html\",\"tag\":\"div\"},\"children\":[{\"props\":{\"attributes\":{\"data-bind\":\"text: formatted_val\"}},\"nodeType\":\"DOM\",\"type\":\"node\",\"instanceArgs\":{\"namespace\":\"html\",\"tag\":\"p\"},\"children\":[]}]}]}]}]},{\"props\":{},\"nodeType\":\"Scope\",\"type\":\"node\",\"instanceArgs\":{\"imports\":{\"data\":[],\"type\":\"async_block\"},\"id\":\"1066331764972006600\",\"handlers\":{},\"systemjs_options\":null,\"mount_callbacks\":[],\"observables\":{\"obs-node\":{\"sync\":false,\"id\":\"17761816821849544710\",\"value\":{\"props\":{\"className\":\"interact-flex-row interact-widget\"},\"nodeType\":\"DOM\",\"type\":\"node\",\"instanceArgs\":{\"namespace\":\"html\",\"tag\":\"div\"},\"children\":[{\"props\":{\"setInnerHtml\":\"<pre>1×10 adjoint(::Vector{Float64}) with eltype Float64:\\n 0.5  -1.0  1.0  -1.0  1.0  -1.0  1.0  -1.0  1.0  -0.5<\\/pre>\"},\"nodeType\":\"DOM\",\"type\":\"node\",\"instanceArgs\":{\"namespace\":\"html\",\"tag\":\"div\"},\"children\":[]}]}}}},\"children\":[{\"props\":{},\"nodeType\":\"ObservableNode\",\"type\":\"node\",\"instanceArgs\":{\"id\":\"17761816821849544710\",\"name\":\"obs-node\"},\"children\":[]}]}]},\n",
       "        window,\n",
       "    );\n",
       "    })()\n",
       "    </script>\n",
       "</div>\n"
      ],
      "text/plain": [
       "Node{WebIO.DOM}(WebIO.DOM(:html, :div), Any[Node{WebIO.DOM}(WebIO.DOM(:html, :div), Any[Scope(Node{WebIO.DOM}(WebIO.DOM(:html, :div), Any[Node{WebIO.DOM}(WebIO.DOM(:html, :div), Any[Node{WebIO.DOM}(WebIO.DOM(:html, :label), Any[\"n\"], Dict{Symbol, Any}(:className => \"interact \", :style => Dict{Any, Any}(:padding => \"5px 10px 0px 10px\")))], Dict{Symbol, Any}(:className => \"interact-flex-row-left\")), Node{WebIO.DOM}(WebIO.DOM(:html, :div), Any[Node{WebIO.DOM}(WebIO.DOM(:html, :input), Any[], Dict{Symbol, Any}(:max => 12, :min => 6, :attributes => Dict{Any, Any}(:type => \"range\", Symbol(\"data-bind\") => \"numericValue: index, valueUpdate: 'input', event: {change: function (){this.changes(this.changes()+1)}}\", \"orient\" => \"horizontal\"), :step => 1, :className => \"slider slider is-fullwidth\", :style => Dict{Any, Any}()))], Dict{Symbol, Any}(:className => \"interact-flex-row-center\")), Node{WebIO.DOM}(WebIO.DOM(:html, :div), Any[Node{WebIO.DOM}(WebIO.DOM(:html, :p), Any[], Dict{Symbol, Any}(:attributes => Dict(\"data-bind\" => \"text: formatted_val\")))], Dict{Symbol, Any}(:className => \"interact-flex-row-right\"))], Dict{Symbol, Any}(:className => \"interact-flex-row interact-widget\")), Dict{String, Tuple{Observables.AbstractObservable, Union{Nothing, Bool}}}(\"changes\" => (Observable{Int64} with 1 listeners. Value:\n",
       "0, nothing), \"index\" => (Observable{Int64} with 2 listeners. Value:\n",
       "9, nothing)), Set{String}(), nothing, Asset[Asset(\"js\", \"knockout\", \"/Users/Folkmar/.julia/packages/Knockout/3gjS1/src/../assets/knockout.js\"), Asset(\"js\", \"knockout_punches\", \"/Users/Folkmar/.julia/packages/Knockout/3gjS1/src/../assets/knockout_punches.js\"), Asset(\"js\", nothing, \"/Users/Folkmar/.julia/packages/InteractBase/o1I6G/src/../assets/all.js\"), Asset(\"css\", nothing, \"/Users/Folkmar/.julia/packages/InteractBase/o1I6G/src/../assets/style.css\"), Asset(\"css\", nothing, \"/Users/Folkmar/.julia/packages/Interact/pVyN2/src/../assets/bulma_confined.min.css\")], Dict{Any, Any}(\"changes\" => Any[WebIO.JSString(\"(function (val){return (val!=this.model[\\\"changes\\\"]()) ? (this.valueFromJulia[\\\"changes\\\"]=true, this.model[\\\"changes\\\"](val)) : undefined})\")], \"index\" => Any[WebIO.JSString(\"(function (val){return (val!=this.model[\\\"index\\\"]()) ? (this.valueFromJulia[\\\"index\\\"]=true, this.model[\\\"index\\\"](val)) : undefined})\")]), WebIO.ConnectionPool(Channel{Any}(32), Set{AbstractConnection}(), Condition(Base.InvasiveLinkedList{Task}(Task (runnable) @0x0000000115fffdb0, Task (runnable) @0x0000000115fffdb0), Base.AlwaysLockedST(1))), WebIO.JSString[WebIO.JSString(\"function () {\\n    var handler = (function (ko, koPunches) {\\n    ko.punches.enableAll();\\n    ko.bindingHandlers.numericValue = {\\n        init: function(element, valueAccessor, allBindings, data, context) {\\n            var stringified = ko.observable(ko.unwrap(valueAccessor()));\\n            stringified.subscribe(function(value) {\\n                var val = parseFloat(value);\\n                if (!isNaN(val)) {\\n                    valueAccessor()(val);\\n                }\\n            });\\n            valueAccessor().subscribe(function(value) {\\n                var str = JSON.stringify(value);\\n                if ((str == \\\"0\\\") && ([\\\"-0\\\", \\\"-0.\\\"].indexOf(stringified()) >= 0))\\n                     return;\\n                 if ([\\\"null\\\", \\\"\\\"].indexOf(str) >= 0)\\n                     return;\\n                stringified(str);\\n            });\\n            ko.applyBindingsToNode(\\n                element,\\n                {\\n                    value: stringified,\\n                    valueUpdate: allBindings.get('valueUpdate'),\\n                },\\n                context,\\n            );\\n        }\\n    };\\n    var json_data = {\\\"formatted_vals\\\":[\\\"6\\\",\\\"7\\\",\\\"8\\\",\\\"9\\\",\\\"10\\\",\\\"11\\\",\\\"12\\\"],\\\"changes\\\":WebIO.getval({\\\"name\\\":\\\"changes\\\",\\\"scope\\\":\\\"12393633978397353836\\\",\\\"id\\\":\\\"9419216037175924415\\\",\\\"type\\\":\\\"observable\\\"}),\\\"index\\\":WebIO.getval({\\\"name\\\":\\\"index\\\",\\\"scope\\\":\\\"12393633978397353836\\\",\\\"id\\\":\\\"13051675822628980018\\\",\\\"type\\\":\\\"observable\\\"})};\\n    var self = this;\\n    function AppViewModel() {\\n        for (var key in json_data) {\\n            var el = json_data[key];\\n            this[key] = Array.isArray(el) ? ko.observableArray(el) : ko.observable(el);\\n        }\\n        \\n        [this[\\\"formatted_val\\\"]=ko.computed(    function(){\\n        return this.formatted_vals()[parseInt(this.index())-(6)];\\n    }\\n,this)]\\n        [this[\\\"changes\\\"].subscribe((function (val){!(this.valueFromJulia[\\\"changes\\\"]) ? (WebIO.setval({\\\"name\\\":\\\"changes\\\",\\\"scope\\\":\\\"12393633978397353836\\\",\\\"id\\\":\\\"9419216037175924415\\\",\\\"type\\\":\\\"observable\\\"},val)) : undefined; return this.valueFromJulia[\\\"changes\\\"]=false}),self),this[\\\"index\\\"].subscribe((function (val){!(this.valueFromJulia[\\\"index\\\"]) ? (WebIO.setval({\\\"name\\\":\\\"index\\\",\\\"scope\\\":\\\"12393633978397353836\\\",\\\"id\\\":\\\"13051675822628980018\\\",\\\"type\\\":\\\"observable\\\"},val)) : undefined; return this.valueFromJulia[\\\"index\\\"]=false}),self)]\\n        \\n    }\\n    self.model = new AppViewModel();\\n    self.valueFromJulia = {};\\n    for (var key in json_data) {\\n        self.valueFromJulia[key] = false;\\n    }\\n    ko.applyBindings(self.model, self.dom);\\n}\\n);\\n    (WebIO.importBlock({\\\"data\\\":[{\\\"name\\\":\\\"knockout\\\",\\\"type\\\":\\\"js\\\",\\\"url\\\":\\\"/assetserver/c7e9525c60334db1a679535c544de0605a206866-knockout.js\\\"},{\\\"name\\\":\\\"knockout_punches\\\",\\\"type\\\":\\\"js\\\",\\\"url\\\":\\\"/assetserver/25d986356c2356e73454f2b9198affa4b0e07e2e-knockout_punches.js\\\"}],\\\"type\\\":\\\"async_block\\\"})).then((imports) => handler.apply(this, imports));\\n}\\n\")])], Dict{Symbol, Any}(:className => \"field interact-widget\")), Observable{Node{WebIO.DOM}} with 0 listeners. Value:\n",
       "Node{WebIO.DOM}(WebIO.DOM(:html, :div), Any[[0.5 -0.9999999999999998 … 0.9999999999999968 -0.499999999999998]], Dict{Symbol, Any}(:className => \"interact-flex-row interact-widget\"))], Dict{Symbol, Any}())"
      ]
     },
     "execution_count": 7,
     "metadata": {
      "application/vnd.webio.node+json": {
       "kernelId": "0b9f4c21-30f4-4e5c-a287-dbb1369d0740"
      }
     },
     "output_type": "execute_result"
    }
   ],
   "source": [
    "@manipulate for n=6:12\n",
    "    x = ChebyshevKnots(-π,π,n)\n",
    "    λ = Lagrange(x).λ'\n",
    "    λ/(2λ[1])\n",
    "end"
   ]
  },
  {
   "cell_type": "markdown",
   "metadata": {},
   "source": [
    "## (24.1) Lebesgue-Konstante"
   ]
  },
  {
   "cell_type": "code",
   "execution_count": 8,
   "metadata": {
    "ExecuteTime": {
     "end_time": "2022-01-10T19:18:18.175000+01:00",
     "start_time": "2022-01-10T18:18:15.607Z"
    }
   },
   "outputs": [
    {
     "data": {
      "image/svg+xml": [
       "<?xml version=\"1.0\" encoding=\"utf-8\"?>\n",
       "<svg xmlns=\"http://www.w3.org/2000/svg\" xmlns:xlink=\"http://www.w3.org/1999/xlink\" width=\"600\" height=\"400\" viewBox=\"0 0 2400 1600\">\n",
       "<defs>\n",
       "  <clipPath id=\"clip020\">\n",
       "    <rect x=\"0\" y=\"0\" width=\"2400\" height=\"1600\"/>\n",
       "  </clipPath>\n",
       "</defs>\n",
       "<path clip-path=\"url(#clip020)\" d=\"\n",
       "M0 1600 L2400 1600 L2400 0 L0 0  Z\n",
       "  \" fill=\"#ffffff\" fill-rule=\"evenodd\" fill-opacity=\"1\"/>\n",
       "<defs>\n",
       "  <clipPath id=\"clip021\">\n",
       "    <rect x=\"480\" y=\"0\" width=\"1681\" height=\"1600\"/>\n",
       "  </clipPath>\n",
       "</defs>\n",
       "<defs>\n",
       "  <clipPath id=\"clip022\">\n",
       "    <rect x=\"212\" y=\"47\" width=\"2141\" height=\"1377\"/>\n",
       "  </clipPath>\n",
       "</defs>\n",
       "<path clip-path=\"url(#clip020)\" d=\"\n",
       "M255.203 1423.18 L2352.76 1423.18 L2352.76 47.2441 L255.203 47.2441  Z\n",
       "  \" fill=\"#ffffff\" fill-rule=\"evenodd\" fill-opacity=\"1\"/>\n",
       "<defs>\n",
       "  <clipPath id=\"clip023\">\n",
       "    <rect x=\"255\" y=\"47\" width=\"2099\" height=\"1377\"/>\n",
       "  </clipPath>\n",
       "</defs>\n",
       "<polyline clip-path=\"url(#clip023)\" style=\"stroke:#000000; stroke-linecap:butt; stroke-linejoin:round; stroke-width:2; stroke-opacity:0.1; fill:none\" points=\"\n",
       "  314.567,1423.18 314.567,47.2441 \n",
       "  \"/>\n",
       "<polyline clip-path=\"url(#clip023)\" style=\"stroke:#000000; stroke-linecap:butt; stroke-linejoin:round; stroke-width:2; stroke-opacity:0.1; fill:none\" points=\"\n",
       "  512.45,1423.18 512.45,47.2441 \n",
       "  \"/>\n",
       "<polyline clip-path=\"url(#clip023)\" style=\"stroke:#000000; stroke-linecap:butt; stroke-linejoin:round; stroke-width:2; stroke-opacity:0.1; fill:none\" points=\"\n",
       "  710.332,1423.18 710.332,47.2441 \n",
       "  \"/>\n",
       "<polyline clip-path=\"url(#clip023)\" style=\"stroke:#000000; stroke-linecap:butt; stroke-linejoin:round; stroke-width:2; stroke-opacity:0.1; fill:none\" points=\"\n",
       "  908.214,1423.18 908.214,47.2441 \n",
       "  \"/>\n",
       "<polyline clip-path=\"url(#clip023)\" style=\"stroke:#000000; stroke-linecap:butt; stroke-linejoin:round; stroke-width:2; stroke-opacity:0.1; fill:none\" points=\"\n",
       "  1106.1,1423.18 1106.1,47.2441 \n",
       "  \"/>\n",
       "<polyline clip-path=\"url(#clip023)\" style=\"stroke:#000000; stroke-linecap:butt; stroke-linejoin:round; stroke-width:2; stroke-opacity:0.1; fill:none\" points=\"\n",
       "  1303.98,1423.18 1303.98,47.2441 \n",
       "  \"/>\n",
       "<polyline clip-path=\"url(#clip023)\" style=\"stroke:#000000; stroke-linecap:butt; stroke-linejoin:round; stroke-width:2; stroke-opacity:0.1; fill:none\" points=\"\n",
       "  1501.86,1423.18 1501.86,47.2441 \n",
       "  \"/>\n",
       "<polyline clip-path=\"url(#clip023)\" style=\"stroke:#000000; stroke-linecap:butt; stroke-linejoin:round; stroke-width:2; stroke-opacity:0.1; fill:none\" points=\"\n",
       "  1699.74,1423.18 1699.74,47.2441 \n",
       "  \"/>\n",
       "<polyline clip-path=\"url(#clip023)\" style=\"stroke:#000000; stroke-linecap:butt; stroke-linejoin:round; stroke-width:2; stroke-opacity:0.1; fill:none\" points=\"\n",
       "  1897.63,1423.18 1897.63,47.2441 \n",
       "  \"/>\n",
       "<polyline clip-path=\"url(#clip023)\" style=\"stroke:#000000; stroke-linecap:butt; stroke-linejoin:round; stroke-width:2; stroke-opacity:0.1; fill:none\" points=\"\n",
       "  2095.51,1423.18 2095.51,47.2441 \n",
       "  \"/>\n",
       "<polyline clip-path=\"url(#clip023)\" style=\"stroke:#000000; stroke-linecap:butt; stroke-linejoin:round; stroke-width:2; stroke-opacity:0.1; fill:none\" points=\"\n",
       "  2293.39,1423.18 2293.39,47.2441 \n",
       "  \"/>\n",
       "<polyline clip-path=\"url(#clip020)\" style=\"stroke:#000000; stroke-linecap:butt; stroke-linejoin:round; stroke-width:4; stroke-opacity:1; fill:none\" points=\"\n",
       "  255.203,1423.18 2352.76,1423.18 \n",
       "  \"/>\n",
       "<polyline clip-path=\"url(#clip020)\" style=\"stroke:#000000; stroke-linecap:butt; stroke-linejoin:round; stroke-width:4; stroke-opacity:1; fill:none\" points=\"\n",
       "  314.567,1423.18 314.567,1404.28 \n",
       "  \"/>\n",
       "<polyline clip-path=\"url(#clip020)\" style=\"stroke:#000000; stroke-linecap:butt; stroke-linejoin:round; stroke-width:4; stroke-opacity:1; fill:none\" points=\"\n",
       "  512.45,1423.18 512.45,1404.28 \n",
       "  \"/>\n",
       "<polyline clip-path=\"url(#clip020)\" style=\"stroke:#000000; stroke-linecap:butt; stroke-linejoin:round; stroke-width:4; stroke-opacity:1; fill:none\" points=\"\n",
       "  710.332,1423.18 710.332,1404.28 \n",
       "  \"/>\n",
       "<polyline clip-path=\"url(#clip020)\" style=\"stroke:#000000; stroke-linecap:butt; stroke-linejoin:round; stroke-width:4; stroke-opacity:1; fill:none\" points=\"\n",
       "  908.214,1423.18 908.214,1404.28 \n",
       "  \"/>\n",
       "<polyline clip-path=\"url(#clip020)\" style=\"stroke:#000000; stroke-linecap:butt; stroke-linejoin:round; stroke-width:4; stroke-opacity:1; fill:none\" points=\"\n",
       "  1106.1,1423.18 1106.1,1404.28 \n",
       "  \"/>\n",
       "<polyline clip-path=\"url(#clip020)\" style=\"stroke:#000000; stroke-linecap:butt; stroke-linejoin:round; stroke-width:4; stroke-opacity:1; fill:none\" points=\"\n",
       "  1303.98,1423.18 1303.98,1404.28 \n",
       "  \"/>\n",
       "<polyline clip-path=\"url(#clip020)\" style=\"stroke:#000000; stroke-linecap:butt; stroke-linejoin:round; stroke-width:4; stroke-opacity:1; fill:none\" points=\"\n",
       "  1501.86,1423.18 1501.86,1404.28 \n",
       "  \"/>\n",
       "<polyline clip-path=\"url(#clip020)\" style=\"stroke:#000000; stroke-linecap:butt; stroke-linejoin:round; stroke-width:4; stroke-opacity:1; fill:none\" points=\"\n",
       "  1699.74,1423.18 1699.74,1404.28 \n",
       "  \"/>\n",
       "<polyline clip-path=\"url(#clip020)\" style=\"stroke:#000000; stroke-linecap:butt; stroke-linejoin:round; stroke-width:4; stroke-opacity:1; fill:none\" points=\"\n",
       "  1897.63,1423.18 1897.63,1404.28 \n",
       "  \"/>\n",
       "<polyline clip-path=\"url(#clip020)\" style=\"stroke:#000000; stroke-linecap:butt; stroke-linejoin:round; stroke-width:4; stroke-opacity:1; fill:none\" points=\"\n",
       "  2095.51,1423.18 2095.51,1404.28 \n",
       "  \"/>\n",
       "<polyline clip-path=\"url(#clip020)\" style=\"stroke:#000000; stroke-linecap:butt; stroke-linejoin:round; stroke-width:4; stroke-opacity:1; fill:none\" points=\"\n",
       "  2293.39,1423.18 2293.39,1404.28 \n",
       "  \"/>\n",
       "<path clip-path=\"url(#clip020)\" d=\"M291.952 1454.1 Q288.341 1454.1 286.512 1457.66 Q284.706 1461.2 284.706 1468.33 Q284.706 1475.44 286.512 1479.01 Q288.341 1482.55 291.952 1482.55 Q295.586 1482.55 297.391 1479.01 Q299.22 1475.44 299.22 1468.33 Q299.22 1461.2 297.391 1457.66 Q295.586 1454.1 291.952 1454.1 M291.952 1450.39 Q297.762 1450.39 300.817 1455 Q303.896 1459.58 303.896 1468.33 Q303.896 1477.06 300.817 1481.67 Q297.762 1486.25 291.952 1486.25 Q286.142 1486.25 283.063 1481.67 Q280.007 1477.06 280.007 1468.33 Q280.007 1459.58 283.063 1455 Q286.142 1450.39 291.952 1450.39 Z\" fill=\"#000000\" fill-rule=\"evenodd\" fill-opacity=\"1\" /><path clip-path=\"url(#clip020)\" d=\"M312.114 1479.7 L316.998 1479.7 L316.998 1485.58 L312.114 1485.58 L312.114 1479.7 Z\" fill=\"#000000\" fill-rule=\"evenodd\" fill-opacity=\"1\" /><path clip-path=\"url(#clip020)\" d=\"M337.183 1454.1 Q333.572 1454.1 331.743 1457.66 Q329.938 1461.2 329.938 1468.33 Q329.938 1475.44 331.743 1479.01 Q333.572 1482.55 337.183 1482.55 Q340.817 1482.55 342.623 1479.01 Q344.451 1475.44 344.451 1468.33 Q344.451 1461.2 342.623 1457.66 Q340.817 1454.1 337.183 1454.1 M337.183 1450.39 Q342.993 1450.39 346.049 1455 Q349.127 1459.58 349.127 1468.33 Q349.127 1477.06 346.049 1481.67 Q342.993 1486.25 337.183 1486.25 Q331.373 1486.25 328.294 1481.67 Q325.239 1477.06 325.239 1468.33 Q325.239 1459.58 328.294 1455 Q331.373 1450.39 337.183 1450.39 Z\" fill=\"#000000\" fill-rule=\"evenodd\" fill-opacity=\"1\" /><path clip-path=\"url(#clip020)\" d=\"M490.448 1454.1 Q486.836 1454.1 485.008 1457.66 Q483.202 1461.2 483.202 1468.33 Q483.202 1475.44 485.008 1479.01 Q486.836 1482.55 490.448 1482.55 Q494.082 1482.55 495.887 1479.01 Q497.716 1475.44 497.716 1468.33 Q497.716 1461.2 495.887 1457.66 Q494.082 1454.1 490.448 1454.1 M490.448 1450.39 Q496.258 1450.39 499.313 1455 Q502.392 1459.58 502.392 1468.33 Q502.392 1477.06 499.313 1481.67 Q496.258 1486.25 490.448 1486.25 Q484.637 1486.25 481.559 1481.67 Q478.503 1477.06 478.503 1468.33 Q478.503 1459.58 481.559 1455 Q484.637 1450.39 490.448 1450.39 Z\" fill=\"#000000\" fill-rule=\"evenodd\" fill-opacity=\"1\" /><path clip-path=\"url(#clip020)\" d=\"M510.609 1479.7 L515.494 1479.7 L515.494 1485.58 L510.609 1485.58 L510.609 1479.7 Z\" fill=\"#000000\" fill-rule=\"evenodd\" fill-opacity=\"1\" /><path clip-path=\"url(#clip020)\" d=\"M526.489 1481.64 L534.128 1481.64 L534.128 1455.28 L525.818 1456.95 L525.818 1452.69 L534.082 1451.02 L538.757 1451.02 L538.757 1481.64 L546.396 1481.64 L546.396 1485.58 L526.489 1485.58 L526.489 1481.64 Z\" fill=\"#000000\" fill-rule=\"evenodd\" fill-opacity=\"1\" /><path clip-path=\"url(#clip020)\" d=\"M688.515 1454.1 Q684.904 1454.1 683.075 1457.66 Q681.27 1461.2 681.27 1468.33 Q681.27 1475.44 683.075 1479.01 Q684.904 1482.55 688.515 1482.55 Q692.149 1482.55 693.955 1479.01 Q695.784 1475.44 695.784 1468.33 Q695.784 1461.2 693.955 1457.66 Q692.149 1454.1 688.515 1454.1 M688.515 1450.39 Q694.325 1450.39 697.381 1455 Q700.459 1459.58 700.459 1468.33 Q700.459 1477.06 697.381 1481.67 Q694.325 1486.25 688.515 1486.25 Q682.705 1486.25 679.626 1481.67 Q676.571 1477.06 676.571 1468.33 Q676.571 1459.58 679.626 1455 Q682.705 1450.39 688.515 1450.39 Z\" fill=\"#000000\" fill-rule=\"evenodd\" fill-opacity=\"1\" /><path clip-path=\"url(#clip020)\" d=\"M708.677 1479.7 L713.561 1479.7 L713.561 1485.58 L708.677 1485.58 L708.677 1479.7 Z\" fill=\"#000000\" fill-rule=\"evenodd\" fill-opacity=\"1\" /><path clip-path=\"url(#clip020)\" d=\"M727.774 1481.64 L744.093 1481.64 L744.093 1485.58 L722.149 1485.58 L722.149 1481.64 Q724.811 1478.89 729.395 1474.26 Q734.001 1469.61 735.182 1468.27 Q737.427 1465.74 738.306 1464.01 Q739.209 1462.25 739.209 1460.56 Q739.209 1457.8 737.265 1456.07 Q735.344 1454.33 732.242 1454.33 Q730.043 1454.33 727.589 1455.09 Q725.158 1455.86 722.381 1457.41 L722.381 1452.69 Q725.205 1451.55 727.658 1450.97 Q730.112 1450.39 732.149 1450.39 Q737.519 1450.39 740.714 1453.08 Q743.908 1455.77 743.908 1460.26 Q743.908 1462.39 743.098 1464.31 Q742.311 1466.2 740.205 1468.8 Q739.626 1469.47 736.524 1472.69 Q733.422 1475.88 727.774 1481.64 Z\" fill=\"#000000\" fill-rule=\"evenodd\" fill-opacity=\"1\" /><path clip-path=\"url(#clip020)\" d=\"M885.923 1454.1 Q882.312 1454.1 880.483 1457.66 Q878.678 1461.2 878.678 1468.33 Q878.678 1475.44 880.483 1479.01 Q882.312 1482.55 885.923 1482.55 Q889.557 1482.55 891.363 1479.01 Q893.191 1475.44 893.191 1468.33 Q893.191 1461.2 891.363 1457.66 Q889.557 1454.1 885.923 1454.1 M885.923 1450.39 Q891.733 1450.39 894.789 1455 Q897.867 1459.58 897.867 1468.33 Q897.867 1477.06 894.789 1481.67 Q891.733 1486.25 885.923 1486.25 Q880.113 1486.25 877.034 1481.67 Q873.979 1477.06 873.979 1468.33 Q873.979 1459.58 877.034 1455 Q880.113 1450.39 885.923 1450.39 Z\" fill=\"#000000\" fill-rule=\"evenodd\" fill-opacity=\"1\" /><path clip-path=\"url(#clip020)\" d=\"M906.085 1479.7 L910.969 1479.7 L910.969 1485.58 L906.085 1485.58 L906.085 1479.7 Z\" fill=\"#000000\" fill-rule=\"evenodd\" fill-opacity=\"1\" /><path clip-path=\"url(#clip020)\" d=\"M935.321 1466.95 Q938.677 1467.66 940.552 1469.93 Q942.45 1472.2 942.45 1475.53 Q942.45 1480.65 938.932 1483.45 Q935.413 1486.25 928.932 1486.25 Q926.756 1486.25 924.441 1485.81 Q922.15 1485.39 919.696 1484.54 L919.696 1480.02 Q921.64 1481.16 923.955 1481.74 Q926.27 1482.32 928.793 1482.32 Q933.191 1482.32 935.483 1480.58 Q937.798 1478.84 937.798 1475.53 Q937.798 1472.48 935.645 1470.77 Q933.515 1469.03 929.696 1469.03 L925.668 1469.03 L925.668 1465.19 L929.881 1465.19 Q933.33 1465.19 935.159 1463.82 Q936.987 1462.43 936.987 1459.84 Q936.987 1457.18 935.089 1455.77 Q933.214 1454.33 929.696 1454.33 Q927.775 1454.33 925.576 1454.75 Q923.376 1455.16 920.738 1456.04 L920.738 1451.88 Q923.4 1451.14 925.714 1450.77 Q928.052 1450.39 930.113 1450.39 Q935.437 1450.39 938.538 1452.83 Q941.64 1455.23 941.64 1459.35 Q941.64 1462.22 939.997 1464.21 Q938.353 1466.18 935.321 1466.95 Z\" fill=\"#000000\" fill-rule=\"evenodd\" fill-opacity=\"1\" /><path clip-path=\"url(#clip020)\" d=\"M1083.24 1454.1 Q1079.63 1454.1 1077.8 1457.66 Q1075.99 1461.2 1075.99 1468.33 Q1075.99 1475.44 1077.8 1479.01 Q1079.63 1482.55 1083.24 1482.55 Q1086.87 1482.55 1088.68 1479.01 Q1090.51 1475.44 1090.51 1468.33 Q1090.51 1461.2 1088.68 1457.66 Q1086.87 1454.1 1083.24 1454.1 M1083.24 1450.39 Q1089.05 1450.39 1092.1 1455 Q1095.18 1459.58 1095.18 1468.33 Q1095.18 1477.06 1092.1 1481.67 Q1089.05 1486.25 1083.24 1486.25 Q1077.43 1486.25 1074.35 1481.67 Q1071.29 1477.06 1071.29 1468.33 Q1071.29 1459.58 1074.35 1455 Q1077.43 1450.39 1083.24 1450.39 Z\" fill=\"#000000\" fill-rule=\"evenodd\" fill-opacity=\"1\" /><path clip-path=\"url(#clip020)\" d=\"M1103.4 1479.7 L1108.28 1479.7 L1108.28 1485.58 L1103.4 1485.58 L1103.4 1479.7 Z\" fill=\"#000000\" fill-rule=\"evenodd\" fill-opacity=\"1\" /><path clip-path=\"url(#clip020)\" d=\"M1131.32 1455.09 L1119.51 1473.54 L1131.32 1473.54 L1131.32 1455.09 M1130.09 1451.02 L1135.97 1451.02 L1135.97 1473.54 L1140.9 1473.54 L1140.9 1477.43 L1135.97 1477.43 L1135.97 1485.58 L1131.32 1485.58 L1131.32 1477.43 L1115.71 1477.43 L1115.71 1472.92 L1130.09 1451.02 Z\" fill=\"#000000\" fill-rule=\"evenodd\" fill-opacity=\"1\" /><path clip-path=\"url(#clip020)\" d=\"M1281.86 1454.1 Q1278.25 1454.1 1276.42 1457.66 Q1274.62 1461.2 1274.62 1468.33 Q1274.62 1475.44 1276.42 1479.01 Q1278.25 1482.55 1281.86 1482.55 Q1285.5 1482.55 1287.3 1479.01 Q1289.13 1475.44 1289.13 1468.33 Q1289.13 1461.2 1287.3 1457.66 Q1285.5 1454.1 1281.86 1454.1 M1281.86 1450.39 Q1287.67 1450.39 1290.73 1455 Q1293.81 1459.58 1293.81 1468.33 Q1293.81 1477.06 1290.73 1481.67 Q1287.67 1486.25 1281.86 1486.25 Q1276.05 1486.25 1272.97 1481.67 Q1269.92 1477.06 1269.92 1468.33 Q1269.92 1459.58 1272.97 1455 Q1276.05 1450.39 1281.86 1450.39 Z\" fill=\"#000000\" fill-rule=\"evenodd\" fill-opacity=\"1\" /><path clip-path=\"url(#clip020)\" d=\"M1302.02 1479.7 L1306.91 1479.7 L1306.91 1485.58 L1302.02 1485.58 L1302.02 1479.7 Z\" fill=\"#000000\" fill-rule=\"evenodd\" fill-opacity=\"1\" /><path clip-path=\"url(#clip020)\" d=\"M1317.14 1451.02 L1335.5 1451.02 L1335.5 1454.96 L1321.42 1454.96 L1321.42 1463.43 Q1322.44 1463.08 1323.46 1462.92 Q1324.48 1462.73 1325.5 1462.73 Q1331.28 1462.73 1334.66 1465.9 Q1338.04 1469.08 1338.04 1474.49 Q1338.04 1480.07 1334.57 1483.17 Q1331.1 1486.25 1324.78 1486.25 Q1322.6 1486.25 1320.33 1485.88 Q1318.09 1485.51 1315.68 1484.77 L1315.68 1480.07 Q1317.76 1481.2 1319.99 1481.76 Q1322.21 1482.32 1324.69 1482.32 Q1328.69 1482.32 1331.03 1480.21 Q1333.37 1478.1 1333.37 1474.49 Q1333.37 1470.88 1331.03 1468.77 Q1328.69 1466.67 1324.69 1466.67 Q1322.81 1466.67 1320.94 1467.08 Q1319.08 1467.5 1317.14 1468.38 L1317.14 1451.02 Z\" fill=\"#000000\" fill-rule=\"evenodd\" fill-opacity=\"1\" /><path clip-path=\"url(#clip020)\" d=\"M1479.17 1454.1 Q1475.55 1454.1 1473.73 1457.66 Q1471.92 1461.2 1471.92 1468.33 Q1471.92 1475.44 1473.73 1479.01 Q1475.55 1482.55 1479.17 1482.55 Q1482.8 1482.55 1484.6 1479.01 Q1486.43 1475.44 1486.43 1468.33 Q1486.43 1461.2 1484.6 1457.66 Q1482.8 1454.1 1479.17 1454.1 M1479.17 1450.39 Q1484.98 1450.39 1488.03 1455 Q1491.11 1459.58 1491.11 1468.33 Q1491.11 1477.06 1488.03 1481.67 Q1484.98 1486.25 1479.17 1486.25 Q1473.35 1486.25 1470.28 1481.67 Q1467.22 1477.06 1467.22 1468.33 Q1467.22 1459.58 1470.28 1455 Q1473.35 1450.39 1479.17 1450.39 Z\" fill=\"#000000\" fill-rule=\"evenodd\" fill-opacity=\"1\" /><path clip-path=\"url(#clip020)\" d=\"M1499.33 1479.7 L1504.21 1479.7 L1504.21 1485.58 L1499.33 1485.58 L1499.33 1479.7 Z\" fill=\"#000000\" fill-rule=\"evenodd\" fill-opacity=\"1\" /><path clip-path=\"url(#clip020)\" d=\"M1524.97 1466.44 Q1521.83 1466.44 1519.97 1468.59 Q1518.15 1470.74 1518.15 1474.49 Q1518.15 1478.22 1519.97 1480.39 Q1521.83 1482.55 1524.97 1482.55 Q1528.12 1482.55 1529.95 1480.39 Q1531.8 1478.22 1531.8 1474.49 Q1531.8 1470.74 1529.95 1468.59 Q1528.12 1466.44 1524.97 1466.44 M1534.26 1451.78 L1534.26 1456.04 Q1532.5 1455.21 1530.69 1454.77 Q1528.91 1454.33 1527.15 1454.33 Q1522.52 1454.33 1520.07 1457.45 Q1517.64 1460.58 1517.29 1466.9 Q1518.66 1464.89 1520.72 1463.82 Q1522.78 1462.73 1525.25 1462.73 Q1530.46 1462.73 1533.47 1465.9 Q1536.5 1469.05 1536.5 1474.49 Q1536.5 1479.82 1533.35 1483.03 Q1530.21 1486.25 1524.97 1486.25 Q1518.98 1486.25 1515.81 1481.67 Q1512.64 1477.06 1512.64 1468.33 Q1512.64 1460.14 1516.53 1455.28 Q1520.41 1450.39 1526.97 1450.39 Q1528.72 1450.39 1530.51 1450.74 Q1532.31 1451.09 1534.26 1451.78 Z\" fill=\"#000000\" fill-rule=\"evenodd\" fill-opacity=\"1\" /><path clip-path=\"url(#clip020)\" d=\"M1677.58 1454.1 Q1673.97 1454.1 1672.14 1457.66 Q1670.33 1461.2 1670.33 1468.33 Q1670.33 1475.44 1672.14 1479.01 Q1673.97 1482.55 1677.58 1482.55 Q1681.21 1482.55 1683.02 1479.01 Q1684.85 1475.44 1684.85 1468.33 Q1684.85 1461.2 1683.02 1457.66 Q1681.21 1454.1 1677.58 1454.1 M1677.58 1450.39 Q1683.39 1450.39 1686.45 1455 Q1689.52 1459.58 1689.52 1468.33 Q1689.52 1477.06 1686.45 1481.67 Q1683.39 1486.25 1677.58 1486.25 Q1671.77 1486.25 1668.69 1481.67 Q1665.64 1477.06 1665.64 1468.33 Q1665.64 1459.58 1668.69 1455 Q1671.77 1450.39 1677.58 1450.39 Z\" fill=\"#000000\" fill-rule=\"evenodd\" fill-opacity=\"1\" /><path clip-path=\"url(#clip020)\" d=\"M1697.74 1479.7 L1702.63 1479.7 L1702.63 1485.58 L1697.74 1485.58 L1697.74 1479.7 Z\" fill=\"#000000\" fill-rule=\"evenodd\" fill-opacity=\"1\" /><path clip-path=\"url(#clip020)\" d=\"M1711.63 1451.02 L1733.85 1451.02 L1733.85 1453.01 L1721.31 1485.58 L1716.42 1485.58 L1728.23 1454.96 L1711.63 1454.96 L1711.63 1451.02 Z\" fill=\"#000000\" fill-rule=\"evenodd\" fill-opacity=\"1\" /><path clip-path=\"url(#clip020)\" d=\"M1875.06 1454.1 Q1871.45 1454.1 1869.62 1457.66 Q1867.81 1461.2 1867.81 1468.33 Q1867.81 1475.44 1869.62 1479.01 Q1871.45 1482.55 1875.06 1482.55 Q1878.69 1482.55 1880.5 1479.01 Q1882.33 1475.44 1882.33 1468.33 Q1882.33 1461.2 1880.5 1457.66 Q1878.69 1454.1 1875.06 1454.1 M1875.06 1450.39 Q1880.87 1450.39 1883.92 1455 Q1887 1459.58 1887 1468.33 Q1887 1477.06 1883.92 1481.67 Q1880.87 1486.25 1875.06 1486.25 Q1869.25 1486.25 1866.17 1481.67 Q1863.11 1477.06 1863.11 1468.33 Q1863.11 1459.58 1866.17 1455 Q1869.25 1450.39 1875.06 1450.39 Z\" fill=\"#000000\" fill-rule=\"evenodd\" fill-opacity=\"1\" /><path clip-path=\"url(#clip020)\" d=\"M1895.22 1479.7 L1900.1 1479.7 L1900.1 1485.58 L1895.22 1485.58 L1895.22 1479.7 Z\" fill=\"#000000\" fill-rule=\"evenodd\" fill-opacity=\"1\" /><path clip-path=\"url(#clip020)\" d=\"M1920.29 1469.17 Q1916.96 1469.17 1915.03 1470.95 Q1913.14 1472.73 1913.14 1475.86 Q1913.14 1478.98 1915.03 1480.77 Q1916.96 1482.55 1920.29 1482.55 Q1923.62 1482.55 1925.54 1480.77 Q1927.46 1478.96 1927.46 1475.86 Q1927.46 1472.73 1925.54 1470.95 Q1923.64 1469.17 1920.29 1469.17 M1915.61 1467.18 Q1912.6 1466.44 1910.91 1464.38 Q1909.25 1462.32 1909.25 1459.35 Q1909.25 1455.21 1912.19 1452.8 Q1915.15 1450.39 1920.29 1450.39 Q1925.45 1450.39 1928.39 1452.8 Q1931.33 1455.21 1931.33 1459.35 Q1931.33 1462.32 1929.64 1464.38 Q1927.97 1466.44 1924.99 1467.18 Q1928.37 1467.96 1930.24 1470.26 Q1932.14 1472.55 1932.14 1475.86 Q1932.14 1480.88 1929.06 1483.57 Q1926.01 1486.25 1920.29 1486.25 Q1914.57 1486.25 1911.49 1483.57 Q1908.44 1480.88 1908.44 1475.86 Q1908.44 1472.55 1910.33 1470.26 Q1912.23 1467.96 1915.61 1467.18 M1913.9 1459.79 Q1913.9 1462.48 1915.57 1463.98 Q1917.26 1465.49 1920.29 1465.49 Q1923.3 1465.49 1924.99 1463.98 Q1926.7 1462.48 1926.7 1459.79 Q1926.7 1457.11 1924.99 1455.6 Q1923.3 1454.1 1920.29 1454.1 Q1917.26 1454.1 1915.57 1455.6 Q1913.9 1457.11 1913.9 1459.79 Z\" fill=\"#000000\" fill-rule=\"evenodd\" fill-opacity=\"1\" /><path clip-path=\"url(#clip020)\" d=\"M2072.99 1454.1 Q2069.37 1454.1 2067.55 1457.66 Q2065.74 1461.2 2065.74 1468.33 Q2065.74 1475.44 2067.55 1479.01 Q2069.37 1482.55 2072.99 1482.55 Q2076.62 1482.55 2078.43 1479.01 Q2080.25 1475.44 2080.25 1468.33 Q2080.25 1461.2 2078.43 1457.66 Q2076.62 1454.1 2072.99 1454.1 M2072.99 1450.39 Q2078.8 1450.39 2081.85 1455 Q2084.93 1459.58 2084.93 1468.33 Q2084.93 1477.06 2081.85 1481.67 Q2078.8 1486.25 2072.99 1486.25 Q2067.18 1486.25 2064.1 1481.67 Q2061.04 1477.06 2061.04 1468.33 Q2061.04 1459.58 2064.1 1455 Q2067.18 1450.39 2072.99 1450.39 Z\" fill=\"#000000\" fill-rule=\"evenodd\" fill-opacity=\"1\" /><path clip-path=\"url(#clip020)\" d=\"M2093.15 1479.7 L2098.03 1479.7 L2098.03 1485.58 L2093.15 1485.58 L2093.15 1479.7 Z\" fill=\"#000000\" fill-rule=\"evenodd\" fill-opacity=\"1\" /><path clip-path=\"url(#clip020)\" d=\"M2108.36 1484.86 L2108.36 1480.6 Q2110.12 1481.44 2111.92 1481.88 Q2113.73 1482.32 2115.46 1482.32 Q2120.09 1482.32 2122.52 1479.21 Q2124.98 1476.09 2125.32 1469.75 Q2123.98 1471.74 2121.92 1472.8 Q2119.86 1473.87 2117.36 1473.87 Q2112.18 1473.87 2109.14 1470.74 Q2106.13 1467.59 2106.13 1462.15 Q2106.13 1456.83 2109.28 1453.61 Q2112.43 1450.39 2117.66 1450.39 Q2123.66 1450.39 2126.8 1455 Q2129.98 1459.58 2129.98 1468.33 Q2129.98 1476.51 2126.09 1481.39 Q2122.22 1486.25 2115.67 1486.25 Q2113.91 1486.25 2112.11 1485.9 Q2110.3 1485.56 2108.36 1484.86 M2117.66 1470.21 Q2120.81 1470.21 2122.64 1468.06 Q2124.49 1465.9 2124.49 1462.15 Q2124.49 1458.43 2122.64 1456.27 Q2120.81 1454.1 2117.66 1454.1 Q2114.51 1454.1 2112.66 1456.27 Q2110.83 1458.43 2110.83 1462.15 Q2110.83 1465.9 2112.66 1468.06 Q2114.51 1470.21 2117.66 1470.21 Z\" fill=\"#000000\" fill-rule=\"evenodd\" fill-opacity=\"1\" /><path clip-path=\"url(#clip020)\" d=\"M2260.54 1481.64 L2268.18 1481.64 L2268.18 1455.28 L2259.87 1456.95 L2259.87 1452.69 L2268.14 1451.02 L2272.81 1451.02 L2272.81 1481.64 L2280.45 1481.64 L2280.45 1485.58 L2260.54 1485.58 L2260.54 1481.64 Z\" fill=\"#000000\" fill-rule=\"evenodd\" fill-opacity=\"1\" /><path clip-path=\"url(#clip020)\" d=\"M2289.9 1479.7 L2294.78 1479.7 L2294.78 1485.58 L2289.9 1485.58 L2289.9 1479.7 Z\" fill=\"#000000\" fill-rule=\"evenodd\" fill-opacity=\"1\" /><path clip-path=\"url(#clip020)\" d=\"M2314.97 1454.1 Q2311.35 1454.1 2309.53 1457.66 Q2307.72 1461.2 2307.72 1468.33 Q2307.72 1475.44 2309.53 1479.01 Q2311.35 1482.55 2314.97 1482.55 Q2318.6 1482.55 2320.4 1479.01 Q2322.23 1475.44 2322.23 1468.33 Q2322.23 1461.2 2320.4 1457.66 Q2318.6 1454.1 2314.97 1454.1 M2314.97 1450.39 Q2320.78 1450.39 2323.83 1455 Q2326.91 1459.58 2326.91 1468.33 Q2326.91 1477.06 2323.83 1481.67 Q2320.78 1486.25 2314.97 1486.25 Q2309.15 1486.25 2306.08 1481.67 Q2303.02 1477.06 2303.02 1468.33 Q2303.02 1459.58 2306.08 1455 Q2309.15 1450.39 2314.97 1450.39 Z\" fill=\"#000000\" fill-rule=\"evenodd\" fill-opacity=\"1\" /><path clip-path=\"url(#clip020)\" d=\"M1318.15 1545.44 Q1318.15 1547.24 1317.03 1548.27 Q1315.9 1549.27 1314.61 1549.27 Q1313.39 1549.27 1312.74 1548.56 Q1312.1 1547.85 1312.1 1546.95 Q1312.1 1545.73 1313 1544.66 Q1313.9 1543.6 1315.25 1543.37 Q1313.93 1542.54 1311.97 1542.54 Q1310.68 1542.54 1309.55 1543.21 Q1308.46 1543.89 1307.78 1544.76 Q1307.14 1545.63 1306.56 1546.88 Q1306.01 1548.11 1305.79 1548.85 Q1305.59 1549.56 1305.43 1550.33 L1303.18 1559.35 Q1302.08 1563.63 1302.08 1565.15 Q1302.08 1567.01 1302.98 1568.27 Q1303.89 1569.49 1305.69 1569.49 Q1306.4 1569.49 1307.2 1569.3 Q1308.01 1569.07 1309.04 1568.5 Q1310.1 1567.88 1311.04 1566.98 Q1312 1566.05 1312.94 1564.47 Q1313.87 1562.89 1314.48 1560.86 Q1314.67 1560.15 1315.32 1560.15 Q1316.12 1560.15 1316.12 1560.8 Q1316.12 1561.35 1315.67 1562.5 Q1315.25 1563.63 1314.32 1565.11 Q1313.42 1566.56 1312.23 1567.88 Q1311.04 1569.17 1309.26 1570.07 Q1307.49 1570.97 1305.56 1570.97 Q1302.79 1570.97 1300.95 1569.49 Q1299.12 1568.01 1298.44 1565.95 Q1298.28 1566.24 1298.06 1566.63 Q1297.83 1567.01 1297.15 1567.88 Q1296.51 1568.72 1295.77 1569.36 Q1295.03 1569.98 1293.87 1570.46 Q1292.74 1570.97 1291.52 1570.97 Q1289.97 1570.97 1288.59 1570.52 Q1287.24 1570.07 1286.27 1569.04 Q1285.3 1568.01 1285.3 1566.59 Q1285.3 1565.02 1286.37 1563.92 Q1287.46 1562.79 1288.94 1562.79 Q1289.88 1562.79 1290.62 1563.34 Q1291.39 1563.89 1291.39 1565.08 Q1291.39 1566.4 1290.49 1567.4 Q1289.59 1568.4 1288.3 1568.66 Q1289.62 1569.49 1291.58 1569.49 Q1293.71 1569.49 1295.38 1567.63 Q1297.06 1565.76 1297.86 1562.63 Q1299.86 1555.13 1300.63 1551.78 Q1301.41 1548.4 1301.41 1546.95 Q1301.41 1545.6 1301.05 1544.66 Q1300.7 1543.73 1300.09 1543.31 Q1299.51 1542.86 1298.96 1542.7 Q1298.44 1542.54 1297.86 1542.54 Q1296.9 1542.54 1295.8 1542.92 Q1294.74 1543.31 1293.45 1544.21 Q1292.19 1545.08 1291 1546.88 Q1289.81 1548.69 1289.01 1551.17 Q1288.85 1551.91 1288.14 1551.91 Q1287.36 1551.88 1287.36 1551.23 Q1287.36 1550.69 1287.78 1549.56 Q1288.23 1548.4 1289.14 1546.95 Q1290.07 1545.5 1291.26 1544.21 Q1292.48 1542.89 1294.26 1541.99 Q1296.06 1541.09 1297.99 1541.09 Q1298.86 1541.09 1299.7 1541.28 Q1300.57 1541.44 1301.6 1541.93 Q1302.66 1542.41 1303.6 1543.47 Q1304.53 1544.53 1305.11 1546.08 Q1305.5 1545.34 1306.01 1544.63 Q1306.56 1543.92 1307.4 1543.05 Q1308.27 1542.15 1309.46 1541.64 Q1310.68 1541.09 1312.03 1541.09 Q1313.35 1541.09 1314.64 1541.44 Q1315.93 1541.76 1317.03 1542.83 Q1318.15 1543.86 1318.15 1545.44 Z\" fill=\"#000000\" fill-rule=\"evenodd\" fill-opacity=\"1\" /><polyline clip-path=\"url(#clip023)\" style=\"stroke:#000000; stroke-linecap:butt; stroke-linejoin:round; stroke-width:2; stroke-opacity:0.1; fill:none\" points=\"\n",
       "  255.203,1423.18 2352.76,1423.18 \n",
       "  \"/>\n",
       "<polyline clip-path=\"url(#clip023)\" style=\"stroke:#000000; stroke-linecap:butt; stroke-linejoin:round; stroke-width:2; stroke-opacity:0.1; fill:none\" points=\"\n",
       "  255.203,1193.86 2352.76,1193.86 \n",
       "  \"/>\n",
       "<polyline clip-path=\"url(#clip023)\" style=\"stroke:#000000; stroke-linecap:butt; stroke-linejoin:round; stroke-width:2; stroke-opacity:0.1; fill:none\" points=\"\n",
       "  255.203,964.535 2352.76,964.535 \n",
       "  \"/>\n",
       "<polyline clip-path=\"url(#clip023)\" style=\"stroke:#000000; stroke-linecap:butt; stroke-linejoin:round; stroke-width:2; stroke-opacity:0.1; fill:none\" points=\"\n",
       "  255.203,735.212 2352.76,735.212 \n",
       "  \"/>\n",
       "<polyline clip-path=\"url(#clip023)\" style=\"stroke:#000000; stroke-linecap:butt; stroke-linejoin:round; stroke-width:2; stroke-opacity:0.1; fill:none\" points=\"\n",
       "  255.203,505.889 2352.76,505.889 \n",
       "  \"/>\n",
       "<polyline clip-path=\"url(#clip023)\" style=\"stroke:#000000; stroke-linecap:butt; stroke-linejoin:round; stroke-width:2; stroke-opacity:0.1; fill:none\" points=\"\n",
       "  255.203,276.567 2352.76,276.567 \n",
       "  \"/>\n",
       "<polyline clip-path=\"url(#clip023)\" style=\"stroke:#000000; stroke-linecap:butt; stroke-linejoin:round; stroke-width:2; stroke-opacity:0.1; fill:none\" points=\"\n",
       "  255.203,47.2441 2352.76,47.2441 \n",
       "  \"/>\n",
       "<polyline clip-path=\"url(#clip020)\" style=\"stroke:#000000; stroke-linecap:butt; stroke-linejoin:round; stroke-width:4; stroke-opacity:1; fill:none\" points=\"\n",
       "  255.203,1423.18 255.203,47.2441 \n",
       "  \"/>\n",
       "<polyline clip-path=\"url(#clip020)\" style=\"stroke:#000000; stroke-linecap:butt; stroke-linejoin:round; stroke-width:4; stroke-opacity:1; fill:none\" points=\"\n",
       "  255.203,1423.18 274.1,1423.18 \n",
       "  \"/>\n",
       "<polyline clip-path=\"url(#clip020)\" style=\"stroke:#000000; stroke-linecap:butt; stroke-linejoin:round; stroke-width:4; stroke-opacity:1; fill:none\" points=\"\n",
       "  255.203,1193.86 274.1,1193.86 \n",
       "  \"/>\n",
       "<polyline clip-path=\"url(#clip020)\" style=\"stroke:#000000; stroke-linecap:butt; stroke-linejoin:round; stroke-width:4; stroke-opacity:1; fill:none\" points=\"\n",
       "  255.203,964.535 274.1,964.535 \n",
       "  \"/>\n",
       "<polyline clip-path=\"url(#clip020)\" style=\"stroke:#000000; stroke-linecap:butt; stroke-linejoin:round; stroke-width:4; stroke-opacity:1; fill:none\" points=\"\n",
       "  255.203,735.212 274.1,735.212 \n",
       "  \"/>\n",
       "<polyline clip-path=\"url(#clip020)\" style=\"stroke:#000000; stroke-linecap:butt; stroke-linejoin:round; stroke-width:4; stroke-opacity:1; fill:none\" points=\"\n",
       "  255.203,505.889 274.1,505.889 \n",
       "  \"/>\n",
       "<polyline clip-path=\"url(#clip020)\" style=\"stroke:#000000; stroke-linecap:butt; stroke-linejoin:round; stroke-width:4; stroke-opacity:1; fill:none\" points=\"\n",
       "  255.203,276.567 274.1,276.567 \n",
       "  \"/>\n",
       "<polyline clip-path=\"url(#clip020)\" style=\"stroke:#000000; stroke-linecap:butt; stroke-linejoin:round; stroke-width:4; stroke-opacity:1; fill:none\" points=\"\n",
       "  255.203,47.2441 274.1,47.2441 \n",
       "  \"/>\n",
       "<path clip-path=\"url(#clip020)\" d=\"M148.497 1442.97 L156.136 1442.97 L156.136 1416.61 L147.826 1418.27 L147.826 1414.01 L156.09 1412.35 L160.765 1412.35 L160.765 1442.97 L168.404 1442.97 L168.404 1446.91 L148.497 1446.91 L148.497 1442.97 Z\" fill=\"#000000\" fill-rule=\"evenodd\" fill-opacity=\"1\" /><path clip-path=\"url(#clip020)\" d=\"M187.849 1415.43 Q184.238 1415.43 182.409 1418.99 Q180.603 1422.53 180.603 1429.66 Q180.603 1436.77 182.409 1440.33 Q184.238 1443.88 187.849 1443.88 Q191.483 1443.88 193.288 1440.33 Q195.117 1436.77 195.117 1429.66 Q195.117 1422.53 193.288 1418.99 Q191.483 1415.43 187.849 1415.43 M187.849 1411.72 Q193.659 1411.72 196.714 1416.33 Q199.793 1420.91 199.793 1429.66 Q199.793 1438.39 196.714 1443 Q193.659 1447.58 187.849 1447.58 Q182.038 1447.58 178.96 1443 Q175.904 1438.39 175.904 1429.66 Q175.904 1420.91 178.96 1416.33 Q182.038 1411.72 187.849 1411.72 Z\" fill=\"#000000\" fill-rule=\"evenodd\" fill-opacity=\"1\" /><path clip-path=\"url(#clip020)\" d=\"M209.498 1393.92 Q206.564 1393.92 205.078 1396.81 Q203.611 1399.69 203.611 1405.49 Q203.611 1411.26 205.078 1414.16 Q206.564 1417.03 209.498 1417.03 Q212.451 1417.03 213.918 1414.16 Q215.403 1411.26 215.403 1405.49 Q215.403 1399.69 213.918 1396.81 Q212.451 1393.92 209.498 1393.92 M209.498 1390.91 Q214.219 1390.91 216.701 1394.65 Q219.203 1398.38 219.203 1405.49 Q219.203 1412.58 216.701 1416.32 Q214.219 1420.04 209.498 1420.04 Q204.777 1420.04 202.276 1416.32 Q199.793 1412.58 199.793 1405.49 Q199.793 1398.38 202.276 1394.65 Q204.777 1390.91 209.498 1390.91 Z\" fill=\"#000000\" fill-rule=\"evenodd\" fill-opacity=\"1\" /><path clip-path=\"url(#clip020)\" d=\"M151.186 1213.65 L158.825 1213.65 L158.825 1187.28 L150.515 1188.95 L150.515 1184.69 L158.779 1183.02 L163.455 1183.02 L163.455 1213.65 L171.094 1213.65 L171.094 1217.58 L151.186 1217.58 L151.186 1213.65 Z\" fill=\"#000000\" fill-rule=\"evenodd\" fill-opacity=\"1\" /><path clip-path=\"url(#clip020)\" d=\"M190.538 1186.1 Q186.927 1186.1 185.098 1189.67 Q183.293 1193.21 183.293 1200.34 Q183.293 1207.45 185.098 1211.01 Q186.927 1214.55 190.538 1214.55 Q194.172 1214.55 195.978 1211.01 Q197.807 1207.45 197.807 1200.34 Q197.807 1193.21 195.978 1189.67 Q194.172 1186.1 190.538 1186.1 M190.538 1182.4 Q196.348 1182.4 199.404 1187.01 Q202.483 1191.59 202.483 1200.34 Q202.483 1209.07 199.404 1213.67 Q196.348 1218.26 190.538 1218.26 Q184.728 1218.26 181.649 1213.67 Q178.594 1209.07 178.594 1200.34 Q178.594 1191.59 181.649 1187.01 Q184.728 1182.4 190.538 1182.4 Z\" fill=\"#000000\" fill-rule=\"evenodd\" fill-opacity=\"1\" /><path clip-path=\"url(#clip020)\" d=\"M203.028 1186.98 L209.234 1186.98 L209.234 1165.56 L202.483 1166.91 L202.483 1163.45 L209.197 1162.09 L212.996 1162.09 L212.996 1186.98 L219.203 1186.98 L219.203 1190.17 L203.028 1190.17 L203.028 1186.98 Z\" fill=\"#000000\" fill-rule=\"evenodd\" fill-opacity=\"1\" /><path clip-path=\"url(#clip020)\" d=\"M150.077 984.327 L157.716 984.327 L157.716 957.961 L149.406 959.628 L149.406 955.369 L157.669 953.702 L162.345 953.702 L162.345 984.327 L169.984 984.327 L169.984 988.262 L150.077 988.262 L150.077 984.327 Z\" fill=\"#000000\" fill-rule=\"evenodd\" fill-opacity=\"1\" /><path clip-path=\"url(#clip020)\" d=\"M189.428 956.781 Q185.817 956.781 183.989 960.346 Q182.183 963.887 182.183 971.017 Q182.183 978.123 183.989 981.688 Q185.817 985.23 189.428 985.23 Q193.063 985.23 194.868 981.688 Q196.697 978.123 196.697 971.017 Q196.697 963.887 194.868 960.346 Q193.063 956.781 189.428 956.781 M189.428 953.077 Q195.239 953.077 198.294 957.684 Q201.373 962.267 201.373 971.017 Q201.373 979.744 198.294 984.35 Q195.239 988.933 189.428 988.933 Q183.618 988.933 180.54 984.35 Q177.484 979.744 177.484 971.017 Q177.484 962.267 180.54 957.684 Q183.618 953.077 189.428 953.077 Z\" fill=\"#000000\" fill-rule=\"evenodd\" fill-opacity=\"1\" /><path clip-path=\"url(#clip020)\" d=\"M205.943 957.654 L219.203 957.654 L219.203 960.852 L201.373 960.852 L201.373 957.654 Q203.536 955.416 207.26 951.655 Q211.002 947.874 211.962 946.784 Q213.786 944.734 214.501 943.323 Q215.234 941.894 215.234 940.521 Q215.234 938.282 213.654 936.872 Q212.093 935.461 209.573 935.461 Q207.786 935.461 205.793 936.082 Q203.818 936.703 201.561 937.963 L201.561 934.126 Q203.855 933.204 205.849 932.734 Q207.843 932.264 209.498 932.264 Q213.861 932.264 216.457 934.446 Q219.052 936.627 219.052 940.276 Q219.052 942.006 218.394 943.567 Q217.754 945.11 216.043 947.216 Q215.573 947.762 213.052 950.376 Q210.532 952.971 205.943 957.654 Z\" fill=\"#000000\" fill-rule=\"evenodd\" fill-opacity=\"1\" /><path clip-path=\"url(#clip020)\" d=\"M149.419 755.004 L157.057 755.004 L157.057 728.639 L148.747 730.305 L148.747 726.046 L157.011 724.38 L161.687 724.38 L161.687 755.004 L169.326 755.004 L169.326 758.94 L149.419 758.94 L149.419 755.004 Z\" fill=\"#000000\" fill-rule=\"evenodd\" fill-opacity=\"1\" /><path clip-path=\"url(#clip020)\" d=\"M188.77 727.458 Q185.159 727.458 183.33 731.023 Q181.525 734.565 181.525 741.694 Q181.525 748.801 183.33 752.366 Q185.159 755.907 188.77 755.907 Q192.404 755.907 194.21 752.366 Q196.039 748.801 196.039 741.694 Q196.039 734.565 194.21 731.023 Q192.404 727.458 188.77 727.458 M188.77 723.755 Q194.58 723.755 197.636 728.361 Q200.715 732.944 200.715 741.694 Q200.715 750.421 197.636 755.028 Q194.58 759.611 188.77 759.611 Q182.96 759.611 179.881 755.028 Q176.826 750.421 176.826 741.694 Q176.826 732.944 179.881 728.361 Q182.96 723.755 188.77 723.755 Z\" fill=\"#000000\" fill-rule=\"evenodd\" fill-opacity=\"1\" /><path clip-path=\"url(#clip020)\" d=\"M213.41 716.389 Q216.137 716.972 217.66 718.815 Q219.203 720.658 219.203 723.367 Q219.203 727.523 216.344 729.799 Q213.485 732.075 208.219 732.075 Q206.451 732.075 204.57 731.717 Q202.708 731.379 200.715 730.683 L200.715 727.015 Q202.294 727.937 204.175 728.407 Q206.056 728.877 208.106 728.877 Q211.68 728.877 213.541 727.467 Q215.422 726.056 215.422 723.367 Q215.422 720.884 213.673 719.492 Q211.943 718.082 208.84 718.082 L205.567 718.082 L205.567 714.96 L208.99 714.96 Q211.792 714.96 213.278 713.85 Q214.764 712.721 214.764 710.615 Q214.764 708.452 213.222 707.305 Q211.698 706.139 208.84 706.139 Q207.278 706.139 205.492 706.477 Q203.705 706.816 201.561 707.53 L201.561 704.145 Q203.724 703.543 205.605 703.242 Q207.504 702.941 209.178 702.941 Q213.504 702.941 216.024 704.916 Q218.544 706.872 218.544 710.22 Q218.544 712.552 217.209 714.17 Q215.874 715.768 213.41 716.389 Z\" fill=\"#000000\" fill-rule=\"evenodd\" fill-opacity=\"1\" /><path clip-path=\"url(#clip020)\" d=\"M147.444 525.682 L155.083 525.682 L155.083 499.316 L146.772 500.983 L146.772 496.724 L155.036 495.057 L159.712 495.057 L159.712 525.682 L167.351 525.682 L167.351 529.617 L147.444 529.617 L147.444 525.682 Z\" fill=\"#000000\" fill-rule=\"evenodd\" fill-opacity=\"1\" /><path clip-path=\"url(#clip020)\" d=\"M186.795 498.136 Q183.184 498.136 181.356 501.7 Q179.55 505.242 179.55 512.372 Q179.55 519.478 181.356 523.043 Q183.184 526.585 186.795 526.585 Q190.43 526.585 192.235 523.043 Q194.064 519.478 194.064 512.372 Q194.064 505.242 192.235 501.7 Q190.43 498.136 186.795 498.136 M186.795 494.432 Q192.606 494.432 195.661 499.038 Q198.74 503.622 198.74 512.372 Q198.74 521.098 195.661 525.705 Q192.606 530.288 186.795 530.288 Q180.985 530.288 177.907 525.705 Q174.851 521.098 174.851 512.372 Q174.851 503.622 177.907 499.038 Q180.985 494.432 186.795 494.432 Z\" fill=\"#000000\" fill-rule=\"evenodd\" fill-opacity=\"1\" /><path clip-path=\"url(#clip020)\" d=\"M211.416 477.437 L201.824 492.427 L211.416 492.427 L211.416 477.437 M210.419 474.127 L215.197 474.127 L215.197 492.427 L219.203 492.427 L219.203 495.586 L215.197 495.586 L215.197 502.207 L211.416 502.207 L211.416 495.586 L198.74 495.586 L198.74 491.919 L210.419 474.127 Z\" fill=\"#000000\" fill-rule=\"evenodd\" fill-opacity=\"1\" /><path clip-path=\"url(#clip020)\" d=\"M149.738 296.359 L157.377 296.359 L157.377 269.994 L149.067 271.66 L149.067 267.401 L157.331 265.734 L162.007 265.734 L162.007 296.359 L169.646 296.359 L169.646 300.294 L149.738 300.294 L149.738 296.359 Z\" fill=\"#000000\" fill-rule=\"evenodd\" fill-opacity=\"1\" /><path clip-path=\"url(#clip020)\" d=\"M189.09 268.813 Q185.479 268.813 183.65 272.378 Q181.845 275.919 181.845 283.049 Q181.845 290.155 183.65 293.72 Q185.479 297.262 189.09 297.262 Q192.724 297.262 194.53 293.72 Q196.358 290.155 196.358 283.049 Q196.358 275.919 194.53 272.378 Q192.724 268.813 189.09 268.813 M189.09 265.109 Q194.9 265.109 197.956 269.716 Q201.034 274.299 201.034 283.049 Q201.034 291.776 197.956 296.382 Q194.9 300.966 189.09 300.966 Q183.28 300.966 180.201 296.382 Q177.146 291.776 177.146 283.049 Q177.146 274.299 180.201 269.716 Q183.28 265.109 189.09 265.109 Z\" fill=\"#000000\" fill-rule=\"evenodd\" fill-opacity=\"1\" /><path clip-path=\"url(#clip020)\" d=\"M202.219 244.804 L217.134 244.804 L217.134 248.001 L205.699 248.001 L205.699 254.885 Q206.526 254.603 207.354 254.471 Q208.181 254.321 209.009 254.321 Q213.711 254.321 216.457 256.897 Q219.203 259.474 219.203 263.875 Q219.203 268.408 216.381 270.928 Q213.56 273.429 208.426 273.429 Q206.658 273.429 204.815 273.128 Q202.99 272.827 201.034 272.226 L201.034 268.408 Q202.727 269.329 204.533 269.781 Q206.338 270.232 208.351 270.232 Q211.604 270.232 213.504 268.521 Q215.403 266.809 215.403 263.875 Q215.403 260.941 213.504 259.229 Q211.604 257.518 208.351 257.518 Q206.827 257.518 205.304 257.857 Q203.799 258.195 202.219 258.91 L202.219 244.804 Z\" fill=\"#000000\" fill-rule=\"evenodd\" fill-opacity=\"1\" /><path clip-path=\"url(#clip020)\" d=\"M148.516 67.0365 L156.155 67.0365 L156.155 40.6709 L147.844 42.3376 L147.844 38.0784 L156.108 36.4117 L160.784 36.4117 L160.784 67.0365 L168.423 67.0365 L168.423 70.9717 L148.516 70.9717 L148.516 67.0365 Z\" fill=\"#000000\" fill-rule=\"evenodd\" fill-opacity=\"1\" /><path clip-path=\"url(#clip020)\" d=\"M187.867 39.4904 Q184.256 39.4904 182.428 43.0552 Q180.622 46.5968 180.622 53.7264 Q180.622 60.8329 182.428 64.3977 Q184.256 67.9393 187.867 67.9393 Q191.502 67.9393 193.307 64.3977 Q195.136 60.8329 195.136 53.7264 Q195.136 46.5968 193.307 43.0552 Q191.502 39.4904 187.867 39.4904 M187.867 35.7867 Q193.678 35.7867 196.733 40.3932 Q199.812 44.9765 199.812 53.7264 Q199.812 62.4532 196.733 67.0597 Q193.678 71.643 187.867 71.643 Q182.057 71.643 178.979 67.0597 Q175.923 62.4532 175.923 53.7264 Q175.923 44.9765 178.979 40.3932 Q182.057 35.7867 187.867 35.7867 Z\" fill=\"#000000\" fill-rule=\"evenodd\" fill-opacity=\"1\" /><path clip-path=\"url(#clip020)\" d=\"M209.836 28.0073 Q207.278 28.0073 205.774 29.7564 Q204.288 31.5055 204.288 34.5524 Q204.288 37.5804 205.774 39.3484 Q207.278 41.0975 209.836 41.0975 Q212.394 41.0975 213.88 39.3484 Q215.385 37.5804 215.385 34.5524 Q215.385 31.5055 213.88 29.7564 Q212.394 28.0073 209.836 28.0073 M217.378 16.102 L217.378 19.5626 Q215.949 18.8855 214.482 18.5282 Q213.034 18.1708 211.604 18.1708 Q207.843 18.1708 205.849 20.7099 Q203.874 23.2489 203.592 28.3834 Q204.702 26.7471 206.376 25.882 Q208.05 24.998 210.062 24.998 Q214.294 24.998 216.739 27.5747 Q219.203 30.1325 219.203 34.5524 Q219.203 38.8782 216.645 41.4924 Q214.087 44.1067 209.836 44.1067 Q204.965 44.1067 202.388 40.3828 Q199.812 36.64 199.812 29.5495 Q199.812 22.8916 202.972 18.9419 Q206.131 14.9735 211.454 14.9735 Q212.883 14.9735 214.331 15.2556 Q215.798 15.5377 217.378 16.102 Z\" fill=\"#000000\" fill-rule=\"evenodd\" fill-opacity=\"1\" /><path clip-path=\"url(#clip020)\" d=\"M49.228 1022.52 L47.199 1022.52 Q47.1346 1019.43 45.8786 1018.01 Q44.6226 1016.57 41.7885 1015.66 L3.52789 1003.33 Q2.01422 1002.75 2.01422 1001.75 Q2.01422 1000.75 3.52789 1000.14 L44.4938 986.968 Q46.2651 986.388 46.7482 985.326 Q47.199 984.263 47.199 981.3 L47.199 980.946 L49.228 980.946 Q49.0348 985.905 49.0348 989.126 Q49.0348 993.796 49.228 998.562 L47.199 998.562 L47.199 997.918 Q47.199 993.087 45.1379 993.087 Q44.7514 993.087 42.6902 993.764 L11.6438 1003.78 L42.2393 1013.6 Q43.5598 1013.92 43.753 1013.92 Q45.009 1013.92 46.0396 1012.76 Q47.038 1011.57 47.199 1008.93 L49.228 1008.93 Q49.0348 1012.7 49.0348 1016.44 Q49.0348 1018.88 49.228 1022.52 Z\" fill=\"#000000\" fill-rule=\"evenodd\" fill-opacity=\"1\" /><path clip-path=\"url(#clip020)\" d=\"M32.7386 971.916 Q21.5954 971.916 12.6099 967.761 Q8.84186 965.99 5.68569 963.51 Q2.52951 961.03 1.14466 959.388 Q-0.240191 957.745 -0.240191 957.294 Q-0.240191 956.65 0.403926 956.618 Q0.725984 956.618 1.53113 957.487 Q12.3523 968.115 32.7386 968.083 Q53.1893 968.083 63.5918 957.745 Q64.719 956.618 65.0733 956.618 Q65.7174 956.618 65.7174 957.294 Q65.7174 957.745 64.397 959.323 Q63.0765 960.901 60.0492 963.349 Q57.0218 965.796 53.3182 967.568 Q44.3327 971.916 32.7386 971.916 Z\" fill=\"#000000\" fill-rule=\"evenodd\" fill-opacity=\"1\" /><path clip-path=\"url(#clip020)\" d=\"M24.4295 918.754 Q26.233 918.754 27.2636 919.881 Q28.262 921.009 28.262 922.297 Q28.262 923.521 27.5535 924.165 Q26.8449 924.809 25.9432 924.809 Q24.7194 924.809 23.6566 923.907 Q22.5938 923.005 22.3683 921.653 Q21.531 922.973 21.531 924.938 Q21.531 926.226 22.2073 927.353 Q22.8836 928.448 23.7532 929.124 Q24.6227 929.769 25.8788 930.348 Q27.1026 930.896 27.8433 931.121 Q28.5518 931.314 29.3248 931.476 L38.3424 933.73 Q42.6258 934.825 44.1395 934.825 Q46.0074 934.825 47.2635 933.923 Q48.4873 933.021 48.4873 931.218 Q48.4873 930.509 48.294 929.704 Q48.0686 928.899 47.4889 927.868 Q46.877 926.806 45.9752 925.872 Q45.0412 924.906 43.4632 923.972 Q41.8851 923.038 39.8561 922.426 Q39.1476 922.232 39.1476 921.588 Q39.1476 920.783 39.7917 920.783 Q40.3392 920.783 41.4986 921.234 Q42.6258 921.653 44.1073 922.587 Q45.5565 923.488 46.877 924.68 Q48.1652 925.872 49.067 927.643 Q49.9687 929.414 49.9687 931.347 Q49.9687 934.116 48.4873 935.952 Q47.0058 937.788 44.9446 938.464 Q45.2345 938.625 45.621 938.851 Q46.0074 939.076 46.877 939.752 Q47.7143 940.397 48.3585 941.137 Q48.9704 941.878 49.4535 943.037 Q49.9687 944.165 49.9687 945.388 Q49.9687 946.934 49.5179 948.319 Q49.067 949.672 48.0364 950.638 Q47.0058 951.604 45.5887 951.604 Q44.0107 951.604 42.9157 950.541 Q41.7885 949.446 41.7885 947.965 Q41.7885 947.031 42.336 946.29 Q42.8835 945.517 44.0751 945.517 Q45.3955 945.517 46.3939 946.419 Q47.3923 947.321 47.6499 948.609 Q48.4873 947.289 48.4873 945.324 Q48.4873 943.198 46.6193 941.524 Q44.7514 939.849 41.6274 939.044 Q34.1235 937.047 30.7741 936.274 Q27.3924 935.501 25.9432 935.501 Q24.5905 935.501 23.6566 935.856 Q22.7226 936.21 22.3039 936.822 Q21.853 937.401 21.692 937.949 Q21.531 938.464 21.531 939.044 Q21.531 940.01 21.9174 941.105 Q22.3039 942.168 23.2057 943.456 Q24.0752 944.712 25.8788 945.904 Q27.6823 947.095 30.1621 947.901 Q30.9029 948.062 30.9029 948.77 Q30.8707 949.543 30.2266 949.543 Q29.6791 949.543 28.5518 949.124 Q27.3924 948.673 25.9432 947.772 Q24.4939 946.838 23.2057 945.646 Q21.8852 944.422 20.9835 942.651 Q20.0817 940.847 20.0817 938.915 Q20.0817 938.046 20.2749 937.208 Q20.436 936.339 20.9191 935.308 Q21.4021 934.245 22.4649 933.311 Q23.5277 932.377 25.0736 931.798 Q24.3329 931.411 23.6244 930.896 Q22.9158 930.348 22.0463 929.511 Q21.1445 928.641 20.6292 927.45 Q20.0817 926.226 20.0817 924.873 Q20.0817 923.553 20.436 922.265 Q20.758 920.976 21.8208 919.881 Q22.8514 918.754 24.4295 918.754 Z\" fill=\"#000000\" fill-rule=\"evenodd\" fill-opacity=\"1\" /><path clip-path=\"url(#clip020)\" d=\"M65.0733 912.403 Q64.7512 912.403 63.9461 911.566 Q53.1249 900.938 32.7386 900.938 Q12.2879 900.938 1.94981 911.147 Q0.75819 912.403 0.403926 912.403 Q-0.240191 912.403 -0.240191 911.759 Q-0.240191 911.308 1.08025 909.73 Q2.40069 908.12 5.42804 905.704 Q8.45539 903.257 12.1591 901.453 Q21.1445 897.105 32.7386 897.105 Q43.8818 897.105 52.8673 901.26 Q56.6354 903.031 59.7915 905.511 Q62.9477 907.991 64.3326 909.633 Q65.7174 911.276 65.7174 911.759 Q65.7174 912.403 65.0733 912.403 Z\" fill=\"#000000\" fill-rule=\"evenodd\" fill-opacity=\"1\" /><path clip-path=\"url(#clip020)\" d=\"M48.2296 867.742 Q47.199 868.773 45.7498 868.773 Q44.3005 868.773 43.2699 867.742 Q42.2393 866.712 42.2393 865.263 Q42.2393 863.813 43.2699 862.783 Q44.3005 861.752 45.7498 861.752 Q47.199 861.752 48.2296 862.783 Q49.228 863.813 49.228 865.263 Q49.228 866.712 48.2296 867.742 M26.7805 867.742 Q25.7499 868.773 24.3007 868.773 Q22.8514 868.773 21.8208 867.742 Q20.7902 866.712 20.7902 865.263 Q20.7902 863.813 21.8208 862.783 Q22.8514 861.752 24.3007 861.752 Q25.7499 861.752 26.7805 862.783 Q27.7789 863.813 27.7789 865.263 Q27.7789 866.712 26.7805 867.742 Z\" fill=\"#000000\" fill-rule=\"evenodd\" fill-opacity=\"1\" /><path clip-path=\"url(#clip020)\" d=\"M39.212 814.081 Q38.4068 814.017 38.4068 812.761 L38.4068 772.343 Q38.4068 770.442 39.1476 770.41 Q39.9527 770.41 39.9205 772.214 L39.9205 812.31 Q39.9527 814.081 39.212 814.081 M26.3296 814.081 Q25.5245 814.081 25.5567 812.697 L25.5567 772.407 Q25.5567 770.442 26.3296 770.41 Q27.0704 770.41 27.0704 772.085 L27.0704 812.761 Q27.0704 814.081 26.3296 814.081 Z\" fill=\"#000000\" fill-rule=\"evenodd\" fill-opacity=\"1\" /><path clip-path=\"url(#clip020)\" d=\"M49.2924 680.441 L65.7174 686.11 L65.7174 740.795 Q65.7174 741.536 65.6852 741.826 Q65.653 742.116 65.492 742.341 Q65.3309 742.567 64.9767 742.567 Q64.6868 742.567 63.9461 741.987 L34.993 718.573 L1.8854 742.631 Q0.37172 742.631 0.0818673 742.373 Q-0.240191 742.116 -0.240191 740.795 L-0.240191 686.11 L15.1864 680.441 L15.1864 682.084 Q13.1897 682.825 11.5149 684.016 Q9.80804 685.176 8.58421 686.528 Q7.36039 687.849 6.39422 689.588 Q5.39583 691.295 4.78392 692.905 Q4.13981 694.483 3.68892 696.448 Q3.20584 698.412 2.98039 699.99 Q2.72275 701.536 2.59392 703.469 Q2.4651 705.401 2.4329 706.625 Q2.40069 707.849 2.40069 709.395 L2.40069 735.514 L31.8046 714.097 Q32.5454 713.614 32.7386 713.614 Q33.0285 713.614 33.8014 714.225 L62.0782 737.092 L62.0782 709.072 Q62.0782 700.055 60.178 693.775 Q58.7287 689.524 55.8624 686.432 Q52.9961 683.308 49.2924 682.084 L49.2924 680.441 Z\" fill=\"#000000\" fill-rule=\"evenodd\" fill-opacity=\"1\" /><path clip-path=\"url(#clip020)\" d=\"M82.0466 705.956 Q82.9709 705.956 83.7374 706.745 Q84.5039 707.534 84.5039 708.458 Q84.5039 709.225 84.0304 709.698 Q83.557 710.149 82.8356 710.149 Q81.8437 710.149 81.1223 709.36 Q80.3783 708.571 80.3783 707.714 Q80.3783 706.925 80.8743 706.452 Q81.3477 705.956 82.0466 705.956 M94.7389 707.669 Q95.5279 707.669 96.4522 707.895 L113.36 712.133 Q115.006 712.539 116.359 713.508 Q117.734 714.478 118.591 715.718 Q119.447 716.935 119.898 718.265 Q120.372 719.573 120.372 720.812 Q120.372 722.548 119.605 723.721 Q118.839 724.893 117.508 724.893 Q116.336 724.893 115.592 724.126 Q114.871 723.337 114.871 722.391 Q114.871 721.534 115.367 721.083 Q115.863 720.632 116.494 720.632 Q117.26 720.632 117.982 721.196 Q118.703 721.737 118.929 722.706 Q119.357 721.827 119.357 720.903 Q119.357 719.009 117.621 717.476 Q115.908 715.92 113.203 715.244 L95.9788 710.893 Q94.6036 710.577 93.6342 710.577 Q92.7325 710.577 92.2365 710.825 Q91.7405 711.073 91.6278 711.367 Q91.5151 711.637 91.5151 712.043 Q91.5151 713.824 93.1608 715.357 Q94.784 716.89 97.1511 717.859 Q97.8049 718.13 97.9402 718.265 Q98.0754 718.378 98.0754 718.693 Q98.0529 719.257 97.602 719.257 Q97.4667 719.257 96.9257 719.032 Q96.3846 718.806 95.5956 718.4 Q94.784 717.994 93.9048 717.341 Q93.0255 716.687 92.259 715.92 Q91.4925 715.131 90.9966 714.072 Q90.5006 713.012 90.5006 711.908 Q90.5006 710.127 91.6729 708.909 Q92.8226 707.669 94.7389 707.669 Z\" fill=\"#000000\" fill-rule=\"evenodd\" fill-opacity=\"1\" /><path clip-path=\"url(#clip020)\" d=\"M63.6884 659.471 L2.27187 659.471 Q-0.17578 659.471 -0.17578 658.151 Q-0.17578 656.83 1.78878 656.83 L63.2054 656.83 Q65.653 656.83 65.653 658.151 Q65.653 659.471 63.6884 659.471 Z\" fill=\"#000000\" fill-rule=\"evenodd\" fill-opacity=\"1\" /><path clip-path=\"url(#clip020)\" d=\"M32.9318 601.123 Q33.1251 601.123 33.8658 601.381 L48.1008 606.598 Q48.9382 606.888 49.0992 607.178 Q49.228 607.468 49.228 608.659 L49.228 639.19 Q49.228 639.931 49.1958 640.221 Q49.1636 640.511 49.0026 640.736 Q48.8415 640.962 48.4873 640.962 Q47.8432 640.962 47.5533 640.736 Q47.2635 640.479 47.2312 640.189 Q47.199 639.899 47.199 639.19 Q47.199 637.58 47.1024 636.614 Q47.0058 635.648 46.877 635.036 Q46.716 634.392 46.2651 634.07 Q45.8142 633.715 45.4277 633.554 Q45.009 633.393 44.0751 633.168 L8.64863 624.343 Q7.58583 624.086 7.4248 624.086 Q6.81289 624.086 6.65186 624.472 Q6.45863 624.826 6.36201 625.857 L6.23319 628.369 Q6.23319 629.142 6.20098 629.464 Q6.16878 629.754 6.00775 629.979 Q5.84672 630.205 5.49245 630.205 Q4.88054 630.205 4.59069 629.979 Q4.26863 629.722 4.23642 629.529 Q4.17201 629.303 4.17201 628.949 L4.36525 620.189 L4.17201 610.43 Q4.17201 609.368 4.97716 609.368 Q5.87892 609.368 6.07216 609.819 Q6.23319 610.269 6.23319 611.88 Q6.23319 614.971 6.55525 616.389 Q6.8773 617.773 7.4248 618.16 Q7.9401 618.514 9.32495 618.868 L44.9446 627.789 Q46.1362 628.111 46.4583 628.111 Q46.8126 628.111 46.9414 627.95 Q47.038 627.757 47.1024 627.242 Q47.199 626.662 47.199 625.793 L47.199 619.609 Q47.199 617.741 46.9092 616.099 Q46.6193 614.456 46.2007 613.2 Q45.782 611.912 45.009 610.753 Q44.2361 609.593 43.5598 608.788 Q42.8513 607.951 41.7563 607.145 Q40.629 606.308 39.8561 605.825 Q39.051 605.31 37.7627 604.73 Q36.4423 604.15 35.7015 603.86 Q34.9286 603.538 33.6082 603.055 Q32.9318 602.765 32.7386 602.669 Q32.5454 602.572 32.3843 602.411 Q32.2233 602.218 32.2233 601.928 Q32.2233 601.542 32.4488 601.348 Q32.6742 601.123 32.9318 601.123 Z\" fill=\"#000000\" fill-rule=\"evenodd\" fill-opacity=\"1\" /><path clip-path=\"url(#clip020)\" d=\"M38.5103 575.531 Q39.4346 575.531 40.2011 576.32 Q40.9676 577.11 40.9676 578.034 Q40.9676 578.8 40.4942 579.274 Q40.0208 579.725 39.2994 579.725 Q38.3074 579.725 37.586 578.936 Q36.842 578.147 36.842 577.29 Q36.842 576.501 37.338 576.027 Q37.8114 575.531 38.5103 575.531 M51.2026 577.245 Q51.9917 577.245 52.916 577.47 L69.8241 581.709 Q71.4698 582.114 72.8224 583.084 Q74.1976 584.053 75.0543 585.293 Q75.911 586.51 76.3619 587.841 Q76.8353 589.148 76.8353 590.388 Q76.8353 592.124 76.0688 593.296 Q75.3023 594.468 73.9722 594.468 Q72.7999 594.468 72.0559 593.702 Q71.3345 592.913 71.3345 591.966 Q71.3345 591.109 71.8305 590.659 Q72.3265 590.208 72.9577 590.208 Q73.7242 590.208 74.4456 590.771 Q75.167 591.312 75.3925 592.282 Q75.8208 591.402 75.8208 590.478 Q75.8208 588.584 74.0849 587.051 Q72.3716 585.496 69.6663 584.82 L52.4426 580.469 Q51.0674 580.153 50.098 580.153 Q49.1962 580.153 48.7002 580.401 Q48.2043 580.649 48.0916 580.942 Q47.9788 581.213 47.9788 581.618 Q47.9788 583.399 49.6246 584.932 Q51.2477 586.465 53.6149 587.435 Q54.2686 587.705 54.4039 587.841 Q54.5392 587.953 54.5392 588.269 Q54.5166 588.832 54.0657 588.832 Q53.9305 588.832 53.3894 588.607 Q52.8484 588.382 52.0593 587.976 Q51.2477 587.57 50.3685 586.916 Q49.4893 586.262 48.7228 585.496 Q47.9563 584.707 47.4603 583.647 Q46.9643 582.588 46.9643 581.483 Q46.9643 579.702 48.1366 578.485 Q49.2864 577.245 51.2026 577.245 Z\" fill=\"#000000\" fill-rule=\"evenodd\" fill-opacity=\"1\" /><path clip-path=\"url(#clip020)\" d=\"M32.7386 568.682 Q21.5954 568.682 12.6099 564.527 Q8.84186 562.756 5.68569 560.276 Q2.52951 557.796 1.14466 556.154 Q-0.240191 554.511 -0.240191 554.06 Q-0.240191 553.416 0.403926 553.384 Q0.725984 553.384 1.53113 554.253 Q12.3523 564.881 32.7386 564.849 Q53.1893 564.849 63.5918 554.511 Q64.719 553.384 65.0733 553.384 Q65.7174 553.384 65.7174 554.06 Q65.7174 554.511 64.397 556.089 Q63.0765 557.667 60.0492 560.115 Q57.0218 562.562 53.3182 564.334 Q44.3327 568.682 32.7386 568.682 Z\" fill=\"#000000\" fill-rule=\"evenodd\" fill-opacity=\"1\" /><path clip-path=\"url(#clip020)\" d=\"M24.4295 515.52 Q26.233 515.52 27.2636 516.647 Q28.262 517.775 28.262 519.063 Q28.262 520.287 27.5535 520.931 Q26.8449 521.575 25.9432 521.575 Q24.7194 521.575 23.6566 520.673 Q22.5938 519.771 22.3683 518.419 Q21.531 519.739 21.531 521.704 Q21.531 522.992 22.2073 524.119 Q22.8836 525.214 23.7532 525.891 Q24.6227 526.535 25.8788 527.114 Q27.1026 527.662 27.8433 527.887 Q28.5518 528.081 29.3248 528.242 L38.3424 530.496 Q42.6258 531.591 44.1395 531.591 Q46.0074 531.591 47.2635 530.689 Q48.4873 529.787 48.4873 527.984 Q48.4873 527.275 48.294 526.47 Q48.0686 525.665 47.4889 524.634 Q46.877 523.572 45.9752 522.638 Q45.0412 521.672 43.4632 520.738 Q41.8851 519.804 39.8561 519.192 Q39.1476 518.998 39.1476 518.354 Q39.1476 517.549 39.7917 517.549 Q40.3392 517.549 41.4986 518 Q42.6258 518.419 44.1073 519.353 Q45.5565 520.254 46.877 521.446 Q48.1652 522.638 49.067 524.409 Q49.9687 526.18 49.9687 528.113 Q49.9687 530.882 48.4873 532.718 Q47.0058 534.554 44.9446 535.23 Q45.2345 535.391 45.621 535.617 Q46.0074 535.842 46.877 536.518 Q47.7143 537.163 48.3585 537.903 Q48.9704 538.644 49.4535 539.803 Q49.9687 540.931 49.9687 542.154 Q49.9687 543.7 49.5179 545.085 Q49.067 546.438 48.0364 547.404 Q47.0058 548.37 45.5887 548.37 Q44.0107 548.37 42.9157 547.307 Q41.7885 546.212 41.7885 544.731 Q41.7885 543.797 42.336 543.056 Q42.8835 542.283 44.0751 542.283 Q45.3955 542.283 46.3939 543.185 Q47.3923 544.087 47.6499 545.375 Q48.4873 544.055 48.4873 542.09 Q48.4873 539.964 46.6193 538.29 Q44.7514 536.615 41.6274 535.81 Q34.1235 533.813 30.7741 533.04 Q27.3924 532.267 25.9432 532.267 Q24.5905 532.267 23.6566 532.622 Q22.7226 532.976 22.3039 533.588 Q21.853 534.167 21.692 534.715 Q21.531 535.23 21.531 535.81 Q21.531 536.776 21.9174 537.871 Q22.3039 538.934 23.2057 540.222 Q24.0752 541.478 25.8788 542.67 Q27.6823 543.861 30.1621 544.667 Q30.9029 544.828 30.9029 545.536 Q30.8707 546.309 30.2266 546.309 Q29.6791 546.309 28.5518 545.89 Q27.3924 545.439 25.9432 544.538 Q24.4939 543.604 23.2057 542.412 Q21.8852 541.188 20.9835 539.417 Q20.0817 537.613 20.0817 535.681 Q20.0817 534.812 20.2749 533.974 Q20.436 533.105 20.9191 532.074 Q21.4021 531.011 22.4649 530.077 Q23.5277 529.143 25.0736 528.564 Q24.3329 528.177 23.6244 527.662 Q22.9158 527.114 22.0463 526.277 Q21.1445 525.407 20.6292 524.216 Q20.0817 522.992 20.0817 521.639 Q20.0817 520.319 20.436 519.031 Q20.758 517.742 21.8208 516.647 Q22.8514 515.52 24.4295 515.52 Z\" fill=\"#000000\" fill-rule=\"evenodd\" fill-opacity=\"1\" /><path clip-path=\"url(#clip020)\" d=\"M65.0733 509.169 Q64.7512 509.169 63.9461 508.332 Q53.1249 497.704 32.7386 497.704 Q12.2879 497.704 1.94981 507.913 Q0.75819 509.169 0.403926 509.169 Q-0.240191 509.169 -0.240191 508.525 Q-0.240191 508.074 1.08025 506.496 Q2.40069 504.886 5.42804 502.47 Q8.45539 500.023 12.1591 498.219 Q21.1445 493.871 32.7386 493.871 Q43.8818 493.871 52.8673 498.026 Q56.6354 499.797 59.7915 502.277 Q62.9477 504.757 64.3326 506.399 Q65.7174 508.042 65.7174 508.525 Q65.7174 509.169 65.0733 509.169 Z\" fill=\"#000000\" fill-rule=\"evenodd\" fill-opacity=\"1\" /><path clip-path=\"url(#clip020)\" d=\"M63.6884 475.126 L2.27187 475.126 Q-0.17578 475.126 -0.17578 473.806 Q-0.17578 472.485 1.78878 472.485 L63.2054 472.485 Q65.653 472.485 65.653 473.806 Q65.653 475.126 63.6884 475.126 Z\" fill=\"#000000\" fill-rule=\"evenodd\" fill-opacity=\"1\" /><polyline clip-path=\"url(#clip023)\" style=\"stroke:#009af9; stroke-linecap:butt; stroke-linejoin:round; stroke-width:8; stroke-opacity:1; fill:none\" points=\"\n",
       "  314.567,1423.18 314.65,697.452 314.732,628.82 314.815,588.817 314.897,560.538 314.98,538.686 315.062,520.898 315.144,505.915 315.227,492.985 315.309,481.624 \n",
       "  315.392,471.5 315.474,462.377 315.557,454.08 315.639,446.478 315.722,439.466 315.804,432.965 315.887,426.907 315.969,421.239 316.051,415.916 316.134,410.901 \n",
       "  316.216,406.163 316.299,401.674 316.381,397.412 316.464,393.355 316.546,389.487 316.629,385.793 316.711,382.257 316.794,378.87 316.876,375.619 316.958,372.496 \n",
       "  317.041,369.492 317.123,366.598 317.206,363.808 317.288,361.115 317.371,358.515 317.453,356 317.536,353.567 317.618,351.211 317.7,348.928 317.783,346.715 \n",
       "  317.865,344.567 317.948,342.481 318.03,340.455 318.113,338.485 318.195,336.569 318.278,334.705 318.36,332.891 318.443,331.124 318.525,329.401 318.607,327.723 \n",
       "  318.69,326.086 318.772,324.489 318.855,322.93 318.937,321.409 319.02,319.923 319.102,318.471 319.185,317.053 319.267,315.666 319.349,314.311 319.432,312.985 \n",
       "  319.514,311.688 319.597,310.418 319.679,309.176 319.762,307.96 319.844,306.769 319.927,305.602 320.009,304.46 320.092,303.34 320.174,302.243 320.256,301.167 \n",
       "  320.339,300.113 320.421,299.079 320.504,298.065 320.586,297.07 320.669,296.094 320.751,295.137 320.834,294.197 320.916,293.275 320.999,292.37 321.081,291.481 \n",
       "  321.163,290.609 321.246,289.752 321.328,288.911 321.411,288.084 321.493,287.273 321.576,286.475 321.658,285.692 321.741,284.922 321.823,284.166 321.905,283.422 \n",
       "  321.988,282.691 322.07,281.973 322.153,281.267 322.235,280.573 322.318,279.891 322.4,279.22 322.483,278.56 322.565,277.912 322.648,277.274 322.73,276.647 \n",
       "  322.812,276.03 322.895,275.423 322.977,274.826 323.06,274.239 323.142,273.661 323.225,273.093 323.307,272.534 323.39,271.984 323.472,271.443 323.554,270.911 \n",
       "  323.637,270.387 323.719,269.872 323.802,269.365 323.884,268.866 323.967,268.375 324.049,267.892 324.132,267.417 324.214,266.949 324.297,266.489 324.379,266.036 \n",
       "  324.461,265.59 324.544,265.152 324.626,264.72 324.709,264.296 324.791,263.878 324.874,263.467 324.956,263.062 325.039,262.664 325.121,262.272 325.204,261.886 \n",
       "  325.286,261.507 325.368,261.134 325.451,260.766 325.533,260.405 325.616,260.05 325.698,259.7 325.781,259.356 325.863,259.017 325.946,258.684 326.028,258.356 \n",
       "  326.11,258.034 326.193,257.717 326.275,257.405 326.358,257.099 326.44,256.797 326.523,256.501 326.605,256.209 326.688,255.922 326.77,255.64 326.853,255.363 \n",
       "  326.935,255.091 327.017,254.823 327.1,254.56 327.182,254.301 327.265,254.047 327.347,253.797 327.43,253.551 327.512,253.31 327.595,253.073 327.677,252.84 \n",
       "  327.759,252.611 327.842,252.387 327.924,252.166 328.007,251.95 328.089,251.737 328.172,251.529 328.254,251.324 328.337,251.123 328.419,250.926 328.502,250.732 \n",
       "  328.584,250.542 328.666,250.356 328.749,250.174 328.831,249.995 328.914,249.82 328.996,249.648 329.079,249.479 329.161,249.315 329.244,249.153 329.326,248.995 \n",
       "  329.409,248.84 329.491,248.688 329.573,248.54 329.656,248.395 329.738,248.253 329.821,248.114 329.903,247.979 329.986,247.846 330.068,247.717 330.151,247.59 \n",
       "  330.233,247.467 330.315,247.346 330.398,247.229 330.48,247.114 330.563,247.003 330.645,246.894 330.728,246.788 330.81,246.685 330.893,246.584 330.975,246.487 \n",
       "  331.058,246.392 331.14,246.3 331.222,246.21 331.305,246.123 331.387,246.039 331.47,245.958 331.552,245.879 331.635,245.802 331.717,245.729 331.8,245.657 \n",
       "  331.882,245.589 331.964,245.522 332.047,245.459 332.129,245.397 332.212,245.338 332.294,245.282 332.377,245.227 332.459,245.176 332.542,245.126 332.624,245.079 \n",
       "  332.707,245.034 332.789,244.992 332.871,244.952 332.954,244.914 333.036,244.878 333.119,244.844 333.201,244.813 333.284,244.784 333.366,244.757 333.449,244.732 \n",
       "  333.531,244.709 333.614,244.689 333.696,244.67 333.778,244.654 333.861,244.64 333.943,244.627 334.026,244.617 334.108,244.609 334.191,244.603 334.273,244.599 \n",
       "  334.356,244.597 334.438,244.596 334.52,244.598 334.603,244.602 334.685,244.607 334.768,244.615 334.85,244.624 334.933,244.636 335.015,244.649 335.098,244.664 \n",
       "  335.18,244.681 335.263,244.7 335.345,244.72 335.427,244.743 335.51,244.767 335.592,244.793 335.675,244.821 335.757,244.851 335.84,244.882 335.922,244.915 \n",
       "  336.005,244.95 336.087,244.986 336.169,245.025 336.252,245.065 336.334,245.106 336.417,245.15 336.499,245.195 336.582,245.242 336.664,245.29 336.747,245.34 \n",
       "  336.829,245.391 336.912,245.445 336.994,245.5 337.076,245.556 337.159,245.614 337.241,245.674 337.324,245.735 337.406,245.798 337.489,245.862 337.571,245.928 \n",
       "  337.654,245.996 337.736,246.065 337.819,246.135 337.901,246.207 337.983,246.281 338.066,246.356 338.148,246.432 338.231,246.511 338.313,246.59 338.396,246.671 \n",
       "  338.478,246.754 338.561,246.837 338.643,246.923 338.725,247.01 338.808,247.098 338.89,247.187 338.973,247.279 339.055,247.371 339.138,247.465 339.22,247.56 \n",
       "  339.303,247.657 339.385,247.755 339.468,247.854 339.55,247.955 339.632,248.057 339.715,248.161 339.797,248.266 339.88,248.372 339.962,248.48 340.045,248.588 \n",
       "  340.127,248.699 340.21,248.81 340.292,248.923 340.374,249.037 340.457,249.153 340.539,249.269 340.622,249.388 340.704,249.507 340.787,249.628 340.869,249.749 \n",
       "  340.952,249.873 341.034,249.997 341.117,250.123 341.199,250.25 341.281,250.378 341.364,250.507 341.446,250.638 341.529,250.77 341.611,250.903 341.694,251.037 \n",
       "  341.776,251.173 341.859,251.31 341.941,251.448 342.024,251.587 342.106,251.727 342.188,251.869 342.271,252.011 342.353,252.155 342.436,252.3 342.518,252.447 \n",
       "  342.601,252.594 342.683,252.743 342.766,252.893 342.848,253.044 342.93,253.196 343.013,253.349 343.095,253.503 343.178,253.659 343.26,253.816 343.343,253.973 \n",
       "  343.425,254.132 343.508,254.292 343.59,254.454 343.673,254.616 343.755,254.779 343.837,254.944 343.92,255.11 344.002,255.276 344.085,255.444 344.167,255.613 \n",
       "  344.25,255.783 344.332,255.954 344.415,256.126 344.497,256.3 344.579,256.474 344.662,256.65 344.744,256.826 344.827,257.004 344.909,257.182 344.992,257.362 \n",
       "  345.074,257.543 345.157,257.725 345.239,257.908 345.322,258.091 345.404,258.276 345.486,258.463 345.569,258.65 345.651,258.838 345.734,259.027 345.816,259.217 \n",
       "  345.899,259.408 345.981,259.6 346.064,259.794 346.146,259.988 346.229,260.183 346.311,260.38 346.393,260.577 346.476,260.775 346.558,260.975 346.641,261.175 \n",
       "  346.723,261.376 346.806,261.579 346.888,261.782 346.971,261.987 347.053,262.192 347.135,262.398 347.218,262.606 347.3,262.814 347.383,263.023 347.465,263.234 \n",
       "  347.548,263.445 347.63,263.657 347.713,263.87 347.795,264.085 347.878,264.3 347.96,264.516 348.042,264.733 348.125,264.951 348.207,265.17 348.29,265.39 \n",
       "  348.372,265.611 348.455,265.833 348.537,266.056 348.62,266.28 348.702,266.505 348.784,266.731 348.867,266.957 348.949,267.185 349.032,267.414 349.114,267.643 \n",
       "  349.197,267.874 349.279,268.105 349.362,268.337 349.444,268.571 349.527,268.805 349.609,269.04 349.691,269.276 349.774,269.513 349.856,269.751 349.939,269.99 \n",
       "  350.021,270.23 350.104,270.471 350.186,270.713 350.269,270.955 350.351,271.199 350.434,271.443 350.516,271.689 350.598,271.935 350.681,272.182 350.763,272.43 \n",
       "  350.846,272.68 350.928,272.93 351.011,273.18 351.093,273.432 351.176,273.685 351.258,273.939 351.34,274.193 351.423,274.449 351.505,274.705 351.588,274.962 \n",
       "  351.67,275.22 351.753,275.48 351.835,275.74 351.918,276 352,276.262 352.083,276.525 352.165,276.789 352.247,277.053 352.33,277.318 352.412,277.585 \n",
       "  352.495,277.852 352.577,278.12 352.66,278.389 352.742,278.659 352.825,278.93 352.907,279.201 352.989,279.474 353.072,279.747 353.154,280.022 353.237,280.297 \n",
       "  353.319,280.573 353.402,280.85 353.484,281.128 353.567,281.407 353.649,281.686 353.732,281.967 353.814,282.249 353.896,282.531 353.979,282.814 354.061,283.098 \n",
       "  354.144,283.383 354.226,283.669 354.309,283.956 354.391,284.244 354.474,284.532 354.556,284.822 354.639,285.112 354.721,285.403 354.803,285.695 354.886,285.988 \n",
       "  354.968,286.282 355.051,286.577 355.133,286.873 355.216,287.169 355.298,287.467 355.381,287.765 355.463,288.064 355.545,288.364 355.628,288.665 355.71,288.967 \n",
       "  355.793,289.27 355.875,289.573 355.958,289.878 356.04,290.183 356.123,290.489 356.205,290.796 356.288,291.105 356.37,291.413 356.452,291.723 356.535,292.034 \n",
       "  356.617,292.346 356.7,292.658 356.782,292.971 356.865,293.286 356.947,293.601 357.03,293.917 357.112,294.234 357.194,294.551 357.277,294.87 357.359,295.19 \n",
       "  357.442,295.51 357.524,295.831 357.607,296.154 357.689,296.477 357.772,296.801 357.854,297.126 357.937,297.451 358.019,297.778 358.101,298.106 358.184,298.434 \n",
       "  358.266,298.764 358.349,299.094 358.431,299.425 358.514,299.757 358.596,300.09 358.679,300.424 358.761,300.759 358.844,301.094 358.926,301.431 359.008,301.768 \n",
       "  359.091,302.107 359.173,302.446 359.256,302.786 359.338,303.127 359.421,303.469 359.503,303.812 359.586,304.156 359.668,304.501 359.75,304.846 359.833,305.193 \n",
       "  359.915,305.54 359.998,305.889 360.08,306.238 360.163,306.588 360.245,306.939 360.328,307.291 360.41,307.644 360.493,307.998 360.575,308.353 360.657,308.708 \n",
       "  360.74,309.065 360.822,309.423 360.905,309.781 360.987,310.141 361.07,310.501 361.152,310.862 361.235,311.224 361.317,311.587 361.399,311.952 361.482,312.317 \n",
       "  361.564,312.682 361.647,313.049 361.729,313.417 361.812,313.786 361.894,314.156 361.977,314.526 362.059,314.898 362.142,315.27 362.224,315.644 362.306,316.018 \n",
       "  362.389,316.394 362.471,316.77 362.554,317.147 362.636,317.526 362.719,317.905 362.801,318.285 362.884,318.666 362.966,319.048 363.049,319.431 363.131,319.816 \n",
       "  363.213,320.201 363.296,320.587 363.378,320.974 363.461,321.362 363.543,321.751 363.626,322.14 363.708,322.531 363.791,322.923 363.873,323.316 363.955,323.71 \n",
       "  364.038,324.105 364.12,324.501 364.203,324.898 364.285,325.296 364.368,325.694 364.45,326.094 364.533,326.495 364.615,326.897 364.698,327.3 364.78,327.704 \n",
       "  364.862,328.109 364.945,328.515 365.027,328.922 365.11,329.33 365.192,329.739 365.275,330.149 365.357,330.56 365.44,330.972 365.522,331.385 365.604,331.8 \n",
       "  365.687,332.215 365.769,332.631 365.852,333.048 365.934,333.467 366.017,333.886 366.099,334.307 366.182,334.728 366.264,335.151 366.347,335.575 366.429,336 \n",
       "  366.511,336.426 366.594,336.852 366.676,337.281 366.759,337.71 366.841,338.14 366.924,338.571 367.006,339.004 367.089,339.437 367.171,339.872 367.254,340.307 \n",
       "  367.336,340.744 367.418,341.182 367.501,341.621 367.583,342.061 367.666,342.503 367.748,342.945 367.831,343.388 367.913,343.833 367.996,344.279 368.078,344.726 \n",
       "  368.16,345.174 368.243,345.623 368.325,346.074 368.408,346.525 368.49,346.978 368.573,347.432 368.655,347.887 368.738,348.343 368.82,348.801 368.903,349.259 \n",
       "  368.985,349.719 369.067,350.18 369.15,350.642 369.232,351.106 369.315,351.57 369.397,352.036 369.48,352.503 369.562,352.971 369.645,353.441 369.727,353.911 \n",
       "  369.809,354.383 369.892,354.856 369.974,355.331 370.057,355.807 370.139,356.283 370.222,356.762 370.304,357.241 370.387,357.722 370.469,358.204 370.552,358.687 \n",
       "  370.634,359.172 370.716,359.658 370.799,360.145 370.881,360.633 370.964,361.123 371.046,361.614 371.129,362.106 371.211,362.6 371.294,363.095 371.376,363.592 \n",
       "  371.459,364.089 371.541,364.589 371.623,365.089 371.706,365.591 371.788,366.094 371.871,366.599 371.953,367.105 372.036,367.612 372.118,368.121 372.201,368.631 \n",
       "  372.283,369.143 372.365,369.656 372.448,370.17 372.53,370.686 372.613,371.203 372.695,371.722 372.778,372.242 372.86,372.764 372.943,373.287 373.025,373.811 \n",
       "  373.108,374.337 373.19,374.865 373.272,375.394 373.355,375.925 373.437,376.457 373.52,376.99 373.602,377.525 373.685,378.062 373.767,378.6 373.85,379.14 \n",
       "  373.932,379.681 374.014,380.224 374.097,380.769 374.179,381.315 374.262,381.862 374.344,382.412 374.427,382.963 374.509,383.515 374.592,384.069 374.674,384.625 \n",
       "  374.757,385.183 374.839,385.742 374.921,386.302 375.004,386.865 375.086,387.429 375.169,387.995 375.251,388.563 375.334,389.132 375.416,389.703 375.499,390.276 \n",
       "  375.581,390.85 375.664,391.427 375.746,392.005 375.828,392.585 375.911,393.166 375.993,393.75 376.076,394.335 376.158,394.922 376.241,395.511 376.323,396.102 \n",
       "  376.406,396.695 376.488,397.29 376.57,397.886 376.653,398.485 376.735,399.085 376.818,399.687 376.9,400.291 376.983,400.898 377.065,401.506 377.148,402.116 \n",
       "  377.23,402.728 377.313,403.342 377.395,403.959 377.477,404.577 377.56,405.197 377.642,405.819 377.725,406.444 377.807,407.071 377.89,407.699 377.972,408.33 \n",
       "  378.055,408.963 378.137,409.598 378.219,410.236 378.302,410.875 378.384,411.517 378.467,412.161 378.549,412.807 378.632,413.456 378.714,414.106 378.797,414.76 \n",
       "  378.879,415.415 378.962,416.073 379.044,416.733 379.126,417.395 379.209,418.06 379.291,418.727 379.374,419.397 379.456,420.069 379.539,420.744 379.621,421.421 \n",
       "  379.704,422.101 379.786,422.783 379.869,423.468 379.951,424.155 380.033,424.845 380.116,425.538 380.198,426.233 380.281,426.931 380.363,427.631 380.446,428.335 \n",
       "  380.528,429.041 380.611,429.75 380.693,430.461 380.775,431.176 380.858,431.893 380.94,432.613 381.023,433.336 381.105,434.062 381.188,434.791 381.27,435.523 \n",
       "  381.353,436.258 381.435,436.996 381.518,437.737 381.6,438.481 381.682,439.228 381.765,439.978 381.847,440.732 381.93,441.488 382.012,442.248 382.095,443.012 \n",
       "  382.177,443.778 382.26,444.548 382.342,445.321 382.425,446.098 382.507,446.878 382.589,447.662 382.672,448.449 382.754,449.24 382.837,450.034 382.919,450.832 \n",
       "  383.002,451.634 383.084,452.439 383.167,453.248 383.249,454.061 383.331,454.878 383.414,455.698 383.496,456.523 383.579,457.351 383.661,458.184 383.744,459.02 \n",
       "  383.826,459.861 383.909,460.706 383.991,461.555 384.074,462.408 384.156,463.266 384.238,464.128 384.321,464.995 384.403,465.865 384.486,466.741 384.568,467.621 \n",
       "  384.651,468.505 384.733,469.395 384.816,470.289 384.898,471.188 384.98,472.091 385.063,473 385.145,473.914 385.228,474.832 385.31,475.756 385.393,476.685 \n",
       "  385.475,477.62 385.558,478.559 385.64,479.504 385.723,480.455 385.805,481.411 385.887,482.373 385.97,483.341 386.052,484.314 386.135,485.293 386.217,486.279 \n",
       "  386.3,487.27 386.382,488.267 386.465,489.271 386.547,490.281 386.63,491.297 386.712,492.321 386.794,493.35 386.877,494.387 386.959,495.43 387.042,496.48 \n",
       "  387.124,497.537 387.207,498.602 387.289,499.673 387.372,500.753 387.454,501.839 387.536,502.934 387.619,504.036 387.701,505.146 387.784,506.264 387.866,507.39 \n",
       "  387.949,508.525 388.031,509.668 388.114,510.82 388.196,511.98 388.279,513.15 388.361,514.328 388.443,515.516 388.526,516.714 388.608,517.921 388.691,519.138 \n",
       "  388.773,520.365 388.856,521.602 388.938,522.849 389.021,524.107 389.103,525.376 389.185,526.657 389.268,527.948 389.35,529.251 389.433,530.566 389.515,531.892 \n",
       "  389.598,533.231 389.68,534.583 389.763,535.947 389.845,537.325 389.928,538.715 390.01,540.12 390.092,541.539 390.175,542.972 390.257,544.419 390.34,545.882 \n",
       "  390.422,547.361 390.505,548.855 390.587,550.365 390.67,551.892 390.752,553.436 390.835,554.997 390.917,556.576 390.999,558.174 391.082,559.791 391.164,561.427 \n",
       "  391.247,563.084 391.329,564.76 391.412,566.458 391.494,568.178 391.577,569.92 391.659,571.686 391.741,573.475 391.824,575.289 391.906,577.128 391.989,578.993 \n",
       "  392.071,580.885 392.154,582.805 392.236,584.754 392.319,586.733 392.401,588.743 392.484,590.785 392.566,592.859 392.648,594.969 392.731,597.114 392.813,599.296 \n",
       "  392.896,601.517 392.978,603.777 393.061,606.08 393.143,608.426 393.226,610.817 393.308,613.255 393.39,615.743 393.473,618.283 393.555,620.877 393.638,623.527 \n",
       "  393.72,626.237 393.803,629.009 393.885,631.847 393.968,634.755 394.05,637.735 394.133,640.792 394.215,643.931 394.297,647.156 394.38,650.473 394.462,653.888 \n",
       "  394.545,657.406 394.627,661.035 394.71,664.783 394.792,668.658 394.875,672.669 394.957,676.829 395.04,681.147 395.122,685.639 395.204,690.32 395.287,695.206 \n",
       "  395.369,700.318 395.452,705.68 395.534,711.318 395.617,717.263 395.699,723.553 395.782,730.233 395.864,737.355 395.946,744.986 396.029,753.207 396.111,762.121 \n",
       "  396.194,771.859 396.276,782.595 396.359,794.565 396.441,808.098 396.524,823.675 396.606,842.045 396.689,864.455 396.771,893.245 396.853,933.643 396.936,1002.21 \n",
       "  397.018,1423.18 397.101,1002.73 397.183,934.691 397.266,894.817 397.348,866.552 397.431,844.665 397.513,826.819 397.595,811.766 397.678,798.757 397.76,787.312 \n",
       "  397.843,777.099 397.925,767.885 398.008,759.495 398.09,751.798 398.173,744.691 398.255,738.093 398.338,731.937 398.42,726.171 398.502,720.75 398.585,715.636 \n",
       "  398.667,710.799 398.75,706.21 398.832,701.848 398.915,697.692 398.997,693.724 399.08,689.929 399.162,686.294 399.245,682.806 399.327,679.455 399.409,676.231 \n",
       "  399.492,673.126 399.574,670.132 399.657,667.242 399.739,664.449 399.822,661.748 399.904,659.133 399.987,656.6 400.069,654.143 400.151,651.76 400.234,649.446 \n",
       "  400.316,647.198 400.399,645.012 400.481,642.886 400.564,640.816 400.646,638.801 400.729,636.837 400.811,634.922 400.894,633.055 400.976,631.233 401.058,629.455 \n",
       "  401.141,627.718 401.223,626.022 401.306,624.364 401.388,622.743 401.471,621.158 401.553,619.607 401.636,618.089 401.718,616.603 401.8,615.149 401.883,613.724 \n",
       "  401.965,612.328 402.048,610.96 402.13,609.619 402.213,608.304 402.295,607.014 402.378,605.749 402.46,604.508 402.543,603.29 402.625,602.094 402.707,600.921 \n",
       "  402.79,599.768 402.872,598.636 402.955,597.524 403.037,596.431 403.12,595.358 403.202,594.303 403.285,593.265 403.367,592.246 403.45,591.243 403.532,590.257 \n",
       "  403.614,589.287 403.697,588.333 403.779,587.395 403.862,586.471 403.944,585.562 404.027,584.668 404.109,583.788 404.192,582.921 404.274,582.068 404.356,581.228 \n",
       "  404.439,580.401 404.521,579.586 404.604,578.784 404.686,577.993 404.769,577.215 404.851,576.448 404.934,575.692 405.016,574.947 405.099,574.213 405.181,573.49 \n",
       "  405.263,572.778 405.346,572.075 405.428,571.383 405.511,570.7 405.593,570.027 405.676,569.363 405.758,568.709 405.841,568.064 405.923,567.428 406.005,566.801 \n",
       "  406.088,566.182 406.17,565.572 406.253,564.97 406.335,564.376 406.418,563.791 406.5,563.213 406.583,562.643 406.665,562.081 406.748,561.527 406.83,560.98 \n",
       "  406.912,560.44 406.995,559.907 407.077,559.381 407.16,558.863 407.242,558.351 407.325,557.846 407.407,557.348 407.49,556.856 407.572,556.37 407.655,555.891 \n",
       "  407.737,555.418 407.819,554.952 407.902,554.491 407.984,554.037 408.067,553.588 408.149,553.145 408.232,552.708 408.314,552.277 408.397,551.851 408.479,551.43 \n",
       "  408.561,551.015 408.644,550.606 408.726,550.202 408.809,549.803 408.891,549.409 408.974,549.02 409.056,548.636 409.139,548.257 409.221,547.883 409.304,547.514 \n",
       "  409.386,547.149 409.468,546.79 409.551,546.435 409.633,546.084 409.716,545.738 409.798,545.397 409.881,545.06 409.963,544.727 410.046,544.399 410.128,544.075 \n",
       "  410.21,543.755 410.293,543.439 410.375,543.128 410.458,542.82 410.54,542.517 410.623,542.217 410.705,541.922 410.788,541.63 410.87,541.342 410.953,541.058 \n",
       "  411.035,540.778 411.117,540.501 411.2,540.229 411.282,539.96 411.365,539.694 411.447,539.432 411.53,539.174 411.612,538.919 411.695,538.667 411.777,538.419 \n",
       "  411.86,538.175 411.942,537.933 412.024,537.695 412.107,537.461 412.189,537.229 412.272,537.001 412.354,536.776 412.437,536.554 412.519,536.336 412.602,536.12 \n",
       "  412.684,535.908 412.766,535.698 412.849,535.492 412.931,535.288 413.014,535.088 413.096,534.89 413.179,534.696 413.261,534.504 413.344,534.315 413.426,534.129 \n",
       "  413.509,533.946 413.591,533.766 413.673,533.588 413.756,533.413 413.838,533.241 413.921,533.071 414.003,532.904 414.086,532.74 414.168,532.578 414.251,532.419 \n",
       "  414.333,532.263 414.415,532.109 414.498,531.957 414.58,531.809 414.663,531.662 414.745,531.518 414.828,531.377 414.91,531.238 414.993,531.101 415.075,530.967 \n",
       "  415.158,530.835 415.24,530.706 415.322,530.579 415.405,530.454 415.487,530.331 415.57,530.211 415.652,530.093 415.735,529.977 415.817,529.864 415.9,529.753 \n",
       "  415.982,529.643 416.065,529.537 416.147,529.432 416.229,529.329 416.312,529.229 416.394,529.131 416.477,529.034 416.559,528.94 416.642,528.848 416.724,528.758 \n",
       "  416.807,528.671 416.889,528.585 416.971,528.501 417.054,528.419 417.136,528.339 417.219,528.261 417.301,528.185 417.384,528.111 417.466,528.04 417.549,527.969 \n",
       "  417.631,527.901 417.714,527.835 417.796,527.771 417.878,527.708 417.961,527.648 418.043,527.589 418.126,527.532 418.208,527.477 418.291,527.424 418.373,527.372 \n",
       "  418.456,527.323 418.538,527.275 418.62,527.229 418.703,527.184 418.785,527.142 418.868,527.101 418.95,527.062 419.033,527.025 419.115,526.989 419.198,526.955 \n",
       "  419.28,526.923 419.363,526.892 419.445,526.864 419.527,526.836 419.61,526.811 419.692,526.787 419.775,526.765 419.857,526.744 419.94,526.725 420.022,526.708 \n",
       "  420.105,526.692 420.187,526.678 420.27,526.665 420.352,526.654 420.434,526.645 420.517,526.637 420.599,526.631 420.682,526.626 420.764,526.623 420.847,526.621 \n",
       "  420.929,526.621 421.012,526.622 421.094,526.625 421.176,526.629 421.259,526.635 421.341,526.642 421.424,526.651 421.506,526.661 421.589,526.673 421.671,526.686 \n",
       "  421.754,526.701 421.836,526.717 421.919,526.734 422.001,526.753 422.083,526.774 422.166,526.795 422.248,526.818 422.331,526.843 422.413,526.869 422.496,526.896 \n",
       "  422.578,526.925 422.661,526.955 422.743,526.987 422.825,527.02 422.908,527.054 422.99,527.089 423.073,527.126 423.155,527.164 423.238,527.204 423.32,527.245 \n",
       "  423.403,527.287 423.485,527.331 423.568,527.376 423.65,527.422 423.732,527.469 423.815,527.518 423.897,527.568 423.98,527.62 424.062,527.672 424.145,527.726 \n",
       "  424.227,527.781 424.31,527.838 424.392,527.896 424.475,527.955 424.557,528.015 424.639,528.076 424.722,528.139 424.804,528.203 424.887,528.268 424.969,528.335 \n",
       "  425.052,528.402 425.134,528.471 425.217,528.541 425.299,528.613 425.381,528.685 425.464,528.759 425.546,528.834 425.629,528.91 425.711,528.987 425.794,529.066 \n",
       "  425.876,529.145 425.959,529.226 426.041,529.308 426.124,529.392 426.206,529.476 426.288,529.561 426.371,529.648 426.453,529.736 426.536,529.825 426.618,529.915 \n",
       "  426.701,530.006 426.783,530.099 426.866,530.193 426.948,530.287 427.03,530.383 427.113,530.48 427.195,530.578 427.278,530.677 427.36,530.778 427.443,530.879 \n",
       "  427.525,530.982 427.608,531.086 427.69,531.19 427.773,531.296 427.855,531.403 427.937,531.511 428.02,531.621 428.102,531.731 428.185,531.842 428.267,531.955 \n",
       "  428.35,532.068 428.432,532.183 428.515,532.298 428.597,532.415 428.68,532.533 428.762,532.652 428.844,532.772 428.927,532.893 429.009,533.015 429.092,533.138 \n",
       "  429.174,533.262 429.257,533.388 429.339,533.514 429.422,533.641 429.504,533.77 429.586,533.899 429.669,534.03 429.751,534.161 429.834,534.294 429.916,534.427 \n",
       "  429.999,534.562 430.081,534.698 430.164,534.834 430.246,534.972 430.329,535.111 430.411,535.25 430.493,535.391 430.576,535.533 430.658,535.676 430.741,535.82 \n",
       "  430.823,535.964 430.906,536.11 430.988,536.257 431.071,536.405 431.153,536.554 431.235,536.704 431.318,536.854 431.4,537.006 431.483,537.159 431.565,537.313 \n",
       "  431.648,537.468 431.73,537.624 431.813,537.78 431.895,537.938 431.978,538.097 432.06,538.257 432.142,538.418 432.225,538.579 432.307,538.742 432.39,538.906 \n",
       "  432.472,539.07 432.555,539.236 432.637,539.403 432.72,539.57 432.802,539.739 432.885,539.908 432.967,540.079 433.049,540.25 433.132,540.423 433.214,540.596 \n",
       "  433.297,540.771 433.379,540.946 433.462,541.122 433.544,541.299 433.627,541.478 433.709,541.657 433.791,541.837 433.874,542.018 433.956,542.2 434.039,542.383 \n",
       "  434.121,542.567 434.204,542.752 434.286,542.938 434.369,543.124 434.451,543.312 434.534,543.501 434.616,543.69 434.698,543.881 434.781,544.073 434.863,544.265 \n",
       "  434.946,544.458 435.028,544.653 435.111,544.848 435.193,545.044 435.276,545.241 435.358,545.44 435.44,545.639 435.523,545.839 435.605,546.04 435.688,546.241 \n",
       "  435.77,546.444 435.853,546.648 435.935,546.853 436.018,547.058 436.1,547.265 436.183,547.472 436.265,547.681 436.347,547.89 436.43,548.1 436.512,548.312 \n",
       "  436.595,548.524 436.677,548.737 436.76,548.951 436.842,549.166 436.925,549.382 437.007,549.598 437.09,549.816 437.172,550.035 437.254,550.254 437.337,550.475 \n",
       "  437.419,550.696 437.502,550.919 437.584,551.142 437.667,551.366 437.749,551.591 437.832,551.817 437.914,552.044 437.996,552.272 438.079,552.501 438.161,552.731 \n",
       "  438.244,552.962 438.326,553.193 438.409,553.426 438.491,553.66 438.574,553.894 438.656,554.129 438.739,554.366 438.821,554.603 438.903,554.841 438.986,555.08 \n",
       "  439.068,555.32 439.151,555.561 439.233,555.803 439.316,556.046 439.398,556.289 439.481,556.534 439.563,556.78 439.645,557.026 439.728,557.274 439.81,557.522 \n",
       "  439.893,557.771 439.975,558.022 440.058,558.273 440.14,558.525 440.223,558.778 440.305,559.032 440.388,559.287 440.47,559.543 440.552,559.8 440.635,560.057 \n",
       "  440.717,560.316 440.8,560.575 440.882,560.836 440.965,561.097 441.047,561.36 441.13,561.623 441.212,561.888 441.295,562.153 441.377,562.419 441.459,562.686 \n",
       "  441.542,562.954 441.624,563.223 441.707,563.493 441.789,563.764 441.872,564.036 441.954,564.309 442.037,564.582 442.119,564.857 442.201,565.133 442.284,565.409 \n",
       "  442.366,565.687 442.449,565.965 442.531,566.245 442.614,566.525 442.696,566.807 442.779,567.089 442.861,567.372 442.944,567.656 443.026,567.942 443.108,568.228 \n",
       "  443.191,568.515 443.273,568.803 443.356,569.092 443.438,569.382 443.521,569.673 443.603,569.965 443.686,570.258 443.768,570.552 443.85,570.847 443.933,571.143 \n",
       "  444.015,571.44 444.098,571.737 444.18,572.036 444.263,572.336 444.345,572.637 444.428,572.938 444.51,573.241 444.593,573.545 444.675,573.85 444.757,574.155 \n",
       "  444.84,574.462 444.922,574.77 445.005,575.078 445.087,575.388 445.17,575.699 445.252,576.01 445.335,576.323 445.417,576.637 445.5,576.952 445.582,577.267 \n",
       "  445.664,577.584 445.747,577.902 445.829,578.22 445.912,578.54 445.994,578.861 446.077,579.183 446.159,579.506 446.242,579.83 446.324,580.154 446.406,580.48 \n",
       "  446.489,580.807 446.571,581.135 446.654,581.464 446.736,581.794 446.819,582.125 446.901,582.457 446.984,582.791 447.066,583.125 447.149,583.46 447.231,583.796 \n",
       "  447.313,584.134 447.396,584.472 447.478,584.812 447.561,585.152 447.643,585.494 447.726,585.837 447.808,586.18 447.891,586.525 447.973,586.871 448.055,587.218 \n",
       "  448.138,587.566 448.22,587.915 448.303,588.266 448.385,588.617 448.468,588.969 448.55,589.323 448.633,589.678 448.715,590.033 448.798,590.39 448.88,590.748 \n",
       "  448.962,591.107 449.045,591.467 449.127,591.829 449.21,592.191 449.292,592.554 449.375,592.919 449.457,593.285 449.54,593.652 449.622,594.02 449.705,594.389 \n",
       "  449.787,594.759 449.869,595.131 449.952,595.504 450.034,595.877 450.117,596.252 450.199,596.628 450.282,597.006 450.364,597.384 450.447,597.764 450.529,598.145 \n",
       "  450.611,598.527 450.694,598.91 450.776,599.294 450.859,599.68 450.941,600.066 451.024,600.454 451.106,600.844 451.189,601.234 451.271,601.626 451.354,602.018 \n",
       "  451.436,602.412 451.518,602.808 451.601,603.204 451.683,603.602 451.766,604.001 451.848,604.401 451.931,604.803 452.013,605.205 452.096,605.609 452.178,606.015 \n",
       "  452.26,606.421 452.343,606.829 452.425,607.238 452.508,607.648 452.59,608.06 452.673,608.473 452.755,608.887 452.838,609.303 452.92,609.72 453.003,610.138 \n",
       "  453.085,610.557 453.167,610.978 453.25,611.4 453.332,611.824 453.415,612.249 453.497,612.675 453.58,613.102 453.662,613.531 453.745,613.961 453.827,614.393 \n",
       "  453.91,614.826 453.992,615.261 454.074,615.696 454.157,616.134 454.239,616.572 454.322,617.012 454.404,617.454 454.487,617.896 454.569,618.341 454.652,618.786 \n",
       "  454.734,619.234 454.816,619.682 454.899,620.132 454.981,620.584 455.064,621.037 455.146,621.491 455.229,621.947 455.311,622.405 455.394,622.864 455.476,623.324 \n",
       "  455.559,623.786 455.641,624.25 455.723,624.715 455.806,625.181 455.888,625.649 455.971,626.119 456.053,626.59 456.136,627.063 456.218,627.537 456.301,628.013 \n",
       "  456.383,628.491 456.465,628.97 456.548,629.451 456.63,629.933 456.713,630.417 456.795,630.903 456.878,631.39 456.96,631.879 457.043,632.37 457.125,632.862 \n",
       "  457.208,633.356 457.29,633.852 457.372,634.35 457.455,634.849 457.537,635.349 457.62,635.852 457.702,636.356 457.785,636.862 457.867,637.37 457.95,637.88 \n",
       "  458.032,638.391 458.115,638.905 458.197,639.42 458.279,639.936 458.362,640.455 458.444,640.976 458.527,641.498 458.609,642.022 458.692,642.548 458.774,643.076 \n",
       "  458.857,643.606 458.939,644.138 459.021,644.672 459.104,645.208 459.186,645.745 459.269,646.285 459.351,646.826 459.434,647.37 459.516,647.916 459.599,648.463 \n",
       "  459.681,649.013 459.764,649.564 459.846,650.118 459.928,650.674 460.011,651.232 460.093,651.792 460.176,652.354 460.258,652.918 460.341,653.485 460.423,654.053 \n",
       "  460.506,654.624 460.588,655.197 460.67,655.772 460.753,656.349 460.835,656.929 460.918,657.511 461,658.095 461.083,658.682 461.165,659.27 461.248,659.862 \n",
       "  461.33,660.455 461.413,661.051 461.495,661.649 461.577,662.25 461.66,662.853 461.742,663.458 461.825,664.066 461.907,664.677 461.99,665.289 462.072,665.905 \n",
       "  462.155,666.523 462.237,667.143 462.32,667.767 462.402,668.392 462.484,669.021 462.567,669.652 462.649,670.285 462.732,670.922 462.814,671.561 462.897,672.203 \n",
       "  462.979,672.847 463.062,673.495 463.144,674.145 463.226,674.798 463.309,675.454 463.391,676.113 463.474,676.775 463.556,677.44 463.639,678.107 463.721,678.778 \n",
       "  463.804,679.452 463.886,680.128 463.969,680.808 464.051,681.491 464.133,682.177 464.216,682.867 464.298,683.559 464.381,684.255 464.463,684.954 464.546,685.656 \n",
       "  464.628,686.362 464.711,687.071 464.793,687.783 464.875,688.499 464.958,689.219 465.04,689.942 465.123,690.668 465.205,691.398 465.288,692.132 465.37,692.869 \n",
       "  465.453,693.61 465.535,694.355 465.618,695.103 465.7,695.855 465.782,696.611 465.865,697.372 465.947,698.136 466.03,698.904 466.112,699.676 466.195,700.452 \n",
       "  466.277,701.232 466.36,702.017 466.442,702.805 466.525,703.598 466.607,704.395 466.689,705.197 466.772,706.003 466.854,706.814 466.937,707.629 467.019,708.449 \n",
       "  467.102,709.273 467.184,710.102 467.267,710.936 467.349,711.775 467.431,712.618 467.514,713.467 467.596,714.321 467.679,715.179 467.761,716.043 467.844,716.912 \n",
       "  467.926,717.786 468.009,718.666 468.091,719.551 468.174,720.442 468.256,721.338 468.338,722.24 468.421,723.148 468.503,724.061 468.586,724.98 468.668,725.906 \n",
       "  468.751,726.837 468.833,727.775 468.916,728.719 468.998,729.669 469.08,730.626 469.163,731.589 469.245,732.559 469.328,733.535 469.41,734.519 469.493,735.509 \n",
       "  469.575,736.507 469.658,737.511 469.74,738.524 469.823,739.543 469.905,740.57 469.987,741.605 470.07,742.647 470.152,743.697 470.235,744.756 470.317,745.823 \n",
       "  470.4,746.898 470.482,747.981 470.565,749.073 470.647,750.174 470.73,751.284 470.812,752.403 470.894,753.532 470.977,754.669 471.059,755.817 471.142,756.974 \n",
       "  471.224,758.141 471.307,759.319 471.389,760.507 471.472,761.706 471.554,762.915 471.636,764.135 471.719,765.367 471.801,766.61 471.884,767.866 471.966,769.133 \n",
       "  472.049,770.412 472.131,771.704 472.214,773.009 472.296,774.326 472.379,775.658 472.461,777.002 472.543,778.361 472.626,779.735 472.708,781.123 472.791,782.526 \n",
       "  472.873,783.944 472.956,785.378 473.038,786.829 473.121,788.296 473.203,789.78 473.285,791.281 473.368,792.8 473.45,794.338 473.533,795.895 473.615,797.471 \n",
       "  473.698,799.067 473.78,800.683 473.863,802.321 473.945,803.981 474.028,805.662 474.11,807.367 474.192,809.096 474.275,810.849 474.357,812.627 474.44,814.431 \n",
       "  474.522,816.263 474.605,818.122 474.687,820.01 474.77,821.927 474.852,823.876 474.935,825.856 475.017,827.869 475.099,829.917 475.182,832 475.264,834.12 \n",
       "  475.347,836.278 475.429,838.476 475.512,840.716 475.594,842.999 475.677,845.327 475.759,847.702 475.841,850.126 475.924,852.602 476.006,855.132 476.089,857.717 \n",
       "  476.171,860.362 476.254,863.069 476.336,865.841 476.419,868.682 476.501,871.596 476.584,874.586 476.666,877.656 476.748,880.813 476.831,884.06 476.913,887.404 \n",
       "  476.996,890.852 477.078,894.408 477.161,898.083 477.243,901.883 477.326,905.819 477.408,909.901 477.49,914.141 477.573,918.552 477.655,923.149 477.738,927.95 \n",
       "  477.82,932.974 477.903,938.243 477.985,943.785 478.068,949.63 478.15,955.814 478.233,962.38 478.315,969.382 478.397,976.882 478.48,984.961 478.562,993.716 \n",
       "  478.645,1003.27 478.727,1013.81 478.81,1025.53 478.892,1038.77 478.975,1053.97 479.057,1071.84 479.14,1093.53 479.222,1121.17 479.304,1159.37 479.387,1221.78 \n",
       "  479.469,1423.18 479.552,1222.2 479.634,1160.2 479.717,1122.42 479.799,1095.19 479.882,1073.91 479.964,1056.45 480.046,1041.66 480.129,1028.84 480.211,1017.52 \n",
       "  480.294,1007.4 480.376,998.258 480.459,989.916 480.541,982.25 480.624,975.162 480.706,968.573 480.789,962.419 480.871,956.648 480.953,951.216 481.036,946.087 \n",
       "  481.118,941.23 481.201,936.619 481.283,932.231 481.366,928.046 481.448,924.048 481.531,920.221 481.613,916.551 481.695,913.028 481.778,909.64 481.86,906.378 \n",
       "  481.943,903.234 482.025,900.2 482.108,897.268 482.19,894.433 482.273,891.689 482.355,889.031 482.438,886.454 482.52,883.953 482.602,881.525 482.685,879.165 \n",
       "  482.767,876.871 482.85,874.639 482.932,872.466 483.015,870.349 483.097,868.286 483.18,866.274 483.262,864.312 483.345,862.397 483.427,860.526 483.509,858.699 \n",
       "  483.592,856.914 483.674,855.168 483.757,853.461 483.839,851.79 483.922,850.155 484.004,848.555 484.087,846.987 484.169,845.452 484.251,843.947 484.334,842.471 \n",
       "  484.416,841.025 484.499,839.606 484.581,838.215 484.664,836.849 484.746,835.509 484.829,834.193 484.911,832.901 484.994,831.632 485.076,830.385 485.158,829.16 \n",
       "  485.241,827.956 485.323,826.773 485.406,825.609 485.488,824.465 485.571,823.34 485.653,822.234 485.736,821.145 485.818,820.074 485.9,819.019 485.983,817.982 \n",
       "  486.065,816.96 486.148,815.954 486.23,814.964 486.313,813.989 486.395,813.028 486.478,812.082 486.56,811.15 486.643,810.232 486.725,809.326 486.807,808.435 \n",
       "  486.89,807.555 486.972,806.689 487.055,805.834 487.137,804.992 487.22,804.162 487.302,803.343 487.385,802.535 487.467,801.738 487.55,800.952 487.632,800.177 \n",
       "  487.714,799.412 487.797,798.658 487.879,797.913 487.962,797.179 488.044,796.454 488.127,795.738 488.209,795.032 488.292,794.335 488.374,793.646 488.456,792.967 \n",
       "  488.539,792.296 488.621,791.634 488.704,790.98 488.786,790.335 488.869,789.697 488.951,789.067 489.034,788.446 489.116,787.831 489.199,787.225 489.281,786.626 \n",
       "  489.363,786.034 489.446,785.449 489.528,784.871 489.611,784.301 489.693,783.737 489.776,783.18 489.858,782.629 489.941,782.086 490.023,781.548 490.105,781.017 \n",
       "  490.188,780.492 490.27,779.974 490.353,779.461 490.435,778.955 490.518,778.454 490.6,777.96 490.683,777.471 490.765,776.987 490.848,776.509 490.93,776.037 \n",
       "  491.012,775.57 491.095,775.109 491.177,774.653 491.26,774.202 491.342,773.756 491.425,773.316 491.507,772.88 491.59,772.449 491.672,772.023 491.755,771.603 \n",
       "  491.837,771.186 491.919,770.775 492.002,770.368 492.084,769.966 492.167,769.568 492.249,769.175 492.332,768.786 492.414,768.402 492.497,768.022 492.579,767.646 \n",
       "  492.661,767.275 492.744,766.908 492.826,766.544 492.909,766.185 492.991,765.83 493.074,765.479 493.156,765.132 493.239,764.789 493.321,764.45 493.404,764.114 \n",
       "  493.486,763.783 493.568,763.455 493.651,763.13 493.733,762.81 493.816,762.493 493.898,762.18 493.981,761.87 494.063,761.563 494.146,761.261 494.228,760.961 \n",
       "  494.31,760.665 494.393,760.373 494.475,760.084 494.558,759.798 494.64,759.515 494.723,759.235 494.805,758.959 494.888,758.686 494.97,758.416 495.053,758.15 \n",
       "  495.135,757.886 495.217,757.625 495.3,757.368 495.382,757.113 495.465,756.862 495.547,756.613 495.63,756.367 495.712,756.125 495.795,755.885 495.877,755.648 \n",
       "  495.96,755.413 496.042,755.182 496.124,754.953 496.207,754.727 496.289,754.504 496.372,754.284 496.454,754.066 496.537,753.851 496.619,753.638 496.702,753.428 \n",
       "  496.784,753.221 496.866,753.016 496.949,752.814 497.031,752.614 497.114,752.417 497.196,752.222 497.279,752.03 497.361,751.84 497.444,751.653 497.526,751.468 \n",
       "  497.609,751.286 497.691,751.105 497.773,750.928 497.856,750.752 497.938,750.579 498.021,750.408 498.103,750.24 498.186,750.073 498.268,749.909 498.351,749.747 \n",
       "  498.433,749.588 498.516,749.43 498.598,749.275 498.68,749.122 498.763,748.971 498.845,748.823 498.928,748.676 499.01,748.531 499.093,748.389 499.175,748.249 \n",
       "  499.258,748.11 499.34,747.974 499.422,747.84 499.505,747.708 499.587,747.578 499.67,747.45 499.752,747.324 499.835,747.199 499.917,747.077 500,746.957 \n",
       "  500.082,746.839 500.165,746.722 500.247,746.608 500.329,746.495 500.412,746.384 500.494,746.275 500.577,746.168 500.659,746.063 500.742,745.96 500.824,745.858 \n",
       "  500.907,745.759 500.989,745.661 501.071,745.565 501.154,745.471 501.236,745.378 501.319,745.287 501.401,745.198 501.484,745.111 501.566,745.026 501.649,744.942 \n",
       "  501.731,744.86 501.814,744.779 501.896,744.701 501.978,744.624 502.061,744.548 502.143,744.475 502.226,744.403 502.308,744.332 502.391,744.264 502.473,744.197 \n",
       "  502.556,744.131 502.638,744.067 502.721,744.005 502.803,743.944 502.885,743.885 502.968,743.828 503.05,743.772 503.133,743.717 503.215,743.665 503.298,743.613 \n",
       "  503.38,743.564 503.463,743.515 503.545,743.469 503.627,743.424 503.71,743.38 503.792,743.338 503.875,743.297 503.957,743.258 504.04,743.22 504.122,743.184 \n",
       "  504.205,743.149 504.287,743.116 504.37,743.084 504.452,743.054 504.534,743.025 504.617,742.997 504.699,742.971 504.782,742.947 504.864,742.923 504.947,742.901 \n",
       "  505.029,742.881 505.112,742.862 505.194,742.844 505.276,742.828 505.359,742.813 505.441,742.799 505.524,742.787 505.606,742.776 505.689,742.767 505.771,742.759 \n",
       "  505.854,742.752 505.936,742.747 506.019,742.742 506.101,742.74 506.183,742.738 506.266,742.738 506.348,742.739 506.431,742.742 506.513,742.745 506.596,742.75 \n",
       "  506.678,742.757 506.761,742.764 506.843,742.773 506.926,742.783 507.008,742.795 507.09,742.807 507.173,742.821 507.255,742.837 507.338,742.853 507.42,742.871 \n",
       "  507.503,742.89 507.585,742.91 507.668,742.931 507.75,742.954 507.832,742.978 507.915,743.003 507.997,743.029 508.08,743.057 508.162,743.086 508.245,743.115 \n",
       "  508.327,743.147 508.41,743.179 508.492,743.212 508.575,743.247 508.657,743.283 508.739,743.32 508.822,743.358 508.904,743.398 508.987,743.438 509.069,743.48 \n",
       "  509.152,743.523 509.234,743.567 509.317,743.612 509.399,743.659 509.481,743.706 509.564,743.755 509.646,743.805 509.729,743.856 509.811,743.908 509.894,743.961 \n",
       "  509.976,744.015 510.059,744.071 510.141,744.127 510.224,744.185 510.306,744.244 510.388,744.304 510.471,744.365 510.553,744.427 510.636,744.49 510.718,744.555 \n",
       "  510.801,744.62 510.883,744.687 510.966,744.754 511.048,744.823 511.131,744.893 511.213,744.964 511.295,745.036 511.378,745.109 511.46,745.183 511.543,745.258 \n",
       "  511.625,745.334 511.708,745.412 511.79,745.49 511.873,745.57 511.955,745.65 512.037,745.732 512.12,745.814 512.202,745.898 512.285,745.983 512.367,746.069 \n",
       "  512.45,746.155 512.532,746.243 512.615,746.332 512.697,746.422 512.78,746.513 512.862,746.605 512.944,746.698 513.027,746.792 513.109,746.888 513.192,746.984 \n",
       "  513.274,747.081 513.357,747.179 513.439,747.278 513.522,747.379 513.604,747.48 513.686,747.582 513.769,747.686 513.851,747.79 513.934,747.895 514.016,748.002 \n",
       "  514.099,748.109 514.181,748.217 514.264,748.327 514.346,748.437 514.429,748.548 514.511,748.661 514.593,748.774 514.676,748.888 514.758,749.004 514.841,749.12 \n",
       "  514.923,749.238 515.006,749.356 515.088,749.475 515.171,749.595 515.253,749.717 515.336,749.839 515.418,749.962 515.5,750.087 515.583,750.212 515.665,750.338 \n",
       "  515.748,750.465 515.83,750.593 515.913,750.722 515.995,750.853 516.078,750.984 516.16,751.116 516.242,751.249 516.325,751.383 516.407,751.518 516.49,751.654 \n",
       "  516.572,751.79 516.655,751.928 516.737,752.067 516.82,752.207 516.902,752.348 516.985,752.489 517.067,752.632 517.149,752.776 517.232,752.92 517.314,753.066 \n",
       "  517.397,753.212 517.479,753.36 517.562,753.508 517.644,753.658 517.727,753.808 517.809,753.959 517.891,754.112 517.974,754.265 518.056,754.419 518.139,754.574 \n",
       "  518.221,754.73 518.304,754.887 518.386,755.045 518.469,755.204 518.551,755.364 518.634,755.525 518.716,755.686 518.798,755.849 518.881,756.013 518.963,756.177 \n",
       "  519.046,756.343 519.128,756.509 519.211,756.677 519.293,756.845 519.376,757.014 519.458,757.185 519.541,757.356 519.623,757.528 519.705,757.701 519.788,757.875 \n",
       "  519.87,758.05 519.953,758.226 520.035,758.403 520.118,758.581 520.2,758.759 520.283,758.939 520.365,759.12 520.447,759.301 520.53,759.484 520.612,759.667 \n",
       "  520.695,759.851 520.777,760.037 520.86,760.223 520.942,760.41 521.025,760.598 521.107,760.787 521.19,760.977 521.272,761.168 521.354,761.36 521.437,761.553 \n",
       "  521.519,761.747 521.602,761.942 521.684,762.137 521.767,762.334 521.849,762.532 521.932,762.73 522.014,762.93 522.096,763.13 522.179,763.331 522.261,763.534 \n",
       "  522.344,763.737 522.426,763.941 522.509,764.146 522.591,764.352 522.674,764.559 522.756,764.767 522.839,764.976 522.921,765.186 523.003,765.397 523.086,765.609 \n",
       "  523.168,765.821 523.251,766.035 523.333,766.25 523.416,766.465 523.498,766.682 523.581,766.899 523.663,767.117 523.746,767.337 523.828,767.557 523.91,767.778 \n",
       "  523.993,768.001 524.075,768.224 524.158,768.448 524.24,768.673 524.323,768.899 524.405,769.126 524.488,769.354 524.57,769.583 524.652,769.813 524.735,770.044 \n",
       "  524.817,770.276 524.9,770.509 524.982,770.742 525.065,770.977 525.147,771.213 525.23,771.45 525.312,771.687 525.395,771.926 525.477,772.165 525.559,772.406 \n",
       "  525.642,772.648 525.724,772.89 525.807,773.134 525.889,773.378 525.972,773.624 526.054,773.87 526.137,774.118 526.219,774.366 526.301,774.615 526.384,774.866 \n",
       "  526.466,775.117 526.549,775.369 526.631,775.623 526.714,775.877 526.796,776.133 526.879,776.389 526.961,776.646 527.044,776.905 527.126,777.164 527.208,777.424 \n",
       "  527.291,777.686 527.373,777.948 527.456,778.211 527.538,778.476 527.621,778.741 527.703,779.008 527.786,779.275 527.868,779.543 527.951,779.813 528.033,780.083 \n",
       "  528.115,780.355 528.198,780.627 528.28,780.901 528.363,781.175 528.445,781.451 528.528,781.728 528.61,782.005 528.693,782.284 528.775,782.564 528.857,782.844 \n",
       "  528.94,783.126 529.022,783.409 529.105,783.693 529.187,783.978 529.27,784.264 529.352,784.551 529.435,784.839 529.517,785.128 529.6,785.419 529.682,785.71 \n",
       "  529.764,786.002 529.847,786.296 529.929,786.59 530.012,786.886 530.094,787.183 530.177,787.48 530.259,787.779 530.342,788.079 530.424,788.38 530.506,788.682 \n",
       "  530.589,788.985 530.671,789.289 530.754,789.595 530.836,789.901 530.919,790.209 531.001,790.518 531.084,790.827 531.166,791.138 531.249,791.45 531.331,791.763 \n",
       "  531.413,792.078 531.496,792.393 531.578,792.709 531.661,793.027 531.743,793.346 531.826,793.666 531.908,793.987 531.991,794.309 532.073,794.632 532.156,794.957 \n",
       "  532.238,795.282 532.32,795.609 532.403,795.937 532.485,796.266 532.568,796.597 532.65,796.928 532.733,797.261 532.815,797.594 532.898,797.929 532.98,798.266 \n",
       "  533.062,798.603 533.145,798.942 533.227,799.281 533.31,799.622 533.392,799.965 533.475,800.308 533.557,800.653 533.64,800.998 533.722,801.345 533.805,801.694 \n",
       "  533.887,802.043 533.969,802.394 534.052,802.746 534.134,803.099 534.217,803.454 534.299,803.809 534.382,804.166 534.464,804.525 534.547,804.884 534.629,805.245 \n",
       "  534.711,805.607 534.794,805.97 534.876,806.335 534.959,806.701 535.041,807.068 535.124,807.437 535.206,807.807 535.289,808.178 535.371,808.55 535.454,808.924 \n",
       "  535.536,809.299 535.618,809.676 535.701,810.053 535.783,810.433 535.866,810.813 535.948,811.195 536.031,811.578 536.113,811.963 536.196,812.349 536.278,812.736 \n",
       "  536.361,813.125 536.443,813.515 536.525,813.907 536.608,814.299 536.69,814.694 536.773,815.09 536.855,815.487 536.938,815.885 537.02,816.285 537.103,816.687 \n",
       "  537.185,817.09 537.267,817.494 537.35,817.9 537.432,818.307 537.515,818.716 537.597,819.126 537.68,819.538 537.762,819.952 537.845,820.366 537.927,820.783 \n",
       "  538.01,821.2 538.092,821.62 538.174,822.041 538.257,822.463 538.339,822.887 538.422,823.313 538.504,823.74 538.587,824.168 538.669,824.599 538.752,825.03 \n",
       "  538.834,825.464 538.916,825.899 538.999,826.336 539.081,826.774 539.164,827.214 539.246,827.656 539.329,828.099 539.411,828.544 539.494,828.99 539.576,829.438 \n",
       "  539.659,829.888 539.741,830.34 539.823,830.793 539.906,831.248 539.988,831.705 540.071,832.164 540.153,832.624 540.236,833.086 540.318,833.55 540.401,834.015 \n",
       "  540.483,834.483 540.566,834.952 540.648,835.423 540.73,835.896 540.813,836.37 540.895,836.847 540.978,837.325 541.06,837.806 541.143,838.288 541.225,838.772 \n",
       "  541.308,839.258 541.39,839.745 541.472,840.235 541.555,840.727 541.637,841.22 541.72,841.716 541.802,842.214 541.885,842.713 541.967,843.215 542.05,843.718 \n",
       "  542.132,844.224 542.215,844.731 542.297,845.241 542.379,845.753 542.462,846.267 542.544,846.783 542.627,847.301 542.709,847.821 542.792,848.344 542.874,848.868 \n",
       "  542.957,849.395 543.039,849.924 543.121,850.455 543.204,850.988 543.286,851.524 543.369,852.062 543.451,852.602 543.534,853.144 543.616,853.689 543.699,854.236 \n",
       "  543.781,854.785 543.864,855.337 543.946,855.891 544.028,856.448 544.111,857.007 544.193,857.568 544.276,858.132 544.358,858.699 544.441,859.267 544.523,859.839 \n",
       "  544.606,860.413 544.688,860.989 544.771,861.568 544.853,862.15 544.935,862.734 545.018,863.321 545.1,863.91 545.183,864.503 545.265,865.098 545.348,865.695 \n",
       "  545.43,866.296 545.513,866.899 545.595,867.505 545.677,868.114 545.76,868.726 545.842,869.34 545.925,869.958 546.007,870.578 546.09,871.202 546.172,871.828 \n",
       "  546.255,872.458 546.337,873.09 546.42,873.726 546.502,874.364 546.584,875.006 546.667,875.651 546.749,876.299 546.832,876.951 546.914,877.605 546.997,878.263 \n",
       "  547.079,878.924 547.162,879.589 547.244,880.257 547.326,880.928 547.409,881.603 547.491,882.281 547.574,882.963 547.656,883.649 547.739,884.338 547.821,885.03 \n",
       "  547.904,885.727 547.986,886.427 548.069,887.131 548.151,887.838 548.233,888.55 548.316,889.265 548.398,889.984 548.481,890.708 548.563,891.435 548.646,892.166 \n",
       "  548.728,892.901 548.811,893.641 548.893,894.385 548.976,895.133 549.058,895.885 549.14,896.642 549.223,897.403 549.305,898.168 549.388,898.938 549.47,899.713 \n",
       "  549.553,900.492 549.635,901.276 549.718,902.064 549.8,902.858 549.882,903.656 549.965,904.459 550.047,905.267 550.13,906.08 550.212,906.899 550.295,907.722 \n",
       "  550.377,908.551 550.46,909.385 550.542,910.224 550.625,911.069 550.707,911.919 550.789,912.775 550.872,913.637 550.954,914.505 551.037,915.378 551.119,916.257 \n",
       "  551.202,917.142 551.284,918.034 551.367,918.931 551.449,919.835 551.531,920.745 551.614,921.662 551.696,922.585 551.779,923.515 551.861,924.452 551.944,925.396 \n",
       "  552.026,926.346 552.109,927.304 552.191,928.269 552.274,929.241 552.356,930.221 552.438,931.208 552.521,932.203 552.603,933.206 552.686,934.217 552.768,935.236 \n",
       "  552.851,936.263 552.933,937.298 553.016,938.342 553.098,939.395 553.181,940.457 553.263,941.527 553.345,942.607 553.428,943.696 553.51,944.795 553.593,945.903 \n",
       "  553.675,947.021 553.758,948.149 553.84,949.288 553.923,950.437 554.005,951.596 554.087,952.767 554.17,953.948 554.252,955.141 554.335,956.346 554.417,957.562 \n",
       "  554.5,958.791 554.582,960.031 554.665,961.285 554.747,962.551 554.83,963.83 554.912,965.123 554.994,966.429 555.077,967.75 555.159,969.085 555.242,970.435 \n",
       "  555.324,971.8 555.407,973.18 555.489,974.577 555.572,975.989 555.654,977.418 555.736,978.865 555.819,980.329 555.901,981.81 555.984,983.311 556.066,984.83 \n",
       "  556.149,986.369 556.231,987.928 556.314,989.508 556.396,991.108 556.479,992.731 556.561,994.376 556.643,996.044 556.726,997.736 556.808,999.453 556.891,1001.2 \n",
       "  556.973,1002.96 557.056,1004.76 557.138,1006.58 557.221,1008.44 557.303,1010.32 557.386,1012.23 557.468,1014.18 557.55,1016.15 557.633,1018.17 557.715,1020.22 \n",
       "  557.798,1022.3 557.88,1024.43 557.963,1026.59 558.045,1028.8 558.128,1031.05 558.21,1033.34 558.292,1035.69 558.375,1038.08 558.457,1040.52 558.54,1043.02 \n",
       "  558.622,1045.58 558.705,1048.19 558.787,1050.87 558.87,1053.61 558.952,1056.42 559.035,1059.31 559.117,1062.27 559.199,1065.32 559.282,1068.45 559.364,1071.67 \n",
       "  559.447,1074.99 559.529,1078.42 559.612,1081.95 559.694,1085.61 559.777,1089.39 559.859,1093.31 559.941,1097.38 560.024,1101.6 560.106,1106.01 560.189,1110.6 \n",
       "  560.271,1115.39 560.354,1120.41 560.436,1125.69 560.519,1131.24 560.601,1137.1 560.684,1143.3 560.766,1149.9 560.848,1156.94 560.931,1164.49 561.013,1172.63 \n",
       "  561.096,1181.47 561.178,1191.14 561.261,1201.81 561.343,1213.72 561.426,1227.21 561.508,1242.76 561.591,1261.13 561.673,1283.59 561.755,1312.52 561.838,1353.29 \n",
       "  561.92,1423.18 562.003,1353.64 562.085,1313.2 562.168,1284.6 562.25,1262.48 562.333,1244.45 562.415,1229.23 562.497,1216.08 562.58,1204.49 562.662,1194.16 \n",
       "  562.745,1184.82 562.827,1176.31 562.91,1168.5 562.992,1161.28 563.075,1154.58 563.157,1148.31 563.24,1142.44 563.322,1136.92 563.404,1131.7 563.487,1126.76 \n",
       "  563.569,1122.07 563.652,1117.6 563.734,1113.35 563.817,1109.28 563.899,1105.38 563.982,1101.65 564.064,1098.06 564.146,1094.61 564.229,1091.29 564.311,1088.09 \n",
       "  564.394,1085 564.476,1082.01 564.559,1079.12 564.641,1076.32 564.724,1073.61 564.806,1070.98 564.889,1068.42 564.971,1065.94 565.053,1063.53 565.136,1061.19 \n",
       "  565.218,1058.9 565.301,1056.68 565.383,1054.52 565.466,1052.4 565.548,1050.34 565.631,1048.33 565.713,1046.37 565.796,1044.45 565.878,1042.58 565.96,1040.75 \n",
       "  566.043,1038.95 566.125,1037.2 566.208,1035.49 566.29,1033.8 566.373,1032.16 566.455,1030.55 566.538,1028.97 566.62,1027.42 566.702,1025.9 566.785,1024.4 \n",
       "  566.867,1022.94 566.95,1021.51 567.032,1020.1 567.115,1018.71 567.197,1017.35 567.28,1016.02 567.362,1014.7 567.445,1013.41 567.527,1012.15 567.609,1010.9 \n",
       "  567.692,1009.67 567.774,1008.47 567.857,1007.28 567.939,1006.11 568.022,1004.96 568.104,1003.83 568.187,1002.72 568.269,1001.62 568.351,1000.54 568.434,999.476 \n",
       "  568.516,998.428 568.599,997.396 568.681,996.379 568.764,995.376 568.846,994.388 568.929,993.414 569.011,992.454 569.094,991.507 569.176,990.573 569.258,989.652 \n",
       "  569.341,988.744 569.423,987.848 569.506,986.964 569.588,986.093 569.671,985.232 569.753,984.383 569.836,983.545 569.918,982.718 570.001,981.902 570.083,981.096 \n",
       "  570.165,980.3 570.248,979.514 570.33,978.739 570.413,977.973 570.495,977.216 570.578,976.469 570.66,975.731 570.743,975.002 570.825,974.282 570.907,973.57 \n",
       "  570.99,972.867 571.072,972.173 571.155,971.486 571.237,970.808 571.32,970.138 571.402,969.475 571.485,968.82 571.567,968.173 571.65,967.534 571.732,966.901 \n",
       "  571.814,966.276 571.897,965.658 571.979,965.047 572.062,964.443 572.144,963.845 572.227,963.255 572.309,962.67 572.392,962.093 572.474,961.521 572.556,960.956 \n",
       "  572.639,960.398 572.721,959.845 572.804,959.298 572.886,958.758 572.969,958.223 573.051,957.694 573.134,957.17 573.216,956.652 573.299,956.14 573.381,955.633 \n",
       "  573.463,955.132 573.546,954.636 573.628,954.145 573.711,953.659 573.793,953.179 573.876,952.703 573.958,952.232 574.041,951.767 574.123,951.306 574.206,950.85 \n",
       "  574.288,950.399 574.37,949.952 574.453,949.51 574.535,949.073 574.618,948.64 574.7,948.211 574.783,947.787 574.865,947.368 574.948,946.952 575.03,946.541 \n",
       "  575.112,946.134 575.195,945.731 575.277,945.333 575.36,944.938 575.442,944.547 575.525,944.161 575.607,943.778 575.69,943.399 575.772,943.024 575.855,942.653 \n",
       "  575.937,942.285 576.019,941.922 576.102,941.562 576.184,941.205 576.267,940.852 576.349,940.503 576.432,940.157 576.514,939.815 576.597,939.476 576.679,939.141 \n",
       "  576.761,938.809 576.844,938.48 576.926,938.155 577.009,937.833 577.091,937.514 577.174,937.199 577.256,936.886 577.339,936.577 577.421,936.271 577.504,935.968 \n",
       "  577.586,935.668 577.668,935.372 577.751,935.078 577.833,934.787 577.916,934.499 577.998,934.214 578.081,933.932 578.163,933.653 578.246,933.377 578.328,933.103 \n",
       "  578.411,932.833 578.493,932.565 578.575,932.3 578.658,932.038 578.74,931.778 578.823,931.521 578.905,931.267 578.988,931.015 579.07,930.766 579.153,930.52 \n",
       "  579.235,930.276 579.317,930.035 579.4,929.796 579.482,929.56 579.565,929.326 579.647,929.095 579.73,928.866 579.812,928.64 579.895,928.416 579.977,928.195 \n",
       "  580.06,927.976 580.142,927.759 580.224,927.544 580.307,927.332 580.389,927.123 580.472,926.915 580.554,926.71 580.637,926.507 580.719,926.306 580.802,926.108 \n",
       "  580.884,925.912 580.966,925.718 581.049,925.526 581.131,925.336 581.214,925.149 581.296,924.963 581.379,924.78 581.461,924.599 581.544,924.419 581.626,924.242 \n",
       "  581.709,924.067 581.791,923.895 581.873,923.724 581.956,923.555 582.038,923.388 582.121,923.223 582.203,923.06 582.286,922.899 582.368,922.74 582.451,922.583 \n",
       "  582.533,922.428 582.616,922.275 582.698,922.124 582.78,921.974 582.863,921.827 582.945,921.681 583.028,921.537 583.11,921.395 583.193,921.255 583.275,921.117 \n",
       "  583.358,920.981 583.44,920.846 583.522,920.713 583.605,920.582 583.687,920.453 583.77,920.325 583.852,920.199 583.935,920.075 584.017,919.953 584.1,919.832 \n",
       "  584.182,919.714 584.265,919.596 584.347,919.481 584.429,919.367 584.512,919.255 584.594,919.144 584.677,919.035 584.759,918.928 584.842,918.823 584.924,918.719 \n",
       "  585.007,918.617 585.089,918.516 585.171,918.417 585.254,918.319 585.336,918.223 585.419,918.129 585.501,918.036 585.584,917.945 585.666,917.855 585.749,917.767 \n",
       "  585.831,917.681 585.914,917.596 585.996,917.512 586.078,917.43 586.161,917.35 586.243,917.271 586.326,917.193 586.408,917.117 586.491,917.042 586.573,916.969 \n",
       "  586.656,916.898 586.738,916.828 586.821,916.759 586.903,916.692 586.985,916.626 587.068,916.561 587.15,916.498 587.233,916.437 587.315,916.377 587.398,916.318 \n",
       "  587.48,916.261 587.563,916.205 587.645,916.15 587.727,916.097 587.81,916.045 587.892,915.995 587.975,915.946 588.057,915.898 588.14,915.852 588.222,915.807 \n",
       "  588.305,915.763 588.387,915.721 588.47,915.68 588.552,915.64 588.634,915.602 588.717,915.565 588.799,915.529 588.882,915.495 588.964,915.462 589.047,915.43 \n",
       "  589.129,915.399 589.212,915.37 589.294,915.342 589.376,915.315 589.459,915.29 589.541,915.266 589.624,915.243 589.706,915.221 589.789,915.201 589.871,915.182 \n",
       "  589.954,915.164 590.036,915.147 590.119,915.132 590.201,915.118 590.283,915.105 590.366,915.093 590.448,915.082 590.531,915.073 590.613,915.065 590.696,915.058 \n",
       "  590.778,915.052 590.861,915.048 590.943,915.044 591.026,915.042 591.108,915.041 591.19,915.042 591.273,915.043 591.355,915.046 591.438,915.049 591.52,915.054 \n",
       "  591.603,915.06 591.685,915.068 591.768,915.076 591.85,915.086 591.932,915.096 592.015,915.108 592.097,915.121 592.18,915.135 592.262,915.151 592.345,915.167 \n",
       "  592.427,915.184 592.51,915.203 592.592,915.223 592.675,915.244 592.757,915.266 592.839,915.289 592.922,915.313 593.004,915.339 593.087,915.365 593.169,915.393 \n",
       "  593.252,915.421 593.334,915.451 593.417,915.482 593.499,915.514 593.581,915.547 593.664,915.581 593.746,915.616 593.829,915.652 593.911,915.69 593.994,915.728 \n",
       "  594.076,915.767 594.159,915.808 594.241,915.85 594.324,915.892 594.406,915.936 594.488,915.981 594.571,916.027 594.653,916.074 594.736,916.122 594.818,916.171 \n",
       "  594.901,916.221 594.983,916.272 595.066,916.324 595.148,916.377 595.231,916.432 595.313,916.487 595.395,916.543 595.478,916.6 595.56,916.659 595.643,916.718 \n",
       "  595.725,916.779 595.808,916.84 595.89,916.903 595.973,916.966 596.055,917.031 596.137,917.096 596.22,917.163 596.302,917.23 596.385,917.299 596.467,917.369 \n",
       "  596.55,917.439 596.632,917.511 596.715,917.583 596.797,917.657 596.88,917.732 596.962,917.807 597.044,917.884 597.127,917.961 597.209,918.04 597.292,918.12 \n",
       "  597.374,918.2 597.457,918.282 597.539,918.364 597.622,918.448 597.704,918.533 597.786,918.618 597.869,918.705 597.951,918.792 598.034,918.881 598.116,918.97 \n",
       "  598.199,919.061 598.281,919.152 598.364,919.244 598.446,919.338 598.529,919.432 598.611,919.528 598.693,919.624 598.776,919.721 598.858,919.819 598.941,919.919 \n",
       "  599.023,920.019 599.106,920.12 599.188,920.222 599.271,920.325 599.353,920.429 599.436,920.534 599.518,920.64 599.6,920.747 599.683,920.855 599.765,920.964 \n",
       "  599.848,921.074 599.93,921.184 600.013,921.296 600.095,921.409 600.178,921.522 600.26,921.637 600.342,921.752 600.425,921.869 600.507,921.986 600.59,922.105 \n",
       "  600.672,922.224 600.755,922.344 600.837,922.466 600.92,922.588 601.002,922.711 601.085,922.835 601.167,922.96 601.249,923.086 601.332,923.213 601.414,923.341 \n",
       "  601.497,923.47 601.579,923.6 601.662,923.73 601.744,923.862 601.827,923.995 601.909,924.128 601.991,924.263 602.074,924.398 602.156,924.534 602.239,924.672 \n",
       "  602.321,924.81 602.404,924.949 602.486,925.089 602.569,925.23 602.651,925.372 602.734,925.515 602.816,925.659 602.898,925.804 602.981,925.95 603.063,926.097 \n",
       "  603.146,926.244 603.228,926.393 603.311,926.543 603.393,926.693 603.476,926.845 603.558,926.997 603.641,927.15 603.723,927.305 603.805,927.46 603.888,927.616 \n",
       "  603.97,927.773 604.053,927.931 604.135,928.09 604.218,928.25 604.3,928.411 604.383,928.573 604.465,928.735 604.547,928.899 604.63,929.064 604.712,929.229 \n",
       "  604.795,929.396 604.877,929.563 604.96,929.732 605.042,929.901 605.125,930.071 605.207,930.243 605.29,930.415 605.372,930.588 605.454,930.762 605.537,930.937 \n",
       "  605.619,931.113 605.702,931.29 605.784,931.468 605.867,931.647 605.949,931.826 606.032,932.007 606.114,932.189 606.196,932.371 606.279,932.555 606.361,932.74 \n",
       "  606.444,932.925 606.526,933.111 606.609,933.299 606.691,933.487 606.774,933.677 606.856,933.867 606.939,934.058 607.021,934.25 607.103,934.443 607.186,934.638 \n",
       "  607.268,934.833 607.351,935.029 607.433,935.226 607.516,935.424 607.598,935.623 607.681,935.822 607.763,936.023 607.846,936.225 607.928,936.428 608.01,936.632 \n",
       "  608.093,936.837 608.175,937.042 608.258,937.249 608.34,937.457 608.423,937.665 608.505,937.875 608.588,938.086 608.67,938.297 608.752,938.51 608.835,938.723 \n",
       "  608.917,938.938 609,939.154 609.082,939.37 609.165,939.588 609.247,939.806 609.33,940.026 609.412,940.246 609.495,940.468 609.577,940.69 609.659,940.914 \n",
       "  609.742,941.138 609.824,941.364 609.907,941.59 609.989,941.818 610.072,942.046 610.154,942.276 610.237,942.506 610.319,942.738 610.401,942.97 610.484,943.204 \n",
       "  610.566,943.438 610.649,943.674 610.731,943.911 610.814,944.148 610.896,944.387 610.979,944.627 611.061,944.867 611.144,945.109 611.226,945.352 611.308,945.596 \n",
       "  611.391,945.841 611.473,946.087 611.556,946.333 611.638,946.581 611.721,946.831 611.803,947.081 611.886,947.332 611.968,947.584 612.051,947.837 612.133,948.091 \n",
       "  612.215,948.347 612.298,948.603 612.38,948.861 612.463,949.119 612.545,949.379 612.628,949.64 612.71,949.901 612.793,950.164 612.875,950.428 612.957,950.693 \n",
       "  613.04,950.959 613.122,951.226 613.205,951.495 613.287,951.764 613.37,952.034 613.452,952.306 613.535,952.579 613.617,952.852 613.7,953.127 613.782,953.403 \n",
       "  613.864,953.68 613.947,953.958 614.029,954.238 614.112,954.518 614.194,954.8 614.277,955.082 614.359,955.366 614.442,955.651 614.524,955.937 614.606,956.225 \n",
       "  614.689,956.513 614.771,956.802 614.854,957.093 614.936,957.385 615.019,957.678 615.101,957.972 615.184,958.267 615.266,958.564 615.349,958.862 615.431,959.16 \n",
       "  615.513,959.461 615.596,959.762 615.678,960.064 615.761,960.368 615.843,960.672 615.926,960.978 616.008,961.286 616.091,961.594 616.173,961.904 616.256,962.214 \n",
       "  616.338,962.526 616.42,962.84 616.503,963.154 616.585,963.47 616.668,963.787 616.75,964.105 616.833,964.425 616.915,964.745 616.998,965.067 617.08,965.39 \n",
       "  617.162,965.715 617.245,966.041 617.327,966.368 617.41,966.696 617.492,967.026 617.575,967.356 617.657,967.689 617.74,968.022 617.822,968.357 617.905,968.693 \n",
       "  617.987,969.03 618.069,969.369 618.152,969.709 618.234,970.05 618.317,970.393 618.399,970.737 618.482,971.083 618.564,971.429 618.647,971.777 618.729,972.127 \n",
       "  618.812,972.478 618.894,972.83 618.976,973.183 619.059,973.538 619.141,973.895 619.224,974.252 619.306,974.612 619.389,974.972 619.471,975.334 619.554,975.698 \n",
       "  619.636,976.062 619.718,976.429 619.801,976.796 619.883,977.165 619.966,977.536 620.048,977.908 620.131,978.282 620.213,978.657 620.296,979.033 620.378,979.411 \n",
       "  620.461,979.791 620.543,980.172 620.625,980.554 620.708,980.938 620.79,981.324 620.873,981.711 620.955,982.1 621.038,982.49 621.12,982.882 621.203,983.275 \n",
       "  621.285,983.67 621.367,984.066 621.45,984.464 621.532,984.864 621.615,985.265 621.697,985.668 621.78,986.073 621.862,986.479 621.945,986.887 622.027,987.296 \n",
       "  622.11,987.707 622.192,988.12 622.274,988.534 622.357,988.95 622.439,989.368 622.522,989.788 622.604,990.209 622.687,990.632 622.769,991.057 622.852,991.483 \n",
       "  622.934,991.911 623.017,992.341 623.099,992.773 623.181,993.207 623.264,993.642 623.346,994.079 623.429,994.518 623.511,994.959 623.594,995.402 623.676,995.846 \n",
       "  623.759,996.293 623.841,996.741 623.923,997.191 624.006,997.643 624.088,998.097 624.171,998.553 624.253,999.011 624.336,999.471 624.418,999.932 624.501,1000.4 \n",
       "  624.583,1000.86 624.666,1001.33 624.748,1001.8 624.83,1002.27 624.913,1002.74 624.995,1003.22 625.078,1003.7 625.16,1004.18 625.243,1004.66 625.325,1005.14 \n",
       "  625.408,1005.63 625.49,1006.12 625.572,1006.61 625.655,1007.1 625.737,1007.6 625.82,1008.1 625.902,1008.59 625.985,1009.1 626.067,1009.6 626.15,1010.11 \n",
       "  626.232,1010.61 626.315,1011.13 626.397,1011.64 626.479,1012.15 626.562,1012.67 626.644,1013.19 626.727,1013.71 626.809,1014.24 626.892,1014.77 626.974,1015.3 \n",
       "  627.057,1015.83 627.139,1016.36 627.222,1016.9 627.304,1017.44 627.386,1017.98 627.469,1018.53 627.551,1019.08 627.634,1019.63 627.716,1020.18 627.799,1020.73 \n",
       "  627.881,1021.29 627.964,1021.85 628.046,1022.42 628.128,1022.98 628.211,1023.55 628.293,1024.13 628.376,1024.7 628.458,1025.28 628.541,1025.86 628.623,1026.44 \n",
       "  628.706,1027.03 628.788,1027.62 628.871,1028.21 628.953,1028.8 629.035,1029.4 629.118,1030 629.2,1030.61 629.283,1031.22 629.365,1031.83 629.448,1032.44 \n",
       "  629.53,1033.06 629.613,1033.68 629.695,1034.3 629.777,1034.93 629.86,1035.56 629.942,1036.19 630.025,1036.83 630.107,1037.47 630.19,1038.11 630.272,1038.76 \n",
       "  630.355,1039.41 630.437,1040.07 630.52,1040.73 630.602,1041.39 630.684,1042.05 630.767,1042.72 630.849,1043.4 630.932,1044.07 631.014,1044.75 631.097,1045.44 \n",
       "  631.179,1046.13 631.262,1046.82 631.344,1047.52 631.427,1048.22 631.509,1048.92 631.591,1049.63 631.674,1050.34 631.756,1051.06 631.839,1051.78 631.921,1052.51 \n",
       "  632.004,1053.24 632.086,1053.98 632.169,1054.72 632.251,1055.46 632.333,1056.21 632.416,1056.96 632.498,1057.72 632.581,1058.49 632.663,1059.25 632.746,1060.03 \n",
       "  632.828,1060.8 632.911,1061.59 632.993,1062.38 633.076,1063.17 633.158,1063.97 633.24,1064.77 633.323,1065.58 633.405,1066.4 633.488,1067.22 633.57,1068.05 \n",
       "  633.653,1068.88 633.735,1069.72 633.818,1070.56 633.9,1071.41 633.982,1072.27 634.065,1073.13 634.147,1074 634.23,1074.87 634.312,1075.75 634.395,1076.64 \n",
       "  634.477,1077.53 634.56,1078.43 634.642,1079.34 634.725,1080.26 634.807,1081.18 634.889,1082.11 634.972,1083.04 635.054,1083.99 635.137,1084.94 635.219,1085.9 \n",
       "  635.302,1086.86 635.384,1087.84 635.467,1088.82 635.549,1089.81 635.632,1090.81 635.714,1091.82 635.796,1092.84 635.879,1093.86 635.961,1094.89 636.044,1095.94 \n",
       "  636.126,1096.99 636.209,1098.05 636.291,1099.12 636.374,1100.2 636.456,1101.29 636.538,1102.4 636.621,1103.51 636.703,1104.63 636.786,1105.76 636.868,1106.91 \n",
       "  636.951,1108.06 637.033,1109.23 637.116,1110.41 637.198,1111.6 637.281,1112.8 637.363,1114.01 637.445,1115.24 637.528,1116.48 637.61,1117.74 637.693,1119 \n",
       "  637.775,1120.29 637.858,1121.58 637.94,1122.89 638.023,1124.22 638.105,1125.56 638.187,1126.92 638.27,1128.29 638.352,1129.68 638.435,1131.08 638.517,1132.51 \n",
       "  638.6,1133.95 638.682,1135.41 638.765,1136.88 638.847,1138.38 638.93,1139.9 639.012,1141.44 639.094,1143 639.177,1144.58 639.259,1146.18 639.342,1147.8 \n",
       "  639.424,1149.45 639.507,1151.12 639.589,1152.82 639.672,1154.55 639.754,1156.3 639.837,1158.07 639.919,1159.88 640.001,1161.72 640.084,1163.58 640.166,1165.48 \n",
       "  640.249,1167.41 640.331,1169.38 640.414,1171.38 640.496,1173.41 640.579,1175.49 640.661,1177.6 640.743,1179.76 640.826,1181.95 640.908,1184.19 640.991,1186.48 \n",
       "  641.073,1188.82 641.156,1191.21 641.238,1193.65 641.321,1196.14 641.403,1198.7 641.486,1201.32 641.568,1204 641.65,1206.74 641.733,1209.56 641.815,1212.46 \n",
       "  641.898,1215.43 641.98,1218.49 642.063,1221.64 642.145,1224.88 642.228,1228.22 642.31,1231.67 642.392,1235.24 642.475,1238.93 642.557,1242.75 642.64,1246.72 \n",
       "  642.722,1250.84 642.805,1255.13 642.887,1259.6 642.97,1264.26 643.052,1269.15 643.135,1274.27 643.217,1279.65 643.299,1285.33 643.382,1291.34 643.464,1297.72 \n",
       "  643.547,1304.51 643.629,1311.79 643.712,1319.62 643.794,1328.09 643.877,1337.32 643.959,1347.48 644.042,1358.75 644.124,1371.43 644.206,1385.93 644.289,1402.84 \n",
       "  644.371,1423.18 644.454,1403.14 644.536,1386.51 644.619,1372.29 644.701,1359.89 644.784,1348.89 644.866,1339.01 644.948,1330.05 645.031,1321.85 645.113,1314.29 \n",
       "  645.196,1307.28 645.278,1300.76 645.361,1294.65 645.443,1288.91 645.526,1283.5 645.608,1278.38 645.691,1273.52 645.773,1268.91 645.855,1264.51 645.938,1260.31 \n",
       "  646.02,1256.29 646.103,1252.44 646.185,1248.74 646.268,1245.18 646.35,1241.76 646.433,1238.46 646.515,1235.27 646.597,1232.2 646.68,1229.22 646.762,1226.34 \n",
       "  646.845,1223.55 646.927,1220.84 647.01,1218.21 647.092,1215.66 647.175,1213.18 647.257,1210.77 647.34,1208.42 647.422,1206.13 647.504,1203.9 647.587,1201.72 \n",
       "  647.669,1199.6 647.752,1197.53 647.834,1195.51 647.917,1193.53 647.999,1191.6 648.082,1189.71 648.164,1187.87 648.247,1186.06 648.329,1184.29 648.411,1182.55 \n",
       "  648.494,1180.86 648.576,1179.19 648.659,1177.56 648.741,1175.96 648.824,1174.39 648.906,1172.85 648.989,1171.34 649.071,1169.85 649.153,1168.4 649.236,1166.96 \n",
       "  649.318,1165.56 649.401,1164.17 649.483,1162.81 649.566,1161.48 649.648,1160.16 649.731,1158.87 649.813,1157.6 649.896,1156.35 649.978,1155.12 650.06,1153.91 \n",
       "  650.143,1152.71 650.225,1151.54 650.308,1150.38 650.39,1149.24 650.473,1148.12 650.555,1147.01 650.638,1145.92 650.72,1144.85 650.802,1143.79 650.885,1142.74 \n",
       "  650.967,1141.71 651.05,1140.7 651.132,1139.7 651.215,1138.71 651.297,1137.73 651.38,1136.77 651.462,1135.82 651.545,1134.89 651.627,1133.96 651.709,1133.05 \n",
       "  651.792,1132.15 651.874,1131.26 651.957,1130.38 652.039,1129.51 652.122,1128.66 652.204,1127.81 652.287,1126.98 652.369,1126.15 652.452,1125.34 652.534,1124.53 \n",
       "  652.616,1123.74 652.699,1122.95 652.781,1122.17 652.864,1121.4 652.946,1120.65 653.029,1119.9 653.111,1119.15 653.194,1118.42 653.276,1117.7 653.358,1116.98 \n",
       "  653.441,1116.27 653.523,1115.57 653.606,1114.88 653.688,1114.19 653.771,1113.51 653.853,1112.84 653.936,1112.18 654.018,1111.52 654.101,1110.88 654.183,1110.23 \n",
       "  654.265,1109.6 654.348,1108.97 654.43,1108.35 654.513,1107.73 654.595,1107.12 654.678,1106.52 654.76,1105.93 654.843,1105.34 654.925,1104.75 655.007,1104.17 \n",
       "  655.09,1103.6 655.172,1103.04 655.255,1102.48 655.337,1101.92 655.42,1101.37 655.502,1100.83 655.585,1100.29 655.667,1099.76 655.75,1099.23 655.832,1098.71 \n",
       "  655.914,1098.19 655.997,1097.68 656.079,1097.17 656.162,1096.67 656.244,1096.17 656.327,1095.68 656.409,1095.19 656.492,1094.7 656.574,1094.23 656.657,1093.75 \n",
       "  656.739,1093.28 656.821,1092.82 656.904,1092.36 656.986,1091.9 657.069,1091.45 657.151,1091 657.234,1090.56 657.316,1090.12 657.399,1089.68 657.481,1089.25 \n",
       "  657.563,1088.83 657.646,1088.4 657.728,1087.99 657.811,1087.57 657.893,1087.16 657.976,1086.75 658.058,1086.35 658.141,1085.95 658.223,1085.55 658.306,1085.16 \n",
       "  658.388,1084.77 658.47,1084.39 658.553,1084 658.635,1083.63 658.718,1083.25 658.8,1082.88 658.883,1082.51 658.965,1082.15 659.048,1081.79 659.13,1081.43 \n",
       "  659.212,1081.07 659.295,1080.72 659.377,1080.37 659.46,1080.03 659.542,1079.69 659.625,1079.35 659.707,1079.01 659.79,1078.68 659.872,1078.35 659.955,1078.02 \n",
       "  660.037,1077.7 660.119,1077.38 660.202,1077.06 660.284,1076.75 660.367,1076.44 660.449,1076.13 660.532,1075.82 660.614,1075.52 660.697,1075.22 660.779,1074.92 \n",
       "  660.862,1074.62 660.944,1074.33 661.026,1074.04 661.109,1073.75 661.191,1073.47 661.274,1073.19 661.356,1072.91 661.439,1072.63 661.521,1072.36 661.604,1072.09 \n",
       "  661.686,1071.82 661.768,1071.55 661.851,1071.29 661.933,1071.02 662.016,1070.76 662.098,1070.51 662.181,1070.25 662.263,1070 662.346,1069.75 662.428,1069.5 \n",
       "  662.511,1069.26 662.593,1069.02 662.675,1068.78 662.758,1068.54 662.84,1068.3 662.923,1068.07 663.005,1067.84 663.088,1067.61 663.17,1067.38 663.253,1067.15 \n",
       "  663.335,1066.93 663.417,1066.71 663.5,1066.49 663.582,1066.28 663.665,1066.06 663.747,1065.85 663.83,1065.64 663.912,1065.43 663.995,1065.22 664.077,1065.02 \n",
       "  664.16,1064.82 664.242,1064.62 664.324,1064.42 664.407,1064.22 664.489,1064.03 664.572,1063.84 664.654,1063.65 664.737,1063.46 664.819,1063.27 664.902,1063.09 \n",
       "  664.984,1062.9 665.067,1062.72 665.149,1062.54 665.231,1062.37 665.314,1062.19 665.396,1062.02 665.479,1061.85 665.561,1061.68 665.644,1061.51 665.726,1061.34 \n",
       "  665.809,1061.18 665.891,1061.02 665.973,1060.85 666.056,1060.69 666.138,1060.54 666.221,1060.38 666.303,1060.23 666.386,1060.08 666.468,1059.92 666.551,1059.78 \n",
       "  666.633,1059.63 666.716,1059.48 666.798,1059.34 666.88,1059.2 666.963,1059.06 667.045,1058.92 667.128,1058.78 667.21,1058.64 667.293,1058.51 667.375,1058.38 \n",
       "  667.458,1058.24 667.54,1058.12 667.622,1057.99 667.705,1057.86 667.787,1057.74 667.87,1057.61 667.952,1057.49 668.035,1057.37 668.117,1057.25 668.2,1057.13 \n",
       "  668.282,1057.02 668.365,1056.91 668.447,1056.79 668.529,1056.68 668.612,1056.57 668.694,1056.46 668.777,1056.36 668.859,1056.25 668.942,1056.15 669.024,1056.04 \n",
       "  669.107,1055.94 669.189,1055.84 669.272,1055.75 669.354,1055.65 669.436,1055.55 669.519,1055.46 669.601,1055.37 669.684,1055.28 669.766,1055.19 669.849,1055.1 \n",
       "  669.931,1055.01 670.014,1054.93 670.096,1054.84 670.178,1054.76 670.261,1054.68 670.343,1054.6 670.426,1054.52 670.508,1054.44 670.591,1054.36 670.673,1054.29 \n",
       "  670.756,1054.22 670.838,1054.14 670.921,1054.07 671.003,1054 671.085,1053.94 671.168,1053.87 671.25,1053.8 671.333,1053.74 671.415,1053.67 671.498,1053.61 \n",
       "  671.58,1053.55 671.663,1053.49 671.745,1053.43 671.827,1053.38 671.91,1053.32 671.992,1053.27 672.075,1053.21 672.157,1053.16 672.24,1053.11 672.322,1053.06 \n",
       "  672.405,1053.01 672.487,1052.97 672.57,1052.92 672.652,1052.88 672.734,1052.83 672.817,1052.79 672.899,1052.75 672.982,1052.71 673.064,1052.67 673.147,1052.63 \n",
       "  673.229,1052.6 673.312,1052.56 673.394,1052.53 673.477,1052.5 673.559,1052.46 673.641,1052.43 673.724,1052.4 673.806,1052.38 673.889,1052.35 673.971,1052.32 \n",
       "  674.054,1052.3 674.136,1052.28 674.219,1052.25 674.301,1052.23 674.383,1052.21 674.466,1052.19 674.548,1052.18 674.631,1052.16 674.713,1052.14 674.796,1052.13 \n",
       "  674.878,1052.11 674.961,1052.1 675.043,1052.09 675.126,1052.08 675.208,1052.07 675.29,1052.06 675.373,1052.06 675.455,1052.05 675.538,1052.05 675.62,1052.04 \n",
       "  675.703,1052.04 675.785,1052.04 675.868,1052.04 675.95,1052.04 676.032,1052.04 676.115,1052.04 676.197,1052.05 676.28,1052.05 676.362,1052.06 676.445,1052.07 \n",
       "  676.527,1052.08 676.61,1052.08 676.692,1052.09 676.775,1052.11 676.857,1052.12 676.939,1052.13 677.022,1052.15 677.104,1052.16 677.187,1052.18 677.269,1052.2 \n",
       "  677.352,1052.21 677.434,1052.23 677.517,1052.25 677.599,1052.28 677.682,1052.3 677.764,1052.32 677.846,1052.35 677.929,1052.37 678.011,1052.4 678.094,1052.43 \n",
       "  678.176,1052.46 678.259,1052.49 678.341,1052.52 678.424,1052.55 678.506,1052.58 678.588,1052.62 678.671,1052.65 678.753,1052.69 678.836,1052.72 678.918,1052.76 \n",
       "  679.001,1052.8 679.083,1052.84 679.166,1052.88 679.248,1052.92 679.331,1052.97 679.413,1053.01 679.495,1053.05 679.578,1053.1 679.66,1053.15 679.743,1053.19 \n",
       "  679.825,1053.24 679.908,1053.29 679.99,1053.34 680.073,1053.39 680.155,1053.45 680.237,1053.5 680.32,1053.55 680.402,1053.61 680.485,1053.67 680.567,1053.72 \n",
       "  680.65,1053.78 680.732,1053.84 680.815,1053.9 680.897,1053.96 680.98,1054.02 681.062,1054.09 681.144,1054.15 681.227,1054.22 681.309,1054.28 681.392,1054.35 \n",
       "  681.474,1054.42 681.557,1054.49 681.639,1054.56 681.722,1054.63 681.804,1054.7 681.887,1054.77 681.969,1054.84 682.051,1054.92 682.134,1054.99 682.216,1055.07 \n",
       "  682.299,1055.15 682.381,1055.23 682.464,1055.31 682.546,1055.39 682.629,1055.47 682.711,1055.55 682.793,1055.63 682.876,1055.72 682.958,1055.8 683.041,1055.89 \n",
       "  683.123,1055.97 683.206,1056.06 683.288,1056.15 683.371,1056.24 683.453,1056.33 683.536,1056.42 683.618,1056.51 683.7,1056.61 683.783,1056.7 683.865,1056.8 \n",
       "  683.948,1056.89 684.03,1056.99 684.113,1057.09 684.195,1057.18 684.278,1057.28 684.36,1057.39 684.442,1057.49 684.525,1057.59 684.607,1057.69 684.69,1057.8 \n",
       "  684.772,1057.9 684.855,1058.01 684.937,1058.12 685.02,1058.22 685.102,1058.33 685.185,1058.44 685.267,1058.55 685.349,1058.66 685.432,1058.78 685.514,1058.89 \n",
       "  685.597,1059.01 685.679,1059.12 685.762,1059.24 685.844,1059.35 685.927,1059.47 686.009,1059.59 686.092,1059.71 686.174,1059.83 686.256,1059.95 686.339,1060.08 \n",
       "  686.421,1060.2 686.504,1060.33 686.586,1060.45 686.669,1060.58 686.751,1060.7 686.834,1060.83 686.916,1060.96 686.998,1061.09 687.081,1061.22 687.163,1061.36 \n",
       "  687.246,1061.49 687.328,1061.62 687.411,1061.76 687.493,1061.89 687.576,1062.03 687.658,1062.17 687.741,1062.31 687.823,1062.44 687.905,1062.59 687.988,1062.73 \n",
       "  688.07,1062.87 688.153,1063.01 688.235,1063.16 688.318,1063.3 688.4,1063.45 688.483,1063.59 688.565,1063.74 688.647,1063.89 688.73,1064.04 688.812,1064.19 \n",
       "  688.895,1064.34 688.977,1064.49 689.06,1064.65 689.142,1064.8 689.225,1064.96 689.307,1065.11 689.39,1065.27 689.472,1065.43 689.554,1065.59 689.637,1065.75 \n",
       "  689.719,1065.91 689.802,1066.07 689.884,1066.23 689.967,1066.4 690.049,1066.56 690.132,1066.73 690.214,1066.89 690.297,1067.06 690.379,1067.23 690.461,1067.4 \n",
       "  690.544,1067.57 690.626,1067.74 690.709,1067.91 690.791,1068.08 690.874,1068.26 690.956,1068.43 691.039,1068.61 691.121,1068.79 691.203,1068.96 691.286,1069.14 \n",
       "  691.368,1069.32 691.451,1069.5 691.533,1069.69 691.616,1069.87 691.698,1070.05 691.781,1070.24 691.863,1070.42 691.946,1070.61 692.028,1070.8 692.11,1070.98 \n",
       "  692.193,1071.17 692.275,1071.36 692.358,1071.56 692.44,1071.75 692.523,1071.94 692.605,1072.14 692.688,1072.33 692.77,1072.53 692.852,1072.73 692.935,1072.92 \n",
       "  693.017,1073.12 693.1,1073.32 693.182,1073.52 693.265,1073.73 693.347,1073.93 693.43,1074.13 693.512,1074.34 693.595,1074.55 693.677,1074.75 693.759,1074.96 \n",
       "  693.842,1075.17 693.924,1075.38 694.007,1075.59 694.089,1075.8 694.172,1076.02 694.254,1076.23 694.337,1076.45 694.419,1076.66 694.502,1076.88 694.584,1077.1 \n",
       "  694.666,1077.32 694.749,1077.54 694.831,1077.76 694.914,1077.98 694.996,1078.21 695.079,1078.43 695.161,1078.66 695.244,1078.88 695.326,1079.11 695.408,1079.34 \n",
       "  695.491,1079.57 695.573,1079.8 695.656,1080.03 695.738,1080.26 695.821,1080.5 695.903,1080.73 695.986,1080.97 696.068,1081.21 696.151,1081.45 696.233,1081.68 \n",
       "  696.315,1081.93 696.398,1082.17 696.48,1082.41 696.563,1082.65 696.645,1082.9 696.728,1083.14 696.81,1083.39 696.893,1083.64 696.975,1083.89 697.057,1084.14 \n",
       "  697.14,1084.39 697.222,1084.64 697.305,1084.9 697.387,1085.15 697.47,1085.41 697.552,1085.66 697.635,1085.92 697.717,1086.18 697.8,1086.44 697.882,1086.7 \n",
       "  697.964,1086.96 698.047,1087.23 698.129,1087.49 698.212,1087.76 698.294,1088.02 698.377,1088.29 698.459,1088.56 698.542,1088.83 698.624,1089.1 698.707,1089.38 \n",
       "  698.789,1089.65 698.871,1089.93 698.954,1090.2 699.036,1090.48 699.119,1090.76 699.201,1091.04 699.284,1091.32 699.366,1091.6 699.449,1091.89 699.531,1092.17 \n",
       "  699.613,1092.46 699.696,1092.74 699.778,1093.03 699.861,1093.32 699.943,1093.61 700.026,1093.91 700.108,1094.2 700.191,1094.49 700.273,1094.79 700.356,1095.09 \n",
       "  700.438,1095.38 700.52,1095.68 700.603,1095.99 700.685,1096.29 700.768,1096.59 700.85,1096.9 700.933,1097.2 701.015,1097.51 701.098,1097.82 701.18,1098.13 \n",
       "  701.262,1098.44 701.345,1098.75 701.427,1099.06 701.51,1099.38 701.592,1099.7 701.675,1100.01 701.757,1100.33 701.84,1100.65 701.922,1100.97 702.005,1101.3 \n",
       "  702.087,1101.62 702.169,1101.95 702.252,1102.28 702.334,1102.6 702.417,1102.93 702.499,1103.27 702.582,1103.6 702.664,1103.93 702.747,1104.27 702.829,1104.6 \n",
       "  702.912,1104.94 702.994,1105.28 703.076,1105.62 703.159,1105.97 703.241,1106.31 703.324,1106.66 703.406,1107 703.489,1107.35 703.571,1107.7 703.654,1108.05 \n",
       "  703.736,1108.41 703.818,1108.76 703.901,1109.12 703.983,1109.47 704.066,1109.83 704.148,1110.19 704.231,1110.56 704.313,1110.92 704.396,1111.28 704.478,1111.65 \n",
       "  704.561,1112.02 704.643,1112.39 704.725,1112.76 704.808,1113.13 704.89,1113.51 704.973,1113.88 705.055,1114.26 705.138,1114.64 705.22,1115.02 705.303,1115.41 \n",
       "  705.385,1115.79 705.467,1116.18 705.55,1116.56 705.632,1116.95 705.715,1117.34 705.797,1117.74 705.88,1118.13 705.962,1118.53 706.045,1118.93 706.127,1119.33 \n",
       "  706.21,1119.73 706.292,1120.13 706.374,1120.54 706.457,1120.94 706.539,1121.35 706.622,1121.76 706.704,1122.17 706.787,1122.59 706.869,1123 706.952,1123.42 \n",
       "  707.034,1123.84 707.117,1124.26 707.199,1124.68 707.281,1125.11 707.364,1125.54 707.446,1125.97 707.529,1126.4 707.611,1126.83 707.694,1127.26 707.776,1127.7 \n",
       "  707.859,1128.14 707.941,1128.58 708.023,1129.02 708.106,1129.47 708.188,1129.91 708.271,1130.36 708.353,1130.81 708.436,1131.27 708.518,1131.72 708.601,1132.18 \n",
       "  708.683,1132.64 708.766,1133.1 708.848,1133.56 708.93,1134.03 709.013,1134.5 709.095,1134.97 709.178,1135.44 709.26,1135.91 709.343,1136.39 709.425,1136.87 \n",
       "  709.508,1137.35 709.59,1137.83 709.672,1138.32 709.755,1138.81 709.837,1139.3 709.92,1139.79 710.002,1140.29 710.085,1140.78 710.167,1141.28 710.25,1141.79 \n",
       "  710.332,1142.29 710.415,1142.8 710.497,1143.31 710.579,1143.82 710.662,1144.34 710.744,1144.85 710.827,1145.37 710.909,1145.9 710.992,1146.42 711.074,1146.95 \n",
       "  711.157,1147.48 711.239,1148.01 711.322,1148.55 711.404,1149.09 711.486,1149.63 711.569,1150.18 711.651,1150.72 711.734,1151.27 711.816,1151.83 711.899,1152.38 \n",
       "  711.981,1152.94 712.064,1153.5 712.146,1154.07 712.228,1154.63 712.311,1155.21 712.393,1155.78 712.476,1156.36 712.558,1156.94 712.641,1157.52 712.723,1158.1 \n",
       "  712.806,1158.69 712.888,1159.29 712.971,1159.88 713.053,1160.48 713.135,1161.08 713.218,1161.69 713.3,1162.3 713.383,1162.91 713.465,1163.53 713.548,1164.15 \n",
       "  713.63,1164.77 713.713,1165.4 713.795,1166.03 713.877,1166.66 713.96,1167.3 714.042,1167.94 714.125,1168.59 714.207,1169.23 714.29,1169.89 714.372,1170.54 \n",
       "  714.455,1171.2 714.537,1171.87 714.62,1172.54 714.702,1173.21 714.784,1173.89 714.867,1174.57 714.949,1175.25 715.032,1175.94 715.114,1176.64 715.197,1177.33 \n",
       "  715.279,1178.04 715.362,1178.74 715.444,1179.45 715.527,1180.17 715.609,1180.89 715.691,1181.62 715.774,1182.35 715.856,1183.08 715.939,1183.82 716.021,1184.57 \n",
       "  716.104,1185.32 716.186,1186.07 716.269,1186.83 716.351,1187.59 716.433,1188.36 716.516,1189.14 716.598,1189.92 716.681,1190.71 716.763,1191.5 716.846,1192.3 \n",
       "  716.928,1193.1 717.011,1193.91 717.093,1194.72 717.176,1195.55 717.258,1196.37 717.34,1197.2 717.423,1198.04 717.505,1198.89 717.588,1199.74 717.67,1200.6 \n",
       "  717.753,1201.46 717.835,1202.34 717.918,1203.22 718,1204.1 718.082,1204.99 718.165,1205.89 718.247,1206.8 718.33,1207.71 718.412,1208.63 718.495,1209.56 \n",
       "  718.577,1210.5 718.66,1211.45 718.742,1212.4 718.825,1213.36 718.907,1214.33 718.989,1215.31 719.072,1216.29 719.154,1217.29 719.237,1218.29 719.319,1219.3 \n",
       "  719.402,1220.32 719.484,1221.36 719.567,1222.4 719.649,1223.45 719.732,1224.51 719.814,1225.58 719.896,1226.66 719.979,1227.75 720.061,1228.85 720.144,1229.96 \n",
       "  720.226,1231.09 720.309,1232.22 720.391,1233.37 720.474,1234.53 720.556,1235.7 720.638,1236.88 720.721,1238.08 720.803,1239.29 720.886,1240.51 720.968,1241.75 \n",
       "  721.051,1243 721.133,1244.26 721.216,1245.54 721.298,1246.83 721.381,1248.14 721.463,1249.46 721.545,1250.8 721.628,1252.16 721.71,1253.53 721.793,1254.92 \n",
       "  721.875,1256.33 721.958,1257.75 722.04,1259.2 722.123,1260.66 722.205,1262.14 722.287,1263.64 722.37,1265.17 722.452,1266.71 722.535,1268.28 722.617,1269.87 \n",
       "  722.7,1271.48 722.782,1273.12 722.865,1274.78 722.947,1276.47 723.03,1278.18 723.112,1279.92 723.194,1281.69 723.277,1283.49 723.359,1285.31 723.442,1287.17 \n",
       "  723.524,1289.06 723.607,1290.99 723.689,1292.95 723.772,1294.94 723.854,1296.97 723.937,1299.05 724.019,1301.16 724.101,1303.31 724.184,1305.51 724.266,1307.75 \n",
       "  724.349,1310.04 724.431,1312.39 724.514,1314.78 724.596,1317.23 724.679,1319.73 724.761,1322.3 724.843,1324.92 724.926,1327.62 725.008,1330.38 725.091,1333.22 \n",
       "  725.173,1336.14 725.256,1339.14 725.338,1342.22 725.421,1345.4 725.503,1348.68 725.586,1352.06 725.668,1355.56 725.75,1359.17 725.833,1362.91 725.915,1366.8 \n",
       "  725.998,1370.83 726.08,1375.02 726.163,1379.39 726.245,1383.96 726.328,1388.73 726.41,1393.73 726.492,1398.99 726.575,1404.52 726.657,1410.37 726.74,1416.58 \n",
       "  726.822,1423.18 726.905,1416.83 726.987,1410.87 727.07,1405.25 727.152,1399.95 727.235,1394.93 727.317,1390.16 727.399,1385.62 727.482,1381.28 727.564,1377.13 \n",
       "  727.647,1373.16 727.729,1369.35 727.812,1365.69 727.894,1362.17 727.977,1358.77 728.059,1355.49 728.142,1352.33 728.224,1349.26 728.306,1346.3 728.389,1343.43 \n",
       "  728.471,1340.65 728.554,1337.94 728.636,1335.32 728.719,1332.77 728.801,1330.29 728.884,1327.87 728.966,1325.52 729.048,1323.22 729.131,1320.99 729.213,1318.8 \n",
       "  729.296,1316.67 729.378,1314.59 729.461,1312.56 729.543,1310.57 729.626,1308.63 729.708,1306.73 729.791,1304.87 729.873,1303.04 729.955,1301.26 730.038,1299.51 \n",
       "  730.12,1297.79 730.203,1296.11 730.285,1294.46 730.368,1292.84 730.45,1291.25 730.533,1289.69 730.615,1288.16 730.697,1286.65 730.78,1285.18 730.862,1283.72 \n",
       "  730.945,1282.29 731.027,1280.89 731.11,1279.51 731.192,1278.15 731.275,1276.81 731.357,1275.5 731.44,1274.2 731.522,1272.93 731.604,1271.67 731.687,1270.43 \n",
       "  731.769,1269.22 731.852,1268.02 731.934,1266.83 732.017,1265.67 732.099,1264.52 732.182,1263.39 732.264,1262.27 732.347,1261.17 732.429,1260.09 732.511,1259.01 \n",
       "  732.594,1257.96 732.676,1256.92 732.759,1255.89 732.841,1254.87 732.924,1253.87 733.006,1252.88 733.089,1251.9 733.171,1250.94 733.253,1249.99 733.336,1249.05 \n",
       "  733.418,1248.12 733.501,1247.2 733.583,1246.3 733.666,1245.4 733.748,1244.52 733.831,1243.64 733.913,1242.78 733.996,1241.92 734.078,1241.08 734.16,1240.25 \n",
       "  734.243,1239.42 734.325,1238.61 734.408,1237.8 734.49,1237 734.573,1236.21 734.655,1235.43 734.738,1234.66 734.82,1233.9 734.903,1233.15 734.985,1232.4 \n",
       "  735.067,1231.66 735.15,1230.93 735.232,1230.21 735.315,1229.49 735.397,1228.78 735.48,1228.08 735.562,1227.39 735.645,1226.7 735.727,1226.02 735.809,1225.35 \n",
       "  735.892,1224.69 735.974,1224.03 736.057,1223.38 736.139,1222.73 736.222,1222.09 736.304,1221.46 736.387,1220.83 736.469,1220.21 736.552,1219.59 736.634,1218.98 \n",
       "  736.716,1218.38 736.799,1217.78 736.881,1217.19 736.964,1216.61 737.046,1216.03 737.129,1215.45 737.211,1214.88 737.294,1214.32 737.376,1213.76 737.458,1213.2 \n",
       "  737.541,1212.66 737.623,1212.11 737.706,1211.57 737.788,1211.04 737.871,1210.51 737.953,1209.99 738.036,1209.47 738.118,1208.95 738.201,1208.44 738.283,1207.94 \n",
       "  738.365,1207.43 738.448,1206.94 738.53,1206.45 738.613,1205.96 738.695,1205.47 738.778,1204.99 738.86,1204.52 738.943,1204.05 739.025,1203.58 739.108,1203.12 \n",
       "  739.19,1202.66 739.272,1202.2 739.355,1201.75 739.437,1201.31 739.52,1200.86 739.602,1200.42 739.685,1199.99 739.767,1199.56 739.85,1199.13 739.932,1198.7 \n",
       "  740.014,1198.28 740.097,1197.86 740.179,1197.45 740.262,1197.04 740.344,1196.63 740.427,1196.23 740.509,1195.83 740.592,1195.43 740.674,1195.04 740.757,1194.65 \n",
       "  740.839,1194.26 740.921,1193.87 741.004,1193.49 741.086,1193.12 741.169,1192.74 741.251,1192.37 741.334,1192 741.416,1191.64 741.499,1191.27 741.581,1190.91 \n",
       "  741.663,1190.56 741.746,1190.2 741.828,1189.85 741.911,1189.51 741.993,1189.16 742.076,1188.82 742.158,1188.48 742.241,1188.14 742.323,1187.81 742.406,1187.48 \n",
       "  742.488,1187.15 742.57,1186.83 742.653,1186.5 742.735,1186.18 742.818,1185.86 742.9,1185.55 742.983,1185.24 743.065,1184.93 743.148,1184.62 743.23,1184.31 \n",
       "  743.313,1184.01 743.395,1183.71 743.477,1183.42 743.56,1183.12 743.642,1182.83 743.725,1182.54 743.807,1182.25 743.89,1181.96 743.972,1181.68 744.055,1181.4 \n",
       "  744.137,1181.12 744.219,1180.84 744.302,1180.57 744.384,1180.3 744.467,1180.03 744.549,1179.76 744.632,1179.5 744.714,1179.23 744.797,1178.97 744.879,1178.71 \n",
       "  744.962,1178.46 745.044,1178.2 745.126,1177.95 745.209,1177.7 745.291,1177.45 745.374,1177.21 745.456,1176.96 745.539,1176.72 745.621,1176.48 745.704,1176.24 \n",
       "  745.786,1176.01 745.868,1175.77 745.951,1175.54 746.033,1175.31 746.116,1175.08 746.198,1174.86 746.281,1174.63 746.363,1174.41 746.446,1174.19 746.528,1173.97 \n",
       "  746.611,1173.75 746.693,1173.54 746.775,1173.32 746.858,1173.11 746.94,1172.9 747.023,1172.7 747.105,1172.49 747.188,1172.29 747.27,1172.08 747.353,1171.88 \n",
       "  747.435,1171.69 747.518,1171.49 747.6,1171.29 747.682,1171.1 747.765,1170.91 747.847,1170.72 747.93,1170.53 748.012,1170.34 748.095,1170.16 748.177,1169.97 \n",
       "  748.26,1169.79 748.342,1169.61 748.424,1169.43 748.507,1169.26 748.589,1169.08 748.672,1168.91 748.754,1168.74 748.837,1168.57 748.919,1168.4 749.002,1168.23 \n",
       "  749.084,1168.06 749.167,1167.9 749.249,1167.74 749.331,1167.58 749.414,1167.42 749.496,1167.26 749.579,1167.1 749.661,1166.95 749.744,1166.79 749.826,1166.64 \n",
       "  749.909,1166.49 749.991,1166.34 750.073,1166.19 750.156,1166.05 750.238,1165.9 750.321,1165.76 750.403,1165.62 750.486,1165.48 750.568,1165.34 750.651,1165.2 \n",
       "  750.733,1165.07 750.816,1164.93 750.898,1164.8 750.98,1164.67 751.063,1164.54 751.145,1164.41 751.228,1164.28 751.31,1164.15 751.393,1164.03 751.475,1163.91 \n",
       "  751.558,1163.78 751.64,1163.66 751.723,1163.54 751.805,1163.43 751.887,1163.31 751.97,1163.19 752.052,1163.08 752.135,1162.97 752.217,1162.85 752.3,1162.74 \n",
       "  752.382,1162.64 752.465,1162.53 752.547,1162.42 752.629,1162.32 752.712,1162.21 752.794,1162.11 752.877,1162.01 752.959,1161.91 753.042,1161.81 753.124,1161.71 \n",
       "  753.207,1161.62 753.289,1161.52 753.372,1161.43 753.454,1161.34 753.536,1161.24 753.619,1161.15 753.701,1161.07 753.784,1160.98 753.866,1160.89 753.949,1160.81 \n",
       "  754.031,1160.72 754.114,1160.64 754.196,1160.56 754.278,1160.48 754.361,1160.4 754.443,1160.32 754.526,1160.24 754.608,1160.17 754.691,1160.09 754.773,1160.02 \n",
       "  754.856,1159.95 754.938,1159.88 755.021,1159.81 755.103,1159.74 755.185,1159.67 755.268,1159.6 755.35,1159.54 755.433,1159.47 755.515,1159.41 755.598,1159.35 \n",
       "  755.68,1159.29 755.763,1159.23 755.845,1159.17 755.928,1159.11 756.01,1159.05 756.092,1159 756.175,1158.94 756.257,1158.89 756.34,1158.84 756.422,1158.79 \n",
       "  756.505,1158.74 756.587,1158.69 756.67,1158.64 756.752,1158.59 756.834,1158.55 756.917,1158.5 756.999,1158.46 757.082,1158.42 757.164,1158.38 757.247,1158.34 \n",
       "  757.329,1158.3 757.412,1158.26 757.494,1158.22 757.577,1158.19 757.659,1158.15 757.741,1158.12 757.824,1158.09 757.906,1158.05 757.989,1158.02 758.071,1157.99 \n",
       "  758.154,1157.96 758.236,1157.94 758.319,1157.91 758.401,1157.88 758.483,1157.86 758.566,1157.83 758.648,1157.81 758.731,1157.79 758.813,1157.77 758.896,1157.75 \n",
       "  758.978,1157.73 759.061,1157.71 759.143,1157.7 759.226,1157.68 759.308,1157.67 759.39,1157.65 759.473,1157.64 759.555,1157.63 759.638,1157.62 759.72,1157.61 \n",
       "  759.803,1157.6 759.885,1157.59 759.968,1157.59 760.05,1157.58 760.133,1157.57 760.215,1157.57 760.297,1157.57 760.38,1157.57 760.462,1157.56 760.545,1157.56 \n",
       "  760.627,1157.57 760.71,1157.57 760.792,1157.57 760.875,1157.57 760.957,1157.58 761.039,1157.58 761.122,1157.59 761.204,1157.6 761.287,1157.61 761.369,1157.62 \n",
       "  761.452,1157.63 761.534,1157.64 761.617,1157.65 761.699,1157.66 761.782,1157.68 761.864,1157.69 761.946,1157.71 762.029,1157.73 762.111,1157.75 762.194,1157.76 \n",
       "  762.276,1157.78 762.359,1157.8 762.441,1157.83 762.524,1157.85 762.606,1157.87 762.688,1157.9 762.771,1157.92 762.853,1157.95 762.936,1157.98 763.018,1158 \n",
       "  763.101,1158.03 763.183,1158.06 763.266,1158.09 763.348,1158.13 763.431,1158.16 763.513,1158.19 763.595,1158.23 763.678,1158.26 763.76,1158.3 763.843,1158.34 \n",
       "  763.925,1158.37 764.008,1158.41 764.09,1158.45 764.173,1158.49 764.255,1158.54 764.338,1158.58 764.42,1158.62 764.502,1158.67 764.585,1158.71 764.667,1158.76 \n",
       "  764.75,1158.8 764.832,1158.85 764.915,1158.9 764.997,1158.95 765.08,1159 765.162,1159.05 765.244,1159.11 765.327,1159.16 765.409,1159.21 765.492,1159.27 \n",
       "  765.574,1159.33 765.657,1159.38 765.739,1159.44 765.822,1159.5 765.904,1159.56 765.987,1159.62 766.069,1159.68 766.151,1159.74 766.234,1159.81 766.316,1159.87 \n",
       "  766.399,1159.93 766.481,1160 766.564,1160.07 766.646,1160.13 766.729,1160.2 766.811,1160.27 766.893,1160.34 766.976,1160.41 767.058,1160.49 767.141,1160.56 \n",
       "  767.223,1160.63 767.306,1160.71 767.388,1160.78 767.471,1160.86 767.553,1160.94 767.636,1161.01 767.718,1161.09 767.8,1161.17 767.883,1161.25 767.965,1161.33 \n",
       "  768.048,1161.42 768.13,1161.5 768.213,1161.58 768.295,1161.67 768.378,1161.75 768.46,1161.84 768.543,1161.93 768.625,1162.02 768.707,1162.11 768.79,1162.2 \n",
       "  768.872,1162.29 768.955,1162.38 769.037,1162.47 769.12,1162.57 769.202,1162.66 769.285,1162.76 769.367,1162.85 769.449,1162.95 769.532,1163.05 769.614,1163.15 \n",
       "  769.697,1163.25 769.779,1163.35 769.862,1163.45 769.944,1163.55 770.027,1163.66 770.109,1163.76 770.192,1163.87 770.274,1163.97 770.356,1164.08 770.439,1164.19 \n",
       "  770.521,1164.3 770.604,1164.4 770.686,1164.51 770.769,1164.63 770.851,1164.74 770.934,1164.85 771.016,1164.97 771.098,1165.08 771.181,1165.2 771.263,1165.31 \n",
       "  771.346,1165.43 771.428,1165.55 771.511,1165.67 771.593,1165.79 771.676,1165.91 771.758,1166.03 771.841,1166.15 771.923,1166.28 772.005,1166.4 772.088,1166.53 \n",
       "  772.17,1166.65 772.253,1166.78 772.335,1166.91 772.418,1167.04 772.5,1167.17 772.583,1167.3 772.665,1167.43 772.748,1167.56 772.83,1167.69 772.912,1167.83 \n",
       "  772.995,1167.96 773.077,1168.1 773.16,1168.24 773.242,1168.37 773.325,1168.51 773.407,1168.65 773.49,1168.79 773.572,1168.93 773.654,1169.07 773.737,1169.22 \n",
       "  773.819,1169.36 773.902,1169.51 773.984,1169.65 774.067,1169.8 774.149,1169.95 774.232,1170.1 774.314,1170.25 774.397,1170.4 774.479,1170.55 774.561,1170.7 \n",
       "  774.644,1170.85 774.726,1171.01 774.809,1171.16 774.891,1171.32 774.974,1171.47 775.056,1171.63 775.139,1171.79 775.221,1171.95 775.303,1172.11 775.386,1172.27 \n",
       "  775.468,1172.43 775.551,1172.6 775.633,1172.76 775.716,1172.92 775.798,1173.09 775.881,1173.26 775.963,1173.43 776.046,1173.59 776.128,1173.76 776.21,1173.93 \n",
       "  776.293,1174.11 776.375,1174.28 776.458,1174.45 776.54,1174.63 776.623,1174.8 776.705,1174.98 776.788,1175.15 776.87,1175.33 776.953,1175.51 777.035,1175.69 \n",
       "  777.117,1175.87 777.2,1176.05 777.282,1176.24 777.365,1176.42 777.447,1176.61 777.53,1176.79 777.612,1176.98 777.695,1177.17 777.777,1177.35 777.859,1177.54 \n",
       "  777.942,1177.73 778.024,1177.93 778.107,1178.12 778.189,1178.31 778.272,1178.51 778.354,1178.7 778.437,1178.9 778.519,1179.1 778.602,1179.29 778.684,1179.49 \n",
       "  778.766,1179.69 778.849,1179.9 778.931,1180.1 779.014,1180.3 779.096,1180.51 779.179,1180.71 779.261,1180.92 779.344,1181.12 779.426,1181.33 779.508,1181.54 \n",
       "  779.591,1181.75 779.673,1181.96 779.756,1182.18 779.838,1182.39 779.921,1182.6 780.003,1182.82 780.086,1183.04 780.168,1183.25 780.251,1183.47 780.333,1183.69 \n",
       "  780.415,1183.91 780.498,1184.13 780.58,1184.36 780.663,1184.58 780.745,1184.81 780.828,1185.03 780.91,1185.26 780.993,1185.49 781.075,1185.72 781.158,1185.95 \n",
       "  781.24,1186.18 781.322,1186.41 781.405,1186.64 781.487,1186.88 781.57,1187.11 781.652,1187.35 781.735,1187.59 781.817,1187.83 781.9,1188.07 781.982,1188.31 \n",
       "  782.064,1188.55 782.147,1188.79 782.229,1189.04 782.312,1189.28 782.394,1189.53 782.477,1189.78 782.559,1190.02 782.642,1190.27 782.724,1190.53 782.807,1190.78 \n",
       "  782.889,1191.03 782.971,1191.29 783.054,1191.54 783.136,1191.8 783.219,1192.06 783.301,1192.31 783.384,1192.57 783.466,1192.84 783.549,1193.1 783.631,1193.36 \n",
       "  783.713,1193.63 783.796,1193.89 783.878,1194.16 783.961,1194.43 784.043,1194.7 784.126,1194.97 784.208,1195.24 784.291,1195.51 784.373,1195.79 784.456,1196.06 \n",
       "  784.538,1196.34 784.62,1196.62 784.703,1196.9 784.785,1197.18 784.868,1197.46 784.95,1197.74 785.033,1198.03 785.115,1198.31 785.198,1198.6 785.28,1198.89 \n",
       "  785.363,1199.18 785.445,1199.47 785.527,1199.76 785.61,1200.05 785.692,1200.35 785.775,1200.64 785.857,1200.94 785.94,1201.24 786.022,1201.54 786.105,1201.84 \n",
       "  786.187,1202.14 786.269,1202.45 786.352,1202.75 786.434,1203.06 786.517,1203.36 786.599,1203.67 786.682,1203.98 786.764,1204.29 786.847,1204.61 786.929,1204.92 \n",
       "  787.012,1205.24 787.094,1205.56 787.176,1205.87 787.259,1206.19 787.341,1206.52 787.424,1206.84 787.506,1207.16 787.589,1207.49 787.671,1207.82 787.754,1208.14 \n",
       "  787.836,1208.47 787.918,1208.81 788.001,1209.14 788.083,1209.47 788.166,1209.81 788.248,1210.15 788.331,1210.48 788.413,1210.82 788.496,1211.17 788.578,1211.51 \n",
       "  788.661,1211.85 788.743,1212.2 788.825,1212.55 788.908,1212.9 788.99,1213.25 789.073,1213.6 789.155,1213.96 789.238,1214.31 789.32,1214.67 789.403,1215.03 \n",
       "  789.485,1215.39 789.568,1215.75 789.65,1216.12 789.732,1216.48 789.815,1216.85 789.897,1217.22 789.98,1217.59 790.062,1217.96 790.145,1218.33 790.227,1218.71 \n",
       "  790.31,1219.08 790.392,1219.46 790.474,1219.84 790.557,1220.23 790.639,1220.61 790.722,1221 790.804,1221.38 790.887,1221.77 790.969,1222.16 791.052,1222.56 \n",
       "  791.134,1222.95 791.217,1223.35 791.299,1223.75 791.381,1224.15 791.464,1224.55 791.546,1224.95 791.629,1225.36 791.711,1225.77 791.794,1226.18 791.876,1226.59 \n",
       "  791.959,1227 792.041,1227.42 792.123,1227.83 792.206,1228.25 792.288,1228.67 792.371,1229.1 792.453,1229.52 792.536,1229.95 792.618,1230.38 792.701,1230.81 \n",
       "  792.783,1231.24 792.866,1231.68 792.948,1232.12 793.03,1232.56 793.113,1233 793.195,1233.44 793.278,1233.89 793.36,1234.33 793.443,1234.79 793.525,1235.24 \n",
       "  793.608,1235.69 793.69,1236.15 793.773,1236.61 793.855,1237.07 793.937,1237.53 794.02,1238 794.102,1238.47 794.185,1238.94 794.267,1239.41 794.35,1239.89 \n",
       "  794.432,1240.36 794.515,1240.84 794.597,1241.33 794.679,1241.81 794.762,1242.3 794.844,1242.79 794.927,1243.28 795.009,1243.78 795.092,1244.27 795.174,1244.77 \n",
       "  795.257,1245.28 795.339,1245.78 795.422,1246.29 795.504,1246.8 795.586,1247.31 795.669,1247.83 795.751,1248.35 795.834,1248.87 795.916,1249.39 795.999,1249.92 \n",
       "  796.081,1250.45 796.164,1250.98 796.246,1251.52 796.328,1252.06 796.411,1252.6 796.493,1253.14 796.576,1253.69 796.658,1254.24 796.741,1254.79 796.823,1255.35 \n",
       "  796.906,1255.91 796.988,1256.47 797.071,1257.04 797.153,1257.61 797.235,1258.18 797.318,1258.75 797.4,1259.33 797.483,1259.92 797.565,1260.5 797.648,1261.09 \n",
       "  797.73,1261.68 797.813,1262.28 797.895,1262.88 797.978,1263.48 798.06,1264.08 798.142,1264.69 798.225,1265.31 798.307,1265.92 798.39,1266.54 798.472,1267.17 \n",
       "  798.555,1267.8 798.637,1268.43 798.72,1269.06 798.802,1269.7 798.884,1270.35 798.967,1271 799.049,1271.65 799.132,1272.3 799.214,1272.96 799.297,1273.63 \n",
       "  799.379,1274.3 799.462,1274.97 799.544,1275.65 799.627,1276.33 799.709,1277.01 799.791,1277.7 799.874,1278.4 799.956,1279.1 800.039,1279.8 800.121,1280.51 \n",
       "  800.204,1281.22 800.286,1281.94 800.369,1282.67 800.451,1283.39 800.533,1284.13 800.616,1284.87 800.698,1285.61 800.781,1286.36 800.863,1287.11 800.946,1287.87 \n",
       "  801.028,1288.64 801.111,1289.41 801.193,1290.18 801.276,1290.97 801.358,1291.75 801.44,1292.55 801.523,1293.35 801.605,1294.15 801.688,1294.96 801.77,1295.78 \n",
       "  801.853,1296.6 801.935,1297.43 802.018,1298.27 802.1,1299.11 802.183,1299.96 802.265,1300.82 802.347,1301.69 802.43,1302.56 802.512,1303.43 802.595,1304.32 \n",
       "  802.677,1305.21 802.76,1306.11 802.842,1307.02 802.925,1307.93 803.007,1308.86 803.089,1309.79 803.172,1310.72 803.254,1311.67 803.337,1312.63 803.419,1313.59 \n",
       "  803.502,1314.56 803.584,1315.55 803.667,1316.54 803.749,1317.54 803.832,1318.54 803.914,1319.56 803.996,1320.59 804.079,1321.63 804.161,1322.68 804.244,1323.74 \n",
       "  804.326,1324.8 804.409,1325.88 804.491,1326.97 804.574,1328.08 804.656,1329.19 804.738,1330.31 804.821,1331.45 804.903,1332.6 804.986,1333.76 805.068,1334.93 \n",
       "  805.151,1336.12 805.233,1337.32 805.316,1338.53 805.398,1339.75 805.481,1341 805.563,1342.25 805.645,1343.52 805.728,1344.8 805.81,1346.1 805.893,1347.42 \n",
       "  805.975,1348.75 806.058,1350.1 806.14,1351.47 806.223,1352.85 806.305,1354.25 806.388,1355.67 806.47,1357.11 806.552,1358.57 806.635,1360.05 806.717,1361.55 \n",
       "  806.8,1363.07 806.882,1364.61 806.965,1366.18 807.047,1367.77 807.13,1369.38 807.212,1371.01 807.294,1372.68 807.377,1374.36 807.459,1376.08 807.542,1377.82 \n",
       "  807.624,1379.6 807.707,1381.4 807.789,1383.23 807.872,1385.1 807.954,1387 808.037,1388.93 808.119,1390.9 808.201,1392.9 808.284,1394.95 808.366,1397.03 \n",
       "  808.449,1399.16 808.531,1401.33 808.614,1403.55 808.696,1405.81 808.779,1408.12 808.861,1410.49 808.943,1412.91 809.026,1415.38 809.108,1417.92 809.191,1420.52 \n",
       "  809.273,1423.18 809.356,1420.72 809.438,1418.33 809.521,1415.99 809.603,1413.72 809.686,1411.49 809.768,1409.32 809.85,1407.2 809.933,1405.13 810.015,1403.1 \n",
       "  810.098,1401.12 810.18,1399.18 810.263,1397.28 810.345,1395.42 810.428,1393.59 810.51,1391.8 810.593,1390.05 810.675,1388.33 810.757,1386.64 810.84,1384.98 \n",
       "  810.922,1383.36 811.005,1381.76 811.087,1380.19 811.17,1378.65 811.252,1377.13 811.335,1375.64 811.417,1374.17 811.499,1372.73 811.582,1371.31 811.664,1369.91 \n",
       "  811.747,1368.54 811.829,1367.19 811.912,1365.85 811.994,1364.54 812.077,1363.25 812.159,1361.98 812.242,1360.72 812.324,1359.48 812.406,1358.26 812.489,1357.06 \n",
       "  812.571,1355.88 812.654,1354.71 812.736,1353.55 812.819,1352.42 812.901,1351.29 812.984,1350.19 813.066,1349.09 813.148,1348.01 813.231,1346.95 813.313,1345.9 \n",
       "  813.396,1344.86 813.478,1343.83 813.561,1342.82 813.643,1341.82 813.726,1340.83 813.808,1339.85 813.891,1338.89 813.973,1337.93 814.055,1336.99 814.138,1336.06 \n",
       "  814.22,1335.14 814.303,1334.23 814.385,1333.33 814.468,1332.44 814.55,1331.56 814.633,1330.69 814.715,1329.82 814.798,1328.97 814.88,1328.13 814.962,1327.3 \n",
       "  815.045,1326.47 815.127,1325.65 815.21,1324.85 815.292,1324.05 815.375,1323.26 815.457,1322.47 815.54,1321.7 815.622,1320.93 815.704,1320.17 815.787,1319.42 \n",
       "  815.869,1318.68 815.952,1317.94 816.034,1317.21 816.117,1316.49 816.199,1315.77 816.282,1315.06 816.364,1314.36 816.447,1313.66 816.529,1312.98 816.611,1312.29 \n",
       "  816.694,1311.62 816.776,1310.95 816.859,1310.28 816.941,1309.63 817.024,1308.98 817.106,1308.33 817.189,1307.69 817.271,1307.06 817.353,1306.43 817.436,1305.81 \n",
       "  817.518,1305.19 817.601,1304.58 817.683,1303.97 817.766,1303.37 817.848,1302.77 817.931,1302.18 818.013,1301.6 818.096,1301.02 818.178,1300.44 818.26,1299.87 \n",
       "  818.343,1299.31 818.425,1298.75 818.508,1298.19 818.59,1297.64 818.673,1297.09 818.755,1296.55 818.838,1296.01 818.92,1295.48 819.003,1294.95 819.085,1294.42 \n",
       "  819.167,1293.9 819.25,1293.39 819.332,1292.88 819.415,1292.37 819.497,1291.86 819.58,1291.36 819.662,1290.87 819.745,1290.38 819.827,1289.89 819.909,1289.4 \n",
       "  819.992,1288.92 820.074,1288.45 820.157,1287.98 820.239,1287.51 820.322,1287.04 820.404,1286.58 820.487,1286.12 820.569,1285.67 820.652,1285.22 820.734,1284.77 \n",
       "  820.816,1284.32 820.899,1283.88 820.981,1283.45 821.064,1283.01 821.146,1282.58 821.229,1282.15 821.311,1281.73 821.394,1281.31 821.476,1280.89 821.558,1280.48 \n",
       "  821.641,1280.06 821.723,1279.66 821.806,1279.25 821.888,1278.85 821.971,1278.45 822.053,1278.05 822.136,1277.66 822.218,1277.27 822.301,1276.88 822.383,1276.5 \n",
       "  822.465,1276.11 822.548,1275.73 822.63,1275.36 822.713,1274.98 822.795,1274.61 822.878,1274.24 822.96,1273.88 823.043,1273.52 823.125,1273.16 823.208,1272.8 \n",
       "  823.29,1272.44 823.372,1272.09 823.455,1271.74 823.537,1271.39 823.62,1271.05 823.702,1270.71 823.785,1270.37 823.867,1270.03 823.95,1269.69 824.032,1269.36 \n",
       "  824.114,1269.03 824.197,1268.7 824.279,1268.38 824.362,1268.05 824.444,1267.73 824.527,1267.42 824.609,1267.1 824.692,1266.79 824.774,1266.47 824.857,1266.16 \n",
       "  824.939,1265.86 825.021,1265.55 825.104,1265.25 825.186,1264.95 825.269,1264.65 825.351,1264.35 825.434,1264.06 825.516,1263.77 825.599,1263.48 825.681,1263.19 \n",
       "  825.763,1262.9 825.846,1262.62 825.928,1262.34 826.011,1262.06 826.093,1261.78 826.176,1261.5 826.258,1261.23 826.341,1260.96 826.423,1260.69 826.506,1260.42 \n",
       "  826.588,1260.15 826.67,1259.89 826.753,1259.62 826.835,1259.36 826.918,1259.11 827,1258.85 827.083,1258.59 827.165,1258.34 827.248,1258.09 827.33,1257.84 \n",
       "  827.413,1257.59 827.495,1257.35 827.577,1257.1 827.66,1256.86 827.742,1256.62 827.825,1256.38 827.907,1256.14 827.99,1255.91 828.072,1255.67 828.155,1255.44 \n",
       "  828.237,1255.21 828.319,1254.98 828.402,1254.76 828.484,1254.53 828.567,1254.31 828.649,1254.08 828.732,1253.86 828.814,1253.65 828.897,1253.43 828.979,1253.21 \n",
       "  829.062,1253 829.144,1252.79 829.226,1252.58 829.309,1252.37 829.391,1252.16 829.474,1251.95 829.556,1251.75 829.639,1251.55 829.721,1251.34 829.804,1251.14 \n",
       "  829.886,1250.95 829.968,1250.75 830.051,1250.55 830.133,1250.36 830.216,1250.17 830.298,1249.97 830.381,1249.79 830.463,1249.6 830.546,1249.41 830.628,1249.23 \n",
       "  830.711,1249.04 830.793,1248.86 830.875,1248.68 830.958,1248.5 831.04,1248.32 831.123,1248.14 831.205,1247.97 831.288,1247.79 831.37,1247.62 831.453,1247.45 \n",
       "  831.535,1247.28 831.618,1247.11 831.7,1246.95 831.782,1246.78 831.865,1246.61 831.947,1246.45 832.03,1246.29 832.112,1246.13 832.195,1245.97 832.277,1245.81 \n",
       "  832.36,1245.66 832.442,1245.5 832.524,1245.35 832.607,1245.19 832.689,1245.04 832.772,1244.89 832.854,1244.74 832.937,1244.6 833.019,1244.45 833.102,1244.3 \n",
       "  833.184,1244.16 833.267,1244.02 833.349,1243.88 833.431,1243.74 833.514,1243.6 833.596,1243.46 833.679,1243.32 833.761,1243.19 833.844,1243.05 833.926,1242.92 \n",
       "  834.009,1242.79 834.091,1242.66 834.173,1242.53 834.256,1242.4 834.338,1242.27 834.421,1242.15 834.503,1242.02 834.586,1241.9 834.668,1241.78 834.751,1241.66 \n",
       "  834.833,1241.54 834.916,1241.42 834.998,1241.3 835.08,1241.18 835.163,1241.07 835.245,1240.95 835.328,1240.84 835.41,1240.73 835.493,1240.62 835.575,1240.51 \n",
       "  835.658,1240.4 835.74,1240.29 835.823,1240.19 835.905,1240.08 835.987,1239.98 836.07,1239.87 836.152,1239.77 836.235,1239.67 836.317,1239.57 836.4,1239.47 \n",
       "  836.482,1239.37 836.565,1239.28 836.647,1239.18 836.729,1239.09 836.812,1238.99 836.894,1238.9 836.977,1238.81 837.059,1238.72 837.142,1238.63 837.224,1238.54 \n",
       "  837.307,1238.45 837.389,1238.37 837.472,1238.28 837.554,1238.2 837.636,1238.11 837.719,1238.03 837.801,1237.95 837.884,1237.87 837.966,1237.79 838.049,1237.71 \n",
       "  838.131,1237.64 838.214,1237.56 838.296,1237.49 838.378,1237.41 838.461,1237.34 838.543,1237.27 838.626,1237.2 838.708,1237.12 838.791,1237.06 838.873,1236.99 \n",
       "  838.956,1236.92 839.038,1236.85 839.121,1236.79 839.203,1236.72 839.285,1236.66 839.368,1236.6 839.45,1236.54 839.533,1236.48 839.615,1236.42 839.698,1236.36 \n",
       "  839.78,1236.3 839.863,1236.24 839.945,1236.19 840.028,1236.13 840.11,1236.08 840.192,1236.03 840.275,1235.98 840.357,1235.93 840.44,1235.88 840.522,1235.83 \n",
       "  840.605,1235.78 840.687,1235.73 840.77,1235.68 840.852,1235.64 840.934,1235.59 841.017,1235.55 841.099,1235.51 841.182,1235.47 841.264,1235.43 841.347,1235.39 \n",
       "  841.429,1235.35 841.512,1235.31 841.594,1235.27 841.677,1235.24 841.759,1235.2 841.841,1235.17 841.924,1235.13 842.006,1235.1 842.089,1235.07 842.171,1235.04 \n",
       "  842.254,1235.01 842.336,1234.98 842.419,1234.95 842.501,1234.92 842.583,1234.9 842.666,1234.87 842.748,1234.84 842.831,1234.82 842.913,1234.8 842.996,1234.78 \n",
       "  843.078,1234.75 843.161,1234.73 843.243,1234.71 843.326,1234.7 843.408,1234.68 843.49,1234.66 843.573,1234.65 843.655,1234.63 843.738,1234.62 843.82,1234.6 \n",
       "  843.903,1234.59 843.985,1234.58 844.068,1234.57 844.15,1234.56 844.233,1234.55 844.315,1234.54 844.397,1234.53 844.48,1234.53 844.562,1234.52 844.645,1234.52 \n",
       "  844.727,1234.51 844.81,1234.51 844.892,1234.51 844.975,1234.5 845.057,1234.5 845.139,1234.5 845.222,1234.5 845.304,1234.51 845.387,1234.51 845.469,1234.51 \n",
       "  845.552,1234.52 845.634,1234.52 845.717,1234.53 845.799,1234.53 845.882,1234.54 845.964,1234.55 846.046,1234.56 846.129,1234.57 846.211,1234.58 846.294,1234.59 \n",
       "  846.376,1234.61 846.459,1234.62 846.541,1234.63 846.624,1234.65 846.706,1234.66 846.788,1234.68 846.871,1234.7 846.953,1234.72 847.036,1234.74 847.118,1234.76 \n",
       "  847.201,1234.78 847.283,1234.8 847.366,1234.82 847.448,1234.84 847.531,1234.87 847.613,1234.89 847.695,1234.92 847.778,1234.94 847.86,1234.97 847.943,1235 \n",
       "  848.025,1235.03 848.108,1235.06 848.19,1235.09 848.273,1235.12 848.355,1235.15 848.438,1235.19 848.52,1235.22 848.602,1235.25 848.685,1235.29 848.767,1235.32 \n",
       "  848.85,1235.36 848.932,1235.4 849.015,1235.44 849.097,1235.48 849.18,1235.52 849.262,1235.56 849.344,1235.6 849.427,1235.64 849.509,1235.69 849.592,1235.73 \n",
       "  849.674,1235.77 849.757,1235.82 849.839,1235.87 849.922,1235.91 850.004,1235.96 850.087,1236.01 850.169,1236.06 850.251,1236.11 850.334,1236.16 850.416,1236.21 \n",
       "  850.499,1236.27 850.581,1236.32 850.664,1236.38 850.746,1236.43 850.829,1236.49 850.911,1236.54 850.993,1236.6 851.076,1236.66 851.158,1236.72 851.241,1236.78 \n",
       "  851.323,1236.84 851.406,1236.9 851.488,1236.96 851.571,1237.03 851.653,1237.09 851.736,1237.15 851.818,1237.22 851.9,1237.29 851.983,1237.35 852.065,1237.42 \n",
       "  852.148,1237.49 852.23,1237.56 852.313,1237.63 852.395,1237.7 852.478,1237.77 852.56,1237.84 852.643,1237.92 852.725,1237.99 852.807,1238.07 852.89,1238.14 \n",
       "  852.972,1238.22 853.055,1238.3 853.137,1238.38 853.22,1238.45 853.302,1238.53 853.385,1238.61 853.467,1238.7 853.549,1238.78 853.632,1238.86 853.714,1238.94 \n",
       "  853.797,1239.03 853.879,1239.11 853.962,1239.2 854.044,1239.29 854.127,1239.37 854.209,1239.46 854.292,1239.55 854.374,1239.64 854.456,1239.73 854.539,1239.82 \n",
       "  854.621,1239.92 854.704,1240.01 854.786,1240.1 854.869,1240.2 854.951,1240.29 855.034,1240.39 855.116,1240.49 855.199,1240.59 855.281,1240.68 855.363,1240.78 \n",
       "  855.446,1240.88 855.528,1240.99 855.611,1241.09 855.693,1241.19 855.776,1241.29 855.858,1241.4 855.941,1241.5 856.023,1241.61 856.105,1241.72 856.188,1241.82 \n",
       "  856.27,1241.93 856.353,1242.04 856.435,1242.15 856.518,1242.26 856.6,1242.37 856.683,1242.49 856.765,1242.6 856.848,1242.71 856.93,1242.83 857.012,1242.94 \n",
       "  857.095,1243.06 857.177,1243.18 857.26,1243.3 857.342,1243.42 857.425,1243.54 857.507,1243.66 857.59,1243.78 857.672,1243.9 857.754,1244.02 857.837,1244.15 \n",
       "  857.919,1244.27 858.002,1244.4 858.084,1244.52 858.167,1244.65 858.249,1244.78 858.332,1244.91 858.414,1245.04 858.497,1245.17 858.579,1245.3 858.661,1245.43 \n",
       "  858.744,1245.56 858.826,1245.7 858.909,1245.83 858.991,1245.97 859.074,1246.1 859.156,1246.24 859.239,1246.38 859.321,1246.52 859.404,1246.66 859.486,1246.8 \n",
       "  859.568,1246.94 859.651,1247.08 859.733,1247.22 859.816,1247.37 859.898,1247.51 859.981,1247.66 860.063,1247.8 860.146,1247.95 860.228,1248.1 860.31,1248.25 \n",
       "  860.393,1248.4 860.475,1248.55 860.558,1248.7 860.64,1248.85 860.723,1249.01 860.805,1249.16 860.888,1249.31 860.97,1249.47 861.053,1249.63 861.135,1249.78 \n",
       "  861.217,1249.94 861.3,1250.1 861.382,1250.26 861.465,1250.42 861.547,1250.59 861.63,1250.75 861.712,1250.91 861.795,1251.08 861.877,1251.24 861.959,1251.41 \n",
       "  862.042,1251.58 862.124,1251.74 862.207,1251.91 862.289,1252.08 862.372,1252.25 862.454,1252.42 862.537,1252.6 862.619,1252.77 862.702,1252.95 862.784,1253.12 \n",
       "  862.866,1253.3 862.949,1253.47 863.031,1253.65 863.114,1253.83 863.196,1254.01 863.279,1254.19 863.361,1254.37 863.444,1254.56 863.526,1254.74 863.609,1254.92 \n",
       "  863.691,1255.11 863.773,1255.29 863.856,1255.48 863.938,1255.67 864.021,1255.86 864.103,1256.05 864.186,1256.24 864.268,1256.43 864.351,1256.62 864.433,1256.82 \n",
       "  864.515,1257.01 864.598,1257.21 864.68,1257.41 864.763,1257.6 864.845,1257.8 864.928,1258 865.01,1258.2 865.093,1258.4 865.175,1258.61 865.258,1258.81 \n",
       "  865.34,1259.01 865.422,1259.22 865.505,1259.42 865.587,1259.63 865.67,1259.84 865.752,1260.05 865.835,1260.26 865.917,1260.47 866,1260.68 866.082,1260.9 \n",
       "  866.164,1261.11 866.247,1261.33 866.329,1261.54 866.412,1261.76 866.494,1261.98 866.577,1262.2 866.659,1262.42 866.742,1262.64 866.824,1262.86 866.907,1263.08 \n",
       "  866.989,1263.31 867.071,1263.53 867.154,1263.76 867.236,1263.99 867.319,1264.22 867.401,1264.45 867.484,1264.68 867.566,1264.91 867.649,1265.14 867.731,1265.37 \n",
       "  867.814,1265.61 867.896,1265.84 867.978,1266.08 868.061,1266.32 868.143,1266.56 868.226,1266.8 868.308,1267.04 868.391,1267.28 868.473,1267.53 868.556,1267.77 \n",
       "  868.638,1268.02 868.72,1268.26 868.803,1268.51 868.885,1268.76 868.968,1269.01 869.05,1269.26 869.133,1269.51 869.215,1269.77 869.298,1270.02 869.38,1270.28 \n",
       "  869.463,1270.54 869.545,1270.79 869.627,1271.05 869.71,1271.31 869.792,1271.58 869.875,1271.84 869.957,1272.1 870.04,1272.37 870.122,1272.63 870.205,1272.9 \n",
       "  870.287,1273.17 870.369,1273.44 870.452,1273.71 870.534,1273.98 870.617,1274.26 870.699,1274.53 870.782,1274.81 870.864,1275.08 870.947,1275.36 871.029,1275.64 \n",
       "  871.112,1275.92 871.194,1276.2 871.276,1276.49 871.359,1276.77 871.441,1277.06 871.524,1277.35 871.606,1277.63 871.689,1277.92 871.771,1278.21 871.854,1278.51 \n",
       "  871.936,1278.8 872.019,1279.1 872.101,1279.39 872.183,1279.69 872.266,1279.99 872.348,1280.29 872.431,1280.59 872.513,1280.89 872.596,1281.2 872.678,1281.5 \n",
       "  872.761,1281.81 872.843,1282.12 872.925,1282.43 873.008,1282.74 873.09,1283.05 873.173,1283.36 873.255,1283.68 873.338,1283.99 873.42,1284.31 873.503,1284.63 \n",
       "  873.585,1284.95 873.668,1285.27 873.75,1285.6 873.832,1285.92 873.915,1286.25 873.997,1286.58 874.08,1286.91 874.162,1287.24 874.245,1287.57 874.327,1287.9 \n",
       "  874.41,1288.24 874.492,1288.58 874.574,1288.91 874.657,1289.25 874.739,1289.6 874.822,1289.94 874.904,1290.28 874.987,1290.63 875.069,1290.98 875.152,1291.33 \n",
       "  875.234,1291.68 875.317,1292.03 875.399,1292.38 875.481,1292.74 875.564,1293.1 875.646,1293.46 875.729,1293.82 875.811,1294.18 875.894,1294.54 875.976,1294.91 \n",
       "  876.059,1295.28 876.141,1295.64 876.224,1296.01 876.306,1296.39 876.388,1296.76 876.471,1297.14 876.553,1297.51 876.636,1297.89 876.718,1298.27 876.801,1298.66 \n",
       "  876.883,1299.04 876.966,1299.43 877.048,1299.82 877.13,1300.21 877.213,1300.6 877.295,1300.99 877.378,1301.39 877.46,1301.79 877.543,1302.18 877.625,1302.59 \n",
       "  877.708,1302.99 877.79,1303.39 877.873,1303.8 877.955,1304.21 878.037,1304.62 878.12,1305.03 878.202,1305.45 878.285,1305.87 878.367,1306.28 878.45,1306.71 \n",
       "  878.532,1307.13 878.615,1307.55 878.697,1307.98 878.779,1308.41 878.862,1308.84 878.944,1309.27 879.027,1309.71 879.109,1310.15 879.192,1310.59 879.274,1311.03 \n",
       "  879.357,1311.47 879.439,1311.92 879.522,1312.37 879.604,1312.82 879.686,1313.27 879.769,1313.73 879.851,1314.19 879.934,1314.65 880.016,1315.11 880.099,1315.57 \n",
       "  880.181,1316.04 880.264,1316.51 880.346,1316.98 880.429,1317.46 880.511,1317.93 880.593,1318.41 880.676,1318.89 880.758,1319.38 880.841,1319.87 880.923,1320.36 \n",
       "  881.006,1320.85 881.088,1321.34 881.171,1321.84 881.253,1322.34 881.335,1322.84 881.418,1323.35 881.5,1323.86 881.583,1324.37 881.665,1324.88 881.748,1325.4 \n",
       "  881.83,1325.92 881.913,1326.44 881.995,1326.96 882.078,1327.49 882.16,1328.02 882.242,1328.55 882.325,1329.09 882.407,1329.63 882.49,1330.17 882.572,1330.72 \n",
       "  882.655,1331.27 882.737,1331.82 882.82,1332.37 882.902,1332.93 882.984,1333.49 883.067,1334.06 883.149,1334.63 883.232,1335.2 883.314,1335.77 883.397,1336.35 \n",
       "  883.479,1336.93 883.562,1337.52 883.644,1338.1 883.727,1338.7 883.809,1339.29 883.891,1339.89 883.974,1340.49 884.056,1341.1 884.139,1341.71 884.221,1342.32 \n",
       "  884.304,1342.94 884.386,1343.56 884.469,1344.19 884.551,1344.82 884.634,1345.45 884.716,1346.09 884.798,1346.73 884.881,1347.38 884.963,1348.02 885.046,1348.68 \n",
       "  885.128,1349.34 885.211,1350 885.293,1350.67 885.376,1351.34 885.458,1352.01 885.54,1352.69 885.623,1353.38 885.705,1354.07 885.788,1354.76 885.87,1355.46 \n",
       "  885.953,1356.16 886.035,1356.87 886.118,1357.59 886.2,1358.3 886.283,1359.03 886.365,1359.76 886.447,1360.49 886.53,1361.23 886.612,1361.97 886.695,1362.72 \n",
       "  886.777,1363.48 886.86,1364.24 886.942,1365.01 887.025,1365.78 887.107,1366.56 887.189,1367.34 887.272,1368.13 887.354,1368.93 887.437,1369.73 887.519,1370.54 \n",
       "  887.602,1371.35 887.684,1372.17 887.767,1373 887.849,1373.83 887.932,1374.67 888.014,1375.52 888.096,1376.38 888.179,1377.24 888.261,1378.11 888.344,1378.98 \n",
       "  888.426,1379.87 888.509,1380.76 888.591,1381.66 888.674,1382.57 888.756,1383.48 888.839,1384.4 888.921,1385.33 889.003,1386.27 889.086,1387.22 889.168,1388.18 \n",
       "  889.251,1389.14 889.333,1390.12 889.416,1391.1 889.498,1392.09 889.581,1393.09 889.663,1394.1 889.745,1395.13 889.828,1396.16 889.91,1397.2 889.993,1398.25 \n",
       "  890.075,1399.31 890.158,1400.39 890.24,1401.47 890.323,1402.57 890.405,1403.67 890.488,1404.79 890.57,1405.92 890.652,1407.07 890.735,1408.22 890.817,1409.39 \n",
       "  890.9,1410.57 890.982,1411.77 891.065,1412.98 891.147,1414.2 891.23,1415.44 891.312,1416.69 891.394,1417.96 891.477,1419.24 891.559,1420.54 891.642,1421.85 \n",
       "  891.724,1423.18 891.807,1422.02 891.889,1420.87 891.972,1419.74 892.054,1418.62 892.137,1417.51 892.219,1416.42 892.301,1415.34 892.384,1414.27 892.466,1413.22 \n",
       "  892.549,1412.18 892.631,1411.15 892.714,1410.14 892.796,1409.13 892.879,1408.14 892.961,1407.16 893.044,1406.18 893.126,1405.22 893.208,1404.27 893.291,1403.33 \n",
       "  893.373,1402.4 893.456,1401.48 893.538,1400.57 893.621,1399.67 893.703,1398.78 893.786,1397.9 893.868,1397.03 893.95,1396.16 894.033,1395.31 894.115,1394.46 \n",
       "  894.198,1393.62 894.28,1392.79 894.363,1391.97 894.445,1391.16 894.528,1390.35 894.61,1389.55 894.693,1388.76 894.775,1387.98 894.857,1387.2 894.94,1386.43 \n",
       "  895.022,1385.67 895.105,1384.92 895.187,1384.17 895.27,1383.43 895.352,1382.69 895.435,1381.96 895.517,1381.24 895.599,1380.53 895.682,1379.82 895.764,1379.12 \n",
       "  895.847,1378.42 895.929,1377.73 896.012,1377.05 896.094,1376.37 896.177,1375.7 896.259,1375.03 896.342,1374.37 896.424,1373.71 896.506,1373.06 896.589,1372.42 \n",
       "  896.671,1371.78 896.754,1371.14 896.836,1370.51 896.919,1369.89 897.001,1369.27 897.084,1368.65 897.166,1368.04 897.249,1367.44 897.331,1366.84 897.413,1366.25 \n",
       "  897.496,1365.65 897.578,1365.07 897.661,1364.49 897.743,1363.91 897.826,1363.34 897.908,1362.77 897.991,1362.21 898.073,1361.65 898.155,1361.09 898.238,1360.54 \n",
       "  898.32,1359.99 898.403,1359.45 898.485,1358.91 898.568,1358.38 898.65,1357.85 898.733,1357.32 898.815,1356.8 898.898,1356.28 898.98,1355.76 899.062,1355.25 \n",
       "  899.145,1354.74 899.227,1354.24 899.31,1353.74 899.392,1353.24 899.475,1352.75 899.557,1352.26 899.64,1351.77 899.722,1351.29 899.804,1350.81 899.887,1350.33 \n",
       "  899.969,1349.86 900.052,1349.39 900.134,1348.92 900.217,1348.46 900.299,1348 900.382,1347.54 900.464,1347.09 900.547,1346.64 900.629,1346.19 900.711,1345.74 \n",
       "  900.794,1345.3 900.876,1344.86 900.959,1344.43 901.041,1343.99 901.124,1343.56 901.206,1343.14 901.289,1342.71 901.371,1342.29 901.454,1341.87 901.536,1341.46 \n",
       "  901.618,1341.04 901.701,1340.63 901.783,1340.23 901.866,1339.82 901.948,1339.42 902.031,1339.02 902.113,1338.62 902.196,1338.23 902.278,1337.83 902.36,1337.45 \n",
       "  902.443,1337.06 902.525,1336.67 902.608,1336.29 902.69,1335.91 902.773,1335.54 902.855,1335.16 902.938,1334.79 903.02,1334.42 903.103,1334.05 903.185,1333.69 \n",
       "  903.267,1333.32 903.35,1332.96 903.432,1332.6 903.515,1332.25 903.597,1331.89 903.68,1331.54 903.762,1331.19 903.845,1330.84 903.927,1330.5 904.009,1330.16 \n",
       "  904.092,1329.82 904.174,1329.48 904.257,1329.14 904.339,1328.81 904.422,1328.47 904.504,1328.14 904.587,1327.82 904.669,1327.49 904.752,1327.17 904.834,1326.84 \n",
       "  904.916,1326.52 904.999,1326.21 905.081,1325.89 905.164,1325.57 905.246,1325.26 905.329,1324.95 905.411,1324.64 905.494,1324.34 905.576,1324.03 905.659,1323.73 \n",
       "  905.741,1323.43 905.823,1323.13 905.906,1322.83 905.988,1322.54 906.071,1322.24 906.153,1321.95 906.236,1321.66 906.318,1321.37 906.401,1321.09 906.483,1320.8 \n",
       "  906.565,1320.52 906.648,1320.24 906.73,1319.96 906.813,1319.68 906.895,1319.4 906.978,1319.13 907.06,1318.86 907.143,1318.58 907.225,1318.31 907.308,1318.05 \n",
       "  907.39,1317.78 907.472,1317.52 907.555,1317.25 907.637,1316.99 907.72,1316.73 907.802,1316.47 907.885,1316.22 907.967,1315.96 908.05,1315.71 908.132,1315.46 \n",
       "  908.214,1315.21 908.297,1314.96 908.379,1314.71 908.462,1314.46 908.544,1314.22 908.627,1313.98 908.709,1313.74 908.792,1313.5 908.874,1313.26 908.957,1313.02 \n",
       "  909.039,1312.79 909.121,1312.55 909.204,1312.32 909.286,1312.09 909.369,1311.86 909.451,1311.63 909.534,1311.4 909.616,1311.18 909.699,1310.95 909.781,1310.73 \n",
       "  909.864,1310.51 909.946,1310.29 910.028,1310.07 910.111,1309.85 910.193,1309.64 910.276,1309.42 910.358,1309.21 910.441,1309 910.523,1308.79 910.606,1308.58 \n",
       "  910.688,1308.37 910.77,1308.16 910.853,1307.96 910.935,1307.76 911.018,1307.55 911.1,1307.35 911.183,1307.15 911.265,1306.95 911.348,1306.75 911.43,1306.56 \n",
       "  911.513,1306.36 911.595,1306.17 911.677,1305.98 911.76,1305.79 911.842,1305.6 911.925,1305.41 912.007,1305.22 912.09,1305.03 912.172,1304.85 912.255,1304.66 \n",
       "  912.337,1304.48 912.419,1304.3 912.502,1304.12 912.584,1303.94 912.667,1303.76 912.749,1303.58 912.832,1303.41 912.914,1303.23 912.997,1303.06 913.079,1302.89 \n",
       "  913.162,1302.72 913.244,1302.55 913.326,1302.38 913.409,1302.21 913.491,1302.04 913.574,1301.88 913.656,1301.71 913.739,1301.55 913.821,1301.39 913.904,1301.23 \n",
       "  913.986,1301.07 914.069,1300.91 914.151,1300.75 914.233,1300.59 914.316,1300.44 914.398,1300.28 914.481,1300.13 914.563,1299.98 914.646,1299.83 914.728,1299.68 \n",
       "  914.811,1299.53 914.893,1299.38 914.975,1299.23 915.058,1299.09 915.14,1298.94 915.223,1298.8 915.305,1298.66 915.388,1298.51 915.47,1298.37 915.553,1298.23 \n",
       "  915.635,1298.09 915.718,1297.96 915.8,1297.82 915.882,1297.68 915.965,1297.55 916.047,1297.42 916.13,1297.28 916.212,1297.15 916.295,1297.02 916.377,1296.89 \n",
       "  916.46,1296.76 916.542,1296.63 916.624,1296.51 916.707,1296.38 916.789,1296.26 916.872,1296.13 916.954,1296.01 917.037,1295.89 917.119,1295.77 917.202,1295.65 \n",
       "  917.284,1295.53 917.367,1295.41 917.449,1295.29 917.531,1295.18 917.614,1295.06 917.696,1294.95 917.779,1294.83 917.861,1294.72 917.944,1294.61 918.026,1294.5 \n",
       "  918.109,1294.39 918.191,1294.28 918.274,1294.17 918.356,1294.07 918.438,1293.96 918.521,1293.85 918.603,1293.75 918.686,1293.65 918.768,1293.54 918.851,1293.44 \n",
       "  918.933,1293.34 919.016,1293.24 919.098,1293.14 919.18,1293.05 919.263,1292.95 919.345,1292.85 919.428,1292.76 919.51,1292.66 919.593,1292.57 919.675,1292.48 \n",
       "  919.758,1292.39 919.84,1292.29 919.923,1292.2 920.005,1292.12 920.087,1292.03 920.17,1291.94 920.252,1291.85 920.335,1291.77 920.417,1291.68 920.5,1291.6 \n",
       "  920.582,1291.52 920.665,1291.43 920.747,1291.35 920.829,1291.27 920.912,1291.19 920.994,1291.11 921.077,1291.03 921.159,1290.96 921.242,1290.88 921.324,1290.81 \n",
       "  921.407,1290.73 921.489,1290.66 921.572,1290.58 921.654,1290.51 921.736,1290.44 921.819,1290.37 921.901,1290.3 921.984,1290.23 922.066,1290.16 922.149,1290.09 \n",
       "  922.231,1290.03 922.314,1289.96 922.396,1289.9 922.479,1289.83 922.561,1289.77 922.643,1289.71 922.726,1289.65 922.808,1289.59 922.891,1289.53 922.973,1289.47 \n",
       "  923.056,1289.41 923.138,1289.35 923.221,1289.29 923.303,1289.24 923.385,1289.18 923.468,1289.13 923.55,1289.07 923.633,1289.02 923.715,1288.97 923.798,1288.92 \n",
       "  923.88,1288.87 923.963,1288.82 924.045,1288.77 924.128,1288.72 924.21,1288.67 924.292,1288.62 924.375,1288.58 924.457,1288.53 924.54,1288.49 924.622,1288.45 \n",
       "  924.705,1288.4 924.787,1288.36 924.87,1288.32 924.952,1288.28 925.034,1288.24 925.117,1288.2 925.199,1288.16 925.282,1288.12 925.364,1288.09 925.447,1288.05 \n",
       "  925.529,1288.02 925.612,1287.98 925.694,1287.95 925.777,1287.91 925.859,1287.88 925.941,1287.85 926.024,1287.82 926.106,1287.79 926.189,1287.76 926.271,1287.73 \n",
       "  926.354,1287.7 926.436,1287.68 926.519,1287.65 926.601,1287.63 926.684,1287.6 926.766,1287.58 926.848,1287.55 926.931,1287.53 927.013,1287.51 927.096,1287.49 \n",
       "  927.178,1287.47 927.261,1287.45 927.343,1287.43 927.426,1287.41 927.508,1287.39 927.59,1287.38 927.673,1287.36 927.755,1287.34 927.838,1287.33 927.92,1287.32 \n",
       "  928.003,1287.3 928.085,1287.29 928.168,1287.28 928.25,1287.27 928.333,1287.26 928.415,1287.25 928.497,1287.24 928.58,1287.23 928.662,1287.22 928.745,1287.22 \n",
       "  928.827,1287.21 928.91,1287.2 928.992,1287.2 929.075,1287.2 929.157,1287.19 929.239,1287.19 929.322,1287.19 929.404,1287.19 929.487,1287.19 929.569,1287.19 \n",
       "  929.652,1287.19 929.734,1287.19 929.817,1287.19 929.899,1287.2 929.982,1287.2 930.064,1287.21 930.146,1287.21 930.229,1287.22 930.311,1287.22 930.394,1287.23 \n",
       "  930.476,1287.24 930.559,1287.25 930.641,1287.26 930.724,1287.27 930.806,1287.28 930.889,1287.29 930.971,1287.3 931.053,1287.32 931.136,1287.33 931.218,1287.35 \n",
       "  931.301,1287.36 931.383,1287.38 931.466,1287.39 931.548,1287.41 931.631,1287.43 931.713,1287.45 931.795,1287.47 931.878,1287.49 931.96,1287.51 932.043,1287.53 \n",
       "  932.125,1287.55 932.208,1287.57 932.29,1287.6 932.373,1287.62 932.455,1287.65 932.538,1287.67 932.62,1287.7 932.702,1287.73 932.785,1287.75 932.867,1287.78 \n",
       "  932.95,1287.81 933.032,1287.84 933.115,1287.87 933.197,1287.9 933.28,1287.93 933.362,1287.97 933.444,1288 933.527,1288.03 933.609,1288.07 933.692,1288.1 \n",
       "  933.774,1288.14 933.857,1288.18 933.939,1288.21 934.022,1288.25 934.104,1288.29 934.187,1288.33 934.269,1288.37 934.351,1288.41 934.434,1288.45 934.516,1288.49 \n",
       "  934.599,1288.54 934.681,1288.58 934.764,1288.62 934.846,1288.67 934.929,1288.72 935.011,1288.76 935.094,1288.81 935.176,1288.86 935.258,1288.91 935.341,1288.95 \n",
       "  935.423,1289 935.506,1289.05 935.588,1289.11 935.671,1289.16 935.753,1289.21 935.836,1289.26 935.918,1289.32 936,1289.37 936.083,1289.43 936.165,1289.48 \n",
       "  936.248,1289.54 936.33,1289.6 936.413,1289.65 936.495,1289.71 936.578,1289.77 936.66,1289.83 936.743,1289.89 936.825,1289.96 936.907,1290.02 936.99,1290.08 \n",
       "  937.072,1290.14 937.155,1290.21 937.237,1290.27 937.32,1290.34 937.402,1290.41 937.485,1290.47 937.567,1290.54 937.649,1290.61 937.732,1290.68 937.814,1290.75 \n",
       "  937.897,1290.82 937.979,1290.89 938.062,1290.96 938.144,1291.03 938.227,1291.11 938.309,1291.18 938.392,1291.26 938.474,1291.33 938.556,1291.41 938.639,1291.48 \n",
       "  938.721,1291.56 938.804,1291.64 938.886,1291.72 938.969,1291.8 939.051,1291.88 939.134,1291.96 939.216,1292.04 939.299,1292.12 939.381,1292.21 939.463,1292.29 \n",
       "  939.546,1292.37 939.628,1292.46 939.711,1292.54 939.793,1292.63 939.876,1292.72 939.958,1292.81 940.041,1292.89 940.123,1292.98 940.205,1293.07 940.288,1293.17 \n",
       "  940.37,1293.26 940.453,1293.35 940.535,1293.44 940.618,1293.54 940.7,1293.63 940.783,1293.72 940.865,1293.82 940.948,1293.92 941.03,1294.01 941.112,1294.11 \n",
       "  941.195,1294.21 941.277,1294.31 941.36,1294.41 941.442,1294.51 941.525,1294.61 941.607,1294.71 941.69,1294.82 941.772,1294.92 941.854,1295.03 941.937,1295.13 \n",
       "  942.019,1295.24 942.102,1295.34 942.184,1295.45 942.267,1295.56 942.349,1295.67 942.432,1295.78 942.514,1295.89 942.597,1296 942.679,1296.11 942.761,1296.22 \n",
       "  942.844,1296.33 942.926,1296.45 943.009,1296.56 943.091,1296.68 943.174,1296.79 943.256,1296.91 943.339,1297.03 943.421,1297.15 943.504,1297.26 943.586,1297.38 \n",
       "  943.668,1297.5 943.751,1297.63 943.833,1297.75 943.916,1297.87 943.998,1297.99 944.081,1298.12 944.163,1298.24 944.246,1298.37 944.328,1298.49 944.41,1298.62 \n",
       "  944.493,1298.75 944.575,1298.88 944.658,1299.01 944.74,1299.14 944.823,1299.27 944.905,1299.4 944.988,1299.53 945.07,1299.66 945.153,1299.8 945.235,1299.93 \n",
       "  945.317,1300.07 945.4,1300.2 945.482,1300.34 945.565,1300.48 945.647,1300.62 945.73,1300.76 945.812,1300.9 945.895,1301.04 945.977,1301.18 946.059,1301.32 \n",
       "  946.142,1301.47 946.224,1301.61 946.307,1301.75 946.389,1301.9 946.472,1302.05 946.554,1302.19 946.637,1302.34 946.719,1302.49 946.802,1302.64 946.884,1302.79 \n",
       "  946.966,1302.94 947.049,1303.09 947.131,1303.24 947.214,1303.4 947.296,1303.55 947.379,1303.71 947.461,1303.86 947.544,1304.02 947.626,1304.18 947.709,1304.33 \n",
       "  947.791,1304.49 947.873,1304.65 947.956,1304.81 948.038,1304.97 948.121,1305.14 948.203,1305.3 948.286,1305.46 948.368,1305.63 948.451,1305.79 948.533,1305.96 \n",
       "  948.615,1306.13 948.698,1306.3 948.78,1306.46 948.863,1306.63 948.945,1306.8 949.028,1306.98 949.11,1307.15 949.193,1307.32 949.275,1307.49 949.358,1307.67 \n",
       "  949.44,1307.85 949.522,1308.02 949.605,1308.2 949.687,1308.38 949.77,1308.56 949.852,1308.74 949.935,1308.92 950.017,1309.1 950.1,1309.28 950.182,1309.46 \n",
       "  950.264,1309.65 950.347,1309.83 950.429,1310.02 950.512,1310.21 950.594,1310.39 950.677,1310.58 950.759,1310.77 950.842,1310.96 950.924,1311.15 951.007,1311.34 \n",
       "  951.089,1311.54 951.171,1311.73 951.254,1311.93 951.336,1312.12 951.419,1312.32 951.501,1312.52 951.584,1312.71 951.666,1312.91 951.749,1313.11 951.831,1313.31 \n",
       "  951.914,1313.52 951.996,1313.72 952.078,1313.92 952.161,1314.13 952.243,1314.33 952.326,1314.54 952.408,1314.75 952.491,1314.96 952.573,1315.17 952.656,1315.38 \n",
       "  952.738,1315.59 952.82,1315.8 952.903,1316.01 952.985,1316.23 953.068,1316.44 953.15,1316.66 953.233,1316.88 953.315,1317.09 953.398,1317.31 953.48,1317.53 \n",
       "  953.563,1317.75 953.645,1317.98 953.727,1318.2 953.81,1318.42 953.892,1318.65 953.975,1318.87 954.057,1319.1 954.14,1319.33 954.222,1319.56 954.305,1319.79 \n",
       "  954.387,1320.02 954.469,1320.25 954.552,1320.49 954.634,1320.72 954.717,1320.95 954.799,1321.19 954.882,1321.43 954.964,1321.67 955.047,1321.91 955.129,1322.15 \n",
       "  955.212,1322.39 955.294,1322.63 955.376,1322.87 955.459,1323.12 955.541,1323.36 955.624,1323.61 955.706,1323.86 955.789,1324.11 955.871,1324.36 955.954,1324.61 \n",
       "  956.036,1324.86 956.119,1325.11 956.201,1325.37 956.283,1325.62 956.366,1325.88 956.448,1326.14 956.531,1326.4 956.613,1326.66 956.696,1326.92 956.778,1327.18 \n",
       "  956.861,1327.44 956.943,1327.71 957.025,1327.97 957.108,1328.24 957.19,1328.51 957.273,1328.78 957.355,1329.05 957.438,1329.32 957.52,1329.59 957.603,1329.86 \n",
       "  957.685,1330.14 957.768,1330.42 957.85,1330.69 957.932,1330.97 958.015,1331.25 958.097,1331.53 958.18,1331.81 958.262,1332.1 958.345,1332.38 958.427,1332.67 \n",
       "  958.51,1332.96 958.592,1333.24 958.674,1333.53 958.757,1333.82 958.839,1334.12 958.922,1334.41 959.004,1334.71 959.087,1335 959.169,1335.3 959.252,1335.6 \n",
       "  959.334,1335.9 959.417,1336.2 959.499,1336.5 959.581,1336.81 959.664,1337.11 959.746,1337.42 959.829,1337.73 959.911,1338.03 959.994,1338.35 960.076,1338.66 \n",
       "  960.159,1338.97 960.241,1339.29 960.324,1339.6 960.406,1339.92 960.488,1340.24 960.571,1340.56 960.653,1340.88 960.736,1341.2 960.818,1341.53 960.901,1341.86 \n",
       "  960.983,1342.18 961.066,1342.51 961.148,1342.84 961.23,1343.17 961.313,1343.51 961.395,1343.84 961.478,1344.18 961.56,1344.52 961.643,1344.86 961.725,1345.2 \n",
       "  961.808,1345.54 961.89,1345.88 961.973,1346.23 962.055,1346.58 962.137,1346.93 962.22,1347.28 962.302,1347.63 962.385,1347.98 962.467,1348.34 962.55,1348.69 \n",
       "  962.632,1349.05 962.715,1349.41 962.797,1349.77 962.879,1350.14 962.962,1350.5 963.044,1350.87 963.127,1351.24 963.209,1351.61 963.292,1351.98 963.374,1352.35 \n",
       "  963.457,1352.73 963.539,1353.11 963.622,1353.48 963.704,1353.86 963.786,1354.25 963.869,1354.63 963.951,1355.02 964.034,1355.4 964.116,1355.79 964.199,1356.19 \n",
       "  964.281,1356.58 964.364,1356.97 964.446,1357.37 964.529,1357.77 964.611,1358.17 964.693,1358.57 964.776,1358.98 964.858,1359.38 964.941,1359.79 965.023,1360.2 \n",
       "  965.106,1360.62 965.188,1361.03 965.271,1361.45 965.353,1361.87 965.435,1362.29 965.518,1362.71 965.6,1363.13 965.683,1363.56 965.765,1363.99 965.848,1364.42 \n",
       "  965.93,1364.85 966.013,1365.29 966.095,1365.73 966.178,1366.17 966.26,1366.61 966.342,1367.05 966.425,1367.5 966.507,1367.95 966.59,1368.4 966.672,1368.85 \n",
       "  966.755,1369.31 966.837,1369.76 966.92,1370.22 967.002,1370.69 967.084,1371.15 967.167,1371.62 967.249,1372.09 967.332,1372.56 967.414,1373.03 967.497,1373.51 \n",
       "  967.579,1373.99 967.662,1374.47 967.744,1374.96 967.827,1375.45 967.909,1375.94 967.991,1376.43 968.074,1376.92 968.156,1377.42 968.239,1377.92 968.321,1378.42 \n",
       "  968.404,1378.93 968.486,1379.44 968.569,1379.95 968.651,1380.47 968.734,1380.98 968.816,1381.5 968.898,1382.03 968.981,1382.55 969.063,1383.08 969.146,1383.61 \n",
       "  969.228,1384.15 969.311,1384.68 969.393,1385.23 969.476,1385.77 969.558,1386.32 969.64,1386.87 969.723,1387.42 969.805,1387.98 969.888,1388.54 969.97,1389.1 \n",
       "  970.053,1389.67 970.135,1390.24 970.218,1390.81 970.3,1391.39 970.383,1391.97 970.465,1392.55 970.547,1393.14 970.63,1393.73 970.712,1394.32 970.795,1394.92 \n",
       "  970.877,1395.52 970.96,1396.13 971.042,1396.74 971.125,1397.35 971.207,1397.97 971.29,1398.59 971.372,1399.21 971.454,1399.84 971.537,1400.47 971.619,1401.11 \n",
       "  971.702,1401.75 971.784,1402.4 971.867,1403.04 971.949,1403.7 972.032,1404.36 972.114,1405.02 972.196,1405.69 972.279,1406.36 972.361,1407.03 972.444,1407.71 \n",
       "  972.526,1408.4 972.609,1409.09 972.691,1409.78 972.774,1410.48 972.856,1411.19 972.939,1411.9 973.021,1412.61 973.103,1413.33 973.186,1414.05 973.268,1414.78 \n",
       "  973.351,1415.52 973.433,1416.26 973.516,1417.01 973.598,1417.76 973.681,1418.51 973.763,1419.28 973.845,1420.05 973.928,1420.82 974.01,1421.6 974.093,1422.39 \n",
       "  974.175,1423.18 974.258,1422.52 974.34,1421.86 974.423,1421.21 974.505,1420.57 974.588,1419.92 974.67,1419.29 974.752,1418.66 974.835,1418.03 974.917,1417.41 \n",
       "  975,1416.79 975.082,1416.17 975.165,1415.56 975.247,1414.96 975.33,1414.36 975.412,1413.76 975.495,1413.17 975.577,1412.58 975.659,1412 975.742,1411.42 \n",
       "  975.824,1410.84 975.907,1410.27 975.989,1409.71 976.072,1409.14 976.154,1408.58 976.237,1408.03 976.319,1407.47 976.401,1406.92 976.484,1406.38 976.566,1405.84 \n",
       "  976.649,1405.3 976.731,1404.77 976.814,1404.24 976.896,1403.71 976.979,1403.18 977.061,1402.66 977.144,1402.15 977.226,1401.63 977.308,1401.12 977.391,1400.62 \n",
       "  977.473,1400.11 977.556,1399.61 977.638,1399.12 977.721,1398.62 977.803,1398.13 977.886,1397.64 977.968,1397.16 978.05,1396.68 978.133,1396.2 978.215,1395.72 \n",
       "  978.298,1395.25 978.38,1394.78 978.463,1394.31 978.545,1393.85 978.628,1393.38 978.71,1392.93 978.793,1392.47 978.875,1392.02 978.957,1391.57 979.04,1391.12 \n",
       "  979.122,1390.67 979.205,1390.23 979.287,1389.79 979.37,1389.35 979.452,1388.92 979.535,1388.49 979.617,1388.06 979.7,1387.63 979.782,1387.21 979.864,1386.78 \n",
       "  979.947,1386.36 980.029,1385.95 980.112,1385.53 980.194,1385.12 980.277,1384.71 980.359,1384.3 980.442,1383.9 980.524,1383.5 980.606,1383.09 980.689,1382.7 \n",
       "  980.771,1382.3 980.854,1381.91 980.936,1381.51 981.019,1381.13 981.101,1380.74 981.184,1380.35 981.266,1379.97 981.349,1379.59 981.431,1379.21 981.513,1378.83 \n",
       "  981.596,1378.46 981.678,1378.09 981.761,1377.72 981.843,1377.35 981.926,1376.98 982.008,1376.62 982.091,1376.26 982.173,1375.9 982.255,1375.54 982.338,1375.18 \n",
       "  982.42,1374.83 982.503,1374.48 982.585,1374.13 982.668,1373.78 982.75,1373.43 982.833,1373.09 982.915,1372.74 982.998,1372.4 983.08,1372.06 983.162,1371.72 \n",
       "  983.245,1371.39 983.327,1371.06 983.41,1370.72 983.492,1370.39 983.575,1370.06 983.657,1369.74 983.74,1369.41 983.822,1369.09 983.905,1368.77 983.987,1368.45 \n",
       "  984.069,1368.13 984.152,1367.81 984.234,1367.5 984.317,1367.19 984.399,1366.87 984.482,1366.56 984.564,1366.26 984.647,1365.95 984.729,1365.65 984.811,1365.34 \n",
       "  984.894,1365.04 984.976,1364.74 985.059,1364.44 985.141,1364.14 985.224,1363.85 985.306,1363.55 985.389,1363.26 985.471,1362.97 985.554,1362.68 985.636,1362.39 \n",
       "  985.718,1362.11 985.801,1361.82 985.883,1361.54 985.966,1361.26 986.048,1360.98 986.131,1360.7 986.213,1360.42 986.296,1360.14 986.378,1359.87 986.46,1359.6 \n",
       "  986.543,1359.32 986.625,1359.05 986.708,1358.79 986.79,1358.52 986.873,1358.25 986.955,1357.99 987.038,1357.72 987.12,1357.46 987.203,1357.2 987.285,1356.94 \n",
       "  987.367,1356.68 987.45,1356.43 987.532,1356.17 987.615,1355.92 987.697,1355.66 987.78,1355.41 987.862,1355.16 987.945,1354.91 988.027,1354.67 988.11,1354.42 \n",
       "  988.192,1354.17 988.274,1353.93 988.357,1353.69 988.439,1353.45 988.522,1353.21 988.604,1352.97 988.687,1352.73 988.769,1352.49 988.852,1352.26 988.934,1352.02 \n",
       "  989.016,1351.79 989.099,1351.56 989.181,1351.33 989.264,1351.1 989.346,1350.87 989.429,1350.65 989.511,1350.42 989.594,1350.2 989.676,1349.97 989.759,1349.75 \n",
       "  989.841,1349.53 989.923,1349.31 990.006,1349.09 990.088,1348.87 990.171,1348.66 990.253,1348.44 990.336,1348.23 990.418,1348.02 990.501,1347.8 990.583,1347.59 \n",
       "  990.665,1347.38 990.748,1347.18 990.83,1346.97 990.913,1346.76 990.995,1346.56 991.078,1346.35 991.16,1346.15 991.243,1345.95 991.325,1345.75 991.408,1345.55 \n",
       "  991.49,1345.35 991.572,1345.15 991.655,1344.95 991.737,1344.76 991.82,1344.56 991.902,1344.37 991.985,1344.18 992.067,1343.99 992.15,1343.79 992.232,1343.61 \n",
       "  992.315,1343.42 992.397,1343.23 992.479,1343.04 992.562,1342.86 992.644,1342.67 992.727,1342.49 992.809,1342.31 992.892,1342.13 992.974,1341.94 993.057,1341.77 \n",
       "  993.139,1341.59 993.221,1341.41 993.304,1341.23 993.386,1341.06 993.469,1340.88 993.551,1340.71 993.634,1340.54 993.716,1340.36 993.799,1340.19 993.881,1340.02 \n",
       "  993.964,1339.85 994.046,1339.69 994.128,1339.52 994.211,1339.35 994.293,1339.19 994.376,1339.02 994.458,1338.86 994.541,1338.7 994.623,1338.54 994.706,1338.38 \n",
       "  994.788,1338.22 994.87,1338.06 994.953,1337.9 995.035,1337.74 995.118,1337.59 995.2,1337.43 995.283,1337.28 995.365,1337.12 995.448,1336.97 995.53,1336.82 \n",
       "  995.613,1336.67 995.695,1336.52 995.777,1336.37 995.86,1336.22 995.942,1336.07 996.025,1335.93 996.107,1335.78 996.19,1335.64 996.272,1335.49 996.355,1335.35 \n",
       "  996.437,1335.21 996.52,1335.07 996.602,1334.93 996.684,1334.79 996.767,1334.65 996.849,1334.51 996.932,1334.37 997.014,1334.24 997.097,1334.1 997.179,1333.97 \n",
       "  997.262,1333.83 997.344,1333.7 997.426,1333.57 997.509,1333.44 997.591,1333.31 997.674,1333.18 997.756,1333.05 997.839,1332.92 997.921,1332.79 998.004,1332.67 \n",
       "  998.086,1332.54 998.169,1332.42 998.251,1332.29 998.333,1332.17 998.416,1332.05 998.498,1331.92 998.581,1331.8 998.663,1331.68 998.746,1331.56 998.828,1331.45 \n",
       "  998.911,1331.33 998.993,1331.21 999.075,1331.09 999.158,1330.98 999.24,1330.86 999.323,1330.75 999.405,1330.64 999.488,1330.53 999.57,1330.41 999.653,1330.3 \n",
       "  999.735,1330.19 999.818,1330.08 999.9,1329.98 999.982,1329.87 1000.06,1329.76 1000.15,1329.65 1000.23,1329.55 1000.31,1329.44 1000.39,1329.34 1000.48,1329.24 \n",
       "  1000.56,1329.13 1000.64,1329.03 1000.72,1328.93 1000.81,1328.83 1000.89,1328.73 1000.97,1328.63 1001.05,1328.53 1001.14,1328.44 1001.22,1328.34 1001.3,1328.24 \n",
       "  1001.38,1328.15 1001.47,1328.05 1001.55,1327.96 1001.63,1327.87 1001.71,1327.78 1001.8,1327.68 1001.88,1327.59 1001.96,1327.5 1002.04,1327.41 1002.13,1327.33 \n",
       "  1002.21,1327.24 1002.29,1327.15 1002.37,1327.06 1002.46,1326.98 1002.54,1326.89 1002.62,1326.81 1002.7,1326.72 1002.79,1326.64 1002.87,1326.56 1002.95,1326.48 \n",
       "  1003.03,1326.4 1003.12,1326.32 1003.2,1326.24 1003.28,1326.16 1003.36,1326.08 1003.45,1326 1003.53,1325.92 1003.61,1325.85 1003.69,1325.77 1003.78,1325.7 \n",
       "  1003.86,1325.62 1003.94,1325.55 1004.02,1325.48 1004.1,1325.41 1004.19,1325.33 1004.27,1325.26 1004.35,1325.19 1004.43,1325.12 1004.52,1325.06 1004.6,1324.99 \n",
       "  1004.68,1324.92 1004.76,1324.85 1004.85,1324.79 1004.93,1324.72 1005.01,1324.66 1005.09,1324.59 1005.18,1324.53 1005.26,1324.47 1005.34,1324.41 1005.42,1324.34 \n",
       "  1005.51,1324.28 1005.59,1324.22 1005.67,1324.16 1005.75,1324.11 1005.84,1324.05 1005.92,1323.99 1006,1323.93 1006.08,1323.88 1006.17,1323.82 1006.25,1323.77 \n",
       "  1006.33,1323.71 1006.41,1323.66 1006.5,1323.61 1006.58,1323.55 1006.66,1323.5 1006.74,1323.45 1006.83,1323.4 1006.91,1323.35 1006.99,1323.3 1007.07,1323.25 \n",
       "  1007.16,1323.21 1007.24,1323.16 1007.32,1323.11 1007.4,1323.07 1007.49,1323.02 1007.57,1322.98 1007.65,1322.93 1007.73,1322.89 1007.82,1322.85 1007.9,1322.81 \n",
       "  1007.98,1322.76 1008.06,1322.72 1008.15,1322.68 1008.23,1322.64 1008.31,1322.61 1008.39,1322.57 1008.47,1322.53 1008.56,1322.49 1008.64,1322.46 1008.72,1322.42 \n",
       "  1008.8,1322.39 1008.89,1322.35 1008.97,1322.32 1009.05,1322.28 1009.13,1322.25 1009.22,1322.22 1009.3,1322.19 1009.38,1322.16 1009.46,1322.13 1009.55,1322.1 \n",
       "  1009.63,1322.07 1009.71,1322.04 1009.79,1322.01 1009.88,1321.99 1009.96,1321.96 1010.04,1321.93 1010.12,1321.91 1010.21,1321.88 1010.29,1321.86 1010.37,1321.84 \n",
       "  1010.45,1321.81 1010.54,1321.79 1010.62,1321.77 1010.7,1321.75 1010.78,1321.73 1010.87,1321.71 1010.95,1321.69 1011.03,1321.67 1011.11,1321.65 1011.2,1321.64 \n",
       "  1011.28,1321.62 1011.36,1321.6 1011.44,1321.59 1011.53,1321.57 1011.61,1321.56 1011.69,1321.55 1011.77,1321.53 1011.86,1321.52 1011.94,1321.51 1012.02,1321.5 \n",
       "  1012.1,1321.49 1012.19,1321.48 1012.27,1321.47 1012.35,1321.46 1012.43,1321.45 1012.51,1321.44 1012.6,1321.44 1012.68,1321.43 1012.76,1321.42 1012.84,1321.42 \n",
       "  1012.93,1321.41 1013.01,1321.41 1013.09,1321.41 1013.17,1321.4 1013.26,1321.4 1013.34,1321.4 1013.42,1321.4 1013.5,1321.4 1013.59,1321.4 1013.67,1321.4 \n",
       "  1013.75,1321.4 1013.83,1321.4 1013.92,1321.4 1014,1321.41 1014.08,1321.41 1014.16,1321.42 1014.25,1321.42 1014.33,1321.43 1014.41,1321.43 1014.49,1321.44 \n",
       "  1014.58,1321.45 1014.66,1321.45 1014.74,1321.46 1014.82,1321.47 1014.91,1321.48 1014.99,1321.49 1015.07,1321.5 1015.15,1321.51 1015.24,1321.53 1015.32,1321.54 \n",
       "  1015.4,1321.55 1015.48,1321.57 1015.57,1321.58 1015.65,1321.59 1015.73,1321.61 1015.81,1321.63 1015.9,1321.64 1015.98,1321.66 1016.06,1321.68 1016.14,1321.7 \n",
       "  1016.23,1321.72 1016.31,1321.74 1016.39,1321.76 1016.47,1321.78 1016.56,1321.8 1016.64,1321.82 1016.72,1321.84 1016.8,1321.87 1016.88,1321.89 1016.97,1321.91 \n",
       "  1017.05,1321.94 1017.13,1321.97 1017.21,1321.99 1017.3,1322.02 1017.38,1322.05 1017.46,1322.07 1017.54,1322.1 1017.63,1322.13 1017.71,1322.16 1017.79,1322.19 \n",
       "  1017.87,1322.22 1017.96,1322.25 1018.04,1322.29 1018.12,1322.32 1018.2,1322.35 1018.29,1322.38 1018.37,1322.42 1018.45,1322.45 1018.53,1322.49 1018.62,1322.53 \n",
       "  1018.7,1322.56 1018.78,1322.6 1018.86,1322.64 1018.95,1322.68 1019.03,1322.72 1019.11,1322.76 1019.19,1322.8 1019.28,1322.84 1019.36,1322.88 1019.44,1322.92 \n",
       "  1019.52,1322.96 1019.61,1323.01 1019.69,1323.05 1019.77,1323.09 1019.85,1323.14 1019.94,1323.18 1020.02,1323.23 1020.1,1323.28 1020.18,1323.33 1020.27,1323.37 \n",
       "  1020.35,1323.42 1020.43,1323.47 1020.51,1323.52 1020.6,1323.57 1020.68,1323.62 1020.76,1323.67 1020.84,1323.73 1020.92,1323.78 1021.01,1323.83 1021.09,1323.89 \n",
       "  1021.17,1323.94 1021.25,1324 1021.34,1324.05 1021.42,1324.11 1021.5,1324.16 1021.58,1324.22 1021.67,1324.28 1021.75,1324.34 1021.83,1324.4 1021.91,1324.46 \n",
       "  1022,1324.52 1022.08,1324.58 1022.16,1324.64 1022.24,1324.7 1022.33,1324.77 1022.41,1324.83 1022.49,1324.89 1022.57,1324.96 1022.66,1325.02 1022.74,1325.09 \n",
       "  1022.82,1325.16 1022.9,1325.22 1022.99,1325.29 1023.07,1325.36 1023.15,1325.43 1023.23,1325.5 1023.32,1325.57 1023.4,1325.64 1023.48,1325.71 1023.56,1325.78 \n",
       "  1023.65,1325.85 1023.73,1325.93 1023.81,1326 1023.89,1326.07 1023.98,1326.15 1024.06,1326.23 1024.14,1326.3 1024.22,1326.38 1024.31,1326.46 1024.39,1326.53 \n",
       "  1024.47,1326.61 1024.55,1326.69 1024.64,1326.77 1024.72,1326.85 1024.8,1326.93 1024.88,1327.01 1024.97,1327.1 1025.05,1327.18 1025.13,1327.26 1025.21,1327.35 \n",
       "  1025.29,1327.43 1025.38,1327.52 1025.46,1327.6 1025.54,1327.69 1025.62,1327.78 1025.71,1327.87 1025.79,1327.95 1025.87,1328.04 1025.95,1328.13 1026.04,1328.22 \n",
       "  1026.12,1328.31 1026.2,1328.41 1026.28,1328.5 1026.37,1328.59 1026.45,1328.68 1026.53,1328.78 1026.61,1328.87 1026.7,1328.97 1026.78,1329.06 1026.86,1329.16 \n",
       "  1026.94,1329.26 1027.03,1329.36 1027.11,1329.46 1027.19,1329.55 1027.27,1329.65 1027.36,1329.75 1027.44,1329.86 1027.52,1329.96 1027.6,1330.06 1027.69,1330.16 \n",
       "  1027.77,1330.27 1027.85,1330.37 1027.93,1330.48 1028.02,1330.58 1028.1,1330.69 1028.18,1330.79 1028.26,1330.9 1028.35,1331.01 1028.43,1331.12 1028.51,1331.23 \n",
       "  1028.59,1331.34 1028.68,1331.45 1028.76,1331.56 1028.84,1331.67 1028.92,1331.79 1029.01,1331.9 1029.09,1332.01 1029.17,1332.13 1029.25,1332.24 1029.33,1332.36 \n",
       "  1029.42,1332.48 1029.5,1332.59 1029.58,1332.71 1029.66,1332.83 1029.75,1332.95 1029.83,1333.07 1029.91,1333.19 1029.99,1333.31 1030.08,1333.43 1030.16,1333.56 \n",
       "  1030.24,1333.68 1030.32,1333.8 1030.41,1333.93 1030.49,1334.05 1030.57,1334.18 1030.65,1334.31 1030.74,1334.43 1030.82,1334.56 1030.9,1334.69 1030.98,1334.82 \n",
       "  1031.07,1334.95 1031.15,1335.08 1031.23,1335.21 1031.31,1335.34 1031.4,1335.48 1031.48,1335.61 1031.56,1335.75 1031.64,1335.88 1031.73,1336.02 1031.81,1336.15 \n",
       "  1031.89,1336.29 1031.97,1336.43 1032.06,1336.57 1032.14,1336.7 1032.22,1336.84 1032.3,1336.99 1032.39,1337.13 1032.47,1337.27 1032.55,1337.41 1032.63,1337.55 \n",
       "  1032.72,1337.7 1032.8,1337.84 1032.88,1337.99 1032.96,1338.14 1033.05,1338.28 1033.13,1338.43 1033.21,1338.58 1033.29,1338.73 1033.38,1338.88 1033.46,1339.03 \n",
       "  1033.54,1339.18 1033.62,1339.33 1033.7,1339.48 1033.79,1339.64 1033.87,1339.79 1033.95,1339.95 1034.03,1340.1 1034.12,1340.26 1034.2,1340.42 1034.28,1340.57 \n",
       "  1034.36,1340.73 1034.45,1340.89 1034.53,1341.05 1034.61,1341.21 1034.69,1341.38 1034.78,1341.54 1034.86,1341.7 1034.94,1341.87 1035.02,1342.03 1035.11,1342.2 \n",
       "  1035.19,1342.36 1035.27,1342.53 1035.35,1342.7 1035.44,1342.87 1035.52,1343.04 1035.6,1343.21 1035.68,1343.38 1035.77,1343.55 1035.85,1343.72 1035.93,1343.89 \n",
       "  1036.01,1344.07 1036.1,1344.24 1036.18,1344.42 1036.26,1344.59 1036.34,1344.77 1036.43,1344.95 1036.51,1345.13 1036.59,1345.31 1036.67,1345.49 1036.76,1345.67 \n",
       "  1036.84,1345.85 1036.92,1346.03 1037,1346.22 1037.09,1346.4 1037.17,1346.59 1037.25,1346.77 1037.33,1346.96 1037.42,1347.15 1037.5,1347.34 1037.58,1347.53 \n",
       "  1037.66,1347.72 1037.75,1347.91 1037.83,1348.1 1037.91,1348.29 1037.99,1348.49 1038.07,1348.68 1038.16,1348.88 1038.24,1349.07 1038.32,1349.27 1038.4,1349.47 \n",
       "  1038.49,1349.67 1038.57,1349.87 1038.65,1350.07 1038.73,1350.27 1038.82,1350.47 1038.9,1350.67 1038.98,1350.88 1039.06,1351.08 1039.15,1351.29 1039.23,1351.49 \n",
       "  1039.31,1351.7 1039.39,1351.91 1039.48,1352.12 1039.56,1352.33 1039.64,1352.54 1039.72,1352.75 1039.81,1352.96 1039.89,1353.18 1039.97,1353.39 1040.05,1353.61 \n",
       "  1040.14,1353.82 1040.22,1354.04 1040.3,1354.26 1040.38,1354.48 1040.47,1354.7 1040.55,1354.92 1040.63,1355.14 1040.71,1355.37 1040.8,1355.59 1040.88,1355.81 \n",
       "  1040.96,1356.04 1041.04,1356.27 1041.13,1356.5 1041.21,1356.72 1041.29,1356.95 1041.37,1357.18 1041.46,1357.42 1041.54,1357.65 1041.62,1357.88 1041.7,1358.12 \n",
       "  1041.79,1358.35 1041.87,1358.59 1041.95,1358.83 1042.03,1359.06 1042.11,1359.3 1042.2,1359.54 1042.28,1359.79 1042.36,1360.03 1042.44,1360.27 1042.53,1360.52 \n",
       "  1042.61,1360.76 1042.69,1361.01 1042.77,1361.26 1042.86,1361.51 1042.94,1361.76 1043.02,1362.01 1043.1,1362.26 1043.19,1362.51 1043.27,1362.77 1043.35,1363.02 \n",
       "  1043.43,1363.28 1043.52,1363.53 1043.6,1363.79 1043.68,1364.05 1043.76,1364.31 1043.85,1364.57 1043.93,1364.84 1044.01,1365.1 1044.09,1365.37 1044.18,1365.63 \n",
       "  1044.26,1365.9 1044.34,1366.17 1044.42,1366.44 1044.51,1366.71 1044.59,1366.98 1044.67,1367.25 1044.75,1367.53 1044.84,1367.8 1044.92,1368.08 1045,1368.36 \n",
       "  1045.08,1368.63 1045.17,1368.91 1045.25,1369.19 1045.33,1369.48 1045.41,1369.76 1045.5,1370.05 1045.58,1370.33 1045.66,1370.62 1045.74,1370.91 1045.83,1371.2 \n",
       "  1045.91,1371.49 1045.99,1371.78 1046.07,1372.07 1046.16,1372.37 1046.24,1372.66 1046.32,1372.96 1046.4,1373.26 1046.48,1373.56 1046.57,1373.86 1046.65,1374.16 \n",
       "  1046.73,1374.46 1046.81,1374.77 1046.9,1375.07 1046.98,1375.38 1047.06,1375.69 1047.14,1376 1047.23,1376.31 1047.31,1376.62 1047.39,1376.94 1047.47,1377.25 \n",
       "  1047.56,1377.57 1047.64,1377.89 1047.72,1378.21 1047.8,1378.53 1047.89,1378.85 1047.97,1379.17 1048.05,1379.5 1048.13,1379.83 1048.22,1380.15 1048.3,1380.48 \n",
       "  1048.38,1380.81 1048.46,1381.15 1048.55,1381.48 1048.63,1381.82 1048.71,1382.15 1048.79,1382.49 1048.88,1382.83 1048.96,1383.17 1049.04,1383.51 1049.12,1383.86 \n",
       "  1049.21,1384.2 1049.29,1384.55 1049.37,1384.9 1049.45,1385.25 1049.54,1385.6 1049.62,1385.96 1049.7,1386.31 1049.78,1386.67 1049.87,1387.03 1049.95,1387.39 \n",
       "  1050.03,1387.75 1050.11,1388.11 1050.2,1388.48 1050.28,1388.84 1050.36,1389.21 1050.44,1389.58 1050.52,1389.95 1050.61,1390.33 1050.69,1390.7 1050.77,1391.08 \n",
       "  1050.85,1391.46 1050.94,1391.84 1051.02,1392.22 1051.1,1392.61 1051.18,1392.99 1051.27,1393.38 1051.35,1393.77 1051.43,1394.16 1051.51,1394.55 1051.6,1394.95 \n",
       "  1051.68,1395.34 1051.76,1395.74 1051.84,1396.14 1051.93,1396.55 1052.01,1396.95 1052.09,1397.36 1052.17,1397.76 1052.26,1398.17 1052.34,1398.59 1052.42,1399 \n",
       "  1052.5,1399.42 1052.59,1399.84 1052.67,1400.26 1052.75,1400.68 1052.83,1401.1 1052.92,1401.53 1053,1401.96 1053.08,1402.39 1053.16,1402.82 1053.25,1403.26 \n",
       "  1053.33,1403.69 1053.41,1404.13 1053.49,1404.57 1053.58,1405.02 1053.66,1405.46 1053.74,1405.91 1053.82,1406.36 1053.91,1406.81 1053.99,1407.27 1054.07,1407.73 \n",
       "  1054.15,1408.19 1054.24,1408.65 1054.32,1409.11 1054.4,1409.58 1054.48,1410.05 1054.57,1410.52 1054.65,1411 1054.73,1411.47 1054.81,1411.95 1054.89,1412.43 \n",
       "  1054.98,1412.92 1055.06,1413.4 1055.14,1413.89 1055.22,1414.39 1055.31,1414.88 1055.39,1415.38 1055.47,1415.88 1055.55,1416.38 1055.64,1416.89 1055.72,1417.4 \n",
       "  1055.8,1417.91 1055.88,1418.42 1055.97,1418.94 1056.05,1419.46 1056.13,1419.98 1056.21,1420.51 1056.3,1421.04 1056.38,1421.57 1056.46,1422.1 1056.54,1422.64 \n",
       "  1056.63,1423.18 1056.71,1422.74 1056.79,1422.29 1056.87,1421.86 1056.96,1421.42 1057.04,1420.99 1057.12,1420.55 1057.2,1420.12 1057.29,1419.7 1057.37,1419.27 \n",
       "  1057.45,1418.85 1057.53,1418.43 1057.62,1418.01 1057.7,1417.59 1057.78,1417.18 1057.86,1416.77 1057.95,1416.36 1058.03,1415.95 1058.11,1415.54 1058.19,1415.14 \n",
       "  1058.28,1414.74 1058.36,1414.34 1058.44,1413.94 1058.52,1413.54 1058.61,1413.15 1058.69,1412.76 1058.77,1412.37 1058.85,1411.98 1058.93,1411.6 1059.02,1411.21 \n",
       "  1059.1,1410.83 1059.18,1410.45 1059.26,1410.07 1059.35,1409.7 1059.43,1409.32 1059.51,1408.95 1059.59,1408.58 1059.68,1408.21 1059.76,1407.84 1059.84,1407.48 \n",
       "  1059.92,1407.11 1060.01,1406.75 1060.09,1406.39 1060.17,1406.03 1060.25,1405.68 1060.34,1405.32 1060.42,1404.97 1060.5,1404.62 1060.58,1404.27 1060.67,1403.92 \n",
       "  1060.75,1403.57 1060.83,1403.23 1060.91,1402.89 1061,1402.55 1061.08,1402.21 1061.16,1401.87 1061.24,1401.53 1061.33,1401.2 1061.41,1400.86 1061.49,1400.53 \n",
       "  1061.57,1400.2 1061.66,1399.87 1061.74,1399.54 1061.82,1399.22 1061.9,1398.89 1061.99,1398.57 1062.07,1398.25 1062.15,1397.93 1062.23,1397.61 1062.32,1397.3 \n",
       "  1062.4,1396.98 1062.48,1396.67 1062.56,1396.36 1062.65,1396.04 1062.73,1395.74 1062.81,1395.43 1062.89,1395.12 1062.98,1394.82 1063.06,1394.51 1063.14,1394.21 \n",
       "  1063.22,1393.91 1063.3,1393.61 1063.39,1393.31 1063.47,1393.01 1063.55,1392.72 1063.63,1392.42 1063.72,1392.13 1063.8,1391.84 1063.88,1391.55 1063.96,1391.26 \n",
       "  1064.05,1390.97 1064.13,1390.69 1064.21,1390.4 1064.29,1390.12 1064.38,1389.84 1064.46,1389.55 1064.54,1389.27 1064.62,1389 1064.71,1388.72 1064.79,1388.44 \n",
       "  1064.87,1388.17 1064.95,1387.89 1065.04,1387.62 1065.12,1387.35 1065.2,1387.08 1065.28,1386.81 1065.37,1386.54 1065.45,1386.28 1065.53,1386.01 1065.61,1385.75 \n",
       "  1065.7,1385.49 1065.78,1385.22 1065.86,1384.96 1065.94,1384.7 1066.03,1384.45 1066.11,1384.19 1066.19,1383.93 1066.27,1383.68 1066.36,1383.42 1066.44,1383.17 \n",
       "  1066.52,1382.92 1066.6,1382.67 1066.69,1382.42 1066.77,1382.17 1066.85,1381.93 1066.93,1381.68 1067.02,1381.44 1067.1,1381.19 1067.18,1380.95 1067.26,1380.71 \n",
       "  1067.34,1380.47 1067.43,1380.23 1067.51,1379.99 1067.59,1379.75 1067.67,1379.52 1067.76,1379.28 1067.84,1379.05 1067.92,1378.81 1068,1378.58 1068.09,1378.35 \n",
       "  1068.17,1378.12 1068.25,1377.89 1068.33,1377.66 1068.42,1377.44 1068.5,1377.21 1068.58,1376.99 1068.66,1376.76 1068.75,1376.54 1068.83,1376.32 1068.91,1376.1 \n",
       "  1068.99,1375.88 1069.08,1375.66 1069.16,1375.44 1069.24,1375.22 1069.32,1375.01 1069.41,1374.79 1069.49,1374.58 1069.57,1374.37 1069.65,1374.15 1069.74,1373.94 \n",
       "  1069.82,1373.73 1069.9,1373.52 1069.98,1373.31 1070.07,1373.11 1070.15,1372.9 1070.23,1372.69 1070.31,1372.49 1070.4,1372.29 1070.48,1372.08 1070.56,1371.88 \n",
       "  1070.64,1371.68 1070.73,1371.48 1070.81,1371.28 1070.89,1371.08 1070.97,1370.88 1071.06,1370.69 1071.14,1370.49 1071.22,1370.3 1071.3,1370.1 1071.39,1369.91 \n",
       "  1071.47,1369.72 1071.55,1369.53 1071.63,1369.34 1071.71,1369.15 1071.8,1368.96 1071.88,1368.77 1071.96,1368.58 1072.04,1368.4 1072.13,1368.21 1072.21,1368.03 \n",
       "  1072.29,1367.84 1072.37,1367.66 1072.46,1367.48 1072.54,1367.3 1072.62,1367.12 1072.7,1366.94 1072.79,1366.76 1072.87,1366.58 1072.95,1366.4 1073.03,1366.23 \n",
       "  1073.12,1366.05 1073.2,1365.88 1073.28,1365.7 1073.36,1365.53 1073.45,1365.36 1073.53,1365.19 1073.61,1365.02 1073.69,1364.85 1073.78,1364.68 1073.86,1364.51 \n",
       "  1073.94,1364.34 1074.02,1364.18 1074.11,1364.01 1074.19,1363.85 1074.27,1363.68 1074.35,1363.52 1074.44,1363.35 1074.52,1363.19 1074.6,1363.03 1074.68,1362.87 \n",
       "  1074.77,1362.71 1074.85,1362.55 1074.93,1362.39 1075.01,1362.24 1075.1,1362.08 1075.18,1361.93 1075.26,1361.77 1075.34,1361.62 1075.43,1361.46 1075.51,1361.31 \n",
       "  1075.59,1361.16 1075.67,1361.01 1075.75,1360.86 1075.84,1360.71 1075.92,1360.56 1076,1360.41 1076.08,1360.26 1076.17,1360.11 1076.25,1359.97 1076.33,1359.82 \n",
       "  1076.41,1359.68 1076.5,1359.53 1076.58,1359.39 1076.66,1359.25 1076.74,1359.1 1076.83,1358.96 1076.91,1358.82 1076.99,1358.68 1077.07,1358.54 1077.16,1358.41 \n",
       "  1077.24,1358.27 1077.32,1358.13 1077.4,1357.99 1077.49,1357.86 1077.57,1357.72 1077.65,1357.59 1077.73,1357.46 1077.82,1357.32 1077.9,1357.19 1077.98,1357.06 \n",
       "  1078.06,1356.93 1078.15,1356.8 1078.23,1356.67 1078.31,1356.54 1078.39,1356.41 1078.48,1356.29 1078.56,1356.16 1078.64,1356.03 1078.72,1355.91 1078.81,1355.78 \n",
       "  1078.89,1355.66 1078.97,1355.54 1079.05,1355.41 1079.14,1355.29 1079.22,1355.17 1079.3,1355.05 1079.38,1354.93 1079.47,1354.81 1079.55,1354.69 1079.63,1354.57 \n",
       "  1079.71,1354.46 1079.8,1354.34 1079.88,1354.22 1079.96,1354.11 1080.04,1353.99 1080.12,1353.88 1080.21,1353.76 1080.29,1353.65 1080.37,1353.54 1080.45,1353.43 \n",
       "  1080.54,1353.32 1080.62,1353.21 1080.7,1353.1 1080.78,1352.99 1080.87,1352.88 1080.95,1352.77 1081.03,1352.66 1081.11,1352.56 1081.2,1352.45 1081.28,1352.35 \n",
       "  1081.36,1352.24 1081.44,1352.14 1081.53,1352.03 1081.61,1351.93 1081.69,1351.83 1081.77,1351.73 1081.86,1351.63 1081.94,1351.53 1082.02,1351.43 1082.1,1351.33 \n",
       "  1082.19,1351.23 1082.27,1351.13 1082.35,1351.03 1082.43,1350.94 1082.52,1350.84 1082.6,1350.75 1082.68,1350.65 1082.76,1350.56 1082.85,1350.46 1082.93,1350.37 \n",
       "  1083.01,1350.28 1083.09,1350.19 1083.18,1350.1 1083.26,1350 1083.34,1349.91 1083.42,1349.83 1083.51,1349.74 1083.59,1349.65 1083.67,1349.56 1083.75,1349.47 \n",
       "  1083.84,1349.39 1083.92,1349.3 1084,1349.22 1084.08,1349.13 1084.16,1349.05 1084.25,1348.96 1084.33,1348.88 1084.41,1348.8 1084.49,1348.72 1084.58,1348.63 \n",
       "  1084.66,1348.55 1084.74,1348.47 1084.82,1348.39 1084.91,1348.32 1084.99,1348.24 1085.07,1348.16 1085.15,1348.08 1085.24,1348.01 1085.32,1347.93 1085.4,1347.85 \n",
       "  1085.48,1347.78 1085.57,1347.71 1085.65,1347.63 1085.73,1347.56 1085.81,1347.49 1085.9,1347.41 1085.98,1347.34 1086.06,1347.27 1086.14,1347.2 1086.23,1347.13 \n",
       "  1086.31,1347.06 1086.39,1346.99 1086.47,1346.93 1086.56,1346.86 1086.64,1346.79 1086.72,1346.72 1086.8,1346.66 1086.89,1346.59 1086.97,1346.53 1087.05,1346.46 \n",
       "  1087.13,1346.4 1087.22,1346.34 1087.3,1346.28 1087.38,1346.21 1087.46,1346.15 1087.55,1346.09 1087.63,1346.03 1087.71,1345.97 1087.79,1345.91 1087.88,1345.85 \n",
       "  1087.96,1345.8 1088.04,1345.74 1088.12,1345.68 1088.21,1345.62 1088.29,1345.57 1088.37,1345.51 1088.45,1345.46 1088.53,1345.4 1088.62,1345.35 1088.7,1345.3 \n",
       "  1088.78,1345.24 1088.86,1345.19 1088.95,1345.14 1089.03,1345.09 1089.11,1345.04 1089.19,1344.99 1089.28,1344.94 1089.36,1344.89 1089.44,1344.84 1089.52,1344.79 \n",
       "  1089.61,1344.75 1089.69,1344.7 1089.77,1344.65 1089.85,1344.61 1089.94,1344.56 1090.02,1344.52 1090.1,1344.48 1090.18,1344.43 1090.27,1344.39 1090.35,1344.35 \n",
       "  1090.43,1344.3 1090.51,1344.26 1090.6,1344.22 1090.68,1344.18 1090.76,1344.14 1090.84,1344.1 1090.93,1344.06 1091.01,1344.03 1091.09,1343.99 1091.17,1343.95 \n",
       "  1091.26,1343.91 1091.34,1343.88 1091.42,1343.84 1091.5,1343.81 1091.59,1343.77 1091.67,1343.74 1091.75,1343.71 1091.83,1343.67 1091.92,1343.64 1092,1343.61 \n",
       "  1092.08,1343.58 1092.16,1343.55 1092.25,1343.52 1092.33,1343.49 1092.41,1343.46 1092.49,1343.43 1092.57,1343.4 1092.66,1343.37 1092.74,1343.34 1092.82,1343.32 \n",
       "  1092.9,1343.29 1092.99,1343.27 1093.07,1343.24 1093.15,1343.22 1093.23,1343.19 1093.32,1343.17 1093.4,1343.14 1093.48,1343.12 1093.56,1343.1 1093.65,1343.08 \n",
       "  1093.73,1343.06 1093.81,1343.04 1093.89,1343.02 1093.98,1343 1094.06,1342.98 1094.14,1342.96 1094.22,1342.94 1094.31,1342.92 1094.39,1342.91 1094.47,1342.89 \n",
       "  1094.55,1342.87 1094.64,1342.86 1094.72,1342.84 1094.8,1342.83 1094.88,1342.82 1094.97,1342.8 1095.05,1342.79 1095.13,1342.78 1095.21,1342.77 1095.3,1342.75 \n",
       "  1095.38,1342.74 1095.46,1342.73 1095.54,1342.72 1095.63,1342.71 1095.71,1342.71 1095.79,1342.7 1095.87,1342.69 1095.96,1342.68 1096.04,1342.68 1096.12,1342.67 \n",
       "  1096.2,1342.66 1096.29,1342.66 1096.37,1342.65 1096.45,1342.65 1096.53,1342.65 1096.62,1342.64 1096.7,1342.64 1096.78,1342.64 1096.86,1342.64 1096.94,1342.64 \n",
       "  1097.03,1342.63 1097.11,1342.63 1097.19,1342.63 1097.27,1342.64 1097.36,1342.64 1097.44,1342.64 1097.52,1342.64 1097.6,1342.64 1097.69,1342.65 1097.77,1342.65 \n",
       "  1097.85,1342.66 1097.93,1342.66 1098.02,1342.67 1098.1,1342.67 1098.18,1342.68 1098.26,1342.69 1098.35,1342.69 1098.43,1342.7 1098.51,1342.71 1098.59,1342.72 \n",
       "  1098.68,1342.73 1098.76,1342.74 1098.84,1342.75 1098.92,1342.76 1099.01,1342.77 1099.09,1342.78 1099.17,1342.8 1099.25,1342.81 1099.34,1342.82 1099.42,1342.84 \n",
       "  1099.5,1342.85 1099.58,1342.87 1099.67,1342.88 1099.75,1342.9 1099.83,1342.91 1099.91,1342.93 1100,1342.95 1100.08,1342.97 1100.16,1342.99 1100.24,1343 \n",
       "  1100.33,1343.02 1100.41,1343.04 1100.49,1343.06 1100.57,1343.09 1100.66,1343.11 1100.74,1343.13 1100.82,1343.15 1100.9,1343.17 1100.98,1343.2 1101.07,1343.22 \n",
       "  1101.15,1343.25 1101.23,1343.27 1101.31,1343.3 1101.4,1343.32 1101.48,1343.35 1101.56,1343.38 1101.64,1343.41 1101.73,1343.43 1101.81,1343.46 1101.89,1343.49 \n",
       "  1101.97,1343.52 1102.06,1343.55 1102.14,1343.58 1102.22,1343.61 1102.3,1343.65 1102.39,1343.68 1102.47,1343.71 1102.55,1343.74 1102.63,1343.78 1102.72,1343.81 \n",
       "  1102.8,1343.85 1102.88,1343.88 1102.96,1343.92 1103.05,1343.95 1103.13,1343.99 1103.21,1344.03 1103.29,1344.07 1103.38,1344.11 1103.46,1344.14 1103.54,1344.18 \n",
       "  1103.62,1344.22 1103.71,1344.26 1103.79,1344.3 1103.87,1344.35 1103.95,1344.39 1104.04,1344.43 1104.12,1344.47 1104.2,1344.52 1104.28,1344.56 1104.37,1344.61 \n",
       "  1104.45,1344.65 1104.53,1344.7 1104.61,1344.74 1104.7,1344.79 1104.78,1344.84 1104.86,1344.88 1104.94,1344.93 1105.03,1344.98 1105.11,1345.03 1105.19,1345.08 \n",
       "  1105.27,1345.13 1105.35,1345.18 1105.44,1345.23 1105.52,1345.28 1105.6,1345.34 1105.68,1345.39 1105.77,1345.44 1105.85,1345.5 1105.93,1345.55 1106.01,1345.61 \n",
       "  1106.1,1345.66 1106.18,1345.72 1106.26,1345.77 1106.34,1345.83 1106.43,1345.89 1106.51,1345.95 1106.59,1346 1106.67,1346.06 1106.76,1346.12 1106.84,1346.18 \n",
       "  1106.92,1346.24 1107,1346.3 1107.09,1346.37 1107.17,1346.43 1107.25,1346.49 1107.33,1346.55 1107.42,1346.62 1107.5,1346.68 1107.58,1346.75 1107.66,1346.81 \n",
       "  1107.75,1346.88 1107.83,1346.95 1107.91,1347.01 1107.99,1347.08 1108.08,1347.15 1108.16,1347.22 1108.24,1347.29 1108.32,1347.36 1108.41,1347.43 1108.49,1347.5 \n",
       "  1108.57,1347.57 1108.65,1347.64 1108.74,1347.71 1108.82,1347.78 1108.9,1347.86 1108.98,1347.93 1109.07,1348.01 1109.15,1348.08 1109.23,1348.16 1109.31,1348.23 \n",
       "  1109.39,1348.31 1109.48,1348.39 1109.56,1348.47 1109.64,1348.54 1109.72,1348.62 1109.81,1348.7 1109.89,1348.78 1109.97,1348.86 1110.05,1348.94 1110.14,1349.02 \n",
       "  1110.22,1349.11 1110.3,1349.19 1110.38,1349.27 1110.47,1349.36 1110.55,1349.44 1110.63,1349.53 1110.71,1349.61 1110.8,1349.7 1110.88,1349.78 1110.96,1349.87 \n",
       "  1111.04,1349.96 1111.13,1350.05 1111.21,1350.14 1111.29,1350.22 1111.37,1350.31 1111.46,1350.4 1111.54,1350.5 1111.62,1350.59 1111.7,1350.68 1111.79,1350.77 \n",
       "  1111.87,1350.87 1111.95,1350.96 1112.03,1351.05 1112.12,1351.15 1112.2,1351.24 1112.28,1351.34 1112.36,1351.44 1112.45,1351.53 1112.53,1351.63 1112.61,1351.73 \n",
       "  1112.69,1351.83 1112.78,1351.93 1112.86,1352.03 1112.94,1352.13 1113.02,1352.23 1113.11,1352.33 1113.19,1352.43 1113.27,1352.54 1113.35,1352.64 1113.44,1352.75 \n",
       "  1113.52,1352.85 1113.6,1352.96 1113.68,1353.06 1113.76,1353.17 1113.85,1353.27 1113.93,1353.38 1114.01,1353.49 1114.09,1353.6 1114.18,1353.71 1114.26,1353.82 \n",
       "  1114.34,1353.93 1114.42,1354.04 1114.51,1354.15 1114.59,1354.26 1114.67,1354.38 1114.75,1354.49 1114.84,1354.6 1114.92,1354.72 1115,1354.83 1115.08,1354.95 \n",
       "  1115.17,1355.07 1115.25,1355.18 1115.33,1355.3 1115.41,1355.42 1115.5,1355.54 1115.58,1355.66 1115.66,1355.78 1115.74,1355.9 1115.83,1356.02 1115.91,1356.14 \n",
       "  1115.99,1356.26 1116.07,1356.39 1116.16,1356.51 1116.24,1356.64 1116.32,1356.76 1116.4,1356.89 1116.49,1357.01 1116.57,1357.14 1116.65,1357.27 1116.73,1357.4 \n",
       "  1116.82,1357.52 1116.9,1357.65 1116.98,1357.78 1117.06,1357.91 1117.15,1358.05 1117.23,1358.18 1117.31,1358.31 1117.39,1358.44 1117.48,1358.58 1117.56,1358.71 \n",
       "  1117.64,1358.85 1117.72,1358.98 1117.8,1359.12 1117.89,1359.26 1117.97,1359.39 1118.05,1359.53 1118.13,1359.67 1118.22,1359.81 1118.3,1359.95 1118.38,1360.09 \n",
       "  1118.46,1360.23 1118.55,1360.38 1118.63,1360.52 1118.71,1360.66 1118.79,1360.81 1118.88,1360.95 1118.96,1361.1 1119.04,1361.24 1119.12,1361.39 1119.21,1361.54 \n",
       "  1119.29,1361.68 1119.37,1361.83 1119.45,1361.98 1119.54,1362.13 1119.62,1362.28 1119.7,1362.44 1119.78,1362.59 1119.87,1362.74 1119.95,1362.89 1120.03,1363.05 \n",
       "  1120.11,1363.2 1120.2,1363.36 1120.28,1363.52 1120.36,1363.67 1120.44,1363.83 1120.53,1363.99 1120.61,1364.15 1120.69,1364.31 1120.77,1364.47 1120.86,1364.63 \n",
       "  1120.94,1364.79 1121.02,1364.95 1121.1,1365.12 1121.19,1365.28 1121.27,1365.45 1121.35,1365.61 1121.43,1365.78 1121.52,1365.94 1121.6,1366.11 1121.68,1366.28 \n",
       "  1121.76,1366.45 1121.85,1366.62 1121.93,1366.79 1122.01,1366.96 1122.09,1367.13 1122.17,1367.3 1122.26,1367.48 1122.34,1367.65 1122.42,1367.83 1122.5,1368 \n",
       "  1122.59,1368.18 1122.67,1368.36 1122.75,1368.53 1122.83,1368.71 1122.92,1368.89 1123,1369.07 1123.08,1369.25 1123.16,1369.43 1123.25,1369.62 1123.33,1369.8 \n",
       "  1123.41,1369.98 1123.49,1370.17 1123.58,1370.35 1123.66,1370.54 1123.74,1370.73 1123.82,1370.92 1123.91,1371.1 1123.99,1371.29 1124.07,1371.48 1124.15,1371.67 \n",
       "  1124.24,1371.87 1124.32,1372.06 1124.4,1372.25 1124.48,1372.45 1124.57,1372.64 1124.65,1372.84 1124.73,1373.03 1124.81,1373.23 1124.9,1373.43 1124.98,1373.63 \n",
       "  1125.06,1373.83 1125.14,1374.03 1125.23,1374.23 1125.31,1374.43 1125.39,1374.64 1125.47,1374.84 1125.56,1375.04 1125.64,1375.25 1125.72,1375.46 1125.8,1375.66 \n",
       "  1125.89,1375.87 1125.97,1376.08 1126.05,1376.29 1126.13,1376.5 1126.21,1376.71 1126.3,1376.92 1126.38,1377.14 1126.46,1377.35 1126.54,1377.57 1126.63,1377.78 \n",
       "  1126.71,1378 1126.79,1378.22 1126.87,1378.44 1126.96,1378.66 1127.04,1378.88 1127.12,1379.1 1127.2,1379.32 1127.29,1379.54 1127.37,1379.77 1127.45,1379.99 \n",
       "  1127.53,1380.22 1127.62,1380.44 1127.7,1380.67 1127.78,1380.9 1127.86,1381.13 1127.95,1381.36 1128.03,1381.59 1128.11,1381.82 1128.19,1382.06 1128.28,1382.29 \n",
       "  1128.36,1382.53 1128.44,1382.76 1128.52,1383 1128.61,1383.24 1128.69,1383.48 1128.77,1383.72 1128.85,1383.96 1128.94,1384.2 1129.02,1384.44 1129.1,1384.68 \n",
       "  1129.18,1384.93 1129.27,1385.18 1129.35,1385.42 1129.43,1385.67 1129.51,1385.92 1129.6,1386.17 1129.68,1386.42 1129.76,1386.67 1129.84,1386.92 1129.93,1387.18 \n",
       "  1130.01,1387.43 1130.09,1387.69 1130.17,1387.95 1130.26,1388.2 1130.34,1388.46 1130.42,1388.72 1130.5,1388.98 1130.58,1389.25 1130.67,1389.51 1130.75,1389.77 \n",
       "  1130.83,1390.04 1130.91,1390.31 1131,1390.57 1131.08,1390.84 1131.16,1391.11 1131.24,1391.38 1131.33,1391.66 1131.41,1391.93 1131.49,1392.2 1131.57,1392.48 \n",
       "  1131.66,1392.76 1131.74,1393.03 1131.82,1393.31 1131.9,1393.59 1131.99,1393.87 1132.07,1394.16 1132.15,1394.44 1132.23,1394.72 1132.32,1395.01 1132.4,1395.3 \n",
       "  1132.48,1395.59 1132.56,1395.88 1132.65,1396.17 1132.73,1396.46 1132.81,1396.75 1132.89,1397.05 1132.98,1397.34 1133.06,1397.64 1133.14,1397.94 1133.22,1398.24 \n",
       "  1133.31,1398.54 1133.39,1398.84 1133.47,1399.14 1133.55,1399.45 1133.64,1399.75 1133.72,1400.06 1133.8,1400.37 1133.88,1400.68 1133.97,1400.99 1134.05,1401.3 \n",
       "  1134.13,1401.61 1134.21,1401.93 1134.3,1402.24 1134.38,1402.56 1134.46,1402.88 1134.54,1403.2 1134.62,1403.52 1134.71,1403.84 1134.79,1404.17 1134.87,1404.49 \n",
       "  1134.95,1404.82 1135.04,1405.15 1135.12,1405.48 1135.2,1405.81 1135.28,1406.14 1135.37,1406.48 1135.45,1406.81 1135.53,1407.15 1135.61,1407.49 1135.7,1407.83 \n",
       "  1135.78,1408.17 1135.86,1408.52 1135.94,1408.86 1136.03,1409.21 1136.11,1409.55 1136.19,1409.9 1136.27,1410.25 1136.36,1410.61 1136.44,1410.96 1136.52,1411.32 \n",
       "  1136.6,1411.67 1136.69,1412.03 1136.77,1412.39 1136.85,1412.75 1136.93,1413.12 1137.02,1413.48 1137.1,1413.85 1137.18,1414.22 1137.26,1414.59 1137.35,1414.96 \n",
       "  1137.43,1415.33 1137.51,1415.71 1137.59,1416.09 1137.68,1416.47 1137.76,1416.85 1137.84,1417.23 1137.92,1417.61 1138.01,1418 1138.09,1418.38 1138.17,1418.77 \n",
       "  1138.25,1419.17 1138.34,1419.56 1138.42,1419.95 1138.5,1420.35 1138.58,1420.75 1138.67,1421.15 1138.75,1421.55 1138.83,1421.96 1138.91,1422.36 1138.99,1422.77 \n",
       "  1139.08,1423.18 1139.16,1422.83 1139.24,1422.49 1139.32,1422.15 1139.41,1421.8 1139.49,1421.46 1139.57,1421.13 1139.65,1420.79 1139.74,1420.45 1139.82,1420.12 \n",
       "  1139.9,1419.79 1139.98,1419.46 1140.07,1419.13 1140.15,1418.8 1140.23,1418.47 1140.31,1418.15 1140.4,1417.82 1140.48,1417.5 1140.56,1417.18 1140.64,1416.86 \n",
       "  1140.73,1416.54 1140.81,1416.22 1140.89,1415.91 1140.97,1415.59 1141.06,1415.28 1141.14,1414.97 1141.22,1414.66 1141.3,1414.35 1141.39,1414.04 1141.47,1413.73 \n",
       "  1141.55,1413.43 1141.63,1413.12 1141.72,1412.82 1141.8,1412.52 1141.88,1412.22 1141.96,1411.92 1142.05,1411.62 1142.13,1411.33 1142.21,1411.03 1142.29,1410.74 \n",
       "  1142.38,1410.44 1142.46,1410.15 1142.54,1409.86 1142.62,1409.57 1142.71,1409.29 1142.79,1409 1142.87,1408.71 1142.95,1408.43 1143.03,1408.15 1143.12,1407.86 \n",
       "  1143.2,1407.58 1143.28,1407.3 1143.36,1407.02 1143.45,1406.75 1143.53,1406.47 1143.61,1406.2 1143.69,1405.92 1143.78,1405.65 1143.86,1405.38 1143.94,1405.11 \n",
       "  1144.02,1404.84 1144.11,1404.57 1144.19,1404.3 1144.27,1404.03 1144.35,1403.77 1144.44,1403.51 1144.52,1403.24 1144.6,1402.98 1144.68,1402.72 1144.77,1402.46 \n",
       "  1144.85,1402.2 1144.93,1401.94 1145.01,1401.69 1145.1,1401.43 1145.18,1401.18 1145.26,1400.92 1145.34,1400.67 1145.43,1400.42 1145.51,1400.17 1145.59,1399.92 \n",
       "  1145.67,1399.67 1145.76,1399.42 1145.84,1399.18 1145.92,1398.93 1146,1398.69 1146.09,1398.44 1146.17,1398.2 1146.25,1397.96 1146.33,1397.72 1146.42,1397.48 \n",
       "  1146.5,1397.24 1146.58,1397 1146.66,1396.76 1146.75,1396.53 1146.83,1396.29 1146.91,1396.06 1146.99,1395.83 1147.08,1395.59 1147.16,1395.36 1147.24,1395.13 \n",
       "  1147.32,1394.9 1147.4,1394.67 1147.49,1394.45 1147.57,1394.22 1147.65,1393.99 1147.73,1393.77 1147.82,1393.55 1147.9,1393.32 1147.98,1393.1 1148.06,1392.88 \n",
       "  1148.15,1392.66 1148.23,1392.44 1148.31,1392.22 1148.39,1392 1148.48,1391.79 1148.56,1391.57 1148.64,1391.36 1148.72,1391.14 1148.81,1390.93 1148.89,1390.72 \n",
       "  1148.97,1390.5 1149.05,1390.29 1149.14,1390.08 1149.22,1389.87 1149.3,1389.67 1149.38,1389.46 1149.47,1389.25 1149.55,1389.05 1149.63,1388.84 1149.71,1388.64 \n",
       "  1149.8,1388.43 1149.88,1388.23 1149.96,1388.03 1150.04,1387.83 1150.13,1387.63 1150.21,1387.43 1150.29,1387.23 1150.37,1387.03 1150.46,1386.83 1150.54,1386.64 \n",
       "  1150.62,1386.44 1150.7,1386.25 1150.79,1386.06 1150.87,1385.86 1150.95,1385.67 1151.03,1385.48 1151.12,1385.29 1151.2,1385.1 1151.28,1384.91 1151.36,1384.72 \n",
       "  1151.44,1384.53 1151.53,1384.35 1151.61,1384.16 1151.69,1383.97 1151.77,1383.79 1151.86,1383.61 1151.94,1383.42 1152.02,1383.24 1152.1,1383.06 1152.19,1382.88 \n",
       "  1152.27,1382.7 1152.35,1382.52 1152.43,1382.34 1152.52,1382.16 1152.6,1381.99 1152.68,1381.81 1152.76,1381.63 1152.85,1381.46 1152.93,1381.28 1153.01,1381.11 \n",
       "  1153.09,1380.94 1153.18,1380.77 1153.26,1380.59 1153.34,1380.42 1153.42,1380.25 1153.51,1380.08 1153.59,1379.92 1153.67,1379.75 1153.75,1379.58 1153.84,1379.41 \n",
       "  1153.92,1379.25 1154,1379.08 1154.08,1378.92 1154.17,1378.76 1154.25,1378.59 1154.33,1378.43 1154.41,1378.27 1154.5,1378.11 1154.58,1377.95 1154.66,1377.79 \n",
       "  1154.74,1377.63 1154.83,1377.47 1154.91,1377.31 1154.99,1377.16 1155.07,1377 1155.16,1376.84 1155.24,1376.69 1155.32,1376.53 1155.4,1376.38 1155.49,1376.23 \n",
       "  1155.57,1376.08 1155.65,1375.92 1155.73,1375.77 1155.81,1375.62 1155.9,1375.47 1155.98,1375.32 1156.06,1375.18 1156.14,1375.03 1156.23,1374.88 1156.31,1374.73 \n",
       "  1156.39,1374.59 1156.47,1374.44 1156.56,1374.3 1156.64,1374.15 1156.72,1374.01 1156.8,1373.87 1156.89,1373.73 1156.97,1373.59 1157.05,1373.44 1157.13,1373.3 \n",
       "  1157.22,1373.16 1157.3,1373.03 1157.38,1372.89 1157.46,1372.75 1157.55,1372.61 1157.63,1372.48 1157.71,1372.34 1157.79,1372.21 1157.88,1372.07 1157.96,1371.94 \n",
       "  1158.04,1371.8 1158.12,1371.67 1158.21,1371.54 1158.29,1371.41 1158.37,1371.28 1158.45,1371.15 1158.54,1371.02 1158.62,1370.89 1158.7,1370.76 1158.78,1370.63 \n",
       "  1158.87,1370.5 1158.95,1370.38 1159.03,1370.25 1159.11,1370.12 1159.2,1370 1159.28,1369.87 1159.36,1369.75 1159.44,1369.63 1159.53,1369.5 1159.61,1369.38 \n",
       "  1159.69,1369.26 1159.77,1369.14 1159.85,1369.02 1159.94,1368.9 1160.02,1368.78 1160.1,1368.66 1160.18,1368.54 1160.27,1368.43 1160.35,1368.31 1160.43,1368.19 \n",
       "  1160.51,1368.08 1160.6,1367.96 1160.68,1367.85 1160.76,1367.73 1160.84,1367.62 1160.93,1367.51 1161.01,1367.39 1161.09,1367.28 1161.17,1367.17 1161.26,1367.06 \n",
       "  1161.34,1366.95 1161.42,1366.84 1161.5,1366.73 1161.59,1366.62 1161.67,1366.51 1161.75,1366.41 1161.83,1366.3 1161.92,1366.19 1162,1366.09 1162.08,1365.98 \n",
       "  1162.16,1365.88 1162.25,1365.77 1162.33,1365.67 1162.41,1365.57 1162.49,1365.47 1162.58,1365.36 1162.66,1365.26 1162.74,1365.16 1162.82,1365.06 1162.91,1364.96 \n",
       "  1162.99,1364.86 1163.07,1364.76 1163.15,1364.67 1163.24,1364.57 1163.32,1364.47 1163.4,1364.37 1163.48,1364.28 1163.57,1364.18 1163.65,1364.09 1163.73,1363.99 \n",
       "  1163.81,1363.9 1163.9,1363.81 1163.98,1363.71 1164.06,1363.62 1164.14,1363.53 1164.22,1363.44 1164.31,1363.35 1164.39,1363.26 1164.47,1363.17 1164.55,1363.08 \n",
       "  1164.64,1362.99 1164.72,1362.9 1164.8,1362.81 1164.88,1362.73 1164.97,1362.64 1165.05,1362.55 1165.13,1362.47 1165.21,1362.38 1165.3,1362.3 1165.38,1362.21 \n",
       "  1165.46,1362.13 1165.54,1362.05 1165.63,1361.96 1165.71,1361.88 1165.79,1361.8 1165.87,1361.72 1165.96,1361.64 1166.04,1361.56 1166.12,1361.48 1166.2,1361.4 \n",
       "  1166.29,1361.32 1166.37,1361.24 1166.45,1361.17 1166.53,1361.09 1166.62,1361.01 1166.7,1360.94 1166.78,1360.86 1166.86,1360.79 1166.95,1360.71 1167.03,1360.64 \n",
       "  1167.11,1360.56 1167.19,1360.49 1167.28,1360.42 1167.36,1360.35 1167.44,1360.28 1167.52,1360.2 1167.61,1360.13 1167.69,1360.06 1167.77,1359.99 1167.85,1359.93 \n",
       "  1167.94,1359.86 1168.02,1359.79 1168.1,1359.72 1168.18,1359.65 1168.26,1359.59 1168.35,1359.52 1168.43,1359.46 1168.51,1359.39 1168.59,1359.33 1168.68,1359.26 \n",
       "  1168.76,1359.2 1168.84,1359.14 1168.92,1359.07 1169.01,1359.01 1169.09,1358.95 1169.17,1358.89 1169.25,1358.83 1169.34,1358.77 1169.42,1358.71 1169.5,1358.65 \n",
       "  1169.58,1358.59 1169.67,1358.53 1169.75,1358.47 1169.83,1358.42 1169.91,1358.36 1170,1358.3 1170.08,1358.25 1170.16,1358.19 1170.24,1358.14 1170.33,1358.08 \n",
       "  1170.41,1358.03 1170.49,1357.97 1170.57,1357.92 1170.66,1357.87 1170.74,1357.81 1170.82,1357.76 1170.9,1357.71 1170.99,1357.66 1171.07,1357.61 1171.15,1357.56 \n",
       "  1171.23,1357.51 1171.32,1357.46 1171.4,1357.41 1171.48,1357.37 1171.56,1357.32 1171.65,1357.27 1171.73,1357.23 1171.81,1357.18 1171.89,1357.13 1171.98,1357.09 \n",
       "  1172.06,1357.04 1172.14,1357 1172.22,1356.96 1172.31,1356.91 1172.39,1356.87 1172.47,1356.83 1172.55,1356.79 1172.63,1356.74 1172.72,1356.7 1172.8,1356.66 \n",
       "  1172.88,1356.62 1172.96,1356.58 1173.05,1356.54 1173.13,1356.51 1173.21,1356.47 1173.29,1356.43 1173.38,1356.39 1173.46,1356.36 1173.54,1356.32 1173.62,1356.28 \n",
       "  1173.71,1356.25 1173.79,1356.21 1173.87,1356.18 1173.95,1356.14 1174.04,1356.11 1174.12,1356.08 1174.2,1356.05 1174.28,1356.01 1174.37,1355.98 1174.45,1355.95 \n",
       "  1174.53,1355.92 1174.61,1355.89 1174.7,1355.86 1174.78,1355.83 1174.86,1355.8 1174.94,1355.77 1175.03,1355.74 1175.11,1355.72 1175.19,1355.69 1175.27,1355.66 \n",
       "  1175.36,1355.64 1175.44,1355.61 1175.52,1355.58 1175.6,1355.56 1175.69,1355.54 1175.77,1355.51 1175.85,1355.49 1175.93,1355.46 1176.02,1355.44 1176.1,1355.42 \n",
       "  1176.18,1355.4 1176.26,1355.38 1176.35,1355.36 1176.43,1355.34 1176.51,1355.32 1176.59,1355.3 1176.67,1355.28 1176.76,1355.26 1176.84,1355.24 1176.92,1355.22 \n",
       "  1177,1355.21 1177.09,1355.19 1177.17,1355.17 1177.25,1355.16 1177.33,1355.14 1177.42,1355.13 1177.5,1355.11 1177.58,1355.1 1177.66,1355.08 1177.75,1355.07 \n",
       "  1177.83,1355.06 1177.91,1355.05 1177.99,1355.03 1178.08,1355.02 1178.16,1355.01 1178.24,1355 1178.32,1354.99 1178.41,1354.98 1178.49,1354.97 1178.57,1354.96 \n",
       "  1178.65,1354.95 1178.74,1354.95 1178.82,1354.94 1178.9,1354.93 1178.98,1354.93 1179.07,1354.92 1179.15,1354.91 1179.23,1354.91 1179.31,1354.9 1179.4,1354.9 \n",
       "  1179.48,1354.9 1179.56,1354.89 1179.64,1354.89 1179.73,1354.89 1179.81,1354.89 1179.89,1354.88 1179.97,1354.88 1180.06,1354.88 1180.14,1354.88 1180.22,1354.88 \n",
       "  1180.3,1354.88 1180.39,1354.88 1180.47,1354.89 1180.55,1354.89 1180.63,1354.89 1180.72,1354.89 1180.8,1354.9 1180.88,1354.9 1180.96,1354.9 1181.04,1354.91 \n",
       "  1181.13,1354.91 1181.21,1354.92 1181.29,1354.93 1181.37,1354.93 1181.46,1354.94 1181.54,1354.95 1181.62,1354.96 1181.7,1354.96 1181.79,1354.97 1181.87,1354.98 \n",
       "  1181.95,1354.99 1182.03,1355 1182.12,1355.01 1182.2,1355.02 1182.28,1355.03 1182.36,1355.05 1182.45,1355.06 1182.53,1355.07 1182.61,1355.08 1182.69,1355.1 \n",
       "  1182.78,1355.11 1182.86,1355.13 1182.94,1355.14 1183.02,1355.16 1183.11,1355.17 1183.19,1355.19 1183.27,1355.21 1183.35,1355.22 1183.44,1355.24 1183.52,1355.26 \n",
       "  1183.6,1355.28 1183.68,1355.3 1183.77,1355.32 1183.85,1355.34 1183.93,1355.36 1184.01,1355.38 1184.1,1355.4 1184.18,1355.42 1184.26,1355.44 1184.34,1355.47 \n",
       "  1184.43,1355.49 1184.51,1355.51 1184.59,1355.54 1184.67,1355.56 1184.76,1355.59 1184.84,1355.61 1184.92,1355.64 1185,1355.66 1185.08,1355.69 1185.17,1355.72 \n",
       "  1185.25,1355.74 1185.33,1355.77 1185.41,1355.8 1185.5,1355.83 1185.58,1355.86 1185.66,1355.89 1185.74,1355.92 1185.83,1355.95 1185.91,1355.98 1185.99,1356.01 \n",
       "  1186.07,1356.04 1186.16,1356.08 1186.24,1356.11 1186.32,1356.14 1186.4,1356.18 1186.49,1356.21 1186.57,1356.25 1186.65,1356.28 1186.73,1356.32 1186.82,1356.35 \n",
       "  1186.9,1356.39 1186.98,1356.43 1187.06,1356.47 1187.15,1356.5 1187.23,1356.54 1187.31,1356.58 1187.39,1356.62 1187.48,1356.66 1187.56,1356.7 1187.64,1356.74 \n",
       "  1187.72,1356.78 1187.81,1356.82 1187.89,1356.87 1187.97,1356.91 1188.05,1356.95 1188.14,1357 1188.22,1357.04 1188.3,1357.08 1188.38,1357.13 1188.47,1357.18 \n",
       "  1188.55,1357.22 1188.63,1357.27 1188.71,1357.31 1188.8,1357.36 1188.88,1357.41 1188.96,1357.46 1189.04,1357.51 1189.13,1357.56 1189.21,1357.6 1189.29,1357.65 \n",
       "  1189.37,1357.71 1189.45,1357.76 1189.54,1357.81 1189.62,1357.86 1189.7,1357.91 1189.78,1357.97 1189.87,1358.02 1189.95,1358.07 1190.03,1358.13 1190.11,1358.18 \n",
       "  1190.2,1358.24 1190.28,1358.29 1190.36,1358.35 1190.44,1358.4 1190.53,1358.46 1190.61,1358.52 1190.69,1358.58 1190.77,1358.64 1190.86,1358.7 1190.94,1358.75 \n",
       "  1191.02,1358.81 1191.1,1358.87 1191.19,1358.94 1191.27,1359 1191.35,1359.06 1191.43,1359.12 1191.52,1359.18 1191.6,1359.25 1191.68,1359.31 1191.76,1359.38 \n",
       "  1191.85,1359.44 1191.93,1359.51 1192.01,1359.57 1192.09,1359.64 1192.18,1359.7 1192.26,1359.77 1192.34,1359.84 1192.42,1359.91 1192.51,1359.98 1192.59,1360.04 \n",
       "  1192.67,1360.11 1192.75,1360.18 1192.84,1360.25 1192.92,1360.33 1193,1360.4 1193.08,1360.47 1193.17,1360.54 1193.25,1360.61 1193.33,1360.69 1193.41,1360.76 \n",
       "  1193.49,1360.84 1193.58,1360.91 1193.66,1360.99 1193.74,1361.06 1193.82,1361.14 1193.91,1361.22 1193.99,1361.29 1194.07,1361.37 1194.15,1361.45 1194.24,1361.53 \n",
       "  1194.32,1361.61 1194.4,1361.69 1194.48,1361.77 1194.57,1361.85 1194.65,1361.93 1194.73,1362.01 1194.81,1362.09 1194.9,1362.18 1194.98,1362.26 1195.06,1362.34 \n",
       "  1195.14,1362.43 1195.23,1362.51 1195.31,1362.6 1195.39,1362.68 1195.47,1362.77 1195.56,1362.86 1195.64,1362.95 1195.72,1363.03 1195.8,1363.12 1195.89,1363.21 \n",
       "  1195.97,1363.3 1196.05,1363.39 1196.13,1363.48 1196.22,1363.57 1196.3,1363.66 1196.38,1363.75 1196.46,1363.85 1196.55,1363.94 1196.63,1364.03 1196.71,1364.13 \n",
       "  1196.79,1364.22 1196.88,1364.32 1196.96,1364.41 1197.04,1364.51 1197.12,1364.61 1197.21,1364.7 1197.29,1364.8 1197.37,1364.9 1197.45,1365 1197.54,1365.1 \n",
       "  1197.62,1365.2 1197.7,1365.3 1197.78,1365.4 1197.86,1365.5 1197.95,1365.6 1198.03,1365.7 1198.11,1365.81 1198.19,1365.91 1198.28,1366.02 1198.36,1366.12 \n",
       "  1198.44,1366.23 1198.52,1366.33 1198.61,1366.44 1198.69,1366.54 1198.77,1366.65 1198.85,1366.76 1198.94,1366.87 1199.02,1366.98 1199.1,1367.09 1199.18,1367.2 \n",
       "  1199.27,1367.31 1199.35,1367.42 1199.43,1367.53 1199.51,1367.64 1199.6,1367.75 1199.68,1367.87 1199.76,1367.98 1199.84,1368.1 1199.93,1368.21 1200.01,1368.33 \n",
       "  1200.09,1368.44 1200.17,1368.56 1200.26,1368.68 1200.34,1368.79 1200.42,1368.91 1200.5,1369.03 1200.59,1369.15 1200.67,1369.27 1200.75,1369.39 1200.83,1369.51 \n",
       "  1200.92,1369.63 1201,1369.76 1201.08,1369.88 1201.16,1370 1201.25,1370.13 1201.33,1370.25 1201.41,1370.38 1201.49,1370.5 1201.58,1370.63 1201.66,1370.76 \n",
       "  1201.74,1370.88 1201.82,1371.01 1201.9,1371.14 1201.99,1371.27 1202.07,1371.4 1202.15,1371.53 1202.23,1371.66 1202.32,1371.79 1202.4,1371.93 1202.48,1372.06 \n",
       "  1202.56,1372.19 1202.65,1372.33 1202.73,1372.46 1202.81,1372.6 1202.89,1372.73 1202.98,1372.87 1203.06,1373 1203.14,1373.14 1203.22,1373.28 1203.31,1373.42 \n",
       "  1203.39,1373.56 1203.47,1373.7 1203.55,1373.84 1203.64,1373.98 1203.72,1374.12 1203.8,1374.26 1203.88,1374.41 1203.97,1374.55 1204.05,1374.7 1204.13,1374.84 \n",
       "  1204.21,1374.99 1204.3,1375.13 1204.38,1375.28 1204.46,1375.43 1204.54,1375.57 1204.63,1375.72 1204.71,1375.87 1204.79,1376.02 1204.87,1376.17 1204.96,1376.32 \n",
       "  1205.04,1376.48 1205.12,1376.63 1205.2,1376.78 1205.29,1376.94 1205.37,1377.09 1205.45,1377.25 1205.53,1377.4 1205.62,1377.56 1205.7,1377.72 1205.78,1377.87 \n",
       "  1205.86,1378.03 1205.95,1378.19 1206.03,1378.35 1206.11,1378.51 1206.19,1378.67 1206.27,1378.83 1206.36,1379 1206.44,1379.16 1206.52,1379.32 1206.6,1379.49 \n",
       "  1206.69,1379.65 1206.77,1379.82 1206.85,1379.98 1206.93,1380.15 1207.02,1380.32 1207.1,1380.49 1207.18,1380.66 1207.26,1380.83 1207.35,1381 1207.43,1381.17 \n",
       "  1207.51,1381.34 1207.59,1381.51 1207.68,1381.69 1207.76,1381.86 1207.84,1382.03 1207.92,1382.21 1208.01,1382.39 1208.09,1382.56 1208.17,1382.74 1208.25,1382.92 \n",
       "  1208.34,1383.1 1208.42,1383.28 1208.5,1383.46 1208.58,1383.64 1208.67,1383.82 1208.75,1384 1208.83,1384.19 1208.91,1384.37 1209,1384.56 1209.08,1384.74 \n",
       "  1209.16,1384.93 1209.24,1385.11 1209.33,1385.3 1209.41,1385.49 1209.49,1385.68 1209.57,1385.87 1209.66,1386.06 1209.74,1386.25 1209.82,1386.44 1209.9,1386.64 \n",
       "  1209.99,1386.83 1210.07,1387.03 1210.15,1387.22 1210.23,1387.42 1210.31,1387.61 1210.4,1387.81 1210.48,1388.01 1210.56,1388.21 1210.64,1388.41 1210.73,1388.61 \n",
       "  1210.81,1388.81 1210.89,1389.01 1210.97,1389.22 1211.06,1389.42 1211.14,1389.63 1211.22,1389.83 1211.3,1390.04 1211.39,1390.25 1211.47,1390.45 1211.55,1390.66 \n",
       "  1211.63,1390.87 1211.72,1391.08 1211.8,1391.29 1211.88,1391.51 1211.96,1391.72 1212.05,1391.93 1212.13,1392.15 1212.21,1392.36 1212.29,1392.58 1212.38,1392.8 \n",
       "  1212.46,1393.02 1212.54,1393.23 1212.62,1393.45 1212.71,1393.68 1212.79,1393.9 1212.87,1394.12 1212.95,1394.34 1213.04,1394.57 1213.12,1394.79 1213.2,1395.02 \n",
       "  1213.28,1395.24 1213.37,1395.47 1213.45,1395.7 1213.53,1395.93 1213.61,1396.16 1213.7,1396.39 1213.78,1396.62 1213.86,1396.86 1213.94,1397.09 1214.03,1397.33 \n",
       "  1214.11,1397.56 1214.19,1397.8 1214.27,1398.04 1214.36,1398.28 1214.44,1398.52 1214.52,1398.76 1214.6,1399 1214.68,1399.24 1214.77,1399.48 1214.85,1399.73 \n",
       "  1214.93,1399.97 1215.01,1400.22 1215.1,1400.47 1215.18,1400.71 1215.26,1400.96 1215.34,1401.21 1215.43,1401.47 1215.51,1401.72 1215.59,1401.97 1215.67,1402.23 \n",
       "  1215.76,1402.48 1215.84,1402.74 1215.92,1402.99 1216,1403.25 1216.09,1403.51 1216.17,1403.77 1216.25,1404.03 1216.33,1404.3 1216.42,1404.56 1216.5,1404.82 \n",
       "  1216.58,1405.09 1216.66,1405.36 1216.75,1405.62 1216.83,1405.89 1216.91,1406.16 1216.99,1406.43 1217.08,1406.71 1217.16,1406.98 1217.24,1407.25 1217.32,1407.53 \n",
       "  1217.41,1407.8 1217.49,1408.08 1217.57,1408.36 1217.65,1408.64 1217.74,1408.92 1217.82,1409.2 1217.9,1409.49 1217.98,1409.77 1218.07,1410.06 1218.15,1410.34 \n",
       "  1218.23,1410.63 1218.31,1410.92 1218.4,1411.21 1218.48,1411.5 1218.56,1411.79 1218.64,1412.09 1218.72,1412.38 1218.81,1412.68 1218.89,1412.98 1218.97,1413.28 \n",
       "  1219.05,1413.58 1219.14,1413.88 1219.22,1414.18 1219.3,1414.48 1219.38,1414.79 1219.47,1415.09 1219.55,1415.4 1219.63,1415.71 1219.71,1416.02 1219.8,1416.33 \n",
       "  1219.88,1416.64 1219.96,1416.96 1220.04,1417.27 1220.13,1417.59 1220.21,1417.91 1220.29,1418.23 1220.37,1418.55 1220.46,1418.87 1220.54,1419.19 1220.62,1419.52 \n",
       "  1220.7,1419.84 1220.79,1420.17 1220.87,1420.5 1220.95,1420.83 1221.03,1421.16 1221.12,1421.49 1221.2,1421.83 1221.28,1422.16 1221.36,1422.5 1221.45,1422.84 \n",
       "  1221.53,1423.18 1221.61,1422.87 1221.69,1422.56 1221.78,1422.26 1221.86,1421.95 1221.94,1421.65 1222.02,1421.35 1222.11,1421.05 1222.19,1420.75 1222.27,1420.45 \n",
       "  1222.35,1420.15 1222.44,1419.86 1222.52,1419.56 1222.6,1419.27 1222.68,1418.97 1222.77,1418.68 1222.85,1418.39 1222.93,1418.1 1223.01,1417.82 1223.09,1417.53 \n",
       "  1223.18,1417.24 1223.26,1416.96 1223.34,1416.68 1223.42,1416.39 1223.51,1416.11 1223.59,1415.83 1223.67,1415.55 1223.75,1415.28 1223.84,1415 1223.92,1414.72 \n",
       "  1224,1414.45 1224.08,1414.18 1224.17,1413.9 1224.25,1413.63 1224.33,1413.36 1224.41,1413.09 1224.5,1412.83 1224.58,1412.56 1224.66,1412.29 1224.74,1412.03 \n",
       "  1224.83,1411.76 1224.91,1411.5 1224.99,1411.24 1225.07,1410.98 1225.16,1410.72 1225.24,1410.46 1225.32,1410.2 1225.4,1409.95 1225.49,1409.69 1225.57,1409.44 \n",
       "  1225.65,1409.18 1225.73,1408.93 1225.82,1408.68 1225.9,1408.43 1225.98,1408.18 1226.06,1407.93 1226.15,1407.68 1226.23,1407.43 1226.31,1407.19 1226.39,1406.94 \n",
       "  1226.48,1406.7 1226.56,1406.46 1226.64,1406.21 1226.72,1405.97 1226.81,1405.73 1226.89,1405.49 1226.97,1405.25 1227.05,1405.02 1227.13,1404.78 1227.22,1404.54 \n",
       "  1227.3,1404.31 1227.38,1404.08 1227.46,1403.84 1227.55,1403.61 1227.63,1403.38 1227.71,1403.15 1227.79,1402.92 1227.88,1402.69 1227.96,1402.46 1228.04,1402.24 \n",
       "  1228.12,1402.01 1228.21,1401.78 1228.29,1401.56 1228.37,1401.34 1228.45,1401.11 1228.54,1400.89 1228.62,1400.67 1228.7,1400.45 1228.78,1400.23 1228.87,1400.01 \n",
       "  1228.95,1399.8 1229.03,1399.58 1229.11,1399.36 1229.2,1399.15 1229.28,1398.94 1229.36,1398.72 1229.44,1398.51 1229.53,1398.3 1229.61,1398.09 1229.69,1397.88 \n",
       "  1229.77,1397.67 1229.86,1397.46 1229.94,1397.25 1230.02,1397.04 1230.1,1396.84 1230.19,1396.63 1230.27,1396.43 1230.35,1396.22 1230.43,1396.02 1230.52,1395.82 \n",
       "  1230.6,1395.62 1230.68,1395.42 1230.76,1395.22 1230.85,1395.02 1230.93,1394.82 1231.01,1394.62 1231.09,1394.43 1231.18,1394.23 1231.26,1394.03 1231.34,1393.84 \n",
       "  1231.42,1393.65 1231.5,1393.45 1231.59,1393.26 1231.67,1393.07 1231.75,1392.88 1231.83,1392.69 1231.92,1392.5 1232,1392.31 1232.08,1392.12 1232.16,1391.93 \n",
       "  1232.25,1391.75 1232.33,1391.56 1232.41,1391.38 1232.49,1391.19 1232.58,1391.01 1232.66,1390.83 1232.74,1390.64 1232.82,1390.46 1232.91,1390.28 1232.99,1390.1 \n",
       "  1233.07,1389.92 1233.15,1389.74 1233.24,1389.57 1233.32,1389.39 1233.4,1389.21 1233.48,1389.04 1233.57,1388.86 1233.65,1388.69 1233.73,1388.51 1233.81,1388.34 \n",
       "  1233.9,1388.17 1233.98,1387.99 1234.06,1387.82 1234.14,1387.65 1234.23,1387.48 1234.31,1387.31 1234.39,1387.15 1234.47,1386.98 1234.56,1386.81 1234.64,1386.64 \n",
       "  1234.72,1386.48 1234.8,1386.31 1234.89,1386.15 1234.97,1385.98 1235.05,1385.82 1235.13,1385.66 1235.22,1385.5 1235.3,1385.34 1235.38,1385.18 1235.46,1385.02 \n",
       "  1235.54,1384.86 1235.63,1384.7 1235.71,1384.54 1235.79,1384.38 1235.87,1384.22 1235.96,1384.07 1236.04,1383.91 1236.12,1383.76 1236.2,1383.6 1236.29,1383.45 \n",
       "  1236.37,1383.3 1236.45,1383.14 1236.53,1382.99 1236.62,1382.84 1236.7,1382.69 1236.78,1382.54 1236.86,1382.39 1236.95,1382.24 1237.03,1382.09 1237.11,1381.95 \n",
       "  1237.19,1381.8 1237.28,1381.65 1237.36,1381.51 1237.44,1381.36 1237.52,1381.22 1237.61,1381.07 1237.69,1380.93 1237.77,1380.79 1237.85,1380.65 1237.94,1380.5 \n",
       "  1238.02,1380.36 1238.1,1380.22 1238.18,1380.08 1238.27,1379.94 1238.35,1379.81 1238.43,1379.67 1238.51,1379.53 1238.6,1379.39 1238.68,1379.26 1238.76,1379.12 \n",
       "  1238.84,1378.99 1238.93,1378.85 1239.01,1378.72 1239.09,1378.58 1239.17,1378.45 1239.26,1378.32 1239.34,1378.19 1239.42,1378.06 1239.5,1377.93 1239.59,1377.8 \n",
       "  1239.67,1377.67 1239.75,1377.54 1239.83,1377.41 1239.91,1377.28 1240,1377.15 1240.08,1377.03 1240.16,1376.9 1240.24,1376.78 1240.33,1376.65 1240.41,1376.53 \n",
       "  1240.49,1376.4 1240.57,1376.28 1240.66,1376.16 1240.74,1376.03 1240.82,1375.91 1240.9,1375.79 1240.99,1375.67 1241.07,1375.55 1241.15,1375.43 1241.23,1375.31 \n",
       "  1241.32,1375.19 1241.4,1375.08 1241.48,1374.96 1241.56,1374.84 1241.65,1374.73 1241.73,1374.61 1241.81,1374.49 1241.89,1374.38 1241.98,1374.27 1242.06,1374.15 \n",
       "  1242.14,1374.04 1242.22,1373.93 1242.31,1373.81 1242.39,1373.7 1242.47,1373.59 1242.55,1373.48 1242.64,1373.37 1242.72,1373.26 1242.8,1373.15 1242.88,1373.04 \n",
       "  1242.97,1372.94 1243.05,1372.83 1243.13,1372.72 1243.21,1372.62 1243.3,1372.51 1243.38,1372.4 1243.46,1372.3 1243.54,1372.2 1243.63,1372.09 1243.71,1371.99 \n",
       "  1243.79,1371.89 1243.87,1371.78 1243.95,1371.68 1244.04,1371.58 1244.12,1371.48 1244.2,1371.38 1244.28,1371.28 1244.37,1371.18 1244.45,1371.08 1244.53,1370.98 \n",
       "  1244.61,1370.89 1244.7,1370.79 1244.78,1370.69 1244.86,1370.6 1244.94,1370.5 1245.03,1370.4 1245.11,1370.31 1245.19,1370.22 1245.27,1370.12 1245.36,1370.03 \n",
       "  1245.44,1369.94 1245.52,1369.84 1245.6,1369.75 1245.69,1369.66 1245.77,1369.57 1245.85,1369.48 1245.93,1369.39 1246.02,1369.3 1246.1,1369.21 1246.18,1369.12 \n",
       "  1246.26,1369.04 1246.35,1368.95 1246.43,1368.86 1246.51,1368.77 1246.59,1368.69 1246.68,1368.6 1246.76,1368.52 1246.84,1368.43 1246.92,1368.35 1247.01,1368.27 \n",
       "  1247.09,1368.18 1247.17,1368.1 1247.25,1368.02 1247.34,1367.94 1247.42,1367.86 1247.5,1367.77 1247.58,1367.69 1247.67,1367.61 1247.75,1367.54 1247.83,1367.46 \n",
       "  1247.91,1367.38 1248,1367.3 1248.08,1367.22 1248.16,1367.15 1248.24,1367.07 1248.32,1366.99 1248.41,1366.92 1248.49,1366.84 1248.57,1366.77 1248.65,1366.69 \n",
       "  1248.74,1366.62 1248.82,1366.55 1248.9,1366.47 1248.98,1366.4 1249.07,1366.33 1249.15,1366.26 1249.23,1366.19 1249.31,1366.12 1249.4,1366.05 1249.48,1365.98 \n",
       "  1249.56,1365.91 1249.64,1365.84 1249.73,1365.77 1249.81,1365.7 1249.89,1365.64 1249.97,1365.57 1250.06,1365.5 1250.14,1365.44 1250.22,1365.37 1250.3,1365.31 \n",
       "  1250.39,1365.24 1250.47,1365.18 1250.55,1365.12 1250.63,1365.05 1250.72,1364.99 1250.8,1364.93 1250.88,1364.87 1250.96,1364.8 1251.05,1364.74 1251.13,1364.68 \n",
       "  1251.21,1364.62 1251.29,1364.56 1251.38,1364.5 1251.46,1364.45 1251.54,1364.39 1251.62,1364.33 1251.71,1364.27 1251.79,1364.21 1251.87,1364.16 1251.95,1364.1 \n",
       "  1252.04,1364.05 1252.12,1363.99 1252.2,1363.94 1252.28,1363.88 1252.36,1363.83 1252.45,1363.78 1252.53,1363.72 1252.61,1363.67 1252.69,1363.62 1252.78,1363.57 \n",
       "  1252.86,1363.52 1252.94,1363.46 1253.02,1363.41 1253.11,1363.36 1253.19,1363.32 1253.27,1363.27 1253.35,1363.22 1253.44,1363.17 1253.52,1363.12 1253.6,1363.07 \n",
       "  1253.68,1363.03 1253.77,1362.98 1253.85,1362.94 1253.93,1362.89 1254.01,1362.85 1254.1,1362.8 1254.18,1362.76 1254.26,1362.71 1254.34,1362.67 1254.43,1362.63 \n",
       "  1254.51,1362.58 1254.59,1362.54 1254.67,1362.5 1254.76,1362.46 1254.84,1362.42 1254.92,1362.38 1255,1362.34 1255.09,1362.3 1255.17,1362.26 1255.25,1362.22 \n",
       "  1255.33,1362.18 1255.42,1362.15 1255.5,1362.11 1255.58,1362.07 1255.66,1362.04 1255.75,1362 1255.83,1361.96 1255.91,1361.93 1255.99,1361.89 1256.08,1361.86 \n",
       "  1256.16,1361.83 1256.24,1361.79 1256.32,1361.76 1256.41,1361.73 1256.49,1361.7 1256.57,1361.66 1256.65,1361.63 1256.73,1361.6 1256.82,1361.57 1256.9,1361.54 \n",
       "  1256.98,1361.51 1257.06,1361.48 1257.15,1361.45 1257.23,1361.43 1257.31,1361.4 1257.39,1361.37 1257.48,1361.34 1257.56,1361.32 1257.64,1361.29 1257.72,1361.26 \n",
       "  1257.81,1361.24 1257.89,1361.21 1257.97,1361.19 1258.05,1361.17 1258.14,1361.14 1258.22,1361.12 1258.3,1361.1 1258.38,1361.07 1258.47,1361.05 1258.55,1361.03 \n",
       "  1258.63,1361.01 1258.71,1360.99 1258.8,1360.97 1258.88,1360.95 1258.96,1360.93 1259.04,1360.91 1259.13,1360.89 1259.21,1360.87 1259.29,1360.85 1259.37,1360.84 \n",
       "  1259.46,1360.82 1259.54,1360.8 1259.62,1360.79 1259.7,1360.77 1259.79,1360.76 1259.87,1360.74 1259.95,1360.73 1260.03,1360.71 1260.12,1360.7 1260.2,1360.69 \n",
       "  1260.28,1360.67 1260.36,1360.66 1260.45,1360.65 1260.53,1360.64 1260.61,1360.63 1260.69,1360.62 1260.77,1360.61 1260.86,1360.6 1260.94,1360.59 1261.02,1360.58 \n",
       "  1261.1,1360.57 1261.19,1360.56 1261.27,1360.55 1261.35,1360.55 1261.43,1360.54 1261.52,1360.53 1261.6,1360.53 1261.68,1360.52 1261.76,1360.52 1261.85,1360.51 \n",
       "  1261.93,1360.51 1262.01,1360.5 1262.09,1360.5 1262.18,1360.5 1262.26,1360.49 1262.34,1360.49 1262.42,1360.49 1262.51,1360.49 1262.59,1360.49 1262.67,1360.49 \n",
       "  1262.75,1360.49 1262.84,1360.49 1262.92,1360.49 1263,1360.49 1263.08,1360.49 1263.17,1360.49 1263.25,1360.49 1263.33,1360.5 1263.41,1360.5 1263.5,1360.5 \n",
       "  1263.58,1360.51 1263.66,1360.51 1263.74,1360.52 1263.83,1360.52 1263.91,1360.53 1263.99,1360.53 1264.07,1360.54 1264.16,1360.55 1264.24,1360.55 1264.32,1360.56 \n",
       "  1264.4,1360.57 1264.49,1360.58 1264.57,1360.59 1264.65,1360.6 1264.73,1360.61 1264.82,1360.62 1264.9,1360.63 1264.98,1360.64 1265.06,1360.65 1265.14,1360.66 \n",
       "  1265.23,1360.67 1265.31,1360.69 1265.39,1360.7 1265.47,1360.71 1265.56,1360.73 1265.64,1360.74 1265.72,1360.76 1265.8,1360.77 1265.89,1360.79 1265.97,1360.8 \n",
       "  1266.05,1360.82 1266.13,1360.84 1266.22,1360.85 1266.3,1360.87 1266.38,1360.89 1266.46,1360.91 1266.55,1360.93 1266.63,1360.95 1266.71,1360.97 1266.79,1360.99 \n",
       "  1266.88,1361.01 1266.96,1361.03 1267.04,1361.05 1267.12,1361.07 1267.21,1361.1 1267.29,1361.12 1267.37,1361.14 1267.45,1361.17 1267.54,1361.19 1267.62,1361.21 \n",
       "  1267.7,1361.24 1267.78,1361.26 1267.87,1361.29 1267.95,1361.32 1268.03,1361.34 1268.11,1361.37 1268.2,1361.4 1268.28,1361.43 1268.36,1361.45 1268.44,1361.48 \n",
       "  1268.53,1361.51 1268.61,1361.54 1268.69,1361.57 1268.77,1361.6 1268.86,1361.63 1268.94,1361.66 1269.02,1361.7 1269.1,1361.73 1269.18,1361.76 1269.27,1361.79 \n",
       "  1269.35,1361.83 1269.43,1361.86 1269.51,1361.89 1269.6,1361.93 1269.68,1361.96 1269.76,1362 1269.84,1362.04 1269.93,1362.07 1270.01,1362.11 1270.09,1362.15 \n",
       "  1270.17,1362.18 1270.26,1362.22 1270.34,1362.26 1270.42,1362.3 1270.5,1362.34 1270.59,1362.38 1270.67,1362.42 1270.75,1362.46 1270.83,1362.5 1270.92,1362.54 \n",
       "  1271,1362.58 1271.08,1362.63 1271.16,1362.67 1271.25,1362.71 1271.33,1362.76 1271.41,1362.8 1271.49,1362.85 1271.58,1362.89 1271.66,1362.94 1271.74,1362.98 \n",
       "  1271.82,1363.03 1271.91,1363.07 1271.99,1363.12 1272.07,1363.17 1272.15,1363.22 1272.24,1363.27 1272.32,1363.32 1272.4,1363.36 1272.48,1363.41 1272.57,1363.46 \n",
       "  1272.65,1363.52 1272.73,1363.57 1272.81,1363.62 1272.9,1363.67 1272.98,1363.72 1273.06,1363.78 1273.14,1363.83 1273.23,1363.88 1273.31,1363.94 1273.39,1363.99 \n",
       "  1273.47,1364.05 1273.55,1364.1 1273.64,1364.16 1273.72,1364.21 1273.8,1364.27 1273.88,1364.33 1273.97,1364.39 1274.05,1364.45 1274.13,1364.5 1274.21,1364.56 \n",
       "  1274.3,1364.62 1274.38,1364.68 1274.46,1364.74 1274.54,1364.8 1274.63,1364.87 1274.71,1364.93 1274.79,1364.99 1274.87,1365.05 1274.96,1365.12 1275.04,1365.18 \n",
       "  1275.12,1365.24 1275.2,1365.31 1275.29,1365.37 1275.37,1365.44 1275.45,1365.5 1275.53,1365.57 1275.62,1365.64 1275.7,1365.7 1275.78,1365.77 1275.86,1365.84 \n",
       "  1275.95,1365.91 1276.03,1365.98 1276.11,1366.05 1276.19,1366.12 1276.28,1366.19 1276.36,1366.26 1276.44,1366.33 1276.52,1366.4 1276.61,1366.47 1276.69,1366.55 \n",
       "  1276.77,1366.62 1276.85,1366.69 1276.94,1366.77 1277.02,1366.84 1277.1,1366.92 1277.18,1366.99 1277.27,1367.07 1277.35,1367.15 1277.43,1367.22 1277.51,1367.3 \n",
       "  1277.59,1367.38 1277.68,1367.46 1277.76,1367.54 1277.84,1367.61 1277.92,1367.69 1278.01,1367.77 1278.09,1367.86 1278.17,1367.94 1278.25,1368.02 1278.34,1368.1 \n",
       "  1278.42,1368.18 1278.5,1368.27 1278.58,1368.35 1278.67,1368.43 1278.75,1368.52 1278.83,1368.6 1278.91,1368.69 1279,1368.77 1279.08,1368.86 1279.16,1368.95 \n",
       "  1279.24,1369.04 1279.33,1369.12 1279.41,1369.21 1279.49,1369.3 1279.57,1369.39 1279.66,1369.48 1279.74,1369.57 1279.82,1369.66 1279.9,1369.75 1279.99,1369.84 \n",
       "  1280.07,1369.94 1280.15,1370.03 1280.23,1370.12 1280.32,1370.22 1280.4,1370.31 1280.48,1370.4 1280.56,1370.5 1280.65,1370.6 1280.73,1370.69 1280.81,1370.79 \n",
       "  1280.89,1370.89 1280.98,1370.98 1281.06,1371.08 1281.14,1371.18 1281.22,1371.28 1281.31,1371.38 1281.39,1371.48 1281.47,1371.58 1281.55,1371.68 1281.64,1371.78 \n",
       "  1281.72,1371.89 1281.8,1371.99 1281.88,1372.09 1281.96,1372.2 1282.05,1372.3 1282.13,1372.4 1282.21,1372.51 1282.29,1372.62 1282.38,1372.72 1282.46,1372.83 \n",
       "  1282.54,1372.94 1282.62,1373.04 1282.71,1373.15 1282.79,1373.26 1282.87,1373.37 1282.95,1373.48 1283.04,1373.59 1283.12,1373.7 1283.2,1373.81 1283.28,1373.93 \n",
       "  1283.37,1374.04 1283.45,1374.15 1283.53,1374.27 1283.61,1374.38 1283.7,1374.49 1283.78,1374.61 1283.86,1374.73 1283.94,1374.84 1284.03,1374.96 1284.11,1375.08 \n",
       "  1284.19,1375.19 1284.27,1375.31 1284.36,1375.43 1284.44,1375.55 1284.52,1375.67 1284.6,1375.79 1284.69,1375.91 1284.77,1376.03 1284.85,1376.16 1284.93,1376.28 \n",
       "  1285.02,1376.4 1285.1,1376.53 1285.18,1376.65 1285.26,1376.78 1285.35,1376.9 1285.43,1377.03 1285.51,1377.15 1285.59,1377.28 1285.68,1377.41 1285.76,1377.54 \n",
       "  1285.84,1377.67 1285.92,1377.8 1286,1377.93 1286.09,1378.06 1286.17,1378.19 1286.25,1378.32 1286.33,1378.45 1286.42,1378.58 1286.5,1378.72 1286.58,1378.85 \n",
       "  1286.66,1378.99 1286.75,1379.12 1286.83,1379.26 1286.91,1379.39 1286.99,1379.53 1287.08,1379.67 1287.16,1379.81 1287.24,1379.94 1287.32,1380.08 1287.41,1380.22 \n",
       "  1287.49,1380.36 1287.57,1380.5 1287.65,1380.65 1287.74,1380.79 1287.82,1380.93 1287.9,1381.07 1287.98,1381.22 1288.07,1381.36 1288.15,1381.51 1288.23,1381.65 \n",
       "  1288.31,1381.8 1288.4,1381.95 1288.48,1382.09 1288.56,1382.24 1288.64,1382.39 1288.73,1382.54 1288.81,1382.69 1288.89,1382.84 1288.97,1382.99 1289.06,1383.14 \n",
       "  1289.14,1383.3 1289.22,1383.45 1289.3,1383.6 1289.39,1383.76 1289.47,1383.91 1289.55,1384.07 1289.63,1384.22 1289.72,1384.38 1289.8,1384.54 1289.88,1384.7 \n",
       "  1289.96,1384.86 1290.05,1385.02 1290.13,1385.18 1290.21,1385.34 1290.29,1385.5 1290.37,1385.66 1290.46,1385.82 1290.54,1385.98 1290.62,1386.15 1290.7,1386.31 \n",
       "  1290.79,1386.48 1290.87,1386.64 1290.95,1386.81 1291.03,1386.98 1291.12,1387.15 1291.2,1387.31 1291.28,1387.48 1291.36,1387.65 1291.45,1387.82 1291.53,1387.99 \n",
       "  1291.61,1388.17 1291.69,1388.34 1291.78,1388.51 1291.86,1388.69 1291.94,1388.86 1292.02,1389.04 1292.11,1389.21 1292.19,1389.39 1292.27,1389.57 1292.35,1389.74 \n",
       "  1292.44,1389.92 1292.52,1390.1 1292.6,1390.28 1292.68,1390.46 1292.77,1390.64 1292.85,1390.83 1292.93,1391.01 1293.01,1391.19 1293.1,1391.38 1293.18,1391.56 \n",
       "  1293.26,1391.75 1293.34,1391.93 1293.43,1392.12 1293.51,1392.31 1293.59,1392.5 1293.67,1392.69 1293.76,1392.88 1293.84,1393.07 1293.92,1393.26 1294,1393.45 \n",
       "  1294.09,1393.65 1294.17,1393.84 1294.25,1394.03 1294.33,1394.23 1294.41,1394.43 1294.5,1394.62 1294.58,1394.82 1294.66,1395.02 1294.74,1395.22 1294.83,1395.42 \n",
       "  1294.91,1395.62 1294.99,1395.82 1295.07,1396.02 1295.16,1396.22 1295.24,1396.43 1295.32,1396.63 1295.4,1396.84 1295.49,1397.04 1295.57,1397.25 1295.65,1397.46 \n",
       "  1295.73,1397.67 1295.82,1397.88 1295.9,1398.09 1295.98,1398.3 1296.06,1398.51 1296.15,1398.72 1296.23,1398.94 1296.31,1399.15 1296.39,1399.36 1296.48,1399.58 \n",
       "  1296.56,1399.8 1296.64,1400.01 1296.72,1400.23 1296.81,1400.45 1296.89,1400.67 1296.97,1400.89 1297.05,1401.11 1297.14,1401.34 1297.22,1401.56 1297.3,1401.78 \n",
       "  1297.38,1402.01 1297.47,1402.24 1297.55,1402.46 1297.63,1402.69 1297.71,1402.92 1297.8,1403.15 1297.88,1403.38 1297.96,1403.61 1298.04,1403.84 1298.13,1404.08 \n",
       "  1298.21,1404.31 1298.29,1404.54 1298.37,1404.78 1298.46,1405.02 1298.54,1405.25 1298.62,1405.49 1298.7,1405.73 1298.78,1405.97 1298.87,1406.21 1298.95,1406.46 \n",
       "  1299.03,1406.7 1299.11,1406.94 1299.2,1407.19 1299.28,1407.43 1299.36,1407.68 1299.44,1407.93 1299.53,1408.18 1299.61,1408.43 1299.69,1408.68 1299.77,1408.93 \n",
       "  1299.86,1409.18 1299.94,1409.44 1300.02,1409.69 1300.1,1409.95 1300.19,1410.2 1300.27,1410.46 1300.35,1410.72 1300.43,1410.98 1300.52,1411.24 1300.6,1411.5 \n",
       "  1300.68,1411.76 1300.76,1412.03 1300.85,1412.29 1300.93,1412.56 1301.01,1412.83 1301.09,1413.09 1301.18,1413.36 1301.26,1413.63 1301.34,1413.9 1301.42,1414.18 \n",
       "  1301.51,1414.45 1301.59,1414.72 1301.67,1415 1301.75,1415.28 1301.84,1415.55 1301.92,1415.83 1302,1416.11 1302.08,1416.39 1302.17,1416.68 1302.25,1416.96 \n",
       "  1302.33,1417.24 1302.41,1417.53 1302.5,1417.82 1302.58,1418.1 1302.66,1418.39 1302.74,1418.68 1302.82,1418.97 1302.91,1419.27 1302.99,1419.56 1303.07,1419.86 \n",
       "  1303.15,1420.15 1303.24,1420.45 1303.32,1420.75 1303.4,1421.05 1303.48,1421.35 1303.57,1421.65 1303.65,1421.95 1303.73,1422.26 1303.81,1422.56 1303.9,1422.87 \n",
       "  1303.98,1423.18 1304.06,1422.87 1304.14,1422.56 1304.23,1422.26 1304.31,1421.95 1304.39,1421.65 1304.47,1421.35 1304.56,1421.05 1304.64,1420.75 1304.72,1420.45 \n",
       "  1304.8,1420.15 1304.89,1419.86 1304.97,1419.56 1305.05,1419.27 1305.13,1418.97 1305.22,1418.68 1305.3,1418.39 1305.38,1418.1 1305.46,1417.82 1305.55,1417.53 \n",
       "  1305.63,1417.24 1305.71,1416.96 1305.79,1416.68 1305.88,1416.39 1305.96,1416.11 1306.04,1415.83 1306.12,1415.55 1306.21,1415.28 1306.29,1415 1306.37,1414.72 \n",
       "  1306.45,1414.45 1306.54,1414.18 1306.62,1413.9 1306.7,1413.63 1306.78,1413.36 1306.87,1413.09 1306.95,1412.83 1307.03,1412.56 1307.11,1412.29 1307.19,1412.03 \n",
       "  1307.28,1411.76 1307.36,1411.5 1307.44,1411.24 1307.52,1410.98 1307.61,1410.72 1307.69,1410.46 1307.77,1410.2 1307.85,1409.95 1307.94,1409.69 1308.02,1409.44 \n",
       "  1308.1,1409.18 1308.18,1408.93 1308.27,1408.68 1308.35,1408.43 1308.43,1408.18 1308.51,1407.93 1308.6,1407.68 1308.68,1407.43 1308.76,1407.19 1308.84,1406.94 \n",
       "  1308.93,1406.7 1309.01,1406.46 1309.09,1406.21 1309.17,1405.97 1309.26,1405.73 1309.34,1405.49 1309.42,1405.25 1309.5,1405.02 1309.59,1404.78 1309.67,1404.54 \n",
       "  1309.75,1404.31 1309.83,1404.08 1309.92,1403.84 1310,1403.61 1310.08,1403.38 1310.16,1403.15 1310.25,1402.92 1310.33,1402.69 1310.41,1402.46 1310.49,1402.24 \n",
       "  1310.58,1402.01 1310.66,1401.78 1310.74,1401.56 1310.82,1401.34 1310.91,1401.11 1310.99,1400.89 1311.07,1400.67 1311.15,1400.45 1311.23,1400.23 1311.32,1400.01 \n",
       "  1311.4,1399.8 1311.48,1399.58 1311.56,1399.36 1311.65,1399.15 1311.73,1398.94 1311.81,1398.72 1311.89,1398.51 1311.98,1398.3 1312.06,1398.09 1312.14,1397.88 \n",
       "  1312.22,1397.67 1312.31,1397.46 1312.39,1397.25 1312.47,1397.04 1312.55,1396.84 1312.64,1396.63 1312.72,1396.43 1312.8,1396.22 1312.88,1396.02 1312.97,1395.82 \n",
       "  1313.05,1395.62 1313.13,1395.42 1313.21,1395.22 1313.3,1395.02 1313.38,1394.82 1313.46,1394.62 1313.54,1394.43 1313.63,1394.23 1313.71,1394.03 1313.79,1393.84 \n",
       "  1313.87,1393.65 1313.96,1393.45 1314.04,1393.26 1314.12,1393.07 1314.2,1392.88 1314.29,1392.69 1314.37,1392.5 1314.45,1392.31 1314.53,1392.12 1314.62,1391.93 \n",
       "  1314.7,1391.75 1314.78,1391.56 1314.86,1391.38 1314.95,1391.19 1315.03,1391.01 1315.11,1390.83 1315.19,1390.64 1315.28,1390.46 1315.36,1390.28 1315.44,1390.1 \n",
       "  1315.52,1389.92 1315.6,1389.74 1315.69,1389.57 1315.77,1389.39 1315.85,1389.21 1315.93,1389.04 1316.02,1388.86 1316.1,1388.69 1316.18,1388.51 1316.26,1388.34 \n",
       "  1316.35,1388.17 1316.43,1387.99 1316.51,1387.82 1316.59,1387.65 1316.68,1387.48 1316.76,1387.31 1316.84,1387.15 1316.92,1386.98 1317.01,1386.81 1317.09,1386.64 \n",
       "  1317.17,1386.48 1317.25,1386.31 1317.34,1386.15 1317.42,1385.98 1317.5,1385.82 1317.58,1385.66 1317.67,1385.5 1317.75,1385.34 1317.83,1385.18 1317.91,1385.02 \n",
       "  1318,1384.86 1318.08,1384.7 1318.16,1384.54 1318.24,1384.38 1318.33,1384.22 1318.41,1384.07 1318.49,1383.91 1318.57,1383.76 1318.66,1383.6 1318.74,1383.45 \n",
       "  1318.82,1383.3 1318.9,1383.14 1318.99,1382.99 1319.07,1382.84 1319.15,1382.69 1319.23,1382.54 1319.32,1382.39 1319.4,1382.24 1319.48,1382.09 1319.56,1381.95 \n",
       "  1319.64,1381.8 1319.73,1381.65 1319.81,1381.51 1319.89,1381.36 1319.97,1381.22 1320.06,1381.07 1320.14,1380.93 1320.22,1380.79 1320.3,1380.65 1320.39,1380.5 \n",
       "  1320.47,1380.36 1320.55,1380.22 1320.63,1380.08 1320.72,1379.94 1320.8,1379.81 1320.88,1379.67 1320.96,1379.53 1321.05,1379.39 1321.13,1379.26 1321.21,1379.12 \n",
       "  1321.29,1378.99 1321.38,1378.85 1321.46,1378.72 1321.54,1378.58 1321.62,1378.45 1321.71,1378.32 1321.79,1378.19 1321.87,1378.06 1321.95,1377.93 1322.04,1377.8 \n",
       "  1322.12,1377.67 1322.2,1377.54 1322.28,1377.41 1322.37,1377.28 1322.45,1377.15 1322.53,1377.03 1322.61,1376.9 1322.7,1376.78 1322.78,1376.65 1322.86,1376.53 \n",
       "  1322.94,1376.4 1323.03,1376.28 1323.11,1376.16 1323.19,1376.03 1323.27,1375.91 1323.36,1375.79 1323.44,1375.67 1323.52,1375.55 1323.6,1375.43 1323.69,1375.31 \n",
       "  1323.77,1375.19 1323.85,1375.08 1323.93,1374.96 1324.01,1374.84 1324.1,1374.73 1324.18,1374.61 1324.26,1374.49 1324.34,1374.38 1324.43,1374.27 1324.51,1374.15 \n",
       "  1324.59,1374.04 1324.67,1373.93 1324.76,1373.81 1324.84,1373.7 1324.92,1373.59 1325,1373.48 1325.09,1373.37 1325.17,1373.26 1325.25,1373.15 1325.33,1373.04 \n",
       "  1325.42,1372.94 1325.5,1372.83 1325.58,1372.72 1325.66,1372.62 1325.75,1372.51 1325.83,1372.4 1325.91,1372.3 1325.99,1372.2 1326.08,1372.09 1326.16,1371.99 \n",
       "  1326.24,1371.89 1326.32,1371.78 1326.41,1371.68 1326.49,1371.58 1326.57,1371.48 1326.65,1371.38 1326.74,1371.28 1326.82,1371.18 1326.9,1371.08 1326.98,1370.98 \n",
       "  1327.07,1370.89 1327.15,1370.79 1327.23,1370.69 1327.31,1370.6 1327.4,1370.5 1327.48,1370.4 1327.56,1370.31 1327.64,1370.22 1327.73,1370.12 1327.81,1370.03 \n",
       "  1327.89,1369.94 1327.97,1369.84 1328.05,1369.75 1328.14,1369.66 1328.22,1369.57 1328.3,1369.48 1328.38,1369.39 1328.47,1369.3 1328.55,1369.21 1328.63,1369.12 \n",
       "  1328.71,1369.04 1328.8,1368.95 1328.88,1368.86 1328.96,1368.77 1329.04,1368.69 1329.13,1368.6 1329.21,1368.52 1329.29,1368.43 1329.37,1368.35 1329.46,1368.27 \n",
       "  1329.54,1368.18 1329.62,1368.1 1329.7,1368.02 1329.79,1367.94 1329.87,1367.86 1329.95,1367.77 1330.03,1367.69 1330.12,1367.61 1330.2,1367.54 1330.28,1367.46 \n",
       "  1330.36,1367.38 1330.45,1367.3 1330.53,1367.22 1330.61,1367.15 1330.69,1367.07 1330.78,1366.99 1330.86,1366.92 1330.94,1366.84 1331.02,1366.77 1331.11,1366.69 \n",
       "  1331.19,1366.62 1331.27,1366.55 1331.35,1366.47 1331.44,1366.4 1331.52,1366.33 1331.6,1366.26 1331.68,1366.19 1331.77,1366.12 1331.85,1366.05 1331.93,1365.98 \n",
       "  1332.01,1365.91 1332.1,1365.84 1332.18,1365.77 1332.26,1365.7 1332.34,1365.64 1332.42,1365.57 1332.51,1365.5 1332.59,1365.44 1332.67,1365.37 1332.75,1365.31 \n",
       "  1332.84,1365.24 1332.92,1365.18 1333,1365.12 1333.08,1365.05 1333.17,1364.99 1333.25,1364.93 1333.33,1364.87 1333.41,1364.8 1333.5,1364.74 1333.58,1364.68 \n",
       "  1333.66,1364.62 1333.74,1364.56 1333.83,1364.5 1333.91,1364.45 1333.99,1364.39 1334.07,1364.33 1334.16,1364.27 1334.24,1364.21 1334.32,1364.16 1334.4,1364.1 \n",
       "  1334.49,1364.05 1334.57,1363.99 1334.65,1363.94 1334.73,1363.88 1334.82,1363.83 1334.9,1363.78 1334.98,1363.72 1335.06,1363.67 1335.15,1363.62 1335.23,1363.57 \n",
       "  1335.31,1363.52 1335.39,1363.46 1335.48,1363.41 1335.56,1363.36 1335.64,1363.32 1335.72,1363.27 1335.81,1363.22 1335.89,1363.17 1335.97,1363.12 1336.05,1363.07 \n",
       "  1336.14,1363.03 1336.22,1362.98 1336.3,1362.94 1336.38,1362.89 1336.46,1362.85 1336.55,1362.8 1336.63,1362.76 1336.71,1362.71 1336.79,1362.67 1336.88,1362.63 \n",
       "  1336.96,1362.58 1337.04,1362.54 1337.12,1362.5 1337.21,1362.46 1337.29,1362.42 1337.37,1362.38 1337.45,1362.34 1337.54,1362.3 1337.62,1362.26 1337.7,1362.22 \n",
       "  1337.78,1362.18 1337.87,1362.15 1337.95,1362.11 1338.03,1362.07 1338.11,1362.04 1338.2,1362 1338.28,1361.96 1338.36,1361.93 1338.44,1361.89 1338.53,1361.86 \n",
       "  1338.61,1361.83 1338.69,1361.79 1338.77,1361.76 1338.86,1361.73 1338.94,1361.7 1339.02,1361.66 1339.1,1361.63 1339.19,1361.6 1339.27,1361.57 1339.35,1361.54 \n",
       "  1339.43,1361.51 1339.52,1361.48 1339.6,1361.45 1339.68,1361.43 1339.76,1361.4 1339.85,1361.37 1339.93,1361.34 1340.01,1361.32 1340.09,1361.29 1340.18,1361.26 \n",
       "  1340.26,1361.24 1340.34,1361.21 1340.42,1361.19 1340.51,1361.17 1340.59,1361.14 1340.67,1361.12 1340.75,1361.1 1340.83,1361.07 1340.92,1361.05 1341,1361.03 \n",
       "  1341.08,1361.01 1341.16,1360.99 1341.25,1360.97 1341.33,1360.95 1341.41,1360.93 1341.49,1360.91 1341.58,1360.89 1341.66,1360.87 1341.74,1360.85 1341.82,1360.84 \n",
       "  1341.91,1360.82 1341.99,1360.8 1342.07,1360.79 1342.15,1360.77 1342.24,1360.76 1342.32,1360.74 1342.4,1360.73 1342.48,1360.71 1342.57,1360.7 1342.65,1360.69 \n",
       "  1342.73,1360.67 1342.81,1360.66 1342.9,1360.65 1342.98,1360.64 1343.06,1360.63 1343.14,1360.62 1343.23,1360.61 1343.31,1360.6 1343.39,1360.59 1343.47,1360.58 \n",
       "  1343.56,1360.57 1343.64,1360.56 1343.72,1360.55 1343.8,1360.55 1343.89,1360.54 1343.97,1360.53 1344.05,1360.53 1344.13,1360.52 1344.22,1360.52 1344.3,1360.51 \n",
       "  1344.38,1360.51 1344.46,1360.5 1344.55,1360.5 1344.63,1360.5 1344.71,1360.49 1344.79,1360.49 1344.87,1360.49 1344.96,1360.49 1345.04,1360.49 1345.12,1360.49 \n",
       "  1345.2,1360.49 1345.29,1360.49 1345.37,1360.49 1345.45,1360.49 1345.53,1360.49 1345.62,1360.49 1345.7,1360.49 1345.78,1360.5 1345.86,1360.5 1345.95,1360.5 \n",
       "  1346.03,1360.51 1346.11,1360.51 1346.19,1360.52 1346.28,1360.52 1346.36,1360.53 1346.44,1360.53 1346.52,1360.54 1346.61,1360.55 1346.69,1360.55 1346.77,1360.56 \n",
       "  1346.85,1360.57 1346.94,1360.58 1347.02,1360.59 1347.1,1360.6 1347.18,1360.61 1347.27,1360.62 1347.35,1360.63 1347.43,1360.64 1347.51,1360.65 1347.6,1360.66 \n",
       "  1347.68,1360.67 1347.76,1360.69 1347.84,1360.7 1347.93,1360.71 1348.01,1360.73 1348.09,1360.74 1348.17,1360.76 1348.26,1360.77 1348.34,1360.79 1348.42,1360.8 \n",
       "  1348.5,1360.82 1348.59,1360.84 1348.67,1360.85 1348.75,1360.87 1348.83,1360.89 1348.92,1360.91 1349,1360.93 1349.08,1360.95 1349.16,1360.97 1349.24,1360.99 \n",
       "  1349.33,1361.01 1349.41,1361.03 1349.49,1361.05 1349.57,1361.07 1349.66,1361.1 1349.74,1361.12 1349.82,1361.14 1349.9,1361.17 1349.99,1361.19 1350.07,1361.21 \n",
       "  1350.15,1361.24 1350.23,1361.26 1350.32,1361.29 1350.4,1361.32 1350.48,1361.34 1350.56,1361.37 1350.65,1361.4 1350.73,1361.43 1350.81,1361.45 1350.89,1361.48 \n",
       "  1350.98,1361.51 1351.06,1361.54 1351.14,1361.57 1351.22,1361.6 1351.31,1361.63 1351.39,1361.66 1351.47,1361.7 1351.55,1361.73 1351.64,1361.76 1351.72,1361.79 \n",
       "  1351.8,1361.83 1351.88,1361.86 1351.97,1361.89 1352.05,1361.93 1352.13,1361.96 1352.21,1362 1352.3,1362.04 1352.38,1362.07 1352.46,1362.11 1352.54,1362.15 \n",
       "  1352.63,1362.18 1352.71,1362.22 1352.79,1362.26 1352.87,1362.3 1352.96,1362.34 1353.04,1362.38 1353.12,1362.42 1353.2,1362.46 1353.28,1362.5 1353.37,1362.54 \n",
       "  1353.45,1362.58 1353.53,1362.63 1353.61,1362.67 1353.7,1362.71 1353.78,1362.76 1353.86,1362.8 1353.94,1362.85 1354.03,1362.89 1354.11,1362.94 1354.19,1362.98 \n",
       "  1354.27,1363.03 1354.36,1363.07 1354.44,1363.12 1354.52,1363.17 1354.6,1363.22 1354.69,1363.27 1354.77,1363.32 1354.85,1363.36 1354.93,1363.41 1355.02,1363.46 \n",
       "  1355.1,1363.52 1355.18,1363.57 1355.26,1363.62 1355.35,1363.67 1355.43,1363.72 1355.51,1363.78 1355.59,1363.83 1355.68,1363.88 1355.76,1363.94 1355.84,1363.99 \n",
       "  1355.92,1364.05 1356.01,1364.1 1356.09,1364.16 1356.17,1364.21 1356.25,1364.27 1356.34,1364.33 1356.42,1364.39 1356.5,1364.45 1356.58,1364.5 1356.67,1364.56 \n",
       "  1356.75,1364.62 1356.83,1364.68 1356.91,1364.74 1357,1364.8 1357.08,1364.87 1357.16,1364.93 1357.24,1364.99 1357.33,1365.05 1357.41,1365.12 1357.49,1365.18 \n",
       "  1357.57,1365.24 1357.65,1365.31 1357.74,1365.37 1357.82,1365.44 1357.9,1365.5 1357.98,1365.57 1358.07,1365.64 1358.15,1365.7 1358.23,1365.77 1358.31,1365.84 \n",
       "  1358.4,1365.91 1358.48,1365.98 1358.56,1366.05 1358.64,1366.12 1358.73,1366.19 1358.81,1366.26 1358.89,1366.33 1358.97,1366.4 1359.06,1366.47 1359.14,1366.55 \n",
       "  1359.22,1366.62 1359.3,1366.69 1359.39,1366.77 1359.47,1366.84 1359.55,1366.92 1359.63,1366.99 1359.72,1367.07 1359.8,1367.15 1359.88,1367.22 1359.96,1367.3 \n",
       "  1360.05,1367.38 1360.13,1367.46 1360.21,1367.54 1360.29,1367.61 1360.38,1367.69 1360.46,1367.77 1360.54,1367.86 1360.62,1367.94 1360.71,1368.02 1360.79,1368.1 \n",
       "  1360.87,1368.18 1360.95,1368.27 1361.04,1368.35 1361.12,1368.43 1361.2,1368.52 1361.28,1368.6 1361.37,1368.69 1361.45,1368.77 1361.53,1368.86 1361.61,1368.95 \n",
       "  1361.69,1369.04 1361.78,1369.12 1361.86,1369.21 1361.94,1369.3 1362.02,1369.39 1362.11,1369.48 1362.19,1369.57 1362.27,1369.66 1362.35,1369.75 1362.44,1369.84 \n",
       "  1362.52,1369.94 1362.6,1370.03 1362.68,1370.12 1362.77,1370.22 1362.85,1370.31 1362.93,1370.4 1363.01,1370.5 1363.1,1370.6 1363.18,1370.69 1363.26,1370.79 \n",
       "  1363.34,1370.89 1363.43,1370.98 1363.51,1371.08 1363.59,1371.18 1363.67,1371.28 1363.76,1371.38 1363.84,1371.48 1363.92,1371.58 1364,1371.68 1364.09,1371.78 \n",
       "  1364.17,1371.89 1364.25,1371.99 1364.33,1372.09 1364.42,1372.2 1364.5,1372.3 1364.58,1372.4 1364.66,1372.51 1364.75,1372.62 1364.83,1372.72 1364.91,1372.83 \n",
       "  1364.99,1372.94 1365.08,1373.04 1365.16,1373.15 1365.24,1373.26 1365.32,1373.37 1365.41,1373.48 1365.49,1373.59 1365.57,1373.7 1365.65,1373.81 1365.74,1373.93 \n",
       "  1365.82,1374.04 1365.9,1374.15 1365.98,1374.27 1366.06,1374.38 1366.15,1374.49 1366.23,1374.61 1366.31,1374.73 1366.39,1374.84 1366.48,1374.96 1366.56,1375.08 \n",
       "  1366.64,1375.19 1366.72,1375.31 1366.81,1375.43 1366.89,1375.55 1366.97,1375.67 1367.05,1375.79 1367.14,1375.91 1367.22,1376.03 1367.3,1376.16 1367.38,1376.28 \n",
       "  1367.47,1376.4 1367.55,1376.53 1367.63,1376.65 1367.71,1376.78 1367.8,1376.9 1367.88,1377.03 1367.96,1377.15 1368.04,1377.28 1368.13,1377.41 1368.21,1377.54 \n",
       "  1368.29,1377.67 1368.37,1377.8 1368.46,1377.93 1368.54,1378.06 1368.62,1378.19 1368.7,1378.32 1368.79,1378.45 1368.87,1378.58 1368.95,1378.72 1369.03,1378.85 \n",
       "  1369.12,1378.99 1369.2,1379.12 1369.28,1379.26 1369.36,1379.39 1369.45,1379.53 1369.53,1379.67 1369.61,1379.81 1369.69,1379.94 1369.78,1380.08 1369.86,1380.22 \n",
       "  1369.94,1380.36 1370.02,1380.5 1370.1,1380.65 1370.19,1380.79 1370.27,1380.93 1370.35,1381.07 1370.43,1381.22 1370.52,1381.36 1370.6,1381.51 1370.68,1381.65 \n",
       "  1370.76,1381.8 1370.85,1381.95 1370.93,1382.09 1371.01,1382.24 1371.09,1382.39 1371.18,1382.54 1371.26,1382.69 1371.34,1382.84 1371.42,1382.99 1371.51,1383.14 \n",
       "  1371.59,1383.3 1371.67,1383.45 1371.75,1383.6 1371.84,1383.76 1371.92,1383.91 1372,1384.07 1372.08,1384.22 1372.17,1384.38 1372.25,1384.54 1372.33,1384.7 \n",
       "  1372.41,1384.86 1372.5,1385.02 1372.58,1385.18 1372.66,1385.34 1372.74,1385.5 1372.83,1385.66 1372.91,1385.82 1372.99,1385.98 1373.07,1386.15 1373.16,1386.31 \n",
       "  1373.24,1386.48 1373.32,1386.64 1373.4,1386.81 1373.49,1386.98 1373.57,1387.15 1373.65,1387.31 1373.73,1387.48 1373.82,1387.65 1373.9,1387.82 1373.98,1387.99 \n",
       "  1374.06,1388.17 1374.15,1388.34 1374.23,1388.51 1374.31,1388.69 1374.39,1388.86 1374.47,1389.04 1374.56,1389.21 1374.64,1389.39 1374.72,1389.57 1374.8,1389.74 \n",
       "  1374.89,1389.92 1374.97,1390.1 1375.05,1390.28 1375.13,1390.46 1375.22,1390.64 1375.3,1390.83 1375.38,1391.01 1375.46,1391.19 1375.55,1391.38 1375.63,1391.56 \n",
       "  1375.71,1391.75 1375.79,1391.93 1375.88,1392.12 1375.96,1392.31 1376.04,1392.5 1376.12,1392.69 1376.21,1392.88 1376.29,1393.07 1376.37,1393.26 1376.45,1393.45 \n",
       "  1376.54,1393.65 1376.62,1393.84 1376.7,1394.03 1376.78,1394.23 1376.87,1394.43 1376.95,1394.62 1377.03,1394.82 1377.11,1395.02 1377.2,1395.22 1377.28,1395.42 \n",
       "  1377.36,1395.62 1377.44,1395.82 1377.53,1396.02 1377.61,1396.22 1377.69,1396.43 1377.77,1396.63 1377.86,1396.84 1377.94,1397.04 1378.02,1397.25 1378.1,1397.46 \n",
       "  1378.19,1397.67 1378.27,1397.88 1378.35,1398.09 1378.43,1398.3 1378.51,1398.51 1378.6,1398.72 1378.68,1398.94 1378.76,1399.15 1378.84,1399.36 1378.93,1399.58 \n",
       "  1379.01,1399.8 1379.09,1400.01 1379.17,1400.23 1379.26,1400.45 1379.34,1400.67 1379.42,1400.89 1379.5,1401.11 1379.59,1401.34 1379.67,1401.56 1379.75,1401.78 \n",
       "  1379.83,1402.01 1379.92,1402.24 1380,1402.46 1380.08,1402.69 1380.16,1402.92 1380.25,1403.15 1380.33,1403.38 1380.41,1403.61 1380.49,1403.84 1380.58,1404.08 \n",
       "  1380.66,1404.31 1380.74,1404.54 1380.82,1404.78 1380.91,1405.02 1380.99,1405.25 1381.07,1405.49 1381.15,1405.73 1381.24,1405.97 1381.32,1406.21 1381.4,1406.46 \n",
       "  1381.48,1406.7 1381.57,1406.94 1381.65,1407.19 1381.73,1407.43 1381.81,1407.68 1381.9,1407.93 1381.98,1408.18 1382.06,1408.43 1382.14,1408.68 1382.23,1408.93 \n",
       "  1382.31,1409.18 1382.39,1409.44 1382.47,1409.69 1382.56,1409.95 1382.64,1410.2 1382.72,1410.46 1382.8,1410.72 1382.88,1410.98 1382.97,1411.24 1383.05,1411.5 \n",
       "  1383.13,1411.76 1383.21,1412.03 1383.3,1412.29 1383.38,1412.56 1383.46,1412.83 1383.54,1413.09 1383.63,1413.36 1383.71,1413.63 1383.79,1413.9 1383.87,1414.18 \n",
       "  1383.96,1414.45 1384.04,1414.72 1384.12,1415 1384.2,1415.28 1384.29,1415.55 1384.37,1415.83 1384.45,1416.11 1384.53,1416.39 1384.62,1416.68 1384.7,1416.96 \n",
       "  1384.78,1417.24 1384.86,1417.53 1384.95,1417.82 1385.03,1418.1 1385.11,1418.39 1385.19,1418.68 1385.28,1418.97 1385.36,1419.27 1385.44,1419.56 1385.52,1419.86 \n",
       "  1385.61,1420.15 1385.69,1420.45 1385.77,1420.75 1385.85,1421.05 1385.94,1421.35 1386.02,1421.65 1386.1,1421.95 1386.18,1422.26 1386.27,1422.56 1386.35,1422.87 \n",
       "  1386.43,1423.18 1386.51,1422.84 1386.6,1422.5 1386.68,1422.16 1386.76,1421.83 1386.84,1421.49 1386.92,1421.16 1387.01,1420.83 1387.09,1420.5 1387.17,1420.17 \n",
       "  1387.25,1419.84 1387.34,1419.52 1387.42,1419.19 1387.5,1418.87 1387.58,1418.55 1387.67,1418.23 1387.75,1417.91 1387.83,1417.59 1387.91,1417.27 1388,1416.96 \n",
       "  1388.08,1416.64 1388.16,1416.33 1388.24,1416.02 1388.33,1415.71 1388.41,1415.4 1388.49,1415.09 1388.57,1414.79 1388.66,1414.48 1388.74,1414.18 1388.82,1413.88 \n",
       "  1388.9,1413.58 1388.99,1413.28 1389.07,1412.98 1389.15,1412.68 1389.23,1412.38 1389.32,1412.09 1389.4,1411.79 1389.48,1411.5 1389.56,1411.21 1389.65,1410.92 \n",
       "  1389.73,1410.63 1389.81,1410.34 1389.89,1410.06 1389.98,1409.77 1390.06,1409.49 1390.14,1409.2 1390.22,1408.92 1390.31,1408.64 1390.39,1408.36 1390.47,1408.08 \n",
       "  1390.55,1407.8 1390.64,1407.53 1390.72,1407.25 1390.8,1406.98 1390.88,1406.71 1390.97,1406.43 1391.05,1406.16 1391.13,1405.89 1391.21,1405.62 1391.29,1405.36 \n",
       "  1391.38,1405.09 1391.46,1404.82 1391.54,1404.56 1391.62,1404.3 1391.71,1404.03 1391.79,1403.77 1391.87,1403.51 1391.95,1403.25 1392.04,1402.99 1392.12,1402.74 \n",
       "  1392.2,1402.48 1392.28,1402.23 1392.37,1401.97 1392.45,1401.72 1392.53,1401.47 1392.61,1401.21 1392.7,1400.96 1392.78,1400.71 1392.86,1400.47 1392.94,1400.22 \n",
       "  1393.03,1399.97 1393.11,1399.73 1393.19,1399.48 1393.27,1399.24 1393.36,1399 1393.44,1398.76 1393.52,1398.52 1393.6,1398.28 1393.69,1398.04 1393.77,1397.8 \n",
       "  1393.85,1397.56 1393.93,1397.33 1394.02,1397.09 1394.1,1396.86 1394.18,1396.62 1394.26,1396.39 1394.35,1396.16 1394.43,1395.93 1394.51,1395.7 1394.59,1395.47 \n",
       "  1394.68,1395.24 1394.76,1395.02 1394.84,1394.79 1394.92,1394.57 1395.01,1394.34 1395.09,1394.12 1395.17,1393.9 1395.25,1393.68 1395.33,1393.45 1395.42,1393.23 \n",
       "  1395.5,1393.02 1395.58,1392.8 1395.66,1392.58 1395.75,1392.36 1395.83,1392.15 1395.91,1391.93 1395.99,1391.72 1396.08,1391.51 1396.16,1391.29 1396.24,1391.08 \n",
       "  1396.32,1390.87 1396.41,1390.66 1396.49,1390.45 1396.57,1390.25 1396.65,1390.04 1396.74,1389.83 1396.82,1389.63 1396.9,1389.42 1396.98,1389.22 1397.07,1389.01 \n",
       "  1397.15,1388.81 1397.23,1388.61 1397.31,1388.41 1397.4,1388.21 1397.48,1388.01 1397.56,1387.81 1397.64,1387.61 1397.73,1387.42 1397.81,1387.22 1397.89,1387.03 \n",
       "  1397.97,1386.83 1398.06,1386.64 1398.14,1386.44 1398.22,1386.25 1398.3,1386.06 1398.39,1385.87 1398.47,1385.68 1398.55,1385.49 1398.63,1385.3 1398.72,1385.11 \n",
       "  1398.8,1384.93 1398.88,1384.74 1398.96,1384.56 1399.05,1384.37 1399.13,1384.19 1399.21,1384 1399.29,1383.82 1399.38,1383.64 1399.46,1383.46 1399.54,1383.28 \n",
       "  1399.62,1383.1 1399.7,1382.92 1399.79,1382.74 1399.87,1382.56 1399.95,1382.39 1400.03,1382.21 1400.12,1382.03 1400.2,1381.86 1400.28,1381.69 1400.36,1381.51 \n",
       "  1400.45,1381.34 1400.53,1381.17 1400.61,1381 1400.69,1380.83 1400.78,1380.66 1400.86,1380.49 1400.94,1380.32 1401.02,1380.15 1401.11,1379.98 1401.19,1379.82 \n",
       "  1401.27,1379.65 1401.35,1379.49 1401.44,1379.32 1401.52,1379.16 1401.6,1379 1401.68,1378.83 1401.77,1378.67 1401.85,1378.51 1401.93,1378.35 1402.01,1378.19 \n",
       "  1402.1,1378.03 1402.18,1377.87 1402.26,1377.72 1402.34,1377.56 1402.43,1377.4 1402.51,1377.25 1402.59,1377.09 1402.67,1376.94 1402.76,1376.78 1402.84,1376.63 \n",
       "  1402.92,1376.48 1403,1376.32 1403.09,1376.17 1403.17,1376.02 1403.25,1375.87 1403.33,1375.72 1403.42,1375.57 1403.5,1375.43 1403.58,1375.28 1403.66,1375.13 \n",
       "  1403.74,1374.99 1403.83,1374.84 1403.91,1374.7 1403.99,1374.55 1404.07,1374.41 1404.16,1374.26 1404.24,1374.12 1404.32,1373.98 1404.4,1373.84 1404.49,1373.7 \n",
       "  1404.57,1373.56 1404.65,1373.42 1404.73,1373.28 1404.82,1373.14 1404.9,1373 1404.98,1372.87 1405.06,1372.73 1405.15,1372.6 1405.23,1372.46 1405.31,1372.33 \n",
       "  1405.39,1372.19 1405.48,1372.06 1405.56,1371.93 1405.64,1371.79 1405.72,1371.66 1405.81,1371.53 1405.89,1371.4 1405.97,1371.27 1406.05,1371.14 1406.14,1371.01 \n",
       "  1406.22,1370.88 1406.3,1370.76 1406.38,1370.63 1406.47,1370.5 1406.55,1370.38 1406.63,1370.25 1406.71,1370.13 1406.8,1370 1406.88,1369.88 1406.96,1369.76 \n",
       "  1407.04,1369.63 1407.13,1369.51 1407.21,1369.39 1407.29,1369.27 1407.37,1369.15 1407.46,1369.03 1407.54,1368.91 1407.62,1368.79 1407.7,1368.68 1407.79,1368.56 \n",
       "  1407.87,1368.44 1407.95,1368.33 1408.03,1368.21 1408.11,1368.1 1408.2,1367.98 1408.28,1367.87 1408.36,1367.75 1408.44,1367.64 1408.53,1367.53 1408.61,1367.42 \n",
       "  1408.69,1367.31 1408.77,1367.2 1408.86,1367.09 1408.94,1366.98 1409.02,1366.87 1409.1,1366.76 1409.19,1366.65 1409.27,1366.54 1409.35,1366.44 1409.43,1366.33 \n",
       "  1409.52,1366.23 1409.6,1366.12 1409.68,1366.02 1409.76,1365.91 1409.85,1365.81 1409.93,1365.7 1410.01,1365.6 1410.09,1365.5 1410.18,1365.4 1410.26,1365.3 \n",
       "  1410.34,1365.2 1410.42,1365.1 1410.51,1365 1410.59,1364.9 1410.67,1364.8 1410.75,1364.7 1410.84,1364.61 1410.92,1364.51 1411,1364.41 1411.08,1364.32 \n",
       "  1411.17,1364.22 1411.25,1364.13 1411.33,1364.03 1411.41,1363.94 1411.5,1363.85 1411.58,1363.75 1411.66,1363.66 1411.74,1363.57 1411.83,1363.48 1411.91,1363.39 \n",
       "  1411.99,1363.3 1412.07,1363.21 1412.15,1363.12 1412.24,1363.03 1412.32,1362.95 1412.4,1362.86 1412.48,1362.77 1412.57,1362.68 1412.65,1362.6 1412.73,1362.51 \n",
       "  1412.81,1362.43 1412.9,1362.34 1412.98,1362.26 1413.06,1362.18 1413.14,1362.09 1413.23,1362.01 1413.31,1361.93 1413.39,1361.85 1413.47,1361.77 1413.56,1361.69 \n",
       "  1413.64,1361.61 1413.72,1361.53 1413.8,1361.45 1413.89,1361.37 1413.97,1361.29 1414.05,1361.22 1414.13,1361.14 1414.22,1361.06 1414.3,1360.99 1414.38,1360.91 \n",
       "  1414.46,1360.84 1414.55,1360.76 1414.63,1360.69 1414.71,1360.61 1414.79,1360.54 1414.88,1360.47 1414.96,1360.4 1415.04,1360.33 1415.12,1360.25 1415.21,1360.18 \n",
       "  1415.29,1360.11 1415.37,1360.04 1415.45,1359.98 1415.54,1359.91 1415.62,1359.84 1415.7,1359.77 1415.78,1359.7 1415.87,1359.64 1415.95,1359.57 1416.03,1359.51 \n",
       "  1416.11,1359.44 1416.2,1359.38 1416.28,1359.31 1416.36,1359.25 1416.44,1359.18 1416.52,1359.12 1416.61,1359.06 1416.69,1359 1416.77,1358.94 1416.85,1358.87 \n",
       "  1416.94,1358.81 1417.02,1358.75 1417.1,1358.7 1417.18,1358.64 1417.27,1358.58 1417.35,1358.52 1417.43,1358.46 1417.51,1358.4 1417.6,1358.35 1417.68,1358.29 \n",
       "  1417.76,1358.24 1417.84,1358.18 1417.93,1358.13 1418.01,1358.07 1418.09,1358.02 1418.17,1357.97 1418.26,1357.91 1418.34,1357.86 1418.42,1357.81 1418.5,1357.76 \n",
       "  1418.59,1357.71 1418.67,1357.65 1418.75,1357.6 1418.83,1357.56 1418.92,1357.51 1419,1357.46 1419.08,1357.41 1419.16,1357.36 1419.25,1357.31 1419.33,1357.27 \n",
       "  1419.41,1357.22 1419.49,1357.18 1419.58,1357.13 1419.66,1357.08 1419.74,1357.04 1419.82,1357 1419.91,1356.95 1419.99,1356.91 1420.07,1356.87 1420.15,1356.82 \n",
       "  1420.24,1356.78 1420.32,1356.74 1420.4,1356.7 1420.48,1356.66 1420.56,1356.62 1420.65,1356.58 1420.73,1356.54 1420.81,1356.5 1420.89,1356.47 1420.98,1356.43 \n",
       "  1421.06,1356.39 1421.14,1356.35 1421.22,1356.32 1421.31,1356.28 1421.39,1356.25 1421.47,1356.21 1421.55,1356.18 1421.64,1356.14 1421.72,1356.11 1421.8,1356.08 \n",
       "  1421.88,1356.04 1421.97,1356.01 1422.05,1355.98 1422.13,1355.95 1422.21,1355.92 1422.3,1355.89 1422.38,1355.86 1422.46,1355.83 1422.54,1355.8 1422.63,1355.77 \n",
       "  1422.71,1355.74 1422.79,1355.72 1422.87,1355.69 1422.96,1355.66 1423.04,1355.64 1423.12,1355.61 1423.2,1355.59 1423.29,1355.56 1423.37,1355.54 1423.45,1355.51 \n",
       "  1423.53,1355.49 1423.62,1355.47 1423.7,1355.44 1423.78,1355.42 1423.86,1355.4 1423.95,1355.38 1424.03,1355.36 1424.11,1355.34 1424.19,1355.32 1424.28,1355.3 \n",
       "  1424.36,1355.28 1424.44,1355.26 1424.52,1355.24 1424.61,1355.22 1424.69,1355.21 1424.77,1355.19 1424.85,1355.17 1424.93,1355.16 1425.02,1355.14 1425.1,1355.13 \n",
       "  1425.18,1355.11 1425.26,1355.1 1425.35,1355.08 1425.43,1355.07 1425.51,1355.06 1425.59,1355.05 1425.68,1355.03 1425.76,1355.02 1425.84,1355.01 1425.92,1355 \n",
       "  1426.01,1354.99 1426.09,1354.98 1426.17,1354.97 1426.25,1354.96 1426.34,1354.96 1426.42,1354.95 1426.5,1354.94 1426.58,1354.93 1426.67,1354.93 1426.75,1354.92 \n",
       "  1426.83,1354.91 1426.91,1354.91 1427,1354.9 1427.08,1354.9 1427.16,1354.9 1427.24,1354.89 1427.33,1354.89 1427.41,1354.89 1427.49,1354.89 1427.57,1354.88 \n",
       "  1427.66,1354.88 1427.74,1354.88 1427.82,1354.88 1427.9,1354.88 1427.99,1354.88 1428.07,1354.88 1428.15,1354.89 1428.23,1354.89 1428.32,1354.89 1428.4,1354.89 \n",
       "  1428.48,1354.9 1428.56,1354.9 1428.65,1354.9 1428.73,1354.91 1428.81,1354.91 1428.89,1354.92 1428.97,1354.93 1429.06,1354.93 1429.14,1354.94 1429.22,1354.95 \n",
       "  1429.3,1354.95 1429.39,1354.96 1429.47,1354.97 1429.55,1354.98 1429.63,1354.99 1429.72,1355 1429.8,1355.01 1429.88,1355.02 1429.96,1355.03 1430.05,1355.05 \n",
       "  1430.13,1355.06 1430.21,1355.07 1430.29,1355.08 1430.38,1355.1 1430.46,1355.11 1430.54,1355.13 1430.62,1355.14 1430.71,1355.16 1430.79,1355.17 1430.87,1355.19 \n",
       "  1430.95,1355.21 1431.04,1355.22 1431.12,1355.24 1431.2,1355.26 1431.28,1355.28 1431.37,1355.3 1431.45,1355.32 1431.53,1355.34 1431.61,1355.36 1431.7,1355.38 \n",
       "  1431.78,1355.4 1431.86,1355.42 1431.94,1355.44 1432.03,1355.46 1432.11,1355.49 1432.19,1355.51 1432.27,1355.54 1432.36,1355.56 1432.44,1355.58 1432.52,1355.61 \n",
       "  1432.6,1355.64 1432.69,1355.66 1432.77,1355.69 1432.85,1355.72 1432.93,1355.74 1433.02,1355.77 1433.1,1355.8 1433.18,1355.83 1433.26,1355.86 1433.34,1355.89 \n",
       "  1433.43,1355.92 1433.51,1355.95 1433.59,1355.98 1433.67,1356.01 1433.76,1356.05 1433.84,1356.08 1433.92,1356.11 1434,1356.14 1434.09,1356.18 1434.17,1356.21 \n",
       "  1434.25,1356.25 1434.33,1356.28 1434.42,1356.32 1434.5,1356.36 1434.58,1356.39 1434.66,1356.43 1434.75,1356.47 1434.83,1356.51 1434.91,1356.54 1434.99,1356.58 \n",
       "  1435.08,1356.62 1435.16,1356.66 1435.24,1356.7 1435.32,1356.74 1435.41,1356.79 1435.49,1356.83 1435.57,1356.87 1435.65,1356.91 1435.74,1356.96 1435.82,1357 \n",
       "  1435.9,1357.04 1435.98,1357.09 1436.07,1357.13 1436.15,1357.18 1436.23,1357.23 1436.31,1357.27 1436.4,1357.32 1436.48,1357.37 1436.56,1357.41 1436.64,1357.46 \n",
       "  1436.73,1357.51 1436.81,1357.56 1436.89,1357.61 1436.97,1357.66 1437.06,1357.71 1437.14,1357.76 1437.22,1357.81 1437.3,1357.87 1437.38,1357.92 1437.47,1357.97 \n",
       "  1437.55,1358.03 1437.63,1358.08 1437.71,1358.14 1437.8,1358.19 1437.88,1358.25 1437.96,1358.3 1438.04,1358.36 1438.13,1358.42 1438.21,1358.47 1438.29,1358.53 \n",
       "  1438.37,1358.59 1438.46,1358.65 1438.54,1358.71 1438.62,1358.77 1438.7,1358.83 1438.79,1358.89 1438.87,1358.95 1438.95,1359.01 1439.03,1359.07 1439.12,1359.14 \n",
       "  1439.2,1359.2 1439.28,1359.26 1439.36,1359.33 1439.45,1359.39 1439.53,1359.46 1439.61,1359.52 1439.69,1359.59 1439.78,1359.65 1439.86,1359.72 1439.94,1359.79 \n",
       "  1440.02,1359.86 1440.11,1359.93 1440.19,1359.99 1440.27,1360.06 1440.35,1360.13 1440.44,1360.2 1440.52,1360.28 1440.6,1360.35 1440.68,1360.42 1440.77,1360.49 \n",
       "  1440.85,1360.56 1440.93,1360.64 1441.01,1360.71 1441.1,1360.79 1441.18,1360.86 1441.26,1360.94 1441.34,1361.01 1441.43,1361.09 1441.51,1361.17 1441.59,1361.24 \n",
       "  1441.67,1361.32 1441.75,1361.4 1441.84,1361.48 1441.92,1361.56 1442,1361.64 1442.08,1361.72 1442.17,1361.8 1442.25,1361.88 1442.33,1361.96 1442.41,1362.05 \n",
       "  1442.5,1362.13 1442.58,1362.21 1442.66,1362.3 1442.74,1362.38 1442.83,1362.47 1442.91,1362.55 1442.99,1362.64 1443.07,1362.73 1443.16,1362.81 1443.24,1362.9 \n",
       "  1443.32,1362.99 1443.4,1363.08 1443.49,1363.17 1443.57,1363.26 1443.65,1363.35 1443.73,1363.44 1443.82,1363.53 1443.9,1363.62 1443.98,1363.71 1444.06,1363.81 \n",
       "  1444.15,1363.9 1444.23,1363.99 1444.31,1364.09 1444.39,1364.18 1444.48,1364.28 1444.56,1364.37 1444.64,1364.47 1444.72,1364.57 1444.81,1364.67 1444.89,1364.76 \n",
       "  1444.97,1364.86 1445.05,1364.96 1445.14,1365.06 1445.22,1365.16 1445.3,1365.26 1445.38,1365.36 1445.47,1365.47 1445.55,1365.57 1445.63,1365.67 1445.71,1365.77 \n",
       "  1445.79,1365.88 1445.88,1365.98 1445.96,1366.09 1446.04,1366.19 1446.12,1366.3 1446.21,1366.41 1446.29,1366.51 1446.37,1366.62 1446.45,1366.73 1446.54,1366.84 \n",
       "  1446.62,1366.95 1446.7,1367.06 1446.78,1367.17 1446.87,1367.28 1446.95,1367.39 1447.03,1367.51 1447.11,1367.62 1447.2,1367.73 1447.28,1367.85 1447.36,1367.96 \n",
       "  1447.44,1368.08 1447.53,1368.19 1447.61,1368.31 1447.69,1368.43 1447.77,1368.54 1447.86,1368.66 1447.94,1368.78 1448.02,1368.9 1448.1,1369.02 1448.19,1369.14 \n",
       "  1448.27,1369.26 1448.35,1369.38 1448.43,1369.5 1448.52,1369.63 1448.6,1369.75 1448.68,1369.87 1448.76,1370 1448.85,1370.12 1448.93,1370.25 1449.01,1370.38 \n",
       "  1449.09,1370.5 1449.18,1370.63 1449.26,1370.76 1449.34,1370.89 1449.42,1371.02 1449.51,1371.15 1449.59,1371.28 1449.67,1371.41 1449.75,1371.54 1449.84,1371.67 \n",
       "  1449.92,1371.8 1450,1371.94 1450.08,1372.07 1450.16,1372.21 1450.25,1372.34 1450.33,1372.48 1450.41,1372.61 1450.49,1372.75 1450.58,1372.89 1450.66,1373.03 \n",
       "  1450.74,1373.16 1450.82,1373.3 1450.91,1373.44 1450.99,1373.59 1451.07,1373.73 1451.15,1373.87 1451.24,1374.01 1451.32,1374.15 1451.4,1374.3 1451.48,1374.44 \n",
       "  1451.57,1374.59 1451.65,1374.73 1451.73,1374.88 1451.81,1375.03 1451.9,1375.18 1451.98,1375.32 1452.06,1375.47 1452.14,1375.62 1452.23,1375.77 1452.31,1375.92 \n",
       "  1452.39,1376.08 1452.47,1376.23 1452.56,1376.38 1452.64,1376.53 1452.72,1376.69 1452.8,1376.84 1452.89,1377 1452.97,1377.16 1453.05,1377.31 1453.13,1377.47 \n",
       "  1453.22,1377.63 1453.3,1377.79 1453.38,1377.95 1453.46,1378.11 1453.55,1378.27 1453.63,1378.43 1453.71,1378.59 1453.79,1378.76 1453.88,1378.92 1453.96,1379.08 \n",
       "  1454.04,1379.25 1454.12,1379.41 1454.2,1379.58 1454.29,1379.75 1454.37,1379.92 1454.45,1380.08 1454.53,1380.25 1454.62,1380.42 1454.7,1380.59 1454.78,1380.77 \n",
       "  1454.86,1380.94 1454.95,1381.11 1455.03,1381.28 1455.11,1381.46 1455.19,1381.63 1455.28,1381.81 1455.36,1381.99 1455.44,1382.16 1455.52,1382.34 1455.61,1382.52 \n",
       "  1455.69,1382.7 1455.77,1382.88 1455.85,1383.06 1455.94,1383.24 1456.02,1383.42 1456.1,1383.61 1456.18,1383.79 1456.27,1383.97 1456.35,1384.16 1456.43,1384.35 \n",
       "  1456.51,1384.53 1456.6,1384.72 1456.68,1384.91 1456.76,1385.1 1456.84,1385.29 1456.93,1385.48 1457.01,1385.67 1457.09,1385.86 1457.17,1386.06 1457.26,1386.25 \n",
       "  1457.34,1386.44 1457.42,1386.64 1457.5,1386.83 1457.59,1387.03 1457.67,1387.23 1457.75,1387.43 1457.83,1387.63 1457.92,1387.83 1458,1388.03 1458.08,1388.23 \n",
       "  1458.16,1388.43 1458.25,1388.64 1458.33,1388.84 1458.41,1389.05 1458.49,1389.25 1458.57,1389.46 1458.66,1389.67 1458.74,1389.87 1458.82,1390.08 1458.9,1390.29 \n",
       "  1458.99,1390.5 1459.07,1390.72 1459.15,1390.93 1459.23,1391.14 1459.32,1391.36 1459.4,1391.57 1459.48,1391.79 1459.56,1392 1459.65,1392.22 1459.73,1392.44 \n",
       "  1459.81,1392.66 1459.89,1392.88 1459.98,1393.1 1460.06,1393.32 1460.14,1393.55 1460.22,1393.77 1460.31,1393.99 1460.39,1394.22 1460.47,1394.45 1460.55,1394.67 \n",
       "  1460.64,1394.9 1460.72,1395.13 1460.8,1395.36 1460.88,1395.59 1460.97,1395.83 1461.05,1396.06 1461.13,1396.29 1461.21,1396.53 1461.3,1396.76 1461.38,1397 \n",
       "  1461.46,1397.24 1461.54,1397.48 1461.63,1397.72 1461.71,1397.96 1461.79,1398.2 1461.87,1398.44 1461.96,1398.69 1462.04,1398.93 1462.12,1399.18 1462.2,1399.42 \n",
       "  1462.29,1399.67 1462.37,1399.92 1462.45,1400.17 1462.53,1400.42 1462.61,1400.67 1462.7,1400.92 1462.78,1401.18 1462.86,1401.43 1462.94,1401.69 1463.03,1401.94 \n",
       "  1463.11,1402.2 1463.19,1402.46 1463.27,1402.72 1463.36,1402.98 1463.44,1403.24 1463.52,1403.51 1463.6,1403.77 1463.69,1404.03 1463.77,1404.3 1463.85,1404.57 \n",
       "  1463.93,1404.84 1464.02,1405.11 1464.1,1405.38 1464.18,1405.65 1464.26,1405.92 1464.35,1406.2 1464.43,1406.47 1464.51,1406.75 1464.59,1407.02 1464.68,1407.3 \n",
       "  1464.76,1407.58 1464.84,1407.86 1464.92,1408.15 1465.01,1408.43 1465.09,1408.71 1465.17,1409 1465.25,1409.29 1465.34,1409.57 1465.42,1409.86 1465.5,1410.15 \n",
       "  1465.58,1410.44 1465.67,1410.74 1465.75,1411.03 1465.83,1411.33 1465.91,1411.62 1466,1411.92 1466.08,1412.22 1466.16,1412.52 1466.24,1412.82 1466.33,1413.12 \n",
       "  1466.41,1413.43 1466.49,1413.73 1466.57,1414.04 1466.66,1414.35 1466.74,1414.66 1466.82,1414.97 1466.9,1415.28 1466.98,1415.59 1467.07,1415.91 1467.15,1416.22 \n",
       "  1467.23,1416.54 1467.31,1416.86 1467.4,1417.18 1467.48,1417.5 1467.56,1417.82 1467.64,1418.15 1467.73,1418.47 1467.81,1418.8 1467.89,1419.13 1467.97,1419.46 \n",
       "  1468.06,1419.79 1468.14,1420.12 1468.22,1420.45 1468.3,1420.79 1468.39,1421.13 1468.47,1421.46 1468.55,1421.8 1468.63,1422.15 1468.72,1422.49 1468.8,1422.83 \n",
       "  1468.88,1423.18 1468.96,1422.77 1469.05,1422.36 1469.13,1421.96 1469.21,1421.55 1469.29,1421.15 1469.38,1420.75 1469.46,1420.35 1469.54,1419.95 1469.62,1419.56 \n",
       "  1469.71,1419.17 1469.79,1418.77 1469.87,1418.38 1469.95,1418 1470.04,1417.61 1470.12,1417.23 1470.2,1416.85 1470.28,1416.47 1470.37,1416.09 1470.45,1415.71 \n",
       "  1470.53,1415.33 1470.61,1414.96 1470.7,1414.59 1470.78,1414.22 1470.86,1413.85 1470.94,1413.48 1471.02,1413.12 1471.11,1412.75 1471.19,1412.39 1471.27,1412.03 \n",
       "  1471.35,1411.67 1471.44,1411.32 1471.52,1410.96 1471.6,1410.61 1471.68,1410.25 1471.77,1409.9 1471.85,1409.55 1471.93,1409.21 1472.01,1408.86 1472.1,1408.52 \n",
       "  1472.18,1408.17 1472.26,1407.83 1472.34,1407.49 1472.43,1407.15 1472.51,1406.81 1472.59,1406.48 1472.67,1406.14 1472.76,1405.81 1472.84,1405.48 1472.92,1405.15 \n",
       "  1473,1404.82 1473.09,1404.49 1473.17,1404.17 1473.25,1403.84 1473.33,1403.52 1473.42,1403.2 1473.5,1402.88 1473.58,1402.56 1473.66,1402.24 1473.75,1401.93 \n",
       "  1473.83,1401.61 1473.91,1401.3 1473.99,1400.99 1474.08,1400.68 1474.16,1400.37 1474.24,1400.06 1474.32,1399.75 1474.41,1399.45 1474.49,1399.14 1474.57,1398.84 \n",
       "  1474.65,1398.54 1474.74,1398.24 1474.82,1397.94 1474.9,1397.64 1474.98,1397.34 1475.07,1397.05 1475.15,1396.75 1475.23,1396.46 1475.31,1396.17 1475.39,1395.88 \n",
       "  1475.48,1395.59 1475.56,1395.3 1475.64,1395.01 1475.72,1394.72 1475.81,1394.44 1475.89,1394.16 1475.97,1393.87 1476.05,1393.59 1476.14,1393.31 1476.22,1393.03 \n",
       "  1476.3,1392.76 1476.38,1392.48 1476.47,1392.2 1476.55,1391.93 1476.63,1391.66 1476.71,1391.38 1476.8,1391.11 1476.88,1390.84 1476.96,1390.57 1477.04,1390.31 \n",
       "  1477.13,1390.04 1477.21,1389.77 1477.29,1389.51 1477.37,1389.25 1477.46,1388.98 1477.54,1388.72 1477.62,1388.46 1477.7,1388.2 1477.79,1387.95 1477.87,1387.69 \n",
       "  1477.95,1387.43 1478.03,1387.18 1478.12,1386.92 1478.2,1386.67 1478.28,1386.42 1478.36,1386.17 1478.45,1385.92 1478.53,1385.67 1478.61,1385.42 1478.69,1385.18 \n",
       "  1478.78,1384.93 1478.86,1384.68 1478.94,1384.44 1479.02,1384.2 1479.11,1383.96 1479.19,1383.72 1479.27,1383.48 1479.35,1383.24 1479.43,1383 1479.52,1382.76 \n",
       "  1479.6,1382.53 1479.68,1382.29 1479.76,1382.06 1479.85,1381.82 1479.93,1381.59 1480.01,1381.36 1480.09,1381.13 1480.18,1380.9 1480.26,1380.67 1480.34,1380.44 \n",
       "  1480.42,1380.22 1480.51,1379.99 1480.59,1379.77 1480.67,1379.54 1480.75,1379.32 1480.84,1379.1 1480.92,1378.88 1481,1378.66 1481.08,1378.44 1481.17,1378.22 \n",
       "  1481.25,1378 1481.33,1377.78 1481.41,1377.57 1481.5,1377.35 1481.58,1377.14 1481.66,1376.92 1481.74,1376.71 1481.83,1376.5 1481.91,1376.29 1481.99,1376.08 \n",
       "  1482.07,1375.87 1482.16,1375.66 1482.24,1375.46 1482.32,1375.25 1482.4,1375.04 1482.49,1374.84 1482.57,1374.64 1482.65,1374.43 1482.73,1374.23 1482.82,1374.03 \n",
       "  1482.9,1373.83 1482.98,1373.63 1483.06,1373.43 1483.15,1373.23 1483.23,1373.03 1483.31,1372.84 1483.39,1372.64 1483.48,1372.45 1483.56,1372.25 1483.64,1372.06 \n",
       "  1483.72,1371.87 1483.8,1371.67 1483.89,1371.48 1483.97,1371.29 1484.05,1371.1 1484.13,1370.92 1484.22,1370.73 1484.3,1370.54 1484.38,1370.35 1484.46,1370.17 \n",
       "  1484.55,1369.98 1484.63,1369.8 1484.71,1369.62 1484.79,1369.43 1484.88,1369.25 1484.96,1369.07 1485.04,1368.89 1485.12,1368.71 1485.21,1368.53 1485.29,1368.36 \n",
       "  1485.37,1368.18 1485.45,1368 1485.54,1367.83 1485.62,1367.65 1485.7,1367.48 1485.78,1367.3 1485.87,1367.13 1485.95,1366.96 1486.03,1366.79 1486.11,1366.62 \n",
       "  1486.2,1366.45 1486.28,1366.28 1486.36,1366.11 1486.44,1365.94 1486.53,1365.78 1486.61,1365.61 1486.69,1365.45 1486.77,1365.28 1486.86,1365.12 1486.94,1364.95 \n",
       "  1487.02,1364.79 1487.1,1364.63 1487.19,1364.47 1487.27,1364.31 1487.35,1364.15 1487.43,1363.99 1487.52,1363.83 1487.6,1363.67 1487.68,1363.52 1487.76,1363.36 \n",
       "  1487.84,1363.2 1487.93,1363.05 1488.01,1362.89 1488.09,1362.74 1488.17,1362.59 1488.26,1362.44 1488.34,1362.28 1488.42,1362.13 1488.5,1361.98 1488.59,1361.83 \n",
       "  1488.67,1361.68 1488.75,1361.54 1488.83,1361.39 1488.92,1361.24 1489,1361.1 1489.08,1360.95 1489.16,1360.81 1489.25,1360.66 1489.33,1360.52 1489.41,1360.38 \n",
       "  1489.49,1360.23 1489.58,1360.09 1489.66,1359.95 1489.74,1359.81 1489.82,1359.67 1489.91,1359.53 1489.99,1359.39 1490.07,1359.26 1490.15,1359.12 1490.24,1358.98 \n",
       "  1490.32,1358.85 1490.4,1358.71 1490.48,1358.58 1490.57,1358.44 1490.65,1358.31 1490.73,1358.18 1490.81,1358.05 1490.9,1357.91 1490.98,1357.78 1491.06,1357.65 \n",
       "  1491.14,1357.52 1491.23,1357.4 1491.31,1357.27 1491.39,1357.14 1491.47,1357.01 1491.56,1356.89 1491.64,1356.76 1491.72,1356.64 1491.8,1356.51 1491.89,1356.39 \n",
       "  1491.97,1356.26 1492.05,1356.14 1492.13,1356.02 1492.21,1355.9 1492.3,1355.78 1492.38,1355.66 1492.46,1355.54 1492.54,1355.42 1492.63,1355.3 1492.71,1355.18 \n",
       "  1492.79,1355.07 1492.87,1354.95 1492.96,1354.83 1493.04,1354.72 1493.12,1354.6 1493.2,1354.49 1493.29,1354.38 1493.37,1354.26 1493.45,1354.15 1493.53,1354.04 \n",
       "  1493.62,1353.93 1493.7,1353.82 1493.78,1353.71 1493.86,1353.6 1493.95,1353.49 1494.03,1353.38 1494.11,1353.27 1494.19,1353.17 1494.28,1353.06 1494.36,1352.96 \n",
       "  1494.44,1352.85 1494.52,1352.75 1494.61,1352.64 1494.69,1352.54 1494.77,1352.43 1494.85,1352.33 1494.94,1352.23 1495.02,1352.13 1495.1,1352.03 1495.18,1351.93 \n",
       "  1495.27,1351.83 1495.35,1351.73 1495.43,1351.63 1495.51,1351.53 1495.6,1351.44 1495.68,1351.34 1495.76,1351.24 1495.84,1351.15 1495.93,1351.05 1496.01,1350.96 \n",
       "  1496.09,1350.87 1496.17,1350.77 1496.25,1350.68 1496.34,1350.59 1496.42,1350.5 1496.5,1350.4 1496.58,1350.31 1496.67,1350.22 1496.75,1350.14 1496.83,1350.05 \n",
       "  1496.91,1349.96 1497,1349.87 1497.08,1349.78 1497.16,1349.7 1497.24,1349.61 1497.33,1349.53 1497.41,1349.44 1497.49,1349.36 1497.57,1349.27 1497.66,1349.19 \n",
       "  1497.74,1349.11 1497.82,1349.02 1497.9,1348.94 1497.99,1348.86 1498.07,1348.78 1498.15,1348.7 1498.23,1348.62 1498.32,1348.54 1498.4,1348.47 1498.48,1348.39 \n",
       "  1498.56,1348.31 1498.65,1348.23 1498.73,1348.16 1498.81,1348.08 1498.89,1348.01 1498.98,1347.93 1499.06,1347.86 1499.14,1347.78 1499.22,1347.71 1499.31,1347.64 \n",
       "  1499.39,1347.57 1499.47,1347.5 1499.55,1347.43 1499.64,1347.36 1499.72,1347.29 1499.8,1347.22 1499.88,1347.15 1499.97,1347.08 1500.05,1347.01 1500.13,1346.95 \n",
       "  1500.21,1346.88 1500.3,1346.81 1500.38,1346.75 1500.46,1346.68 1500.54,1346.62 1500.62,1346.55 1500.71,1346.49 1500.79,1346.43 1500.87,1346.37 1500.95,1346.3 \n",
       "  1501.04,1346.24 1501.12,1346.18 1501.2,1346.12 1501.28,1346.06 1501.37,1346 1501.45,1345.95 1501.53,1345.89 1501.61,1345.83 1501.7,1345.77 1501.78,1345.72 \n",
       "  1501.86,1345.66 1501.94,1345.61 1502.03,1345.55 1502.11,1345.5 1502.19,1345.44 1502.27,1345.39 1502.36,1345.34 1502.44,1345.28 1502.52,1345.23 1502.6,1345.18 \n",
       "  1502.69,1345.13 1502.77,1345.08 1502.85,1345.03 1502.93,1344.98 1503.02,1344.93 1503.1,1344.88 1503.18,1344.84 1503.26,1344.79 1503.35,1344.74 1503.43,1344.7 \n",
       "  1503.51,1344.65 1503.59,1344.61 1503.68,1344.56 1503.76,1344.52 1503.84,1344.47 1503.92,1344.43 1504.01,1344.39 1504.09,1344.35 1504.17,1344.3 1504.25,1344.26 \n",
       "  1504.34,1344.22 1504.42,1344.18 1504.5,1344.14 1504.58,1344.11 1504.66,1344.07 1504.75,1344.03 1504.83,1343.99 1504.91,1343.95 1504.99,1343.92 1505.08,1343.88 \n",
       "  1505.16,1343.85 1505.24,1343.81 1505.32,1343.78 1505.41,1343.74 1505.49,1343.71 1505.57,1343.68 1505.65,1343.65 1505.74,1343.61 1505.82,1343.58 1505.9,1343.55 \n",
       "  1505.98,1343.52 1506.07,1343.49 1506.15,1343.46 1506.23,1343.43 1506.31,1343.41 1506.4,1343.38 1506.48,1343.35 1506.56,1343.32 1506.64,1343.3 1506.73,1343.27 \n",
       "  1506.81,1343.25 1506.89,1343.22 1506.97,1343.2 1507.06,1343.17 1507.14,1343.15 1507.22,1343.13 1507.3,1343.11 1507.39,1343.09 1507.47,1343.06 1507.55,1343.04 \n",
       "  1507.63,1343.02 1507.72,1343 1507.8,1342.99 1507.88,1342.97 1507.96,1342.95 1508.05,1342.93 1508.13,1342.91 1508.21,1342.9 1508.29,1342.88 1508.38,1342.87 \n",
       "  1508.46,1342.85 1508.54,1342.84 1508.62,1342.82 1508.71,1342.81 1508.79,1342.8 1508.87,1342.78 1508.95,1342.77 1509.03,1342.76 1509.12,1342.75 1509.2,1342.74 \n",
       "  1509.28,1342.73 1509.36,1342.72 1509.45,1342.71 1509.53,1342.7 1509.61,1342.69 1509.69,1342.69 1509.78,1342.68 1509.86,1342.67 1509.94,1342.67 1510.02,1342.66 \n",
       "  1510.11,1342.66 1510.19,1342.65 1510.27,1342.65 1510.35,1342.64 1510.44,1342.64 1510.52,1342.64 1510.6,1342.64 1510.68,1342.64 1510.77,1342.63 1510.85,1342.63 \n",
       "  1510.93,1342.63 1511.01,1342.64 1511.1,1342.64 1511.18,1342.64 1511.26,1342.64 1511.34,1342.64 1511.43,1342.65 1511.51,1342.65 1511.59,1342.65 1511.67,1342.66 \n",
       "  1511.76,1342.66 1511.84,1342.67 1511.92,1342.68 1512,1342.68 1512.09,1342.69 1512.17,1342.7 1512.25,1342.71 1512.33,1342.71 1512.42,1342.72 1512.5,1342.73 \n",
       "  1512.58,1342.74 1512.66,1342.75 1512.75,1342.77 1512.83,1342.78 1512.91,1342.79 1512.99,1342.8 1513.07,1342.82 1513.16,1342.83 1513.24,1342.84 1513.32,1342.86 \n",
       "  1513.4,1342.87 1513.49,1342.89 1513.57,1342.91 1513.65,1342.92 1513.73,1342.94 1513.82,1342.96 1513.9,1342.98 1513.98,1343 1514.06,1343.02 1514.15,1343.04 \n",
       "  1514.23,1343.06 1514.31,1343.08 1514.39,1343.1 1514.48,1343.12 1514.56,1343.14 1514.64,1343.17 1514.72,1343.19 1514.81,1343.22 1514.89,1343.24 1514.97,1343.27 \n",
       "  1515.05,1343.29 1515.14,1343.32 1515.22,1343.34 1515.3,1343.37 1515.38,1343.4 1515.47,1343.43 1515.55,1343.46 1515.63,1343.49 1515.71,1343.52 1515.8,1343.55 \n",
       "  1515.88,1343.58 1515.96,1343.61 1516.04,1343.64 1516.13,1343.67 1516.21,1343.71 1516.29,1343.74 1516.37,1343.77 1516.46,1343.81 1516.54,1343.84 1516.62,1343.88 \n",
       "  1516.7,1343.91 1516.79,1343.95 1516.87,1343.99 1516.95,1344.03 1517.03,1344.06 1517.12,1344.1 1517.2,1344.14 1517.28,1344.18 1517.36,1344.22 1517.44,1344.26 \n",
       "  1517.53,1344.3 1517.61,1344.35 1517.69,1344.39 1517.77,1344.43 1517.86,1344.48 1517.94,1344.52 1518.02,1344.56 1518.1,1344.61 1518.19,1344.65 1518.27,1344.7 \n",
       "  1518.35,1344.75 1518.43,1344.79 1518.52,1344.84 1518.6,1344.89 1518.68,1344.94 1518.76,1344.99 1518.85,1345.04 1518.93,1345.09 1519.01,1345.14 1519.09,1345.19 \n",
       "  1519.18,1345.24 1519.26,1345.3 1519.34,1345.35 1519.42,1345.4 1519.51,1345.46 1519.59,1345.51 1519.67,1345.57 1519.75,1345.62 1519.84,1345.68 1519.92,1345.74 \n",
       "  1520,1345.8 1520.08,1345.85 1520.17,1345.91 1520.25,1345.97 1520.33,1346.03 1520.41,1346.09 1520.5,1346.15 1520.58,1346.21 1520.66,1346.28 1520.74,1346.34 \n",
       "  1520.83,1346.4 1520.91,1346.46 1520.99,1346.53 1521.07,1346.59 1521.16,1346.66 1521.24,1346.72 1521.32,1346.79 1521.4,1346.86 1521.48,1346.93 1521.57,1346.99 \n",
       "  1521.65,1347.06 1521.73,1347.13 1521.81,1347.2 1521.9,1347.27 1521.98,1347.34 1522.06,1347.41 1522.14,1347.49 1522.23,1347.56 1522.31,1347.63 1522.39,1347.71 \n",
       "  1522.47,1347.78 1522.56,1347.85 1522.64,1347.93 1522.72,1348.01 1522.8,1348.08 1522.89,1348.16 1522.97,1348.24 1523.05,1348.32 1523.13,1348.39 1523.22,1348.47 \n",
       "  1523.3,1348.55 1523.38,1348.63 1523.46,1348.72 1523.55,1348.8 1523.63,1348.88 1523.71,1348.96 1523.79,1349.05 1523.88,1349.13 1523.96,1349.22 1524.04,1349.3 \n",
       "  1524.12,1349.39 1524.21,1349.47 1524.29,1349.56 1524.37,1349.65 1524.45,1349.74 1524.54,1349.83 1524.62,1349.91 1524.7,1350 1524.78,1350.1 1524.87,1350.19 \n",
       "  1524.95,1350.28 1525.03,1350.37 1525.11,1350.46 1525.2,1350.56 1525.28,1350.65 1525.36,1350.75 1525.44,1350.84 1525.53,1350.94 1525.61,1351.03 1525.69,1351.13 \n",
       "  1525.77,1351.23 1525.85,1351.33 1525.94,1351.43 1526.02,1351.53 1526.1,1351.63 1526.18,1351.73 1526.27,1351.83 1526.35,1351.93 1526.43,1352.03 1526.51,1352.14 \n",
       "  1526.6,1352.24 1526.68,1352.35 1526.76,1352.45 1526.84,1352.56 1526.93,1352.66 1527.01,1352.77 1527.09,1352.88 1527.17,1352.99 1527.26,1353.1 1527.34,1353.21 \n",
       "  1527.42,1353.32 1527.5,1353.43 1527.59,1353.54 1527.67,1353.65 1527.75,1353.76 1527.83,1353.88 1527.92,1353.99 1528,1354.11 1528.08,1354.22 1528.16,1354.34 \n",
       "  1528.25,1354.46 1528.33,1354.57 1528.41,1354.69 1528.49,1354.81 1528.58,1354.93 1528.66,1355.05 1528.74,1355.17 1528.82,1355.29 1528.91,1355.41 1528.99,1355.54 \n",
       "  1529.07,1355.66 1529.15,1355.78 1529.24,1355.91 1529.32,1356.03 1529.4,1356.16 1529.48,1356.29 1529.57,1356.41 1529.65,1356.54 1529.73,1356.67 1529.81,1356.8 \n",
       "  1529.89,1356.93 1529.98,1357.06 1530.06,1357.19 1530.14,1357.32 1530.22,1357.46 1530.31,1357.59 1530.39,1357.72 1530.47,1357.86 1530.55,1357.99 1530.64,1358.13 \n",
       "  1530.72,1358.27 1530.8,1358.41 1530.88,1358.54 1530.97,1358.68 1531.05,1358.82 1531.13,1358.96 1531.21,1359.1 1531.3,1359.25 1531.38,1359.39 1531.46,1359.53 \n",
       "  1531.54,1359.68 1531.63,1359.82 1531.71,1359.97 1531.79,1360.11 1531.87,1360.26 1531.96,1360.41 1532.04,1360.56 1532.12,1360.71 1532.2,1360.86 1532.29,1361.01 \n",
       "  1532.37,1361.16 1532.45,1361.31 1532.53,1361.46 1532.62,1361.62 1532.7,1361.77 1532.78,1361.93 1532.86,1362.08 1532.95,1362.24 1533.03,1362.39 1533.11,1362.55 \n",
       "  1533.19,1362.71 1533.28,1362.87 1533.36,1363.03 1533.44,1363.19 1533.52,1363.35 1533.61,1363.52 1533.69,1363.68 1533.77,1363.85 1533.85,1364.01 1533.94,1364.18 \n",
       "  1534.02,1364.34 1534.1,1364.51 1534.18,1364.68 1534.26,1364.85 1534.35,1365.02 1534.43,1365.19 1534.51,1365.36 1534.59,1365.53 1534.68,1365.7 1534.76,1365.88 \n",
       "  1534.84,1366.05 1534.92,1366.23 1535.01,1366.4 1535.09,1366.58 1535.17,1366.76 1535.25,1366.94 1535.34,1367.12 1535.42,1367.3 1535.5,1367.48 1535.58,1367.66 \n",
       "  1535.67,1367.84 1535.75,1368.03 1535.83,1368.21 1535.91,1368.4 1536,1368.58 1536.08,1368.77 1536.16,1368.96 1536.24,1369.15 1536.33,1369.34 1536.41,1369.53 \n",
       "  1536.49,1369.72 1536.57,1369.91 1536.66,1370.1 1536.74,1370.3 1536.82,1370.49 1536.9,1370.69 1536.99,1370.88 1537.07,1371.08 1537.15,1371.28 1537.23,1371.48 \n",
       "  1537.32,1371.68 1537.4,1371.88 1537.48,1372.08 1537.56,1372.29 1537.65,1372.49 1537.73,1372.69 1537.81,1372.9 1537.89,1373.11 1537.98,1373.31 1538.06,1373.52 \n",
       "  1538.14,1373.73 1538.22,1373.94 1538.3,1374.15 1538.39,1374.37 1538.47,1374.58 1538.55,1374.79 1538.63,1375.01 1538.72,1375.22 1538.8,1375.44 1538.88,1375.66 \n",
       "  1538.96,1375.88 1539.05,1376.1 1539.13,1376.32 1539.21,1376.54 1539.29,1376.76 1539.38,1376.99 1539.46,1377.21 1539.54,1377.44 1539.62,1377.66 1539.71,1377.89 \n",
       "  1539.79,1378.12 1539.87,1378.35 1539.95,1378.58 1540.04,1378.81 1540.12,1379.05 1540.2,1379.28 1540.28,1379.52 1540.37,1379.75 1540.45,1379.99 1540.53,1380.23 \n",
       "  1540.61,1380.47 1540.7,1380.71 1540.78,1380.95 1540.86,1381.19 1540.94,1381.44 1541.03,1381.68 1541.11,1381.93 1541.19,1382.17 1541.27,1382.42 1541.36,1382.67 \n",
       "  1541.44,1382.92 1541.52,1383.17 1541.6,1383.42 1541.69,1383.68 1541.77,1383.93 1541.85,1384.19 1541.93,1384.45 1542.02,1384.7 1542.1,1384.96 1542.18,1385.22 \n",
       "  1542.26,1385.49 1542.35,1385.75 1542.43,1386.01 1542.51,1386.28 1542.59,1386.54 1542.67,1386.81 1542.76,1387.08 1542.84,1387.35 1542.92,1387.62 1543,1387.89 \n",
       "  1543.09,1388.17 1543.17,1388.44 1543.25,1388.72 1543.33,1389 1543.42,1389.27 1543.5,1389.55 1543.58,1389.84 1543.66,1390.12 1543.75,1390.4 1543.83,1390.69 \n",
       "  1543.91,1390.97 1543.99,1391.26 1544.08,1391.55 1544.16,1391.84 1544.24,1392.13 1544.32,1392.42 1544.41,1392.72 1544.49,1393.01 1544.57,1393.31 1544.65,1393.61 \n",
       "  1544.74,1393.91 1544.82,1394.21 1544.9,1394.51 1544.98,1394.82 1545.07,1395.12 1545.15,1395.43 1545.23,1395.74 1545.31,1396.04 1545.4,1396.36 1545.48,1396.67 \n",
       "  1545.56,1396.98 1545.64,1397.3 1545.73,1397.61 1545.81,1397.93 1545.89,1398.25 1545.97,1398.57 1546.06,1398.89 1546.14,1399.22 1546.22,1399.54 1546.3,1399.87 \n",
       "  1546.39,1400.2 1546.47,1400.53 1546.55,1400.86 1546.63,1401.2 1546.71,1401.53 1546.8,1401.87 1546.88,1402.21 1546.96,1402.55 1547.04,1402.89 1547.13,1403.23 \n",
       "  1547.21,1403.57 1547.29,1403.92 1547.37,1404.27 1547.46,1404.62 1547.54,1404.97 1547.62,1405.32 1547.7,1405.68 1547.79,1406.03 1547.87,1406.39 1547.95,1406.75 \n",
       "  1548.03,1407.11 1548.12,1407.48 1548.2,1407.84 1548.28,1408.21 1548.36,1408.58 1548.45,1408.95 1548.53,1409.32 1548.61,1409.7 1548.69,1410.07 1548.78,1410.45 \n",
       "  1548.86,1410.83 1548.94,1411.21 1549.02,1411.6 1549.11,1411.98 1549.19,1412.37 1549.27,1412.76 1549.35,1413.15 1549.44,1413.54 1549.52,1413.94 1549.6,1414.34 \n",
       "  1549.68,1414.74 1549.77,1415.14 1549.85,1415.54 1549.93,1415.95 1550.01,1416.36 1550.1,1416.77 1550.18,1417.18 1550.26,1417.59 1550.34,1418.01 1550.43,1418.43 \n",
       "  1550.51,1418.85 1550.59,1419.27 1550.67,1419.7 1550.76,1420.12 1550.84,1420.55 1550.92,1420.99 1551,1421.42 1551.08,1421.86 1551.17,1422.29 1551.25,1422.74 \n",
       "  1551.33,1423.18 1551.41,1422.64 1551.5,1422.1 1551.58,1421.57 1551.66,1421.04 1551.74,1420.51 1551.83,1419.98 1551.91,1419.46 1551.99,1418.94 1552.07,1418.42 \n",
       "  1552.16,1417.91 1552.24,1417.4 1552.32,1416.89 1552.4,1416.38 1552.49,1415.88 1552.57,1415.38 1552.65,1414.88 1552.73,1414.39 1552.82,1413.89 1552.9,1413.4 \n",
       "  1552.98,1412.92 1553.06,1412.43 1553.15,1411.95 1553.23,1411.47 1553.31,1411 1553.39,1410.52 1553.48,1410.05 1553.56,1409.58 1553.64,1409.11 1553.72,1408.65 \n",
       "  1553.81,1408.19 1553.89,1407.73 1553.97,1407.27 1554.05,1406.81 1554.14,1406.36 1554.22,1405.91 1554.3,1405.46 1554.38,1405.02 1554.47,1404.57 1554.55,1404.13 \n",
       "  1554.63,1403.69 1554.71,1403.26 1554.8,1402.82 1554.88,1402.39 1554.96,1401.96 1555.04,1401.53 1555.12,1401.1 1555.21,1400.68 1555.29,1400.26 1555.37,1399.84 \n",
       "  1555.45,1399.42 1555.54,1399 1555.62,1398.59 1555.7,1398.17 1555.78,1397.76 1555.87,1397.36 1555.95,1396.95 1556.03,1396.55 1556.11,1396.14 1556.2,1395.74 \n",
       "  1556.28,1395.34 1556.36,1394.95 1556.44,1394.55 1556.53,1394.16 1556.61,1393.77 1556.69,1393.38 1556.77,1392.99 1556.86,1392.61 1556.94,1392.22 1557.02,1391.84 \n",
       "  1557.1,1391.46 1557.19,1391.08 1557.27,1390.7 1557.35,1390.33 1557.43,1389.95 1557.52,1389.58 1557.6,1389.21 1557.68,1388.84 1557.76,1388.48 1557.85,1388.11 \n",
       "  1557.93,1387.75 1558.01,1387.39 1558.09,1387.03 1558.18,1386.67 1558.26,1386.31 1558.34,1385.96 1558.42,1385.6 1558.51,1385.25 1558.59,1384.9 1558.67,1384.55 \n",
       "  1558.75,1384.2 1558.84,1383.86 1558.92,1383.51 1559,1383.17 1559.08,1382.83 1559.17,1382.49 1559.25,1382.15 1559.33,1381.82 1559.41,1381.48 1559.49,1381.15 \n",
       "  1559.58,1380.81 1559.66,1380.48 1559.74,1380.15 1559.82,1379.83 1559.91,1379.5 1559.99,1379.17 1560.07,1378.85 1560.15,1378.53 1560.24,1378.21 1560.32,1377.89 \n",
       "  1560.4,1377.57 1560.48,1377.25 1560.57,1376.94 1560.65,1376.62 1560.73,1376.31 1560.81,1376 1560.9,1375.69 1560.98,1375.38 1561.06,1375.07 1561.14,1374.77 \n",
       "  1561.23,1374.46 1561.31,1374.16 1561.39,1373.86 1561.47,1373.56 1561.56,1373.26 1561.64,1372.96 1561.72,1372.66 1561.8,1372.37 1561.89,1372.07 1561.97,1371.78 \n",
       "  1562.05,1371.49 1562.13,1371.2 1562.22,1370.91 1562.3,1370.62 1562.38,1370.33 1562.46,1370.05 1562.55,1369.76 1562.63,1369.48 1562.71,1369.19 1562.79,1368.91 \n",
       "  1562.88,1368.63 1562.96,1368.36 1563.04,1368.08 1563.12,1367.8 1563.21,1367.53 1563.29,1367.25 1563.37,1366.98 1563.45,1366.71 1563.53,1366.44 1563.62,1366.17 \n",
       "  1563.7,1365.9 1563.78,1365.63 1563.86,1365.37 1563.95,1365.1 1564.03,1364.84 1564.11,1364.57 1564.19,1364.31 1564.28,1364.05 1564.36,1363.79 1564.44,1363.53 \n",
       "  1564.52,1363.28 1564.61,1363.02 1564.69,1362.77 1564.77,1362.51 1564.85,1362.26 1564.94,1362.01 1565.02,1361.76 1565.1,1361.51 1565.18,1361.26 1565.27,1361.01 \n",
       "  1565.35,1360.76 1565.43,1360.52 1565.51,1360.27 1565.6,1360.03 1565.68,1359.79 1565.76,1359.54 1565.84,1359.3 1565.93,1359.06 1566.01,1358.83 1566.09,1358.59 \n",
       "  1566.17,1358.35 1566.26,1358.12 1566.34,1357.88 1566.42,1357.65 1566.5,1357.42 1566.59,1357.18 1566.67,1356.95 1566.75,1356.72 1566.83,1356.5 1566.92,1356.27 \n",
       "  1567,1356.04 1567.08,1355.81 1567.16,1355.59 1567.25,1355.37 1567.33,1355.14 1567.41,1354.92 1567.49,1354.7 1567.58,1354.48 1567.66,1354.26 1567.74,1354.04 \n",
       "  1567.82,1353.82 1567.9,1353.61 1567.99,1353.39 1568.07,1353.18 1568.15,1352.96 1568.23,1352.75 1568.32,1352.54 1568.4,1352.33 1568.48,1352.12 1568.56,1351.91 \n",
       "  1568.65,1351.7 1568.73,1351.49 1568.81,1351.29 1568.89,1351.08 1568.98,1350.88 1569.06,1350.67 1569.14,1350.47 1569.22,1350.27 1569.31,1350.07 1569.39,1349.87 \n",
       "  1569.47,1349.67 1569.55,1349.47 1569.64,1349.27 1569.72,1349.07 1569.8,1348.88 1569.88,1348.68 1569.97,1348.49 1570.05,1348.29 1570.13,1348.1 1570.21,1347.91 \n",
       "  1570.3,1347.72 1570.38,1347.53 1570.46,1347.34 1570.54,1347.15 1570.63,1346.96 1570.71,1346.77 1570.79,1346.59 1570.87,1346.4 1570.96,1346.22 1571.04,1346.03 \n",
       "  1571.12,1345.85 1571.2,1345.67 1571.29,1345.49 1571.37,1345.31 1571.45,1345.13 1571.53,1344.95 1571.62,1344.77 1571.7,1344.59 1571.78,1344.42 1571.86,1344.24 \n",
       "  1571.94,1344.07 1572.03,1343.89 1572.11,1343.72 1572.19,1343.55 1572.27,1343.38 1572.36,1343.21 1572.44,1343.04 1572.52,1342.87 1572.6,1342.7 1572.69,1342.53 \n",
       "  1572.77,1342.36 1572.85,1342.2 1572.93,1342.03 1573.02,1341.87 1573.1,1341.7 1573.18,1341.54 1573.26,1341.38 1573.35,1341.21 1573.43,1341.05 1573.51,1340.89 \n",
       "  1573.59,1340.73 1573.68,1340.57 1573.76,1340.42 1573.84,1340.26 1573.92,1340.1 1574.01,1339.95 1574.09,1339.79 1574.17,1339.64 1574.25,1339.48 1574.34,1339.33 \n",
       "  1574.42,1339.18 1574.5,1339.03 1574.58,1338.88 1574.67,1338.73 1574.75,1338.58 1574.83,1338.43 1574.91,1338.28 1575,1338.14 1575.08,1337.99 1575.16,1337.84 \n",
       "  1575.24,1337.7 1575.33,1337.55 1575.41,1337.41 1575.49,1337.27 1575.57,1337.13 1575.66,1336.99 1575.74,1336.84 1575.82,1336.7 1575.9,1336.57 1575.99,1336.43 \n",
       "  1576.07,1336.29 1576.15,1336.15 1576.23,1336.02 1576.31,1335.88 1576.4,1335.75 1576.48,1335.61 1576.56,1335.48 1576.64,1335.34 1576.73,1335.21 1576.81,1335.08 \n",
       "  1576.89,1334.95 1576.97,1334.82 1577.06,1334.69 1577.14,1334.56 1577.22,1334.43 1577.3,1334.31 1577.39,1334.18 1577.47,1334.05 1577.55,1333.93 1577.63,1333.8 \n",
       "  1577.72,1333.68 1577.8,1333.56 1577.88,1333.43 1577.96,1333.31 1578.05,1333.19 1578.13,1333.07 1578.21,1332.95 1578.29,1332.83 1578.38,1332.71 1578.46,1332.59 \n",
       "  1578.54,1332.48 1578.62,1332.36 1578.71,1332.24 1578.79,1332.13 1578.87,1332.01 1578.95,1331.9 1579.04,1331.79 1579.12,1331.67 1579.2,1331.56 1579.28,1331.45 \n",
       "  1579.37,1331.34 1579.45,1331.23 1579.53,1331.12 1579.61,1331.01 1579.7,1330.9 1579.78,1330.79 1579.86,1330.69 1579.94,1330.58 1580.03,1330.48 1580.11,1330.37 \n",
       "  1580.19,1330.27 1580.27,1330.16 1580.35,1330.06 1580.44,1329.96 1580.52,1329.86 1580.6,1329.75 1580.68,1329.65 1580.77,1329.55 1580.85,1329.46 1580.93,1329.36 \n",
       "  1581.01,1329.26 1581.1,1329.16 1581.18,1329.06 1581.26,1328.97 1581.34,1328.87 1581.43,1328.78 1581.51,1328.68 1581.59,1328.59 1581.67,1328.5 1581.76,1328.41 \n",
       "  1581.84,1328.31 1581.92,1328.22 1582,1328.13 1582.09,1328.04 1582.17,1327.95 1582.25,1327.87 1582.33,1327.78 1582.42,1327.69 1582.5,1327.6 1582.58,1327.52 \n",
       "  1582.66,1327.43 1582.75,1327.35 1582.83,1327.26 1582.91,1327.18 1582.99,1327.1 1583.08,1327.01 1583.16,1326.93 1583.24,1326.85 1583.32,1326.77 1583.41,1326.69 \n",
       "  1583.49,1326.61 1583.57,1326.53 1583.65,1326.46 1583.74,1326.38 1583.82,1326.3 1583.9,1326.23 1583.98,1326.15 1584.07,1326.07 1584.15,1326 1584.23,1325.93 \n",
       "  1584.31,1325.85 1584.4,1325.78 1584.48,1325.71 1584.56,1325.64 1584.64,1325.57 1584.72,1325.5 1584.81,1325.43 1584.89,1325.36 1584.97,1325.29 1585.05,1325.22 \n",
       "  1585.14,1325.16 1585.22,1325.09 1585.3,1325.02 1585.38,1324.96 1585.47,1324.89 1585.55,1324.83 1585.63,1324.77 1585.71,1324.7 1585.8,1324.64 1585.88,1324.58 \n",
       "  1585.96,1324.52 1586.04,1324.46 1586.13,1324.4 1586.21,1324.34 1586.29,1324.28 1586.37,1324.22 1586.46,1324.16 1586.54,1324.11 1586.62,1324.05 1586.7,1324 \n",
       "  1586.79,1323.94 1586.87,1323.89 1586.95,1323.83 1587.03,1323.78 1587.12,1323.73 1587.2,1323.67 1587.28,1323.62 1587.36,1323.57 1587.45,1323.52 1587.53,1323.47 \n",
       "  1587.61,1323.42 1587.69,1323.37 1587.78,1323.33 1587.86,1323.28 1587.94,1323.23 1588.02,1323.18 1588.11,1323.14 1588.19,1323.09 1588.27,1323.05 1588.35,1323.01 \n",
       "  1588.44,1322.96 1588.52,1322.92 1588.6,1322.88 1588.68,1322.84 1588.76,1322.8 1588.85,1322.76 1588.93,1322.72 1589.01,1322.68 1589.09,1322.64 1589.18,1322.6 \n",
       "  1589.26,1322.56 1589.34,1322.53 1589.42,1322.49 1589.51,1322.45 1589.59,1322.42 1589.67,1322.38 1589.75,1322.35 1589.84,1322.32 1589.92,1322.29 1590,1322.25 \n",
       "  1590.08,1322.22 1590.17,1322.19 1590.25,1322.16 1590.33,1322.13 1590.41,1322.1 1590.5,1322.07 1590.58,1322.05 1590.66,1322.02 1590.74,1321.99 1590.83,1321.97 \n",
       "  1590.91,1321.94 1590.99,1321.91 1591.07,1321.89 1591.16,1321.87 1591.24,1321.84 1591.32,1321.82 1591.4,1321.8 1591.49,1321.78 1591.57,1321.76 1591.65,1321.74 \n",
       "  1591.73,1321.72 1591.82,1321.7 1591.9,1321.68 1591.98,1321.66 1592.06,1321.64 1592.15,1321.63 1592.23,1321.61 1592.31,1321.59 1592.39,1321.58 1592.48,1321.57 \n",
       "  1592.56,1321.55 1592.64,1321.54 1592.72,1321.53 1592.81,1321.51 1592.89,1321.5 1592.97,1321.49 1593.05,1321.48 1593.13,1321.47 1593.22,1321.46 1593.3,1321.45 \n",
       "  1593.38,1321.45 1593.46,1321.44 1593.55,1321.43 1593.63,1321.43 1593.71,1321.42 1593.79,1321.42 1593.88,1321.41 1593.96,1321.41 1594.04,1321.4 1594.12,1321.4 \n",
       "  1594.21,1321.4 1594.29,1321.4 1594.37,1321.4 1594.45,1321.4 1594.54,1321.4 1594.62,1321.4 1594.7,1321.4 1594.78,1321.4 1594.87,1321.41 1594.95,1321.41 \n",
       "  1595.03,1321.41 1595.11,1321.42 1595.2,1321.42 1595.28,1321.43 1595.36,1321.44 1595.44,1321.44 1595.53,1321.45 1595.61,1321.46 1595.69,1321.47 1595.77,1321.48 \n",
       "  1595.86,1321.49 1595.94,1321.5 1596.02,1321.51 1596.1,1321.52 1596.19,1321.53 1596.27,1321.55 1596.35,1321.56 1596.43,1321.57 1596.52,1321.59 1596.6,1321.6 \n",
       "  1596.68,1321.62 1596.76,1321.64 1596.85,1321.65 1596.93,1321.67 1597.01,1321.69 1597.09,1321.71 1597.17,1321.73 1597.26,1321.75 1597.34,1321.77 1597.42,1321.79 \n",
       "  1597.5,1321.81 1597.59,1321.84 1597.67,1321.86 1597.75,1321.88 1597.83,1321.91 1597.92,1321.93 1598,1321.96 1598.08,1321.99 1598.16,1322.01 1598.25,1322.04 \n",
       "  1598.33,1322.07 1598.41,1322.1 1598.49,1322.13 1598.58,1322.16 1598.66,1322.19 1598.74,1322.22 1598.82,1322.25 1598.91,1322.28 1598.99,1322.32 1599.07,1322.35 \n",
       "  1599.15,1322.39 1599.24,1322.42 1599.32,1322.46 1599.4,1322.49 1599.48,1322.53 1599.57,1322.57 1599.65,1322.61 1599.73,1322.64 1599.81,1322.68 1599.9,1322.72 \n",
       "  1599.98,1322.76 1600.06,1322.81 1600.14,1322.85 1600.23,1322.89 1600.31,1322.93 1600.39,1322.98 1600.47,1323.02 1600.56,1323.07 1600.64,1323.11 1600.72,1323.16 \n",
       "  1600.8,1323.21 1600.89,1323.25 1600.97,1323.3 1601.05,1323.35 1601.13,1323.4 1601.22,1323.45 1601.3,1323.5 1601.38,1323.55 1601.46,1323.61 1601.54,1323.66 \n",
       "  1601.63,1323.71 1601.71,1323.77 1601.79,1323.82 1601.87,1323.88 1601.96,1323.93 1602.04,1323.99 1602.12,1324.05 1602.2,1324.11 1602.29,1324.16 1602.37,1324.22 \n",
       "  1602.45,1324.28 1602.53,1324.34 1602.62,1324.41 1602.7,1324.47 1602.78,1324.53 1602.86,1324.59 1602.95,1324.66 1603.03,1324.72 1603.11,1324.79 1603.19,1324.85 \n",
       "  1603.28,1324.92 1603.36,1324.99 1603.44,1325.06 1603.52,1325.12 1603.61,1325.19 1603.69,1325.26 1603.77,1325.33 1603.85,1325.41 1603.94,1325.48 1604.02,1325.55 \n",
       "  1604.1,1325.62 1604.18,1325.7 1604.27,1325.77 1604.35,1325.85 1604.43,1325.92 1604.51,1326 1604.6,1326.08 1604.68,1326.16 1604.76,1326.24 1604.84,1326.32 \n",
       "  1604.93,1326.4 1605.01,1326.48 1605.09,1326.56 1605.17,1326.64 1605.26,1326.72 1605.34,1326.81 1605.42,1326.89 1605.5,1326.98 1605.58,1327.06 1605.67,1327.15 \n",
       "  1605.75,1327.24 1605.83,1327.33 1605.91,1327.41 1606,1327.5 1606.08,1327.59 1606.16,1327.68 1606.24,1327.78 1606.33,1327.87 1606.41,1327.96 1606.49,1328.05 \n",
       "  1606.57,1328.15 1606.66,1328.24 1606.74,1328.34 1606.82,1328.44 1606.9,1328.53 1606.99,1328.63 1607.07,1328.73 1607.15,1328.83 1607.23,1328.93 1607.32,1329.03 \n",
       "  1607.4,1329.13 1607.48,1329.24 1607.56,1329.34 1607.65,1329.44 1607.73,1329.55 1607.81,1329.65 1607.89,1329.76 1607.98,1329.87 1608.06,1329.98 1608.14,1330.08 \n",
       "  1608.22,1330.19 1608.31,1330.3 1608.39,1330.41 1608.47,1330.53 1608.55,1330.64 1608.64,1330.75 1608.72,1330.86 1608.8,1330.98 1608.88,1331.09 1608.97,1331.21 \n",
       "  1609.05,1331.33 1609.13,1331.45 1609.21,1331.56 1609.3,1331.68 1609.38,1331.8 1609.46,1331.92 1609.54,1332.05 1609.63,1332.17 1609.71,1332.29 1609.79,1332.42 \n",
       "  1609.87,1332.54 1609.95,1332.67 1610.04,1332.79 1610.12,1332.92 1610.2,1333.05 1610.28,1333.18 1610.37,1333.31 1610.45,1333.44 1610.53,1333.57 1610.61,1333.7 \n",
       "  1610.7,1333.83 1610.78,1333.97 1610.86,1334.1 1610.94,1334.24 1611.03,1334.37 1611.11,1334.51 1611.19,1334.65 1611.27,1334.79 1611.36,1334.93 1611.44,1335.07 \n",
       "  1611.52,1335.21 1611.6,1335.35 1611.69,1335.49 1611.77,1335.64 1611.85,1335.78 1611.93,1335.93 1612.02,1336.07 1612.1,1336.22 1612.18,1336.37 1612.26,1336.52 \n",
       "  1612.35,1336.67 1612.43,1336.82 1612.51,1336.97 1612.59,1337.12 1612.68,1337.28 1612.76,1337.43 1612.84,1337.59 1612.92,1337.74 1613.01,1337.9 1613.09,1338.06 \n",
       "  1613.17,1338.22 1613.25,1338.38 1613.34,1338.54 1613.42,1338.7 1613.5,1338.86 1613.58,1339.02 1613.67,1339.19 1613.75,1339.35 1613.83,1339.52 1613.91,1339.69 \n",
       "  1613.99,1339.85 1614.08,1340.02 1614.16,1340.19 1614.24,1340.36 1614.32,1340.54 1614.41,1340.71 1614.49,1340.88 1614.57,1341.06 1614.65,1341.23 1614.74,1341.41 \n",
       "  1614.82,1341.59 1614.9,1341.77 1614.98,1341.94 1615.07,1342.13 1615.15,1342.31 1615.23,1342.49 1615.31,1342.67 1615.4,1342.86 1615.48,1343.04 1615.56,1343.23 \n",
       "  1615.64,1343.42 1615.73,1343.61 1615.81,1343.79 1615.89,1343.99 1615.97,1344.18 1616.06,1344.37 1616.14,1344.56 1616.22,1344.76 1616.3,1344.95 1616.39,1345.15 \n",
       "  1616.47,1345.35 1616.55,1345.55 1616.63,1345.75 1616.72,1345.95 1616.8,1346.15 1616.88,1346.35 1616.96,1346.56 1617.05,1346.76 1617.13,1346.97 1617.21,1347.18 \n",
       "  1617.29,1347.38 1617.38,1347.59 1617.46,1347.8 1617.54,1348.02 1617.62,1348.23 1617.71,1348.44 1617.79,1348.66 1617.87,1348.87 1617.95,1349.09 1618.04,1349.31 \n",
       "  1618.12,1349.53 1618.2,1349.75 1618.28,1349.97 1618.36,1350.2 1618.45,1350.42 1618.53,1350.65 1618.61,1350.87 1618.69,1351.1 1618.78,1351.33 1618.86,1351.56 \n",
       "  1618.94,1351.79 1619.02,1352.02 1619.11,1352.26 1619.19,1352.49 1619.27,1352.73 1619.35,1352.97 1619.44,1353.21 1619.52,1353.45 1619.6,1353.69 1619.68,1353.93 \n",
       "  1619.77,1354.17 1619.85,1354.42 1619.93,1354.67 1620.01,1354.91 1620.1,1355.16 1620.18,1355.41 1620.26,1355.66 1620.34,1355.92 1620.43,1356.17 1620.51,1356.43 \n",
       "  1620.59,1356.68 1620.67,1356.94 1620.76,1357.2 1620.84,1357.46 1620.92,1357.72 1621,1357.99 1621.09,1358.25 1621.17,1358.52 1621.25,1358.79 1621.33,1359.05 \n",
       "  1621.42,1359.32 1621.5,1359.6 1621.58,1359.87 1621.66,1360.14 1621.75,1360.42 1621.83,1360.7 1621.91,1360.98 1621.99,1361.26 1622.08,1361.54 1622.16,1361.82 \n",
       "  1622.24,1362.11 1622.32,1362.39 1622.41,1362.68 1622.49,1362.97 1622.57,1363.26 1622.65,1363.55 1622.73,1363.85 1622.82,1364.14 1622.9,1364.44 1622.98,1364.74 \n",
       "  1623.06,1365.04 1623.15,1365.34 1623.23,1365.65 1623.31,1365.95 1623.39,1366.26 1623.48,1366.56 1623.56,1366.87 1623.64,1367.19 1623.72,1367.5 1623.81,1367.81 \n",
       "  1623.89,1368.13 1623.97,1368.45 1624.05,1368.77 1624.14,1369.09 1624.22,1369.41 1624.3,1369.74 1624.38,1370.06 1624.47,1370.39 1624.55,1370.72 1624.63,1371.06 \n",
       "  1624.71,1371.39 1624.8,1371.72 1624.88,1372.06 1624.96,1372.4 1625.04,1372.74 1625.13,1373.09 1625.21,1373.43 1625.29,1373.78 1625.37,1374.13 1625.46,1374.48 \n",
       "  1625.54,1374.83 1625.62,1375.18 1625.7,1375.54 1625.79,1375.9 1625.87,1376.26 1625.95,1376.62 1626.03,1376.98 1626.12,1377.35 1626.2,1377.72 1626.28,1378.09 \n",
       "  1626.36,1378.46 1626.45,1378.83 1626.53,1379.21 1626.61,1379.59 1626.69,1379.97 1626.77,1380.35 1626.86,1380.74 1626.94,1381.13 1627.02,1381.51 1627.1,1381.91 \n",
       "  1627.19,1382.3 1627.27,1382.7 1627.35,1383.09 1627.43,1383.5 1627.52,1383.9 1627.6,1384.3 1627.68,1384.71 1627.76,1385.12 1627.85,1385.53 1627.93,1385.95 \n",
       "  1628.01,1386.36 1628.09,1386.78 1628.18,1387.21 1628.26,1387.63 1628.34,1388.06 1628.42,1388.49 1628.51,1388.92 1628.59,1389.35 1628.67,1389.79 1628.75,1390.23 \n",
       "  1628.84,1390.67 1628.92,1391.12 1629,1391.57 1629.08,1392.02 1629.17,1392.47 1629.25,1392.93 1629.33,1393.38 1629.41,1393.85 1629.5,1394.31 1629.58,1394.78 \n",
       "  1629.66,1395.25 1629.74,1395.72 1629.83,1396.2 1629.91,1396.68 1629.99,1397.16 1630.07,1397.64 1630.16,1398.13 1630.24,1398.62 1630.32,1399.12 1630.4,1399.61 \n",
       "  1630.49,1400.11 1630.57,1400.62 1630.65,1401.12 1630.73,1401.63 1630.82,1402.15 1630.9,1402.66 1630.98,1403.18 1631.06,1403.71 1631.14,1404.24 1631.23,1404.77 \n",
       "  1631.31,1405.3 1631.39,1405.84 1631.47,1406.38 1631.56,1406.92 1631.64,1407.47 1631.72,1408.03 1631.8,1408.58 1631.89,1409.14 1631.97,1409.71 1632.05,1410.27 \n",
       "  1632.13,1410.84 1632.22,1411.42 1632.3,1412 1632.38,1412.58 1632.46,1413.17 1632.55,1413.76 1632.63,1414.36 1632.71,1414.96 1632.79,1415.56 1632.88,1416.17 \n",
       "  1632.96,1416.79 1633.04,1417.41 1633.12,1418.03 1633.21,1418.66 1633.29,1419.29 1633.37,1419.92 1633.45,1420.57 1633.54,1421.21 1633.62,1421.86 1633.7,1422.52 \n",
       "  1633.78,1423.18 1633.87,1422.39 1633.95,1421.6 1634.03,1420.82 1634.11,1420.05 1634.2,1419.28 1634.28,1418.51 1634.36,1417.76 1634.44,1417.01 1634.53,1416.26 \n",
       "  1634.61,1415.52 1634.69,1414.78 1634.77,1414.05 1634.86,1413.33 1634.94,1412.61 1635.02,1411.9 1635.1,1411.19 1635.18,1410.48 1635.27,1409.78 1635.35,1409.09 \n",
       "  1635.43,1408.4 1635.51,1407.71 1635.6,1407.03 1635.68,1406.36 1635.76,1405.69 1635.84,1405.02 1635.93,1404.36 1636.01,1403.7 1636.09,1403.04 1636.17,1402.4 \n",
       "  1636.26,1401.75 1636.34,1401.11 1636.42,1400.47 1636.5,1399.84 1636.59,1399.21 1636.67,1398.59 1636.75,1397.97 1636.83,1397.35 1636.92,1396.74 1637,1396.13 \n",
       "  1637.08,1395.52 1637.16,1394.92 1637.25,1394.32 1637.33,1393.73 1637.41,1393.14 1637.49,1392.55 1637.58,1391.97 1637.66,1391.39 1637.74,1390.81 1637.82,1390.24 \n",
       "  1637.91,1389.67 1637.99,1389.1 1638.07,1388.54 1638.15,1387.98 1638.24,1387.42 1638.32,1386.87 1638.4,1386.32 1638.48,1385.77 1638.57,1385.23 1638.65,1384.68 \n",
       "  1638.73,1384.15 1638.81,1383.61 1638.9,1383.08 1638.98,1382.55 1639.06,1382.03 1639.14,1381.5 1639.23,1380.98 1639.31,1380.47 1639.39,1379.95 1639.47,1379.44 \n",
       "  1639.55,1378.93 1639.64,1378.42 1639.72,1377.92 1639.8,1377.42 1639.88,1376.92 1639.97,1376.43 1640.05,1375.94 1640.13,1375.45 1640.21,1374.96 1640.3,1374.47 \n",
       "  1640.38,1373.99 1640.46,1373.51 1640.54,1373.03 1640.63,1372.56 1640.71,1372.09 1640.79,1371.62 1640.87,1371.15 1640.96,1370.69 1641.04,1370.22 1641.12,1369.76 \n",
       "  1641.2,1369.31 1641.29,1368.85 1641.37,1368.4 1641.45,1367.95 1641.53,1367.5 1641.62,1367.05 1641.7,1366.61 1641.78,1366.17 1641.86,1365.73 1641.95,1365.29 \n",
       "  1642.03,1364.85 1642.11,1364.42 1642.19,1363.99 1642.28,1363.56 1642.36,1363.13 1642.44,1362.71 1642.52,1362.29 1642.61,1361.87 1642.69,1361.45 1642.77,1361.03 \n",
       "  1642.85,1360.62 1642.94,1360.2 1643.02,1359.79 1643.1,1359.38 1643.18,1358.98 1643.27,1358.57 1643.35,1358.17 1643.43,1357.77 1643.51,1357.37 1643.59,1356.97 \n",
       "  1643.68,1356.58 1643.76,1356.19 1643.84,1355.79 1643.92,1355.4 1644.01,1355.02 1644.09,1354.63 1644.17,1354.25 1644.25,1353.86 1644.34,1353.48 1644.42,1353.11 \n",
       "  1644.5,1352.73 1644.58,1352.35 1644.67,1351.98 1644.75,1351.61 1644.83,1351.24 1644.91,1350.87 1645,1350.5 1645.08,1350.14 1645.16,1349.77 1645.24,1349.41 \n",
       "  1645.33,1349.05 1645.41,1348.69 1645.49,1348.34 1645.57,1347.98 1645.66,1347.63 1645.74,1347.28 1645.82,1346.93 1645.9,1346.58 1645.99,1346.23 1646.07,1345.88 \n",
       "  1646.15,1345.54 1646.23,1345.2 1646.32,1344.86 1646.4,1344.52 1646.48,1344.18 1646.56,1343.84 1646.65,1343.51 1646.73,1343.17 1646.81,1342.84 1646.89,1342.51 \n",
       "  1646.98,1342.18 1647.06,1341.86 1647.14,1341.53 1647.22,1341.2 1647.31,1340.88 1647.39,1340.56 1647.47,1340.24 1647.55,1339.92 1647.64,1339.6 1647.72,1339.29 \n",
       "  1647.8,1338.97 1647.88,1338.66 1647.96,1338.35 1648.05,1338.03 1648.13,1337.73 1648.21,1337.42 1648.29,1337.11 1648.38,1336.81 1648.46,1336.5 1648.54,1336.2 \n",
       "  1648.62,1335.9 1648.71,1335.6 1648.79,1335.3 1648.87,1335 1648.95,1334.71 1649.04,1334.41 1649.12,1334.12 1649.2,1333.82 1649.28,1333.53 1649.37,1333.24 \n",
       "  1649.45,1332.96 1649.53,1332.67 1649.61,1332.38 1649.7,1332.1 1649.78,1331.81 1649.86,1331.53 1649.94,1331.25 1650.03,1330.97 1650.11,1330.69 1650.19,1330.42 \n",
       "  1650.27,1330.14 1650.36,1329.86 1650.44,1329.59 1650.52,1329.32 1650.6,1329.05 1650.69,1328.78 1650.77,1328.51 1650.85,1328.24 1650.93,1327.97 1651.02,1327.71 \n",
       "  1651.1,1327.44 1651.18,1327.18 1651.26,1326.92 1651.35,1326.66 1651.43,1326.4 1651.51,1326.14 1651.59,1325.88 1651.68,1325.62 1651.76,1325.37 1651.84,1325.11 \n",
       "  1651.92,1324.86 1652,1324.61 1652.09,1324.36 1652.17,1324.11 1652.25,1323.86 1652.33,1323.61 1652.42,1323.36 1652.5,1323.12 1652.58,1322.87 1652.66,1322.63 \n",
       "  1652.75,1322.39 1652.83,1322.15 1652.91,1321.91 1652.99,1321.67 1653.08,1321.43 1653.16,1321.19 1653.24,1320.95 1653.32,1320.72 1653.41,1320.49 1653.49,1320.25 \n",
       "  1653.57,1320.02 1653.65,1319.79 1653.74,1319.56 1653.82,1319.33 1653.9,1319.1 1653.98,1318.87 1654.07,1318.65 1654.15,1318.42 1654.23,1318.2 1654.31,1317.98 \n",
       "  1654.4,1317.75 1654.48,1317.53 1654.56,1317.31 1654.64,1317.09 1654.73,1316.88 1654.81,1316.66 1654.89,1316.44 1654.97,1316.23 1655.06,1316.01 1655.14,1315.8 \n",
       "  1655.22,1315.59 1655.3,1315.38 1655.39,1315.17 1655.47,1314.96 1655.55,1314.75 1655.63,1314.54 1655.72,1314.33 1655.8,1314.13 1655.88,1313.92 1655.96,1313.72 \n",
       "  1656.05,1313.52 1656.13,1313.31 1656.21,1313.11 1656.29,1312.91 1656.37,1312.71 1656.46,1312.52 1656.54,1312.32 1656.62,1312.12 1656.7,1311.93 1656.79,1311.73 \n",
       "  1656.87,1311.54 1656.95,1311.34 1657.03,1311.15 1657.12,1310.96 1657.2,1310.77 1657.28,1310.58 1657.36,1310.39 1657.45,1310.21 1657.53,1310.02 1657.61,1309.83 \n",
       "  1657.69,1309.65 1657.78,1309.46 1657.86,1309.28 1657.94,1309.1 1658.02,1308.92 1658.11,1308.74 1658.19,1308.56 1658.27,1308.38 1658.35,1308.2 1658.44,1308.02 \n",
       "  1658.52,1307.85 1658.6,1307.67 1658.68,1307.49 1658.77,1307.32 1658.85,1307.15 1658.93,1306.98 1659.01,1306.8 1659.1,1306.63 1659.18,1306.46 1659.26,1306.3 \n",
       "  1659.34,1306.13 1659.43,1305.96 1659.51,1305.79 1659.59,1305.63 1659.67,1305.46 1659.76,1305.3 1659.84,1305.14 1659.92,1304.97 1660,1304.81 1660.09,1304.65 \n",
       "  1660.17,1304.49 1660.25,1304.33 1660.33,1304.18 1660.41,1304.02 1660.5,1303.86 1660.58,1303.71 1660.66,1303.55 1660.74,1303.4 1660.83,1303.24 1660.91,1303.09 \n",
       "  1660.99,1302.94 1661.07,1302.79 1661.16,1302.64 1661.24,1302.49 1661.32,1302.34 1661.4,1302.19 1661.49,1302.05 1661.57,1301.9 1661.65,1301.75 1661.73,1301.61 \n",
       "  1661.82,1301.47 1661.9,1301.32 1661.98,1301.18 1662.06,1301.04 1662.15,1300.9 1662.23,1300.76 1662.31,1300.62 1662.39,1300.48 1662.48,1300.34 1662.56,1300.2 \n",
       "  1662.64,1300.07 1662.72,1299.93 1662.81,1299.8 1662.89,1299.66 1662.97,1299.53 1663.05,1299.4 1663.14,1299.27 1663.22,1299.14 1663.3,1299.01 1663.38,1298.88 \n",
       "  1663.47,1298.75 1663.55,1298.62 1663.63,1298.49 1663.71,1298.37 1663.8,1298.24 1663.88,1298.12 1663.96,1297.99 1664.04,1297.87 1664.13,1297.75 1664.21,1297.63 \n",
       "  1664.29,1297.5 1664.37,1297.38 1664.46,1297.26 1664.54,1297.15 1664.62,1297.03 1664.7,1296.91 1664.78,1296.79 1664.87,1296.68 1664.95,1296.56 1665.03,1296.45 \n",
       "  1665.11,1296.33 1665.2,1296.22 1665.28,1296.11 1665.36,1296 1665.44,1295.89 1665.53,1295.78 1665.61,1295.67 1665.69,1295.56 1665.77,1295.45 1665.86,1295.34 \n",
       "  1665.94,1295.24 1666.02,1295.13 1666.1,1295.03 1666.19,1294.92 1666.27,1294.82 1666.35,1294.71 1666.43,1294.61 1666.52,1294.51 1666.6,1294.41 1666.68,1294.31 \n",
       "  1666.76,1294.21 1666.85,1294.11 1666.93,1294.01 1667.01,1293.92 1667.09,1293.82 1667.18,1293.72 1667.26,1293.63 1667.34,1293.54 1667.42,1293.44 1667.51,1293.35 \n",
       "  1667.59,1293.26 1667.67,1293.17 1667.75,1293.07 1667.84,1292.98 1667.92,1292.89 1668,1292.81 1668.08,1292.72 1668.17,1292.63 1668.25,1292.54 1668.33,1292.46 \n",
       "  1668.41,1292.37 1668.5,1292.29 1668.58,1292.21 1668.66,1292.12 1668.74,1292.04 1668.82,1291.96 1668.91,1291.88 1668.99,1291.8 1669.07,1291.72 1669.15,1291.64 \n",
       "  1669.24,1291.56 1669.32,1291.48 1669.4,1291.41 1669.48,1291.33 1669.57,1291.26 1669.65,1291.18 1669.73,1291.11 1669.81,1291.03 1669.9,1290.96 1669.98,1290.89 \n",
       "  1670.06,1290.82 1670.14,1290.75 1670.23,1290.68 1670.31,1290.61 1670.39,1290.54 1670.47,1290.47 1670.56,1290.41 1670.64,1290.34 1670.72,1290.27 1670.8,1290.21 \n",
       "  1670.89,1290.14 1670.97,1290.08 1671.05,1290.02 1671.13,1289.96 1671.22,1289.89 1671.3,1289.83 1671.38,1289.77 1671.46,1289.71 1671.55,1289.65 1671.63,1289.6 \n",
       "  1671.71,1289.54 1671.79,1289.48 1671.88,1289.43 1671.96,1289.37 1672.04,1289.32 1672.12,1289.26 1672.21,1289.21 1672.29,1289.16 1672.37,1289.11 1672.45,1289.05 \n",
       "  1672.54,1289 1672.62,1288.95 1672.7,1288.91 1672.78,1288.86 1672.87,1288.81 1672.95,1288.76 1673.03,1288.72 1673.11,1288.67 1673.19,1288.62 1673.28,1288.58 \n",
       "  1673.36,1288.54 1673.44,1288.49 1673.52,1288.45 1673.61,1288.41 1673.69,1288.37 1673.77,1288.33 1673.85,1288.29 1673.94,1288.25 1674.02,1288.21 1674.1,1288.18 \n",
       "  1674.18,1288.14 1674.27,1288.1 1674.35,1288.07 1674.43,1288.03 1674.51,1288 1674.6,1287.97 1674.68,1287.93 1674.76,1287.9 1674.84,1287.87 1674.93,1287.84 \n",
       "  1675.01,1287.81 1675.09,1287.78 1675.17,1287.75 1675.26,1287.73 1675.34,1287.7 1675.42,1287.67 1675.5,1287.65 1675.59,1287.62 1675.67,1287.6 1675.75,1287.57 \n",
       "  1675.83,1287.55 1675.92,1287.53 1676,1287.51 1676.08,1287.49 1676.16,1287.47 1676.25,1287.45 1676.33,1287.43 1676.41,1287.41 1676.49,1287.39 1676.58,1287.38 \n",
       "  1676.66,1287.36 1676.74,1287.35 1676.82,1287.33 1676.91,1287.32 1676.99,1287.3 1677.07,1287.29 1677.15,1287.28 1677.23,1287.27 1677.32,1287.26 1677.4,1287.25 \n",
       "  1677.48,1287.24 1677.56,1287.23 1677.65,1287.22 1677.73,1287.22 1677.81,1287.21 1677.89,1287.21 1677.98,1287.2 1678.06,1287.2 1678.14,1287.19 1678.22,1287.19 \n",
       "  1678.31,1287.19 1678.39,1287.19 1678.47,1287.19 1678.55,1287.19 1678.64,1287.19 1678.72,1287.19 1678.8,1287.19 1678.88,1287.2 1678.97,1287.2 1679.05,1287.2 \n",
       "  1679.13,1287.21 1679.21,1287.22 1679.3,1287.22 1679.38,1287.23 1679.46,1287.24 1679.54,1287.25 1679.63,1287.26 1679.71,1287.27 1679.79,1287.28 1679.87,1287.29 \n",
       "  1679.96,1287.3 1680.04,1287.32 1680.12,1287.33 1680.2,1287.34 1680.29,1287.36 1680.37,1287.38 1680.45,1287.39 1680.53,1287.41 1680.62,1287.43 1680.7,1287.45 \n",
       "  1680.78,1287.47 1680.86,1287.49 1680.95,1287.51 1681.03,1287.53 1681.11,1287.55 1681.19,1287.58 1681.28,1287.6 1681.36,1287.63 1681.44,1287.65 1681.52,1287.68 \n",
       "  1681.6,1287.7 1681.69,1287.73 1681.77,1287.76 1681.85,1287.79 1681.93,1287.82 1682.02,1287.85 1682.1,1287.88 1682.18,1287.91 1682.26,1287.95 1682.35,1287.98 \n",
       "  1682.43,1288.02 1682.51,1288.05 1682.59,1288.09 1682.68,1288.12 1682.76,1288.16 1682.84,1288.2 1682.92,1288.24 1683.01,1288.28 1683.09,1288.32 1683.17,1288.36 \n",
       "  1683.25,1288.4 1683.34,1288.45 1683.42,1288.49 1683.5,1288.53 1683.58,1288.58 1683.67,1288.62 1683.75,1288.67 1683.83,1288.72 1683.91,1288.77 1684,1288.82 \n",
       "  1684.08,1288.87 1684.16,1288.92 1684.24,1288.97 1684.33,1289.02 1684.41,1289.07 1684.49,1289.13 1684.57,1289.18 1684.66,1289.24 1684.74,1289.29 1684.82,1289.35 \n",
       "  1684.9,1289.41 1684.99,1289.47 1685.07,1289.53 1685.15,1289.59 1685.23,1289.65 1685.32,1289.71 1685.4,1289.77 1685.48,1289.83 1685.56,1289.9 1685.64,1289.96 \n",
       "  1685.73,1290.03 1685.81,1290.09 1685.89,1290.16 1685.97,1290.23 1686.06,1290.3 1686.14,1290.37 1686.22,1290.44 1686.3,1290.51 1686.39,1290.58 1686.47,1290.66 \n",
       "  1686.55,1290.73 1686.63,1290.81 1686.72,1290.88 1686.8,1290.96 1686.88,1291.03 1686.96,1291.11 1687.05,1291.19 1687.13,1291.27 1687.21,1291.35 1687.29,1291.43 \n",
       "  1687.38,1291.52 1687.46,1291.6 1687.54,1291.68 1687.62,1291.77 1687.71,1291.85 1687.79,1291.94 1687.87,1292.03 1687.95,1292.12 1688.04,1292.2 1688.12,1292.29 \n",
       "  1688.2,1292.39 1688.28,1292.48 1688.37,1292.57 1688.45,1292.66 1688.53,1292.76 1688.61,1292.85 1688.7,1292.95 1688.78,1293.05 1688.86,1293.14 1688.94,1293.24 \n",
       "  1689.03,1293.34 1689.11,1293.44 1689.19,1293.54 1689.27,1293.65 1689.36,1293.75 1689.44,1293.85 1689.52,1293.96 1689.6,1294.07 1689.69,1294.17 1689.77,1294.28 \n",
       "  1689.85,1294.39 1689.93,1294.5 1690.01,1294.61 1690.1,1294.72 1690.18,1294.83 1690.26,1294.95 1690.34,1295.06 1690.43,1295.18 1690.51,1295.29 1690.59,1295.41 \n",
       "  1690.67,1295.53 1690.76,1295.65 1690.84,1295.77 1690.92,1295.89 1691,1296.01 1691.09,1296.13 1691.17,1296.26 1691.25,1296.38 1691.33,1296.51 1691.42,1296.63 \n",
       "  1691.5,1296.76 1691.58,1296.89 1691.66,1297.02 1691.75,1297.15 1691.83,1297.28 1691.91,1297.42 1691.99,1297.55 1692.08,1297.68 1692.16,1297.82 1692.24,1297.96 \n",
       "  1692.32,1298.09 1692.41,1298.23 1692.49,1298.37 1692.57,1298.51 1692.65,1298.66 1692.74,1298.8 1692.82,1298.94 1692.9,1299.09 1692.98,1299.23 1693.07,1299.38 \n",
       "  1693.15,1299.53 1693.23,1299.68 1693.31,1299.83 1693.4,1299.98 1693.48,1300.13 1693.56,1300.28 1693.64,1300.44 1693.73,1300.59 1693.81,1300.75 1693.89,1300.91 \n",
       "  1693.97,1301.07 1694.05,1301.23 1694.14,1301.39 1694.22,1301.55 1694.3,1301.71 1694.38,1301.88 1694.47,1302.04 1694.55,1302.21 1694.63,1302.38 1694.71,1302.55 \n",
       "  1694.8,1302.72 1694.88,1302.89 1694.96,1303.06 1695.04,1303.23 1695.13,1303.41 1695.21,1303.58 1695.29,1303.76 1695.37,1303.94 1695.46,1304.12 1695.54,1304.3 \n",
       "  1695.62,1304.48 1695.7,1304.66 1695.79,1304.85 1695.87,1305.03 1695.95,1305.22 1696.03,1305.41 1696.12,1305.6 1696.2,1305.79 1696.28,1305.98 1696.36,1306.17 \n",
       "  1696.45,1306.36 1696.53,1306.56 1696.61,1306.75 1696.69,1306.95 1696.78,1307.15 1696.86,1307.35 1696.94,1307.55 1697.02,1307.76 1697.11,1307.96 1697.19,1308.16 \n",
       "  1697.27,1308.37 1697.35,1308.58 1697.44,1308.79 1697.52,1309 1697.6,1309.21 1697.68,1309.42 1697.77,1309.64 1697.85,1309.85 1697.93,1310.07 1698.01,1310.29 \n",
       "  1698.1,1310.51 1698.18,1310.73 1698.26,1310.95 1698.34,1311.18 1698.42,1311.4 1698.51,1311.63 1698.59,1311.86 1698.67,1312.09 1698.75,1312.32 1698.84,1312.55 \n",
       "  1698.92,1312.79 1699,1313.02 1699.08,1313.26 1699.17,1313.5 1699.25,1313.74 1699.33,1313.98 1699.41,1314.22 1699.5,1314.46 1699.58,1314.71 1699.66,1314.96 \n",
       "  1699.74,1315.21 1699.83,1315.46 1699.91,1315.71 1699.99,1315.96 1700.07,1316.22 1700.16,1316.47 1700.24,1316.73 1700.32,1316.99 1700.4,1317.25 1700.49,1317.52 \n",
       "  1700.57,1317.78 1700.65,1318.05 1700.73,1318.31 1700.82,1318.58 1700.9,1318.86 1700.98,1319.13 1701.06,1319.4 1701.15,1319.68 1701.23,1319.96 1701.31,1320.24 \n",
       "  1701.39,1320.52 1701.48,1320.8 1701.56,1321.09 1701.64,1321.37 1701.72,1321.66 1701.81,1321.95 1701.89,1322.24 1701.97,1322.54 1702.05,1322.83 1702.14,1323.13 \n",
       "  1702.22,1323.43 1702.3,1323.73 1702.38,1324.03 1702.46,1324.34 1702.55,1324.64 1702.63,1324.95 1702.71,1325.26 1702.79,1325.57 1702.88,1325.89 1702.96,1326.21 \n",
       "  1703.04,1326.52 1703.12,1326.84 1703.21,1327.17 1703.29,1327.49 1703.37,1327.82 1703.45,1328.14 1703.54,1328.47 1703.62,1328.81 1703.7,1329.14 1703.78,1329.48 \n",
       "  1703.87,1329.82 1703.95,1330.16 1704.03,1330.5 1704.11,1330.84 1704.2,1331.19 1704.28,1331.54 1704.36,1331.89 1704.44,1332.25 1704.53,1332.6 1704.61,1332.96 \n",
       "  1704.69,1333.32 1704.77,1333.69 1704.86,1334.05 1704.94,1334.42 1705.02,1334.79 1705.1,1335.16 1705.19,1335.54 1705.27,1335.91 1705.35,1336.29 1705.43,1336.67 \n",
       "  1705.52,1337.06 1705.6,1337.45 1705.68,1337.83 1705.76,1338.23 1705.85,1338.62 1705.93,1339.02 1706.01,1339.42 1706.09,1339.82 1706.18,1340.23 1706.26,1340.63 \n",
       "  1706.34,1341.04 1706.42,1341.46 1706.51,1341.87 1706.59,1342.29 1706.67,1342.71 1706.75,1343.14 1706.83,1343.56 1706.92,1343.99 1707,1344.43 1707.08,1344.86 \n",
       "  1707.16,1345.3 1707.25,1345.74 1707.33,1346.19 1707.41,1346.64 1707.49,1347.09 1707.58,1347.54 1707.66,1348 1707.74,1348.46 1707.82,1348.92 1707.91,1349.39 \n",
       "  1707.99,1349.86 1708.07,1350.33 1708.15,1350.81 1708.24,1351.29 1708.32,1351.77 1708.4,1352.26 1708.48,1352.75 1708.57,1353.24 1708.65,1353.74 1708.73,1354.24 \n",
       "  1708.81,1354.74 1708.9,1355.25 1708.98,1355.76 1709.06,1356.28 1709.14,1356.8 1709.23,1357.32 1709.31,1357.85 1709.39,1358.38 1709.47,1358.91 1709.56,1359.45 \n",
       "  1709.64,1359.99 1709.72,1360.54 1709.8,1361.09 1709.89,1361.65 1709.97,1362.21 1710.05,1362.77 1710.13,1363.34 1710.22,1363.91 1710.3,1364.49 1710.38,1365.07 \n",
       "  1710.46,1365.65 1710.55,1366.25 1710.63,1366.84 1710.71,1367.44 1710.79,1368.04 1710.87,1368.65 1710.96,1369.27 1711.04,1369.89 1711.12,1370.51 1711.2,1371.14 \n",
       "  1711.29,1371.78 1711.37,1372.42 1711.45,1373.06 1711.53,1373.71 1711.62,1374.37 1711.7,1375.03 1711.78,1375.7 1711.86,1376.37 1711.95,1377.05 1712.03,1377.73 \n",
       "  1712.11,1378.42 1712.19,1379.12 1712.28,1379.82 1712.36,1380.53 1712.44,1381.24 1712.52,1381.96 1712.61,1382.69 1712.69,1383.43 1712.77,1384.17 1712.85,1384.92 \n",
       "  1712.94,1385.67 1713.02,1386.43 1713.1,1387.2 1713.18,1387.98 1713.27,1388.76 1713.35,1389.55 1713.43,1390.35 1713.51,1391.16 1713.6,1391.97 1713.68,1392.79 \n",
       "  1713.76,1393.62 1713.84,1394.46 1713.93,1395.31 1714.01,1396.16 1714.09,1397.03 1714.17,1397.9 1714.26,1398.78 1714.34,1399.67 1714.42,1400.57 1714.5,1401.48 \n",
       "  1714.59,1402.4 1714.67,1403.33 1714.75,1404.27 1714.83,1405.22 1714.92,1406.18 1715,1407.16 1715.08,1408.14 1715.16,1409.13 1715.24,1410.14 1715.33,1411.15 \n",
       "  1715.41,1412.18 1715.49,1413.22 1715.57,1414.27 1715.66,1415.34 1715.74,1416.42 1715.82,1417.51 1715.9,1418.62 1715.99,1419.74 1716.07,1420.87 1716.15,1422.02 \n",
       "  1716.23,1423.18 1716.32,1421.85 1716.4,1420.54 1716.48,1419.24 1716.56,1417.96 1716.65,1416.69 1716.73,1415.44 1716.81,1414.2 1716.89,1412.98 1716.98,1411.77 \n",
       "  1717.06,1410.57 1717.14,1409.39 1717.22,1408.22 1717.31,1407.07 1717.39,1405.92 1717.47,1404.79 1717.55,1403.67 1717.64,1402.57 1717.72,1401.47 1717.8,1400.39 \n",
       "  1717.88,1399.31 1717.97,1398.25 1718.05,1397.2 1718.13,1396.16 1718.21,1395.13 1718.3,1394.1 1718.38,1393.09 1718.46,1392.09 1718.54,1391.1 1718.63,1390.12 \n",
       "  1718.71,1389.14 1718.79,1388.18 1718.87,1387.22 1718.96,1386.27 1719.04,1385.33 1719.12,1384.4 1719.2,1383.48 1719.28,1382.57 1719.37,1381.66 1719.45,1380.76 \n",
       "  1719.53,1379.87 1719.61,1378.98 1719.7,1378.11 1719.78,1377.24 1719.86,1376.38 1719.94,1375.52 1720.03,1374.67 1720.11,1373.83 1720.19,1373 1720.27,1372.17 \n",
       "  1720.36,1371.35 1720.44,1370.54 1720.52,1369.73 1720.6,1368.93 1720.69,1368.13 1720.77,1367.34 1720.85,1366.56 1720.93,1365.78 1721.02,1365.01 1721.1,1364.24 \n",
       "  1721.18,1363.48 1721.26,1362.72 1721.35,1361.97 1721.43,1361.23 1721.51,1360.49 1721.59,1359.76 1721.68,1359.03 1721.76,1358.3 1721.84,1357.59 1721.92,1356.87 \n",
       "  1722.01,1356.16 1722.09,1355.46 1722.17,1354.76 1722.25,1354.07 1722.34,1353.38 1722.42,1352.69 1722.5,1352.01 1722.58,1351.34 1722.67,1350.67 1722.75,1350 \n",
       "  1722.83,1349.34 1722.91,1348.68 1723,1348.02 1723.08,1347.38 1723.16,1346.73 1723.24,1346.09 1723.33,1345.45 1723.41,1344.82 1723.49,1344.19 1723.57,1343.56 \n",
       "  1723.65,1342.94 1723.74,1342.32 1723.82,1341.71 1723.9,1341.1 1723.98,1340.49 1724.07,1339.89 1724.15,1339.29 1724.23,1338.7 1724.31,1338.1 1724.4,1337.52 \n",
       "  1724.48,1336.93 1724.56,1336.35 1724.64,1335.77 1724.73,1335.2 1724.81,1334.63 1724.89,1334.06 1724.97,1333.49 1725.06,1332.93 1725.14,1332.37 1725.22,1331.82 \n",
       "  1725.3,1331.27 1725.39,1330.72 1725.47,1330.17 1725.55,1329.63 1725.63,1329.09 1725.72,1328.55 1725.8,1328.02 1725.88,1327.49 1725.96,1326.96 1726.05,1326.44 \n",
       "  1726.13,1325.92 1726.21,1325.4 1726.29,1324.88 1726.38,1324.37 1726.46,1323.86 1726.54,1323.35 1726.62,1322.84 1726.71,1322.34 1726.79,1321.84 1726.87,1321.34 \n",
       "  1726.95,1320.85 1727.04,1320.36 1727.12,1319.87 1727.2,1319.38 1727.28,1318.89 1727.37,1318.41 1727.45,1317.93 1727.53,1317.46 1727.61,1316.98 1727.69,1316.51 \n",
       "  1727.78,1316.04 1727.86,1315.57 1727.94,1315.11 1728.02,1314.65 1728.11,1314.19 1728.19,1313.73 1728.27,1313.27 1728.35,1312.82 1728.44,1312.37 1728.52,1311.92 \n",
       "  1728.6,1311.47 1728.68,1311.03 1728.77,1310.59 1728.85,1310.15 1728.93,1309.71 1729.01,1309.27 1729.1,1308.84 1729.18,1308.41 1729.26,1307.98 1729.34,1307.55 \n",
       "  1729.43,1307.13 1729.51,1306.71 1729.59,1306.28 1729.67,1305.87 1729.76,1305.45 1729.84,1305.03 1729.92,1304.62 1730,1304.21 1730.09,1303.8 1730.17,1303.39 \n",
       "  1730.25,1302.99 1730.33,1302.59 1730.42,1302.18 1730.5,1301.79 1730.58,1301.39 1730.66,1300.99 1730.75,1300.6 1730.83,1300.21 1730.91,1299.82 1730.99,1299.43 \n",
       "  1731.08,1299.04 1731.16,1298.66 1731.24,1298.27 1731.32,1297.89 1731.41,1297.51 1731.49,1297.14 1731.57,1296.76 1731.65,1296.39 1731.74,1296.01 1731.82,1295.64 \n",
       "  1731.9,1295.28 1731.98,1294.91 1732.06,1294.54 1732.15,1294.18 1732.23,1293.82 1732.31,1293.46 1732.39,1293.1 1732.48,1292.74 1732.56,1292.38 1732.64,1292.03 \n",
       "  1732.72,1291.68 1732.81,1291.33 1732.89,1290.98 1732.97,1290.63 1733.05,1290.28 1733.14,1289.94 1733.22,1289.6 1733.3,1289.25 1733.38,1288.91 1733.47,1288.58 \n",
       "  1733.55,1288.24 1733.63,1287.9 1733.71,1287.57 1733.8,1287.24 1733.88,1286.91 1733.96,1286.58 1734.04,1286.25 1734.13,1285.92 1734.21,1285.6 1734.29,1285.27 \n",
       "  1734.37,1284.95 1734.46,1284.63 1734.54,1284.31 1734.62,1283.99 1734.7,1283.68 1734.79,1283.36 1734.87,1283.05 1734.95,1282.74 1735.03,1282.43 1735.12,1282.12 \n",
       "  1735.2,1281.81 1735.28,1281.5 1735.36,1281.2 1735.45,1280.89 1735.53,1280.59 1735.61,1280.29 1735.69,1279.99 1735.78,1279.69 1735.86,1279.39 1735.94,1279.1 \n",
       "  1736.02,1278.8 1736.1,1278.51 1736.19,1278.21 1736.27,1277.92 1736.35,1277.63 1736.43,1277.35 1736.52,1277.06 1736.6,1276.77 1736.68,1276.49 1736.76,1276.2 \n",
       "  1736.85,1275.92 1736.93,1275.64 1737.01,1275.36 1737.09,1275.08 1737.18,1274.81 1737.26,1274.53 1737.34,1274.26 1737.42,1273.98 1737.51,1273.71 1737.59,1273.44 \n",
       "  1737.67,1273.17 1737.75,1272.9 1737.84,1272.63 1737.92,1272.37 1738,1272.1 1738.08,1271.84 1738.17,1271.58 1738.25,1271.31 1738.33,1271.05 1738.41,1270.79 \n",
       "  1738.5,1270.54 1738.58,1270.28 1738.66,1270.02 1738.74,1269.77 1738.83,1269.51 1738.91,1269.26 1738.99,1269.01 1739.07,1268.76 1739.16,1268.51 1739.24,1268.26 \n",
       "  1739.32,1268.02 1739.4,1267.77 1739.49,1267.53 1739.57,1267.28 1739.65,1267.04 1739.73,1266.8 1739.82,1266.56 1739.9,1266.32 1739.98,1266.08 1740.06,1265.84 \n",
       "  1740.15,1265.61 1740.23,1265.37 1740.31,1265.14 1740.39,1264.91 1740.47,1264.68 1740.56,1264.45 1740.64,1264.22 1740.72,1263.99 1740.8,1263.76 1740.89,1263.53 \n",
       "  1740.97,1263.31 1741.05,1263.08 1741.13,1262.86 1741.22,1262.64 1741.3,1262.42 1741.38,1262.2 1741.46,1261.98 1741.55,1261.76 1741.63,1261.54 1741.71,1261.33 \n",
       "  1741.79,1261.11 1741.88,1260.9 1741.96,1260.68 1742.04,1260.47 1742.12,1260.26 1742.21,1260.05 1742.29,1259.84 1742.37,1259.63 1742.45,1259.42 1742.54,1259.22 \n",
       "  1742.62,1259.01 1742.7,1258.81 1742.78,1258.61 1742.87,1258.4 1742.95,1258.2 1743.03,1258 1743.11,1257.8 1743.2,1257.6 1743.28,1257.41 1743.36,1257.21 \n",
       "  1743.44,1257.01 1743.53,1256.82 1743.61,1256.62 1743.69,1256.43 1743.77,1256.24 1743.86,1256.05 1743.94,1255.86 1744.02,1255.67 1744.1,1255.48 1744.19,1255.29 \n",
       "  1744.27,1255.11 1744.35,1254.92 1744.43,1254.74 1744.51,1254.56 1744.6,1254.37 1744.68,1254.19 1744.76,1254.01 1744.84,1253.83 1744.93,1253.65 1745.01,1253.47 \n",
       "  1745.09,1253.3 1745.17,1253.12 1745.26,1252.95 1745.34,1252.77 1745.42,1252.6 1745.5,1252.42 1745.59,1252.25 1745.67,1252.08 1745.75,1251.91 1745.83,1251.74 \n",
       "  1745.92,1251.58 1746,1251.41 1746.08,1251.24 1746.16,1251.08 1746.25,1250.91 1746.33,1250.75 1746.41,1250.59 1746.49,1250.42 1746.58,1250.26 1746.66,1250.1 \n",
       "  1746.74,1249.94 1746.82,1249.78 1746.91,1249.63 1746.99,1249.47 1747.07,1249.31 1747.15,1249.16 1747.24,1249.01 1747.32,1248.85 1747.4,1248.7 1747.48,1248.55 \n",
       "  1747.57,1248.4 1747.65,1248.25 1747.73,1248.1 1747.81,1247.95 1747.9,1247.8 1747.98,1247.66 1748.06,1247.51 1748.14,1247.37 1748.23,1247.22 1748.31,1247.08 \n",
       "  1748.39,1246.94 1748.47,1246.8 1748.56,1246.66 1748.64,1246.52 1748.72,1246.38 1748.8,1246.24 1748.88,1246.1 1748.97,1245.97 1749.05,1245.83 1749.13,1245.7 \n",
       "  1749.21,1245.56 1749.3,1245.43 1749.38,1245.3 1749.46,1245.17 1749.54,1245.04 1749.63,1244.91 1749.71,1244.78 1749.79,1244.65 1749.87,1244.52 1749.96,1244.4 \n",
       "  1750.04,1244.27 1750.12,1244.15 1750.2,1244.02 1750.29,1243.9 1750.37,1243.78 1750.45,1243.66 1750.53,1243.54 1750.62,1243.42 1750.7,1243.3 1750.78,1243.18 \n",
       "  1750.86,1243.06 1750.95,1242.94 1751.03,1242.83 1751.11,1242.71 1751.19,1242.6 1751.28,1242.49 1751.36,1242.37 1751.44,1242.26 1751.52,1242.15 1751.61,1242.04 \n",
       "  1751.69,1241.93 1751.77,1241.82 1751.85,1241.72 1751.94,1241.61 1752.02,1241.5 1752.1,1241.4 1752.18,1241.29 1752.27,1241.19 1752.35,1241.09 1752.43,1240.99 \n",
       "  1752.51,1240.88 1752.6,1240.78 1752.68,1240.68 1752.76,1240.59 1752.84,1240.49 1752.92,1240.39 1753.01,1240.29 1753.09,1240.2 1753.17,1240.1 1753.25,1240.01 \n",
       "  1753.34,1239.92 1753.42,1239.82 1753.5,1239.73 1753.58,1239.64 1753.67,1239.55 1753.75,1239.46 1753.83,1239.37 1753.91,1239.29 1754,1239.2 1754.08,1239.11 \n",
       "  1754.16,1239.03 1754.24,1238.94 1754.33,1238.86 1754.41,1238.78 1754.49,1238.7 1754.57,1238.61 1754.66,1238.53 1754.74,1238.45 1754.82,1238.38 1754.9,1238.3 \n",
       "  1754.99,1238.22 1755.07,1238.14 1755.15,1238.07 1755.23,1237.99 1755.32,1237.92 1755.4,1237.84 1755.48,1237.77 1755.56,1237.7 1755.65,1237.63 1755.73,1237.56 \n",
       "  1755.81,1237.49 1755.89,1237.42 1755.98,1237.35 1756.06,1237.29 1756.14,1237.22 1756.22,1237.15 1756.31,1237.09 1756.39,1237.03 1756.47,1236.96 1756.55,1236.9 \n",
       "  1756.64,1236.84 1756.72,1236.78 1756.8,1236.72 1756.88,1236.66 1756.97,1236.6 1757.05,1236.54 1757.13,1236.49 1757.21,1236.43 1757.29,1236.38 1757.38,1236.32 \n",
       "  1757.46,1236.27 1757.54,1236.21 1757.62,1236.16 1757.71,1236.11 1757.79,1236.06 1757.87,1236.01 1757.95,1235.96 1758.04,1235.91 1758.12,1235.87 1758.2,1235.82 \n",
       "  1758.28,1235.77 1758.37,1235.73 1758.45,1235.69 1758.53,1235.64 1758.61,1235.6 1758.7,1235.56 1758.78,1235.52 1758.86,1235.48 1758.94,1235.44 1759.03,1235.4 \n",
       "  1759.11,1235.36 1759.19,1235.32 1759.27,1235.29 1759.36,1235.25 1759.44,1235.22 1759.52,1235.19 1759.6,1235.15 1759.69,1235.12 1759.77,1235.09 1759.85,1235.06 \n",
       "  1759.93,1235.03 1760.02,1235 1760.1,1234.97 1760.18,1234.94 1760.26,1234.92 1760.35,1234.89 1760.43,1234.87 1760.51,1234.84 1760.59,1234.82 1760.68,1234.8 \n",
       "  1760.76,1234.78 1760.84,1234.76 1760.92,1234.74 1761.01,1234.72 1761.09,1234.7 1761.17,1234.68 1761.25,1234.66 1761.33,1234.65 1761.42,1234.63 1761.5,1234.62 \n",
       "  1761.58,1234.61 1761.66,1234.59 1761.75,1234.58 1761.83,1234.57 1761.91,1234.56 1761.99,1234.55 1762.08,1234.54 1762.16,1234.53 1762.24,1234.53 1762.32,1234.52 \n",
       "  1762.41,1234.52 1762.49,1234.51 1762.57,1234.51 1762.65,1234.51 1762.74,1234.5 1762.82,1234.5 1762.9,1234.5 1762.98,1234.5 1763.07,1234.51 1763.15,1234.51 \n",
       "  1763.23,1234.51 1763.31,1234.52 1763.4,1234.52 1763.48,1234.53 1763.56,1234.53 1763.64,1234.54 1763.73,1234.55 1763.81,1234.56 1763.89,1234.57 1763.97,1234.58 \n",
       "  1764.06,1234.59 1764.14,1234.6 1764.22,1234.62 1764.3,1234.63 1764.39,1234.65 1764.47,1234.66 1764.55,1234.68 1764.63,1234.7 1764.72,1234.71 1764.8,1234.73 \n",
       "  1764.88,1234.75 1764.96,1234.78 1765.05,1234.8 1765.13,1234.82 1765.21,1234.84 1765.29,1234.87 1765.38,1234.9 1765.46,1234.92 1765.54,1234.95 1765.62,1234.98 \n",
       "  1765.7,1235.01 1765.79,1235.04 1765.87,1235.07 1765.95,1235.1 1766.03,1235.13 1766.12,1235.17 1766.2,1235.2 1766.28,1235.24 1766.36,1235.27 1766.45,1235.31 \n",
       "  1766.53,1235.35 1766.61,1235.39 1766.69,1235.43 1766.78,1235.47 1766.86,1235.51 1766.94,1235.55 1767.02,1235.59 1767.11,1235.64 1767.19,1235.68 1767.27,1235.73 \n",
       "  1767.35,1235.78 1767.44,1235.83 1767.52,1235.88 1767.6,1235.93 1767.68,1235.98 1767.77,1236.03 1767.85,1236.08 1767.93,1236.13 1768.01,1236.19 1768.1,1236.24 \n",
       "  1768.18,1236.3 1768.26,1236.36 1768.34,1236.42 1768.43,1236.48 1768.51,1236.54 1768.59,1236.6 1768.67,1236.66 1768.76,1236.72 1768.84,1236.79 1768.92,1236.85 \n",
       "  1769,1236.92 1769.09,1236.99 1769.17,1237.06 1769.25,1237.12 1769.33,1237.2 1769.42,1237.27 1769.5,1237.34 1769.58,1237.41 1769.66,1237.49 1769.74,1237.56 \n",
       "  1769.83,1237.64 1769.91,1237.71 1769.99,1237.79 1770.07,1237.87 1770.16,1237.95 1770.24,1238.03 1770.32,1238.11 1770.4,1238.2 1770.49,1238.28 1770.57,1238.37 \n",
       "  1770.65,1238.45 1770.73,1238.54 1770.82,1238.63 1770.9,1238.72 1770.98,1238.81 1771.06,1238.9 1771.15,1238.99 1771.23,1239.09 1771.31,1239.18 1771.39,1239.28 \n",
       "  1771.48,1239.37 1771.56,1239.47 1771.64,1239.57 1771.72,1239.67 1771.81,1239.77 1771.89,1239.87 1771.97,1239.98 1772.05,1240.08 1772.14,1240.19 1772.22,1240.29 \n",
       "  1772.3,1240.4 1772.38,1240.51 1772.47,1240.62 1772.55,1240.73 1772.63,1240.84 1772.71,1240.95 1772.8,1241.07 1772.88,1241.18 1772.96,1241.3 1773.04,1241.42 \n",
       "  1773.13,1241.54 1773.21,1241.66 1773.29,1241.78 1773.37,1241.9 1773.46,1242.02 1773.54,1242.15 1773.62,1242.27 1773.7,1242.4 1773.79,1242.53 1773.87,1242.66 \n",
       "  1773.95,1242.79 1774.03,1242.92 1774.11,1243.05 1774.2,1243.19 1774.28,1243.32 1774.36,1243.46 1774.44,1243.6 1774.53,1243.74 1774.61,1243.88 1774.69,1244.02 \n",
       "  1774.77,1244.16 1774.86,1244.3 1774.94,1244.45 1775.02,1244.6 1775.1,1244.74 1775.19,1244.89 1775.27,1245.04 1775.35,1245.19 1775.43,1245.35 1775.52,1245.5 \n",
       "  1775.6,1245.66 1775.68,1245.81 1775.76,1245.97 1775.85,1246.13 1775.93,1246.29 1776.01,1246.45 1776.09,1246.61 1776.18,1246.78 1776.26,1246.95 1776.34,1247.11 \n",
       "  1776.42,1247.28 1776.51,1247.45 1776.59,1247.62 1776.67,1247.79 1776.75,1247.97 1776.84,1248.14 1776.92,1248.32 1777,1248.5 1777.08,1248.68 1777.17,1248.86 \n",
       "  1777.25,1249.04 1777.33,1249.23 1777.41,1249.41 1777.5,1249.6 1777.58,1249.79 1777.66,1249.97 1777.74,1250.17 1777.83,1250.36 1777.91,1250.55 1777.99,1250.75 \n",
       "  1778.07,1250.95 1778.15,1251.14 1778.24,1251.34 1778.32,1251.55 1778.4,1251.75 1778.48,1251.95 1778.57,1252.16 1778.65,1252.37 1778.73,1252.58 1778.81,1252.79 \n",
       "  1778.9,1253 1778.98,1253.21 1779.06,1253.43 1779.14,1253.65 1779.23,1253.86 1779.31,1254.08 1779.39,1254.31 1779.47,1254.53 1779.56,1254.76 1779.64,1254.98 \n",
       "  1779.72,1255.21 1779.8,1255.44 1779.89,1255.67 1779.97,1255.91 1780.05,1256.14 1780.13,1256.38 1780.22,1256.62 1780.3,1256.86 1780.38,1257.1 1780.46,1257.35 \n",
       "  1780.55,1257.59 1780.63,1257.84 1780.71,1258.09 1780.79,1258.34 1780.88,1258.59 1780.96,1258.85 1781.04,1259.11 1781.12,1259.36 1781.21,1259.62 1781.29,1259.89 \n",
       "  1781.37,1260.15 1781.45,1260.42 1781.54,1260.69 1781.62,1260.96 1781.7,1261.23 1781.78,1261.5 1781.87,1261.78 1781.95,1262.06 1782.03,1262.34 1782.11,1262.62 \n",
       "  1782.2,1262.9 1782.28,1263.19 1782.36,1263.48 1782.44,1263.77 1782.52,1264.06 1782.61,1264.35 1782.69,1264.65 1782.77,1264.95 1782.85,1265.25 1782.94,1265.55 \n",
       "  1783.02,1265.86 1783.1,1266.16 1783.18,1266.47 1783.27,1266.79 1783.35,1267.1 1783.43,1267.42 1783.51,1267.73 1783.6,1268.05 1783.68,1268.38 1783.76,1268.7 \n",
       "  1783.84,1269.03 1783.93,1269.36 1784.01,1269.69 1784.09,1270.03 1784.17,1270.37 1784.26,1270.71 1784.34,1271.05 1784.42,1271.39 1784.5,1271.74 1784.59,1272.09 \n",
       "  1784.67,1272.44 1784.75,1272.8 1784.83,1273.16 1784.92,1273.52 1785,1273.88 1785.08,1274.24 1785.16,1274.61 1785.25,1274.98 1785.33,1275.36 1785.41,1275.73 \n",
       "  1785.49,1276.11 1785.58,1276.5 1785.66,1276.88 1785.74,1277.27 1785.82,1277.66 1785.91,1278.05 1785.99,1278.45 1786.07,1278.85 1786.15,1279.25 1786.24,1279.66 \n",
       "  1786.32,1280.06 1786.4,1280.48 1786.48,1280.89 1786.56,1281.31 1786.65,1281.73 1786.73,1282.15 1786.81,1282.58 1786.89,1283.01 1786.98,1283.45 1787.06,1283.88 \n",
       "  1787.14,1284.32 1787.22,1284.77 1787.31,1285.22 1787.39,1285.67 1787.47,1286.12 1787.55,1286.58 1787.64,1287.04 1787.72,1287.51 1787.8,1287.98 1787.88,1288.45 \n",
       "  1787.97,1288.92 1788.05,1289.4 1788.13,1289.89 1788.21,1290.38 1788.3,1290.87 1788.38,1291.36 1788.46,1291.86 1788.54,1292.37 1788.63,1292.88 1788.71,1293.39 \n",
       "  1788.79,1293.9 1788.87,1294.42 1788.96,1294.95 1789.04,1295.48 1789.12,1296.01 1789.2,1296.55 1789.29,1297.09 1789.37,1297.64 1789.45,1298.19 1789.53,1298.75 \n",
       "  1789.62,1299.31 1789.7,1299.87 1789.78,1300.44 1789.86,1301.02 1789.95,1301.6 1790.03,1302.18 1790.11,1302.77 1790.19,1303.37 1790.28,1303.97 1790.36,1304.58 \n",
       "  1790.44,1305.19 1790.52,1305.81 1790.61,1306.43 1790.69,1307.06 1790.77,1307.69 1790.85,1308.33 1790.93,1308.98 1791.02,1309.63 1791.1,1310.28 1791.18,1310.95 \n",
       "  1791.26,1311.62 1791.35,1312.29 1791.43,1312.98 1791.51,1313.66 1791.59,1314.36 1791.68,1315.06 1791.76,1315.77 1791.84,1316.49 1791.92,1317.21 1792.01,1317.94 \n",
       "  1792.09,1318.68 1792.17,1319.42 1792.25,1320.17 1792.34,1320.93 1792.42,1321.7 1792.5,1322.47 1792.58,1323.26 1792.67,1324.05 1792.75,1324.85 1792.83,1325.65 \n",
       "  1792.91,1326.47 1793,1327.3 1793.08,1328.13 1793.16,1328.97 1793.24,1329.82 1793.33,1330.69 1793.41,1331.56 1793.49,1332.44 1793.57,1333.33 1793.66,1334.23 \n",
       "  1793.74,1335.14 1793.82,1336.06 1793.9,1336.99 1793.99,1337.93 1794.07,1338.89 1794.15,1339.85 1794.23,1340.83 1794.32,1341.82 1794.4,1342.82 1794.48,1343.83 \n",
       "  1794.56,1344.86 1794.65,1345.9 1794.73,1346.95 1794.81,1348.01 1794.89,1349.09 1794.97,1350.19 1795.06,1351.29 1795.14,1352.42 1795.22,1353.55 1795.3,1354.71 \n",
       "  1795.39,1355.88 1795.47,1357.06 1795.55,1358.26 1795.63,1359.48 1795.72,1360.72 1795.8,1361.98 1795.88,1363.25 1795.96,1364.54 1796.05,1365.85 1796.13,1367.19 \n",
       "  1796.21,1368.54 1796.29,1369.91 1796.38,1371.31 1796.46,1372.73 1796.54,1374.17 1796.62,1375.64 1796.71,1377.13 1796.79,1378.65 1796.87,1380.19 1796.95,1381.76 \n",
       "  1797.04,1383.36 1797.12,1384.98 1797.2,1386.64 1797.28,1388.33 1797.37,1390.05 1797.45,1391.8 1797.53,1393.59 1797.61,1395.42 1797.7,1397.28 1797.78,1399.18 \n",
       "  1797.86,1401.12 1797.94,1403.1 1798.03,1405.13 1798.11,1407.2 1798.19,1409.32 1798.27,1411.49 1798.36,1413.72 1798.44,1415.99 1798.52,1418.33 1798.6,1420.72 \n",
       "  1798.69,1423.18 1798.77,1420.52 1798.85,1417.92 1798.93,1415.38 1799.02,1412.91 1799.1,1410.49 1799.18,1408.12 1799.26,1405.81 1799.34,1403.55 1799.43,1401.33 \n",
       "  1799.51,1399.16 1799.59,1397.03 1799.67,1394.95 1799.76,1392.9 1799.84,1390.9 1799.92,1388.93 1800,1387 1800.09,1385.1 1800.17,1383.23 1800.25,1381.4 \n",
       "  1800.33,1379.6 1800.42,1377.82 1800.5,1376.08 1800.58,1374.36 1800.66,1372.68 1800.75,1371.01 1800.83,1369.38 1800.91,1367.77 1800.99,1366.18 1801.08,1364.61 \n",
       "  1801.16,1363.07 1801.24,1361.55 1801.32,1360.05 1801.41,1358.57 1801.49,1357.11 1801.57,1355.67 1801.65,1354.25 1801.74,1352.85 1801.82,1351.47 1801.9,1350.1 \n",
       "  1801.98,1348.75 1802.07,1347.42 1802.15,1346.1 1802.23,1344.8 1802.31,1343.52 1802.4,1342.25 1802.48,1341 1802.56,1339.75 1802.64,1338.53 1802.73,1337.32 \n",
       "  1802.81,1336.12 1802.89,1334.93 1802.97,1333.76 1803.06,1332.6 1803.14,1331.45 1803.22,1330.31 1803.3,1329.19 1803.38,1328.08 1803.47,1326.97 1803.55,1325.88 \n",
       "  1803.63,1324.8 1803.71,1323.74 1803.8,1322.68 1803.88,1321.63 1803.96,1320.59 1804.04,1319.56 1804.13,1318.54 1804.21,1317.54 1804.29,1316.54 1804.37,1315.55 \n",
       "  1804.46,1314.56 1804.54,1313.59 1804.62,1312.63 1804.7,1311.67 1804.79,1310.72 1804.87,1309.79 1804.95,1308.86 1805.03,1307.93 1805.12,1307.02 1805.2,1306.11 \n",
       "  1805.28,1305.21 1805.36,1304.32 1805.45,1303.43 1805.53,1302.56 1805.61,1301.69 1805.69,1300.82 1805.78,1299.96 1805.86,1299.11 1805.94,1298.27 1806.02,1297.43 \n",
       "  1806.11,1296.6 1806.19,1295.78 1806.27,1294.96 1806.35,1294.15 1806.44,1293.35 1806.52,1292.55 1806.6,1291.75 1806.68,1290.97 1806.77,1290.18 1806.85,1289.41 \n",
       "  1806.93,1288.64 1807.01,1287.87 1807.1,1287.11 1807.18,1286.36 1807.26,1285.61 1807.34,1284.87 1807.43,1284.13 1807.51,1283.39 1807.59,1282.67 1807.67,1281.94 \n",
       "  1807.75,1281.22 1807.84,1280.51 1807.92,1279.8 1808,1279.1 1808.08,1278.4 1808.17,1277.7 1808.25,1277.01 1808.33,1276.33 1808.41,1275.65 1808.5,1274.97 \n",
       "  1808.58,1274.3 1808.66,1273.63 1808.74,1272.96 1808.83,1272.3 1808.91,1271.65 1808.99,1271 1809.07,1270.35 1809.16,1269.7 1809.24,1269.06 1809.32,1268.43 \n",
       "  1809.4,1267.8 1809.49,1267.17 1809.57,1266.54 1809.65,1265.92 1809.73,1265.31 1809.82,1264.69 1809.9,1264.08 1809.98,1263.48 1810.06,1262.88 1810.15,1262.28 \n",
       "  1810.23,1261.68 1810.31,1261.09 1810.39,1260.5 1810.48,1259.92 1810.56,1259.33 1810.64,1258.75 1810.72,1258.18 1810.81,1257.61 1810.89,1257.04 1810.97,1256.47 \n",
       "  1811.05,1255.91 1811.14,1255.35 1811.22,1254.79 1811.3,1254.24 1811.38,1253.69 1811.47,1253.14 1811.55,1252.6 1811.63,1252.06 1811.71,1251.52 1811.79,1250.98 \n",
       "  1811.88,1250.45 1811.96,1249.92 1812.04,1249.39 1812.12,1248.87 1812.21,1248.35 1812.29,1247.83 1812.37,1247.31 1812.45,1246.8 1812.54,1246.29 1812.62,1245.78 \n",
       "  1812.7,1245.28 1812.78,1244.77 1812.87,1244.27 1812.95,1243.78 1813.03,1243.28 1813.11,1242.79 1813.2,1242.3 1813.28,1241.81 1813.36,1241.33 1813.44,1240.84 \n",
       "  1813.53,1240.36 1813.61,1239.89 1813.69,1239.41 1813.77,1238.94 1813.86,1238.47 1813.94,1238 1814.02,1237.53 1814.1,1237.07 1814.19,1236.61 1814.27,1236.15 \n",
       "  1814.35,1235.69 1814.43,1235.24 1814.52,1234.79 1814.6,1234.33 1814.68,1233.89 1814.76,1233.44 1814.85,1233 1814.93,1232.56 1815.01,1232.12 1815.09,1231.68 \n",
       "  1815.18,1231.24 1815.26,1230.81 1815.34,1230.38 1815.42,1229.95 1815.51,1229.52 1815.59,1229.1 1815.67,1228.67 1815.75,1228.25 1815.84,1227.83 1815.92,1227.42 \n",
       "  1816,1227 1816.08,1226.59 1816.16,1226.18 1816.25,1225.77 1816.33,1225.36 1816.41,1224.95 1816.49,1224.55 1816.58,1224.15 1816.66,1223.75 1816.74,1223.35 \n",
       "  1816.82,1222.95 1816.91,1222.56 1816.99,1222.16 1817.07,1221.77 1817.15,1221.38 1817.24,1221 1817.32,1220.61 1817.4,1220.23 1817.48,1219.84 1817.57,1219.46 \n",
       "  1817.65,1219.08 1817.73,1218.71 1817.81,1218.33 1817.9,1217.96 1817.98,1217.59 1818.06,1217.22 1818.14,1216.85 1818.23,1216.48 1818.31,1216.12 1818.39,1215.75 \n",
       "  1818.47,1215.39 1818.56,1215.03 1818.64,1214.67 1818.72,1214.31 1818.8,1213.96 1818.89,1213.6 1818.97,1213.25 1819.05,1212.9 1819.13,1212.55 1819.22,1212.2 \n",
       "  1819.3,1211.85 1819.38,1211.51 1819.46,1211.17 1819.55,1210.82 1819.63,1210.48 1819.71,1210.15 1819.79,1209.81 1819.88,1209.47 1819.96,1209.14 1820.04,1208.81 \n",
       "  1820.12,1208.47 1820.2,1208.14 1820.29,1207.82 1820.37,1207.49 1820.45,1207.16 1820.53,1206.84 1820.62,1206.52 1820.7,1206.19 1820.78,1205.87 1820.86,1205.56 \n",
       "  1820.95,1205.24 1821.03,1204.92 1821.11,1204.61 1821.19,1204.29 1821.28,1203.98 1821.36,1203.67 1821.44,1203.36 1821.52,1203.06 1821.61,1202.75 1821.69,1202.45 \n",
       "  1821.77,1202.14 1821.85,1201.84 1821.94,1201.54 1822.02,1201.24 1822.1,1200.94 1822.18,1200.64 1822.27,1200.35 1822.35,1200.05 1822.43,1199.76 1822.51,1199.47 \n",
       "  1822.6,1199.18 1822.68,1198.89 1822.76,1198.6 1822.84,1198.31 1822.93,1198.03 1823.01,1197.74 1823.09,1197.46 1823.17,1197.18 1823.26,1196.9 1823.34,1196.62 \n",
       "  1823.42,1196.34 1823.5,1196.06 1823.59,1195.79 1823.67,1195.51 1823.75,1195.24 1823.83,1194.97 1823.92,1194.7 1824,1194.43 1824.08,1194.16 1824.16,1193.89 \n",
       "  1824.25,1193.63 1824.33,1193.36 1824.41,1193.1 1824.49,1192.84 1824.57,1192.57 1824.66,1192.31 1824.74,1192.06 1824.82,1191.8 1824.9,1191.54 1824.99,1191.29 \n",
       "  1825.07,1191.03 1825.15,1190.78 1825.23,1190.53 1825.32,1190.27 1825.4,1190.02 1825.48,1189.78 1825.56,1189.53 1825.65,1189.28 1825.73,1189.04 1825.81,1188.79 \n",
       "  1825.89,1188.55 1825.98,1188.31 1826.06,1188.07 1826.14,1187.83 1826.22,1187.59 1826.31,1187.35 1826.39,1187.11 1826.47,1186.88 1826.55,1186.64 1826.64,1186.41 \n",
       "  1826.72,1186.18 1826.8,1185.95 1826.88,1185.72 1826.97,1185.49 1827.05,1185.26 1827.13,1185.03 1827.21,1184.81 1827.3,1184.58 1827.38,1184.36 1827.46,1184.13 \n",
       "  1827.54,1183.91 1827.63,1183.69 1827.71,1183.47 1827.79,1183.25 1827.87,1183.04 1827.96,1182.82 1828.04,1182.6 1828.12,1182.39 1828.2,1182.18 1828.29,1181.96 \n",
       "  1828.37,1181.75 1828.45,1181.54 1828.53,1181.33 1828.61,1181.12 1828.7,1180.92 1828.78,1180.71 1828.86,1180.51 1828.94,1180.3 1829.03,1180.1 1829.11,1179.9 \n",
       "  1829.19,1179.69 1829.27,1179.49 1829.36,1179.29 1829.44,1179.1 1829.52,1178.9 1829.6,1178.7 1829.69,1178.51 1829.77,1178.31 1829.85,1178.12 1829.93,1177.93 \n",
       "  1830.02,1177.73 1830.1,1177.54 1830.18,1177.35 1830.26,1177.17 1830.35,1176.98 1830.43,1176.79 1830.51,1176.61 1830.59,1176.42 1830.68,1176.24 1830.76,1176.05 \n",
       "  1830.84,1175.87 1830.92,1175.69 1831.01,1175.51 1831.09,1175.33 1831.17,1175.15 1831.25,1174.98 1831.34,1174.8 1831.42,1174.63 1831.5,1174.45 1831.58,1174.28 \n",
       "  1831.67,1174.11 1831.75,1173.93 1831.83,1173.76 1831.91,1173.59 1832,1173.43 1832.08,1173.26 1832.16,1173.09 1832.24,1172.92 1832.33,1172.76 1832.41,1172.6 \n",
       "  1832.49,1172.43 1832.57,1172.27 1832.66,1172.11 1832.74,1171.95 1832.82,1171.79 1832.9,1171.63 1832.98,1171.47 1833.07,1171.32 1833.15,1171.16 1833.23,1171.01 \n",
       "  1833.31,1170.85 1833.4,1170.7 1833.48,1170.55 1833.56,1170.4 1833.64,1170.25 1833.73,1170.1 1833.81,1169.95 1833.89,1169.8 1833.97,1169.65 1834.06,1169.51 \n",
       "  1834.14,1169.36 1834.22,1169.22 1834.3,1169.07 1834.39,1168.93 1834.47,1168.79 1834.55,1168.65 1834.63,1168.51 1834.72,1168.37 1834.8,1168.24 1834.88,1168.1 \n",
       "  1834.96,1167.96 1835.05,1167.83 1835.13,1167.69 1835.21,1167.56 1835.29,1167.43 1835.38,1167.3 1835.46,1167.17 1835.54,1167.04 1835.62,1166.91 1835.71,1166.78 \n",
       "  1835.79,1166.65 1835.87,1166.53 1835.95,1166.4 1836.04,1166.28 1836.12,1166.15 1836.2,1166.03 1836.28,1165.91 1836.37,1165.79 1836.45,1165.67 1836.53,1165.55 \n",
       "  1836.61,1165.43 1836.7,1165.31 1836.78,1165.2 1836.86,1165.08 1836.94,1164.97 1837.02,1164.85 1837.11,1164.74 1837.19,1164.63 1837.27,1164.51 1837.35,1164.4 \n",
       "  1837.44,1164.3 1837.52,1164.19 1837.6,1164.08 1837.68,1163.97 1837.77,1163.87 1837.85,1163.76 1837.93,1163.66 1838.01,1163.55 1838.1,1163.45 1838.18,1163.35 \n",
       "  1838.26,1163.25 1838.34,1163.15 1838.43,1163.05 1838.51,1162.95 1838.59,1162.85 1838.67,1162.76 1838.76,1162.66 1838.84,1162.57 1838.92,1162.47 1839,1162.38 \n",
       "  1839.09,1162.29 1839.17,1162.2 1839.25,1162.11 1839.33,1162.02 1839.42,1161.93 1839.5,1161.84 1839.58,1161.75 1839.66,1161.67 1839.75,1161.58 1839.83,1161.5 \n",
       "  1839.91,1161.42 1839.99,1161.33 1840.08,1161.25 1840.16,1161.17 1840.24,1161.09 1840.32,1161.01 1840.41,1160.94 1840.49,1160.86 1840.57,1160.78 1840.65,1160.71 \n",
       "  1840.74,1160.63 1840.82,1160.56 1840.9,1160.49 1840.98,1160.41 1841.07,1160.34 1841.15,1160.27 1841.23,1160.2 1841.31,1160.13 1841.39,1160.07 1841.48,1160 \n",
       "  1841.56,1159.93 1841.64,1159.87 1841.72,1159.81 1841.81,1159.74 1841.89,1159.68 1841.97,1159.62 1842.05,1159.56 1842.14,1159.5 1842.22,1159.44 1842.3,1159.38 \n",
       "  1842.38,1159.33 1842.47,1159.27 1842.55,1159.21 1842.63,1159.16 1842.71,1159.11 1842.8,1159.05 1842.88,1159 1842.96,1158.95 1843.04,1158.9 1843.13,1158.85 \n",
       "  1843.21,1158.8 1843.29,1158.76 1843.37,1158.71 1843.46,1158.67 1843.54,1158.62 1843.62,1158.58 1843.7,1158.54 1843.79,1158.49 1843.87,1158.45 1843.95,1158.41 \n",
       "  1844.03,1158.37 1844.12,1158.34 1844.2,1158.3 1844.28,1158.26 1844.36,1158.23 1844.45,1158.19 1844.53,1158.16 1844.61,1158.13 1844.69,1158.09 1844.78,1158.06 \n",
       "  1844.86,1158.03 1844.94,1158 1845.02,1157.98 1845.11,1157.95 1845.19,1157.92 1845.27,1157.9 1845.35,1157.87 1845.43,1157.85 1845.52,1157.83 1845.6,1157.8 \n",
       "  1845.68,1157.78 1845.76,1157.76 1845.85,1157.75 1845.93,1157.73 1846.01,1157.71 1846.09,1157.69 1846.18,1157.68 1846.26,1157.66 1846.34,1157.65 1846.42,1157.64 \n",
       "  1846.51,1157.63 1846.59,1157.62 1846.67,1157.61 1846.75,1157.6 1846.84,1157.59 1846.92,1157.58 1847,1157.58 1847.08,1157.57 1847.17,1157.57 1847.25,1157.57 \n",
       "  1847.33,1157.57 1847.41,1157.56 1847.5,1157.56 1847.58,1157.57 1847.66,1157.57 1847.74,1157.57 1847.83,1157.57 1847.91,1157.58 1847.99,1157.59 1848.07,1157.59 \n",
       "  1848.16,1157.6 1848.24,1157.61 1848.32,1157.62 1848.4,1157.63 1848.49,1157.64 1848.57,1157.65 1848.65,1157.67 1848.73,1157.68 1848.82,1157.7 1848.9,1157.71 \n",
       "  1848.98,1157.73 1849.06,1157.75 1849.15,1157.77 1849.23,1157.79 1849.31,1157.81 1849.39,1157.83 1849.48,1157.86 1849.56,1157.88 1849.64,1157.91 1849.72,1157.94 \n",
       "  1849.8,1157.96 1849.89,1157.99 1849.97,1158.02 1850.05,1158.05 1850.13,1158.09 1850.22,1158.12 1850.3,1158.15 1850.38,1158.19 1850.46,1158.22 1850.55,1158.26 \n",
       "  1850.63,1158.3 1850.71,1158.34 1850.79,1158.38 1850.88,1158.42 1850.96,1158.46 1851.04,1158.5 1851.12,1158.55 1851.21,1158.59 1851.29,1158.64 1851.37,1158.69 \n",
       "  1851.45,1158.74 1851.54,1158.79 1851.62,1158.84 1851.7,1158.89 1851.78,1158.94 1851.87,1159 1851.95,1159.05 1852.03,1159.11 1852.11,1159.17 1852.2,1159.23 \n",
       "  1852.28,1159.29 1852.36,1159.35 1852.44,1159.41 1852.53,1159.47 1852.61,1159.54 1852.69,1159.6 1852.77,1159.67 1852.86,1159.74 1852.94,1159.81 1853.02,1159.88 \n",
       "  1853.1,1159.95 1853.19,1160.02 1853.27,1160.09 1853.35,1160.17 1853.43,1160.24 1853.52,1160.32 1853.6,1160.4 1853.68,1160.48 1853.76,1160.56 1853.84,1160.64 \n",
       "  1853.93,1160.72 1854.01,1160.81 1854.09,1160.89 1854.17,1160.98 1854.26,1161.07 1854.34,1161.15 1854.42,1161.24 1854.5,1161.34 1854.59,1161.43 1854.67,1161.52 \n",
       "  1854.75,1161.62 1854.83,1161.71 1854.92,1161.81 1855,1161.91 1855.08,1162.01 1855.16,1162.11 1855.25,1162.21 1855.33,1162.32 1855.41,1162.42 1855.49,1162.53 \n",
       "  1855.58,1162.64 1855.66,1162.74 1855.74,1162.85 1855.82,1162.97 1855.91,1163.08 1855.99,1163.19 1856.07,1163.31 1856.15,1163.43 1856.24,1163.54 1856.32,1163.66 \n",
       "  1856.4,1163.78 1856.48,1163.91 1856.57,1164.03 1856.65,1164.15 1856.73,1164.28 1856.81,1164.41 1856.9,1164.54 1856.98,1164.67 1857.06,1164.8 1857.14,1164.93 \n",
       "  1857.23,1165.07 1857.31,1165.2 1857.39,1165.34 1857.47,1165.48 1857.56,1165.62 1857.64,1165.76 1857.72,1165.9 1857.8,1166.05 1857.89,1166.19 1857.97,1166.34 \n",
       "  1858.05,1166.49 1858.13,1166.64 1858.21,1166.79 1858.3,1166.95 1858.38,1167.1 1858.46,1167.26 1858.54,1167.42 1858.63,1167.58 1858.71,1167.74 1858.79,1167.9 \n",
       "  1858.87,1168.06 1858.96,1168.23 1859.04,1168.4 1859.12,1168.57 1859.2,1168.74 1859.29,1168.91 1859.37,1169.08 1859.45,1169.26 1859.53,1169.43 1859.62,1169.61 \n",
       "  1859.7,1169.79 1859.78,1169.97 1859.86,1170.16 1859.95,1170.34 1860.03,1170.53 1860.11,1170.72 1860.19,1170.91 1860.28,1171.1 1860.36,1171.29 1860.44,1171.49 \n",
       "  1860.52,1171.69 1860.61,1171.88 1860.69,1172.08 1860.77,1172.29 1860.85,1172.49 1860.94,1172.7 1861.02,1172.9 1861.1,1173.11 1861.18,1173.32 1861.27,1173.54 \n",
       "  1861.35,1173.75 1861.43,1173.97 1861.51,1174.19 1861.6,1174.41 1861.68,1174.63 1861.76,1174.86 1861.84,1175.08 1861.93,1175.31 1862.01,1175.54 1862.09,1175.77 \n",
       "  1862.17,1176.01 1862.25,1176.24 1862.34,1176.48 1862.42,1176.72 1862.5,1176.96 1862.58,1177.21 1862.67,1177.45 1862.75,1177.7 1862.83,1177.95 1862.91,1178.2 \n",
       "  1863,1178.46 1863.08,1178.71 1863.16,1178.97 1863.24,1179.23 1863.33,1179.5 1863.41,1179.76 1863.49,1180.03 1863.57,1180.3 1863.66,1180.57 1863.74,1180.84 \n",
       "  1863.82,1181.12 1863.9,1181.4 1863.99,1181.68 1864.07,1181.96 1864.15,1182.25 1864.23,1182.54 1864.32,1182.83 1864.4,1183.12 1864.48,1183.42 1864.56,1183.71 \n",
       "  1864.65,1184.01 1864.73,1184.31 1864.81,1184.62 1864.89,1184.93 1864.98,1185.24 1865.06,1185.55 1865.14,1185.86 1865.22,1186.18 1865.31,1186.5 1865.39,1186.83 \n",
       "  1865.47,1187.15 1865.55,1187.48 1865.64,1187.81 1865.72,1188.14 1865.8,1188.48 1865.88,1188.82 1865.97,1189.16 1866.05,1189.51 1866.13,1189.85 1866.21,1190.2 \n",
       "  1866.3,1190.56 1866.38,1190.91 1866.46,1191.27 1866.54,1191.64 1866.62,1192 1866.71,1192.37 1866.79,1192.74 1866.87,1193.12 1866.95,1193.49 1867.04,1193.87 \n",
       "  1867.12,1194.26 1867.2,1194.65 1867.28,1195.04 1867.37,1195.43 1867.45,1195.83 1867.53,1196.23 1867.61,1196.63 1867.7,1197.04 1867.78,1197.45 1867.86,1197.86 \n",
       "  1867.94,1198.28 1868.03,1198.7 1868.11,1199.13 1868.19,1199.56 1868.27,1199.99 1868.36,1200.42 1868.44,1200.86 1868.52,1201.31 1868.6,1201.75 1868.69,1202.2 \n",
       "  1868.77,1202.66 1868.85,1203.12 1868.93,1203.58 1869.02,1204.05 1869.1,1204.52 1869.18,1204.99 1869.26,1205.47 1869.35,1205.96 1869.43,1206.45 1869.51,1206.94 \n",
       "  1869.59,1207.43 1869.68,1207.94 1869.76,1208.44 1869.84,1208.95 1869.92,1209.47 1870.01,1209.99 1870.09,1210.51 1870.17,1211.04 1870.25,1211.57 1870.34,1212.11 \n",
       "  1870.42,1212.66 1870.5,1213.2 1870.58,1213.76 1870.66,1214.32 1870.75,1214.88 1870.83,1215.45 1870.91,1216.03 1870.99,1216.61 1871.08,1217.19 1871.16,1217.78 \n",
       "  1871.24,1218.38 1871.32,1218.98 1871.41,1219.59 1871.49,1220.21 1871.57,1220.83 1871.65,1221.46 1871.74,1222.09 1871.82,1222.73 1871.9,1223.38 1871.98,1224.03 \n",
       "  1872.07,1224.69 1872.15,1225.35 1872.23,1226.02 1872.31,1226.7 1872.4,1227.39 1872.48,1228.08 1872.56,1228.78 1872.64,1229.49 1872.73,1230.21 1872.81,1230.93 \n",
       "  1872.89,1231.66 1872.97,1232.4 1873.06,1233.15 1873.14,1233.9 1873.22,1234.66 1873.3,1235.43 1873.39,1236.21 1873.47,1237 1873.55,1237.8 1873.63,1238.61 \n",
       "  1873.72,1239.42 1873.8,1240.25 1873.88,1241.08 1873.96,1241.92 1874.05,1242.78 1874.13,1243.64 1874.21,1244.52 1874.29,1245.4 1874.38,1246.3 1874.46,1247.2 \n",
       "  1874.54,1248.12 1874.62,1249.05 1874.71,1249.99 1874.79,1250.94 1874.87,1251.9 1874.95,1252.88 1875.03,1253.87 1875.12,1254.87 1875.2,1255.89 1875.28,1256.92 \n",
       "  1875.36,1257.96 1875.45,1259.01 1875.53,1260.09 1875.61,1261.17 1875.69,1262.27 1875.78,1263.39 1875.86,1264.52 1875.94,1265.67 1876.02,1266.83 1876.11,1268.02 \n",
       "  1876.19,1269.22 1876.27,1270.43 1876.35,1271.67 1876.44,1272.93 1876.52,1274.2 1876.6,1275.5 1876.68,1276.81 1876.77,1278.15 1876.85,1279.51 1876.93,1280.89 \n",
       "  1877.01,1282.29 1877.1,1283.72 1877.18,1285.18 1877.26,1286.65 1877.34,1288.16 1877.43,1289.69 1877.51,1291.25 1877.59,1292.84 1877.67,1294.46 1877.76,1296.11 \n",
       "  1877.84,1297.79 1877.92,1299.51 1878,1301.26 1878.09,1303.04 1878.17,1304.87 1878.25,1306.73 1878.33,1308.63 1878.42,1310.57 1878.5,1312.56 1878.58,1314.59 \n",
       "  1878.66,1316.67 1878.75,1318.8 1878.83,1320.99 1878.91,1323.22 1878.99,1325.52 1879.07,1327.87 1879.16,1330.29 1879.24,1332.77 1879.32,1335.32 1879.4,1337.94 \n",
       "  1879.49,1340.65 1879.57,1343.43 1879.65,1346.3 1879.73,1349.26 1879.82,1352.33 1879.9,1355.49 1879.98,1358.77 1880.06,1362.17 1880.15,1365.69 1880.23,1369.35 \n",
       "  1880.31,1373.16 1880.39,1377.13 1880.48,1381.28 1880.56,1385.62 1880.64,1390.16 1880.72,1394.93 1880.81,1399.95 1880.89,1405.25 1880.97,1410.87 1881.05,1416.83 \n",
       "  1881.14,1423.18 1881.22,1416.58 1881.3,1410.37 1881.38,1404.52 1881.47,1398.99 1881.55,1393.73 1881.63,1388.73 1881.71,1383.96 1881.8,1379.39 1881.88,1375.02 \n",
       "  1881.96,1370.83 1882.04,1366.8 1882.13,1362.91 1882.21,1359.17 1882.29,1355.56 1882.37,1352.06 1882.46,1348.68 1882.54,1345.4 1882.62,1342.22 1882.7,1339.14 \n",
       "  1882.79,1336.14 1882.87,1333.22 1882.95,1330.38 1883.03,1327.62 1883.12,1324.92 1883.2,1322.3 1883.28,1319.73 1883.36,1317.23 1883.44,1314.78 1883.53,1312.39 \n",
       "  1883.61,1310.04 1883.69,1307.75 1883.77,1305.51 1883.86,1303.31 1883.94,1301.16 1884.02,1299.05 1884.1,1296.97 1884.19,1294.94 1884.27,1292.95 1884.35,1290.99 \n",
       "  1884.43,1289.06 1884.52,1287.17 1884.6,1285.31 1884.68,1283.49 1884.76,1281.69 1884.85,1279.92 1884.93,1278.18 1885.01,1276.47 1885.09,1274.78 1885.18,1273.12 \n",
       "  1885.26,1271.48 1885.34,1269.87 1885.42,1268.28 1885.51,1266.71 1885.59,1265.17 1885.67,1263.64 1885.75,1262.14 1885.84,1260.66 1885.92,1259.2 1886,1257.75 \n",
       "  1886.08,1256.33 1886.17,1254.92 1886.25,1253.53 1886.33,1252.16 1886.41,1250.8 1886.5,1249.46 1886.58,1248.14 1886.66,1246.83 1886.74,1245.54 1886.83,1244.26 \n",
       "  1886.91,1243 1886.99,1241.75 1887.07,1240.51 1887.16,1239.29 1887.24,1238.08 1887.32,1236.88 1887.4,1235.7 1887.48,1234.53 1887.57,1233.37 1887.65,1232.22 \n",
       "  1887.73,1231.09 1887.81,1229.96 1887.9,1228.85 1887.98,1227.75 1888.06,1226.66 1888.14,1225.58 1888.23,1224.51 1888.31,1223.45 1888.39,1222.4 1888.47,1221.36 \n",
       "  1888.56,1220.32 1888.64,1219.3 1888.72,1218.29 1888.8,1217.29 1888.89,1216.29 1888.97,1215.31 1889.05,1214.33 1889.13,1213.36 1889.22,1212.4 1889.3,1211.45 \n",
       "  1889.38,1210.5 1889.46,1209.56 1889.55,1208.63 1889.63,1207.71 1889.71,1206.8 1889.79,1205.89 1889.88,1204.99 1889.96,1204.1 1890.04,1203.22 1890.12,1202.34 \n",
       "  1890.21,1201.46 1890.29,1200.6 1890.37,1199.74 1890.45,1198.89 1890.54,1198.04 1890.62,1197.2 1890.7,1196.37 1890.78,1195.55 1890.87,1194.72 1890.95,1193.91 \n",
       "  1891.03,1193.1 1891.11,1192.3 1891.2,1191.5 1891.28,1190.71 1891.36,1189.92 1891.44,1189.14 1891.53,1188.36 1891.61,1187.59 1891.69,1186.83 1891.77,1186.07 \n",
       "  1891.85,1185.32 1891.94,1184.57 1892.02,1183.82 1892.1,1183.08 1892.18,1182.35 1892.27,1181.62 1892.35,1180.89 1892.43,1180.17 1892.51,1179.45 1892.6,1178.74 \n",
       "  1892.68,1178.04 1892.76,1177.33 1892.84,1176.64 1892.93,1175.94 1893.01,1175.25 1893.09,1174.57 1893.17,1173.89 1893.26,1173.21 1893.34,1172.54 1893.42,1171.87 \n",
       "  1893.5,1171.2 1893.59,1170.54 1893.67,1169.89 1893.75,1169.23 1893.83,1168.59 1893.92,1167.94 1894,1167.3 1894.08,1166.66 1894.16,1166.03 1894.25,1165.4 \n",
       "  1894.33,1164.77 1894.41,1164.15 1894.49,1163.53 1894.58,1162.91 1894.66,1162.3 1894.74,1161.69 1894.82,1161.08 1894.91,1160.48 1894.99,1159.88 1895.07,1159.29 \n",
       "  1895.15,1158.69 1895.24,1158.1 1895.32,1157.52 1895.4,1156.94 1895.48,1156.36 1895.57,1155.78 1895.65,1155.21 1895.73,1154.63 1895.81,1154.07 1895.89,1153.5 \n",
       "  1895.98,1152.94 1896.06,1152.38 1896.14,1151.83 1896.22,1151.27 1896.31,1150.72 1896.39,1150.18 1896.47,1149.63 1896.55,1149.09 1896.64,1148.55 1896.72,1148.01 \n",
       "  1896.8,1147.48 1896.88,1146.95 1896.97,1146.42 1897.05,1145.9 1897.13,1145.37 1897.21,1144.85 1897.3,1144.34 1897.38,1143.82 1897.46,1143.31 1897.54,1142.8 \n",
       "  1897.63,1142.29 1897.71,1141.79 1897.79,1141.28 1897.87,1140.78 1897.96,1140.29 1898.04,1139.79 1898.12,1139.3 1898.2,1138.81 1898.29,1138.32 1898.37,1137.83 \n",
       "  1898.45,1137.35 1898.53,1136.87 1898.62,1136.39 1898.7,1135.91 1898.78,1135.44 1898.86,1134.97 1898.95,1134.5 1899.03,1134.03 1899.11,1133.56 1899.19,1133.1 \n",
       "  1899.28,1132.64 1899.36,1132.18 1899.44,1131.72 1899.52,1131.27 1899.61,1130.81 1899.69,1130.36 1899.77,1129.91 1899.85,1129.47 1899.94,1129.02 1900.02,1128.58 \n",
       "  1900.1,1128.14 1900.18,1127.7 1900.26,1127.26 1900.35,1126.83 1900.43,1126.4 1900.51,1125.97 1900.59,1125.54 1900.68,1125.11 1900.76,1124.68 1900.84,1124.26 \n",
       "  1900.92,1123.84 1901.01,1123.42 1901.09,1123 1901.17,1122.59 1901.25,1122.17 1901.34,1121.76 1901.42,1121.35 1901.5,1120.94 1901.58,1120.54 1901.67,1120.13 \n",
       "  1901.75,1119.73 1901.83,1119.33 1901.91,1118.93 1902,1118.53 1902.08,1118.13 1902.16,1117.74 1902.24,1117.34 1902.33,1116.95 1902.41,1116.56 1902.49,1116.18 \n",
       "  1902.57,1115.79 1902.66,1115.41 1902.74,1115.02 1902.82,1114.64 1902.9,1114.26 1902.99,1113.88 1903.07,1113.51 1903.15,1113.13 1903.23,1112.76 1903.32,1112.39 \n",
       "  1903.4,1112.02 1903.48,1111.65 1903.56,1111.28 1903.65,1110.92 1903.73,1110.56 1903.81,1110.19 1903.89,1109.83 1903.98,1109.47 1904.06,1109.12 1904.14,1108.76 \n",
       "  1904.22,1108.41 1904.3,1108.05 1904.39,1107.7 1904.47,1107.35 1904.55,1107 1904.63,1106.66 1904.72,1106.31 1904.8,1105.97 1904.88,1105.62 1904.96,1105.28 \n",
       "  1905.05,1104.94 1905.13,1104.6 1905.21,1104.27 1905.29,1103.93 1905.38,1103.6 1905.46,1103.27 1905.54,1102.93 1905.62,1102.6 1905.71,1102.28 1905.79,1101.95 \n",
       "  1905.87,1101.62 1905.95,1101.3 1906.04,1100.97 1906.12,1100.65 1906.2,1100.33 1906.28,1100.01 1906.37,1099.7 1906.45,1099.38 1906.53,1099.06 1906.61,1098.75 \n",
       "  1906.7,1098.44 1906.78,1098.13 1906.86,1097.82 1906.94,1097.51 1907.03,1097.2 1907.11,1096.9 1907.19,1096.59 1907.27,1096.29 1907.36,1095.99 1907.44,1095.68 \n",
       "  1907.52,1095.38 1907.6,1095.09 1907.69,1094.79 1907.77,1094.49 1907.85,1094.2 1907.93,1093.91 1908.02,1093.61 1908.1,1093.32 1908.18,1093.03 1908.26,1092.74 \n",
       "  1908.35,1092.46 1908.43,1092.17 1908.51,1091.89 1908.59,1091.6 1908.67,1091.32 1908.76,1091.04 1908.84,1090.76 1908.92,1090.48 1909,1090.2 1909.09,1089.93 \n",
       "  1909.17,1089.65 1909.25,1089.38 1909.33,1089.1 1909.42,1088.83 1909.5,1088.56 1909.58,1088.29 1909.66,1088.02 1909.75,1087.76 1909.83,1087.49 1909.91,1087.23 \n",
       "  1909.99,1086.96 1910.08,1086.7 1910.16,1086.44 1910.24,1086.18 1910.32,1085.92 1910.41,1085.66 1910.49,1085.41 1910.57,1085.15 1910.65,1084.9 1910.74,1084.64 \n",
       "  1910.82,1084.39 1910.9,1084.14 1910.98,1083.89 1911.07,1083.64 1911.15,1083.39 1911.23,1083.14 1911.31,1082.9 1911.4,1082.65 1911.48,1082.41 1911.56,1082.17 \n",
       "  1911.64,1081.93 1911.73,1081.68 1911.81,1081.45 1911.89,1081.21 1911.97,1080.97 1912.06,1080.73 1912.14,1080.5 1912.22,1080.26 1912.3,1080.03 1912.39,1079.8 \n",
       "  1912.47,1079.57 1912.55,1079.34 1912.63,1079.11 1912.71,1078.88 1912.8,1078.66 1912.88,1078.43 1912.96,1078.21 1913.04,1077.98 1913.13,1077.76 1913.21,1077.54 \n",
       "  1913.29,1077.32 1913.37,1077.1 1913.46,1076.88 1913.54,1076.66 1913.62,1076.45 1913.7,1076.23 1913.79,1076.02 1913.87,1075.8 1913.95,1075.59 1914.03,1075.38 \n",
       "  1914.12,1075.17 1914.2,1074.96 1914.28,1074.75 1914.36,1074.55 1914.45,1074.34 1914.53,1074.13 1914.61,1073.93 1914.69,1073.73 1914.78,1073.52 1914.86,1073.32 \n",
       "  1914.94,1073.12 1915.02,1072.92 1915.11,1072.73 1915.19,1072.53 1915.27,1072.33 1915.35,1072.14 1915.44,1071.94 1915.52,1071.75 1915.6,1071.56 1915.68,1071.36 \n",
       "  1915.77,1071.17 1915.85,1070.98 1915.93,1070.8 1916.01,1070.61 1916.1,1070.42 1916.18,1070.24 1916.26,1070.05 1916.34,1069.87 1916.43,1069.69 1916.51,1069.5 \n",
       "  1916.59,1069.32 1916.67,1069.14 1916.76,1068.96 1916.84,1068.79 1916.92,1068.61 1917,1068.43 1917.08,1068.26 1917.17,1068.08 1917.25,1067.91 1917.33,1067.74 \n",
       "  1917.41,1067.57 1917.5,1067.4 1917.58,1067.23 1917.66,1067.06 1917.74,1066.89 1917.83,1066.73 1917.91,1066.56 1917.99,1066.4 1918.07,1066.23 1918.16,1066.07 \n",
       "  1918.24,1065.91 1918.32,1065.75 1918.4,1065.59 1918.49,1065.43 1918.57,1065.27 1918.65,1065.11 1918.73,1064.96 1918.82,1064.8 1918.9,1064.65 1918.98,1064.49 \n",
       "  1919.06,1064.34 1919.15,1064.19 1919.23,1064.04 1919.31,1063.89 1919.39,1063.74 1919.48,1063.59 1919.56,1063.45 1919.64,1063.3 1919.72,1063.16 1919.81,1063.01 \n",
       "  1919.89,1062.87 1919.97,1062.73 1920.05,1062.59 1920.14,1062.44 1920.22,1062.31 1920.3,1062.17 1920.38,1062.03 1920.47,1061.89 1920.55,1061.76 1920.63,1061.62 \n",
       "  1920.71,1061.49 1920.8,1061.36 1920.88,1061.22 1920.96,1061.09 1921.04,1060.96 1921.12,1060.83 1921.21,1060.7 1921.29,1060.58 1921.37,1060.45 1921.45,1060.33 \n",
       "  1921.54,1060.2 1921.62,1060.08 1921.7,1059.95 1921.78,1059.83 1921.87,1059.71 1921.95,1059.59 1922.03,1059.47 1922.11,1059.35 1922.2,1059.24 1922.28,1059.12 \n",
       "  1922.36,1059.01 1922.44,1058.89 1922.53,1058.78 1922.61,1058.66 1922.69,1058.55 1922.77,1058.44 1922.86,1058.33 1922.94,1058.22 1923.02,1058.12 1923.1,1058.01 \n",
       "  1923.19,1057.9 1923.27,1057.8 1923.35,1057.69 1923.43,1057.59 1923.52,1057.49 1923.6,1057.39 1923.68,1057.28 1923.76,1057.18 1923.85,1057.09 1923.93,1056.99 \n",
       "  1924.01,1056.89 1924.09,1056.8 1924.18,1056.7 1924.26,1056.61 1924.34,1056.51 1924.42,1056.42 1924.51,1056.33 1924.59,1056.24 1924.67,1056.15 1924.75,1056.06 \n",
       "  1924.84,1055.97 1924.92,1055.89 1925,1055.8 1925.08,1055.72 1925.17,1055.63 1925.25,1055.55 1925.33,1055.47 1925.41,1055.39 1925.49,1055.31 1925.58,1055.23 \n",
       "  1925.66,1055.15 1925.74,1055.07 1925.82,1054.99 1925.91,1054.92 1925.99,1054.84 1926.07,1054.77 1926.15,1054.7 1926.24,1054.63 1926.32,1054.56 1926.4,1054.49 \n",
       "  1926.48,1054.42 1926.57,1054.35 1926.65,1054.28 1926.73,1054.22 1926.81,1054.15 1926.9,1054.09 1926.98,1054.02 1927.06,1053.96 1927.14,1053.9 1927.23,1053.84 \n",
       "  1927.31,1053.78 1927.39,1053.72 1927.47,1053.67 1927.56,1053.61 1927.64,1053.55 1927.72,1053.5 1927.8,1053.45 1927.89,1053.39 1927.97,1053.34 1928.05,1053.29 \n",
       "  1928.13,1053.24 1928.22,1053.19 1928.3,1053.15 1928.38,1053.1 1928.46,1053.05 1928.55,1053.01 1928.63,1052.97 1928.71,1052.92 1928.79,1052.88 1928.88,1052.84 \n",
       "  1928.96,1052.8 1929.04,1052.76 1929.12,1052.72 1929.21,1052.69 1929.29,1052.65 1929.37,1052.62 1929.45,1052.58 1929.53,1052.55 1929.62,1052.52 1929.7,1052.49 \n",
       "  1929.78,1052.46 1929.86,1052.43 1929.95,1052.4 1930.03,1052.37 1930.11,1052.35 1930.19,1052.32 1930.28,1052.3 1930.36,1052.28 1930.44,1052.25 1930.52,1052.23 \n",
       "  1930.61,1052.21 1930.69,1052.2 1930.77,1052.18 1930.85,1052.16 1930.94,1052.15 1931.02,1052.13 1931.1,1052.12 1931.18,1052.11 1931.27,1052.09 1931.35,1052.08 \n",
       "  1931.43,1052.08 1931.51,1052.07 1931.6,1052.06 1931.68,1052.05 1931.76,1052.05 1931.84,1052.04 1931.93,1052.04 1932.01,1052.04 1932.09,1052.04 1932.17,1052.04 \n",
       "  1932.26,1052.04 1932.34,1052.04 1932.42,1052.05 1932.5,1052.05 1932.59,1052.06 1932.67,1052.06 1932.75,1052.07 1932.83,1052.08 1932.92,1052.09 1933,1052.1 \n",
       "  1933.08,1052.11 1933.16,1052.13 1933.25,1052.14 1933.33,1052.16 1933.41,1052.18 1933.49,1052.19 1933.58,1052.21 1933.66,1052.23 1933.74,1052.25 1933.82,1052.28 \n",
       "  1933.9,1052.3 1933.99,1052.32 1934.07,1052.35 1934.15,1052.38 1934.23,1052.4 1934.32,1052.43 1934.4,1052.46 1934.48,1052.5 1934.56,1052.53 1934.65,1052.56 \n",
       "  1934.73,1052.6 1934.81,1052.63 1934.89,1052.67 1934.98,1052.71 1935.06,1052.75 1935.14,1052.79 1935.22,1052.83 1935.31,1052.88 1935.39,1052.92 1935.47,1052.97 \n",
       "  1935.55,1053.01 1935.64,1053.06 1935.72,1053.11 1935.8,1053.16 1935.88,1053.21 1935.97,1053.27 1936.05,1053.32 1936.13,1053.38 1936.21,1053.43 1936.3,1053.49 \n",
       "  1936.38,1053.55 1936.46,1053.61 1936.54,1053.67 1936.63,1053.74 1936.71,1053.8 1936.79,1053.87 1936.87,1053.94 1936.96,1054 1937.04,1054.07 1937.12,1054.14 \n",
       "  1937.2,1054.22 1937.29,1054.29 1937.37,1054.36 1937.45,1054.44 1937.53,1054.52 1937.62,1054.6 1937.7,1054.68 1937.78,1054.76 1937.86,1054.84 1937.94,1054.93 \n",
       "  1938.03,1055.01 1938.11,1055.1 1938.19,1055.19 1938.27,1055.28 1938.36,1055.37 1938.44,1055.46 1938.52,1055.55 1938.6,1055.65 1938.69,1055.75 1938.77,1055.84 \n",
       "  1938.85,1055.94 1938.93,1056.04 1939.02,1056.15 1939.1,1056.25 1939.18,1056.36 1939.26,1056.46 1939.35,1056.57 1939.43,1056.68 1939.51,1056.79 1939.59,1056.91 \n",
       "  1939.68,1057.02 1939.76,1057.13 1939.84,1057.25 1939.92,1057.37 1940.01,1057.49 1940.09,1057.61 1940.17,1057.74 1940.25,1057.86 1940.34,1057.99 1940.42,1058.12 \n",
       "  1940.5,1058.24 1940.58,1058.38 1940.67,1058.51 1940.75,1058.64 1940.83,1058.78 1940.91,1058.92 1941,1059.06 1941.08,1059.2 1941.16,1059.34 1941.24,1059.48 \n",
       "  1941.33,1059.63 1941.41,1059.78 1941.49,1059.92 1941.57,1060.08 1941.66,1060.23 1941.74,1060.38 1941.82,1060.54 1941.9,1060.69 1941.99,1060.85 1942.07,1061.02 \n",
       "  1942.15,1061.18 1942.23,1061.34 1942.31,1061.51 1942.4,1061.68 1942.48,1061.85 1942.56,1062.02 1942.64,1062.19 1942.73,1062.37 1942.81,1062.54 1942.89,1062.72 \n",
       "  1942.97,1062.9 1943.06,1063.09 1943.14,1063.27 1943.22,1063.46 1943.3,1063.65 1943.39,1063.84 1943.47,1064.03 1943.55,1064.22 1943.63,1064.42 1943.72,1064.62 \n",
       "  1943.8,1064.82 1943.88,1065.02 1943.96,1065.22 1944.05,1065.43 1944.13,1065.64 1944.21,1065.85 1944.29,1066.06 1944.38,1066.28 1944.46,1066.49 1944.54,1066.71 \n",
       "  1944.62,1066.93 1944.71,1067.15 1944.79,1067.38 1944.87,1067.61 1944.95,1067.84 1945.04,1068.07 1945.12,1068.3 1945.2,1068.54 1945.28,1068.78 1945.37,1069.02 \n",
       "  1945.45,1069.26 1945.53,1069.5 1945.61,1069.75 1945.7,1070 1945.78,1070.25 1945.86,1070.51 1945.94,1070.76 1946.03,1071.02 1946.11,1071.29 1946.19,1071.55 \n",
       "  1946.27,1071.82 1946.35,1072.09 1946.44,1072.36 1946.52,1072.63 1946.6,1072.91 1946.68,1073.19 1946.77,1073.47 1946.85,1073.75 1946.93,1074.04 1947.01,1074.33 \n",
       "  1947.1,1074.62 1947.18,1074.92 1947.26,1075.22 1947.34,1075.52 1947.43,1075.82 1947.51,1076.13 1947.59,1076.44 1947.67,1076.75 1947.76,1077.06 1947.84,1077.38 \n",
       "  1947.92,1077.7 1948,1078.02 1948.09,1078.35 1948.17,1078.68 1948.25,1079.01 1948.33,1079.35 1948.42,1079.69 1948.5,1080.03 1948.58,1080.37 1948.66,1080.72 \n",
       "  1948.75,1081.07 1948.83,1081.43 1948.91,1081.79 1948.99,1082.15 1949.08,1082.51 1949.16,1082.88 1949.24,1083.25 1949.32,1083.63 1949.41,1084 1949.49,1084.39 \n",
       "  1949.57,1084.77 1949.65,1085.16 1949.74,1085.55 1949.82,1085.95 1949.9,1086.35 1949.98,1086.75 1950.07,1087.16 1950.15,1087.57 1950.23,1087.99 1950.31,1088.4 \n",
       "  1950.4,1088.83 1950.48,1089.25 1950.56,1089.68 1950.64,1090.12 1950.72,1090.56 1950.81,1091 1950.89,1091.45 1950.97,1091.9 1951.05,1092.36 1951.14,1092.82 \n",
       "  1951.22,1093.28 1951.3,1093.75 1951.38,1094.23 1951.47,1094.7 1951.55,1095.19 1951.63,1095.68 1951.71,1096.17 1951.8,1096.67 1951.88,1097.17 1951.96,1097.68 \n",
       "  1952.04,1098.19 1952.13,1098.71 1952.21,1099.23 1952.29,1099.76 1952.37,1100.29 1952.46,1100.83 1952.54,1101.37 1952.62,1101.92 1952.7,1102.48 1952.79,1103.04 \n",
       "  1952.87,1103.6 1952.95,1104.17 1953.03,1104.75 1953.12,1105.34 1953.2,1105.93 1953.28,1106.52 1953.36,1107.12 1953.45,1107.73 1953.53,1108.35 1953.61,1108.97 \n",
       "  1953.69,1109.6 1953.78,1110.23 1953.86,1110.88 1953.94,1111.52 1954.02,1112.18 1954.11,1112.84 1954.19,1113.51 1954.27,1114.19 1954.35,1114.88 1954.44,1115.57 \n",
       "  1954.52,1116.27 1954.6,1116.98 1954.68,1117.7 1954.76,1118.42 1954.85,1119.15 1954.93,1119.9 1955.01,1120.65 1955.09,1121.4 1955.18,1122.17 1955.26,1122.95 \n",
       "  1955.34,1123.74 1955.42,1124.53 1955.51,1125.34 1955.59,1126.15 1955.67,1126.98 1955.75,1127.81 1955.84,1128.66 1955.92,1129.51 1956,1130.38 1956.08,1131.26 \n",
       "  1956.17,1132.15 1956.25,1133.05 1956.33,1133.96 1956.41,1134.89 1956.5,1135.82 1956.58,1136.77 1956.66,1137.73 1956.74,1138.71 1956.83,1139.7 1956.91,1140.7 \n",
       "  1956.99,1141.71 1957.07,1142.74 1957.16,1143.79 1957.24,1144.85 1957.32,1145.92 1957.4,1147.01 1957.49,1148.12 1957.57,1149.24 1957.65,1150.38 1957.73,1151.54 \n",
       "  1957.82,1152.71 1957.9,1153.91 1957.98,1155.12 1958.06,1156.35 1958.15,1157.6 1958.23,1158.87 1958.31,1160.16 1958.39,1161.48 1958.48,1162.81 1958.56,1164.17 \n",
       "  1958.64,1165.56 1958.72,1166.96 1958.81,1168.4 1958.89,1169.85 1958.97,1171.34 1959.05,1172.85 1959.13,1174.39 1959.22,1175.96 1959.3,1177.56 1959.38,1179.19 \n",
       "  1959.46,1180.86 1959.55,1182.55 1959.63,1184.29 1959.71,1186.06 1959.79,1187.87 1959.88,1189.71 1959.96,1191.6 1960.04,1193.53 1960.12,1195.51 1960.21,1197.53 \n",
       "  1960.29,1199.6 1960.37,1201.72 1960.45,1203.9 1960.54,1206.13 1960.62,1208.42 1960.7,1210.77 1960.78,1213.18 1960.87,1215.66 1960.95,1218.21 1961.03,1220.84 \n",
       "  1961.11,1223.55 1961.2,1226.34 1961.28,1229.22 1961.36,1232.2 1961.44,1235.27 1961.53,1238.46 1961.61,1241.76 1961.69,1245.18 1961.77,1248.74 1961.86,1252.44 \n",
       "  1961.94,1256.29 1962.02,1260.31 1962.1,1264.51 1962.19,1268.91 1962.27,1273.52 1962.35,1278.38 1962.43,1283.5 1962.52,1288.91 1962.6,1294.65 1962.68,1300.76 \n",
       "  1962.76,1307.28 1962.85,1314.29 1962.93,1321.85 1963.01,1330.05 1963.09,1339.01 1963.17,1348.89 1963.26,1359.89 1963.34,1372.29 1963.42,1386.51 1963.5,1403.14 \n",
       "  1963.59,1423.18 1963.67,1402.84 1963.75,1385.93 1963.83,1371.43 1963.92,1358.75 1964,1347.48 1964.08,1337.32 1964.16,1328.09 1964.25,1319.62 1964.33,1311.79 \n",
       "  1964.41,1304.51 1964.49,1297.72 1964.58,1291.34 1964.66,1285.33 1964.74,1279.65 1964.82,1274.27 1964.91,1269.15 1964.99,1264.26 1965.07,1259.6 1965.15,1255.13 \n",
       "  1965.24,1250.84 1965.32,1246.72 1965.4,1242.75 1965.48,1238.93 1965.57,1235.24 1965.65,1231.67 1965.73,1228.22 1965.81,1224.88 1965.9,1221.64 1965.98,1218.49 \n",
       "  1966.06,1215.43 1966.14,1212.46 1966.23,1209.56 1966.31,1206.74 1966.39,1204 1966.47,1201.32 1966.56,1198.7 1966.64,1196.14 1966.72,1193.65 1966.8,1191.21 \n",
       "  1966.89,1188.82 1966.97,1186.48 1967.05,1184.19 1967.13,1181.95 1967.22,1179.76 1967.3,1177.6 1967.38,1175.49 1967.46,1173.41 1967.54,1171.38 1967.63,1169.38 \n",
       "  1967.71,1167.41 1967.79,1165.48 1967.87,1163.58 1967.96,1161.72 1968.04,1159.88 1968.12,1158.07 1968.2,1156.3 1968.29,1154.55 1968.37,1152.82 1968.45,1151.12 \n",
       "  1968.53,1149.45 1968.62,1147.8 1968.7,1146.18 1968.78,1144.58 1968.86,1143 1968.95,1141.44 1969.03,1139.9 1969.11,1138.38 1969.19,1136.88 1969.28,1135.41 \n",
       "  1969.36,1133.95 1969.44,1132.51 1969.52,1131.08 1969.61,1129.68 1969.69,1128.29 1969.77,1126.92 1969.85,1125.56 1969.94,1124.22 1970.02,1122.89 1970.1,1121.58 \n",
       "  1970.18,1120.29 1970.27,1119 1970.35,1117.74 1970.43,1116.48 1970.51,1115.24 1970.6,1114.01 1970.68,1112.8 1970.76,1111.6 1970.84,1110.41 1970.93,1109.23 \n",
       "  1971.01,1108.06 1971.09,1106.91 1971.17,1105.76 1971.26,1104.63 1971.34,1103.51 1971.42,1102.4 1971.5,1101.29 1971.58,1100.2 1971.67,1099.12 1971.75,1098.05 \n",
       "  1971.83,1096.99 1971.91,1095.94 1972,1094.89 1972.08,1093.86 1972.16,1092.84 1972.24,1091.82 1972.33,1090.81 1972.41,1089.81 1972.49,1088.82 1972.57,1087.84 \n",
       "  1972.66,1086.86 1972.74,1085.9 1972.82,1084.94 1972.9,1083.99 1972.99,1083.04 1973.07,1082.11 1973.15,1081.18 1973.23,1080.26 1973.32,1079.34 1973.4,1078.43 \n",
       "  1973.48,1077.53 1973.56,1076.64 1973.65,1075.75 1973.73,1074.87 1973.81,1074 1973.89,1073.13 1973.98,1072.27 1974.06,1071.41 1974.14,1070.56 1974.22,1069.72 \n",
       "  1974.31,1068.88 1974.39,1068.05 1974.47,1067.22 1974.55,1066.4 1974.64,1065.58 1974.72,1064.77 1974.8,1063.97 1974.88,1063.17 1974.97,1062.38 1975.05,1061.59 \n",
       "  1975.13,1060.8 1975.21,1060.03 1975.3,1059.25 1975.38,1058.49 1975.46,1057.72 1975.54,1056.96 1975.63,1056.21 1975.71,1055.46 1975.79,1054.72 1975.87,1053.98 \n",
       "  1975.95,1053.24 1976.04,1052.51 1976.12,1051.78 1976.2,1051.06 1976.28,1050.34 1976.37,1049.63 1976.45,1048.92 1976.53,1048.22 1976.61,1047.52 1976.7,1046.82 \n",
       "  1976.78,1046.13 1976.86,1045.44 1976.94,1044.75 1977.03,1044.07 1977.11,1043.4 1977.19,1042.72 1977.27,1042.05 1977.36,1041.39 1977.44,1040.73 1977.52,1040.07 \n",
       "  1977.6,1039.41 1977.69,1038.76 1977.77,1038.11 1977.85,1037.47 1977.93,1036.83 1978.02,1036.19 1978.1,1035.56 1978.18,1034.93 1978.26,1034.3 1978.35,1033.68 \n",
       "  1978.43,1033.06 1978.51,1032.44 1978.59,1031.83 1978.68,1031.22 1978.76,1030.61 1978.84,1030 1978.92,1029.4 1979.01,1028.8 1979.09,1028.21 1979.17,1027.62 \n",
       "  1979.25,1027.03 1979.34,1026.44 1979.42,1025.86 1979.5,1025.28 1979.58,1024.7 1979.67,1024.13 1979.75,1023.55 1979.83,1022.98 1979.91,1022.42 1979.99,1021.85 \n",
       "  1980.08,1021.29 1980.16,1020.73 1980.24,1020.18 1980.32,1019.63 1980.41,1019.08 1980.49,1018.53 1980.57,1017.98 1980.65,1017.44 1980.74,1016.9 1980.82,1016.36 \n",
       "  1980.9,1015.83 1980.98,1015.3 1981.07,1014.77 1981.15,1014.24 1981.23,1013.71 1981.31,1013.19 1981.4,1012.67 1981.48,1012.15 1981.56,1011.64 1981.64,1011.13 \n",
       "  1981.73,1010.61 1981.81,1010.11 1981.89,1009.6 1981.97,1009.1 1982.06,1008.59 1982.14,1008.1 1982.22,1007.6 1982.3,1007.1 1982.39,1006.61 1982.47,1006.12 \n",
       "  1982.55,1005.63 1982.63,1005.14 1982.72,1004.66 1982.8,1004.18 1982.88,1003.7 1982.96,1003.22 1983.05,1002.74 1983.13,1002.27 1983.21,1001.8 1983.29,1001.33 \n",
       "  1983.38,1000.86 1983.46,1000.4 1983.54,999.932 1983.62,999.471 1983.71,999.011 1983.79,998.553 1983.87,998.097 1983.95,997.643 1984.04,997.191 1984.12,996.741 \n",
       "  1984.2,996.293 1984.28,995.846 1984.36,995.402 1984.45,994.959 1984.53,994.518 1984.61,994.079 1984.69,993.642 1984.78,993.207 1984.86,992.773 1984.94,992.341 \n",
       "  1985.02,991.911 1985.11,991.483 1985.19,991.057 1985.27,990.632 1985.35,990.209 1985.44,989.788 1985.52,989.368 1985.6,988.95 1985.68,988.534 1985.77,988.12 \n",
       "  1985.85,987.707 1985.93,987.296 1986.01,986.887 1986.1,986.479 1986.18,986.073 1986.26,985.668 1986.34,985.265 1986.43,984.864 1986.51,984.464 1986.59,984.066 \n",
       "  1986.67,983.67 1986.76,983.275 1986.84,982.882 1986.92,982.49 1987,982.1 1987.09,981.711 1987.17,981.324 1987.25,980.938 1987.33,980.554 1987.42,980.172 \n",
       "  1987.5,979.791 1987.58,979.411 1987.66,979.033 1987.75,978.657 1987.83,978.282 1987.91,977.908 1987.99,977.536 1988.08,977.165 1988.16,976.796 1988.24,976.429 \n",
       "  1988.32,976.062 1988.4,975.698 1988.49,975.334 1988.57,974.972 1988.65,974.612 1988.73,974.252 1988.82,973.895 1988.9,973.538 1988.98,973.183 1989.06,972.83 \n",
       "  1989.15,972.478 1989.23,972.127 1989.31,971.777 1989.39,971.429 1989.48,971.083 1989.56,970.737 1989.64,970.393 1989.72,970.05 1989.81,969.709 1989.89,969.369 \n",
       "  1989.97,969.03 1990.05,968.693 1990.14,968.357 1990.22,968.022 1990.3,967.689 1990.38,967.356 1990.47,967.026 1990.55,966.696 1990.63,966.368 1990.71,966.041 \n",
       "  1990.8,965.715 1990.88,965.39 1990.96,965.067 1991.04,964.745 1991.13,964.425 1991.21,964.105 1991.29,963.787 1991.37,963.47 1991.46,963.154 1991.54,962.84 \n",
       "  1991.62,962.526 1991.7,962.214 1991.79,961.904 1991.87,961.594 1991.95,961.286 1992.03,960.978 1992.12,960.672 1992.2,960.368 1992.28,960.064 1992.36,959.762 \n",
       "  1992.45,959.461 1992.53,959.16 1992.61,958.862 1992.69,958.564 1992.77,958.267 1992.86,957.972 1992.94,957.678 1993.02,957.385 1993.1,957.093 1993.19,956.802 \n",
       "  1993.27,956.513 1993.35,956.225 1993.43,955.937 1993.52,955.651 1993.6,955.366 1993.68,955.082 1993.76,954.8 1993.85,954.518 1993.93,954.238 1994.01,953.958 \n",
       "  1994.09,953.68 1994.18,953.403 1994.26,953.127 1994.34,952.852 1994.42,952.579 1994.51,952.306 1994.59,952.034 1994.67,951.764 1994.75,951.495 1994.84,951.226 \n",
       "  1994.92,950.959 1995,950.693 1995.08,950.428 1995.17,950.164 1995.25,949.901 1995.33,949.64 1995.41,949.379 1995.5,949.119 1995.58,948.861 1995.66,948.603 \n",
       "  1995.74,948.347 1995.83,948.091 1995.91,947.837 1995.99,947.584 1996.07,947.332 1996.16,947.081 1996.24,946.831 1996.32,946.581 1996.4,946.333 1996.49,946.087 \n",
       "  1996.57,945.841 1996.65,945.596 1996.73,945.352 1996.81,945.109 1996.9,944.867 1996.98,944.627 1997.06,944.387 1997.14,944.148 1997.23,943.911 1997.31,943.674 \n",
       "  1997.39,943.438 1997.47,943.204 1997.56,942.97 1997.64,942.738 1997.72,942.506 1997.8,942.276 1997.89,942.046 1997.97,941.818 1998.05,941.59 1998.13,941.364 \n",
       "  1998.22,941.138 1998.3,940.914 1998.38,940.69 1998.46,940.468 1998.55,940.246 1998.63,940.026 1998.71,939.806 1998.79,939.588 1998.88,939.37 1998.96,939.154 \n",
       "  1999.04,938.938 1999.12,938.723 1999.21,938.51 1999.29,938.297 1999.37,938.086 1999.45,937.875 1999.54,937.665 1999.62,937.457 1999.7,937.249 1999.78,937.042 \n",
       "  1999.87,936.837 1999.95,936.632 2000.03,936.428 2000.11,936.225 2000.2,936.023 2000.28,935.822 2000.36,935.623 2000.44,935.424 2000.53,935.226 2000.61,935.029 \n",
       "  2000.69,934.833 2000.77,934.638 2000.86,934.443 2000.94,934.25 2001.02,934.058 2001.1,933.867 2001.18,933.677 2001.27,933.487 2001.35,933.299 2001.43,933.111 \n",
       "  2001.51,932.925 2001.6,932.74 2001.68,932.555 2001.76,932.371 2001.84,932.189 2001.93,932.007 2002.01,931.826 2002.09,931.647 2002.17,931.468 2002.26,931.29 \n",
       "  2002.34,931.113 2002.42,930.937 2002.5,930.762 2002.59,930.588 2002.67,930.415 2002.75,930.243 2002.83,930.071 2002.92,929.901 2003,929.732 2003.08,929.563 \n",
       "  2003.16,929.396 2003.25,929.229 2003.33,929.064 2003.41,928.899 2003.49,928.735 2003.58,928.573 2003.66,928.411 2003.74,928.25 2003.82,928.09 2003.91,927.931 \n",
       "  2003.99,927.773 2004.07,927.616 2004.15,927.46 2004.24,927.305 2004.32,927.15 2004.4,926.997 2004.48,926.845 2004.57,926.693 2004.65,926.543 2004.73,926.393 \n",
       "  2004.81,926.244 2004.9,926.097 2004.98,925.95 2005.06,925.804 2005.14,925.659 2005.22,925.515 2005.31,925.372 2005.39,925.23 2005.47,925.089 2005.55,924.949 \n",
       "  2005.64,924.81 2005.72,924.672 2005.8,924.534 2005.88,924.398 2005.97,924.263 2006.05,924.128 2006.13,923.995 2006.21,923.862 2006.3,923.73 2006.38,923.6 \n",
       "  2006.46,923.47 2006.54,923.341 2006.63,923.213 2006.71,923.086 2006.79,922.96 2006.87,922.835 2006.96,922.711 2007.04,922.588 2007.12,922.466 2007.2,922.344 \n",
       "  2007.29,922.224 2007.37,922.105 2007.45,921.986 2007.53,921.869 2007.62,921.752 2007.7,921.637 2007.78,921.522 2007.86,921.409 2007.95,921.296 2008.03,921.184 \n",
       "  2008.11,921.074 2008.19,920.964 2008.28,920.855 2008.36,920.747 2008.44,920.64 2008.52,920.534 2008.61,920.429 2008.69,920.325 2008.77,920.222 2008.85,920.12 \n",
       "  2008.94,920.019 2009.02,919.919 2009.1,919.819 2009.18,919.721 2009.27,919.624 2009.35,919.528 2009.43,919.432 2009.51,919.338 2009.59,919.244 2009.68,919.152 \n",
       "  2009.76,919.061 2009.84,918.97 2009.92,918.881 2010.01,918.792 2010.09,918.705 2010.17,918.618 2010.25,918.533 2010.34,918.448 2010.42,918.364 2010.5,918.282 \n",
       "  2010.58,918.2 2010.67,918.12 2010.75,918.04 2010.83,917.961 2010.91,917.884 2011,917.807 2011.08,917.732 2011.16,917.657 2011.24,917.583 2011.33,917.511 \n",
       "  2011.41,917.439 2011.49,917.369 2011.57,917.299 2011.66,917.23 2011.74,917.163 2011.82,917.096 2011.9,917.031 2011.99,916.966 2012.07,916.903 2012.15,916.84 \n",
       "  2012.23,916.779 2012.32,916.718 2012.4,916.659 2012.48,916.6 2012.56,916.543 2012.65,916.487 2012.73,916.432 2012.81,916.377 2012.89,916.324 2012.98,916.272 \n",
       "  2013.06,916.221 2013.14,916.171 2013.22,916.122 2013.31,916.074 2013.39,916.027 2013.47,915.981 2013.55,915.936 2013.63,915.892 2013.72,915.85 2013.8,915.808 \n",
       "  2013.88,915.767 2013.96,915.728 2014.05,915.69 2014.13,915.652 2014.21,915.616 2014.29,915.581 2014.38,915.547 2014.46,915.514 2014.54,915.482 2014.62,915.451 \n",
       "  2014.71,915.421 2014.79,915.393 2014.87,915.365 2014.95,915.339 2015.04,915.313 2015.12,915.289 2015.2,915.266 2015.28,915.244 2015.37,915.223 2015.45,915.203 \n",
       "  2015.53,915.184 2015.61,915.167 2015.7,915.151 2015.78,915.135 2015.86,915.121 2015.94,915.108 2016.03,915.096 2016.11,915.086 2016.19,915.076 2016.27,915.068 \n",
       "  2016.36,915.06 2016.44,915.054 2016.52,915.049 2016.6,915.046 2016.69,915.043 2016.77,915.042 2016.85,915.041 2016.93,915.042 2017.02,915.044 2017.1,915.048 \n",
       "  2017.18,915.052 2017.26,915.058 2017.35,915.065 2017.43,915.073 2017.51,915.082 2017.59,915.093 2017.68,915.105 2017.76,915.118 2017.84,915.132 2017.92,915.147 \n",
       "  2018,915.164 2018.09,915.182 2018.17,915.201 2018.25,915.221 2018.33,915.243 2018.42,915.266 2018.5,915.29 2018.58,915.315 2018.66,915.342 2018.75,915.37 \n",
       "  2018.83,915.399 2018.91,915.43 2018.99,915.462 2019.08,915.495 2019.16,915.529 2019.24,915.565 2019.32,915.602 2019.41,915.64 2019.49,915.68 2019.57,915.721 \n",
       "  2019.65,915.763 2019.74,915.807 2019.82,915.852 2019.9,915.898 2019.98,915.946 2020.07,915.995 2020.15,916.045 2020.23,916.097 2020.31,916.15 2020.4,916.205 \n",
       "  2020.48,916.261 2020.56,916.318 2020.64,916.377 2020.73,916.437 2020.81,916.498 2020.89,916.561 2020.97,916.626 2021.06,916.692 2021.14,916.759 2021.22,916.828 \n",
       "  2021.3,916.898 2021.39,916.969 2021.47,917.042 2021.55,917.117 2021.63,917.193 2021.72,917.271 2021.8,917.35 2021.88,917.43 2021.96,917.512 2022.04,917.596 \n",
       "  2022.13,917.681 2022.21,917.767 2022.29,917.855 2022.37,917.945 2022.46,918.036 2022.54,918.129 2022.62,918.223 2022.7,918.319 2022.79,918.417 2022.87,918.516 \n",
       "  2022.95,918.617 2023.03,918.719 2023.12,918.823 2023.2,918.928 2023.28,919.035 2023.36,919.144 2023.45,919.255 2023.53,919.367 2023.61,919.481 2023.69,919.596 \n",
       "  2023.78,919.714 2023.86,919.832 2023.94,919.953 2024.02,920.075 2024.11,920.199 2024.19,920.325 2024.27,920.453 2024.35,920.582 2024.44,920.713 2024.52,920.846 \n",
       "  2024.6,920.981 2024.68,921.117 2024.77,921.255 2024.85,921.395 2024.93,921.537 2025.01,921.681 2025.1,921.827 2025.18,921.974 2025.26,922.124 2025.34,922.275 \n",
       "  2025.43,922.428 2025.51,922.583 2025.59,922.74 2025.67,922.899 2025.76,923.06 2025.84,923.223 2025.92,923.388 2026,923.555 2026.09,923.724 2026.17,923.895 \n",
       "  2026.25,924.067 2026.33,924.242 2026.41,924.419 2026.5,924.599 2026.58,924.78 2026.66,924.963 2026.74,925.149 2026.83,925.336 2026.91,925.526 2026.99,925.718 \n",
       "  2027.07,925.912 2027.16,926.108 2027.24,926.306 2027.32,926.507 2027.4,926.71 2027.49,926.915 2027.57,927.123 2027.65,927.332 2027.73,927.544 2027.82,927.759 \n",
       "  2027.9,927.976 2027.98,928.195 2028.06,928.416 2028.15,928.64 2028.23,928.866 2028.31,929.095 2028.39,929.326 2028.48,929.56 2028.56,929.796 2028.64,930.035 \n",
       "  2028.72,930.276 2028.81,930.52 2028.89,930.766 2028.97,931.015 2029.05,931.267 2029.14,931.521 2029.22,931.778 2029.3,932.038 2029.38,932.3 2029.47,932.565 \n",
       "  2029.55,932.833 2029.63,933.103 2029.71,933.377 2029.8,933.653 2029.88,933.932 2029.96,934.214 2030.04,934.499 2030.13,934.787 2030.21,935.078 2030.29,935.372 \n",
       "  2030.37,935.668 2030.45,935.968 2030.54,936.271 2030.62,936.577 2030.7,936.886 2030.78,937.199 2030.87,937.514 2030.95,937.833 2031.03,938.155 2031.11,938.48 \n",
       "  2031.2,938.809 2031.28,939.141 2031.36,939.476 2031.44,939.815 2031.53,940.157 2031.61,940.503 2031.69,940.852 2031.77,941.205 2031.86,941.562 2031.94,941.922 \n",
       "  2032.02,942.285 2032.1,942.653 2032.19,943.024 2032.27,943.399 2032.35,943.778 2032.43,944.161 2032.52,944.547 2032.6,944.938 2032.68,945.333 2032.76,945.731 \n",
       "  2032.85,946.134 2032.93,946.541 2033.01,946.952 2033.09,947.368 2033.18,947.787 2033.26,948.211 2033.34,948.64 2033.42,949.073 2033.51,949.51 2033.59,949.952 \n",
       "  2033.67,950.399 2033.75,950.85 2033.84,951.306 2033.92,951.767 2034,952.232 2034.08,952.703 2034.17,953.179 2034.25,953.659 2034.33,954.145 2034.41,954.636 \n",
       "  2034.5,955.132 2034.58,955.633 2034.66,956.14 2034.74,956.652 2034.82,957.17 2034.91,957.694 2034.99,958.223 2035.07,958.758 2035.15,959.298 2035.24,959.845 \n",
       "  2035.32,960.398 2035.4,960.956 2035.48,961.521 2035.57,962.093 2035.65,962.67 2035.73,963.255 2035.81,963.845 2035.9,964.443 2035.98,965.047 2036.06,965.658 \n",
       "  2036.14,966.276 2036.23,966.901 2036.31,967.534 2036.39,968.173 2036.47,968.82 2036.56,969.475 2036.64,970.138 2036.72,970.808 2036.8,971.486 2036.89,972.173 \n",
       "  2036.97,972.867 2037.05,973.57 2037.13,974.282 2037.22,975.002 2037.3,975.731 2037.38,976.469 2037.46,977.216 2037.55,977.973 2037.63,978.739 2037.71,979.514 \n",
       "  2037.79,980.3 2037.88,981.096 2037.96,981.902 2038.04,982.718 2038.12,983.545 2038.21,984.383 2038.29,985.232 2038.37,986.093 2038.45,986.964 2038.54,987.848 \n",
       "  2038.62,988.744 2038.7,989.652 2038.78,990.573 2038.86,991.507 2038.95,992.454 2039.03,993.414 2039.11,994.388 2039.19,995.376 2039.28,996.379 2039.36,997.396 \n",
       "  2039.44,998.428 2039.52,999.476 2039.61,1000.54 2039.69,1001.62 2039.77,1002.72 2039.85,1003.83 2039.94,1004.96 2040.02,1006.11 2040.1,1007.28 2040.18,1008.47 \n",
       "  2040.27,1009.67 2040.35,1010.9 2040.43,1012.15 2040.51,1013.41 2040.6,1014.7 2040.68,1016.02 2040.76,1017.35 2040.84,1018.71 2040.93,1020.1 2041.01,1021.51 \n",
       "  2041.09,1022.94 2041.17,1024.4 2041.26,1025.9 2041.34,1027.42 2041.42,1028.97 2041.5,1030.55 2041.59,1032.16 2041.67,1033.8 2041.75,1035.49 2041.83,1037.2 \n",
       "  2041.92,1038.95 2042,1040.75 2042.08,1042.58 2042.16,1044.45 2042.25,1046.37 2042.33,1048.33 2042.41,1050.34 2042.49,1052.4 2042.58,1054.52 2042.66,1056.68 \n",
       "  2042.74,1058.9 2042.82,1061.19 2042.91,1063.53 2042.99,1065.94 2043.07,1068.42 2043.15,1070.98 2043.23,1073.61 2043.32,1076.32 2043.4,1079.12 2043.48,1082.01 \n",
       "  2043.56,1085 2043.65,1088.09 2043.73,1091.29 2043.81,1094.61 2043.89,1098.06 2043.98,1101.65 2044.06,1105.38 2044.14,1109.28 2044.22,1113.35 2044.31,1117.6 \n",
       "  2044.39,1122.07 2044.47,1126.76 2044.55,1131.7 2044.64,1136.92 2044.72,1142.44 2044.8,1148.31 2044.88,1154.58 2044.97,1161.28 2045.05,1168.5 2045.13,1176.31 \n",
       "  2045.21,1184.82 2045.3,1194.16 2045.38,1204.49 2045.46,1216.08 2045.54,1229.23 2045.63,1244.45 2045.71,1262.48 2045.79,1284.6 2045.87,1313.2 2045.96,1353.64 \n",
       "  2046.04,1423.18 2046.12,1353.29 2046.2,1312.52 2046.29,1283.59 2046.37,1261.13 2046.45,1242.76 2046.53,1227.21 2046.62,1213.72 2046.7,1201.81 2046.78,1191.14 \n",
       "  2046.86,1181.47 2046.95,1172.63 2047.03,1164.49 2047.11,1156.94 2047.19,1149.9 2047.27,1143.3 2047.36,1137.1 2047.44,1131.24 2047.52,1125.69 2047.6,1120.41 \n",
       "  2047.69,1115.39 2047.77,1110.6 2047.85,1106.01 2047.93,1101.6 2048.02,1097.38 2048.1,1093.31 2048.18,1089.39 2048.26,1085.61 2048.35,1081.95 2048.43,1078.42 \n",
       "  2048.51,1074.99 2048.59,1071.67 2048.68,1068.45 2048.76,1065.32 2048.84,1062.27 2048.92,1059.31 2049.01,1056.42 2049.09,1053.61 2049.17,1050.87 2049.25,1048.19 \n",
       "  2049.34,1045.58 2049.42,1043.02 2049.5,1040.52 2049.58,1038.08 2049.67,1035.69 2049.75,1033.34 2049.83,1031.05 2049.91,1028.8 2050,1026.59 2050.08,1024.43 \n",
       "  2050.16,1022.3 2050.24,1020.22 2050.33,1018.17 2050.41,1016.15 2050.49,1014.18 2050.57,1012.23 2050.66,1010.32 2050.74,1008.44 2050.82,1006.58 2050.9,1004.76 \n",
       "  2050.99,1002.96 2051.07,1001.2 2051.15,999.453 2051.23,997.736 2051.32,996.044 2051.4,994.376 2051.48,992.731 2051.56,991.108 2051.64,989.508 2051.73,987.928 \n",
       "  2051.81,986.369 2051.89,984.83 2051.97,983.311 2052.06,981.81 2052.14,980.329 2052.22,978.865 2052.3,977.418 2052.39,975.989 2052.47,974.577 2052.55,973.18 \n",
       "  2052.63,971.8 2052.72,970.435 2052.8,969.085 2052.88,967.75 2052.96,966.429 2053.05,965.123 2053.13,963.83 2053.21,962.551 2053.29,961.285 2053.38,960.031 \n",
       "  2053.46,958.791 2053.54,957.562 2053.62,956.346 2053.71,955.141 2053.79,953.948 2053.87,952.767 2053.95,951.596 2054.04,950.437 2054.12,949.288 2054.2,948.149 \n",
       "  2054.28,947.021 2054.37,945.903 2054.45,944.795 2054.53,943.696 2054.61,942.607 2054.7,941.527 2054.78,940.457 2054.86,939.395 2054.94,938.342 2055.03,937.298 \n",
       "  2055.11,936.263 2055.19,935.236 2055.27,934.217 2055.36,933.206 2055.44,932.203 2055.52,931.208 2055.6,930.221 2055.68,929.241 2055.77,928.269 2055.85,927.304 \n",
       "  2055.93,926.346 2056.01,925.396 2056.1,924.452 2056.18,923.515 2056.26,922.585 2056.34,921.662 2056.43,920.745 2056.51,919.835 2056.59,918.931 2056.67,918.034 \n",
       "  2056.76,917.142 2056.84,916.257 2056.92,915.378 2057,914.505 2057.09,913.637 2057.17,912.775 2057.25,911.919 2057.33,911.069 2057.42,910.224 2057.5,909.385 \n",
       "  2057.58,908.551 2057.66,907.722 2057.75,906.899 2057.83,906.08 2057.91,905.267 2057.99,904.459 2058.08,903.656 2058.16,902.858 2058.24,902.064 2058.32,901.276 \n",
       "  2058.41,900.492 2058.49,899.713 2058.57,898.938 2058.65,898.168 2058.74,897.403 2058.82,896.642 2058.9,895.885 2058.98,895.133 2059.07,894.385 2059.15,893.641 \n",
       "  2059.23,892.901 2059.31,892.166 2059.4,891.435 2059.48,890.708 2059.56,889.984 2059.64,889.265 2059.73,888.55 2059.81,887.838 2059.89,887.131 2059.97,886.427 \n",
       "  2060.05,885.727 2060.14,885.03 2060.22,884.338 2060.3,883.649 2060.38,882.963 2060.47,882.281 2060.55,881.603 2060.63,880.928 2060.71,880.257 2060.8,879.589 \n",
       "  2060.88,878.924 2060.96,878.263 2061.04,877.605 2061.13,876.951 2061.21,876.299 2061.29,875.651 2061.37,875.006 2061.46,874.364 2061.54,873.726 2061.62,873.09 \n",
       "  2061.7,872.458 2061.79,871.828 2061.87,871.202 2061.95,870.578 2062.03,869.958 2062.12,869.34 2062.2,868.726 2062.28,868.114 2062.36,867.505 2062.45,866.899 \n",
       "  2062.53,866.296 2062.61,865.695 2062.69,865.098 2062.78,864.503 2062.86,863.91 2062.94,863.321 2063.02,862.734 2063.11,862.15 2063.19,861.568 2063.27,860.989 \n",
       "  2063.35,860.413 2063.44,859.839 2063.52,859.267 2063.6,858.699 2063.68,858.132 2063.77,857.568 2063.85,857.007 2063.93,856.448 2064.01,855.891 2064.09,855.337 \n",
       "  2064.18,854.785 2064.26,854.236 2064.34,853.689 2064.42,853.144 2064.51,852.602 2064.59,852.062 2064.67,851.524 2064.75,850.988 2064.84,850.455 2064.92,849.924 \n",
       "  2065,849.395 2065.08,848.868 2065.17,848.344 2065.25,847.821 2065.33,847.301 2065.41,846.783 2065.5,846.267 2065.58,845.753 2065.66,845.241 2065.74,844.731 \n",
       "  2065.83,844.224 2065.91,843.718 2065.99,843.215 2066.07,842.713 2066.16,842.214 2066.24,841.716 2066.32,841.22 2066.4,840.727 2066.49,840.235 2066.57,839.745 \n",
       "  2066.65,839.258 2066.73,838.772 2066.82,838.288 2066.9,837.806 2066.98,837.325 2067.06,836.847 2067.15,836.37 2067.23,835.896 2067.31,835.423 2067.39,834.952 \n",
       "  2067.48,834.483 2067.56,834.015 2067.64,833.55 2067.72,833.086 2067.81,832.624 2067.89,832.164 2067.97,831.705 2068.05,831.248 2068.14,830.793 2068.22,830.34 \n",
       "  2068.3,829.888 2068.38,829.438 2068.46,828.99 2068.55,828.544 2068.63,828.099 2068.71,827.656 2068.79,827.214 2068.88,826.774 2068.96,826.336 2069.04,825.899 \n",
       "  2069.12,825.464 2069.21,825.03 2069.29,824.599 2069.37,824.168 2069.45,823.74 2069.54,823.313 2069.62,822.887 2069.7,822.463 2069.78,822.041 2069.87,821.62 \n",
       "  2069.95,821.2 2070.03,820.783 2070.11,820.366 2070.2,819.952 2070.28,819.538 2070.36,819.126 2070.44,818.716 2070.53,818.307 2070.61,817.9 2070.69,817.494 \n",
       "  2070.77,817.09 2070.86,816.687 2070.94,816.285 2071.02,815.885 2071.1,815.487 2071.19,815.09 2071.27,814.694 2071.35,814.299 2071.43,813.907 2071.52,813.515 \n",
       "  2071.6,813.125 2071.68,812.736 2071.76,812.349 2071.85,811.963 2071.93,811.578 2072.01,811.195 2072.09,810.813 2072.18,810.433 2072.26,810.053 2072.34,809.676 \n",
       "  2072.42,809.299 2072.5,808.924 2072.59,808.55 2072.67,808.178 2072.75,807.807 2072.83,807.437 2072.92,807.068 2073,806.701 2073.08,806.335 2073.16,805.97 \n",
       "  2073.25,805.607 2073.33,805.245 2073.41,804.884 2073.49,804.525 2073.58,804.166 2073.66,803.809 2073.74,803.454 2073.82,803.099 2073.91,802.746 2073.99,802.394 \n",
       "  2074.07,802.043 2074.15,801.694 2074.24,801.345 2074.32,800.998 2074.4,800.653 2074.48,800.308 2074.57,799.965 2074.65,799.622 2074.73,799.281 2074.81,798.942 \n",
       "  2074.9,798.603 2074.98,798.266 2075.06,797.929 2075.14,797.594 2075.23,797.261 2075.31,796.928 2075.39,796.597 2075.47,796.266 2075.56,795.937 2075.64,795.609 \n",
       "  2075.72,795.282 2075.8,794.957 2075.89,794.632 2075.97,794.309 2076.05,793.987 2076.13,793.666 2076.22,793.346 2076.3,793.027 2076.38,792.709 2076.46,792.393 \n",
       "  2076.55,792.078 2076.63,791.763 2076.71,791.45 2076.79,791.138 2076.87,790.827 2076.96,790.518 2077.04,790.209 2077.12,789.901 2077.2,789.595 2077.29,789.289 \n",
       "  2077.37,788.985 2077.45,788.682 2077.53,788.38 2077.62,788.079 2077.7,787.779 2077.78,787.48 2077.86,787.183 2077.95,786.886 2078.03,786.59 2078.11,786.296 \n",
       "  2078.19,786.002 2078.28,785.71 2078.36,785.419 2078.44,785.128 2078.52,784.839 2078.61,784.551 2078.69,784.264 2078.77,783.978 2078.85,783.693 2078.94,783.409 \n",
       "  2079.02,783.126 2079.1,782.844 2079.18,782.564 2079.27,782.284 2079.35,782.005 2079.43,781.728 2079.51,781.451 2079.6,781.175 2079.68,780.901 2079.76,780.627 \n",
       "  2079.84,780.355 2079.93,780.083 2080.01,779.813 2080.09,779.543 2080.17,779.275 2080.26,779.008 2080.34,778.741 2080.42,778.476 2080.5,778.211 2080.59,777.948 \n",
       "  2080.67,777.686 2080.75,777.424 2080.83,777.164 2080.91,776.905 2081,776.646 2081.08,776.389 2081.16,776.133 2081.24,775.877 2081.33,775.623 2081.41,775.369 \n",
       "  2081.49,775.117 2081.57,774.866 2081.66,774.615 2081.74,774.366 2081.82,774.118 2081.9,773.87 2081.99,773.624 2082.07,773.378 2082.15,773.134 2082.23,772.89 \n",
       "  2082.32,772.648 2082.4,772.406 2082.48,772.165 2082.56,771.926 2082.65,771.687 2082.73,771.45 2082.81,771.213 2082.89,770.977 2082.98,770.742 2083.06,770.509 \n",
       "  2083.14,770.276 2083.22,770.044 2083.31,769.813 2083.39,769.583 2083.47,769.354 2083.55,769.126 2083.64,768.899 2083.72,768.673 2083.8,768.448 2083.88,768.224 \n",
       "  2083.97,768.001 2084.05,767.778 2084.13,767.557 2084.21,767.337 2084.3,767.117 2084.38,766.899 2084.46,766.682 2084.54,766.465 2084.63,766.25 2084.71,766.035 \n",
       "  2084.79,765.821 2084.87,765.609 2084.96,765.397 2085.04,765.186 2085.12,764.976 2085.2,764.767 2085.28,764.559 2085.37,764.352 2085.45,764.146 2085.53,763.941 \n",
       "  2085.61,763.737 2085.7,763.534 2085.78,763.331 2085.86,763.13 2085.94,762.93 2086.03,762.73 2086.11,762.532 2086.19,762.334 2086.27,762.137 2086.36,761.942 \n",
       "  2086.44,761.747 2086.52,761.553 2086.6,761.36 2086.69,761.168 2086.77,760.977 2086.85,760.787 2086.93,760.598 2087.02,760.41 2087.1,760.223 2087.18,760.037 \n",
       "  2087.26,759.851 2087.35,759.667 2087.43,759.484 2087.51,759.301 2087.59,759.12 2087.68,758.939 2087.76,758.759 2087.84,758.581 2087.92,758.403 2088.01,758.226 \n",
       "  2088.09,758.05 2088.17,757.875 2088.25,757.701 2088.34,757.528 2088.42,757.356 2088.5,757.185 2088.58,757.014 2088.67,756.845 2088.75,756.677 2088.83,756.509 \n",
       "  2088.91,756.343 2089,756.177 2089.08,756.013 2089.16,755.849 2089.24,755.686 2089.32,755.525 2089.41,755.364 2089.49,755.204 2089.57,755.045 2089.65,754.887 \n",
       "  2089.74,754.73 2089.82,754.574 2089.9,754.419 2089.98,754.265 2090.07,754.112 2090.15,753.959 2090.23,753.808 2090.31,753.658 2090.4,753.508 2090.48,753.36 \n",
       "  2090.56,753.212 2090.64,753.066 2090.73,752.92 2090.81,752.776 2090.89,752.632 2090.97,752.489 2091.06,752.348 2091.14,752.207 2091.22,752.067 2091.3,751.928 \n",
       "  2091.39,751.79 2091.47,751.654 2091.55,751.518 2091.63,751.383 2091.72,751.249 2091.8,751.116 2091.88,750.984 2091.96,750.853 2092.05,750.722 2092.13,750.593 \n",
       "  2092.21,750.465 2092.29,750.338 2092.38,750.212 2092.46,750.087 2092.54,749.962 2092.62,749.839 2092.71,749.717 2092.79,749.595 2092.87,749.475 2092.95,749.356 \n",
       "  2093.04,749.238 2093.12,749.12 2093.2,749.004 2093.28,748.888 2093.37,748.774 2093.45,748.661 2093.53,748.548 2093.61,748.437 2093.69,748.327 2093.78,748.217 \n",
       "  2093.86,748.109 2093.94,748.002 2094.02,747.895 2094.11,747.79 2094.19,747.686 2094.27,747.582 2094.35,747.48 2094.44,747.379 2094.52,747.278 2094.6,747.179 \n",
       "  2094.68,747.081 2094.77,746.984 2094.85,746.888 2094.93,746.792 2095.01,746.698 2095.1,746.605 2095.18,746.513 2095.26,746.422 2095.34,746.332 2095.43,746.243 \n",
       "  2095.51,746.155 2095.59,746.069 2095.67,745.983 2095.76,745.898 2095.84,745.814 2095.92,745.732 2096,745.65 2096.09,745.57 2096.17,745.49 2096.25,745.412 \n",
       "  2096.33,745.334 2096.42,745.258 2096.5,745.183 2096.58,745.109 2096.66,745.036 2096.75,744.964 2096.83,744.893 2096.91,744.823 2096.99,744.754 2097.08,744.687 \n",
       "  2097.16,744.62 2097.24,744.555 2097.32,744.49 2097.41,744.427 2097.49,744.365 2097.57,744.304 2097.65,744.244 2097.73,744.185 2097.82,744.127 2097.9,744.071 \n",
       "  2097.98,744.015 2098.06,743.961 2098.15,743.908 2098.23,743.856 2098.31,743.805 2098.39,743.755 2098.48,743.706 2098.56,743.659 2098.64,743.612 2098.72,743.567 \n",
       "  2098.81,743.523 2098.89,743.48 2098.97,743.438 2099.05,743.398 2099.14,743.358 2099.22,743.32 2099.3,743.283 2099.38,743.247 2099.47,743.212 2099.55,743.179 \n",
       "  2099.63,743.147 2099.71,743.115 2099.8,743.086 2099.88,743.057 2099.96,743.029 2100.04,743.003 2100.13,742.978 2100.21,742.954 2100.29,742.931 2100.37,742.91 \n",
       "  2100.46,742.89 2100.54,742.871 2100.62,742.853 2100.7,742.837 2100.79,742.821 2100.87,742.807 2100.95,742.795 2101.03,742.783 2101.12,742.773 2101.2,742.764 \n",
       "  2101.28,742.757 2101.36,742.75 2101.45,742.745 2101.53,742.742 2101.61,742.739 2101.69,742.738 2101.78,742.738 2101.86,742.74 2101.94,742.742 2102.02,742.747 \n",
       "  2102.1,742.752 2102.19,742.759 2102.27,742.767 2102.35,742.776 2102.43,742.787 2102.52,742.799 2102.6,742.813 2102.68,742.828 2102.76,742.844 2102.85,742.862 \n",
       "  2102.93,742.881 2103.01,742.901 2103.09,742.923 2103.18,742.947 2103.26,742.971 2103.34,742.997 2103.42,743.025 2103.51,743.054 2103.59,743.084 2103.67,743.116 \n",
       "  2103.75,743.149 2103.84,743.184 2103.92,743.22 2104,743.258 2104.08,743.297 2104.17,743.338 2104.25,743.38 2104.33,743.424 2104.41,743.469 2104.5,743.515 \n",
       "  2104.58,743.564 2104.66,743.613 2104.74,743.665 2104.83,743.717 2104.91,743.772 2104.99,743.828 2105.07,743.885 2105.16,743.944 2105.24,744.005 2105.32,744.067 \n",
       "  2105.4,744.131 2105.49,744.197 2105.57,744.264 2105.65,744.332 2105.73,744.403 2105.82,744.475 2105.9,744.548 2105.98,744.624 2106.06,744.701 2106.14,744.779 \n",
       "  2106.23,744.86 2106.31,744.942 2106.39,745.026 2106.47,745.111 2106.56,745.198 2106.64,745.287 2106.72,745.378 2106.8,745.471 2106.89,745.565 2106.97,745.661 \n",
       "  2107.05,745.759 2107.13,745.858 2107.22,745.96 2107.3,746.063 2107.38,746.168 2107.46,746.275 2107.55,746.384 2107.63,746.495 2107.71,746.608 2107.79,746.722 \n",
       "  2107.88,746.839 2107.96,746.957 2108.04,747.077 2108.12,747.199 2108.21,747.324 2108.29,747.45 2108.37,747.578 2108.45,747.708 2108.54,747.84 2108.62,747.974 \n",
       "  2108.7,748.11 2108.78,748.249 2108.87,748.389 2108.95,748.531 2109.03,748.676 2109.11,748.823 2109.2,748.971 2109.28,749.122 2109.36,749.275 2109.44,749.43 \n",
       "  2109.53,749.588 2109.61,749.747 2109.69,749.909 2109.77,750.073 2109.86,750.24 2109.94,750.408 2110.02,750.579 2110.1,750.752 2110.19,750.928 2110.27,751.105 \n",
       "  2110.35,751.286 2110.43,751.468 2110.51,751.653 2110.6,751.84 2110.68,752.03 2110.76,752.222 2110.84,752.417 2110.93,752.614 2111.01,752.814 2111.09,753.016 \n",
       "  2111.17,753.221 2111.26,753.428 2111.34,753.638 2111.42,753.851 2111.5,754.066 2111.59,754.284 2111.67,754.504 2111.75,754.727 2111.83,754.953 2111.92,755.182 \n",
       "  2112,755.413 2112.08,755.648 2112.16,755.885 2112.25,756.125 2112.33,756.367 2112.41,756.613 2112.49,756.862 2112.58,757.113 2112.66,757.368 2112.74,757.625 \n",
       "  2112.82,757.886 2112.91,758.15 2112.99,758.416 2113.07,758.686 2113.15,758.959 2113.24,759.235 2113.32,759.515 2113.4,759.798 2113.48,760.084 2113.57,760.373 \n",
       "  2113.65,760.665 2113.73,760.961 2113.81,761.261 2113.9,761.563 2113.98,761.87 2114.06,762.18 2114.14,762.493 2114.23,762.81 2114.31,763.13 2114.39,763.455 \n",
       "  2114.47,763.783 2114.55,764.114 2114.64,764.45 2114.72,764.789 2114.8,765.132 2114.88,765.479 2114.97,765.83 2115.05,766.185 2115.13,766.544 2115.21,766.908 \n",
       "  2115.3,767.275 2115.38,767.646 2115.46,768.022 2115.54,768.402 2115.63,768.786 2115.71,769.175 2115.79,769.568 2115.87,769.966 2115.96,770.368 2116.04,770.775 \n",
       "  2116.12,771.186 2116.2,771.603 2116.29,772.023 2116.37,772.449 2116.45,772.88 2116.53,773.316 2116.62,773.756 2116.7,774.202 2116.78,774.653 2116.86,775.109 \n",
       "  2116.95,775.57 2117.03,776.037 2117.11,776.509 2117.19,776.987 2117.28,777.471 2117.36,777.96 2117.44,778.454 2117.52,778.955 2117.61,779.461 2117.69,779.974 \n",
       "  2117.77,780.492 2117.85,781.017 2117.94,781.548 2118.02,782.086 2118.1,782.629 2118.18,783.18 2118.27,783.737 2118.35,784.301 2118.43,784.871 2118.51,785.449 \n",
       "  2118.6,786.034 2118.68,786.626 2118.76,787.225 2118.84,787.831 2118.92,788.446 2119.01,789.067 2119.09,789.697 2119.17,790.335 2119.25,790.98 2119.34,791.634 \n",
       "  2119.42,792.296 2119.5,792.967 2119.58,793.646 2119.67,794.335 2119.75,795.032 2119.83,795.738 2119.91,796.454 2120,797.179 2120.08,797.913 2120.16,798.658 \n",
       "  2120.24,799.412 2120.33,800.177 2120.41,800.952 2120.49,801.738 2120.57,802.535 2120.66,803.343 2120.74,804.162 2120.82,804.992 2120.9,805.834 2120.99,806.689 \n",
       "  2121.07,807.555 2121.15,808.435 2121.23,809.326 2121.32,810.232 2121.4,811.15 2121.48,812.082 2121.56,813.028 2121.65,813.989 2121.73,814.964 2121.81,815.954 \n",
       "  2121.89,816.96 2121.98,817.982 2122.06,819.019 2122.14,820.074 2122.22,821.145 2122.31,822.234 2122.39,823.34 2122.47,824.465 2122.55,825.609 2122.64,826.773 \n",
       "  2122.72,827.956 2122.8,829.16 2122.88,830.385 2122.96,831.632 2123.05,832.901 2123.13,834.193 2123.21,835.509 2123.29,836.849 2123.38,838.215 2123.46,839.606 \n",
       "  2123.54,841.025 2123.62,842.471 2123.71,843.947 2123.79,845.452 2123.87,846.987 2123.95,848.555 2124.04,850.155 2124.12,851.79 2124.2,853.461 2124.28,855.168 \n",
       "  2124.37,856.914 2124.45,858.699 2124.53,860.526 2124.61,862.397 2124.7,864.312 2124.78,866.274 2124.86,868.286 2124.94,870.349 2125.03,872.466 2125.11,874.639 \n",
       "  2125.19,876.871 2125.27,879.165 2125.36,881.525 2125.44,883.953 2125.52,886.454 2125.6,889.031 2125.69,891.689 2125.77,894.433 2125.85,897.268 2125.93,900.2 \n",
       "  2126.02,903.234 2126.1,906.378 2126.18,909.64 2126.26,913.028 2126.35,916.551 2126.43,920.221 2126.51,924.048 2126.59,928.046 2126.68,932.231 2126.76,936.619 \n",
       "  2126.84,941.23 2126.92,946.087 2127.01,951.216 2127.09,956.648 2127.17,962.419 2127.25,968.573 2127.33,975.162 2127.42,982.25 2127.5,989.916 2127.58,998.258 \n",
       "  2127.66,1007.4 2127.75,1017.52 2127.83,1028.84 2127.91,1041.66 2127.99,1056.45 2128.08,1073.91 2128.16,1095.19 2128.24,1122.42 2128.32,1160.2 2128.41,1222.2 \n",
       "  2128.49,1423.18 2128.57,1221.78 2128.65,1159.37 2128.74,1121.17 2128.82,1093.53 2128.9,1071.84 2128.98,1053.97 2129.07,1038.77 2129.15,1025.53 2129.23,1013.81 \n",
       "  2129.31,1003.27 2129.4,993.716 2129.48,984.961 2129.56,976.882 2129.64,969.382 2129.73,962.38 2129.81,955.814 2129.89,949.63 2129.97,943.785 2130.06,938.243 \n",
       "  2130.14,932.974 2130.22,927.95 2130.3,923.149 2130.39,918.552 2130.47,914.141 2130.55,909.901 2130.63,905.819 2130.72,901.883 2130.8,898.083 2130.88,894.408 \n",
       "  2130.96,890.852 2131.05,887.404 2131.13,884.06 2131.21,880.813 2131.29,877.656 2131.37,874.586 2131.46,871.596 2131.54,868.682 2131.62,865.841 2131.7,863.069 \n",
       "  2131.79,860.362 2131.87,857.717 2131.95,855.132 2132.03,852.602 2132.12,850.126 2132.2,847.702 2132.28,845.327 2132.36,842.999 2132.45,840.716 2132.53,838.476 \n",
       "  2132.61,836.278 2132.69,834.12 2132.78,832 2132.86,829.917 2132.94,827.869 2133.02,825.856 2133.11,823.876 2133.19,821.927 2133.27,820.01 2133.35,818.122 \n",
       "  2133.44,816.263 2133.52,814.431 2133.6,812.627 2133.68,810.849 2133.77,809.096 2133.85,807.367 2133.93,805.662 2134.01,803.981 2134.1,802.321 2134.18,800.683 \n",
       "  2134.26,799.067 2134.34,797.471 2134.43,795.895 2134.51,794.338 2134.59,792.8 2134.67,791.281 2134.76,789.78 2134.84,788.296 2134.92,786.829 2135,785.378 \n",
       "  2135.09,783.944 2135.17,782.526 2135.25,781.123 2135.33,779.735 2135.42,778.361 2135.5,777.002 2135.58,775.658 2135.66,774.326 2135.74,773.009 2135.83,771.704 \n",
       "  2135.91,770.412 2135.99,769.133 2136.07,767.866 2136.16,766.61 2136.24,765.367 2136.32,764.135 2136.4,762.915 2136.49,761.706 2136.57,760.507 2136.65,759.319 \n",
       "  2136.73,758.141 2136.82,756.974 2136.9,755.817 2136.98,754.669 2137.06,753.532 2137.15,752.403 2137.23,751.284 2137.31,750.174 2137.39,749.073 2137.48,747.981 \n",
       "  2137.56,746.898 2137.64,745.823 2137.72,744.756 2137.81,743.697 2137.89,742.647 2137.97,741.605 2138.05,740.57 2138.14,739.543 2138.22,738.524 2138.3,737.511 \n",
       "  2138.38,736.507 2138.47,735.509 2138.55,734.519 2138.63,733.535 2138.71,732.559 2138.8,731.589 2138.88,730.626 2138.96,729.669 2139.04,728.719 2139.13,727.775 \n",
       "  2139.21,726.837 2139.29,725.906 2139.37,724.98 2139.46,724.061 2139.54,723.148 2139.62,722.24 2139.7,721.338 2139.78,720.442 2139.87,719.551 2139.95,718.666 \n",
       "  2140.03,717.786 2140.11,716.912 2140.2,716.043 2140.28,715.179 2140.36,714.321 2140.44,713.467 2140.53,712.618 2140.61,711.775 2140.69,710.936 2140.77,710.102 \n",
       "  2140.86,709.273 2140.94,708.449 2141.02,707.629 2141.1,706.814 2141.19,706.003 2141.27,705.197 2141.35,704.395 2141.43,703.598 2141.52,702.805 2141.6,702.017 \n",
       "  2141.68,701.232 2141.76,700.452 2141.85,699.676 2141.93,698.904 2142.01,698.136 2142.09,697.372 2142.18,696.611 2142.26,695.855 2142.34,695.103 2142.42,694.355 \n",
       "  2142.51,693.61 2142.59,692.869 2142.67,692.132 2142.75,691.398 2142.84,690.668 2142.92,689.942 2143,689.219 2143.08,688.499 2143.17,687.783 2143.25,687.071 \n",
       "  2143.33,686.362 2143.41,685.656 2143.5,684.954 2143.58,684.255 2143.66,683.559 2143.74,682.867 2143.83,682.177 2143.91,681.491 2143.99,680.808 2144.07,680.128 \n",
       "  2144.15,679.452 2144.24,678.778 2144.32,678.107 2144.4,677.44 2144.48,676.775 2144.57,676.113 2144.65,675.454 2144.73,674.798 2144.81,674.145 2144.9,673.495 \n",
       "  2144.98,672.847 2145.06,672.203 2145.14,671.561 2145.23,670.922 2145.31,670.285 2145.39,669.652 2145.47,669.021 2145.56,668.392 2145.64,667.767 2145.72,667.143 \n",
       "  2145.8,666.523 2145.89,665.905 2145.97,665.289 2146.05,664.677 2146.13,664.066 2146.22,663.458 2146.3,662.853 2146.38,662.25 2146.46,661.649 2146.55,661.051 \n",
       "  2146.63,660.455 2146.71,659.862 2146.79,659.27 2146.88,658.682 2146.96,658.095 2147.04,657.511 2147.12,656.929 2147.21,656.349 2147.29,655.772 2147.37,655.197 \n",
       "  2147.45,654.624 2147.54,654.053 2147.62,653.485 2147.7,652.918 2147.78,652.354 2147.87,651.792 2147.95,651.232 2148.03,650.674 2148.11,650.118 2148.19,649.564 \n",
       "  2148.28,649.013 2148.36,648.463 2148.44,647.916 2148.52,647.37 2148.61,646.826 2148.69,646.285 2148.77,645.745 2148.85,645.208 2148.94,644.672 2149.02,644.138 \n",
       "  2149.1,643.606 2149.18,643.076 2149.27,642.548 2149.35,642.022 2149.43,641.498 2149.51,640.976 2149.6,640.455 2149.68,639.936 2149.76,639.42 2149.84,638.905 \n",
       "  2149.93,638.391 2150.01,637.88 2150.09,637.37 2150.17,636.862 2150.26,636.356 2150.34,635.852 2150.42,635.349 2150.5,634.849 2150.59,634.35 2150.67,633.852 \n",
       "  2150.75,633.356 2150.83,632.862 2150.92,632.37 2151,631.879 2151.08,631.39 2151.16,630.903 2151.25,630.417 2151.33,629.933 2151.41,629.451 2151.49,628.97 \n",
       "  2151.58,628.491 2151.66,628.013 2151.74,627.537 2151.82,627.063 2151.91,626.59 2151.99,626.119 2152.07,625.649 2152.15,625.181 2152.24,624.715 2152.32,624.25 \n",
       "  2152.4,623.786 2152.48,623.324 2152.56,622.864 2152.65,622.405 2152.73,621.947 2152.81,621.491 2152.89,621.037 2152.98,620.584 2153.06,620.132 2153.14,619.682 \n",
       "  2153.22,619.234 2153.31,618.786 2153.39,618.341 2153.47,617.896 2153.55,617.454 2153.64,617.012 2153.72,616.572 2153.8,616.134 2153.88,615.696 2153.97,615.261 \n",
       "  2154.05,614.826 2154.13,614.393 2154.21,613.961 2154.3,613.531 2154.38,613.102 2154.46,612.675 2154.54,612.249 2154.63,611.824 2154.71,611.4 2154.79,610.978 \n",
       "  2154.87,610.557 2154.96,610.138 2155.04,609.72 2155.12,609.303 2155.2,608.887 2155.29,608.473 2155.37,608.06 2155.45,607.648 2155.53,607.238 2155.62,606.829 \n",
       "  2155.7,606.421 2155.78,606.015 2155.86,605.609 2155.95,605.205 2156.03,604.803 2156.11,604.401 2156.19,604.001 2156.28,603.602 2156.36,603.204 2156.44,602.808 \n",
       "  2156.52,602.412 2156.6,602.018 2156.69,601.626 2156.77,601.234 2156.85,600.844 2156.93,600.454 2157.02,600.066 2157.1,599.68 2157.18,599.294 2157.26,598.91 \n",
       "  2157.35,598.527 2157.43,598.145 2157.51,597.764 2157.59,597.384 2157.68,597.006 2157.76,596.628 2157.84,596.252 2157.92,595.877 2158.01,595.504 2158.09,595.131 \n",
       "  2158.17,594.759 2158.25,594.389 2158.34,594.02 2158.42,593.652 2158.5,593.285 2158.58,592.919 2158.67,592.554 2158.75,592.191 2158.83,591.829 2158.91,591.467 \n",
       "  2159,591.107 2159.08,590.748 2159.16,590.39 2159.24,590.033 2159.33,589.678 2159.41,589.323 2159.49,588.969 2159.57,588.617 2159.66,588.266 2159.74,587.915 \n",
       "  2159.82,587.566 2159.9,587.218 2159.99,586.871 2160.07,586.525 2160.15,586.18 2160.23,585.837 2160.32,585.494 2160.4,585.152 2160.48,584.812 2160.56,584.472 \n",
       "  2160.65,584.134 2160.73,583.796 2160.81,583.46 2160.89,583.125 2160.97,582.791 2161.06,582.457 2161.14,582.125 2161.22,581.794 2161.3,581.464 2161.39,581.135 \n",
       "  2161.47,580.807 2161.55,580.48 2161.63,580.154 2161.72,579.83 2161.8,579.506 2161.88,579.183 2161.96,578.861 2162.05,578.54 2162.13,578.22 2162.21,577.902 \n",
       "  2162.29,577.584 2162.38,577.267 2162.46,576.952 2162.54,576.637 2162.62,576.323 2162.71,576.01 2162.79,575.699 2162.87,575.388 2162.95,575.078 2163.04,574.77 \n",
       "  2163.12,574.462 2163.2,574.155 2163.28,573.85 2163.37,573.545 2163.45,573.241 2163.53,572.938 2163.61,572.637 2163.7,572.336 2163.78,572.036 2163.86,571.737 \n",
       "  2163.94,571.44 2164.03,571.143 2164.11,570.847 2164.19,570.552 2164.27,570.258 2164.36,569.965 2164.44,569.673 2164.52,569.382 2164.6,569.092 2164.69,568.803 \n",
       "  2164.77,568.515 2164.85,568.228 2164.93,567.942 2165.01,567.656 2165.1,567.372 2165.18,567.089 2165.26,566.807 2165.34,566.525 2165.43,566.245 2165.51,565.965 \n",
       "  2165.59,565.687 2165.67,565.409 2165.76,565.133 2165.84,564.857 2165.92,564.582 2166,564.309 2166.09,564.036 2166.17,563.764 2166.25,563.493 2166.33,563.223 \n",
       "  2166.42,562.954 2166.5,562.686 2166.58,562.419 2166.66,562.153 2166.75,561.888 2166.83,561.623 2166.91,561.36 2166.99,561.097 2167.08,560.836 2167.16,560.575 \n",
       "  2167.24,560.316 2167.32,560.057 2167.41,559.8 2167.49,559.543 2167.57,559.287 2167.65,559.032 2167.74,558.778 2167.82,558.525 2167.9,558.273 2167.98,558.022 \n",
       "  2168.07,557.771 2168.15,557.522 2168.23,557.274 2168.31,557.026 2168.4,556.78 2168.48,556.534 2168.56,556.289 2168.64,556.046 2168.73,555.803 2168.81,555.561 \n",
       "  2168.89,555.32 2168.97,555.08 2169.06,554.841 2169.14,554.603 2169.22,554.366 2169.3,554.129 2169.38,553.894 2169.47,553.66 2169.55,553.426 2169.63,553.193 \n",
       "  2169.71,552.962 2169.8,552.731 2169.88,552.501 2169.96,552.272 2170.04,552.044 2170.13,551.817 2170.21,551.591 2170.29,551.366 2170.37,551.142 2170.46,550.919 \n",
       "  2170.54,550.696 2170.62,550.475 2170.7,550.254 2170.79,550.035 2170.87,549.816 2170.95,549.598 2171.03,549.382 2171.12,549.166 2171.2,548.951 2171.28,548.737 \n",
       "  2171.36,548.524 2171.45,548.312 2171.53,548.1 2171.61,547.89 2171.69,547.681 2171.78,547.472 2171.86,547.265 2171.94,547.058 2172.02,546.853 2172.11,546.648 \n",
       "  2172.19,546.444 2172.27,546.241 2172.35,546.04 2172.44,545.839 2172.52,545.639 2172.6,545.44 2172.68,545.241 2172.77,545.044 2172.85,544.848 2172.93,544.653 \n",
       "  2173.01,544.458 2173.1,544.265 2173.18,544.073 2173.26,543.881 2173.34,543.69 2173.42,543.501 2173.51,543.312 2173.59,543.124 2173.67,542.938 2173.75,542.752 \n",
       "  2173.84,542.567 2173.92,542.383 2174,542.2 2174.08,542.018 2174.17,541.837 2174.25,541.657 2174.33,541.478 2174.41,541.299 2174.5,541.122 2174.58,540.946 \n",
       "  2174.66,540.771 2174.74,540.596 2174.83,540.423 2174.91,540.25 2174.99,540.079 2175.07,539.908 2175.16,539.739 2175.24,539.57 2175.32,539.403 2175.4,539.236 \n",
       "  2175.49,539.07 2175.57,538.906 2175.65,538.742 2175.73,538.579 2175.82,538.418 2175.9,538.257 2175.98,538.097 2176.06,537.938 2176.15,537.78 2176.23,537.624 \n",
       "  2176.31,537.468 2176.39,537.313 2176.48,537.159 2176.56,537.006 2176.64,536.854 2176.72,536.704 2176.81,536.554 2176.89,536.405 2176.97,536.257 2177.05,536.11 \n",
       "  2177.14,535.964 2177.22,535.82 2177.3,535.676 2177.38,535.533 2177.47,535.391 2177.55,535.25 2177.63,535.111 2177.71,534.972 2177.79,534.834 2177.88,534.698 \n",
       "  2177.96,534.562 2178.04,534.427 2178.12,534.294 2178.21,534.161 2178.29,534.03 2178.37,533.899 2178.45,533.77 2178.54,533.641 2178.62,533.514 2178.7,533.388 \n",
       "  2178.78,533.262 2178.87,533.138 2178.95,533.015 2179.03,532.893 2179.11,532.772 2179.2,532.652 2179.28,532.533 2179.36,532.415 2179.44,532.298 2179.53,532.183 \n",
       "  2179.61,532.068 2179.69,531.955 2179.77,531.842 2179.86,531.731 2179.94,531.621 2180.02,531.511 2180.1,531.403 2180.19,531.296 2180.27,531.19 2180.35,531.086 \n",
       "  2180.43,530.982 2180.52,530.879 2180.6,530.778 2180.68,530.677 2180.76,530.578 2180.85,530.48 2180.93,530.383 2181.01,530.287 2181.09,530.193 2181.18,530.099 \n",
       "  2181.26,530.006 2181.34,529.915 2181.42,529.825 2181.51,529.736 2181.59,529.648 2181.67,529.561 2181.75,529.476 2181.83,529.392 2181.92,529.308 2182,529.226 \n",
       "  2182.08,529.145 2182.16,529.066 2182.25,528.987 2182.33,528.91 2182.41,528.834 2182.49,528.759 2182.58,528.685 2182.66,528.613 2182.74,528.541 2182.82,528.471 \n",
       "  2182.91,528.402 2182.99,528.335 2183.07,528.268 2183.15,528.203 2183.24,528.139 2183.32,528.076 2183.4,528.015 2183.48,527.955 2183.57,527.896 2183.65,527.838 \n",
       "  2183.73,527.781 2183.81,527.726 2183.9,527.672 2183.98,527.62 2184.06,527.568 2184.14,527.518 2184.23,527.469 2184.31,527.422 2184.39,527.376 2184.47,527.331 \n",
       "  2184.56,527.287 2184.64,527.245 2184.72,527.204 2184.8,527.164 2184.89,527.126 2184.97,527.089 2185.05,527.054 2185.13,527.02 2185.22,526.987 2185.3,526.955 \n",
       "  2185.38,526.925 2185.46,526.896 2185.55,526.869 2185.63,526.843 2185.71,526.818 2185.79,526.795 2185.88,526.774 2185.96,526.753 2186.04,526.734 2186.12,526.717 \n",
       "  2186.2,526.701 2186.29,526.686 2186.37,526.673 2186.45,526.661 2186.53,526.651 2186.62,526.642 2186.7,526.635 2186.78,526.629 2186.86,526.625 2186.95,526.622 \n",
       "  2187.03,526.621 2187.11,526.621 2187.19,526.623 2187.28,526.626 2187.36,526.631 2187.44,526.637 2187.52,526.645 2187.61,526.654 2187.69,526.665 2187.77,526.678 \n",
       "  2187.85,526.692 2187.94,526.708 2188.02,526.725 2188.1,526.744 2188.18,526.765 2188.27,526.787 2188.35,526.811 2188.43,526.836 2188.51,526.864 2188.6,526.892 \n",
       "  2188.68,526.923 2188.76,526.955 2188.84,526.989 2188.93,527.025 2189.01,527.062 2189.09,527.101 2189.17,527.142 2189.26,527.184 2189.34,527.229 2189.42,527.275 \n",
       "  2189.5,527.323 2189.59,527.372 2189.67,527.424 2189.75,527.477 2189.83,527.532 2189.92,527.589 2190,527.648 2190.08,527.708 2190.16,527.771 2190.24,527.835 \n",
       "  2190.33,527.901 2190.41,527.969 2190.49,528.04 2190.57,528.111 2190.66,528.185 2190.74,528.261 2190.82,528.339 2190.9,528.419 2190.99,528.501 2191.07,528.585 \n",
       "  2191.15,528.671 2191.23,528.758 2191.32,528.848 2191.4,528.94 2191.48,529.034 2191.56,529.131 2191.65,529.229 2191.73,529.329 2191.81,529.432 2191.89,529.537 \n",
       "  2191.98,529.643 2192.06,529.753 2192.14,529.864 2192.22,529.977 2192.31,530.093 2192.39,530.211 2192.47,530.331 2192.55,530.454 2192.64,530.579 2192.72,530.706 \n",
       "  2192.8,530.835 2192.88,530.967 2192.97,531.101 2193.05,531.238 2193.13,531.377 2193.21,531.518 2193.3,531.662 2193.38,531.809 2193.46,531.957 2193.54,532.109 \n",
       "  2193.63,532.263 2193.71,532.419 2193.79,532.578 2193.87,532.74 2193.96,532.904 2194.04,533.071 2194.12,533.241 2194.2,533.413 2194.29,533.588 2194.37,533.766 \n",
       "  2194.45,533.946 2194.53,534.129 2194.61,534.315 2194.7,534.504 2194.78,534.696 2194.86,534.89 2194.94,535.088 2195.03,535.288 2195.11,535.492 2195.19,535.698 \n",
       "  2195.27,535.908 2195.36,536.12 2195.44,536.336 2195.52,536.554 2195.6,536.776 2195.69,537.001 2195.77,537.229 2195.85,537.461 2195.93,537.695 2196.02,537.933 \n",
       "  2196.1,538.175 2196.18,538.419 2196.26,538.667 2196.35,538.919 2196.43,539.174 2196.51,539.432 2196.59,539.694 2196.68,539.96 2196.76,540.229 2196.84,540.501 \n",
       "  2196.92,540.778 2197.01,541.058 2197.09,541.342 2197.17,541.63 2197.25,541.922 2197.34,542.217 2197.42,542.517 2197.5,542.82 2197.58,543.128 2197.67,543.439 \n",
       "  2197.75,543.755 2197.83,544.075 2197.91,544.399 2198,544.727 2198.08,545.06 2198.16,545.397 2198.24,545.738 2198.33,546.084 2198.41,546.435 2198.49,546.79 \n",
       "  2198.57,547.149 2198.65,547.514 2198.74,547.883 2198.82,548.257 2198.9,548.636 2198.98,549.02 2199.07,549.409 2199.15,549.803 2199.23,550.202 2199.31,550.606 \n",
       "  2199.4,551.015 2199.48,551.43 2199.56,551.851 2199.64,552.277 2199.73,552.708 2199.81,553.145 2199.89,553.588 2199.97,554.037 2200.06,554.491 2200.14,554.952 \n",
       "  2200.22,555.418 2200.3,555.891 2200.39,556.37 2200.47,556.856 2200.55,557.348 2200.63,557.846 2200.72,558.351 2200.8,558.863 2200.88,559.381 2200.96,559.907 \n",
       "  2201.05,560.44 2201.13,560.98 2201.21,561.527 2201.29,562.081 2201.38,562.643 2201.46,563.213 2201.54,563.791 2201.62,564.376 2201.71,564.97 2201.79,565.572 \n",
       "  2201.87,566.182 2201.95,566.801 2202.04,567.428 2202.12,568.064 2202.2,568.709 2202.28,569.363 2202.37,570.027 2202.45,570.7 2202.53,571.383 2202.61,572.075 \n",
       "  2202.7,572.778 2202.78,573.49 2202.86,574.213 2202.94,574.947 2203.02,575.692 2203.11,576.448 2203.19,577.215 2203.27,577.993 2203.35,578.784 2203.44,579.586 \n",
       "  2203.52,580.401 2203.6,581.228 2203.68,582.068 2203.77,582.921 2203.85,583.788 2203.93,584.668 2204.01,585.562 2204.1,586.471 2204.18,587.395 2204.26,588.333 \n",
       "  2204.34,589.287 2204.43,590.257 2204.51,591.243 2204.59,592.246 2204.67,593.265 2204.76,594.303 2204.84,595.358 2204.92,596.431 2205,597.524 2205.09,598.636 \n",
       "  2205.17,599.768 2205.25,600.921 2205.33,602.094 2205.42,603.29 2205.5,604.508 2205.58,605.749 2205.66,607.014 2205.75,608.304 2205.83,609.619 2205.91,610.96 \n",
       "  2205.99,612.328 2206.08,613.724 2206.16,615.149 2206.24,616.603 2206.32,618.089 2206.41,619.607 2206.49,621.158 2206.57,622.743 2206.65,624.364 2206.74,626.022 \n",
       "  2206.82,627.718 2206.9,629.455 2206.98,631.233 2207.06,633.055 2207.15,634.922 2207.23,636.837 2207.31,638.801 2207.39,640.816 2207.48,642.886 2207.56,645.012 \n",
       "  2207.64,647.198 2207.72,649.446 2207.81,651.76 2207.89,654.143 2207.97,656.6 2208.05,659.133 2208.14,661.748 2208.22,664.449 2208.3,667.242 2208.38,670.132 \n",
       "  2208.47,673.126 2208.55,676.231 2208.63,679.455 2208.71,682.806 2208.8,686.294 2208.88,689.929 2208.96,693.724 2209.04,697.692 2209.13,701.848 2209.21,706.21 \n",
       "  2209.29,710.799 2209.37,715.636 2209.46,720.75 2209.54,726.171 2209.62,731.937 2209.7,738.093 2209.79,744.691 2209.87,751.798 2209.95,759.495 2210.03,767.885 \n",
       "  2210.12,777.099 2210.2,787.312 2210.28,798.757 2210.36,811.766 2210.45,826.819 2210.53,844.665 2210.61,866.552 2210.69,894.817 2210.78,934.691 2210.86,1002.73 \n",
       "  2210.94,1423.18 2211.02,1002.21 2211.11,933.643 2211.19,893.245 2211.27,864.455 2211.35,842.045 2211.43,823.675 2211.52,808.098 2211.6,794.565 2211.68,782.595 \n",
       "  2211.76,771.859 2211.85,762.121 2211.93,753.207 2212.01,744.986 2212.09,737.355 2212.18,730.233 2212.26,723.553 2212.34,717.263 2212.42,711.318 2212.51,705.68 \n",
       "  2212.59,700.318 2212.67,695.206 2212.75,690.32 2212.84,685.639 2212.92,681.147 2213,676.829 2213.08,672.669 2213.17,668.658 2213.25,664.783 2213.33,661.035 \n",
       "  2213.41,657.406 2213.5,653.888 2213.58,650.473 2213.66,647.156 2213.74,643.931 2213.83,640.792 2213.91,637.735 2213.99,634.755 2214.07,631.847 2214.16,629.009 \n",
       "  2214.24,626.237 2214.32,623.527 2214.4,620.877 2214.49,618.283 2214.57,615.743 2214.65,613.255 2214.73,610.817 2214.82,608.426 2214.9,606.08 2214.98,603.777 \n",
       "  2215.06,601.517 2215.15,599.296 2215.23,597.114 2215.31,594.969 2215.39,592.859 2215.48,590.785 2215.56,588.743 2215.64,586.733 2215.72,584.754 2215.8,582.805 \n",
       "  2215.89,580.885 2215.97,578.993 2216.05,577.128 2216.13,575.289 2216.22,573.475 2216.3,571.686 2216.38,569.92 2216.46,568.178 2216.55,566.458 2216.63,564.76 \n",
       "  2216.71,563.084 2216.79,561.427 2216.88,559.791 2216.96,558.174 2217.04,556.576 2217.12,554.997 2217.21,553.436 2217.29,551.892 2217.37,550.365 2217.45,548.855 \n",
       "  2217.54,547.361 2217.62,545.882 2217.7,544.419 2217.78,542.972 2217.87,541.539 2217.95,540.12 2218.03,538.715 2218.11,537.325 2218.2,535.947 2218.28,534.583 \n",
       "  2218.36,533.231 2218.44,531.892 2218.53,530.566 2218.61,529.251 2218.69,527.948 2218.77,526.657 2218.86,525.376 2218.94,524.107 2219.02,522.849 2219.1,521.602 \n",
       "  2219.19,520.365 2219.27,519.138 2219.35,517.921 2219.43,516.714 2219.52,515.516 2219.6,514.328 2219.68,513.15 2219.76,511.98 2219.84,510.82 2219.93,509.668 \n",
       "  2220.01,508.525 2220.09,507.39 2220.17,506.264 2220.26,505.146 2220.34,504.036 2220.42,502.934 2220.5,501.839 2220.59,500.753 2220.67,499.673 2220.75,498.602 \n",
       "  2220.83,497.537 2220.92,496.48 2221,495.43 2221.08,494.387 2221.16,493.35 2221.25,492.321 2221.33,491.297 2221.41,490.281 2221.49,489.271 2221.58,488.267 \n",
       "  2221.66,487.27 2221.74,486.279 2221.82,485.293 2221.91,484.314 2221.99,483.341 2222.07,482.373 2222.15,481.411 2222.24,480.455 2222.32,479.504 2222.4,478.559 \n",
       "  2222.48,477.62 2222.57,476.685 2222.65,475.756 2222.73,474.832 2222.81,473.914 2222.9,473 2222.98,472.091 2223.06,471.188 2223.14,470.289 2223.23,469.395 \n",
       "  2223.31,468.505 2223.39,467.621 2223.47,466.741 2223.56,465.865 2223.64,464.995 2223.72,464.128 2223.8,463.266 2223.89,462.408 2223.97,461.555 2224.05,460.706 \n",
       "  2224.13,459.861 2224.21,459.02 2224.3,458.184 2224.38,457.351 2224.46,456.523 2224.54,455.698 2224.63,454.878 2224.71,454.061 2224.79,453.248 2224.87,452.439 \n",
       "  2224.96,451.634 2225.04,450.832 2225.12,450.034 2225.2,449.24 2225.29,448.449 2225.37,447.662 2225.45,446.878 2225.53,446.098 2225.62,445.321 2225.7,444.548 \n",
       "  2225.78,443.778 2225.86,443.012 2225.95,442.248 2226.03,441.488 2226.11,440.732 2226.19,439.978 2226.28,439.228 2226.36,438.481 2226.44,437.737 2226.52,436.996 \n",
       "  2226.61,436.258 2226.69,435.523 2226.77,434.791 2226.85,434.062 2226.94,433.336 2227.02,432.613 2227.1,431.893 2227.18,431.176 2227.27,430.461 2227.35,429.75 \n",
       "  2227.43,429.041 2227.51,428.335 2227.6,427.631 2227.68,426.931 2227.76,426.233 2227.84,425.538 2227.93,424.845 2228.01,424.155 2228.09,423.468 2228.17,422.783 \n",
       "  2228.25,422.101 2228.34,421.421 2228.42,420.744 2228.5,420.069 2228.58,419.397 2228.67,418.727 2228.75,418.06 2228.83,417.395 2228.91,416.733 2229,416.073 \n",
       "  2229.08,415.415 2229.16,414.76 2229.24,414.106 2229.33,413.456 2229.41,412.807 2229.49,412.161 2229.57,411.517 2229.66,410.875 2229.74,410.236 2229.82,409.598 \n",
       "  2229.9,408.963 2229.99,408.33 2230.07,407.699 2230.15,407.071 2230.23,406.444 2230.32,405.819 2230.4,405.197 2230.48,404.577 2230.56,403.959 2230.65,403.342 \n",
       "  2230.73,402.728 2230.81,402.116 2230.89,401.506 2230.98,400.898 2231.06,400.291 2231.14,399.687 2231.22,399.085 2231.31,398.485 2231.39,397.886 2231.47,397.29 \n",
       "  2231.55,396.695 2231.64,396.102 2231.72,395.511 2231.8,394.922 2231.88,394.335 2231.97,393.75 2232.05,393.166 2232.13,392.585 2232.21,392.005 2232.3,391.427 \n",
       "  2232.38,390.85 2232.46,390.276 2232.54,389.703 2232.62,389.132 2232.71,388.563 2232.79,387.995 2232.87,387.429 2232.95,386.865 2233.04,386.302 2233.12,385.742 \n",
       "  2233.2,385.183 2233.28,384.625 2233.37,384.069 2233.45,383.515 2233.53,382.963 2233.61,382.412 2233.7,381.862 2233.78,381.315 2233.86,380.769 2233.94,380.224 \n",
       "  2234.03,379.681 2234.11,379.14 2234.19,378.6 2234.27,378.062 2234.36,377.525 2234.44,376.99 2234.52,376.457 2234.6,375.925 2234.69,375.394 2234.77,374.865 \n",
       "  2234.85,374.337 2234.93,373.811 2235.02,373.287 2235.1,372.764 2235.18,372.242 2235.26,371.722 2235.35,371.203 2235.43,370.686 2235.51,370.17 2235.59,369.656 \n",
       "  2235.68,369.143 2235.76,368.631 2235.84,368.121 2235.92,367.612 2236.01,367.105 2236.09,366.599 2236.17,366.094 2236.25,365.591 2236.34,365.089 2236.42,364.589 \n",
       "  2236.5,364.089 2236.58,363.592 2236.66,363.095 2236.75,362.6 2236.83,362.106 2236.91,361.614 2236.99,361.123 2237.08,360.633 2237.16,360.145 2237.24,359.658 \n",
       "  2237.32,359.172 2237.41,358.687 2237.49,358.204 2237.57,357.722 2237.65,357.241 2237.74,356.762 2237.82,356.283 2237.9,355.807 2237.98,355.331 2238.07,354.856 \n",
       "  2238.15,354.383 2238.23,353.911 2238.31,353.441 2238.4,352.971 2238.48,352.503 2238.56,352.036 2238.64,351.57 2238.73,351.106 2238.81,350.642 2238.89,350.18 \n",
       "  2238.97,349.719 2239.06,349.259 2239.14,348.801 2239.22,348.343 2239.3,347.887 2239.39,347.432 2239.47,346.978 2239.55,346.525 2239.63,346.074 2239.72,345.623 \n",
       "  2239.8,345.174 2239.88,344.726 2239.96,344.279 2240.05,343.833 2240.13,343.388 2240.21,342.945 2240.29,342.503 2240.38,342.061 2240.46,341.621 2240.54,341.182 \n",
       "  2240.62,340.744 2240.71,340.307 2240.79,339.872 2240.87,339.437 2240.95,339.004 2241.03,338.571 2241.12,338.14 2241.2,337.71 2241.28,337.281 2241.36,336.852 \n",
       "  2241.45,336.426 2241.53,336 2241.61,335.575 2241.69,335.151 2241.78,334.728 2241.86,334.307 2241.94,333.886 2242.02,333.467 2242.11,333.048 2242.19,332.631 \n",
       "  2242.27,332.215 2242.35,331.8 2242.44,331.385 2242.52,330.972 2242.6,330.56 2242.68,330.149 2242.77,329.739 2242.85,329.33 2242.93,328.922 2243.01,328.515 \n",
       "  2243.1,328.109 2243.18,327.704 2243.26,327.3 2243.34,326.897 2243.43,326.495 2243.51,326.094 2243.59,325.694 2243.67,325.296 2243.76,324.898 2243.84,324.501 \n",
       "  2243.92,324.105 2244,323.71 2244.09,323.316 2244.17,322.923 2244.25,322.531 2244.33,322.14 2244.42,321.751 2244.5,321.362 2244.58,320.974 2244.66,320.587 \n",
       "  2244.75,320.201 2244.83,319.816 2244.91,319.431 2244.99,319.048 2245.07,318.666 2245.16,318.285 2245.24,317.905 2245.32,317.526 2245.4,317.147 2245.49,316.77 \n",
       "  2245.57,316.394 2245.65,316.018 2245.73,315.644 2245.82,315.27 2245.9,314.898 2245.98,314.526 2246.06,314.156 2246.15,313.786 2246.23,313.417 2246.31,313.049 \n",
       "  2246.39,312.682 2246.48,312.317 2246.56,311.952 2246.64,311.587 2246.72,311.224 2246.81,310.862 2246.89,310.501 2246.97,310.141 2247.05,309.781 2247.14,309.423 \n",
       "  2247.22,309.065 2247.3,308.708 2247.38,308.353 2247.47,307.998 2247.55,307.644 2247.63,307.291 2247.71,306.939 2247.8,306.588 2247.88,306.238 2247.96,305.889 \n",
       "  2248.04,305.54 2248.13,305.193 2248.21,304.846 2248.29,304.501 2248.37,304.156 2248.46,303.812 2248.54,303.469 2248.62,303.127 2248.7,302.786 2248.79,302.446 \n",
       "  2248.87,302.107 2248.95,301.768 2249.03,301.431 2249.12,301.094 2249.2,300.759 2249.28,300.424 2249.36,300.09 2249.44,299.757 2249.53,299.425 2249.61,299.094 \n",
       "  2249.69,298.764 2249.77,298.434 2249.86,298.106 2249.94,297.778 2250.02,297.451 2250.1,297.126 2250.19,296.801 2250.27,296.477 2250.35,296.154 2250.43,295.831 \n",
       "  2250.52,295.51 2250.6,295.19 2250.68,294.87 2250.76,294.551 2250.85,294.234 2250.93,293.917 2251.01,293.601 2251.09,293.286 2251.18,292.971 2251.26,292.658 \n",
       "  2251.34,292.346 2251.42,292.034 2251.51,291.723 2251.59,291.413 2251.67,291.105 2251.75,290.796 2251.84,290.489 2251.92,290.183 2252,289.878 2252.08,289.573 \n",
       "  2252.17,289.27 2252.25,288.967 2252.33,288.665 2252.41,288.364 2252.5,288.064 2252.58,287.765 2252.66,287.467 2252.74,287.169 2252.83,286.873 2252.91,286.577 \n",
       "  2252.99,286.282 2253.07,285.988 2253.16,285.695 2253.24,285.403 2253.32,285.112 2253.4,284.822 2253.48,284.532 2253.57,284.244 2253.65,283.956 2253.73,283.669 \n",
       "  2253.81,283.383 2253.9,283.098 2253.98,282.814 2254.06,282.531 2254.14,282.249 2254.23,281.967 2254.31,281.686 2254.39,281.407 2254.47,281.128 2254.56,280.85 \n",
       "  2254.64,280.573 2254.72,280.297 2254.8,280.022 2254.89,279.747 2254.97,279.474 2255.05,279.201 2255.13,278.93 2255.22,278.659 2255.3,278.389 2255.38,278.12 \n",
       "  2255.46,277.852 2255.55,277.585 2255.63,277.318 2255.71,277.053 2255.79,276.789 2255.88,276.525 2255.96,276.262 2256.04,276 2256.12,275.74 2256.21,275.48 \n",
       "  2256.29,275.22 2256.37,274.962 2256.45,274.705 2256.54,274.449 2256.62,274.193 2256.7,273.939 2256.78,273.685 2256.87,273.432 2256.95,273.18 2257.03,272.93 \n",
       "  2257.11,272.68 2257.2,272.43 2257.28,272.182 2257.36,271.935 2257.44,271.689 2257.53,271.443 2257.61,271.199 2257.69,270.955 2257.77,270.713 2257.85,270.471 \n",
       "  2257.94,270.23 2258.02,269.99 2258.1,269.751 2258.18,269.513 2258.27,269.276 2258.35,269.04 2258.43,268.805 2258.51,268.571 2258.6,268.337 2258.68,268.105 \n",
       "  2258.76,267.874 2258.84,267.643 2258.93,267.414 2259.01,267.185 2259.09,266.957 2259.17,266.731 2259.26,266.505 2259.34,266.28 2259.42,266.056 2259.5,265.833 \n",
       "  2259.59,265.611 2259.67,265.39 2259.75,265.17 2259.83,264.951 2259.92,264.733 2260,264.516 2260.08,264.3 2260.16,264.085 2260.25,263.87 2260.33,263.657 \n",
       "  2260.41,263.445 2260.49,263.234 2260.58,263.023 2260.66,262.814 2260.74,262.606 2260.82,262.398 2260.91,262.192 2260.99,261.987 2261.07,261.782 2261.15,261.579 \n",
       "  2261.24,261.376 2261.32,261.175 2261.4,260.975 2261.48,260.775 2261.57,260.577 2261.65,260.38 2261.73,260.183 2261.81,259.988 2261.89,259.794 2261.98,259.6 \n",
       "  2262.06,259.408 2262.14,259.217 2262.22,259.027 2262.31,258.838 2262.39,258.65 2262.47,258.463 2262.55,258.276 2262.64,258.091 2262.72,257.908 2262.8,257.725 \n",
       "  2262.88,257.543 2262.97,257.362 2263.05,257.182 2263.13,257.004 2263.21,256.826 2263.3,256.65 2263.38,256.474 2263.46,256.3 2263.54,256.126 2263.63,255.954 \n",
       "  2263.71,255.783 2263.79,255.613 2263.87,255.444 2263.96,255.276 2264.04,255.11 2264.12,254.944 2264.2,254.779 2264.29,254.616 2264.37,254.454 2264.45,254.292 \n",
       "  2264.53,254.132 2264.62,253.973 2264.7,253.816 2264.78,253.659 2264.86,253.503 2264.95,253.349 2265.03,253.196 2265.11,253.044 2265.19,252.893 2265.28,252.743 \n",
       "  2265.36,252.594 2265.44,252.447 2265.52,252.3 2265.61,252.155 2265.69,252.011 2265.77,251.869 2265.85,251.727 2265.94,251.587 2266.02,251.448 2266.1,251.31 \n",
       "  2266.18,251.173 2266.26,251.037 2266.35,250.903 2266.43,250.77 2266.51,250.638 2266.59,250.507 2266.68,250.378 2266.76,250.25 2266.84,250.123 2266.92,249.997 \n",
       "  2267.01,249.873 2267.09,249.749 2267.17,249.628 2267.25,249.507 2267.34,249.388 2267.42,249.269 2267.5,249.153 2267.58,249.037 2267.67,248.923 2267.75,248.81 \n",
       "  2267.83,248.699 2267.91,248.588 2268,248.48 2268.08,248.372 2268.16,248.266 2268.24,248.161 2268.33,248.057 2268.41,247.955 2268.49,247.854 2268.57,247.755 \n",
       "  2268.66,247.657 2268.74,247.56 2268.82,247.465 2268.9,247.371 2268.99,247.279 2269.07,247.187 2269.15,247.098 2269.23,247.01 2269.32,246.923 2269.4,246.837 \n",
       "  2269.48,246.754 2269.56,246.671 2269.65,246.59 2269.73,246.511 2269.81,246.432 2269.89,246.356 2269.98,246.281 2270.06,246.207 2270.14,246.135 2270.22,246.065 \n",
       "  2270.3,245.996 2270.39,245.928 2270.47,245.862 2270.55,245.798 2270.63,245.735 2270.72,245.674 2270.8,245.614 2270.88,245.556 2270.96,245.5 2271.05,245.445 \n",
       "  2271.13,245.391 2271.21,245.34 2271.29,245.29 2271.38,245.242 2271.46,245.195 2271.54,245.15 2271.62,245.106 2271.71,245.065 2271.79,245.025 2271.87,244.986 \n",
       "  2271.95,244.95 2272.04,244.915 2272.12,244.882 2272.2,244.851 2272.28,244.821 2272.37,244.793 2272.45,244.767 2272.53,244.743 2272.61,244.72 2272.7,244.7 \n",
       "  2272.78,244.681 2272.86,244.664 2272.94,244.649 2273.03,244.636 2273.11,244.624 2273.19,244.615 2273.27,244.607 2273.36,244.602 2273.44,244.598 2273.52,244.596 \n",
       "  2273.6,244.597 2273.69,244.599 2273.77,244.603 2273.85,244.609 2273.93,244.617 2274.02,244.627 2274.1,244.64 2274.18,244.654 2274.26,244.67 2274.35,244.689 \n",
       "  2274.43,244.709 2274.51,244.732 2274.59,244.757 2274.67,244.784 2274.76,244.813 2274.84,244.844 2274.92,244.878 2275,244.914 2275.09,244.952 2275.17,244.992 \n",
       "  2275.25,245.034 2275.33,245.079 2275.42,245.126 2275.5,245.176 2275.58,245.227 2275.66,245.282 2275.75,245.338 2275.83,245.397 2275.91,245.459 2275.99,245.522 \n",
       "  2276.08,245.589 2276.16,245.657 2276.24,245.729 2276.32,245.802 2276.41,245.879 2276.49,245.958 2276.57,246.039 2276.65,246.123 2276.74,246.21 2276.82,246.3 \n",
       "  2276.9,246.392 2276.98,246.487 2277.07,246.584 2277.15,246.685 2277.23,246.788 2277.31,246.894 2277.4,247.003 2277.48,247.114 2277.56,247.229 2277.64,247.346 \n",
       "  2277.73,247.467 2277.81,247.59 2277.89,247.717 2277.97,247.846 2278.06,247.979 2278.14,248.114 2278.22,248.253 2278.3,248.395 2278.39,248.54 2278.47,248.688 \n",
       "  2278.55,248.84 2278.63,248.995 2278.71,249.153 2278.8,249.315 2278.88,249.479 2278.96,249.648 2279.04,249.82 2279.13,249.995 2279.21,250.174 2279.29,250.356 \n",
       "  2279.37,250.542 2279.46,250.732 2279.54,250.926 2279.62,251.123 2279.7,251.324 2279.79,251.529 2279.87,251.737 2279.95,251.95 2280.03,252.166 2280.12,252.387 \n",
       "  2280.2,252.611 2280.28,252.84 2280.36,253.073 2280.45,253.31 2280.53,253.551 2280.61,253.797 2280.69,254.047 2280.78,254.301 2280.86,254.56 2280.94,254.823 \n",
       "  2281.02,255.091 2281.11,255.363 2281.19,255.64 2281.27,255.922 2281.35,256.209 2281.44,256.501 2281.52,256.797 2281.6,257.099 2281.68,257.405 2281.77,257.717 \n",
       "  2281.85,258.034 2281.93,258.356 2282.01,258.684 2282.1,259.017 2282.18,259.356 2282.26,259.7 2282.34,260.05 2282.43,260.405 2282.51,260.766 2282.59,261.134 \n",
       "  2282.67,261.507 2282.76,261.886 2282.84,262.272 2282.92,262.664 2283,263.062 2283.08,263.467 2283.17,263.878 2283.25,264.296 2283.33,264.72 2283.41,265.152 \n",
       "  2283.5,265.59 2283.58,266.036 2283.66,266.489 2283.74,266.949 2283.83,267.417 2283.91,267.892 2283.99,268.375 2284.07,268.866 2284.16,269.365 2284.24,269.872 \n",
       "  2284.32,270.387 2284.4,270.911 2284.49,271.443 2284.57,271.984 2284.65,272.534 2284.73,273.093 2284.82,273.661 2284.9,274.239 2284.98,274.826 2285.06,275.423 \n",
       "  2285.15,276.03 2285.23,276.647 2285.31,277.274 2285.39,277.912 2285.48,278.56 2285.56,279.22 2285.64,279.891 2285.72,280.573 2285.81,281.267 2285.89,281.973 \n",
       "  2285.97,282.691 2286.05,283.422 2286.14,284.166 2286.22,284.922 2286.3,285.692 2286.38,286.475 2286.47,287.273 2286.55,288.084 2286.63,288.911 2286.71,289.752 \n",
       "  2286.8,290.609 2286.88,291.481 2286.96,292.37 2287.04,293.275 2287.12,294.197 2287.21,295.137 2287.29,296.094 2287.37,297.07 2287.45,298.065 2287.54,299.079 \n",
       "  2287.62,300.113 2287.7,301.167 2287.78,302.243 2287.87,303.34 2287.95,304.46 2288.03,305.602 2288.11,306.769 2288.2,307.96 2288.28,309.176 2288.36,310.418 \n",
       "  2288.44,311.688 2288.53,312.985 2288.61,314.311 2288.69,315.666 2288.77,317.053 2288.86,318.471 2288.94,319.923 2289.02,321.409 2289.1,322.93 2289.19,324.489 \n",
       "  2289.27,326.086 2289.35,327.723 2289.43,329.401 2289.52,331.124 2289.6,332.891 2289.68,334.705 2289.76,336.569 2289.85,338.485 2289.93,340.455 2290.01,342.481 \n",
       "  2290.09,344.567 2290.18,346.715 2290.26,348.928 2290.34,351.211 2290.42,353.567 2290.51,356 2290.59,358.515 2290.67,361.115 2290.75,363.808 2290.84,366.598 \n",
       "  2290.92,369.492 2291,372.496 2291.08,375.619 2291.17,378.87 2291.25,382.257 2291.33,385.793 2291.41,389.487 2291.49,393.355 2291.58,397.412 2291.66,401.674 \n",
       "  2291.74,406.163 2291.82,410.901 2291.91,415.916 2291.99,421.239 2292.07,426.907 2292.15,432.965 2292.24,439.466 2292.32,446.478 2292.4,454.08 2292.48,462.377 \n",
       "  2292.57,471.5 2292.65,481.624 2292.73,492.985 2292.81,505.915 2292.9,520.898 2292.98,538.686 2293.06,560.538 2293.14,588.817 2293.23,628.82 2293.31,697.452 \n",
       "  2293.39,1423.18 \n",
       "  \"/>\n",
       "</svg>\n"
      ]
     },
     "execution_count": 8,
     "metadata": {},
     "output_type": "execute_result"
    }
   ],
   "source": [
    "n = 24\n",
    "\n",
    "x = EquidistantKnots(0, 1, n)\n",
    "λ = Lagrange(x).λ\n",
    "\n",
    "Λ(ξ) = abs(prod(ξ .- x))*sum(abs.(λ./abs.(ξ .- x)))\n",
    "\n",
    "xx = 0.0:0.001/n:1.0\n",
    "yy = Λ.(xx)\n",
    "ind = isnan.(yy); yy[ind] .= 1.0\n",
    "\n",
    "plot(xx, yy, yaxis = :log, linewidth = 2, legend = false, ylims = (1e-0, 1e6), \n",
    "    xticks = 0:0.1:1, xlabel = L\"$x$\", ylabel = L\"$\\Lambda(x) := \\sum_j\\; |\\!L_j(x)\\,|$\")"
   ]
  },
  {
   "cell_type": "code",
   "execution_count": null,
   "metadata": {},
   "outputs": [],
   "source": []
  }
 ],
 "metadata": {
  "@webio": {
   "lastCommId": "5f8f6453559d44a9b9afdfec899c64fa",
   "lastKernelId": "0b9f4c21-30f4-4e5c-a287-dbb1369d0740"
  },
  "kernelspec": {
   "display_name": "Julia 1.6.5",
   "language": "julia",
   "name": "julia-1.6"
  },
  "language_info": {
   "file_extension": ".jl",
   "mimetype": "application/julia",
   "name": "julia",
   "version": "1.6.5"
  },
  "nav_menu": {},
  "toc": {
   "base_numbering": 1,
   "nav_menu": {},
   "number_sections": false,
   "sideBar": true,
   "skip_h1_title": false,
   "title_cell": "Table of Contents",
   "title_sidebar": "Contents",
   "toc_cell": false,
   "toc_position": {},
   "toc_section_display": "block",
   "toc_window_display": false
  },
  "widgets": {
   "state": {
    "10099f42-8815-442c-b922-2f5b483f3a43": {
     "views": [
      {
       "cell_index": 5
      }
     ]
    },
    "125bf700-461a-4057-9d01-e9c7cbcb565c": {
     "views": [
      {
       "cell_index": 7
      }
     ]
    },
    "4faa4adb-1b1a-4b43-98bb-2260cf1ceaa4": {
     "views": [
      {
       "cell_index": 9
      }
     ]
    },
    "cbc278bd-ea72-4eaf-9773-258407ddfe1e": {
     "views": [
      {
       "cell_index": 5
      }
     ]
    },
    "d1b574a6-aee6-49a5-a040-297fcafaa04c": {
     "views": [
      {
       "cell_index": 5
      }
     ]
    },
    "d7103d50-b4e5-4ee9-aa8e-9c9e2090b063": {
     "views": [
      {
       "cell_index": 7
      }
     ]
    }
   },
   "version": "1.2.0"
  }
 },
 "nbformat": 4,
 "nbformat_minor": 2
}
