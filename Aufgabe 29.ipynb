{
 "cells": [
  {
   "cell_type": "markdown",
   "id": "psychological-blast",
   "metadata": {},
   "source": [
    "# Aufgabe 29: Lösungsvorschlag"
   ]
  },
  {
   "cell_type": "code",
   "execution_count": 1,
   "id": "cardiovascular-transmission",
   "metadata": {
    "ExecuteTime": {
     "end_time": "2021-12-10T10:13:18.032000+01:00",
     "start_time": "2021-12-10T09:13:17.324Z"
    }
   },
   "outputs": [],
   "source": [
    "using LinearAlgebra\n",
    "using Random"
   ]
  },
  {
   "cell_type": "markdown",
   "id": "protecting-species",
   "metadata": {},
   "source": [
    "Unveränderter generische Bisekionsalgorithmus aus der Vorlesung:"
   ]
  },
  {
   "cell_type": "code",
   "execution_count": 2,
   "id": "handed-bottle",
   "metadata": {
    "ExecuteTime": {
     "end_time": "2021-12-10T10:13:18.090000+01:00",
     "start_time": "2021-12-10T09:13:17.326Z"
    }
   },
   "outputs": [],
   "source": [
    "struct Interval # Datenstruktur für Intervall [a,b] mit zusätzlichen Daten\n",
    "    a::Number\n",
    "    b::Number\n",
    "    s₀::Number # Speicher für s(a): verhindert unnötige Neuauswertungen\n",
    "    s₁::Number # Speicher für s(b)\n",
    "end\n",
    "\n",
    "Base.show(io::IO, ival::Interval) = Base.show(io, showival(ival)) # `showival` muss spezifiziert werden\n",
    "\n",
    "Interval(a, b, s::Function) = Interval(a, b, s(a), s(b)) # initialisiere Intervall [a,b] mit Daten s(a), s(b)\n",
    "length(ival::Interval) = ival.b - ival.a                 # Länge \n",
    "midpnt(ival::Interval) = (ival.a + ival.b)/2             # Mittelpunkt \n",
    "tokeep(ival::Interval) = ival.s₁ != ival.s₀              # behalte, solange s(a)≠s(b) \n",
    "\n",
    "function split(ival::Interval, s::Function)              # zerlege Intervall beim Mittelpunkt\n",
    "    m = midpnt(ival)\n",
    "    sₘ = s(m)\n",
    "    return [Interval(ival.a, m, ival.s₀, sₘ), Interval(m, ival.b, sₘ, ival.s₁)] \n",
    "end\n",
    "\n",
    "function bisect(s::Function, a, b, tol)  \n",
    "    tol = max(tol, eps(float(maximum(abs.([a,b]))))) # tol ≥ Auflösung von IEEE754 in [a,b]\n",
    "    list = [ Interval(a, b, s) ]                     # initialisiere Liste der Intervalle \n",
    "    while (todo = list[length.(list) .> tol]) != []  # gibt es noch zu bearbeitende Intervalle?\n",
    "        for ival in todo                             # für all diese:\n",
    "            setdiff!(list,[ival])                    #    entferne das Intervall aus der Liste\n",
    "            parts = split(ival, s)                   #    unterteile das Intervall\n",
    "            push!(list, parts[tokeep.(parts)]...)    #    füge die erfolgreichen Teile hinzu\n",
    "        end\n",
    "    end\n",
    "    return list\n",
    "end;"
   ]
  },
  {
   "cell_type": "code",
   "execution_count": 3,
   "id": "disciplinary-listing",
   "metadata": {
    "ExecuteTime": {
     "end_time": "2021-12-10T10:13:23.399000+01:00",
     "start_time": "2021-12-10T09:13:17.328Z"
    }
   },
   "outputs": [],
   "source": [
    "Random.seed!(0815)\n",
    "m = 5000; A = Symmetric(randn(m,m));\n",
    "T = hessenberg(A).H;"
   ]
  },
  {
   "cell_type": "code",
   "execution_count": 4,
   "id": "wired-brunswick",
   "metadata": {
    "ExecuteTime": {
     "end_time": "2021-12-10T10:13:23.401000+01:00",
     "start_time": "2021-12-10T09:13:17.329Z"
    }
   },
   "outputs": [],
   "source": [
    "negnum(T::SymTridiagonal, μ) = sum(ldlt(T, shift=-μ).d .< 0)    # Anzahl EW < μ\n",
    "\n",
    "# Suchfunktion: wechselt Boole'schen Wert genau bei λₙ\n",
    "n = 100\n",
    "suchfunc(μ) = negnum(T, μ) < n ? 1 : 0;"
   ]
  },
  {
   "cell_type": "code",
   "execution_count": 5,
   "id": "yellow-slovakia",
   "metadata": {
    "ExecuteTime": {
     "end_time": "2021-12-10T10:13:23.403000+01:00",
     "start_time": "2021-12-10T09:13:17.330Z"
    }
   },
   "outputs": [],
   "source": [
    "# Festlegung der Ausgabe\n",
    "showival(ival::Interval) = [ival.a, ival.b]; # zeige nur das Interval"
   ]
  },
  {
   "cell_type": "code",
   "execution_count": 6,
   "id": "physical-fellow",
   "metadata": {
    "ExecuteTime": {
     "end_time": "2021-12-10T10:13:23.405000+01:00",
     "start_time": "2021-12-10T09:13:17.331Z"
    }
   },
   "outputs": [],
   "source": [
    "function eiginterval(A:: Union{Symmetric,SymTridiagonal}) # aus Gerschgorin, Aufgabe 28\n",
    "    m, = size(A)\n",
    "    r = abs.(A - Diagonal(A))*ones(m)\n",
    "    return [minimum(diag(A)-r), maximum(diag(A)+r)]\n",
    "end;"
   ]
  },
  {
   "cell_type": "code",
   "execution_count": 7,
   "id": "major-participant",
   "metadata": {
    "ExecuteTime": {
     "end_time": "2021-12-10T10:13:25.985000+01:00",
     "start_time": "2021-12-10T09:13:17.332Z"
    }
   },
   "outputs": [
    {
     "data": {
      "text/plain": [
       "1-element Vector{Interval}:\n",
       " [-126.70723085995971, -126.70723085995968]"
      ]
     },
     "execution_count": 7,
     "metadata": {},
     "output_type": "execute_result"
    }
   ],
   "source": [
    "a, b = eiginterval(T)\n",
    "bisect(suchfunc, a, b, opnorm(T, Inf)*eps())"
   ]
  },
  {
   "cell_type": "code",
   "execution_count": 8,
   "id": "covered-egyptian",
   "metadata": {
    "ExecuteTime": {
     "end_time": "2021-12-10T10:13:26.588000+01:00",
     "start_time": "2021-12-10T09:13:17.333Z"
    }
   },
   "outputs": [
    {
     "data": {
      "text/plain": [
       "-126.70723085995928"
      ]
     },
     "execution_count": 8,
     "metadata": {},
     "output_type": "execute_result"
    }
   ],
   "source": [
    "λ = sort(eigvals(T)); λ[100] # Kontrolle... "
   ]
  },
  {
   "cell_type": "code",
   "execution_count": null,
   "id": "voluntary-sight",
   "metadata": {},
   "outputs": [],
   "source": []
  }
 ],
 "metadata": {
  "@webio": {
   "lastCommId": null,
   "lastKernelId": null
  },
  "kernelspec": {
   "display_name": "Julia 1.6.4",
   "language": "julia",
   "name": "julia-1.6"
  },
  "language_info": {
   "file_extension": ".jl",
   "mimetype": "application/julia",
   "name": "julia",
   "version": "1.6.4"
  },
  "toc": {
   "base_numbering": 1,
   "nav_menu": {},
   "number_sections": false,
   "sideBar": true,
   "skip_h1_title": false,
   "title_cell": "Table of Contents",
   "title_sidebar": "Contents",
   "toc_cell": false,
   "toc_position": {},
   "toc_section_display": true,
   "toc_window_display": false
  }
 },
 "nbformat": 4,
 "nbformat_minor": 5
}
