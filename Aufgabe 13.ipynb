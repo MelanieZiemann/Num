{
 "cells": [
  {
   "cell_type": "markdown",
   "id": "isolated-villa",
   "metadata": {},
   "source": [
    "# Aufgabe 13\n",
    "\n",
    "Vergleich der beiden Implementierungen\n",
    "$$\n",
    "f_1(x) := \\sqrt{x+1}-\\sqrt{x} \\quad\\hbox{und}\\quad\n",
    "f_2(x) := \\frac{1}{\\sqrt{x+1} + \\sqrt{x}}\n",
    "$$\n",
    "für $x=2^j$ (für verschiedene $j$)."
   ]
  },
  {
   "cell_type": "code",
   "execution_count": 1,
   "id": "least-hearts",
   "metadata": {
    "ExecuteTime": {
     "end_time": "2021-11-13T15:13:29.770000+01:00",
     "start_time": "2021-11-13T14:13:29.007Z"
    }
   },
   "outputs": [],
   "source": [
    "using Printf"
   ]
  },
  {
   "cell_type": "code",
   "execution_count": 2,
   "id": "ethical-serve",
   "metadata": {
    "ExecuteTime": {
     "end_time": "2021-11-13T15:13:29.833000+01:00",
     "start_time": "2021-11-13T14:13:29.009Z"
    }
   },
   "outputs": [],
   "source": [
    "f1(x) = sqrt(x+1) - sqrt(x)\n",
    "f2(x) = 1/(sqrt(x+1) + sqrt(x));"
   ]
  },
  {
   "cell_type": "markdown",
   "id": "inner-owner",
   "metadata": {},
   "source": [
    "## Instabilitätsnachweis\n",
    "\n",
    "Auswertung von $f_1$ für große $x$ und Vergleich mit $f_2$."
   ]
  },
  {
   "cell_type": "code",
   "execution_count": 3,
   "id": "prescribed-trigger",
   "metadata": {
    "ExecuteTime": {
     "end_time": "2021-11-13T15:13:30.478000+01:00",
     "start_time": "2021-11-13T14:13:29.011Z"
    }
   },
   "outputs": [
    {
     "name": "stdout",
     "output_type": "stream",
     "text": [
      "  48  2.9802322387695312e-08  2.9802322387695286e-08\n",
      "  49  1.8626451492309570e-08  2.1073424255447004e-08\n",
      "  50  1.4901161193847656e-08  1.4901161193847653e-08\n",
      "  51  7.4505805969238281e-09  1.0536712127723505e-08\n",
      "  52  0.0000000000000000e+00  7.4505805969238281e-09\n",
      "  53  0.0000000000000000e+00  5.2683560638617535e-09\n"
     ]
    }
   ],
   "source": [
    "j_range = 48:53\n",
    "for j in j_range\n",
    "    x = 2^j\n",
    "    @printf(\"  %2d  %1.16e  %1.16e\\n\", j, f1(x), f2(x)) \n",
    "end"
   ]
  },
  {
   "cell_type": "markdown",
   "id": "republican-brighton",
   "metadata": {},
   "source": [
    "## Beispiel aus (a) mit beiden Implementierungen"
   ]
  },
  {
   "cell_type": "code",
   "execution_count": 4,
   "id": "floral-underground",
   "metadata": {
    "ExecuteTime": {
     "end_time": "2021-11-13T15:13:31.326000+01:00",
     "start_time": "2021-11-13T14:13:29.013Z"
    }
   },
   "outputs": [
    {
     "data": {
      "text/plain": [
       "12345.678f0"
      ]
     },
     "execution_count": 4,
     "metadata": {},
     "output_type": "execute_result"
    }
   ],
   "source": [
    "x = 12345.678f0"
   ]
  },
  {
   "cell_type": "code",
   "execution_count": 5,
   "id": "guilty-solution",
   "metadata": {
    "ExecuteTime": {
     "end_time": "2021-11-13T15:13:31.338000+01:00",
     "start_time": "2021-11-13T14:13:29.014Z"
    }
   },
   "outputs": [
    {
     "data": {
      "text/plain": [
       "0.004501343f0"
      ]
     },
     "execution_count": 5,
     "metadata": {},
     "output_type": "execute_result"
    }
   ],
   "source": [
    "sqrt(x+1)-sqrt(x)"
   ]
  },
  {
   "cell_type": "code",
   "execution_count": 6,
   "id": "demonstrated-bahamas",
   "metadata": {
    "ExecuteTime": {
     "end_time": "2021-11-13T15:13:31.344000+01:00",
     "start_time": "2021-11-13T14:13:29.016Z"
    }
   },
   "outputs": [
    {
     "data": {
      "text/plain": [
       "0.004499909f0"
      ]
     },
     "execution_count": 6,
     "metadata": {},
     "output_type": "execute_result"
    }
   ],
   "source": [
    "1/(sqrt(x+1) + sqrt(x))"
   ]
  },
  {
   "cell_type": "code",
   "execution_count": 7,
   "id": "noble-representation",
   "metadata": {
    "ExecuteTime": {
     "end_time": "2021-11-13T15:13:31.585000+01:00",
     "start_time": "2021-11-13T14:13:29.018Z"
    }
   },
   "outputs": [
    {
     "data": {
      "text/plain": [
       "0.004499909111586401"
      ]
     },
     "execution_count": 7,
     "metadata": {},
     "output_type": "execute_result"
    }
   ],
   "source": [
    "xdouble=Float64(x)\n",
    "1/(sqrt(xdouble+1) + sqrt(xdouble))"
   ]
  },
  {
   "cell_type": "code",
   "execution_count": null,
   "id": "least-convergence",
   "metadata": {},
   "outputs": [],
   "source": []
  }
 ],
 "metadata": {
  "@webio": {
   "lastCommId": null,
   "lastKernelId": null
  },
  "kernelspec": {
   "display_name": "Julia 1.6.3",
   "language": "julia",
   "name": "julia-1.6"
  },
  "language_info": {
   "file_extension": ".jl",
   "mimetype": "application/julia",
   "name": "julia",
   "version": "1.6.3"
  },
  "toc": {
   "base_numbering": 1,
   "nav_menu": {},
   "number_sections": true,
   "sideBar": true,
   "skip_h1_title": false,
   "title_cell": "Table of Contents",
   "title_sidebar": "Contents",
   "toc_cell": false,
   "toc_position": {},
   "toc_section_display": true,
   "toc_window_display": false
  }
 },
 "nbformat": 4,
 "nbformat_minor": 5
}
