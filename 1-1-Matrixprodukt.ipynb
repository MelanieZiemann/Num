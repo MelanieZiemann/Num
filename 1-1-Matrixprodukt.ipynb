{
 "cells": [
  {
   "cell_type": "markdown",
   "metadata": {
    "ExecuteTime": {
     "end_time": "2016-10-16T14:21:45.463455",
     "start_time": "2016-10-16T12:21:45.460Z"
    }
   },
   "source": [
    "# Vorlesung 1-1 (Montag 18.10.21)\n",
    "\n",
    "## (1.7) Beispiel: sechs Varianten des Matrixprodukts $C = AB$\n",
    "\n",
    "### Cheat-Sheet: Grundoperationen des Matrizenkalküls in Julia\n",
    "\n",
    "\n",
    "| Bedeutung              | Formel                          | Julia                                           |\n",
    "| :--------------------: | :-----------------------------: | :---------------------------------------------: |\n",
    "| Komponente von $x$     | $\\xi_k$                         | `x[k]`                                          |\n",
    "| Komponente von $A$     | $\\alpha_{jk}$                   | `A[j,k]`                                        |\n",
    "| Spaltenvektor von $A$  | $a^k$                           | `A[:,k]`                                        |\n",
    "| Zeilenvektor von $A$   | $a_j'$                          | `conj(A[j,:]')`, äquivalent `transpose(A[j,:])` |\n",
    "| Untermatrix von $A$    | $$(\\alpha_{jk})_{j=m:p,k=n:l}$$ | `A[m:p,n:l]`                                    |\n",
    "| Adjungierte von $A$    | $A'$                            | `A'`                                            |\n",
    "| Matrixprodukt          | $AB$                            | `A*B`                                           |\n",
    "| Identität              | $I \\in {\\mathbb K}^{m\\times m}$ | `Matrix{K}(I,m,m)`                              |\n",
    "| Nullmatrix             | $0 \\in {\\mathbb K}^{m\\times n}$ | `zeros(K,m,n)`                                  |\n",
    "\n",
    "hierbei ist `K = typeof(α)` der für Skalare `α` verwendete Datentyp als Proxy für den  Grundkörper ${\\mathbb K}$.\n",
    "\n",
    "### Vorbereitungen"
   ]
  },
  {
   "cell_type": "code",
   "execution_count": 1,
   "metadata": {
    "ExecuteTime": {
     "end_time": "2021-10-04T16:22:47.565000+02:00",
     "start_time": "2021-10-04T14:22:46.718Z"
    }
   },
   "outputs": [],
   "source": [
    "using LinearAlgebra\n",
    "\n",
    "# die Testmatrizen\n",
    "\n",
    "m = 2000\n",
    "A = randn(m,m)\n",
    "B = randn(m,m)\n",
    "\n",
    "# lade die Benchmark-Umgebung\n",
    "# import Pkg; Pkg.add(\"BenchmarkTools\") # ohne Kommentarzeichen beim ersten Lauf \n",
    "\n",
    "using BenchmarkTools"
   ]
  },
  {
   "cell_type": "markdown",
   "metadata": {
    "ExecuteTime": {
     "end_time": "2016-10-16T12:49:34.353184",
     "start_time": "2016-10-16T10:49:33.720Z"
    }
   },
   "source": [
    "### Variante 1: spaltenweise\n",
    "$$\n",
    "A,\\qquad B = \n",
    "\\begin{pmatrix}\n",
    "| &  & | \\\\\n",
    "b^1 &  \\!\\!\\!\\cdots\\!\\!\\! & b^p \\\\\n",
    "| &  & | \n",
    "\\end{pmatrix},\\qquad\n",
    "C = \\begin{pmatrix}\n",
    "| &  & | \\\\\n",
    "Ab^1 &  \\!\\!\\!\\cdots\\!\\!\\! & Ab^p \\\\\n",
    "| &  & | \n",
    "\\end{pmatrix}\n",
    "$$"
   ]
  },
  {
   "cell_type": "code",
   "execution_count": 2,
   "metadata": {
    "ExecuteTime": {
     "end_time": "2021-10-04T16:23:08.245000+02:00",
     "start_time": "2021-10-04T14:22:46.722Z"
    },
    "run_control": {
     "marked": false
    }
   },
   "outputs": [
    {
     "data": {
      "text/plain": [
       "BenchmarkTools.Trial: 4 samples with 1 evaluation.\n",
       " Range \u001b[90m(\u001b[39m\u001b[36m\u001b[1mmin\u001b[22m\u001b[39m … \u001b[35mmax\u001b[39m\u001b[90m):  \u001b[39m\u001b[36m\u001b[1m1.457 s\u001b[22m\u001b[39m … \u001b[35m 1.473 s\u001b[39m  \u001b[90m┊\u001b[39m GC \u001b[90m(\u001b[39mmin … max\u001b[90m): \u001b[39m0.27% … 0.11%\n",
       " Time  \u001b[90m(\u001b[39m\u001b[34m\u001b[1mmedian\u001b[22m\u001b[39m\u001b[90m):     \u001b[39m\u001b[34m\u001b[1m1.468 s             \u001b[22m\u001b[39m\u001b[90m┊\u001b[39m GC \u001b[90m(\u001b[39mmedian\u001b[90m):    \u001b[39m0.07%\n",
       " Time  \u001b[90m(\u001b[39m\u001b[32m\u001b[1mmean\u001b[22m\u001b[39m ± \u001b[32mσ\u001b[39m\u001b[90m):   \u001b[39m\u001b[32m\u001b[1m1.467 s\u001b[22m\u001b[39m ± \u001b[32m6.700 ms\u001b[39m  \u001b[90m┊\u001b[39m GC \u001b[90m(\u001b[39mmean ± σ\u001b[90m):  \u001b[39m0.11% ± 0.11%\n",
       "\n",
       "  \u001b[39m█\u001b[39m \u001b[39m \u001b[39m \u001b[39m \u001b[39m \u001b[39m \u001b[39m \u001b[39m \u001b[39m \u001b[39m \u001b[39m \u001b[39m \u001b[39m \u001b[39m \u001b[39m \u001b[39m \u001b[39m \u001b[39m \u001b[39m \u001b[39m \u001b[39m \u001b[39m \u001b[39m \u001b[39m \u001b[39m \u001b[39m \u001b[39m \u001b[39m \u001b[39m \u001b[39m \u001b[39m \u001b[39m \u001b[39m \u001b[32m \u001b[39m\u001b[39m \u001b[39m \u001b[34m█\u001b[39m\u001b[39m \u001b[39m \u001b[39m \u001b[39m \u001b[39m█\u001b[39m \u001b[39m \u001b[39m \u001b[39m \u001b[39m \u001b[39m \u001b[39m \u001b[39m \u001b[39m \u001b[39m \u001b[39m \u001b[39m \u001b[39m█\u001b[39m \u001b[39m \n",
       "  \u001b[39m█\u001b[39m▁\u001b[39m▁\u001b[39m▁\u001b[39m▁\u001b[39m▁\u001b[39m▁\u001b[39m▁\u001b[39m▁\u001b[39m▁\u001b[39m▁\u001b[39m▁\u001b[39m▁\u001b[39m▁\u001b[39m▁\u001b[39m▁\u001b[39m▁\u001b[39m▁\u001b[39m▁\u001b[39m▁\u001b[39m▁\u001b[39m▁\u001b[39m▁\u001b[39m▁\u001b[39m▁\u001b[39m▁\u001b[39m▁\u001b[39m▁\u001b[39m▁\u001b[39m▁\u001b[39m▁\u001b[39m▁\u001b[39m▁\u001b[39m▁\u001b[32m▁\u001b[39m\u001b[39m▁\u001b[39m▁\u001b[34m█\u001b[39m\u001b[39m▁\u001b[39m▁\u001b[39m▁\u001b[39m▁\u001b[39m█\u001b[39m▁\u001b[39m▁\u001b[39m▁\u001b[39m▁\u001b[39m▁\u001b[39m▁\u001b[39m▁\u001b[39m▁\u001b[39m▁\u001b[39m▁\u001b[39m▁\u001b[39m▁\u001b[39m█\u001b[39m \u001b[39m▁\n",
       "  1.46 s\u001b[90m        Histogram: frequency by time\u001b[39m        1.47 s \u001b[0m\u001b[1m<\u001b[22m\n",
       "\n",
       " Memory estimate\u001b[90m: \u001b[39m\u001b[33m61.28 MiB\u001b[39m, allocs estimate\u001b[90m: \u001b[39m\u001b[33m2002\u001b[39m."
      ]
     },
     "execution_count": 2,
     "metadata": {},
     "output_type": "execute_result"
    }
   ],
   "source": [
    "function P_spaltenweise(A,B)\n",
    "    m, n = size(A)\n",
    "    n, p = size(B)\n",
    "    C = zeros(m,p)\n",
    "    for l=1:p\n",
    "        @views C[:,l] = A*B[:,l]     # '@views' vermeidet unnötiges Umkopieren\n",
    "    end\n",
    "    return C\n",
    "end\n",
    "\n",
    "t_spaltenweise = @benchmark C = P_spaltenweise(A,B)"
   ]
  },
  {
   "cell_type": "markdown",
   "metadata": {},
   "source": [
    "### Variante 2: zeilenweise\n",
    "\n",
    "$$\n",
    "A = \\begin{pmatrix}\n",
    "—  a_1'  — \\\\\n",
    " \\vdots   \\\\\n",
    "—  a_m'  —\n",
    "\\end{pmatrix},\\qquad\n",
    "B,\\qquad\n",
    "C = \\begin{pmatrix}\n",
    "—  a_1'\\,B  — \\\\\n",
    " \\vdots   \\\\\n",
    "—  a_m'\\,B  —\n",
    "\\end{pmatrix}\n",
    "$$"
   ]
  },
  {
   "cell_type": "code",
   "execution_count": 3,
   "metadata": {
    "ExecuteTime": {
     "end_time": "2021-10-04T16:23:25.948000+02:00",
     "start_time": "2021-10-04T14:22:46.725Z"
    }
   },
   "outputs": [
    {
     "data": {
      "text/plain": [
       "BenchmarkTools.Trial: 4 samples with 1 evaluation.\n",
       " Range \u001b[90m(\u001b[39m\u001b[36m\u001b[1mmin\u001b[22m\u001b[39m … \u001b[35mmax\u001b[39m\u001b[90m):  \u001b[39m\u001b[36m\u001b[1m1.377 s\u001b[22m\u001b[39m … \u001b[35m  1.431 s\u001b[39m  \u001b[90m┊\u001b[39m GC \u001b[90m(\u001b[39mmin … max\u001b[90m): \u001b[39m0.05% … 0.04%\n",
       " Time  \u001b[90m(\u001b[39m\u001b[34m\u001b[1mmedian\u001b[22m\u001b[39m\u001b[90m):     \u001b[39m\u001b[34m\u001b[1m1.408 s              \u001b[22m\u001b[39m\u001b[90m┊\u001b[39m GC \u001b[90m(\u001b[39mmedian\u001b[90m):    \u001b[39m0.05%\n",
       " Time  \u001b[90m(\u001b[39m\u001b[32m\u001b[1mmean\u001b[22m\u001b[39m ± \u001b[32mσ\u001b[39m\u001b[90m):   \u001b[39m\u001b[32m\u001b[1m1.406 s\u001b[22m\u001b[39m ± \u001b[32m22.481 ms\u001b[39m  \u001b[90m┊\u001b[39m GC \u001b[90m(\u001b[39mmean ± σ\u001b[90m):  \u001b[39m0.08% ± 0.06%\n",
       "\n",
       "  \u001b[39m█\u001b[39m \u001b[39m \u001b[39m \u001b[39m \u001b[39m \u001b[39m \u001b[39m \u001b[39m \u001b[39m \u001b[39m \u001b[39m \u001b[39m \u001b[39m \u001b[39m \u001b[39m \u001b[39m \u001b[39m \u001b[39m \u001b[39m \u001b[39m \u001b[39m \u001b[39m \u001b[39m \u001b[39m \u001b[39m \u001b[34m█\u001b[39m\u001b[39m \u001b[39m \u001b[39m \u001b[32m \u001b[39m\u001b[39m \u001b[39m \u001b[39m \u001b[39m \u001b[39m \u001b[39m \u001b[39m \u001b[39m█\u001b[39m \u001b[39m \u001b[39m \u001b[39m \u001b[39m \u001b[39m \u001b[39m \u001b[39m \u001b[39m \u001b[39m \u001b[39m \u001b[39m \u001b[39m \u001b[39m \u001b[39m \u001b[39m \u001b[39m \u001b[39m█\u001b[39m \u001b[39m \n",
       "  \u001b[39m█\u001b[39m▁\u001b[39m▁\u001b[39m▁\u001b[39m▁\u001b[39m▁\u001b[39m▁\u001b[39m▁\u001b[39m▁\u001b[39m▁\u001b[39m▁\u001b[39m▁\u001b[39m▁\u001b[39m▁\u001b[39m▁\u001b[39m▁\u001b[39m▁\u001b[39m▁\u001b[39m▁\u001b[39m▁\u001b[39m▁\u001b[39m▁\u001b[39m▁\u001b[39m▁\u001b[39m▁\u001b[39m▁\u001b[34m█\u001b[39m\u001b[39m▁\u001b[39m▁\u001b[39m▁\u001b[32m▁\u001b[39m\u001b[39m▁\u001b[39m▁\u001b[39m▁\u001b[39m▁\u001b[39m▁\u001b[39m▁\u001b[39m▁\u001b[39m█\u001b[39m▁\u001b[39m▁\u001b[39m▁\u001b[39m▁\u001b[39m▁\u001b[39m▁\u001b[39m▁\u001b[39m▁\u001b[39m▁\u001b[39m▁\u001b[39m▁\u001b[39m▁\u001b[39m▁\u001b[39m▁\u001b[39m▁\u001b[39m▁\u001b[39m▁\u001b[39m█\u001b[39m \u001b[39m▁\n",
       "  1.38 s\u001b[90m         Histogram: frequency by time\u001b[39m        1.43 s \u001b[0m\u001b[1m<\u001b[22m\n",
       "\n",
       " Memory estimate\u001b[90m: \u001b[39m\u001b[33m61.28 MiB\u001b[39m, allocs estimate\u001b[90m: \u001b[39m\u001b[33m2002\u001b[39m."
      ]
     },
     "execution_count": 3,
     "metadata": {},
     "output_type": "execute_result"
    }
   ],
   "source": [
    "function P_zeilenweise(A,B)\n",
    "    m, n = size(A)\n",
    "    n, p = size(B)\n",
    "    C = zeros(m,p)\n",
    "    for j=1:m\n",
    "        @views C[j,:] = conj(A[j,:]')*B\n",
    "    end\n",
    "    return C\n",
    "end\n",
    "\n",
    "t_zeilenweise = @benchmark C = P_zeilenweise(A,B)"
   ]
  },
  {
   "cell_type": "markdown",
   "metadata": {},
   "source": [
    "### Variante 3: innere Produkte\n",
    "\n",
    "$$\n",
    "A = \\begin{pmatrix}\n",
    "—  a_1'  — \\\\\n",
    " \\vdots   \\\\\n",
    "—  a_m'  —\n",
    "\\end{pmatrix},\\qquad\n",
    "B = \n",
    "\\begin{pmatrix}\n",
    "| &  & | \\\\\n",
    "b^1 &  \\!\\!\\!\\cdots\\!\\!\\! & b^p \\\\\n",
    "| &  & | \n",
    "\\end{pmatrix},\\qquad\n",
    "C = \\begin{pmatrix}\n",
    "a_1'\\, b^1 & \\cdots & a_1'\\, b^p \\\\\n",
    "\\vdots &  & \\vdots\\\\\n",
    "a_m'\\, b^1 & \\cdots & a_m'\\, b^p\n",
    "\\end{pmatrix}\n",
    "$$"
   ]
  },
  {
   "cell_type": "code",
   "execution_count": 4,
   "metadata": {
    "ExecuteTime": {
     "end_time": "2021-10-04T16:24:17.835000+02:00",
     "start_time": "2021-10-04T14:22:46.728Z"
    }
   },
   "outputs": [
    {
     "data": {
      "text/plain": [
       "BenchmarkTools.Trial: 1 sample with 1 evaluation.\n",
       " Single result which took \u001b[34m12.703 s\u001b[39m (0.00% GC) to evaluate,\n",
       " with a memory estimate of \u001b[33m30.52 MiB\u001b[39m, over \u001b[33m2\u001b[39m allocations."
      ]
     },
     "execution_count": 4,
     "metadata": {},
     "output_type": "execute_result"
    }
   ],
   "source": [
    "function P_innere_produkte(A,B)\n",
    "    m, n = size(A)\n",
    "    n, p = size(B)\n",
    "    C = zeros(m,p)\n",
    "    for j=1:m\n",
    "        for l=1:p\n",
    "            @views C[j,l] = conj(A[j,:]')*B[:,l]\n",
    "        end\n",
    "    end\n",
    "    return C\n",
    "end\n",
    "\n",
    "t_innere_produkte = @benchmark C = P_innere_produkte(A,B)"
   ]
  },
  {
   "cell_type": "markdown",
   "metadata": {},
   "source": [
    "### Variante 4: äußere Produkte\n",
    "\n",
    "$$\n",
    "A = \\begin{pmatrix}\n",
    "| &  & | \\\\\n",
    "a^1 &  \\!\\!\\!\\cdots\\!\\!\\! & a^n \\\\\n",
    "| &  & | \n",
    "\\end{pmatrix},\\qquad\n",
    "B = \\begin{pmatrix}\n",
    "—  b_1'  — \\\\\n",
    " \\vdots   \\\\\n",
    "—  b_n'  —\n",
    "\\end{pmatrix},\\qquad\n",
    "C =  \\sum_{k=1}^n a^k \\, b_k'\n",
    "$$"
   ]
  },
  {
   "cell_type": "code",
   "execution_count": 5,
   "metadata": {
    "ExecuteTime": {
     "end_time": "2021-10-04T16:24:45.364000+02:00",
     "start_time": "2021-10-04T14:22:46.731Z"
    }
   },
   "outputs": [
    {
     "data": {
      "text/plain": [
       "BenchmarkTools.Trial: 1 sample with 1 evaluation.\n",
       " Single result which took \u001b[34m6.821 s\u001b[39m (0.00% GC) to evaluate,\n",
       " with a memory estimate of \u001b[33m30.52 MiB\u001b[39m, over \u001b[33m2\u001b[39m allocations."
      ]
     },
     "execution_count": 5,
     "metadata": {},
     "output_type": "execute_result"
    }
   ],
   "source": [
    "function P_äußere_produkte(A,B)\n",
    "    m, n = size(A)\n",
    "    n, p = size(B)\n",
    "    C = zeros(m,p)  \n",
    "    for k=1:n\n",
    "        @views C .+= A[:,k].*conj(B[k,:]')\n",
    "    end\n",
    "    return C\n",
    "end\n",
    "\n",
    "t_äußere_produkte = @benchmark C = P_äußere_produkte(A,B)"
   ]
  },
  {
   "cell_type": "markdown",
   "metadata": {},
   "source": [
    "In Zeile 6 wird das äußere Produkt als Broadcast-Produkt `.*` („jede Komponente des Spaltenvektors wird jeweils mit dem gesamten Zeilenvektor multipliziert“) ausgeführt, was deutlich langsamer als ein optimiertes äußeres Produkt ist. Wir können Julia aber durch direkten Aufruf der BLAS-Routine `ger` anweisen, stattdessen wirklich nur ein äußeres Produkt zu berechnen. Das '`!`' in `ger!` zeigt dabei an, dass Julia einen Update direkt auf dem aktuellen Speichplatz der Variablen `C` ausführt, diese Matrix wird also _in situ_ (d.h. „an Ort und Stelle“, ohne zusätzlichen Speicher anzulegen) überschrieben:"
   ]
  },
  {
   "cell_type": "code",
   "execution_count": 6,
   "metadata": {
    "ExecuteTime": {
     "end_time": "2021-10-04T16:24:46.098000+02:00",
     "start_time": "2021-10-04T14:22:46.734Z"
    }
   },
   "outputs": [
    {
     "data": {
      "text/latex": [
       "\\begin{verbatim}\n",
       "ger!(alpha, x, y, A)\n",
       "\\end{verbatim}\n",
       "Rank-1 update of the matrix \\texttt{A} with vectors \\texttt{x} and \\texttt{y} as \\texttt{alpha*x*y' + A}.\n",
       "\n"
      ],
      "text/markdown": [
       "```\n",
       "ger!(alpha, x, y, A)\n",
       "```\n",
       "\n",
       "Rank-1 update of the matrix `A` with vectors `x` and `y` as `alpha*x*y' + A`.\n"
      ],
      "text/plain": [
       "\u001b[36m  ger!(alpha, x, y, A)\u001b[39m\n",
       "\n",
       "  Rank-1 update of the matrix \u001b[36mA\u001b[39m with vectors \u001b[36mx\u001b[39m and \u001b[36my\u001b[39m as \u001b[36malpha*x*y' + A\u001b[39m."
      ]
     },
     "execution_count": 6,
     "metadata": {},
     "output_type": "execute_result"
    }
   ],
   "source": [
    "?BLAS.ger! # suche nach BLAS-Syntax für äußere Produkte"
   ]
  },
  {
   "cell_type": "code",
   "execution_count": 7,
   "metadata": {
    "ExecuteTime": {
     "end_time": "2021-10-04T16:25:07.586000+02:00",
     "start_time": "2021-10-04T14:22:46.736Z"
    }
   },
   "outputs": [
    {
     "data": {
      "text/plain": [
       "BenchmarkTools.Trial: 2 samples with 1 evaluation.\n",
       " Range \u001b[90m(\u001b[39m\u001b[36m\u001b[1mmin\u001b[22m\u001b[39m … \u001b[35mmax\u001b[39m\u001b[90m):  \u001b[39m\u001b[36m\u001b[1m2.957 s\u001b[22m\u001b[39m … \u001b[35m  3.077 s\u001b[39m  \u001b[90m┊\u001b[39m GC \u001b[90m(\u001b[39mmin … max\u001b[90m): \u001b[39m0.02% … 0.00%\n",
       " Time  \u001b[90m(\u001b[39m\u001b[34m\u001b[1mmedian\u001b[22m\u001b[39m\u001b[90m):     \u001b[39m\u001b[34m\u001b[1m3.017 s              \u001b[22m\u001b[39m\u001b[90m┊\u001b[39m GC \u001b[90m(\u001b[39mmedian\u001b[90m):    \u001b[39m0.01%\n",
       " Time  \u001b[90m(\u001b[39m\u001b[32m\u001b[1mmean\u001b[22m\u001b[39m ± \u001b[32mσ\u001b[39m\u001b[90m):   \u001b[39m\u001b[32m\u001b[1m3.017 s\u001b[22m\u001b[39m ± \u001b[32m84.985 ms\u001b[39m  \u001b[90m┊\u001b[39m GC \u001b[90m(\u001b[39mmean ± σ\u001b[90m):  \u001b[39m0.01% ± 0.01%\n",
       "\n",
       "  \u001b[34m█\u001b[39m\u001b[39m \u001b[39m \u001b[39m \u001b[39m \u001b[39m \u001b[39m \u001b[39m \u001b[39m \u001b[39m \u001b[39m \u001b[39m \u001b[39m \u001b[39m \u001b[39m \u001b[39m \u001b[39m \u001b[39m \u001b[39m \u001b[39m \u001b[39m \u001b[39m \u001b[39m \u001b[39m \u001b[39m \u001b[39m \u001b[39m \u001b[39m \u001b[32m \u001b[39m\u001b[39m \u001b[39m \u001b[39m \u001b[39m \u001b[39m \u001b[39m \u001b[39m \u001b[39m \u001b[39m \u001b[39m \u001b[39m \u001b[39m \u001b[39m \u001b[39m \u001b[39m \u001b[39m \u001b[39m \u001b[39m \u001b[39m \u001b[39m \u001b[39m \u001b[39m \u001b[39m \u001b[39m \u001b[39m \u001b[39m \u001b[39m \u001b[39m█\u001b[39m \u001b[39m \n",
       "  \u001b[34m█\u001b[39m\u001b[39m▁\u001b[39m▁\u001b[39m▁\u001b[39m▁\u001b[39m▁\u001b[39m▁\u001b[39m▁\u001b[39m▁\u001b[39m▁\u001b[39m▁\u001b[39m▁\u001b[39m▁\u001b[39m▁\u001b[39m▁\u001b[39m▁\u001b[39m▁\u001b[39m▁\u001b[39m▁\u001b[39m▁\u001b[39m▁\u001b[39m▁\u001b[39m▁\u001b[39m▁\u001b[39m▁\u001b[39m▁\u001b[39m▁\u001b[39m▁\u001b[32m▁\u001b[39m\u001b[39m▁\u001b[39m▁\u001b[39m▁\u001b[39m▁\u001b[39m▁\u001b[39m▁\u001b[39m▁\u001b[39m▁\u001b[39m▁\u001b[39m▁\u001b[39m▁\u001b[39m▁\u001b[39m▁\u001b[39m▁\u001b[39m▁\u001b[39m▁\u001b[39m▁\u001b[39m▁\u001b[39m▁\u001b[39m▁\u001b[39m▁\u001b[39m▁\u001b[39m▁\u001b[39m▁\u001b[39m▁\u001b[39m▁\u001b[39m▁\u001b[39m█\u001b[39m \u001b[39m▁\n",
       "  2.96 s\u001b[90m         Histogram: frequency by time\u001b[39m        3.08 s \u001b[0m\u001b[1m<\u001b[22m\n",
       "\n",
       " Memory estimate\u001b[90m: \u001b[39m\u001b[33m30.52 MiB\u001b[39m, allocs estimate\u001b[90m: \u001b[39m\u001b[33m2\u001b[39m."
      ]
     },
     "execution_count": 7,
     "metadata": {},
     "output_type": "execute_result"
    }
   ],
   "source": [
    "function P_äußere_produkte_BLAS2(A,B)\n",
    "    m, n = size(A)\n",
    "    n, p = size(B)\n",
    "    C = zeros(m,p)  \n",
    "    for k=1:n\n",
    "        @views BLAS.ger!(1.0,A[:,k],B[k,:],C)\n",
    "    end\n",
    "    return C\n",
    "end\n",
    "\n",
    "t_äußere_produkte_BLAS2 = @benchmark C = P_äußere_produkte_BLAS2(A,B)"
   ]
  },
  {
   "cell_type": "markdown",
   "metadata": {},
   "source": [
    "### Variante 5: komponentenweise\n",
    "\n",
    "$$\n",
    "A = (\\alpha_{jk})_{j=1:m,k=1:n},\\qquad\n",
    "B = (\\beta_{kl})_{k=1:n,l=1:p},\\qquad\n",
    "C = \\left(\\sum_{k=1}^n \\alpha_{jk}\\beta_{kl}\\right)_{j=1:m,l=1:p}\n",
    "$$"
   ]
  },
  {
   "cell_type": "code",
   "execution_count": 8,
   "metadata": {
    "ExecuteTime": {
     "end_time": "2021-10-04T16:26:00.561000+02:00",
     "start_time": "2021-10-04T14:22:46.738Z"
    }
   },
   "outputs": [
    {
     "data": {
      "text/plain": [
       "BenchmarkTools.Trial: 1 sample with 1 evaluation.\n",
       " Single result which took \u001b[34m12.834 s\u001b[39m (0.00% GC) to evaluate,\n",
       " with a memory estimate of \u001b[33m30.52 MiB\u001b[39m, over \u001b[33m2\u001b[39m allocations."
      ]
     },
     "execution_count": 8,
     "metadata": {},
     "output_type": "execute_result"
    }
   ],
   "source": [
    "function P_komponentenweise(A,B)\n",
    "    m, n = size(A)\n",
    "    n, p = size(B)\n",
    "    C = zeros(m,p)\n",
    "    for j=1:m\n",
    "        for l=1:p\n",
    "            for k=1:n\n",
    "                @inbounds C[j,l] += A[j,k]*B[k,l] # '@inbounds' verhindert überflüssige Indexprüfung\n",
    "            end\n",
    "        end\n",
    "    end\n",
    "    return C\n",
    "end\n",
    "\n",
    "t_komponentenweise = @benchmark C = P_komponentenweise(A,B)"
   ]
  },
  {
   "cell_type": "markdown",
   "metadata": {},
   "source": [
    "### Variante 6: direkt (BLAS3)\n",
    "\n",
    "$$\n",
    "A, \\qquad\n",
    "B, \\qquad\n",
    "C = AB\n",
    "$$"
   ]
  },
  {
   "cell_type": "code",
   "execution_count": 9,
   "metadata": {
    "ExecuteTime": {
     "end_time": "2021-10-04T16:26:12.675000+02:00",
     "start_time": "2021-10-04T14:22:46.740Z"
    }
   },
   "outputs": [
    {
     "data": {
      "text/plain": [
       "BenchmarkTools.Trial: 44 samples with 1 evaluation.\n",
       " Range \u001b[90m(\u001b[39m\u001b[36m\u001b[1mmin\u001b[22m\u001b[39m … \u001b[35mmax\u001b[39m\u001b[90m):  \u001b[39m\u001b[36m\u001b[1m104.537 ms\u001b[22m\u001b[39m … \u001b[35m141.660 ms\u001b[39m  \u001b[90m┊\u001b[39m GC \u001b[90m(\u001b[39mmin … max\u001b[90m): \u001b[39m0.00% … 5.82%\n",
       " Time  \u001b[90m(\u001b[39m\u001b[34m\u001b[1mmedian\u001b[22m\u001b[39m\u001b[90m):     \u001b[39m\u001b[34m\u001b[1m112.110 ms               \u001b[22m\u001b[39m\u001b[90m┊\u001b[39m GC \u001b[90m(\u001b[39mmedian\u001b[90m):    \u001b[39m0.00%\n",
       " Time  \u001b[90m(\u001b[39m\u001b[32m\u001b[1mmean\u001b[22m\u001b[39m ± \u001b[32mσ\u001b[39m\u001b[90m):   \u001b[39m\u001b[32m\u001b[1m113.869 ms\u001b[22m\u001b[39m ± \u001b[32m  7.598 ms\u001b[39m  \u001b[90m┊\u001b[39m GC \u001b[90m(\u001b[39mmean ± σ\u001b[90m):  \u001b[39m2.27% ± 3.19%\n",
       "\n",
       "  \u001b[39m \u001b[39m \u001b[39m█\u001b[39m \u001b[39m \u001b[39m \u001b[39m \u001b[39m▄\u001b[39m█\u001b[39m▄\u001b[39m▁\u001b[39m \u001b[34m▁\u001b[39m\u001b[39m▄\u001b[39m▁\u001b[32m \u001b[39m\u001b[39m▁\u001b[39m \u001b[39m \u001b[39m▁\u001b[39m \u001b[39m \u001b[39m \u001b[39m \u001b[39m \u001b[39m \u001b[39m \u001b[39m \u001b[39m \u001b[39m \u001b[39m \u001b[39m \u001b[39m \u001b[39m \u001b[39m \u001b[39m \u001b[39m \u001b[39m \u001b[39m \u001b[39m \u001b[39m \u001b[39m \u001b[39m \u001b[39m \u001b[39m \u001b[39m \u001b[39m \u001b[39m \u001b[39m \u001b[39m \u001b[39m \u001b[39m \u001b[39m \u001b[39m \u001b[39m \u001b[39m \u001b[39m \u001b[39m \u001b[39m \u001b[39m \u001b[39m \u001b[39m \u001b[39m \n",
       "  \u001b[39m▆\u001b[39m▆\u001b[39m█\u001b[39m▁\u001b[39m▆\u001b[39m▆\u001b[39m▆\u001b[39m█\u001b[39m█\u001b[39m█\u001b[39m█\u001b[39m▁\u001b[34m█\u001b[39m\u001b[39m█\u001b[39m█\u001b[32m▆\u001b[39m\u001b[39m█\u001b[39m▁\u001b[39m▁\u001b[39m█\u001b[39m▁\u001b[39m▆\u001b[39m▆\u001b[39m▆\u001b[39m▆\u001b[39m▁\u001b[39m▁\u001b[39m▆\u001b[39m▆\u001b[39m▆\u001b[39m▆\u001b[39m▁\u001b[39m▁\u001b[39m▁\u001b[39m▁\u001b[39m▁\u001b[39m▁\u001b[39m▁\u001b[39m▁\u001b[39m▁\u001b[39m▁\u001b[39m▁\u001b[39m▆\u001b[39m▁\u001b[39m▁\u001b[39m▁\u001b[39m▆\u001b[39m▁\u001b[39m▁\u001b[39m▁\u001b[39m▁\u001b[39m▁\u001b[39m▁\u001b[39m▁\u001b[39m▁\u001b[39m▁\u001b[39m▁\u001b[39m▁\u001b[39m▁\u001b[39m▁\u001b[39m▆\u001b[39m \u001b[39m▁\n",
       "  105 ms\u001b[90m           Histogram: frequency by time\u001b[39m          142 ms \u001b[0m\u001b[1m<\u001b[22m\n",
       "\n",
       " Memory estimate\u001b[90m: \u001b[39m\u001b[33m30.52 MiB\u001b[39m, allocs estimate\u001b[90m: \u001b[39m\u001b[33m2\u001b[39m."
      ]
     },
     "execution_count": 9,
     "metadata": {},
     "output_type": "execute_result"
    }
   ],
   "source": [
    "t_BLAS3 = @benchmark C = A*B"
   ]
  },
  {
   "cell_type": "markdown",
   "metadata": {
    "collapsed": true
   },
   "source": [
    "### Auswertung der Laufzeiten"
   ]
  },
  {
   "cell_type": "code",
   "execution_count": 10,
   "metadata": {
    "ExecuteTime": {
     "end_time": "2021-10-04T16:26:13.063000+02:00",
     "start_time": "2021-10-04T14:22:46.743Z"
    },
    "run_control": {
     "marked": false
    }
   },
   "outputs": [
    {
     "name": "stdout",
     "output_type": "stream",
     "text": [
      "Laufzeiten: [12.8335, 12.7027, 3.0167, 1.4668, 1.406, 0.1139]\n",
      "Faktoren: [113.0, 112.0, 26.0, 13.0, 12.0, 1.0]\n"
     ]
    }
   ],
   "source": [
    "messungen = [t_komponentenweise,\n",
    "    t_innere_produkte,\n",
    "    t_äußere_produkte_BLAS2,\n",
    "    t_spaltenweise,\n",
    "    t_zeilenweise,\n",
    "    t_BLAS3]\n",
    "\n",
    "sec = 1e-9 # Umrechung von Nanosekunden in Sekunden\n",
    "dig = 4    # Rundung auf zwei Nachkommastellen\n",
    "laufzeiten = round.(time.(mean.(messungen))sec, digits=dig) \n",
    "\n",
    "faktoren = round.(laufzeiten/minimum(laufzeiten))\n",
    "\n",
    "println(\"Laufzeiten: \", laufzeiten)\n",
    "println(\"Faktoren: \", faktoren)"
   ]
  },
  {
   "cell_type": "markdown",
   "metadata": {
    "collapsed": true
   },
   "source": [
    "| Methode          | # for-Schleifen  | BLAS-Level | Laufzeit [sec] |  Verlangsamungsfaktor |\n",
    "| :-:              |:-:|:-:|   --:|  --:|\n",
    "| komponentenweise | 3 | 0 | 12.8 | 110 | \n",
    "| innere Produkte  | 2 | 1 | 12.7 | 110 | \n",
    "| äußere Produkte  | 1 | 2 | 3.02 |  26 | \n",
    "| spaltenweise     | 1 | 2 | 1.47 |  13 |\n",
    "| zeilenweise      | 1 | 2 | 1.41 |  12 |\n",
    "| direkt           | 0 | 3 | 0.11 |   1 |"
   ]
  }
 ],
 "metadata": {
  "@webio": {
   "lastCommId": null,
   "lastKernelId": null
  },
  "anaconda-cloud": {},
  "kernelspec": {
   "display_name": "Julia 1.6.3",
   "language": "julia",
   "name": "julia-1.6"
  },
  "language_info": {
   "file_extension": ".jl",
   "mimetype": "application/julia",
   "name": "julia",
   "version": "1.6.3"
  },
  "toc": {
   "base_numbering": 1,
   "nav_menu": {},
   "number_sections": false,
   "sideBar": true,
   "skip_h1_title": false,
   "title_cell": "Table of Contents",
   "title_sidebar": "Contents",
   "toc_cell": false,
   "toc_position": {},
   "toc_section_display": true,
   "toc_window_display": false
  }
 },
 "nbformat": 4,
 "nbformat_minor": 1
}
