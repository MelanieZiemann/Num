using LinearAlgebra
m=2000
A=randn(m,m)
B=randn(m,m)

using BenchmarkTools
