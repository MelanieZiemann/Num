{
 "cells": [
  {
   "cell_type": "markdown",
   "metadata": {},
   "source": [
    "# Aufgabe 37 Lösungsvorschlag"
   ]
  },
  {
   "cell_type": "code",
   "execution_count": 1,
   "metadata": {
    "ExecuteTime": {
     "end_time": "2022-01-20T16:14:08.983000+01:00",
     "start_time": "2022-01-20T15:14:01.423Z"
    }
   },
   "outputs": [],
   "source": [
    "using Printf"
   ]
  },
  {
   "cell_type": "code",
   "execution_count": 2,
   "metadata": {
    "ExecuteTime": {
     "end_time": "2022-01-20T16:14:09.189000+01:00",
     "start_time": "2022-01-20T15:14:02.594Z"
    }
   },
   "outputs": [],
   "source": [
    "x=0.923;  # die gewünschte Auswertungsstelle\n",
    "# Hier die Koeffizienten von Wolfram-Alpha:\n",
    "coeff31=coeff31=[1073741824, 0, -8321499136, 0, +29125246976, 0, -60850962432, 0, +84515225600, 0, -82239815680, 0, +57567870976, 0, -29297934336, 0, +10827497472, 0, -2870927360, 0, +533172224, 0, -66646528, 0, +5261568, 0, -236096, 0, +4960, 0, -31, 0];\n",
    "# Hier die Koeffizienten von Wolfram-Alpha: \n",
    "coeff57=[0, 57, 0, -30856, 0, 4998672, 0, -383707584, 0, 17053670400, 0, -491145707520, 0, 9848101109760, 0, -144438816276480, 0, 1605819780956160, 0, -13898323250380800, 0, 95567517969285120, 0, -530343064145756160, 0, 2404221890794094592, 0, -8986721141657698304, 0, 27889824232730787840, 0, -72213652421952405504, 0, 156462913580896878592, 0, -283999910365325426688, 0, 431543407341905903616, 0, -547436980973537853440, 0, 576811648245288665088, 0, -500797710104436670464, 0, 354099390982935019520, 0, -200470700537979863040, 0, 88643507040603340800, 0, -29478311360953581568, 0, 6931039826523193344, 0, -1026820715040473088, 0, 72057594037927936][end:-1:1]\n",
    "# Werte von Wolfram-Alpha\n",
    "exact31=0.948715916160629803971524862634662127047939565582598661003972\n",
    "exact57=-0.86615350657291712942692692594132983618130486845365769655099;"
   ]
  },
  {
   "cell_type": "markdown",
   "metadata": {},
   "source": [
    "Auswertung mit Horner-Schema. In `coeff` sind die Koeffizienten bzgl. der monomialen Basis, dabei ist `coeff[1]` der Koeffizient zum höchsten Monomgrad."
   ]
  },
  {
   "cell_type": "code",
   "execution_count": 3,
   "metadata": {
    "ExecuteTime": {
     "end_time": "2022-01-20T16:14:09.191000+01:00",
     "start_time": "2022-01-20T15:14:07.385Z"
    }
   },
   "outputs": [],
   "source": [
    "function horner(coeff, x)\n",
    "    erg=coeff[1]\n",
    "    for k = coeff[2:end]\n",
    "        erg = erg*x + k\n",
    "    end\n",
    "    return erg\n",
    "end;"
   ]
  },
  {
   "cell_type": "markdown",
   "metadata": {},
   "source": [
    "Die Dreiterm-Rekursion für die Tschebyscheff-Polynome (aus Aufgabe 35):"
   ]
  },
  {
   "cell_type": "code",
   "execution_count": 4,
   "metadata": {
    "ExecuteTime": {
     "end_time": "2022-01-20T16:14:09.193000+01:00",
     "start_time": "2022-01-20T15:14:08.443Z"
    }
   },
   "outputs": [],
   "source": [
    "function dreiterm(n, x)\n",
    "    Tₙ₋₁ = 1.0; Tₙ = x; Tₙ₊₁ = 0.0;\n",
    "    for k=1:n-1\n",
    "        Tₙ₊₁ = 2*x*Tₙ-Tₙ₋₁\n",
    "        Tₙ₋₁ = Tₙ; Tₙ = Tₙ₊₁\n",
    "    end\n",
    "    return Tₙ₊₁\n",
    "end;"
   ]
  },
  {
   "cell_type": "code",
   "execution_count": 5,
   "metadata": {
    "ExecuteTime": {
     "end_time": "2022-01-20T16:14:10.128000+01:00",
     "start_time": "2022-01-20T15:14:09.382Z"
    }
   },
   "outputs": [
    {
     "name": "stdout",
     "output_type": "stream",
     "text": [
      "x=0.923            T₃₁(x)              T₅₇(x)\n",
      "exakt           0.948715916160630    -0.866153506572917\n",
      "Horner          0.948714968720290  -743.214735550911428\n",
      "3-Term          0.948715916160629    -0.866153506572921\n",
      "Fehler Horner   9.5e-07               7.4e+02\n",
      "Abschätzung     2.3e-04               9.0e+05\n",
      "Fehler 3-Term   8.9e-16               3.8e-15\n"
     ]
    }
   ],
   "source": [
    "@printf(\"x=%5.3f            T₃₁(x)              T₅₇(x)\\n\", x)\n",
    "@printf(\"exakt           %16.15f  %20.15f\\n\", exact31, exact57)\n",
    "@printf(\"Horner          %16.15f  %20.15f\\n\", horner(coeff31, x), horner(coeff57, x))\n",
    "@printf(\"3-Term          %16.15f  %20.15f\\n\", dreiterm(31, x), dreiterm(57, x))\n",
    "@printf(\"Fehler Horner   %3.1e               %3.1e\\n\", \n",
    "        abs(horner(coeff31, x) - exact31),\n",
    "        abs(horner(coeff57, x) - exact57))\n",
    "@printf(\"Abschätzung     %3.1e               %3.1e\\n\", \n",
    "        32horner(abs.(coeff31), x)*eps()/2,\n",
    "        58horner(abs.(coeff57), x)*eps()/2,)\n",
    "@printf(\"Fehler 3-Term   %3.1e               %3.1e\\n\", \n",
    "        abs(dreiterm(31, x) - exact31),\n",
    "        abs(dreiterm(57, x) - exact57))\n"
   ]
  },
  {
   "cell_type": "code",
   "execution_count": null,
   "metadata": {},
   "outputs": [],
   "source": []
  }
 ],
 "metadata": {
  "@webio": {
   "lastCommId": null,
   "lastKernelId": null
  },
  "kernelspec": {
   "display_name": "Julia 1.6.5",
   "language": "julia",
   "name": "julia-1.6"
  },
  "language_info": {
   "file_extension": ".jl",
   "mimetype": "application/julia",
   "name": "julia",
   "version": "1.6.5"
  }
 },
 "nbformat": 4,
 "nbformat_minor": 2
}
