{
 "cells": [
  {
   "cell_type": "markdown",
   "id": "alike-louisiana",
   "metadata": {},
   "source": [
    "# Aufgabe 28: Lösungsvorschlag"
   ]
  },
  {
   "cell_type": "code",
   "execution_count": 1,
   "id": "agricultural-legislation",
   "metadata": {
    "ExecuteTime": {
     "end_time": "2021-12-10T09:59:18.508000+01:00",
     "start_time": "2021-12-10T08:59:05.723Z"
    }
   },
   "outputs": [],
   "source": [
    "using LinearAlgebra\n",
    "using Random"
   ]
  },
  {
   "cell_type": "code",
   "execution_count": 2,
   "id": "homeless-campbell",
   "metadata": {
    "ExecuteTime": {
     "end_time": "2021-12-10T09:59:19.363000+01:00",
     "start_time": "2021-12-10T08:59:19.358Z"
    }
   },
   "outputs": [],
   "source": [
    "function eiginterval(A:: Union{Symmetric,SymTridiagonal}) # aus Gerschgorin\n",
    "    r = abs.(A - Diagonal(A))*ones(size(A,1))\n",
    "    return [minimum(diag(A)-r), maximum(diag(A)+r)]\n",
    "end;"
   ]
  },
  {
   "cell_type": "code",
   "execution_count": 3,
   "id": "distinct-wedding",
   "metadata": {
    "ExecuteTime": {
     "end_time": "2021-12-10T09:59:22.794000+01:00",
     "start_time": "2021-12-10T08:59:20.595Z"
    }
   },
   "outputs": [
    {
     "data": {
      "text/plain": [
       "2-element Vector{Vector{Float64}}:\n",
       " [0.0, 7.0]\n",
       " [1.0000000000000002, 6.414213562373095]"
      ]
     },
     "execution_count": 3,
     "metadata": {},
     "output_type": "execute_result"
    }
   ],
   "source": [
    "A = Symmetric([2 1 1; 1 3 1; 1 1 5])\n",
    "T = hessenberg(A).H\n",
    "[eiginterval(A), eiginterval(T)]"
   ]
  },
  {
   "cell_type": "code",
   "execution_count": 4,
   "id": "inner-cardiff",
   "metadata": {
    "ExecuteTime": {
     "end_time": "2021-12-10T09:59:29.948000+01:00",
     "start_time": "2021-12-10T08:59:24.262Z"
    }
   },
   "outputs": [
    {
     "data": {
      "text/plain": [
       "3-element Vector{Vector{Float64}}:\n",
       " [-4140.253225876587, 4143.038191740848]\n",
       " [-143.96398626801832, 145.0222047191796]\n",
       " [-141.4213562373095, 141.4213562373095]"
      ]
     },
     "execution_count": 4,
     "metadata": {},
     "output_type": "execute_result"
    }
   ],
   "source": [
    "m = 5000;\n",
    "Random.seed!(0815)\n",
    "A = Symmetric(randn(m,m))\n",
    "T = hessenberg(A).H\n",
    "[eiginterval(A), eiginterval(T), 2*[-sqrt(m),sqrt(m)]]"
   ]
  },
  {
   "cell_type": "code",
   "execution_count": null,
   "id": "progressive-april",
   "metadata": {},
   "outputs": [],
   "source": []
  }
 ],
 "metadata": {
  "@webio": {
   "lastCommId": null,
   "lastKernelId": null
  },
  "kernelspec": {
   "display_name": "Julia 1.6.4",
   "language": "julia",
   "name": "julia-1.6"
  },
  "language_info": {
   "file_extension": ".jl",
   "mimetype": "application/julia",
   "name": "julia",
   "version": "1.6.4"
  },
  "toc": {
   "base_numbering": 1,
   "nav_menu": {},
   "number_sections": false,
   "sideBar": true,
   "skip_h1_title": false,
   "title_cell": "Table of Contents",
   "title_sidebar": "Contents",
   "toc_cell": false,
   "toc_position": {},
   "toc_section_display": true,
   "toc_window_display": false
  }
 },
 "nbformat": 4,
 "nbformat_minor": 5
}
