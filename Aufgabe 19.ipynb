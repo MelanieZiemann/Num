{
 "cells": [
  {
   "cell_type": "markdown",
   "id": "going-jordan",
   "metadata": {},
   "source": [
    "# Aufgabe 19 Lösungsvorschlag"
   ]
  },
  {
   "cell_type": "code",
   "execution_count": 1,
   "id": "mature-unemployment",
   "metadata": {
    "ExecuteTime": {
     "end_time": "2021-11-24T16:45:12.069000+01:00",
     "start_time": "2021-11-24T15:45:01.143Z"
    }
   },
   "outputs": [],
   "source": [
    "using LinearAlgebra"
   ]
  },
  {
   "cell_type": "code",
   "execution_count": 2,
   "id": "senior-feeding",
   "metadata": {
    "ExecuteTime": {
     "end_time": "2021-11-24T16:45:13.091000+01:00",
     "start_time": "2021-11-24T15:45:01.728Z"
    }
   },
   "outputs": [
    {
     "data": {
      "text/plain": [
       "d (generic function with 1 method)"
      ]
     },
     "execution_count": 2,
     "metadata": {},
     "output_type": "execute_result"
    }
   ],
   "source": [
    "# euklidischer Abstand des Vektors x zum von den Spalten von X aufgespannten Unterraum\n",
    "\n",
    "d(X, x) = abs(qr!([X x]).R[end,end])"
   ]
  },
  {
   "cell_type": "code",
   "execution_count": 3,
   "id": "reverse-estimate",
   "metadata": {
    "ExecuteTime": {
     "end_time": "2021-11-24T16:45:13.621000+01:00",
     "start_time": "2021-11-24T15:45:10.191Z"
    }
   },
   "outputs": [
    {
     "data": {
      "text/plain": [
       "1.6519361190570643"
      ]
     },
     "execution_count": 3,
     "metadata": {},
     "output_type": "execute_result"
    }
   ],
   "source": [
    "# reproduzierbares Beispiel\n",
    "\n",
    "using Random; Random.seed!(0815)\n",
    "\n",
    "X = randn(10,3);\n",
    "x = randn(10);\n",
    "\n",
    "d(X,x)"
   ]
  },
  {
   "cell_type": "code",
   "execution_count": null,
   "id": "wound-queens",
   "metadata": {},
   "outputs": [],
   "source": []
  }
 ],
 "metadata": {
  "@webio": {
   "lastCommId": null,
   "lastKernelId": null
  },
  "kernelspec": {
   "display_name": "Julia 1.6.3",
   "language": "julia",
   "name": "julia-1.6"
  },
  "language_info": {
   "file_extension": ".jl",
   "mimetype": "application/julia",
   "name": "julia",
   "version": "1.6.3"
  },
  "toc": {
   "base_numbering": 1,
   "nav_menu": {},
   "number_sections": true,
   "sideBar": true,
   "skip_h1_title": false,
   "title_cell": "Table of Contents",
   "title_sidebar": "Contents",
   "toc_cell": false,
   "toc_position": {},
   "toc_section_display": true,
   "toc_window_display": false
  }
 },
 "nbformat": 4,
 "nbformat_minor": 5
}
